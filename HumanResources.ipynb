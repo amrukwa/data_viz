{
 "cells": [
  {
   "cell_type": "code",
   "execution_count": 1,
   "metadata": {},
   "outputs": [],
   "source": [
    "import pandas as pd\n",
    "import numpy as np\n",
    "import plotly.express as px\n",
    "import plotly.graph_objects as go"
   ]
  },
  {
   "cell_type": "markdown",
   "metadata": {},
   "source": [
    "# Import dataset"
   ]
  },
  {
   "cell_type": "code",
   "execution_count": 3,
   "metadata": {},
   "outputs": [
    {
     "data": {
      "text/html": [
       "<div>\n",
       "<style scoped>\n",
       "    .dataframe tbody tr th:only-of-type {\n",
       "        vertical-align: middle;\n",
       "    }\n",
       "\n",
       "    .dataframe tbody tr th {\n",
       "        vertical-align: top;\n",
       "    }\n",
       "\n",
       "    .dataframe thead th {\n",
       "        text-align: right;\n",
       "    }\n",
       "</style>\n",
       "<table border=\"1\" class=\"dataframe\">\n",
       "  <thead>\n",
       "    <tr style=\"text-align: right;\">\n",
       "      <th></th>\n",
       "      <th>Employee_Name</th>\n",
       "      <th>EmpID</th>\n",
       "      <th>MarriedID</th>\n",
       "      <th>MaritalStatusID</th>\n",
       "      <th>GenderID</th>\n",
       "      <th>EmpStatusID</th>\n",
       "      <th>DeptID</th>\n",
       "      <th>PerfScoreID</th>\n",
       "      <th>FromDiversityJobFairID</th>\n",
       "      <th>PayRate</th>\n",
       "      <th>...</th>\n",
       "      <th>Department</th>\n",
       "      <th>ManagerName</th>\n",
       "      <th>ManagerID</th>\n",
       "      <th>RecruitmentSource</th>\n",
       "      <th>PerformanceScore</th>\n",
       "      <th>EngagementSurvey</th>\n",
       "      <th>EmpSatisfaction</th>\n",
       "      <th>SpecialProjectsCount</th>\n",
       "      <th>LastPerformanceReview_Date</th>\n",
       "      <th>DaysLateLast30</th>\n",
       "    </tr>\n",
       "  </thead>\n",
       "  <tbody>\n",
       "    <tr>\n",
       "      <th>396</th>\n",
       "      <td>NaN</td>\n",
       "      <td>NaN</td>\n",
       "      <td>NaN</td>\n",
       "      <td>NaN</td>\n",
       "      <td>NaN</td>\n",
       "      <td>NaN</td>\n",
       "      <td>NaN</td>\n",
       "      <td>NaN</td>\n",
       "      <td>NaN</td>\n",
       "      <td>NaN</td>\n",
       "      <td>...</td>\n",
       "      <td>NaN</td>\n",
       "      <td>NaN</td>\n",
       "      <td>NaN</td>\n",
       "      <td>NaN</td>\n",
       "      <td>NaN</td>\n",
       "      <td>NaN</td>\n",
       "      <td>NaN</td>\n",
       "      <td>NaN</td>\n",
       "      <td>NaN</td>\n",
       "      <td>NaN</td>\n",
       "    </tr>\n",
       "    <tr>\n",
       "      <th>397</th>\n",
       "      <td>NaN</td>\n",
       "      <td>NaN</td>\n",
       "      <td>NaN</td>\n",
       "      <td>NaN</td>\n",
       "      <td>NaN</td>\n",
       "      <td>NaN</td>\n",
       "      <td>NaN</td>\n",
       "      <td>NaN</td>\n",
       "      <td>NaN</td>\n",
       "      <td>NaN</td>\n",
       "      <td>...</td>\n",
       "      <td>NaN</td>\n",
       "      <td>NaN</td>\n",
       "      <td>NaN</td>\n",
       "      <td>NaN</td>\n",
       "      <td>NaN</td>\n",
       "      <td>NaN</td>\n",
       "      <td>NaN</td>\n",
       "      <td>NaN</td>\n",
       "      <td>NaN</td>\n",
       "      <td>NaN</td>\n",
       "    </tr>\n",
       "    <tr>\n",
       "      <th>398</th>\n",
       "      <td>NaN</td>\n",
       "      <td>NaN</td>\n",
       "      <td>NaN</td>\n",
       "      <td>NaN</td>\n",
       "      <td>NaN</td>\n",
       "      <td>NaN</td>\n",
       "      <td>NaN</td>\n",
       "      <td>NaN</td>\n",
       "      <td>NaN</td>\n",
       "      <td>NaN</td>\n",
       "      <td>...</td>\n",
       "      <td>NaN</td>\n",
       "      <td>NaN</td>\n",
       "      <td>NaN</td>\n",
       "      <td>NaN</td>\n",
       "      <td>NaN</td>\n",
       "      <td>NaN</td>\n",
       "      <td>NaN</td>\n",
       "      <td>NaN</td>\n",
       "      <td>NaN</td>\n",
       "      <td>NaN</td>\n",
       "    </tr>\n",
       "    <tr>\n",
       "      <th>399</th>\n",
       "      <td>NaN</td>\n",
       "      <td>NaN</td>\n",
       "      <td>NaN</td>\n",
       "      <td>NaN</td>\n",
       "      <td>NaN</td>\n",
       "      <td>NaN</td>\n",
       "      <td>NaN</td>\n",
       "      <td>NaN</td>\n",
       "      <td>NaN</td>\n",
       "      <td>NaN</td>\n",
       "      <td>...</td>\n",
       "      <td>NaN</td>\n",
       "      <td>NaN</td>\n",
       "      <td>NaN</td>\n",
       "      <td>NaN</td>\n",
       "      <td>NaN</td>\n",
       "      <td>NaN</td>\n",
       "      <td>NaN</td>\n",
       "      <td>NaN</td>\n",
       "      <td>NaN</td>\n",
       "      <td>NaN</td>\n",
       "    </tr>\n",
       "    <tr>\n",
       "      <th>400</th>\n",
       "      <td>NaN</td>\n",
       "      <td>NaN</td>\n",
       "      <td>NaN</td>\n",
       "      <td>NaN</td>\n",
       "      <td>NaN</td>\n",
       "      <td>NaN</td>\n",
       "      <td>NaN</td>\n",
       "      <td>NaN</td>\n",
       "      <td>NaN</td>\n",
       "      <td>NaN</td>\n",
       "      <td>...</td>\n",
       "      <td>NaN</td>\n",
       "      <td>NaN</td>\n",
       "      <td>NaN</td>\n",
       "      <td>NaN</td>\n",
       "      <td>NaN</td>\n",
       "      <td>NaN</td>\n",
       "      <td>NaN</td>\n",
       "      <td>NaN</td>\n",
       "      <td>NaN</td>\n",
       "      <td>NaN</td>\n",
       "    </tr>\n",
       "  </tbody>\n",
       "</table>\n",
       "<p>5 rows × 35 columns</p>\n",
       "</div>"
      ],
      "text/plain": [
       "    Employee_Name  EmpID  MarriedID  MaritalStatusID  GenderID  EmpStatusID  \\\n",
       "396           NaN    NaN        NaN              NaN       NaN          NaN   \n",
       "397           NaN    NaN        NaN              NaN       NaN          NaN   \n",
       "398           NaN    NaN        NaN              NaN       NaN          NaN   \n",
       "399           NaN    NaN        NaN              NaN       NaN          NaN   \n",
       "400           NaN    NaN        NaN              NaN       NaN          NaN   \n",
       "\n",
       "     DeptID  PerfScoreID  FromDiversityJobFairID  PayRate  ...  Department  \\\n",
       "396     NaN          NaN                     NaN      NaN  ...         NaN   \n",
       "397     NaN          NaN                     NaN      NaN  ...         NaN   \n",
       "398     NaN          NaN                     NaN      NaN  ...         NaN   \n",
       "399     NaN          NaN                     NaN      NaN  ...         NaN   \n",
       "400     NaN          NaN                     NaN      NaN  ...         NaN   \n",
       "\n",
       "     ManagerName ManagerID RecruitmentSource  PerformanceScore  \\\n",
       "396          NaN       NaN               NaN               NaN   \n",
       "397          NaN       NaN               NaN               NaN   \n",
       "398          NaN       NaN               NaN               NaN   \n",
       "399          NaN       NaN               NaN               NaN   \n",
       "400          NaN       NaN               NaN               NaN   \n",
       "\n",
       "    EngagementSurvey EmpSatisfaction SpecialProjectsCount  \\\n",
       "396              NaN             NaN                  NaN   \n",
       "397              NaN             NaN                  NaN   \n",
       "398              NaN             NaN                  NaN   \n",
       "399              NaN             NaN                  NaN   \n",
       "400              NaN             NaN                  NaN   \n",
       "\n",
       "    LastPerformanceReview_Date DaysLateLast30  \n",
       "396                        NaN            NaN  \n",
       "397                        NaN            NaN  \n",
       "398                        NaN            NaN  \n",
       "399                        NaN            NaN  \n",
       "400                        NaN            NaN  \n",
       "\n",
       "[5 rows x 35 columns]"
      ]
     },
     "execution_count": 3,
     "metadata": {},
     "output_type": "execute_result"
    }
   ],
   "source": [
    "file = open('hr.csv')\n",
    "hr = pd.read_csv('hr.csv')\n",
    "file.close()\n",
    "hr.tail()"
   ]
  },
  {
   "cell_type": "markdown",
   "metadata": {},
   "source": [
    "As we can see, the last rows are empty. They need to be dropped."
   ]
  },
  {
   "cell_type": "code",
   "execution_count": 4,
   "metadata": {},
   "outputs": [
    {
     "data": {
      "text/html": [
       "<div>\n",
       "<style scoped>\n",
       "    .dataframe tbody tr th:only-of-type {\n",
       "        vertical-align: middle;\n",
       "    }\n",
       "\n",
       "    .dataframe tbody tr th {\n",
       "        vertical-align: top;\n",
       "    }\n",
       "\n",
       "    .dataframe thead th {\n",
       "        text-align: right;\n",
       "    }\n",
       "</style>\n",
       "<table border=\"1\" class=\"dataframe\">\n",
       "  <thead>\n",
       "    <tr style=\"text-align: right;\">\n",
       "      <th></th>\n",
       "      <th>Employee_Name</th>\n",
       "      <th>EmpID</th>\n",
       "      <th>MarriedID</th>\n",
       "      <th>MaritalStatusID</th>\n",
       "      <th>GenderID</th>\n",
       "      <th>EmpStatusID</th>\n",
       "      <th>DeptID</th>\n",
       "      <th>PerfScoreID</th>\n",
       "      <th>FromDiversityJobFairID</th>\n",
       "      <th>PayRate</th>\n",
       "      <th>...</th>\n",
       "      <th>Department</th>\n",
       "      <th>ManagerName</th>\n",
       "      <th>ManagerID</th>\n",
       "      <th>RecruitmentSource</th>\n",
       "      <th>PerformanceScore</th>\n",
       "      <th>EngagementSurvey</th>\n",
       "      <th>EmpSatisfaction</th>\n",
       "      <th>SpecialProjectsCount</th>\n",
       "      <th>LastPerformanceReview_Date</th>\n",
       "      <th>DaysLateLast30</th>\n",
       "    </tr>\n",
       "  </thead>\n",
       "  <tbody>\n",
       "    <tr>\n",
       "      <th>305</th>\n",
       "      <td>Daniele, Ann</td>\n",
       "      <td>1.411071e+09</td>\n",
       "      <td>1.0</td>\n",
       "      <td>1.0</td>\n",
       "      <td>0.0</td>\n",
       "      <td>3.0</td>\n",
       "      <td>3.0</td>\n",
       "      <td>3.0</td>\n",
       "      <td>0.0</td>\n",
       "      <td>54.1</td>\n",
       "      <td>...</td>\n",
       "      <td>IT/IS</td>\n",
       "      <td>Peter Monroe</td>\n",
       "      <td>7.0</td>\n",
       "      <td>Vendor Referral</td>\n",
       "      <td>Fully Meets</td>\n",
       "      <td>1.55</td>\n",
       "      <td>5.0</td>\n",
       "      <td>8.0</td>\n",
       "      <td>2/12/2019</td>\n",
       "      <td>0.0</td>\n",
       "    </tr>\n",
       "    <tr>\n",
       "      <th>306</th>\n",
       "      <td>Lajiri,  Jyoti</td>\n",
       "      <td>1.108028e+09</td>\n",
       "      <td>1.0</td>\n",
       "      <td>1.0</td>\n",
       "      <td>1.0</td>\n",
       "      <td>3.0</td>\n",
       "      <td>3.0</td>\n",
       "      <td>3.0</td>\n",
       "      <td>0.0</td>\n",
       "      <td>56.2</td>\n",
       "      <td>...</td>\n",
       "      <td>IT/IS</td>\n",
       "      <td>Peter Monroe</td>\n",
       "      <td>7.0</td>\n",
       "      <td>Employee Referral</td>\n",
       "      <td>Fully Meets</td>\n",
       "      <td>4.46</td>\n",
       "      <td>5.0</td>\n",
       "      <td>6.0</td>\n",
       "      <td>1/7/2019</td>\n",
       "      <td>0.0</td>\n",
       "    </tr>\n",
       "    <tr>\n",
       "      <th>307</th>\n",
       "      <td>Semizoglou, Jeremiah</td>\n",
       "      <td>9.040136e+08</td>\n",
       "      <td>1.0</td>\n",
       "      <td>1.0</td>\n",
       "      <td>1.0</td>\n",
       "      <td>2.0</td>\n",
       "      <td>3.0</td>\n",
       "      <td>3.0</td>\n",
       "      <td>0.0</td>\n",
       "      <td>53.8</td>\n",
       "      <td>...</td>\n",
       "      <td>IT/IS</td>\n",
       "      <td>Peter Monroe</td>\n",
       "      <td>7.0</td>\n",
       "      <td>On-campus Recruiting</td>\n",
       "      <td>Fully Meets</td>\n",
       "      <td>3.27</td>\n",
       "      <td>4.0</td>\n",
       "      <td>5.0</td>\n",
       "      <td>1/14/2019</td>\n",
       "      <td>0.0</td>\n",
       "    </tr>\n",
       "    <tr>\n",
       "      <th>308</th>\n",
       "      <td>South, Joe</td>\n",
       "      <td>1.308061e+09</td>\n",
       "      <td>0.0</td>\n",
       "      <td>0.0</td>\n",
       "      <td>1.0</td>\n",
       "      <td>1.0</td>\n",
       "      <td>3.0</td>\n",
       "      <td>3.0</td>\n",
       "      <td>0.0</td>\n",
       "      <td>53.0</td>\n",
       "      <td>...</td>\n",
       "      <td>IT/IS</td>\n",
       "      <td>Peter Monroe</td>\n",
       "      <td>7.0</td>\n",
       "      <td>Employee Referral</td>\n",
       "      <td>Fully Meets</td>\n",
       "      <td>5.00</td>\n",
       "      <td>3.0</td>\n",
       "      <td>4.0</td>\n",
       "      <td>1/2/2019</td>\n",
       "      <td>0.0</td>\n",
       "    </tr>\n",
       "    <tr>\n",
       "      <th>309</th>\n",
       "      <td>Warfield, Sarah</td>\n",
       "      <td>1.301052e+09</td>\n",
       "      <td>0.0</td>\n",
       "      <td>4.0</td>\n",
       "      <td>0.0</td>\n",
       "      <td>1.0</td>\n",
       "      <td>3.0</td>\n",
       "      <td>3.0</td>\n",
       "      <td>0.0</td>\n",
       "      <td>55.2</td>\n",
       "      <td>...</td>\n",
       "      <td>IT/IS</td>\n",
       "      <td>Peter Monroe</td>\n",
       "      <td>7.0</td>\n",
       "      <td>Employee Referral</td>\n",
       "      <td>Fully Meets</td>\n",
       "      <td>1.06</td>\n",
       "      <td>4.0</td>\n",
       "      <td>8.0</td>\n",
       "      <td>2/5/2019</td>\n",
       "      <td>0.0</td>\n",
       "    </tr>\n",
       "  </tbody>\n",
       "</table>\n",
       "<p>5 rows × 35 columns</p>\n",
       "</div>"
      ],
      "text/plain": [
       "              Employee_Name         EmpID  MarriedID  MaritalStatusID  \\\n",
       "305          Daniele, Ann    1.411071e+09        1.0              1.0   \n",
       "306          Lajiri,  Jyoti  1.108028e+09        1.0              1.0   \n",
       "307  Semizoglou, Jeremiah    9.040136e+08        1.0              1.0   \n",
       "308              South, Joe  1.308061e+09        0.0              0.0   \n",
       "309         Warfield, Sarah  1.301052e+09        0.0              4.0   \n",
       "\n",
       "     GenderID  EmpStatusID  DeptID  PerfScoreID  FromDiversityJobFairID  \\\n",
       "305       0.0          3.0     3.0          3.0                     0.0   \n",
       "306       1.0          3.0     3.0          3.0                     0.0   \n",
       "307       1.0          2.0     3.0          3.0                     0.0   \n",
       "308       1.0          1.0     3.0          3.0                     0.0   \n",
       "309       0.0          1.0     3.0          3.0                     0.0   \n",
       "\n",
       "     PayRate  ...  Department   ManagerName ManagerID     RecruitmentSource  \\\n",
       "305     54.1  ...       IT/IS  Peter Monroe       7.0       Vendor Referral   \n",
       "306     56.2  ...       IT/IS  Peter Monroe       7.0     Employee Referral   \n",
       "307     53.8  ...       IT/IS  Peter Monroe       7.0  On-campus Recruiting   \n",
       "308     53.0  ...       IT/IS  Peter Monroe       7.0     Employee Referral   \n",
       "309     55.2  ...       IT/IS  Peter Monroe       7.0     Employee Referral   \n",
       "\n",
       "     PerformanceScore EngagementSurvey EmpSatisfaction SpecialProjectsCount  \\\n",
       "305       Fully Meets             1.55             5.0                  8.0   \n",
       "306       Fully Meets             4.46             5.0                  6.0   \n",
       "307       Fully Meets             3.27             4.0                  5.0   \n",
       "308       Fully Meets             5.00             3.0                  4.0   \n",
       "309       Fully Meets             1.06             4.0                  8.0   \n",
       "\n",
       "    LastPerformanceReview_Date DaysLateLast30  \n",
       "305                  2/12/2019            0.0  \n",
       "306                   1/7/2019            0.0  \n",
       "307                  1/14/2019            0.0  \n",
       "308                   1/2/2019            0.0  \n",
       "309                   2/5/2019            0.0  \n",
       "\n",
       "[5 rows x 35 columns]"
      ]
     },
     "execution_count": 4,
     "metadata": {},
     "output_type": "execute_result"
    }
   ],
   "source": [
    "hr.dropna(axis='index', how=\"all\", inplace=True)\n",
    "hr.tail()"
   ]
  },
  {
   "cell_type": "markdown",
   "metadata": {},
   "source": [
    "I discretize the pay rate."
   ]
  },
  {
   "cell_type": "code",
   "execution_count": 5,
   "metadata": {},
   "outputs": [],
   "source": [
    "pay_rate =[\"0-15\", \"15-30\", \"30-45\", \"45-60\", \"60-75\", \"75-90\"]"
   ]
  },
  {
   "cell_type": "code",
   "execution_count": 6,
   "metadata": {
    "code_folding": [
     0
    ]
   },
   "outputs": [],
   "source": [
    "def discretize(i):\n",
    "  val = pay_rate[5]\n",
    "  for j in range(6):\n",
    "    if i < 15*(j+1):\n",
    "      val = pay_rate[j]\n",
    "      break\n",
    "  return val"
   ]
  },
  {
   "cell_type": "code",
   "execution_count": 7,
   "metadata": {
    "code_folding": [
     1
    ]
   },
   "outputs": [
    {
     "name": "stdout",
     "output_type": "stream",
     "text": [
      "     PayRate    pay\n",
      "305     54.1  45-60\n",
      "306     56.2  45-60\n",
      "307     53.8  45-60\n",
      "308     53.0  45-60\n",
      "309     55.2  45-60\n"
     ]
    }
   ],
   "source": [
    "l = []\n",
    "for i in hr.PayRate:\n",
    "  l.append(discretize(i))\n",
    "hr[\"pay\"] = l\n",
    "print(hr[[\"PayRate\", \"pay\"]].tail())"
   ]
  },
  {
   "cell_type": "markdown",
   "metadata": {},
   "source": [
    "Merge the less frequent races."
   ]
  },
  {
   "cell_type": "code",
   "execution_count": 8,
   "metadata": {
    "code_folding": [
     0
    ]
   },
   "outputs": [],
   "source": [
    "def cat_race(i):\n",
    "  if i == \"White\" or i ==\"Asian\" or i== \"Black or African American\":\n",
    "    return i\n",
    "  else:\n",
    "    return \"other\""
   ]
  },
  {
   "cell_type": "code",
   "execution_count": 9,
   "metadata": {
    "code_folding": [
     1
    ]
   },
   "outputs": [
    {
     "name": "stdout",
     "output_type": "stream",
     "text": [
      "                           RaceDesc                       race\n",
      "0         Black or African American  Black or African American\n",
      "1         Black or African American  Black or African American\n",
      "2                             White                      White\n",
      "3                             White                      White\n",
      "4                             White                      White\n",
      "5                             Asian                      Asian\n",
      "6         Black or African American  Black or African American\n",
      "7                             White                      White\n",
      "8                             White                      White\n",
      "9  American Indian or Alaska Native                      other\n"
     ]
    }
   ],
   "source": [
    "l = []\n",
    "for i in hr.RaceDesc:\n",
    "  l.append(cat_race(i))\n",
    "hr[\"race\"] = l\n",
    "print(hr[[\"RaceDesc\", \"race\"]].head(10))"
   ]
  },
  {
   "cell_type": "markdown",
   "metadata": {},
   "source": [
    "And change the names to the uniform format."
   ]
  },
  {
   "cell_type": "code",
   "execution_count": 10,
   "metadata": {
    "code_folding": [
     0
    ]
   },
   "outputs": [],
   "source": [
    "def strip(i):\n",
    "  d = i.rstrip()\n",
    "  full = d.split(\",\")\n",
    "  if len(full)==1:\n",
    "    fin = d\n",
    "  elif len(full)==2:\n",
    "    sur = full[1] + \" \" + full[0]\n",
    "    fin = sur.strip()\n",
    "  if fin == \"Brandon  R LeBlanc\":\n",
    "    fin = \"Brandon R. LeBlanc\"\n",
    "  elif fin == \"Webster  L Butler\":\n",
    "    fin = \"Webster Butler\"\n",
    "  return fin"
   ]
  },
  {
   "cell_type": "code",
   "execution_count": 11,
   "metadata": {
    "code_folding": [
     1
    ]
   },
   "outputs": [
    {
     "name": "stdout",
     "output_type": "stream",
     "text": [
      "          Employee_Name           imp_Name\n",
      "0            Brown, Mia          Mia Brown\n",
      "1  LaRotonda, William    William LaRotonda\n",
      "2      Steans, Tyrone        Tyrone Steans\n",
      "3       Howard, Estelle     Estelle Howard\n",
      "4           Singh, Nan           Nan Singh\n"
     ]
    }
   ],
   "source": [
    "c = []\n",
    "for i in hr.Employee_Name:\n",
    "  c.append(strip(i))\n",
    "hr[\"imp_Name\"] = c\n",
    "print(hr[[\"Employee_Name\", \"imp_Name\"]].head())"
   ]
  },
  {
   "cell_type": "code",
   "execution_count": 12,
   "metadata": {},
   "outputs": [],
   "source": [
    "hr['Department'] = hr['Department'].str.strip()"
   ]
  },
  {
   "cell_type": "markdown",
   "metadata": {},
   "source": [
    "## Add palettes"
   ]
  },
  {
   "cell_type": "code",
   "execution_count": 2,
   "metadata": {
    "code_folding": [
     2
    ]
   },
   "outputs": [],
   "source": [
    "palette_2 = ['#1A82FF', '#FF9E06']\n",
    "palette_4 = ['#007929', '#024E68', '#A65500', '#A61A00']\n",
    "my_palette = ['#00BB3F',\t'#238C47',\t'#007929',\t'#37DD6F',\t'#63DD8D',\n",
    "              '#06799F',\t'#216278',\t'#024E68',\t'#3AAACF',\t'#61B4CF',\n",
    "              '#FF8300',\t'#BF7930',\t'#A65500',\t'#FFA240',\t'#FFBB73',\n",
    "              '#FF2800',\t'#BF4630',\t'#A61A00',\t'#FF5D40',\t'#FF8973']"
   ]
  },
  {
   "cell_type": "code",
   "execution_count": 35,
   "metadata": {
    "code_folding": [
     2,
     8,
     14
    ]
   },
   "outputs": [],
   "source": [
    "import webcolors\n",
    "\n",
    "def to_hex(t):\n",
    "  a = '#'\n",
    "  for y in t:\n",
    "    a +='%02x' % y\n",
    "  return a\n",
    "\n",
    "def opacity_conv(palette, alpha):\n",
    "  weaker = [webcolors.hex_to_rgb(h) for h in palette]\n",
    "  weaker = [make_rgb_transparent(h, alpha) for h in weaker]\n",
    "  weaker = [to_hex(h) for h in weaker]\n",
    "  return weaker\n",
    "\n",
    "def make_rgb_transparent(rgb, alpha):\n",
    "  return tuple(int(alpha * c1 + (1 - alpha) * c2) for (c1, c2) in zip(rgb, (255,255,255)))"
   ]
  },
  {
   "cell_type": "markdown",
   "metadata": {},
   "source": [
    "# Histograms and density plots"
   ]
  },
  {
   "cell_type": "code",
   "execution_count": 13,
   "metadata": {},
   "outputs": [],
   "source": [
    "from plotly.subplots import make_subplots\n",
    "import seaborn as sns\n",
    "import matplotlib.pyplot as plt"
   ]
  },
  {
   "cell_type": "code",
   "execution_count": 14,
   "metadata": {
    "code_folding": [
     0
    ]
   },
   "outputs": [],
   "source": [
    "def density(df, col, value_name, group_labels):\n",
    "  plt.figure(figsize=(10,5))\n",
    "  j = 0\n",
    "  for i in df[col].unique(): \n",
    "    x = df[df[col].isin([i])][value_name]\n",
    "    sns.kdeplot(x, shade=True, label=group_labels[j])\n",
    "    j += 1\n",
    "  plt.legend()"
   ]
  },
  {
   "cell_type": "code",
   "execution_count": 22,
   "metadata": {
    "code_folding": [
     0
    ]
   },
   "outputs": [],
   "source": [
    "def hist(df, col, value_name, title, palette):\n",
    "  fig = make_subplots(rows=len(df[col].unique()), cols=1, shared_xaxes=True, \n",
    "                    vertical_spacing=0.1)\n",
    "  j = 0\n",
    "  for i in df[col].unique(): \n",
    "    j += 1\n",
    "    x = df[df[col].isin([i])][value_name]\n",
    "    n = len(x)\n",
    "    fig.append_trace(go.Histogram(x=x,\n",
    "             name=i + \": \"+ str(n),\n",
    "             histnorm='probability',\n",
    "             marker = dict(color=palette[j-1]),\n",
    "             ), \n",
    "             row=j, col=1)\n",
    "    fig.update_layout(title=\"Plot Title\")\n",
    "    fig.update_yaxes(title_text=\"occurences\", row=j, col=1)\n",
    "    fig.update_xaxes(title_text=value_name, row=j, col=1)\n",
    "  fig.update_layout(height=600, width=600, title_text=title)\n",
    "  return fig"
   ]
  },
  {
   "cell_type": "markdown",
   "metadata": {},
   "source": [
    "After that I plotted histograms and density plots for the two numeric values in the set: Engagement Survey and Pay Rate. I decided to take a look at their versions for the gender differences. After that, I made only histograms for the races. As I also created box and violin plots for the same data, I will place them here as well for better comparison."
   ]
  },
  {
   "cell_type": "markdown",
   "metadata": {},
   "source": [
    "## Gender and pay rates"
   ]
  },
  {
   "cell_type": "code",
   "execution_count": 23,
   "metadata": {
    "collapsed": true
   },
   "outputs": [
    {
     "data": {
      "application/vnd.plotly.v1+json": {
       "config": {
        "plotlyServerURL": "https://plot.ly"
       },
       "data": [
        {
         "histnorm": "probability",
         "marker": {
          "color": "#1A82FF"
         },
         "name": "F: 177",
         "type": "histogram",
         "x": [
          28.5,
          21.5,
          16.56,
          20.5,
          55,
          55,
          55,
          55,
          54,
          55,
          55,
          55,
          55,
          57,
          55,
          55,
          45,
          65,
          55,
          43,
          48.5,
          34,
          40,
          42.75,
          39.55,
          31.4,
          60,
          60,
          31.4,
          26,
          27.49,
          37,
          39,
          27,
          47,
          80,
          51,
          55,
          38.5,
          52,
          55,
          33.5,
          23,
          21,
          16,
          20,
          24,
          22,
          15,
          20,
          22,
          16,
          22,
          24,
          16,
          23,
          15,
          16,
          24,
          22,
          17,
          20,
          16.75,
          20,
          20,
          19,
          17,
          21,
          22,
          15,
          21,
          22,
          19.5,
          15,
          18,
          22,
          21,
          20,
          15,
          18,
          21,
          14,
          15,
          15.75,
          24,
          14,
          19,
          14,
          20,
          21,
          22,
          22,
          23,
          17,
          17,
          17,
          16,
          24.5,
          20,
          16,
          20,
          17,
          24,
          21,
          19,
          24,
          18.5,
          19,
          16,
          14,
          16,
          19.75,
          19,
          24,
          15.25,
          20,
          20,
          16,
          20,
          19.75,
          22,
          19,
          22,
          15.2,
          15,
          25,
          23,
          23,
          28,
          22,
          25,
          25,
          26,
          24.25,
          22,
          26,
          22,
          26,
          27,
          25,
          26.1,
          26.39,
          28.75,
          27,
          29,
          24,
          24,
          22.5,
          26,
          29,
          29,
          27,
          25,
          27,
          24,
          28,
          24,
          23,
          24,
          28,
          23,
          25,
          54,
          60.25,
          50.25,
          47.6,
          56,
          57.12,
          48.5,
          55.51,
          49.25,
          34.95,
          34.95,
          61.3,
          58.5,
          54.1,
          55.2
         ],
         "xaxis": "x",
         "yaxis": "y"
        },
        {
         "histnorm": "probability",
         "marker": {
          "color": "#FF9E06"
         },
         "name": "M : 133",
         "type": "histogram",
         "x": [
          23,
          29,
          56,
          55.5,
          55.5,
          55,
          55,
          55,
          55,
          56,
          55,
          55,
          56,
          55,
          56,
          55,
          55,
          46,
          45,
          45,
          63.5,
          40.1,
          35.5,
          41,
          42.2,
          45,
          30.2,
          65,
          62,
          21,
          63,
          64,
          28.99,
          45,
          42,
          43,
          28,
          49.1,
          54.5,
          50.5,
          55,
          54,
          48.5,
          42,
          53,
          53,
          16,
          20,
          18,
          15,
          22,
          24,
          21,
          24.75,
          16,
          21,
          18,
          17,
          15,
          19,
          15,
          17,
          17,
          21,
          20,
          16.76,
          20,
          21.25,
          21,
          15,
          16,
          16,
          22,
          22,
          21,
          19,
          14,
          21,
          22,
          15,
          18,
          18,
          19,
          20,
          18,
          17,
          17,
          19,
          22,
          21,
          21,
          19,
          17,
          22,
          23.5,
          15,
          18,
          24,
          23,
          29,
          29,
          25,
          29,
          26,
          27,
          22,
          24,
          22,
          26,
          29,
          26,
          22,
          25,
          28,
          22,
          24.25,
          29,
          22,
          23,
          56,
          52.25,
          51,
          55,
          55,
          52.25,
          48,
          45.42,
          27,
          62,
          58.2,
          56.2,
          53.8,
          53
         ],
         "xaxis": "x2",
         "yaxis": "y2"
        }
       ],
       "layout": {
        "height": 600,
        "template": {
         "data": {
          "bar": [
           {
            "error_x": {
             "color": "#2a3f5f"
            },
            "error_y": {
             "color": "#2a3f5f"
            },
            "marker": {
             "line": {
              "color": "#E5ECF6",
              "width": 0.5
             }
            },
            "type": "bar"
           }
          ],
          "barpolar": [
           {
            "marker": {
             "line": {
              "color": "#E5ECF6",
              "width": 0.5
             }
            },
            "type": "barpolar"
           }
          ],
          "carpet": [
           {
            "aaxis": {
             "endlinecolor": "#2a3f5f",
             "gridcolor": "white",
             "linecolor": "white",
             "minorgridcolor": "white",
             "startlinecolor": "#2a3f5f"
            },
            "baxis": {
             "endlinecolor": "#2a3f5f",
             "gridcolor": "white",
             "linecolor": "white",
             "minorgridcolor": "white",
             "startlinecolor": "#2a3f5f"
            },
            "type": "carpet"
           }
          ],
          "choropleth": [
           {
            "colorbar": {
             "outlinewidth": 0,
             "ticks": ""
            },
            "type": "choropleth"
           }
          ],
          "contour": [
           {
            "colorbar": {
             "outlinewidth": 0,
             "ticks": ""
            },
            "colorscale": [
             [
              0,
              "#0d0887"
             ],
             [
              0.1111111111111111,
              "#46039f"
             ],
             [
              0.2222222222222222,
              "#7201a8"
             ],
             [
              0.3333333333333333,
              "#9c179e"
             ],
             [
              0.4444444444444444,
              "#bd3786"
             ],
             [
              0.5555555555555556,
              "#d8576b"
             ],
             [
              0.6666666666666666,
              "#ed7953"
             ],
             [
              0.7777777777777778,
              "#fb9f3a"
             ],
             [
              0.8888888888888888,
              "#fdca26"
             ],
             [
              1,
              "#f0f921"
             ]
            ],
            "type": "contour"
           }
          ],
          "contourcarpet": [
           {
            "colorbar": {
             "outlinewidth": 0,
             "ticks": ""
            },
            "type": "contourcarpet"
           }
          ],
          "heatmap": [
           {
            "colorbar": {
             "outlinewidth": 0,
             "ticks": ""
            },
            "colorscale": [
             [
              0,
              "#0d0887"
             ],
             [
              0.1111111111111111,
              "#46039f"
             ],
             [
              0.2222222222222222,
              "#7201a8"
             ],
             [
              0.3333333333333333,
              "#9c179e"
             ],
             [
              0.4444444444444444,
              "#bd3786"
             ],
             [
              0.5555555555555556,
              "#d8576b"
             ],
             [
              0.6666666666666666,
              "#ed7953"
             ],
             [
              0.7777777777777778,
              "#fb9f3a"
             ],
             [
              0.8888888888888888,
              "#fdca26"
             ],
             [
              1,
              "#f0f921"
             ]
            ],
            "type": "heatmap"
           }
          ],
          "heatmapgl": [
           {
            "colorbar": {
             "outlinewidth": 0,
             "ticks": ""
            },
            "colorscale": [
             [
              0,
              "#0d0887"
             ],
             [
              0.1111111111111111,
              "#46039f"
             ],
             [
              0.2222222222222222,
              "#7201a8"
             ],
             [
              0.3333333333333333,
              "#9c179e"
             ],
             [
              0.4444444444444444,
              "#bd3786"
             ],
             [
              0.5555555555555556,
              "#d8576b"
             ],
             [
              0.6666666666666666,
              "#ed7953"
             ],
             [
              0.7777777777777778,
              "#fb9f3a"
             ],
             [
              0.8888888888888888,
              "#fdca26"
             ],
             [
              1,
              "#f0f921"
             ]
            ],
            "type": "heatmapgl"
           }
          ],
          "histogram": [
           {
            "marker": {
             "colorbar": {
              "outlinewidth": 0,
              "ticks": ""
             }
            },
            "type": "histogram"
           }
          ],
          "histogram2d": [
           {
            "colorbar": {
             "outlinewidth": 0,
             "ticks": ""
            },
            "colorscale": [
             [
              0,
              "#0d0887"
             ],
             [
              0.1111111111111111,
              "#46039f"
             ],
             [
              0.2222222222222222,
              "#7201a8"
             ],
             [
              0.3333333333333333,
              "#9c179e"
             ],
             [
              0.4444444444444444,
              "#bd3786"
             ],
             [
              0.5555555555555556,
              "#d8576b"
             ],
             [
              0.6666666666666666,
              "#ed7953"
             ],
             [
              0.7777777777777778,
              "#fb9f3a"
             ],
             [
              0.8888888888888888,
              "#fdca26"
             ],
             [
              1,
              "#f0f921"
             ]
            ],
            "type": "histogram2d"
           }
          ],
          "histogram2dcontour": [
           {
            "colorbar": {
             "outlinewidth": 0,
             "ticks": ""
            },
            "colorscale": [
             [
              0,
              "#0d0887"
             ],
             [
              0.1111111111111111,
              "#46039f"
             ],
             [
              0.2222222222222222,
              "#7201a8"
             ],
             [
              0.3333333333333333,
              "#9c179e"
             ],
             [
              0.4444444444444444,
              "#bd3786"
             ],
             [
              0.5555555555555556,
              "#d8576b"
             ],
             [
              0.6666666666666666,
              "#ed7953"
             ],
             [
              0.7777777777777778,
              "#fb9f3a"
             ],
             [
              0.8888888888888888,
              "#fdca26"
             ],
             [
              1,
              "#f0f921"
             ]
            ],
            "type": "histogram2dcontour"
           }
          ],
          "mesh3d": [
           {
            "colorbar": {
             "outlinewidth": 0,
             "ticks": ""
            },
            "type": "mesh3d"
           }
          ],
          "parcoords": [
           {
            "line": {
             "colorbar": {
              "outlinewidth": 0,
              "ticks": ""
             }
            },
            "type": "parcoords"
           }
          ],
          "pie": [
           {
            "automargin": true,
            "type": "pie"
           }
          ],
          "scatter": [
           {
            "marker": {
             "colorbar": {
              "outlinewidth": 0,
              "ticks": ""
             }
            },
            "type": "scatter"
           }
          ],
          "scatter3d": [
           {
            "line": {
             "colorbar": {
              "outlinewidth": 0,
              "ticks": ""
             }
            },
            "marker": {
             "colorbar": {
              "outlinewidth": 0,
              "ticks": ""
             }
            },
            "type": "scatter3d"
           }
          ],
          "scattercarpet": [
           {
            "marker": {
             "colorbar": {
              "outlinewidth": 0,
              "ticks": ""
             }
            },
            "type": "scattercarpet"
           }
          ],
          "scattergeo": [
           {
            "marker": {
             "colorbar": {
              "outlinewidth": 0,
              "ticks": ""
             }
            },
            "type": "scattergeo"
           }
          ],
          "scattergl": [
           {
            "marker": {
             "colorbar": {
              "outlinewidth": 0,
              "ticks": ""
             }
            },
            "type": "scattergl"
           }
          ],
          "scattermapbox": [
           {
            "marker": {
             "colorbar": {
              "outlinewidth": 0,
              "ticks": ""
             }
            },
            "type": "scattermapbox"
           }
          ],
          "scatterpolar": [
           {
            "marker": {
             "colorbar": {
              "outlinewidth": 0,
              "ticks": ""
             }
            },
            "type": "scatterpolar"
           }
          ],
          "scatterpolargl": [
           {
            "marker": {
             "colorbar": {
              "outlinewidth": 0,
              "ticks": ""
             }
            },
            "type": "scatterpolargl"
           }
          ],
          "scatterternary": [
           {
            "marker": {
             "colorbar": {
              "outlinewidth": 0,
              "ticks": ""
             }
            },
            "type": "scatterternary"
           }
          ],
          "surface": [
           {
            "colorbar": {
             "outlinewidth": 0,
             "ticks": ""
            },
            "colorscale": [
             [
              0,
              "#0d0887"
             ],
             [
              0.1111111111111111,
              "#46039f"
             ],
             [
              0.2222222222222222,
              "#7201a8"
             ],
             [
              0.3333333333333333,
              "#9c179e"
             ],
             [
              0.4444444444444444,
              "#bd3786"
             ],
             [
              0.5555555555555556,
              "#d8576b"
             ],
             [
              0.6666666666666666,
              "#ed7953"
             ],
             [
              0.7777777777777778,
              "#fb9f3a"
             ],
             [
              0.8888888888888888,
              "#fdca26"
             ],
             [
              1,
              "#f0f921"
             ]
            ],
            "type": "surface"
           }
          ],
          "table": [
           {
            "cells": {
             "fill": {
              "color": "#EBF0F8"
             },
             "line": {
              "color": "white"
             }
            },
            "header": {
             "fill": {
              "color": "#C8D4E3"
             },
             "line": {
              "color": "white"
             }
            },
            "type": "table"
           }
          ]
         },
         "layout": {
          "annotationdefaults": {
           "arrowcolor": "#2a3f5f",
           "arrowhead": 0,
           "arrowwidth": 1
          },
          "coloraxis": {
           "colorbar": {
            "outlinewidth": 0,
            "ticks": ""
           }
          },
          "colorscale": {
           "diverging": [
            [
             0,
             "#8e0152"
            ],
            [
             0.1,
             "#c51b7d"
            ],
            [
             0.2,
             "#de77ae"
            ],
            [
             0.3,
             "#f1b6da"
            ],
            [
             0.4,
             "#fde0ef"
            ],
            [
             0.5,
             "#f7f7f7"
            ],
            [
             0.6,
             "#e6f5d0"
            ],
            [
             0.7,
             "#b8e186"
            ],
            [
             0.8,
             "#7fbc41"
            ],
            [
             0.9,
             "#4d9221"
            ],
            [
             1,
             "#276419"
            ]
           ],
           "sequential": [
            [
             0,
             "#0d0887"
            ],
            [
             0.1111111111111111,
             "#46039f"
            ],
            [
             0.2222222222222222,
             "#7201a8"
            ],
            [
             0.3333333333333333,
             "#9c179e"
            ],
            [
             0.4444444444444444,
             "#bd3786"
            ],
            [
             0.5555555555555556,
             "#d8576b"
            ],
            [
             0.6666666666666666,
             "#ed7953"
            ],
            [
             0.7777777777777778,
             "#fb9f3a"
            ],
            [
             0.8888888888888888,
             "#fdca26"
            ],
            [
             1,
             "#f0f921"
            ]
           ],
           "sequentialminus": [
            [
             0,
             "#0d0887"
            ],
            [
             0.1111111111111111,
             "#46039f"
            ],
            [
             0.2222222222222222,
             "#7201a8"
            ],
            [
             0.3333333333333333,
             "#9c179e"
            ],
            [
             0.4444444444444444,
             "#bd3786"
            ],
            [
             0.5555555555555556,
             "#d8576b"
            ],
            [
             0.6666666666666666,
             "#ed7953"
            ],
            [
             0.7777777777777778,
             "#fb9f3a"
            ],
            [
             0.8888888888888888,
             "#fdca26"
            ],
            [
             1,
             "#f0f921"
            ]
           ]
          },
          "colorway": [
           "#636efa",
           "#EF553B",
           "#00cc96",
           "#ab63fa",
           "#FFA15A",
           "#19d3f3",
           "#FF6692",
           "#B6E880",
           "#FF97FF",
           "#FECB52"
          ],
          "font": {
           "color": "#2a3f5f"
          },
          "geo": {
           "bgcolor": "white",
           "lakecolor": "white",
           "landcolor": "#E5ECF6",
           "showlakes": true,
           "showland": true,
           "subunitcolor": "white"
          },
          "hoverlabel": {
           "align": "left"
          },
          "hovermode": "closest",
          "mapbox": {
           "style": "light"
          },
          "paper_bgcolor": "white",
          "plot_bgcolor": "#E5ECF6",
          "polar": {
           "angularaxis": {
            "gridcolor": "white",
            "linecolor": "white",
            "ticks": ""
           },
           "bgcolor": "#E5ECF6",
           "radialaxis": {
            "gridcolor": "white",
            "linecolor": "white",
            "ticks": ""
           }
          },
          "scene": {
           "xaxis": {
            "backgroundcolor": "#E5ECF6",
            "gridcolor": "white",
            "gridwidth": 2,
            "linecolor": "white",
            "showbackground": true,
            "ticks": "",
            "zerolinecolor": "white"
           },
           "yaxis": {
            "backgroundcolor": "#E5ECF6",
            "gridcolor": "white",
            "gridwidth": 2,
            "linecolor": "white",
            "showbackground": true,
            "ticks": "",
            "zerolinecolor": "white"
           },
           "zaxis": {
            "backgroundcolor": "#E5ECF6",
            "gridcolor": "white",
            "gridwidth": 2,
            "linecolor": "white",
            "showbackground": true,
            "ticks": "",
            "zerolinecolor": "white"
           }
          },
          "shapedefaults": {
           "line": {
            "color": "#2a3f5f"
           }
          },
          "ternary": {
           "aaxis": {
            "gridcolor": "white",
            "linecolor": "white",
            "ticks": ""
           },
           "baxis": {
            "gridcolor": "white",
            "linecolor": "white",
            "ticks": ""
           },
           "bgcolor": "#E5ECF6",
           "caxis": {
            "gridcolor": "white",
            "linecolor": "white",
            "ticks": ""
           }
          },
          "title": {
           "x": 0.05
          },
          "xaxis": {
           "automargin": true,
           "gridcolor": "white",
           "linecolor": "white",
           "ticks": "",
           "title": {
            "standoff": 15
           },
           "zerolinecolor": "white",
           "zerolinewidth": 2
          },
          "yaxis": {
           "automargin": true,
           "gridcolor": "white",
           "linecolor": "white",
           "ticks": "",
           "title": {
            "standoff": 15
           },
           "zerolinecolor": "white",
           "zerolinewidth": 2
          }
         }
        },
        "title": {
         "text": "Pay rate for genders"
        },
        "width": 600,
        "xaxis": {
         "anchor": "y",
         "domain": [
          0,
          1
         ],
         "matches": "x2",
         "showticklabels": false,
         "title": {
          "text": "PayRate"
         }
        },
        "xaxis2": {
         "anchor": "y2",
         "domain": [
          0,
          1
         ],
         "title": {
          "text": "PayRate"
         }
        },
        "yaxis": {
         "anchor": "x",
         "domain": [
          0.55,
          1
         ],
         "title": {
          "text": "occurences"
         }
        },
        "yaxis2": {
         "anchor": "x2",
         "domain": [
          0,
          0.45
         ],
         "title": {
          "text": "occurences"
         }
        }
       }
      },
      "text/html": [
       "<div>\n",
       "        \n",
       "        \n",
       "            <div id=\"d77d4f34-4a7b-4c01-9fea-faec6c6e6966\" class=\"plotly-graph-div\" style=\"height:600px; width:600px;\"></div>\n",
       "            <script type=\"text/javascript\">\n",
       "                require([\"plotly\"], function(Plotly) {\n",
       "                    window.PLOTLYENV=window.PLOTLYENV || {};\n",
       "                    \n",
       "                if (document.getElementById(\"d77d4f34-4a7b-4c01-9fea-faec6c6e6966\")) {\n",
       "                    Plotly.newPlot(\n",
       "                        'd77d4f34-4a7b-4c01-9fea-faec6c6e6966',\n",
       "                        [{\"histnorm\": \"probability\", \"marker\": {\"color\": \"#1A82FF\"}, \"name\": \"F: 177\", \"type\": \"histogram\", \"x\": [28.5, 21.5, 16.56, 20.5, 55.0, 55.0, 55.0, 55.0, 54.0, 55.0, 55.0, 55.0, 55.0, 57.0, 55.0, 55.0, 45.0, 65.0, 55.0, 43.0, 48.5, 34.0, 40.0, 42.75, 39.55, 31.4, 60.0, 60.0, 31.4, 26.0, 27.49, 37.0, 39.0, 27.0, 47.0, 80.0, 51.0, 55.0, 38.5, 52.0, 55.0, 33.5, 23.0, 21.0, 16.0, 20.0, 24.0, 22.0, 15.0, 20.0, 22.0, 16.0, 22.0, 24.0, 16.0, 23.0, 15.0, 16.0, 24.0, 22.0, 17.0, 20.0, 16.75, 20.0, 20.0, 19.0, 17.0, 21.0, 22.0, 15.0, 21.0, 22.0, 19.5, 15.0, 18.0, 22.0, 21.0, 20.0, 15.0, 18.0, 21.0, 14.0, 15.0, 15.75, 24.0, 14.0, 19.0, 14.0, 20.0, 21.0, 22.0, 22.0, 23.0, 17.0, 17.0, 17.0, 16.0, 24.5, 20.0, 16.0, 20.0, 17.0, 24.0, 21.0, 19.0, 24.0, 18.5, 19.0, 16.0, 14.0, 16.0, 19.75, 19.0, 24.0, 15.25, 20.0, 20.0, 16.0, 20.0, 19.75, 22.0, 19.0, 22.0, 15.2, 15.0, 25.0, 23.0, 23.0, 28.0, 22.0, 25.0, 25.0, 26.0, 24.25, 22.0, 26.0, 22.0, 26.0, 27.0, 25.0, 26.1, 26.39, 28.75, 27.0, 29.0, 24.0, 24.0, 22.5, 26.0, 29.0, 29.0, 27.0, 25.0, 27.0, 24.0, 28.0, 24.0, 23.0, 24.0, 28.0, 23.0, 25.0, 54.0, 60.25, 50.25, 47.6, 56.0, 57.12, 48.5, 55.51, 49.25, 34.95, 34.95, 61.3, 58.5, 54.1, 55.2], \"xaxis\": \"x\", \"yaxis\": \"y\"}, {\"histnorm\": \"probability\", \"marker\": {\"color\": \"#FF9E06\"}, \"name\": \"M : 133\", \"type\": \"histogram\", \"x\": [23.0, 29.0, 56.0, 55.5, 55.5, 55.0, 55.0, 55.0, 55.0, 56.0, 55.0, 55.0, 56.0, 55.0, 56.0, 55.0, 55.0, 46.0, 45.0, 45.0, 63.5, 40.1, 35.5, 41.0, 42.2, 45.0, 30.2, 65.0, 62.0, 21.0, 63.0, 64.0, 28.99, 45.0, 42.0, 43.0, 28.0, 49.1, 54.5, 50.5, 55.0, 54.0, 48.5, 42.0, 53.0, 53.0, 16.0, 20.0, 18.0, 15.0, 22.0, 24.0, 21.0, 24.75, 16.0, 21.0, 18.0, 17.0, 15.0, 19.0, 15.0, 17.0, 17.0, 21.0, 20.0, 16.76, 20.0, 21.25, 21.0, 15.0, 16.0, 16.0, 22.0, 22.0, 21.0, 19.0, 14.0, 21.0, 22.0, 15.0, 18.0, 18.0, 19.0, 20.0, 18.0, 17.0, 17.0, 19.0, 22.0, 21.0, 21.0, 19.0, 17.0, 22.0, 23.5, 15.0, 18.0, 24.0, 23.0, 29.0, 29.0, 25.0, 29.0, 26.0, 27.0, 22.0, 24.0, 22.0, 26.0, 29.0, 26.0, 22.0, 25.0, 28.0, 22.0, 24.25, 29.0, 22.0, 23.0, 56.0, 52.25, 51.0, 55.0, 55.0, 52.25, 48.0, 45.42, 27.0, 62.0, 58.2, 56.2, 53.8, 53.0], \"xaxis\": \"x2\", \"yaxis\": \"y2\"}],\n",
       "                        {\"height\": 600, \"template\": {\"data\": {\"bar\": [{\"error_x\": {\"color\": \"#2a3f5f\"}, \"error_y\": {\"color\": \"#2a3f5f\"}, \"marker\": {\"line\": {\"color\": \"#E5ECF6\", \"width\": 0.5}}, \"type\": \"bar\"}], \"barpolar\": [{\"marker\": {\"line\": {\"color\": \"#E5ECF6\", \"width\": 0.5}}, \"type\": \"barpolar\"}], \"carpet\": [{\"aaxis\": {\"endlinecolor\": \"#2a3f5f\", \"gridcolor\": \"white\", \"linecolor\": \"white\", \"minorgridcolor\": \"white\", \"startlinecolor\": \"#2a3f5f\"}, \"baxis\": {\"endlinecolor\": \"#2a3f5f\", \"gridcolor\": \"white\", \"linecolor\": \"white\", \"minorgridcolor\": \"white\", \"startlinecolor\": \"#2a3f5f\"}, \"type\": \"carpet\"}], \"choropleth\": [{\"colorbar\": {\"outlinewidth\": 0, \"ticks\": \"\"}, \"type\": \"choropleth\"}], \"contour\": [{\"colorbar\": {\"outlinewidth\": 0, \"ticks\": \"\"}, \"colorscale\": [[0.0, \"#0d0887\"], [0.1111111111111111, \"#46039f\"], [0.2222222222222222, \"#7201a8\"], [0.3333333333333333, \"#9c179e\"], [0.4444444444444444, \"#bd3786\"], [0.5555555555555556, \"#d8576b\"], [0.6666666666666666, \"#ed7953\"], [0.7777777777777778, \"#fb9f3a\"], [0.8888888888888888, \"#fdca26\"], [1.0, \"#f0f921\"]], \"type\": \"contour\"}], \"contourcarpet\": [{\"colorbar\": {\"outlinewidth\": 0, \"ticks\": \"\"}, \"type\": \"contourcarpet\"}], \"heatmap\": [{\"colorbar\": {\"outlinewidth\": 0, \"ticks\": \"\"}, \"colorscale\": [[0.0, \"#0d0887\"], [0.1111111111111111, \"#46039f\"], [0.2222222222222222, \"#7201a8\"], [0.3333333333333333, \"#9c179e\"], [0.4444444444444444, \"#bd3786\"], [0.5555555555555556, \"#d8576b\"], [0.6666666666666666, \"#ed7953\"], [0.7777777777777778, \"#fb9f3a\"], [0.8888888888888888, \"#fdca26\"], [1.0, \"#f0f921\"]], \"type\": \"heatmap\"}], \"heatmapgl\": [{\"colorbar\": {\"outlinewidth\": 0, \"ticks\": \"\"}, \"colorscale\": [[0.0, \"#0d0887\"], [0.1111111111111111, \"#46039f\"], [0.2222222222222222, \"#7201a8\"], [0.3333333333333333, \"#9c179e\"], [0.4444444444444444, \"#bd3786\"], [0.5555555555555556, \"#d8576b\"], [0.6666666666666666, \"#ed7953\"], [0.7777777777777778, \"#fb9f3a\"], [0.8888888888888888, \"#fdca26\"], [1.0, \"#f0f921\"]], \"type\": \"heatmapgl\"}], \"histogram\": [{\"marker\": {\"colorbar\": {\"outlinewidth\": 0, \"ticks\": \"\"}}, \"type\": \"histogram\"}], \"histogram2d\": [{\"colorbar\": {\"outlinewidth\": 0, \"ticks\": \"\"}, \"colorscale\": [[0.0, \"#0d0887\"], [0.1111111111111111, \"#46039f\"], [0.2222222222222222, \"#7201a8\"], [0.3333333333333333, \"#9c179e\"], [0.4444444444444444, \"#bd3786\"], [0.5555555555555556, \"#d8576b\"], [0.6666666666666666, \"#ed7953\"], [0.7777777777777778, \"#fb9f3a\"], [0.8888888888888888, \"#fdca26\"], [1.0, \"#f0f921\"]], \"type\": \"histogram2d\"}], \"histogram2dcontour\": [{\"colorbar\": {\"outlinewidth\": 0, \"ticks\": \"\"}, \"colorscale\": [[0.0, \"#0d0887\"], [0.1111111111111111, \"#46039f\"], [0.2222222222222222, \"#7201a8\"], [0.3333333333333333, \"#9c179e\"], [0.4444444444444444, \"#bd3786\"], [0.5555555555555556, \"#d8576b\"], [0.6666666666666666, \"#ed7953\"], [0.7777777777777778, \"#fb9f3a\"], [0.8888888888888888, \"#fdca26\"], [1.0, \"#f0f921\"]], \"type\": \"histogram2dcontour\"}], \"mesh3d\": [{\"colorbar\": {\"outlinewidth\": 0, \"ticks\": \"\"}, \"type\": \"mesh3d\"}], \"parcoords\": [{\"line\": {\"colorbar\": {\"outlinewidth\": 0, \"ticks\": \"\"}}, \"type\": \"parcoords\"}], \"pie\": [{\"automargin\": true, \"type\": \"pie\"}], \"scatter\": [{\"marker\": {\"colorbar\": {\"outlinewidth\": 0, \"ticks\": \"\"}}, \"type\": \"scatter\"}], \"scatter3d\": [{\"line\": {\"colorbar\": {\"outlinewidth\": 0, \"ticks\": \"\"}}, \"marker\": {\"colorbar\": {\"outlinewidth\": 0, \"ticks\": \"\"}}, \"type\": \"scatter3d\"}], \"scattercarpet\": [{\"marker\": {\"colorbar\": {\"outlinewidth\": 0, \"ticks\": \"\"}}, \"type\": \"scattercarpet\"}], \"scattergeo\": [{\"marker\": {\"colorbar\": {\"outlinewidth\": 0, \"ticks\": \"\"}}, \"type\": \"scattergeo\"}], \"scattergl\": [{\"marker\": {\"colorbar\": {\"outlinewidth\": 0, \"ticks\": \"\"}}, \"type\": \"scattergl\"}], \"scattermapbox\": [{\"marker\": {\"colorbar\": {\"outlinewidth\": 0, \"ticks\": \"\"}}, \"type\": \"scattermapbox\"}], \"scatterpolar\": [{\"marker\": {\"colorbar\": {\"outlinewidth\": 0, \"ticks\": \"\"}}, \"type\": \"scatterpolar\"}], \"scatterpolargl\": [{\"marker\": {\"colorbar\": {\"outlinewidth\": 0, \"ticks\": \"\"}}, \"type\": \"scatterpolargl\"}], \"scatterternary\": [{\"marker\": {\"colorbar\": {\"outlinewidth\": 0, \"ticks\": \"\"}}, \"type\": \"scatterternary\"}], \"surface\": [{\"colorbar\": {\"outlinewidth\": 0, \"ticks\": \"\"}, \"colorscale\": [[0.0, \"#0d0887\"], [0.1111111111111111, \"#46039f\"], [0.2222222222222222, \"#7201a8\"], [0.3333333333333333, \"#9c179e\"], [0.4444444444444444, \"#bd3786\"], [0.5555555555555556, \"#d8576b\"], [0.6666666666666666, \"#ed7953\"], [0.7777777777777778, \"#fb9f3a\"], [0.8888888888888888, \"#fdca26\"], [1.0, \"#f0f921\"]], \"type\": \"surface\"}], \"table\": [{\"cells\": {\"fill\": {\"color\": \"#EBF0F8\"}, \"line\": {\"color\": \"white\"}}, \"header\": {\"fill\": {\"color\": \"#C8D4E3\"}, \"line\": {\"color\": \"white\"}}, \"type\": \"table\"}]}, \"layout\": {\"annotationdefaults\": {\"arrowcolor\": \"#2a3f5f\", \"arrowhead\": 0, \"arrowwidth\": 1}, \"coloraxis\": {\"colorbar\": {\"outlinewidth\": 0, \"ticks\": \"\"}}, \"colorscale\": {\"diverging\": [[0, \"#8e0152\"], [0.1, \"#c51b7d\"], [0.2, \"#de77ae\"], [0.3, \"#f1b6da\"], [0.4, \"#fde0ef\"], [0.5, \"#f7f7f7\"], [0.6, \"#e6f5d0\"], [0.7, \"#b8e186\"], [0.8, \"#7fbc41\"], [0.9, \"#4d9221\"], [1, \"#276419\"]], \"sequential\": [[0.0, \"#0d0887\"], [0.1111111111111111, \"#46039f\"], [0.2222222222222222, \"#7201a8\"], [0.3333333333333333, \"#9c179e\"], [0.4444444444444444, \"#bd3786\"], [0.5555555555555556, \"#d8576b\"], [0.6666666666666666, \"#ed7953\"], [0.7777777777777778, \"#fb9f3a\"], [0.8888888888888888, \"#fdca26\"], [1.0, \"#f0f921\"]], \"sequentialminus\": [[0.0, \"#0d0887\"], [0.1111111111111111, \"#46039f\"], [0.2222222222222222, \"#7201a8\"], [0.3333333333333333, \"#9c179e\"], [0.4444444444444444, \"#bd3786\"], [0.5555555555555556, \"#d8576b\"], [0.6666666666666666, \"#ed7953\"], [0.7777777777777778, \"#fb9f3a\"], [0.8888888888888888, \"#fdca26\"], [1.0, \"#f0f921\"]]}, \"colorway\": [\"#636efa\", \"#EF553B\", \"#00cc96\", \"#ab63fa\", \"#FFA15A\", \"#19d3f3\", \"#FF6692\", \"#B6E880\", \"#FF97FF\", \"#FECB52\"], \"font\": {\"color\": \"#2a3f5f\"}, \"geo\": {\"bgcolor\": \"white\", \"lakecolor\": \"white\", \"landcolor\": \"#E5ECF6\", \"showlakes\": true, \"showland\": true, \"subunitcolor\": \"white\"}, \"hoverlabel\": {\"align\": \"left\"}, \"hovermode\": \"closest\", \"mapbox\": {\"style\": \"light\"}, \"paper_bgcolor\": \"white\", \"plot_bgcolor\": \"#E5ECF6\", \"polar\": {\"angularaxis\": {\"gridcolor\": \"white\", \"linecolor\": \"white\", \"ticks\": \"\"}, \"bgcolor\": \"#E5ECF6\", \"radialaxis\": {\"gridcolor\": \"white\", \"linecolor\": \"white\", \"ticks\": \"\"}}, \"scene\": {\"xaxis\": {\"backgroundcolor\": \"#E5ECF6\", \"gridcolor\": \"white\", \"gridwidth\": 2, \"linecolor\": \"white\", \"showbackground\": true, \"ticks\": \"\", \"zerolinecolor\": \"white\"}, \"yaxis\": {\"backgroundcolor\": \"#E5ECF6\", \"gridcolor\": \"white\", \"gridwidth\": 2, \"linecolor\": \"white\", \"showbackground\": true, \"ticks\": \"\", \"zerolinecolor\": \"white\"}, \"zaxis\": {\"backgroundcolor\": \"#E5ECF6\", \"gridcolor\": \"white\", \"gridwidth\": 2, \"linecolor\": \"white\", \"showbackground\": true, \"ticks\": \"\", \"zerolinecolor\": \"white\"}}, \"shapedefaults\": {\"line\": {\"color\": \"#2a3f5f\"}}, \"ternary\": {\"aaxis\": {\"gridcolor\": \"white\", \"linecolor\": \"white\", \"ticks\": \"\"}, \"baxis\": {\"gridcolor\": \"white\", \"linecolor\": \"white\", \"ticks\": \"\"}, \"bgcolor\": \"#E5ECF6\", \"caxis\": {\"gridcolor\": \"white\", \"linecolor\": \"white\", \"ticks\": \"\"}}, \"title\": {\"x\": 0.05}, \"xaxis\": {\"automargin\": true, \"gridcolor\": \"white\", \"linecolor\": \"white\", \"ticks\": \"\", \"title\": {\"standoff\": 15}, \"zerolinecolor\": \"white\", \"zerolinewidth\": 2}, \"yaxis\": {\"automargin\": true, \"gridcolor\": \"white\", \"linecolor\": \"white\", \"ticks\": \"\", \"title\": {\"standoff\": 15}, \"zerolinecolor\": \"white\", \"zerolinewidth\": 2}}}, \"title\": {\"text\": \"Pay rate for genders\"}, \"width\": 600, \"xaxis\": {\"anchor\": \"y\", \"domain\": [0.0, 1.0], \"matches\": \"x2\", \"showticklabels\": false, \"title\": {\"text\": \"PayRate\"}}, \"xaxis2\": {\"anchor\": \"y2\", \"domain\": [0.0, 1.0], \"title\": {\"text\": \"PayRate\"}}, \"yaxis\": {\"anchor\": \"x\", \"domain\": [0.55, 1.0], \"title\": {\"text\": \"occurences\"}}, \"yaxis2\": {\"anchor\": \"x2\", \"domain\": [0.0, 0.45], \"title\": {\"text\": \"occurences\"}}},\n",
       "                        {\"responsive\": true}\n",
       "                    ).then(function(){\n",
       "                            \n",
       "var gd = document.getElementById('d77d4f34-4a7b-4c01-9fea-faec6c6e6966');\n",
       "var x = new MutationObserver(function (mutations, observer) {{\n",
       "        var display = window.getComputedStyle(gd).display;\n",
       "        if (!display || display === 'none') {{\n",
       "            console.log([gd, 'removed!']);\n",
       "            Plotly.purge(gd);\n",
       "            observer.disconnect();\n",
       "        }}\n",
       "}});\n",
       "\n",
       "// Listen for the removal of the full notebook cells\n",
       "var notebookContainer = gd.closest('#notebook-container');\n",
       "if (notebookContainer) {{\n",
       "    x.observe(notebookContainer, {childList: true});\n",
       "}}\n",
       "\n",
       "// Listen for the clearing of the current output cell\n",
       "var outputEl = gd.closest('.output');\n",
       "if (outputEl) {{\n",
       "    x.observe(outputEl, {childList: true});\n",
       "}}\n",
       "\n",
       "                        })\n",
       "                };\n",
       "                });\n",
       "            </script>\n",
       "        </div>"
      ]
     },
     "metadata": {},
     "output_type": "display_data"
    }
   ],
   "source": [
    "fig = hist(hr, \"Sex\", \"PayRate\", \"Pay rate for genders\", palette_2)\n",
    "fig.show()"
   ]
  },
  {
   "cell_type": "code",
   "execution_count": 26,
   "metadata": {
    "collapsed": true
   },
   "outputs": [
    {
     "data": {
      "application/vnd.plotly.v1+json": {
       "config": {
        "plotlyServerURL": "https://plot.ly"
       },
       "data": [
        {
         "alignmentgroup": "True",
         "customdata": [
          [
           "Admin Offices"
          ],
          [
           "Admin Offices"
          ],
          [
           "Admin Offices"
          ],
          [
           "Admin Offices"
          ],
          [
           "Sales"
          ],
          [
           "Sales"
          ],
          [
           "Sales"
          ],
          [
           "Sales"
          ],
          [
           "Sales"
          ],
          [
           "Sales"
          ],
          [
           "Sales"
          ],
          [
           "Sales"
          ],
          [
           "Sales"
          ],
          [
           "Sales"
          ],
          [
           "Sales"
          ],
          [
           "Sales"
          ],
          [
           "IT/IS"
          ],
          [
           "IT/IS"
          ],
          [
           "IT/IS"
          ],
          [
           "IT/IS"
          ],
          [
           "IT/IS"
          ],
          [
           "IT/IS"
          ],
          [
           "IT/IS"
          ],
          [
           "IT/IS"
          ],
          [
           "IT/IS"
          ],
          [
           "IT/IS"
          ],
          [
           "Production"
          ],
          [
           "Sales"
          ],
          [
           "IT/IS"
          ],
          [
           "IT/IS"
          ],
          [
           "IT/IS"
          ],
          [
           "IT/IS"
          ],
          [
           "IT/IS"
          ],
          [
           "IT/IS"
          ],
          [
           "IT/IS"
          ],
          [
           "Executive Office"
          ],
          [
           "Production"
          ],
          [
           "Production"
          ],
          [
           "Production"
          ],
          [
           "Production"
          ],
          [
           "Production"
          ],
          [
           "Production"
          ],
          [
           "Production"
          ],
          [
           "Production"
          ],
          [
           "Production"
          ],
          [
           "Production"
          ],
          [
           "Production"
          ],
          [
           "Production"
          ],
          [
           "Production"
          ],
          [
           "Production"
          ],
          [
           "Production"
          ],
          [
           "Production"
          ],
          [
           "Production"
          ],
          [
           "Production"
          ],
          [
           "Production"
          ],
          [
           "Production"
          ],
          [
           "Production"
          ],
          [
           "Production"
          ],
          [
           "Production"
          ],
          [
           "Production"
          ],
          [
           "Production"
          ],
          [
           "Production"
          ],
          [
           "Production"
          ],
          [
           "Production"
          ],
          [
           "Production"
          ],
          [
           "Production"
          ],
          [
           "Production"
          ],
          [
           "Production"
          ],
          [
           "Production"
          ],
          [
           "Production"
          ],
          [
           "Production"
          ],
          [
           "Production"
          ],
          [
           "Production"
          ],
          [
           "Production"
          ],
          [
           "Production"
          ],
          [
           "Production"
          ],
          [
           "Production"
          ],
          [
           "Production"
          ],
          [
           "Production"
          ],
          [
           "Production"
          ],
          [
           "Production"
          ],
          [
           "Production"
          ],
          [
           "Production"
          ],
          [
           "Production"
          ],
          [
           "Production"
          ],
          [
           "Production"
          ],
          [
           "Production"
          ],
          [
           "Production"
          ],
          [
           "Production"
          ],
          [
           "Production"
          ],
          [
           "Production"
          ],
          [
           "Production"
          ],
          [
           "Production"
          ],
          [
           "Production"
          ],
          [
           "Production"
          ],
          [
           "Production"
          ],
          [
           "Production"
          ],
          [
           "Production"
          ],
          [
           "Production"
          ],
          [
           "Production"
          ],
          [
           "Production"
          ],
          [
           "Production"
          ],
          [
           "Production"
          ],
          [
           "Production"
          ],
          [
           "Production"
          ],
          [
           "Production"
          ],
          [
           "Production"
          ],
          [
           "Production"
          ],
          [
           "Production"
          ],
          [
           "Production"
          ],
          [
           "Production"
          ],
          [
           "Production"
          ],
          [
           "Production"
          ],
          [
           "Production"
          ],
          [
           "Production"
          ],
          [
           "Production"
          ],
          [
           "Production"
          ],
          [
           "Production"
          ],
          [
           "Production"
          ],
          [
           "Production"
          ],
          [
           "Production"
          ],
          [
           "Production"
          ],
          [
           "Production"
          ],
          [
           "Production"
          ],
          [
           "Production"
          ],
          [
           "Production"
          ],
          [
           "Production"
          ],
          [
           "Production"
          ],
          [
           "Production"
          ],
          [
           "Production"
          ],
          [
           "Production"
          ],
          [
           "Production"
          ],
          [
           "Production"
          ],
          [
           "Production"
          ],
          [
           "Production"
          ],
          [
           "Production"
          ],
          [
           "Production"
          ],
          [
           "Production"
          ],
          [
           "Production"
          ],
          [
           "Production"
          ],
          [
           "Production"
          ],
          [
           "Production"
          ],
          [
           "Production"
          ],
          [
           "Production"
          ],
          [
           "Production"
          ],
          [
           "Production"
          ],
          [
           "Production"
          ],
          [
           "Production"
          ],
          [
           "Production"
          ],
          [
           "Production"
          ],
          [
           "Production"
          ],
          [
           "Production"
          ],
          [
           "Production"
          ],
          [
           "Production"
          ],
          [
           "Production"
          ],
          [
           "Production"
          ],
          [
           "Production"
          ],
          [
           "Production"
          ],
          [
           "Production"
          ],
          [
           "Production"
          ],
          [
           "Production"
          ],
          [
           "Production"
          ],
          [
           "Sales"
          ],
          [
           "Sales"
          ],
          [
           "IT/IS"
          ],
          [
           "Software Engineering"
          ],
          [
           "Software Engineering"
          ],
          [
           "Software Engineering"
          ],
          [
           "Software Engineering"
          ],
          [
           "Software Engineering"
          ],
          [
           "Software Engineering"
          ],
          [
           "Admin Offices"
          ],
          [
           "Admin Offices"
          ],
          [
           "IT/IS"
          ],
          [
           "IT/IS"
          ],
          [
           "IT/IS"
          ],
          [
           "IT/IS"
          ]
         ],
         "hovertemplate": "Sex=F<br>PayRate=%{y}<br>Department=%{customdata[0]}<extra></extra>",
         "legendgroup": "F",
         "marker": {
          "color": "#1A82FF"
         },
         "name": "F",
         "notched": false,
         "offsetgroup": "F",
         "orientation": "v",
         "showlegend": true,
         "type": "box",
         "x0": " ",
         "xaxis": "x",
         "y": [
          28.5,
          21.5,
          16.56,
          20.5,
          55,
          55,
          55,
          55,
          54,
          55,
          55,
          55,
          55,
          57,
          55,
          55,
          45,
          65,
          55,
          43,
          48.5,
          34,
          40,
          42.75,
          39.55,
          31.4,
          60,
          60,
          31.4,
          26,
          27.49,
          37,
          39,
          27,
          47,
          80,
          51,
          55,
          38.5,
          52,
          55,
          33.5,
          23,
          21,
          16,
          20,
          24,
          22,
          15,
          20,
          22,
          16,
          22,
          24,
          16,
          23,
          15,
          16,
          24,
          22,
          17,
          20,
          16.75,
          20,
          20,
          19,
          17,
          21,
          22,
          15,
          21,
          22,
          19.5,
          15,
          18,
          22,
          21,
          20,
          15,
          18,
          21,
          14,
          15,
          15.75,
          24,
          14,
          19,
          14,
          20,
          21,
          22,
          22,
          23,
          17,
          17,
          17,
          16,
          24.5,
          20,
          16,
          20,
          17,
          24,
          21,
          19,
          24,
          18.5,
          19,
          16,
          14,
          16,
          19.75,
          19,
          24,
          15.25,
          20,
          20,
          16,
          20,
          19.75,
          22,
          19,
          22,
          15.2,
          15,
          25,
          23,
          23,
          28,
          22,
          25,
          25,
          26,
          24.25,
          22,
          26,
          22,
          26,
          27,
          25,
          26.1,
          26.39,
          28.75,
          27,
          29,
          24,
          24,
          22.5,
          26,
          29,
          29,
          27,
          25,
          27,
          24,
          28,
          24,
          23,
          24,
          28,
          23,
          25,
          54,
          60.25,
          50.25,
          47.6,
          56,
          57.12,
          48.5,
          55.51,
          49.25,
          34.95,
          34.95,
          61.3,
          58.5,
          54.1,
          55.2
         ],
         "y0": " ",
         "yaxis": "y"
        },
        {
         "alignmentgroup": "True",
         "customdata": [
          [
           "Admin Offices"
          ],
          [
           "Admin Offices"
          ],
          [
           "Sales"
          ],
          [
           "Sales"
          ],
          [
           "Sales"
          ],
          [
           "Sales"
          ],
          [
           "Sales"
          ],
          [
           "Sales"
          ],
          [
           "Sales"
          ],
          [
           "Sales"
          ],
          [
           "Sales"
          ],
          [
           "Sales"
          ],
          [
           "Sales"
          ],
          [
           "Sales"
          ],
          [
           "Sales"
          ],
          [
           "Sales"
          ],
          [
           "Sales"
          ],
          [
           "IT/IS"
          ],
          [
           "IT/IS"
          ],
          [
           "IT/IS"
          ],
          [
           "IT/IS"
          ],
          [
           "IT/IS"
          ],
          [
           "IT/IS"
          ],
          [
           "IT/IS"
          ],
          [
           "IT/IS"
          ],
          [
           "IT/IS"
          ],
          [
           "IT/IS"
          ],
          [
           "IT/IS"
          ],
          [
           "IT/IS"
          ],
          [
           "IT/IS"
          ],
          [
           "IT/IS"
          ],
          [
           "IT/IS"
          ],
          [
           "IT/IS"
          ],
          [
           "IT/IS"
          ],
          [
           "IT/IS"
          ],
          [
           "IT/IS"
          ],
          [
           "IT/IS"
          ],
          [
           "IT/IS"
          ],
          [
           "Production"
          ],
          [
           "Production"
          ],
          [
           "Production"
          ],
          [
           "Production"
          ],
          [
           "Production"
          ],
          [
           "Production"
          ],
          [
           "Production"
          ],
          [
           "Production"
          ],
          [
           "Production"
          ],
          [
           "Production"
          ],
          [
           "Production"
          ],
          [
           "Production"
          ],
          [
           "Production"
          ],
          [
           "Production"
          ],
          [
           "Production"
          ],
          [
           "Production"
          ],
          [
           "Production"
          ],
          [
           "Production"
          ],
          [
           "Production"
          ],
          [
           "Production"
          ],
          [
           "Production"
          ],
          [
           "Production"
          ],
          [
           "Production"
          ],
          [
           "Production"
          ],
          [
           "Production"
          ],
          [
           "Production"
          ],
          [
           "Production"
          ],
          [
           "Production"
          ],
          [
           "Production"
          ],
          [
           "Production"
          ],
          [
           "Production"
          ],
          [
           "Production"
          ],
          [
           "Production"
          ],
          [
           "Production"
          ],
          [
           "Production"
          ],
          [
           "Production"
          ],
          [
           "Production"
          ],
          [
           "Production"
          ],
          [
           "Production"
          ],
          [
           "Production"
          ],
          [
           "Production"
          ],
          [
           "Production"
          ],
          [
           "Production"
          ],
          [
           "Production"
          ],
          [
           "Production"
          ],
          [
           "Production"
          ],
          [
           "Production"
          ],
          [
           "Production"
          ],
          [
           "Production"
          ],
          [
           "Production"
          ],
          [
           "Production"
          ],
          [
           "Production"
          ],
          [
           "Production"
          ],
          [
           "Production"
          ],
          [
           "Production"
          ],
          [
           "Production"
          ],
          [
           "Production"
          ],
          [
           "Production"
          ],
          [
           "Production"
          ],
          [
           "Production"
          ],
          [
           "Production"
          ],
          [
           "Production"
          ],
          [
           "Production"
          ],
          [
           "Production"
          ],
          [
           "Production"
          ],
          [
           "Production"
          ],
          [
           "Production"
          ],
          [
           "Production"
          ],
          [
           "Production"
          ],
          [
           "Production"
          ],
          [
           "Production"
          ],
          [
           "Production"
          ],
          [
           "Production"
          ],
          [
           "Production"
          ],
          [
           "Production"
          ],
          [
           "Production"
          ],
          [
           "Production"
          ],
          [
           "Production"
          ],
          [
           "Production"
          ],
          [
           "Production"
          ],
          [
           "Production"
          ],
          [
           "Sales"
          ],
          [
           "IT/IS"
          ],
          [
           "IT/IS"
          ],
          [
           "Admin Offices"
          ],
          [
           "Admin Offices"
          ],
          [
           "Software Engineering"
          ],
          [
           "Software Engineering"
          ],
          [
           "Software Engineering"
          ],
          [
           "Software Engineering"
          ],
          [
           "IT/IS"
          ],
          [
           "IT/IS"
          ],
          [
           "IT/IS"
          ],
          [
           "IT/IS"
          ],
          [
           "IT/IS"
          ]
         ],
         "hovertemplate": "Sex=M <br>PayRate=%{y}<br>Department=%{customdata[0]}<extra></extra>",
         "legendgroup": "M ",
         "marker": {
          "color": "#FF9E06"
         },
         "name": "M ",
         "notched": false,
         "offsetgroup": "M ",
         "orientation": "v",
         "showlegend": true,
         "type": "box",
         "x0": " ",
         "xaxis": "x",
         "y": [
          23,
          29,
          56,
          55.5,
          55.5,
          55,
          55,
          55,
          55,
          56,
          55,
          55,
          56,
          55,
          56,
          55,
          55,
          46,
          45,
          45,
          63.5,
          40.1,
          35.5,
          41,
          42.2,
          45,
          30.2,
          65,
          62,
          21,
          63,
          64,
          28.99,
          45,
          42,
          43,
          28,
          49.1,
          54.5,
          50.5,
          55,
          54,
          48.5,
          42,
          53,
          53,
          16,
          20,
          18,
          15,
          22,
          24,
          21,
          24.75,
          16,
          21,
          18,
          17,
          15,
          19,
          15,
          17,
          17,
          21,
          20,
          16.76,
          20,
          21.25,
          21,
          15,
          16,
          16,
          22,
          22,
          21,
          19,
          14,
          21,
          22,
          15,
          18,
          18,
          19,
          20,
          18,
          17,
          17,
          19,
          22,
          21,
          21,
          19,
          17,
          22,
          23.5,
          15,
          18,
          24,
          23,
          29,
          29,
          25,
          29,
          26,
          27,
          22,
          24,
          22,
          26,
          29,
          26,
          22,
          25,
          28,
          22,
          24.25,
          29,
          22,
          23,
          56,
          52.25,
          51,
          55,
          55,
          52.25,
          48,
          45.42,
          27,
          62,
          58.2,
          56.2,
          53.8,
          53
         ],
         "y0": " ",
         "yaxis": "y"
        }
       ],
       "layout": {
        "boxmode": "group",
        "legend": {
         "title": {
          "text": "Sex"
         },
         "tracegroupgap": 0
        },
        "margin": {
         "t": 60
        },
        "template": {
         "data": {
          "bar": [
           {
            "error_x": {
             "color": "#2a3f5f"
            },
            "error_y": {
             "color": "#2a3f5f"
            },
            "marker": {
             "line": {
              "color": "#E5ECF6",
              "width": 0.5
             }
            },
            "type": "bar"
           }
          ],
          "barpolar": [
           {
            "marker": {
             "line": {
              "color": "#E5ECF6",
              "width": 0.5
             }
            },
            "type": "barpolar"
           }
          ],
          "carpet": [
           {
            "aaxis": {
             "endlinecolor": "#2a3f5f",
             "gridcolor": "white",
             "linecolor": "white",
             "minorgridcolor": "white",
             "startlinecolor": "#2a3f5f"
            },
            "baxis": {
             "endlinecolor": "#2a3f5f",
             "gridcolor": "white",
             "linecolor": "white",
             "minorgridcolor": "white",
             "startlinecolor": "#2a3f5f"
            },
            "type": "carpet"
           }
          ],
          "choropleth": [
           {
            "colorbar": {
             "outlinewidth": 0,
             "ticks": ""
            },
            "type": "choropleth"
           }
          ],
          "contour": [
           {
            "colorbar": {
             "outlinewidth": 0,
             "ticks": ""
            },
            "colorscale": [
             [
              0,
              "#0d0887"
             ],
             [
              0.1111111111111111,
              "#46039f"
             ],
             [
              0.2222222222222222,
              "#7201a8"
             ],
             [
              0.3333333333333333,
              "#9c179e"
             ],
             [
              0.4444444444444444,
              "#bd3786"
             ],
             [
              0.5555555555555556,
              "#d8576b"
             ],
             [
              0.6666666666666666,
              "#ed7953"
             ],
             [
              0.7777777777777778,
              "#fb9f3a"
             ],
             [
              0.8888888888888888,
              "#fdca26"
             ],
             [
              1,
              "#f0f921"
             ]
            ],
            "type": "contour"
           }
          ],
          "contourcarpet": [
           {
            "colorbar": {
             "outlinewidth": 0,
             "ticks": ""
            },
            "type": "contourcarpet"
           }
          ],
          "heatmap": [
           {
            "colorbar": {
             "outlinewidth": 0,
             "ticks": ""
            },
            "colorscale": [
             [
              0,
              "#0d0887"
             ],
             [
              0.1111111111111111,
              "#46039f"
             ],
             [
              0.2222222222222222,
              "#7201a8"
             ],
             [
              0.3333333333333333,
              "#9c179e"
             ],
             [
              0.4444444444444444,
              "#bd3786"
             ],
             [
              0.5555555555555556,
              "#d8576b"
             ],
             [
              0.6666666666666666,
              "#ed7953"
             ],
             [
              0.7777777777777778,
              "#fb9f3a"
             ],
             [
              0.8888888888888888,
              "#fdca26"
             ],
             [
              1,
              "#f0f921"
             ]
            ],
            "type": "heatmap"
           }
          ],
          "heatmapgl": [
           {
            "colorbar": {
             "outlinewidth": 0,
             "ticks": ""
            },
            "colorscale": [
             [
              0,
              "#0d0887"
             ],
             [
              0.1111111111111111,
              "#46039f"
             ],
             [
              0.2222222222222222,
              "#7201a8"
             ],
             [
              0.3333333333333333,
              "#9c179e"
             ],
             [
              0.4444444444444444,
              "#bd3786"
             ],
             [
              0.5555555555555556,
              "#d8576b"
             ],
             [
              0.6666666666666666,
              "#ed7953"
             ],
             [
              0.7777777777777778,
              "#fb9f3a"
             ],
             [
              0.8888888888888888,
              "#fdca26"
             ],
             [
              1,
              "#f0f921"
             ]
            ],
            "type": "heatmapgl"
           }
          ],
          "histogram": [
           {
            "marker": {
             "colorbar": {
              "outlinewidth": 0,
              "ticks": ""
             }
            },
            "type": "histogram"
           }
          ],
          "histogram2d": [
           {
            "colorbar": {
             "outlinewidth": 0,
             "ticks": ""
            },
            "colorscale": [
             [
              0,
              "#0d0887"
             ],
             [
              0.1111111111111111,
              "#46039f"
             ],
             [
              0.2222222222222222,
              "#7201a8"
             ],
             [
              0.3333333333333333,
              "#9c179e"
             ],
             [
              0.4444444444444444,
              "#bd3786"
             ],
             [
              0.5555555555555556,
              "#d8576b"
             ],
             [
              0.6666666666666666,
              "#ed7953"
             ],
             [
              0.7777777777777778,
              "#fb9f3a"
             ],
             [
              0.8888888888888888,
              "#fdca26"
             ],
             [
              1,
              "#f0f921"
             ]
            ],
            "type": "histogram2d"
           }
          ],
          "histogram2dcontour": [
           {
            "colorbar": {
             "outlinewidth": 0,
             "ticks": ""
            },
            "colorscale": [
             [
              0,
              "#0d0887"
             ],
             [
              0.1111111111111111,
              "#46039f"
             ],
             [
              0.2222222222222222,
              "#7201a8"
             ],
             [
              0.3333333333333333,
              "#9c179e"
             ],
             [
              0.4444444444444444,
              "#bd3786"
             ],
             [
              0.5555555555555556,
              "#d8576b"
             ],
             [
              0.6666666666666666,
              "#ed7953"
             ],
             [
              0.7777777777777778,
              "#fb9f3a"
             ],
             [
              0.8888888888888888,
              "#fdca26"
             ],
             [
              1,
              "#f0f921"
             ]
            ],
            "type": "histogram2dcontour"
           }
          ],
          "mesh3d": [
           {
            "colorbar": {
             "outlinewidth": 0,
             "ticks": ""
            },
            "type": "mesh3d"
           }
          ],
          "parcoords": [
           {
            "line": {
             "colorbar": {
              "outlinewidth": 0,
              "ticks": ""
             }
            },
            "type": "parcoords"
           }
          ],
          "pie": [
           {
            "automargin": true,
            "type": "pie"
           }
          ],
          "scatter": [
           {
            "marker": {
             "colorbar": {
              "outlinewidth": 0,
              "ticks": ""
             }
            },
            "type": "scatter"
           }
          ],
          "scatter3d": [
           {
            "line": {
             "colorbar": {
              "outlinewidth": 0,
              "ticks": ""
             }
            },
            "marker": {
             "colorbar": {
              "outlinewidth": 0,
              "ticks": ""
             }
            },
            "type": "scatter3d"
           }
          ],
          "scattercarpet": [
           {
            "marker": {
             "colorbar": {
              "outlinewidth": 0,
              "ticks": ""
             }
            },
            "type": "scattercarpet"
           }
          ],
          "scattergeo": [
           {
            "marker": {
             "colorbar": {
              "outlinewidth": 0,
              "ticks": ""
             }
            },
            "type": "scattergeo"
           }
          ],
          "scattergl": [
           {
            "marker": {
             "colorbar": {
              "outlinewidth": 0,
              "ticks": ""
             }
            },
            "type": "scattergl"
           }
          ],
          "scattermapbox": [
           {
            "marker": {
             "colorbar": {
              "outlinewidth": 0,
              "ticks": ""
             }
            },
            "type": "scattermapbox"
           }
          ],
          "scatterpolar": [
           {
            "marker": {
             "colorbar": {
              "outlinewidth": 0,
              "ticks": ""
             }
            },
            "type": "scatterpolar"
           }
          ],
          "scatterpolargl": [
           {
            "marker": {
             "colorbar": {
              "outlinewidth": 0,
              "ticks": ""
             }
            },
            "type": "scatterpolargl"
           }
          ],
          "scatterternary": [
           {
            "marker": {
             "colorbar": {
              "outlinewidth": 0,
              "ticks": ""
             }
            },
            "type": "scatterternary"
           }
          ],
          "surface": [
           {
            "colorbar": {
             "outlinewidth": 0,
             "ticks": ""
            },
            "colorscale": [
             [
              0,
              "#0d0887"
             ],
             [
              0.1111111111111111,
              "#46039f"
             ],
             [
              0.2222222222222222,
              "#7201a8"
             ],
             [
              0.3333333333333333,
              "#9c179e"
             ],
             [
              0.4444444444444444,
              "#bd3786"
             ],
             [
              0.5555555555555556,
              "#d8576b"
             ],
             [
              0.6666666666666666,
              "#ed7953"
             ],
             [
              0.7777777777777778,
              "#fb9f3a"
             ],
             [
              0.8888888888888888,
              "#fdca26"
             ],
             [
              1,
              "#f0f921"
             ]
            ],
            "type": "surface"
           }
          ],
          "table": [
           {
            "cells": {
             "fill": {
              "color": "#EBF0F8"
             },
             "line": {
              "color": "white"
             }
            },
            "header": {
             "fill": {
              "color": "#C8D4E3"
             },
             "line": {
              "color": "white"
             }
            },
            "type": "table"
           }
          ]
         },
         "layout": {
          "annotationdefaults": {
           "arrowcolor": "#2a3f5f",
           "arrowhead": 0,
           "arrowwidth": 1
          },
          "coloraxis": {
           "colorbar": {
            "outlinewidth": 0,
            "ticks": ""
           }
          },
          "colorscale": {
           "diverging": [
            [
             0,
             "#8e0152"
            ],
            [
             0.1,
             "#c51b7d"
            ],
            [
             0.2,
             "#de77ae"
            ],
            [
             0.3,
             "#f1b6da"
            ],
            [
             0.4,
             "#fde0ef"
            ],
            [
             0.5,
             "#f7f7f7"
            ],
            [
             0.6,
             "#e6f5d0"
            ],
            [
             0.7,
             "#b8e186"
            ],
            [
             0.8,
             "#7fbc41"
            ],
            [
             0.9,
             "#4d9221"
            ],
            [
             1,
             "#276419"
            ]
           ],
           "sequential": [
            [
             0,
             "#0d0887"
            ],
            [
             0.1111111111111111,
             "#46039f"
            ],
            [
             0.2222222222222222,
             "#7201a8"
            ],
            [
             0.3333333333333333,
             "#9c179e"
            ],
            [
             0.4444444444444444,
             "#bd3786"
            ],
            [
             0.5555555555555556,
             "#d8576b"
            ],
            [
             0.6666666666666666,
             "#ed7953"
            ],
            [
             0.7777777777777778,
             "#fb9f3a"
            ],
            [
             0.8888888888888888,
             "#fdca26"
            ],
            [
             1,
             "#f0f921"
            ]
           ],
           "sequentialminus": [
            [
             0,
             "#0d0887"
            ],
            [
             0.1111111111111111,
             "#46039f"
            ],
            [
             0.2222222222222222,
             "#7201a8"
            ],
            [
             0.3333333333333333,
             "#9c179e"
            ],
            [
             0.4444444444444444,
             "#bd3786"
            ],
            [
             0.5555555555555556,
             "#d8576b"
            ],
            [
             0.6666666666666666,
             "#ed7953"
            ],
            [
             0.7777777777777778,
             "#fb9f3a"
            ],
            [
             0.8888888888888888,
             "#fdca26"
            ],
            [
             1,
             "#f0f921"
            ]
           ]
          },
          "colorway": [
           "#636efa",
           "#EF553B",
           "#00cc96",
           "#ab63fa",
           "#FFA15A",
           "#19d3f3",
           "#FF6692",
           "#B6E880",
           "#FF97FF",
           "#FECB52"
          ],
          "font": {
           "color": "#2a3f5f"
          },
          "geo": {
           "bgcolor": "white",
           "lakecolor": "white",
           "landcolor": "#E5ECF6",
           "showlakes": true,
           "showland": true,
           "subunitcolor": "white"
          },
          "hoverlabel": {
           "align": "left"
          },
          "hovermode": "closest",
          "mapbox": {
           "style": "light"
          },
          "paper_bgcolor": "white",
          "plot_bgcolor": "#E5ECF6",
          "polar": {
           "angularaxis": {
            "gridcolor": "white",
            "linecolor": "white",
            "ticks": ""
           },
           "bgcolor": "#E5ECF6",
           "radialaxis": {
            "gridcolor": "white",
            "linecolor": "white",
            "ticks": ""
           }
          },
          "scene": {
           "xaxis": {
            "backgroundcolor": "#E5ECF6",
            "gridcolor": "white",
            "gridwidth": 2,
            "linecolor": "white",
            "showbackground": true,
            "ticks": "",
            "zerolinecolor": "white"
           },
           "yaxis": {
            "backgroundcolor": "#E5ECF6",
            "gridcolor": "white",
            "gridwidth": 2,
            "linecolor": "white",
            "showbackground": true,
            "ticks": "",
            "zerolinecolor": "white"
           },
           "zaxis": {
            "backgroundcolor": "#E5ECF6",
            "gridcolor": "white",
            "gridwidth": 2,
            "linecolor": "white",
            "showbackground": true,
            "ticks": "",
            "zerolinecolor": "white"
           }
          },
          "shapedefaults": {
           "line": {
            "color": "#2a3f5f"
           }
          },
          "ternary": {
           "aaxis": {
            "gridcolor": "white",
            "linecolor": "white",
            "ticks": ""
           },
           "baxis": {
            "gridcolor": "white",
            "linecolor": "white",
            "ticks": ""
           },
           "bgcolor": "#E5ECF6",
           "caxis": {
            "gridcolor": "white",
            "linecolor": "white",
            "ticks": ""
           }
          },
          "title": {
           "x": 0.05
          },
          "xaxis": {
           "automargin": true,
           "gridcolor": "white",
           "linecolor": "white",
           "ticks": "",
           "title": {
            "standoff": 15
           },
           "zerolinecolor": "white",
           "zerolinewidth": 2
          },
          "yaxis": {
           "automargin": true,
           "gridcolor": "white",
           "linecolor": "white",
           "ticks": "",
           "title": {
            "standoff": 15
           },
           "zerolinecolor": "white",
           "zerolinewidth": 2
          }
         }
        },
        "xaxis": {
         "anchor": "y",
         "domain": [
          0,
          1
         ]
        },
        "yaxis": {
         "anchor": "x",
         "domain": [
          0,
          1
         ],
         "title": {
          "text": "PayRate"
         }
        }
       }
      },
      "text/html": [
       "<div>\n",
       "        \n",
       "        \n",
       "            <div id=\"de88042f-a2c2-416f-bfa6-9b7b2a962093\" class=\"plotly-graph-div\" style=\"height:525px; width:100%;\"></div>\n",
       "            <script type=\"text/javascript\">\n",
       "                require([\"plotly\"], function(Plotly) {\n",
       "                    window.PLOTLYENV=window.PLOTLYENV || {};\n",
       "                    \n",
       "                if (document.getElementById(\"de88042f-a2c2-416f-bfa6-9b7b2a962093\")) {\n",
       "                    Plotly.newPlot(\n",
       "                        'de88042f-a2c2-416f-bfa6-9b7b2a962093',\n",
       "                        [{\"alignmentgroup\": \"True\", \"customdata\": [[\"Admin Offices\"], [\"Admin Offices\"], [\"Admin Offices\"], [\"Admin Offices\"], [\"Sales\"], [\"Sales\"], [\"Sales\"], [\"Sales\"], [\"Sales\"], [\"Sales\"], [\"Sales\"], [\"Sales\"], [\"Sales\"], [\"Sales\"], [\"Sales\"], [\"Sales\"], [\"IT/IS\"], [\"IT/IS\"], [\"IT/IS\"], [\"IT/IS\"], [\"IT/IS\"], [\"IT/IS\"], [\"IT/IS\"], [\"IT/IS\"], [\"IT/IS\"], [\"IT/IS\"], [\"Production\"], [\"Sales\"], [\"IT/IS\"], [\"IT/IS\"], [\"IT/IS\"], [\"IT/IS\"], [\"IT/IS\"], [\"IT/IS\"], [\"IT/IS\"], [\"Executive Office\"], [\"Production\"], [\"Production\"], [\"Production\"], [\"Production\"], [\"Production\"], [\"Production\"], [\"Production\"], [\"Production\"], [\"Production\"], [\"Production\"], [\"Production\"], [\"Production\"], [\"Production\"], [\"Production\"], [\"Production\"], [\"Production\"], [\"Production\"], [\"Production\"], [\"Production\"], [\"Production\"], [\"Production\"], [\"Production\"], [\"Production\"], [\"Production\"], [\"Production\"], [\"Production\"], [\"Production\"], [\"Production\"], [\"Production\"], [\"Production\"], [\"Production\"], [\"Production\"], [\"Production\"], [\"Production\"], [\"Production\"], [\"Production\"], [\"Production\"], [\"Production\"], [\"Production\"], [\"Production\"], [\"Production\"], [\"Production\"], [\"Production\"], [\"Production\"], [\"Production\"], [\"Production\"], [\"Production\"], [\"Production\"], [\"Production\"], [\"Production\"], [\"Production\"], [\"Production\"], [\"Production\"], [\"Production\"], [\"Production\"], [\"Production\"], [\"Production\"], [\"Production\"], [\"Production\"], [\"Production\"], [\"Production\"], [\"Production\"], [\"Production\"], [\"Production\"], [\"Production\"], [\"Production\"], [\"Production\"], [\"Production\"], [\"Production\"], [\"Production\"], [\"Production\"], [\"Production\"], [\"Production\"], [\"Production\"], [\"Production\"], [\"Production\"], [\"Production\"], [\"Production\"], [\"Production\"], [\"Production\"], [\"Production\"], [\"Production\"], [\"Production\"], [\"Production\"], [\"Production\"], [\"Production\"], [\"Production\"], [\"Production\"], [\"Production\"], [\"Production\"], [\"Production\"], [\"Production\"], [\"Production\"], [\"Production\"], [\"Production\"], [\"Production\"], [\"Production\"], [\"Production\"], [\"Production\"], [\"Production\"], [\"Production\"], [\"Production\"], [\"Production\"], [\"Production\"], [\"Production\"], [\"Production\"], [\"Production\"], [\"Production\"], [\"Production\"], [\"Production\"], [\"Production\"], [\"Production\"], [\"Production\"], [\"Production\"], [\"Production\"], [\"Production\"], [\"Production\"], [\"Production\"], [\"Production\"], [\"Production\"], [\"Production\"], [\"Production\"], [\"Production\"], [\"Production\"], [\"Production\"], [\"Production\"], [\"Sales\"], [\"Sales\"], [\"IT/IS\"], [\"Software Engineering\"], [\"Software Engineering\"], [\"Software Engineering\"], [\"Software Engineering\"], [\"Software Engineering\"], [\"Software Engineering\"], [\"Admin Offices\"], [\"Admin Offices\"], [\"IT/IS\"], [\"IT/IS\"], [\"IT/IS\"], [\"IT/IS\"]], \"hovertemplate\": \"Sex=F<br>PayRate=%{y}<br>Department=%{customdata[0]}<extra></extra>\", \"legendgroup\": \"F\", \"marker\": {\"color\": \"#1A82FF\"}, \"name\": \"F\", \"notched\": false, \"offsetgroup\": \"F\", \"orientation\": \"v\", \"showlegend\": true, \"type\": \"box\", \"x0\": \" \", \"xaxis\": \"x\", \"y\": [28.5, 21.5, 16.56, 20.5, 55.0, 55.0, 55.0, 55.0, 54.0, 55.0, 55.0, 55.0, 55.0, 57.0, 55.0, 55.0, 45.0, 65.0, 55.0, 43.0, 48.5, 34.0, 40.0, 42.75, 39.55, 31.4, 60.0, 60.0, 31.4, 26.0, 27.49, 37.0, 39.0, 27.0, 47.0, 80.0, 51.0, 55.0, 38.5, 52.0, 55.0, 33.5, 23.0, 21.0, 16.0, 20.0, 24.0, 22.0, 15.0, 20.0, 22.0, 16.0, 22.0, 24.0, 16.0, 23.0, 15.0, 16.0, 24.0, 22.0, 17.0, 20.0, 16.75, 20.0, 20.0, 19.0, 17.0, 21.0, 22.0, 15.0, 21.0, 22.0, 19.5, 15.0, 18.0, 22.0, 21.0, 20.0, 15.0, 18.0, 21.0, 14.0, 15.0, 15.75, 24.0, 14.0, 19.0, 14.0, 20.0, 21.0, 22.0, 22.0, 23.0, 17.0, 17.0, 17.0, 16.0, 24.5, 20.0, 16.0, 20.0, 17.0, 24.0, 21.0, 19.0, 24.0, 18.5, 19.0, 16.0, 14.0, 16.0, 19.75, 19.0, 24.0, 15.25, 20.0, 20.0, 16.0, 20.0, 19.75, 22.0, 19.0, 22.0, 15.2, 15.0, 25.0, 23.0, 23.0, 28.0, 22.0, 25.0, 25.0, 26.0, 24.25, 22.0, 26.0, 22.0, 26.0, 27.0, 25.0, 26.1, 26.39, 28.75, 27.0, 29.0, 24.0, 24.0, 22.5, 26.0, 29.0, 29.0, 27.0, 25.0, 27.0, 24.0, 28.0, 24.0, 23.0, 24.0, 28.0, 23.0, 25.0, 54.0, 60.25, 50.25, 47.6, 56.0, 57.12, 48.5, 55.51, 49.25, 34.95, 34.95, 61.3, 58.5, 54.1, 55.2], \"y0\": \" \", \"yaxis\": \"y\"}, {\"alignmentgroup\": \"True\", \"customdata\": [[\"Admin Offices\"], [\"Admin Offices\"], [\"Sales\"], [\"Sales\"], [\"Sales\"], [\"Sales\"], [\"Sales\"], [\"Sales\"], [\"Sales\"], [\"Sales\"], [\"Sales\"], [\"Sales\"], [\"Sales\"], [\"Sales\"], [\"Sales\"], [\"Sales\"], [\"Sales\"], [\"IT/IS\"], [\"IT/IS\"], [\"IT/IS\"], [\"IT/IS\"], [\"IT/IS\"], [\"IT/IS\"], [\"IT/IS\"], [\"IT/IS\"], [\"IT/IS\"], [\"IT/IS\"], [\"IT/IS\"], [\"IT/IS\"], [\"IT/IS\"], [\"IT/IS\"], [\"IT/IS\"], [\"IT/IS\"], [\"IT/IS\"], [\"IT/IS\"], [\"IT/IS\"], [\"IT/IS\"], [\"IT/IS\"], [\"Production\"], [\"Production\"], [\"Production\"], [\"Production\"], [\"Production\"], [\"Production\"], [\"Production\"], [\"Production\"], [\"Production\"], [\"Production\"], [\"Production\"], [\"Production\"], [\"Production\"], [\"Production\"], [\"Production\"], [\"Production\"], [\"Production\"], [\"Production\"], [\"Production\"], [\"Production\"], [\"Production\"], [\"Production\"], [\"Production\"], [\"Production\"], [\"Production\"], [\"Production\"], [\"Production\"], [\"Production\"], [\"Production\"], [\"Production\"], [\"Production\"], [\"Production\"], [\"Production\"], [\"Production\"], [\"Production\"], [\"Production\"], [\"Production\"], [\"Production\"], [\"Production\"], [\"Production\"], [\"Production\"], [\"Production\"], [\"Production\"], [\"Production\"], [\"Production\"], [\"Production\"], [\"Production\"], [\"Production\"], [\"Production\"], [\"Production\"], [\"Production\"], [\"Production\"], [\"Production\"], [\"Production\"], [\"Production\"], [\"Production\"], [\"Production\"], [\"Production\"], [\"Production\"], [\"Production\"], [\"Production\"], [\"Production\"], [\"Production\"], [\"Production\"], [\"Production\"], [\"Production\"], [\"Production\"], [\"Production\"], [\"Production\"], [\"Production\"], [\"Production\"], [\"Production\"], [\"Production\"], [\"Production\"], [\"Production\"], [\"Production\"], [\"Production\"], [\"Production\"], [\"Production\"], [\"Production\"], [\"Production\"], [\"Sales\"], [\"IT/IS\"], [\"IT/IS\"], [\"Admin Offices\"], [\"Admin Offices\"], [\"Software Engineering\"], [\"Software Engineering\"], [\"Software Engineering\"], [\"Software Engineering\"], [\"IT/IS\"], [\"IT/IS\"], [\"IT/IS\"], [\"IT/IS\"], [\"IT/IS\"]], \"hovertemplate\": \"Sex=M <br>PayRate=%{y}<br>Department=%{customdata[0]}<extra></extra>\", \"legendgroup\": \"M \", \"marker\": {\"color\": \"#FF9E06\"}, \"name\": \"M \", \"notched\": false, \"offsetgroup\": \"M \", \"orientation\": \"v\", \"showlegend\": true, \"type\": \"box\", \"x0\": \" \", \"xaxis\": \"x\", \"y\": [23.0, 29.0, 56.0, 55.5, 55.5, 55.0, 55.0, 55.0, 55.0, 56.0, 55.0, 55.0, 56.0, 55.0, 56.0, 55.0, 55.0, 46.0, 45.0, 45.0, 63.5, 40.1, 35.5, 41.0, 42.2, 45.0, 30.2, 65.0, 62.0, 21.0, 63.0, 64.0, 28.99, 45.0, 42.0, 43.0, 28.0, 49.1, 54.5, 50.5, 55.0, 54.0, 48.5, 42.0, 53.0, 53.0, 16.0, 20.0, 18.0, 15.0, 22.0, 24.0, 21.0, 24.75, 16.0, 21.0, 18.0, 17.0, 15.0, 19.0, 15.0, 17.0, 17.0, 21.0, 20.0, 16.76, 20.0, 21.25, 21.0, 15.0, 16.0, 16.0, 22.0, 22.0, 21.0, 19.0, 14.0, 21.0, 22.0, 15.0, 18.0, 18.0, 19.0, 20.0, 18.0, 17.0, 17.0, 19.0, 22.0, 21.0, 21.0, 19.0, 17.0, 22.0, 23.5, 15.0, 18.0, 24.0, 23.0, 29.0, 29.0, 25.0, 29.0, 26.0, 27.0, 22.0, 24.0, 22.0, 26.0, 29.0, 26.0, 22.0, 25.0, 28.0, 22.0, 24.25, 29.0, 22.0, 23.0, 56.0, 52.25, 51.0, 55.0, 55.0, 52.25, 48.0, 45.42, 27.0, 62.0, 58.2, 56.2, 53.8, 53.0], \"y0\": \" \", \"yaxis\": \"y\"}],\n",
       "                        {\"boxmode\": \"group\", \"legend\": {\"title\": {\"text\": \"Sex\"}, \"tracegroupgap\": 0}, \"margin\": {\"t\": 60}, \"template\": {\"data\": {\"bar\": [{\"error_x\": {\"color\": \"#2a3f5f\"}, \"error_y\": {\"color\": \"#2a3f5f\"}, \"marker\": {\"line\": {\"color\": \"#E5ECF6\", \"width\": 0.5}}, \"type\": \"bar\"}], \"barpolar\": [{\"marker\": {\"line\": {\"color\": \"#E5ECF6\", \"width\": 0.5}}, \"type\": \"barpolar\"}], \"carpet\": [{\"aaxis\": {\"endlinecolor\": \"#2a3f5f\", \"gridcolor\": \"white\", \"linecolor\": \"white\", \"minorgridcolor\": \"white\", \"startlinecolor\": \"#2a3f5f\"}, \"baxis\": {\"endlinecolor\": \"#2a3f5f\", \"gridcolor\": \"white\", \"linecolor\": \"white\", \"minorgridcolor\": \"white\", \"startlinecolor\": \"#2a3f5f\"}, \"type\": \"carpet\"}], \"choropleth\": [{\"colorbar\": {\"outlinewidth\": 0, \"ticks\": \"\"}, \"type\": \"choropleth\"}], \"contour\": [{\"colorbar\": {\"outlinewidth\": 0, \"ticks\": \"\"}, \"colorscale\": [[0.0, \"#0d0887\"], [0.1111111111111111, \"#46039f\"], [0.2222222222222222, \"#7201a8\"], [0.3333333333333333, \"#9c179e\"], [0.4444444444444444, \"#bd3786\"], [0.5555555555555556, \"#d8576b\"], [0.6666666666666666, \"#ed7953\"], [0.7777777777777778, \"#fb9f3a\"], [0.8888888888888888, \"#fdca26\"], [1.0, \"#f0f921\"]], \"type\": \"contour\"}], \"contourcarpet\": [{\"colorbar\": {\"outlinewidth\": 0, \"ticks\": \"\"}, \"type\": \"contourcarpet\"}], \"heatmap\": [{\"colorbar\": {\"outlinewidth\": 0, \"ticks\": \"\"}, \"colorscale\": [[0.0, \"#0d0887\"], [0.1111111111111111, \"#46039f\"], [0.2222222222222222, \"#7201a8\"], [0.3333333333333333, \"#9c179e\"], [0.4444444444444444, \"#bd3786\"], [0.5555555555555556, \"#d8576b\"], [0.6666666666666666, \"#ed7953\"], [0.7777777777777778, \"#fb9f3a\"], [0.8888888888888888, \"#fdca26\"], [1.0, \"#f0f921\"]], \"type\": \"heatmap\"}], \"heatmapgl\": [{\"colorbar\": {\"outlinewidth\": 0, \"ticks\": \"\"}, \"colorscale\": [[0.0, \"#0d0887\"], [0.1111111111111111, \"#46039f\"], [0.2222222222222222, \"#7201a8\"], [0.3333333333333333, \"#9c179e\"], [0.4444444444444444, \"#bd3786\"], [0.5555555555555556, \"#d8576b\"], [0.6666666666666666, \"#ed7953\"], [0.7777777777777778, \"#fb9f3a\"], [0.8888888888888888, \"#fdca26\"], [1.0, \"#f0f921\"]], \"type\": \"heatmapgl\"}], \"histogram\": [{\"marker\": {\"colorbar\": {\"outlinewidth\": 0, \"ticks\": \"\"}}, \"type\": \"histogram\"}], \"histogram2d\": [{\"colorbar\": {\"outlinewidth\": 0, \"ticks\": \"\"}, \"colorscale\": [[0.0, \"#0d0887\"], [0.1111111111111111, \"#46039f\"], [0.2222222222222222, \"#7201a8\"], [0.3333333333333333, \"#9c179e\"], [0.4444444444444444, \"#bd3786\"], [0.5555555555555556, \"#d8576b\"], [0.6666666666666666, \"#ed7953\"], [0.7777777777777778, \"#fb9f3a\"], [0.8888888888888888, \"#fdca26\"], [1.0, \"#f0f921\"]], \"type\": \"histogram2d\"}], \"histogram2dcontour\": [{\"colorbar\": {\"outlinewidth\": 0, \"ticks\": \"\"}, \"colorscale\": [[0.0, \"#0d0887\"], [0.1111111111111111, \"#46039f\"], [0.2222222222222222, \"#7201a8\"], [0.3333333333333333, \"#9c179e\"], [0.4444444444444444, \"#bd3786\"], [0.5555555555555556, \"#d8576b\"], [0.6666666666666666, \"#ed7953\"], [0.7777777777777778, \"#fb9f3a\"], [0.8888888888888888, \"#fdca26\"], [1.0, \"#f0f921\"]], \"type\": \"histogram2dcontour\"}], \"mesh3d\": [{\"colorbar\": {\"outlinewidth\": 0, \"ticks\": \"\"}, \"type\": \"mesh3d\"}], \"parcoords\": [{\"line\": {\"colorbar\": {\"outlinewidth\": 0, \"ticks\": \"\"}}, \"type\": \"parcoords\"}], \"pie\": [{\"automargin\": true, \"type\": \"pie\"}], \"scatter\": [{\"marker\": {\"colorbar\": {\"outlinewidth\": 0, \"ticks\": \"\"}}, \"type\": \"scatter\"}], \"scatter3d\": [{\"line\": {\"colorbar\": {\"outlinewidth\": 0, \"ticks\": \"\"}}, \"marker\": {\"colorbar\": {\"outlinewidth\": 0, \"ticks\": \"\"}}, \"type\": \"scatter3d\"}], \"scattercarpet\": [{\"marker\": {\"colorbar\": {\"outlinewidth\": 0, \"ticks\": \"\"}}, \"type\": \"scattercarpet\"}], \"scattergeo\": [{\"marker\": {\"colorbar\": {\"outlinewidth\": 0, \"ticks\": \"\"}}, \"type\": \"scattergeo\"}], \"scattergl\": [{\"marker\": {\"colorbar\": {\"outlinewidth\": 0, \"ticks\": \"\"}}, \"type\": \"scattergl\"}], \"scattermapbox\": [{\"marker\": {\"colorbar\": {\"outlinewidth\": 0, \"ticks\": \"\"}}, \"type\": \"scattermapbox\"}], \"scatterpolar\": [{\"marker\": {\"colorbar\": {\"outlinewidth\": 0, \"ticks\": \"\"}}, \"type\": \"scatterpolar\"}], \"scatterpolargl\": [{\"marker\": {\"colorbar\": {\"outlinewidth\": 0, \"ticks\": \"\"}}, \"type\": \"scatterpolargl\"}], \"scatterternary\": [{\"marker\": {\"colorbar\": {\"outlinewidth\": 0, \"ticks\": \"\"}}, \"type\": \"scatterternary\"}], \"surface\": [{\"colorbar\": {\"outlinewidth\": 0, \"ticks\": \"\"}, \"colorscale\": [[0.0, \"#0d0887\"], [0.1111111111111111, \"#46039f\"], [0.2222222222222222, \"#7201a8\"], [0.3333333333333333, \"#9c179e\"], [0.4444444444444444, \"#bd3786\"], [0.5555555555555556, \"#d8576b\"], [0.6666666666666666, \"#ed7953\"], [0.7777777777777778, \"#fb9f3a\"], [0.8888888888888888, \"#fdca26\"], [1.0, \"#f0f921\"]], \"type\": \"surface\"}], \"table\": [{\"cells\": {\"fill\": {\"color\": \"#EBF0F8\"}, \"line\": {\"color\": \"white\"}}, \"header\": {\"fill\": {\"color\": \"#C8D4E3\"}, \"line\": {\"color\": \"white\"}}, \"type\": \"table\"}]}, \"layout\": {\"annotationdefaults\": {\"arrowcolor\": \"#2a3f5f\", \"arrowhead\": 0, \"arrowwidth\": 1}, \"coloraxis\": {\"colorbar\": {\"outlinewidth\": 0, \"ticks\": \"\"}}, \"colorscale\": {\"diverging\": [[0, \"#8e0152\"], [0.1, \"#c51b7d\"], [0.2, \"#de77ae\"], [0.3, \"#f1b6da\"], [0.4, \"#fde0ef\"], [0.5, \"#f7f7f7\"], [0.6, \"#e6f5d0\"], [0.7, \"#b8e186\"], [0.8, \"#7fbc41\"], [0.9, \"#4d9221\"], [1, \"#276419\"]], \"sequential\": [[0.0, \"#0d0887\"], [0.1111111111111111, \"#46039f\"], [0.2222222222222222, \"#7201a8\"], [0.3333333333333333, \"#9c179e\"], [0.4444444444444444, \"#bd3786\"], [0.5555555555555556, \"#d8576b\"], [0.6666666666666666, \"#ed7953\"], [0.7777777777777778, \"#fb9f3a\"], [0.8888888888888888, \"#fdca26\"], [1.0, \"#f0f921\"]], \"sequentialminus\": [[0.0, \"#0d0887\"], [0.1111111111111111, \"#46039f\"], [0.2222222222222222, \"#7201a8\"], [0.3333333333333333, \"#9c179e\"], [0.4444444444444444, \"#bd3786\"], [0.5555555555555556, \"#d8576b\"], [0.6666666666666666, \"#ed7953\"], [0.7777777777777778, \"#fb9f3a\"], [0.8888888888888888, \"#fdca26\"], [1.0, \"#f0f921\"]]}, \"colorway\": [\"#636efa\", \"#EF553B\", \"#00cc96\", \"#ab63fa\", \"#FFA15A\", \"#19d3f3\", \"#FF6692\", \"#B6E880\", \"#FF97FF\", \"#FECB52\"], \"font\": {\"color\": \"#2a3f5f\"}, \"geo\": {\"bgcolor\": \"white\", \"lakecolor\": \"white\", \"landcolor\": \"#E5ECF6\", \"showlakes\": true, \"showland\": true, \"subunitcolor\": \"white\"}, \"hoverlabel\": {\"align\": \"left\"}, \"hovermode\": \"closest\", \"mapbox\": {\"style\": \"light\"}, \"paper_bgcolor\": \"white\", \"plot_bgcolor\": \"#E5ECF6\", \"polar\": {\"angularaxis\": {\"gridcolor\": \"white\", \"linecolor\": \"white\", \"ticks\": \"\"}, \"bgcolor\": \"#E5ECF6\", \"radialaxis\": {\"gridcolor\": \"white\", \"linecolor\": \"white\", \"ticks\": \"\"}}, \"scene\": {\"xaxis\": {\"backgroundcolor\": \"#E5ECF6\", \"gridcolor\": \"white\", \"gridwidth\": 2, \"linecolor\": \"white\", \"showbackground\": true, \"ticks\": \"\", \"zerolinecolor\": \"white\"}, \"yaxis\": {\"backgroundcolor\": \"#E5ECF6\", \"gridcolor\": \"white\", \"gridwidth\": 2, \"linecolor\": \"white\", \"showbackground\": true, \"ticks\": \"\", \"zerolinecolor\": \"white\"}, \"zaxis\": {\"backgroundcolor\": \"#E5ECF6\", \"gridcolor\": \"white\", \"gridwidth\": 2, \"linecolor\": \"white\", \"showbackground\": true, \"ticks\": \"\", \"zerolinecolor\": \"white\"}}, \"shapedefaults\": {\"line\": {\"color\": \"#2a3f5f\"}}, \"ternary\": {\"aaxis\": {\"gridcolor\": \"white\", \"linecolor\": \"white\", \"ticks\": \"\"}, \"baxis\": {\"gridcolor\": \"white\", \"linecolor\": \"white\", \"ticks\": \"\"}, \"bgcolor\": \"#E5ECF6\", \"caxis\": {\"gridcolor\": \"white\", \"linecolor\": \"white\", \"ticks\": \"\"}}, \"title\": {\"x\": 0.05}, \"xaxis\": {\"automargin\": true, \"gridcolor\": \"white\", \"linecolor\": \"white\", \"ticks\": \"\", \"title\": {\"standoff\": 15}, \"zerolinecolor\": \"white\", \"zerolinewidth\": 2}, \"yaxis\": {\"automargin\": true, \"gridcolor\": \"white\", \"linecolor\": \"white\", \"ticks\": \"\", \"title\": {\"standoff\": 15}, \"zerolinecolor\": \"white\", \"zerolinewidth\": 2}}}, \"xaxis\": {\"anchor\": \"y\", \"domain\": [0.0, 1.0]}, \"yaxis\": {\"anchor\": \"x\", \"domain\": [0.0, 1.0], \"title\": {\"text\": \"PayRate\"}}},\n",
       "                        {\"responsive\": true}\n",
       "                    ).then(function(){\n",
       "                            \n",
       "var gd = document.getElementById('de88042f-a2c2-416f-bfa6-9b7b2a962093');\n",
       "var x = new MutationObserver(function (mutations, observer) {{\n",
       "        var display = window.getComputedStyle(gd).display;\n",
       "        if (!display || display === 'none') {{\n",
       "            console.log([gd, 'removed!']);\n",
       "            Plotly.purge(gd);\n",
       "            observer.disconnect();\n",
       "        }}\n",
       "}});\n",
       "\n",
       "// Listen for the removal of the full notebook cells\n",
       "var notebookContainer = gd.closest('#notebook-container');\n",
       "if (notebookContainer) {{\n",
       "    x.observe(notebookContainer, {childList: true});\n",
       "}}\n",
       "\n",
       "// Listen for the clearing of the current output cell\n",
       "var outputEl = gd.closest('.output');\n",
       "if (outputEl) {{\n",
       "    x.observe(outputEl, {childList: true});\n",
       "}}\n",
       "\n",
       "                        })\n",
       "                };\n",
       "                });\n",
       "            </script>\n",
       "        </div>"
      ]
     },
     "metadata": {},
     "output_type": "display_data"
    }
   ],
   "source": [
    "fig = px.box(hr, y=\"PayRate\", color=\"Sex\", color_discrete_sequence=palette_2, hover_data=['Department'])\n",
    "fig.show()"
   ]
  },
  {
   "cell_type": "code",
   "execution_count": 42,
   "metadata": {
    "collapsed": true
   },
   "outputs": [
    {
     "data": {
      "application/vnd.plotly.v1+json": {
       "config": {
        "plotlyServerURL": "https://plot.ly"
       },
       "data": [
        {
         "alignmentgroup": "True",
         "box": {
          "visible": true
         },
         "customdata": [
          [
           "Admin Offices"
          ],
          [
           "Admin Offices"
          ],
          [
           "Admin Offices"
          ],
          [
           "Admin Offices"
          ],
          [
           "Sales"
          ],
          [
           "Sales"
          ],
          [
           "Sales"
          ],
          [
           "Sales"
          ],
          [
           "Sales"
          ],
          [
           "Sales"
          ],
          [
           "Sales"
          ],
          [
           "Sales"
          ],
          [
           "Sales"
          ],
          [
           "Sales"
          ],
          [
           "Sales"
          ],
          [
           "Sales"
          ],
          [
           "IT/IS"
          ],
          [
           "IT/IS"
          ],
          [
           "IT/IS"
          ],
          [
           "IT/IS"
          ],
          [
           "IT/IS"
          ],
          [
           "IT/IS"
          ],
          [
           "IT/IS"
          ],
          [
           "IT/IS"
          ],
          [
           "IT/IS"
          ],
          [
           "IT/IS"
          ],
          [
           "Production"
          ],
          [
           "Sales"
          ],
          [
           "IT/IS"
          ],
          [
           "IT/IS"
          ],
          [
           "IT/IS"
          ],
          [
           "IT/IS"
          ],
          [
           "IT/IS"
          ],
          [
           "IT/IS"
          ],
          [
           "IT/IS"
          ],
          [
           "Executive Office"
          ],
          [
           "Production"
          ],
          [
           "Production"
          ],
          [
           "Production"
          ],
          [
           "Production"
          ],
          [
           "Production"
          ],
          [
           "Production"
          ],
          [
           "Production"
          ],
          [
           "Production"
          ],
          [
           "Production"
          ],
          [
           "Production"
          ],
          [
           "Production"
          ],
          [
           "Production"
          ],
          [
           "Production"
          ],
          [
           "Production"
          ],
          [
           "Production"
          ],
          [
           "Production"
          ],
          [
           "Production"
          ],
          [
           "Production"
          ],
          [
           "Production"
          ],
          [
           "Production"
          ],
          [
           "Production"
          ],
          [
           "Production"
          ],
          [
           "Production"
          ],
          [
           "Production"
          ],
          [
           "Production"
          ],
          [
           "Production"
          ],
          [
           "Production"
          ],
          [
           "Production"
          ],
          [
           "Production"
          ],
          [
           "Production"
          ],
          [
           "Production"
          ],
          [
           "Production"
          ],
          [
           "Production"
          ],
          [
           "Production"
          ],
          [
           "Production"
          ],
          [
           "Production"
          ],
          [
           "Production"
          ],
          [
           "Production"
          ],
          [
           "Production"
          ],
          [
           "Production"
          ],
          [
           "Production"
          ],
          [
           "Production"
          ],
          [
           "Production"
          ],
          [
           "Production"
          ],
          [
           "Production"
          ],
          [
           "Production"
          ],
          [
           "Production"
          ],
          [
           "Production"
          ],
          [
           "Production"
          ],
          [
           "Production"
          ],
          [
           "Production"
          ],
          [
           "Production"
          ],
          [
           "Production"
          ],
          [
           "Production"
          ],
          [
           "Production"
          ],
          [
           "Production"
          ],
          [
           "Production"
          ],
          [
           "Production"
          ],
          [
           "Production"
          ],
          [
           "Production"
          ],
          [
           "Production"
          ],
          [
           "Production"
          ],
          [
           "Production"
          ],
          [
           "Production"
          ],
          [
           "Production"
          ],
          [
           "Production"
          ],
          [
           "Production"
          ],
          [
           "Production"
          ],
          [
           "Production"
          ],
          [
           "Production"
          ],
          [
           "Production"
          ],
          [
           "Production"
          ],
          [
           "Production"
          ],
          [
           "Production"
          ],
          [
           "Production"
          ],
          [
           "Production"
          ],
          [
           "Production"
          ],
          [
           "Production"
          ],
          [
           "Production"
          ],
          [
           "Production"
          ],
          [
           "Production"
          ],
          [
           "Production"
          ],
          [
           "Production"
          ],
          [
           "Production"
          ],
          [
           "Production"
          ],
          [
           "Production"
          ],
          [
           "Production"
          ],
          [
           "Production"
          ],
          [
           "Production"
          ],
          [
           "Production"
          ],
          [
           "Production"
          ],
          [
           "Production"
          ],
          [
           "Production"
          ],
          [
           "Production"
          ],
          [
           "Production"
          ],
          [
           "Production"
          ],
          [
           "Production"
          ],
          [
           "Production"
          ],
          [
           "Production"
          ],
          [
           "Production"
          ],
          [
           "Production"
          ],
          [
           "Production"
          ],
          [
           "Production"
          ],
          [
           "Production"
          ],
          [
           "Production"
          ],
          [
           "Production"
          ],
          [
           "Production"
          ],
          [
           "Production"
          ],
          [
           "Production"
          ],
          [
           "Production"
          ],
          [
           "Production"
          ],
          [
           "Production"
          ],
          [
           "Production"
          ],
          [
           "Production"
          ],
          [
           "Production"
          ],
          [
           "Production"
          ],
          [
           "Production"
          ],
          [
           "Production"
          ],
          [
           "Production"
          ],
          [
           "Production"
          ],
          [
           "Production"
          ],
          [
           "Production"
          ],
          [
           "Production"
          ],
          [
           "Production"
          ],
          [
           "Production"
          ],
          [
           "Production"
          ],
          [
           "Sales"
          ],
          [
           "Sales"
          ],
          [
           "IT/IS"
          ],
          [
           "Software Engineering"
          ],
          [
           "Software Engineering"
          ],
          [
           "Software Engineering"
          ],
          [
           "Software Engineering"
          ],
          [
           "Software Engineering"
          ],
          [
           "Software Engineering"
          ],
          [
           "Admin Offices"
          ],
          [
           "Admin Offices"
          ],
          [
           "IT/IS"
          ],
          [
           "IT/IS"
          ],
          [
           "IT/IS"
          ],
          [
           "IT/IS"
          ]
         ],
         "hovertemplate": "Sex=F<br>PayRate=%{y}<br>Department=%{customdata[0]}<extra></extra>",
         "legendgroup": "F",
         "marker": {
          "color": "#1A82FF"
         },
         "name": "F",
         "offsetgroup": "F",
         "orientation": "v",
         "scalegroup": "True",
         "showlegend": true,
         "type": "violin",
         "x0": " ",
         "xaxis": "x",
         "y": [
          28.5,
          21.5,
          16.56,
          20.5,
          55,
          55,
          55,
          55,
          54,
          55,
          55,
          55,
          55,
          57,
          55,
          55,
          45,
          65,
          55,
          43,
          48.5,
          34,
          40,
          42.75,
          39.55,
          31.4,
          60,
          60,
          31.4,
          26,
          27.49,
          37,
          39,
          27,
          47,
          80,
          51,
          55,
          38.5,
          52,
          55,
          33.5,
          23,
          21,
          16,
          20,
          24,
          22,
          15,
          20,
          22,
          16,
          22,
          24,
          16,
          23,
          15,
          16,
          24,
          22,
          17,
          20,
          16.75,
          20,
          20,
          19,
          17,
          21,
          22,
          15,
          21,
          22,
          19.5,
          15,
          18,
          22,
          21,
          20,
          15,
          18,
          21,
          14,
          15,
          15.75,
          24,
          14,
          19,
          14,
          20,
          21,
          22,
          22,
          23,
          17,
          17,
          17,
          16,
          24.5,
          20,
          16,
          20,
          17,
          24,
          21,
          19,
          24,
          18.5,
          19,
          16,
          14,
          16,
          19.75,
          19,
          24,
          15.25,
          20,
          20,
          16,
          20,
          19.75,
          22,
          19,
          22,
          15.2,
          15,
          25,
          23,
          23,
          28,
          22,
          25,
          25,
          26,
          24.25,
          22,
          26,
          22,
          26,
          27,
          25,
          26.1,
          26.39,
          28.75,
          27,
          29,
          24,
          24,
          22.5,
          26,
          29,
          29,
          27,
          25,
          27,
          24,
          28,
          24,
          23,
          24,
          28,
          23,
          25,
          54,
          60.25,
          50.25,
          47.6,
          56,
          57.12,
          48.5,
          55.51,
          49.25,
          34.95,
          34.95,
          61.3,
          58.5,
          54.1,
          55.2
         ],
         "y0": " ",
         "yaxis": "y"
        },
        {
         "alignmentgroup": "True",
         "box": {
          "visible": true
         },
         "customdata": [
          [
           "Admin Offices"
          ],
          [
           "Admin Offices"
          ],
          [
           "Sales"
          ],
          [
           "Sales"
          ],
          [
           "Sales"
          ],
          [
           "Sales"
          ],
          [
           "Sales"
          ],
          [
           "Sales"
          ],
          [
           "Sales"
          ],
          [
           "Sales"
          ],
          [
           "Sales"
          ],
          [
           "Sales"
          ],
          [
           "Sales"
          ],
          [
           "Sales"
          ],
          [
           "Sales"
          ],
          [
           "Sales"
          ],
          [
           "Sales"
          ],
          [
           "IT/IS"
          ],
          [
           "IT/IS"
          ],
          [
           "IT/IS"
          ],
          [
           "IT/IS"
          ],
          [
           "IT/IS"
          ],
          [
           "IT/IS"
          ],
          [
           "IT/IS"
          ],
          [
           "IT/IS"
          ],
          [
           "IT/IS"
          ],
          [
           "IT/IS"
          ],
          [
           "IT/IS"
          ],
          [
           "IT/IS"
          ],
          [
           "IT/IS"
          ],
          [
           "IT/IS"
          ],
          [
           "IT/IS"
          ],
          [
           "IT/IS"
          ],
          [
           "IT/IS"
          ],
          [
           "IT/IS"
          ],
          [
           "IT/IS"
          ],
          [
           "IT/IS"
          ],
          [
           "IT/IS"
          ],
          [
           "Production"
          ],
          [
           "Production"
          ],
          [
           "Production"
          ],
          [
           "Production"
          ],
          [
           "Production"
          ],
          [
           "Production"
          ],
          [
           "Production"
          ],
          [
           "Production"
          ],
          [
           "Production"
          ],
          [
           "Production"
          ],
          [
           "Production"
          ],
          [
           "Production"
          ],
          [
           "Production"
          ],
          [
           "Production"
          ],
          [
           "Production"
          ],
          [
           "Production"
          ],
          [
           "Production"
          ],
          [
           "Production"
          ],
          [
           "Production"
          ],
          [
           "Production"
          ],
          [
           "Production"
          ],
          [
           "Production"
          ],
          [
           "Production"
          ],
          [
           "Production"
          ],
          [
           "Production"
          ],
          [
           "Production"
          ],
          [
           "Production"
          ],
          [
           "Production"
          ],
          [
           "Production"
          ],
          [
           "Production"
          ],
          [
           "Production"
          ],
          [
           "Production"
          ],
          [
           "Production"
          ],
          [
           "Production"
          ],
          [
           "Production"
          ],
          [
           "Production"
          ],
          [
           "Production"
          ],
          [
           "Production"
          ],
          [
           "Production"
          ],
          [
           "Production"
          ],
          [
           "Production"
          ],
          [
           "Production"
          ],
          [
           "Production"
          ],
          [
           "Production"
          ],
          [
           "Production"
          ],
          [
           "Production"
          ],
          [
           "Production"
          ],
          [
           "Production"
          ],
          [
           "Production"
          ],
          [
           "Production"
          ],
          [
           "Production"
          ],
          [
           "Production"
          ],
          [
           "Production"
          ],
          [
           "Production"
          ],
          [
           "Production"
          ],
          [
           "Production"
          ],
          [
           "Production"
          ],
          [
           "Production"
          ],
          [
           "Production"
          ],
          [
           "Production"
          ],
          [
           "Production"
          ],
          [
           "Production"
          ],
          [
           "Production"
          ],
          [
           "Production"
          ],
          [
           "Production"
          ],
          [
           "Production"
          ],
          [
           "Production"
          ],
          [
           "Production"
          ],
          [
           "Production"
          ],
          [
           "Production"
          ],
          [
           "Production"
          ],
          [
           "Production"
          ],
          [
           "Production"
          ],
          [
           "Production"
          ],
          [
           "Production"
          ],
          [
           "Production"
          ],
          [
           "Production"
          ],
          [
           "Production"
          ],
          [
           "Production"
          ],
          [
           "Production"
          ],
          [
           "Production"
          ],
          [
           "Sales"
          ],
          [
           "IT/IS"
          ],
          [
           "IT/IS"
          ],
          [
           "Admin Offices"
          ],
          [
           "Admin Offices"
          ],
          [
           "Software Engineering"
          ],
          [
           "Software Engineering"
          ],
          [
           "Software Engineering"
          ],
          [
           "Software Engineering"
          ],
          [
           "IT/IS"
          ],
          [
           "IT/IS"
          ],
          [
           "IT/IS"
          ],
          [
           "IT/IS"
          ],
          [
           "IT/IS"
          ]
         ],
         "hovertemplate": "Sex=M <br>PayRate=%{y}<br>Department=%{customdata[0]}<extra></extra>",
         "legendgroup": "M ",
         "marker": {
          "color": "#FF9E06"
         },
         "name": "M ",
         "offsetgroup": "M ",
         "orientation": "v",
         "scalegroup": "True",
         "showlegend": true,
         "type": "violin",
         "x0": " ",
         "xaxis": "x",
         "y": [
          23,
          29,
          56,
          55.5,
          55.5,
          55,
          55,
          55,
          55,
          56,
          55,
          55,
          56,
          55,
          56,
          55,
          55,
          46,
          45,
          45,
          63.5,
          40.1,
          35.5,
          41,
          42.2,
          45,
          30.2,
          65,
          62,
          21,
          63,
          64,
          28.99,
          45,
          42,
          43,
          28,
          49.1,
          54.5,
          50.5,
          55,
          54,
          48.5,
          42,
          53,
          53,
          16,
          20,
          18,
          15,
          22,
          24,
          21,
          24.75,
          16,
          21,
          18,
          17,
          15,
          19,
          15,
          17,
          17,
          21,
          20,
          16.76,
          20,
          21.25,
          21,
          15,
          16,
          16,
          22,
          22,
          21,
          19,
          14,
          21,
          22,
          15,
          18,
          18,
          19,
          20,
          18,
          17,
          17,
          19,
          22,
          21,
          21,
          19,
          17,
          22,
          23.5,
          15,
          18,
          24,
          23,
          29,
          29,
          25,
          29,
          26,
          27,
          22,
          24,
          22,
          26,
          29,
          26,
          22,
          25,
          28,
          22,
          24.25,
          29,
          22,
          23,
          56,
          52.25,
          51,
          55,
          55,
          52.25,
          48,
          45.42,
          27,
          62,
          58.2,
          56.2,
          53.8,
          53
         ],
         "y0": " ",
         "yaxis": "y"
        }
       ],
       "layout": {
        "legend": {
         "title": {
          "text": "Sex"
         },
         "tracegroupgap": 0
        },
        "margin": {
         "t": 60
        },
        "template": {
         "data": {
          "bar": [
           {
            "error_x": {
             "color": "#2a3f5f"
            },
            "error_y": {
             "color": "#2a3f5f"
            },
            "marker": {
             "line": {
              "color": "#E5ECF6",
              "width": 0.5
             }
            },
            "type": "bar"
           }
          ],
          "barpolar": [
           {
            "marker": {
             "line": {
              "color": "#E5ECF6",
              "width": 0.5
             }
            },
            "type": "barpolar"
           }
          ],
          "carpet": [
           {
            "aaxis": {
             "endlinecolor": "#2a3f5f",
             "gridcolor": "white",
             "linecolor": "white",
             "minorgridcolor": "white",
             "startlinecolor": "#2a3f5f"
            },
            "baxis": {
             "endlinecolor": "#2a3f5f",
             "gridcolor": "white",
             "linecolor": "white",
             "minorgridcolor": "white",
             "startlinecolor": "#2a3f5f"
            },
            "type": "carpet"
           }
          ],
          "choropleth": [
           {
            "colorbar": {
             "outlinewidth": 0,
             "ticks": ""
            },
            "type": "choropleth"
           }
          ],
          "contour": [
           {
            "colorbar": {
             "outlinewidth": 0,
             "ticks": ""
            },
            "colorscale": [
             [
              0,
              "#0d0887"
             ],
             [
              0.1111111111111111,
              "#46039f"
             ],
             [
              0.2222222222222222,
              "#7201a8"
             ],
             [
              0.3333333333333333,
              "#9c179e"
             ],
             [
              0.4444444444444444,
              "#bd3786"
             ],
             [
              0.5555555555555556,
              "#d8576b"
             ],
             [
              0.6666666666666666,
              "#ed7953"
             ],
             [
              0.7777777777777778,
              "#fb9f3a"
             ],
             [
              0.8888888888888888,
              "#fdca26"
             ],
             [
              1,
              "#f0f921"
             ]
            ],
            "type": "contour"
           }
          ],
          "contourcarpet": [
           {
            "colorbar": {
             "outlinewidth": 0,
             "ticks": ""
            },
            "type": "contourcarpet"
           }
          ],
          "heatmap": [
           {
            "colorbar": {
             "outlinewidth": 0,
             "ticks": ""
            },
            "colorscale": [
             [
              0,
              "#0d0887"
             ],
             [
              0.1111111111111111,
              "#46039f"
             ],
             [
              0.2222222222222222,
              "#7201a8"
             ],
             [
              0.3333333333333333,
              "#9c179e"
             ],
             [
              0.4444444444444444,
              "#bd3786"
             ],
             [
              0.5555555555555556,
              "#d8576b"
             ],
             [
              0.6666666666666666,
              "#ed7953"
             ],
             [
              0.7777777777777778,
              "#fb9f3a"
             ],
             [
              0.8888888888888888,
              "#fdca26"
             ],
             [
              1,
              "#f0f921"
             ]
            ],
            "type": "heatmap"
           }
          ],
          "heatmapgl": [
           {
            "colorbar": {
             "outlinewidth": 0,
             "ticks": ""
            },
            "colorscale": [
             [
              0,
              "#0d0887"
             ],
             [
              0.1111111111111111,
              "#46039f"
             ],
             [
              0.2222222222222222,
              "#7201a8"
             ],
             [
              0.3333333333333333,
              "#9c179e"
             ],
             [
              0.4444444444444444,
              "#bd3786"
             ],
             [
              0.5555555555555556,
              "#d8576b"
             ],
             [
              0.6666666666666666,
              "#ed7953"
             ],
             [
              0.7777777777777778,
              "#fb9f3a"
             ],
             [
              0.8888888888888888,
              "#fdca26"
             ],
             [
              1,
              "#f0f921"
             ]
            ],
            "type": "heatmapgl"
           }
          ],
          "histogram": [
           {
            "marker": {
             "colorbar": {
              "outlinewidth": 0,
              "ticks": ""
             }
            },
            "type": "histogram"
           }
          ],
          "histogram2d": [
           {
            "colorbar": {
             "outlinewidth": 0,
             "ticks": ""
            },
            "colorscale": [
             [
              0,
              "#0d0887"
             ],
             [
              0.1111111111111111,
              "#46039f"
             ],
             [
              0.2222222222222222,
              "#7201a8"
             ],
             [
              0.3333333333333333,
              "#9c179e"
             ],
             [
              0.4444444444444444,
              "#bd3786"
             ],
             [
              0.5555555555555556,
              "#d8576b"
             ],
             [
              0.6666666666666666,
              "#ed7953"
             ],
             [
              0.7777777777777778,
              "#fb9f3a"
             ],
             [
              0.8888888888888888,
              "#fdca26"
             ],
             [
              1,
              "#f0f921"
             ]
            ],
            "type": "histogram2d"
           }
          ],
          "histogram2dcontour": [
           {
            "colorbar": {
             "outlinewidth": 0,
             "ticks": ""
            },
            "colorscale": [
             [
              0,
              "#0d0887"
             ],
             [
              0.1111111111111111,
              "#46039f"
             ],
             [
              0.2222222222222222,
              "#7201a8"
             ],
             [
              0.3333333333333333,
              "#9c179e"
             ],
             [
              0.4444444444444444,
              "#bd3786"
             ],
             [
              0.5555555555555556,
              "#d8576b"
             ],
             [
              0.6666666666666666,
              "#ed7953"
             ],
             [
              0.7777777777777778,
              "#fb9f3a"
             ],
             [
              0.8888888888888888,
              "#fdca26"
             ],
             [
              1,
              "#f0f921"
             ]
            ],
            "type": "histogram2dcontour"
           }
          ],
          "mesh3d": [
           {
            "colorbar": {
             "outlinewidth": 0,
             "ticks": ""
            },
            "type": "mesh3d"
           }
          ],
          "parcoords": [
           {
            "line": {
             "colorbar": {
              "outlinewidth": 0,
              "ticks": ""
             }
            },
            "type": "parcoords"
           }
          ],
          "pie": [
           {
            "automargin": true,
            "type": "pie"
           }
          ],
          "scatter": [
           {
            "marker": {
             "colorbar": {
              "outlinewidth": 0,
              "ticks": ""
             }
            },
            "type": "scatter"
           }
          ],
          "scatter3d": [
           {
            "line": {
             "colorbar": {
              "outlinewidth": 0,
              "ticks": ""
             }
            },
            "marker": {
             "colorbar": {
              "outlinewidth": 0,
              "ticks": ""
             }
            },
            "type": "scatter3d"
           }
          ],
          "scattercarpet": [
           {
            "marker": {
             "colorbar": {
              "outlinewidth": 0,
              "ticks": ""
             }
            },
            "type": "scattercarpet"
           }
          ],
          "scattergeo": [
           {
            "marker": {
             "colorbar": {
              "outlinewidth": 0,
              "ticks": ""
             }
            },
            "type": "scattergeo"
           }
          ],
          "scattergl": [
           {
            "marker": {
             "colorbar": {
              "outlinewidth": 0,
              "ticks": ""
             }
            },
            "type": "scattergl"
           }
          ],
          "scattermapbox": [
           {
            "marker": {
             "colorbar": {
              "outlinewidth": 0,
              "ticks": ""
             }
            },
            "type": "scattermapbox"
           }
          ],
          "scatterpolar": [
           {
            "marker": {
             "colorbar": {
              "outlinewidth": 0,
              "ticks": ""
             }
            },
            "type": "scatterpolar"
           }
          ],
          "scatterpolargl": [
           {
            "marker": {
             "colorbar": {
              "outlinewidth": 0,
              "ticks": ""
             }
            },
            "type": "scatterpolargl"
           }
          ],
          "scatterternary": [
           {
            "marker": {
             "colorbar": {
              "outlinewidth": 0,
              "ticks": ""
             }
            },
            "type": "scatterternary"
           }
          ],
          "surface": [
           {
            "colorbar": {
             "outlinewidth": 0,
             "ticks": ""
            },
            "colorscale": [
             [
              0,
              "#0d0887"
             ],
             [
              0.1111111111111111,
              "#46039f"
             ],
             [
              0.2222222222222222,
              "#7201a8"
             ],
             [
              0.3333333333333333,
              "#9c179e"
             ],
             [
              0.4444444444444444,
              "#bd3786"
             ],
             [
              0.5555555555555556,
              "#d8576b"
             ],
             [
              0.6666666666666666,
              "#ed7953"
             ],
             [
              0.7777777777777778,
              "#fb9f3a"
             ],
             [
              0.8888888888888888,
              "#fdca26"
             ],
             [
              1,
              "#f0f921"
             ]
            ],
            "type": "surface"
           }
          ],
          "table": [
           {
            "cells": {
             "fill": {
              "color": "#EBF0F8"
             },
             "line": {
              "color": "white"
             }
            },
            "header": {
             "fill": {
              "color": "#C8D4E3"
             },
             "line": {
              "color": "white"
             }
            },
            "type": "table"
           }
          ]
         },
         "layout": {
          "annotationdefaults": {
           "arrowcolor": "#2a3f5f",
           "arrowhead": 0,
           "arrowwidth": 1
          },
          "coloraxis": {
           "colorbar": {
            "outlinewidth": 0,
            "ticks": ""
           }
          },
          "colorscale": {
           "diverging": [
            [
             0,
             "#8e0152"
            ],
            [
             0.1,
             "#c51b7d"
            ],
            [
             0.2,
             "#de77ae"
            ],
            [
             0.3,
             "#f1b6da"
            ],
            [
             0.4,
             "#fde0ef"
            ],
            [
             0.5,
             "#f7f7f7"
            ],
            [
             0.6,
             "#e6f5d0"
            ],
            [
             0.7,
             "#b8e186"
            ],
            [
             0.8,
             "#7fbc41"
            ],
            [
             0.9,
             "#4d9221"
            ],
            [
             1,
             "#276419"
            ]
           ],
           "sequential": [
            [
             0,
             "#0d0887"
            ],
            [
             0.1111111111111111,
             "#46039f"
            ],
            [
             0.2222222222222222,
             "#7201a8"
            ],
            [
             0.3333333333333333,
             "#9c179e"
            ],
            [
             0.4444444444444444,
             "#bd3786"
            ],
            [
             0.5555555555555556,
             "#d8576b"
            ],
            [
             0.6666666666666666,
             "#ed7953"
            ],
            [
             0.7777777777777778,
             "#fb9f3a"
            ],
            [
             0.8888888888888888,
             "#fdca26"
            ],
            [
             1,
             "#f0f921"
            ]
           ],
           "sequentialminus": [
            [
             0,
             "#0d0887"
            ],
            [
             0.1111111111111111,
             "#46039f"
            ],
            [
             0.2222222222222222,
             "#7201a8"
            ],
            [
             0.3333333333333333,
             "#9c179e"
            ],
            [
             0.4444444444444444,
             "#bd3786"
            ],
            [
             0.5555555555555556,
             "#d8576b"
            ],
            [
             0.6666666666666666,
             "#ed7953"
            ],
            [
             0.7777777777777778,
             "#fb9f3a"
            ],
            [
             0.8888888888888888,
             "#fdca26"
            ],
            [
             1,
             "#f0f921"
            ]
           ]
          },
          "colorway": [
           "#636efa",
           "#EF553B",
           "#00cc96",
           "#ab63fa",
           "#FFA15A",
           "#19d3f3",
           "#FF6692",
           "#B6E880",
           "#FF97FF",
           "#FECB52"
          ],
          "font": {
           "color": "#2a3f5f"
          },
          "geo": {
           "bgcolor": "white",
           "lakecolor": "white",
           "landcolor": "#E5ECF6",
           "showlakes": true,
           "showland": true,
           "subunitcolor": "white"
          },
          "hoverlabel": {
           "align": "left"
          },
          "hovermode": "closest",
          "mapbox": {
           "style": "light"
          },
          "paper_bgcolor": "white",
          "plot_bgcolor": "#E5ECF6",
          "polar": {
           "angularaxis": {
            "gridcolor": "white",
            "linecolor": "white",
            "ticks": ""
           },
           "bgcolor": "#E5ECF6",
           "radialaxis": {
            "gridcolor": "white",
            "linecolor": "white",
            "ticks": ""
           }
          },
          "scene": {
           "xaxis": {
            "backgroundcolor": "#E5ECF6",
            "gridcolor": "white",
            "gridwidth": 2,
            "linecolor": "white",
            "showbackground": true,
            "ticks": "",
            "zerolinecolor": "white"
           },
           "yaxis": {
            "backgroundcolor": "#E5ECF6",
            "gridcolor": "white",
            "gridwidth": 2,
            "linecolor": "white",
            "showbackground": true,
            "ticks": "",
            "zerolinecolor": "white"
           },
           "zaxis": {
            "backgroundcolor": "#E5ECF6",
            "gridcolor": "white",
            "gridwidth": 2,
            "linecolor": "white",
            "showbackground": true,
            "ticks": "",
            "zerolinecolor": "white"
           }
          },
          "shapedefaults": {
           "line": {
            "color": "#2a3f5f"
           }
          },
          "ternary": {
           "aaxis": {
            "gridcolor": "white",
            "linecolor": "white",
            "ticks": ""
           },
           "baxis": {
            "gridcolor": "white",
            "linecolor": "white",
            "ticks": ""
           },
           "bgcolor": "#E5ECF6",
           "caxis": {
            "gridcolor": "white",
            "linecolor": "white",
            "ticks": ""
           }
          },
          "title": {
           "x": 0.05
          },
          "xaxis": {
           "automargin": true,
           "gridcolor": "white",
           "linecolor": "white",
           "ticks": "",
           "title": {
            "standoff": 15
           },
           "zerolinecolor": "white",
           "zerolinewidth": 2
          },
          "yaxis": {
           "automargin": true,
           "gridcolor": "white",
           "linecolor": "white",
           "ticks": "",
           "title": {
            "standoff": 15
           },
           "zerolinecolor": "white",
           "zerolinewidth": 2
          }
         }
        },
        "violinmode": "group",
        "xaxis": {
         "anchor": "y",
         "domain": [
          0,
          1
         ]
        },
        "yaxis": {
         "anchor": "x",
         "domain": [
          0,
          1
         ],
         "title": {
          "text": "PayRate"
         }
        }
       }
      },
      "text/html": [
       "<div>\n",
       "        \n",
       "        \n",
       "            <div id=\"41815380-00b0-4616-b093-d5abdae3d84f\" class=\"plotly-graph-div\" style=\"height:525px; width:100%;\"></div>\n",
       "            <script type=\"text/javascript\">\n",
       "                require([\"plotly\"], function(Plotly) {\n",
       "                    window.PLOTLYENV=window.PLOTLYENV || {};\n",
       "                    \n",
       "                if (document.getElementById(\"41815380-00b0-4616-b093-d5abdae3d84f\")) {\n",
       "                    Plotly.newPlot(\n",
       "                        '41815380-00b0-4616-b093-d5abdae3d84f',\n",
       "                        [{\"alignmentgroup\": \"True\", \"box\": {\"visible\": true}, \"customdata\": [[\"Admin Offices\"], [\"Admin Offices\"], [\"Admin Offices\"], [\"Admin Offices\"], [\"Sales\"], [\"Sales\"], [\"Sales\"], [\"Sales\"], [\"Sales\"], [\"Sales\"], [\"Sales\"], [\"Sales\"], [\"Sales\"], [\"Sales\"], [\"Sales\"], [\"Sales\"], [\"IT/IS\"], [\"IT/IS\"], [\"IT/IS\"], [\"IT/IS\"], [\"IT/IS\"], [\"IT/IS\"], [\"IT/IS\"], [\"IT/IS\"], [\"IT/IS\"], [\"IT/IS\"], [\"Production\"], [\"Sales\"], [\"IT/IS\"], [\"IT/IS\"], [\"IT/IS\"], [\"IT/IS\"], [\"IT/IS\"], [\"IT/IS\"], [\"IT/IS\"], [\"Executive Office\"], [\"Production\"], [\"Production\"], [\"Production\"], [\"Production\"], [\"Production\"], [\"Production\"], [\"Production\"], [\"Production\"], [\"Production\"], [\"Production\"], [\"Production\"], [\"Production\"], [\"Production\"], [\"Production\"], [\"Production\"], [\"Production\"], [\"Production\"], [\"Production\"], [\"Production\"], [\"Production\"], [\"Production\"], [\"Production\"], [\"Production\"], [\"Production\"], [\"Production\"], [\"Production\"], [\"Production\"], [\"Production\"], [\"Production\"], [\"Production\"], [\"Production\"], [\"Production\"], [\"Production\"], [\"Production\"], [\"Production\"], [\"Production\"], [\"Production\"], [\"Production\"], [\"Production\"], [\"Production\"], [\"Production\"], [\"Production\"], [\"Production\"], [\"Production\"], [\"Production\"], [\"Production\"], [\"Production\"], [\"Production\"], [\"Production\"], [\"Production\"], [\"Production\"], [\"Production\"], [\"Production\"], [\"Production\"], [\"Production\"], [\"Production\"], [\"Production\"], [\"Production\"], [\"Production\"], [\"Production\"], [\"Production\"], [\"Production\"], [\"Production\"], [\"Production\"], [\"Production\"], [\"Production\"], [\"Production\"], [\"Production\"], [\"Production\"], [\"Production\"], [\"Production\"], [\"Production\"], [\"Production\"], [\"Production\"], [\"Production\"], [\"Production\"], [\"Production\"], [\"Production\"], [\"Production\"], [\"Production\"], [\"Production\"], [\"Production\"], [\"Production\"], [\"Production\"], [\"Production\"], [\"Production\"], [\"Production\"], [\"Production\"], [\"Production\"], [\"Production\"], [\"Production\"], [\"Production\"], [\"Production\"], [\"Production\"], [\"Production\"], [\"Production\"], [\"Production\"], [\"Production\"], [\"Production\"], [\"Production\"], [\"Production\"], [\"Production\"], [\"Production\"], [\"Production\"], [\"Production\"], [\"Production\"], [\"Production\"], [\"Production\"], [\"Production\"], [\"Production\"], [\"Production\"], [\"Production\"], [\"Production\"], [\"Production\"], [\"Production\"], [\"Production\"], [\"Production\"], [\"Production\"], [\"Production\"], [\"Production\"], [\"Production\"], [\"Production\"], [\"Production\"], [\"Production\"], [\"Production\"], [\"Production\"], [\"Sales\"], [\"Sales\"], [\"IT/IS\"], [\"Software Engineering\"], [\"Software Engineering\"], [\"Software Engineering\"], [\"Software Engineering\"], [\"Software Engineering\"], [\"Software Engineering\"], [\"Admin Offices\"], [\"Admin Offices\"], [\"IT/IS\"], [\"IT/IS\"], [\"IT/IS\"], [\"IT/IS\"]], \"hovertemplate\": \"Sex=F<br>PayRate=%{y}<br>Department=%{customdata[0]}<extra></extra>\", \"legendgroup\": \"F\", \"marker\": {\"color\": \"#1A82FF\"}, \"name\": \"F\", \"offsetgroup\": \"F\", \"orientation\": \"v\", \"scalegroup\": \"True\", \"showlegend\": true, \"type\": \"violin\", \"x0\": \" \", \"xaxis\": \"x\", \"y\": [28.5, 21.5, 16.56, 20.5, 55.0, 55.0, 55.0, 55.0, 54.0, 55.0, 55.0, 55.0, 55.0, 57.0, 55.0, 55.0, 45.0, 65.0, 55.0, 43.0, 48.5, 34.0, 40.0, 42.75, 39.55, 31.4, 60.0, 60.0, 31.4, 26.0, 27.49, 37.0, 39.0, 27.0, 47.0, 80.0, 51.0, 55.0, 38.5, 52.0, 55.0, 33.5, 23.0, 21.0, 16.0, 20.0, 24.0, 22.0, 15.0, 20.0, 22.0, 16.0, 22.0, 24.0, 16.0, 23.0, 15.0, 16.0, 24.0, 22.0, 17.0, 20.0, 16.75, 20.0, 20.0, 19.0, 17.0, 21.0, 22.0, 15.0, 21.0, 22.0, 19.5, 15.0, 18.0, 22.0, 21.0, 20.0, 15.0, 18.0, 21.0, 14.0, 15.0, 15.75, 24.0, 14.0, 19.0, 14.0, 20.0, 21.0, 22.0, 22.0, 23.0, 17.0, 17.0, 17.0, 16.0, 24.5, 20.0, 16.0, 20.0, 17.0, 24.0, 21.0, 19.0, 24.0, 18.5, 19.0, 16.0, 14.0, 16.0, 19.75, 19.0, 24.0, 15.25, 20.0, 20.0, 16.0, 20.0, 19.75, 22.0, 19.0, 22.0, 15.2, 15.0, 25.0, 23.0, 23.0, 28.0, 22.0, 25.0, 25.0, 26.0, 24.25, 22.0, 26.0, 22.0, 26.0, 27.0, 25.0, 26.1, 26.39, 28.75, 27.0, 29.0, 24.0, 24.0, 22.5, 26.0, 29.0, 29.0, 27.0, 25.0, 27.0, 24.0, 28.0, 24.0, 23.0, 24.0, 28.0, 23.0, 25.0, 54.0, 60.25, 50.25, 47.6, 56.0, 57.12, 48.5, 55.51, 49.25, 34.95, 34.95, 61.3, 58.5, 54.1, 55.2], \"y0\": \" \", \"yaxis\": \"y\"}, {\"alignmentgroup\": \"True\", \"box\": {\"visible\": true}, \"customdata\": [[\"Admin Offices\"], [\"Admin Offices\"], [\"Sales\"], [\"Sales\"], [\"Sales\"], [\"Sales\"], [\"Sales\"], [\"Sales\"], [\"Sales\"], [\"Sales\"], [\"Sales\"], [\"Sales\"], [\"Sales\"], [\"Sales\"], [\"Sales\"], [\"Sales\"], [\"Sales\"], [\"IT/IS\"], [\"IT/IS\"], [\"IT/IS\"], [\"IT/IS\"], [\"IT/IS\"], [\"IT/IS\"], [\"IT/IS\"], [\"IT/IS\"], [\"IT/IS\"], [\"IT/IS\"], [\"IT/IS\"], [\"IT/IS\"], [\"IT/IS\"], [\"IT/IS\"], [\"IT/IS\"], [\"IT/IS\"], [\"IT/IS\"], [\"IT/IS\"], [\"IT/IS\"], [\"IT/IS\"], [\"IT/IS\"], [\"Production\"], [\"Production\"], [\"Production\"], [\"Production\"], [\"Production\"], [\"Production\"], [\"Production\"], [\"Production\"], [\"Production\"], [\"Production\"], [\"Production\"], [\"Production\"], [\"Production\"], [\"Production\"], [\"Production\"], [\"Production\"], [\"Production\"], [\"Production\"], [\"Production\"], [\"Production\"], [\"Production\"], [\"Production\"], [\"Production\"], [\"Production\"], [\"Production\"], [\"Production\"], [\"Production\"], [\"Production\"], [\"Production\"], [\"Production\"], [\"Production\"], [\"Production\"], [\"Production\"], [\"Production\"], [\"Production\"], [\"Production\"], [\"Production\"], [\"Production\"], [\"Production\"], [\"Production\"], [\"Production\"], [\"Production\"], [\"Production\"], [\"Production\"], [\"Production\"], [\"Production\"], [\"Production\"], [\"Production\"], [\"Production\"], [\"Production\"], [\"Production\"], [\"Production\"], [\"Production\"], [\"Production\"], [\"Production\"], [\"Production\"], [\"Production\"], [\"Production\"], [\"Production\"], [\"Production\"], [\"Production\"], [\"Production\"], [\"Production\"], [\"Production\"], [\"Production\"], [\"Production\"], [\"Production\"], [\"Production\"], [\"Production\"], [\"Production\"], [\"Production\"], [\"Production\"], [\"Production\"], [\"Production\"], [\"Production\"], [\"Production\"], [\"Production\"], [\"Production\"], [\"Production\"], [\"Production\"], [\"Production\"], [\"Sales\"], [\"IT/IS\"], [\"IT/IS\"], [\"Admin Offices\"], [\"Admin Offices\"], [\"Software Engineering\"], [\"Software Engineering\"], [\"Software Engineering\"], [\"Software Engineering\"], [\"IT/IS\"], [\"IT/IS\"], [\"IT/IS\"], [\"IT/IS\"], [\"IT/IS\"]], \"hovertemplate\": \"Sex=M <br>PayRate=%{y}<br>Department=%{customdata[0]}<extra></extra>\", \"legendgroup\": \"M \", \"marker\": {\"color\": \"#FF9E06\"}, \"name\": \"M \", \"offsetgroup\": \"M \", \"orientation\": \"v\", \"scalegroup\": \"True\", \"showlegend\": true, \"type\": \"violin\", \"x0\": \" \", \"xaxis\": \"x\", \"y\": [23.0, 29.0, 56.0, 55.5, 55.5, 55.0, 55.0, 55.0, 55.0, 56.0, 55.0, 55.0, 56.0, 55.0, 56.0, 55.0, 55.0, 46.0, 45.0, 45.0, 63.5, 40.1, 35.5, 41.0, 42.2, 45.0, 30.2, 65.0, 62.0, 21.0, 63.0, 64.0, 28.99, 45.0, 42.0, 43.0, 28.0, 49.1, 54.5, 50.5, 55.0, 54.0, 48.5, 42.0, 53.0, 53.0, 16.0, 20.0, 18.0, 15.0, 22.0, 24.0, 21.0, 24.75, 16.0, 21.0, 18.0, 17.0, 15.0, 19.0, 15.0, 17.0, 17.0, 21.0, 20.0, 16.76, 20.0, 21.25, 21.0, 15.0, 16.0, 16.0, 22.0, 22.0, 21.0, 19.0, 14.0, 21.0, 22.0, 15.0, 18.0, 18.0, 19.0, 20.0, 18.0, 17.0, 17.0, 19.0, 22.0, 21.0, 21.0, 19.0, 17.0, 22.0, 23.5, 15.0, 18.0, 24.0, 23.0, 29.0, 29.0, 25.0, 29.0, 26.0, 27.0, 22.0, 24.0, 22.0, 26.0, 29.0, 26.0, 22.0, 25.0, 28.0, 22.0, 24.25, 29.0, 22.0, 23.0, 56.0, 52.25, 51.0, 55.0, 55.0, 52.25, 48.0, 45.42, 27.0, 62.0, 58.2, 56.2, 53.8, 53.0], \"y0\": \" \", \"yaxis\": \"y\"}],\n",
       "                        {\"legend\": {\"title\": {\"text\": \"Sex\"}, \"tracegroupgap\": 0}, \"margin\": {\"t\": 60}, \"template\": {\"data\": {\"bar\": [{\"error_x\": {\"color\": \"#2a3f5f\"}, \"error_y\": {\"color\": \"#2a3f5f\"}, \"marker\": {\"line\": {\"color\": \"#E5ECF6\", \"width\": 0.5}}, \"type\": \"bar\"}], \"barpolar\": [{\"marker\": {\"line\": {\"color\": \"#E5ECF6\", \"width\": 0.5}}, \"type\": \"barpolar\"}], \"carpet\": [{\"aaxis\": {\"endlinecolor\": \"#2a3f5f\", \"gridcolor\": \"white\", \"linecolor\": \"white\", \"minorgridcolor\": \"white\", \"startlinecolor\": \"#2a3f5f\"}, \"baxis\": {\"endlinecolor\": \"#2a3f5f\", \"gridcolor\": \"white\", \"linecolor\": \"white\", \"minorgridcolor\": \"white\", \"startlinecolor\": \"#2a3f5f\"}, \"type\": \"carpet\"}], \"choropleth\": [{\"colorbar\": {\"outlinewidth\": 0, \"ticks\": \"\"}, \"type\": \"choropleth\"}], \"contour\": [{\"colorbar\": {\"outlinewidth\": 0, \"ticks\": \"\"}, \"colorscale\": [[0.0, \"#0d0887\"], [0.1111111111111111, \"#46039f\"], [0.2222222222222222, \"#7201a8\"], [0.3333333333333333, \"#9c179e\"], [0.4444444444444444, \"#bd3786\"], [0.5555555555555556, \"#d8576b\"], [0.6666666666666666, \"#ed7953\"], [0.7777777777777778, \"#fb9f3a\"], [0.8888888888888888, \"#fdca26\"], [1.0, \"#f0f921\"]], \"type\": \"contour\"}], \"contourcarpet\": [{\"colorbar\": {\"outlinewidth\": 0, \"ticks\": \"\"}, \"type\": \"contourcarpet\"}], \"heatmap\": [{\"colorbar\": {\"outlinewidth\": 0, \"ticks\": \"\"}, \"colorscale\": [[0.0, \"#0d0887\"], [0.1111111111111111, \"#46039f\"], [0.2222222222222222, \"#7201a8\"], [0.3333333333333333, \"#9c179e\"], [0.4444444444444444, \"#bd3786\"], [0.5555555555555556, \"#d8576b\"], [0.6666666666666666, \"#ed7953\"], [0.7777777777777778, \"#fb9f3a\"], [0.8888888888888888, \"#fdca26\"], [1.0, \"#f0f921\"]], \"type\": \"heatmap\"}], \"heatmapgl\": [{\"colorbar\": {\"outlinewidth\": 0, \"ticks\": \"\"}, \"colorscale\": [[0.0, \"#0d0887\"], [0.1111111111111111, \"#46039f\"], [0.2222222222222222, \"#7201a8\"], [0.3333333333333333, \"#9c179e\"], [0.4444444444444444, \"#bd3786\"], [0.5555555555555556, \"#d8576b\"], [0.6666666666666666, \"#ed7953\"], [0.7777777777777778, \"#fb9f3a\"], [0.8888888888888888, \"#fdca26\"], [1.0, \"#f0f921\"]], \"type\": \"heatmapgl\"}], \"histogram\": [{\"marker\": {\"colorbar\": {\"outlinewidth\": 0, \"ticks\": \"\"}}, \"type\": \"histogram\"}], \"histogram2d\": [{\"colorbar\": {\"outlinewidth\": 0, \"ticks\": \"\"}, \"colorscale\": [[0.0, \"#0d0887\"], [0.1111111111111111, \"#46039f\"], [0.2222222222222222, \"#7201a8\"], [0.3333333333333333, \"#9c179e\"], [0.4444444444444444, \"#bd3786\"], [0.5555555555555556, \"#d8576b\"], [0.6666666666666666, \"#ed7953\"], [0.7777777777777778, \"#fb9f3a\"], [0.8888888888888888, \"#fdca26\"], [1.0, \"#f0f921\"]], \"type\": \"histogram2d\"}], \"histogram2dcontour\": [{\"colorbar\": {\"outlinewidth\": 0, \"ticks\": \"\"}, \"colorscale\": [[0.0, \"#0d0887\"], [0.1111111111111111, \"#46039f\"], [0.2222222222222222, \"#7201a8\"], [0.3333333333333333, \"#9c179e\"], [0.4444444444444444, \"#bd3786\"], [0.5555555555555556, \"#d8576b\"], [0.6666666666666666, \"#ed7953\"], [0.7777777777777778, \"#fb9f3a\"], [0.8888888888888888, \"#fdca26\"], [1.0, \"#f0f921\"]], \"type\": \"histogram2dcontour\"}], \"mesh3d\": [{\"colorbar\": {\"outlinewidth\": 0, \"ticks\": \"\"}, \"type\": \"mesh3d\"}], \"parcoords\": [{\"line\": {\"colorbar\": {\"outlinewidth\": 0, \"ticks\": \"\"}}, \"type\": \"parcoords\"}], \"pie\": [{\"automargin\": true, \"type\": \"pie\"}], \"scatter\": [{\"marker\": {\"colorbar\": {\"outlinewidth\": 0, \"ticks\": \"\"}}, \"type\": \"scatter\"}], \"scatter3d\": [{\"line\": {\"colorbar\": {\"outlinewidth\": 0, \"ticks\": \"\"}}, \"marker\": {\"colorbar\": {\"outlinewidth\": 0, \"ticks\": \"\"}}, \"type\": \"scatter3d\"}], \"scattercarpet\": [{\"marker\": {\"colorbar\": {\"outlinewidth\": 0, \"ticks\": \"\"}}, \"type\": \"scattercarpet\"}], \"scattergeo\": [{\"marker\": {\"colorbar\": {\"outlinewidth\": 0, \"ticks\": \"\"}}, \"type\": \"scattergeo\"}], \"scattergl\": [{\"marker\": {\"colorbar\": {\"outlinewidth\": 0, \"ticks\": \"\"}}, \"type\": \"scattergl\"}], \"scattermapbox\": [{\"marker\": {\"colorbar\": {\"outlinewidth\": 0, \"ticks\": \"\"}}, \"type\": \"scattermapbox\"}], \"scatterpolar\": [{\"marker\": {\"colorbar\": {\"outlinewidth\": 0, \"ticks\": \"\"}}, \"type\": \"scatterpolar\"}], \"scatterpolargl\": [{\"marker\": {\"colorbar\": {\"outlinewidth\": 0, \"ticks\": \"\"}}, \"type\": \"scatterpolargl\"}], \"scatterternary\": [{\"marker\": {\"colorbar\": {\"outlinewidth\": 0, \"ticks\": \"\"}}, \"type\": \"scatterternary\"}], \"surface\": [{\"colorbar\": {\"outlinewidth\": 0, \"ticks\": \"\"}, \"colorscale\": [[0.0, \"#0d0887\"], [0.1111111111111111, \"#46039f\"], [0.2222222222222222, \"#7201a8\"], [0.3333333333333333, \"#9c179e\"], [0.4444444444444444, \"#bd3786\"], [0.5555555555555556, \"#d8576b\"], [0.6666666666666666, \"#ed7953\"], [0.7777777777777778, \"#fb9f3a\"], [0.8888888888888888, \"#fdca26\"], [1.0, \"#f0f921\"]], \"type\": \"surface\"}], \"table\": [{\"cells\": {\"fill\": {\"color\": \"#EBF0F8\"}, \"line\": {\"color\": \"white\"}}, \"header\": {\"fill\": {\"color\": \"#C8D4E3\"}, \"line\": {\"color\": \"white\"}}, \"type\": \"table\"}]}, \"layout\": {\"annotationdefaults\": {\"arrowcolor\": \"#2a3f5f\", \"arrowhead\": 0, \"arrowwidth\": 1}, \"coloraxis\": {\"colorbar\": {\"outlinewidth\": 0, \"ticks\": \"\"}}, \"colorscale\": {\"diverging\": [[0, \"#8e0152\"], [0.1, \"#c51b7d\"], [0.2, \"#de77ae\"], [0.3, \"#f1b6da\"], [0.4, \"#fde0ef\"], [0.5, \"#f7f7f7\"], [0.6, \"#e6f5d0\"], [0.7, \"#b8e186\"], [0.8, \"#7fbc41\"], [0.9, \"#4d9221\"], [1, \"#276419\"]], \"sequential\": [[0.0, \"#0d0887\"], [0.1111111111111111, \"#46039f\"], [0.2222222222222222, \"#7201a8\"], [0.3333333333333333, \"#9c179e\"], [0.4444444444444444, \"#bd3786\"], [0.5555555555555556, \"#d8576b\"], [0.6666666666666666, \"#ed7953\"], [0.7777777777777778, \"#fb9f3a\"], [0.8888888888888888, \"#fdca26\"], [1.0, \"#f0f921\"]], \"sequentialminus\": [[0.0, \"#0d0887\"], [0.1111111111111111, \"#46039f\"], [0.2222222222222222, \"#7201a8\"], [0.3333333333333333, \"#9c179e\"], [0.4444444444444444, \"#bd3786\"], [0.5555555555555556, \"#d8576b\"], [0.6666666666666666, \"#ed7953\"], [0.7777777777777778, \"#fb9f3a\"], [0.8888888888888888, \"#fdca26\"], [1.0, \"#f0f921\"]]}, \"colorway\": [\"#636efa\", \"#EF553B\", \"#00cc96\", \"#ab63fa\", \"#FFA15A\", \"#19d3f3\", \"#FF6692\", \"#B6E880\", \"#FF97FF\", \"#FECB52\"], \"font\": {\"color\": \"#2a3f5f\"}, \"geo\": {\"bgcolor\": \"white\", \"lakecolor\": \"white\", \"landcolor\": \"#E5ECF6\", \"showlakes\": true, \"showland\": true, \"subunitcolor\": \"white\"}, \"hoverlabel\": {\"align\": \"left\"}, \"hovermode\": \"closest\", \"mapbox\": {\"style\": \"light\"}, \"paper_bgcolor\": \"white\", \"plot_bgcolor\": \"#E5ECF6\", \"polar\": {\"angularaxis\": {\"gridcolor\": \"white\", \"linecolor\": \"white\", \"ticks\": \"\"}, \"bgcolor\": \"#E5ECF6\", \"radialaxis\": {\"gridcolor\": \"white\", \"linecolor\": \"white\", \"ticks\": \"\"}}, \"scene\": {\"xaxis\": {\"backgroundcolor\": \"#E5ECF6\", \"gridcolor\": \"white\", \"gridwidth\": 2, \"linecolor\": \"white\", \"showbackground\": true, \"ticks\": \"\", \"zerolinecolor\": \"white\"}, \"yaxis\": {\"backgroundcolor\": \"#E5ECF6\", \"gridcolor\": \"white\", \"gridwidth\": 2, \"linecolor\": \"white\", \"showbackground\": true, \"ticks\": \"\", \"zerolinecolor\": \"white\"}, \"zaxis\": {\"backgroundcolor\": \"#E5ECF6\", \"gridcolor\": \"white\", \"gridwidth\": 2, \"linecolor\": \"white\", \"showbackground\": true, \"ticks\": \"\", \"zerolinecolor\": \"white\"}}, \"shapedefaults\": {\"line\": {\"color\": \"#2a3f5f\"}}, \"ternary\": {\"aaxis\": {\"gridcolor\": \"white\", \"linecolor\": \"white\", \"ticks\": \"\"}, \"baxis\": {\"gridcolor\": \"white\", \"linecolor\": \"white\", \"ticks\": \"\"}, \"bgcolor\": \"#E5ECF6\", \"caxis\": {\"gridcolor\": \"white\", \"linecolor\": \"white\", \"ticks\": \"\"}}, \"title\": {\"x\": 0.05}, \"xaxis\": {\"automargin\": true, \"gridcolor\": \"white\", \"linecolor\": \"white\", \"ticks\": \"\", \"title\": {\"standoff\": 15}, \"zerolinecolor\": \"white\", \"zerolinewidth\": 2}, \"yaxis\": {\"automargin\": true, \"gridcolor\": \"white\", \"linecolor\": \"white\", \"ticks\": \"\", \"title\": {\"standoff\": 15}, \"zerolinecolor\": \"white\", \"zerolinewidth\": 2}}}, \"violinmode\": \"group\", \"xaxis\": {\"anchor\": \"y\", \"domain\": [0.0, 1.0]}, \"yaxis\": {\"anchor\": \"x\", \"domain\": [0.0, 1.0], \"title\": {\"text\": \"PayRate\"}}},\n",
       "                        {\"responsive\": true}\n",
       "                    ).then(function(){\n",
       "                            \n",
       "var gd = document.getElementById('41815380-00b0-4616-b093-d5abdae3d84f');\n",
       "var x = new MutationObserver(function (mutations, observer) {{\n",
       "        var display = window.getComputedStyle(gd).display;\n",
       "        if (!display || display === 'none') {{\n",
       "            console.log([gd, 'removed!']);\n",
       "            Plotly.purge(gd);\n",
       "            observer.disconnect();\n",
       "        }}\n",
       "}});\n",
       "\n",
       "// Listen for the removal of the full notebook cells\n",
       "var notebookContainer = gd.closest('#notebook-container');\n",
       "if (notebookContainer) {{\n",
       "    x.observe(notebookContainer, {childList: true});\n",
       "}}\n",
       "\n",
       "// Listen for the clearing of the current output cell\n",
       "var outputEl = gd.closest('.output');\n",
       "if (outputEl) {{\n",
       "    x.observe(outputEl, {childList: true});\n",
       "}}\n",
       "\n",
       "                        })\n",
       "                };\n",
       "                });\n",
       "            </script>\n",
       "        </div>"
      ]
     },
     "metadata": {},
     "output_type": "display_data"
    }
   ],
   "source": [
    "fig = px.violin(hr, y=\"PayRate\", color=\"Sex\", box=True, color_discrete_sequence=palette_2, hover_data=['Department'])\n",
    "fig.show()"
   ]
  },
  {
   "cell_type": "markdown",
   "metadata": {},
   "source": [
    "## Gender and engagement"
   ]
  },
  {
   "cell_type": "code",
   "execution_count": 28,
   "metadata": {
    "collapsed": true
   },
   "outputs": [
    {
     "data": {
      "application/vnd.plotly.v1+json": {
       "config": {
        "plotlyServerURL": "https://plot.ly"
       },
       "data": [
        {
         "histnorm": "probability",
         "marker": {
          "color": "#1A82FF"
         },
         "name": "F: 177",
         "type": "histogram",
         "x": [
          2.04,
          3.24,
          5,
          3.8,
          3.14,
          5,
          2.3,
          3.97,
          2,
          2.81,
          4.77,
          1.72,
          5,
          4.28,
          4.2,
          3.69,
          2.02,
          1.12,
          4.94,
          1.87,
          1.87,
          4.48,
          3.75,
          3.71,
          3.69,
          5,
          3.02,
          1.22,
          1.21,
          4.64,
          4.3,
          4.11,
          4.61,
          3.81,
          3.31,
          4.83,
          4.52,
          3.66,
          4.16,
          4.83,
          3.73,
          1.18,
          5,
          2,
          3.39,
          4.76,
          3.49,
          3.45,
          4.81,
          3.98,
          4.46,
          5,
          3.88,
          5,
          3.99,
          1.04,
          1.12,
          4.11,
          4.21,
          4.29,
          1.79,
          3.35,
          2.79,
          2.32,
          5,
          2.79,
          5,
          1.97,
          2.44,
          1.24,
          4.84,
          5,
          2.73,
          5,
          1.04,
          4.24,
          4,
          5,
          1.76,
          3.89,
          3.51,
          2.77,
          1.27,
          4.73,
          1.66,
          5,
          5,
          4.18,
          1.12,
          2.79,
          2.39,
          3.58,
          1.85,
          1.94,
          2.55,
          2.72,
          3.6,
          3.73,
          2.81,
          1.44,
          2.83,
          5,
          1.71,
          2.05,
          4.88,
          3.93,
          3.09,
          3.17,
          1.5,
          1.05,
          5,
          4.12,
          3.73,
          4.2,
          3.18,
          5,
          3.21,
          5,
          3.13,
          4.64,
          3.6,
          5,
          4.36,
          5,
          2.52,
          4.51,
          3.72,
          5,
          1.03,
          1.3,
          1.16,
          1.51,
          2.61,
          2.04,
          4.52,
          2.19,
          3.4,
          1.38,
          1.49,
          2.92,
          1.64,
          4.53,
          3.93,
          2.7,
          4.62,
          5,
          3.66,
          4.6,
          5,
          1.79,
          3.02,
          2.57,
          2.55,
          1.16,
          4.59,
          3.03,
          4.65,
          4.68,
          4,
          2.63,
          5,
          5,
          4.62,
          1.9,
          2.09,
          3.04,
          4.96,
          3.79,
          2.55,
          1.53,
          1.74,
          5,
          5,
          5,
          3.88,
          1.55,
          1.06
         ],
         "xaxis": "x",
         "yaxis": "y"
        },
        {
         "histnorm": "probability",
         "marker": {
          "color": "#FF9E06"
         },
         "name": "M : 133",
         "type": "histogram",
         "x": [
          5,
          3.9,
          3.6,
          3.65,
          3.98,
          4.5,
          4.53,
          1.93,
          5,
          1.77,
          3.31,
          1.64,
          1.81,
          2.19,
          2.94,
          2.91,
          4.1,
          3.01,
          1.82,
          2.06,
          4.5,
          4.33,
          4.28,
          1.62,
          3.04,
          2.19,
          3.32,
          3.76,
          2.96,
          2.51,
          2.39,
          1.99,
          2.55,
          1.84,
          2.21,
          1.2,
          5,
          5,
          3.93,
          3.39,
          5,
          4.63,
          4.78,
          2.34,
          4.37,
          4.13,
          5,
          1.12,
          1.56,
          3.08,
          3.18,
          5,
          5,
          1.97,
          1.83,
          3.38,
          5,
          3.02,
          1.51,
          4.5,
          5,
          5,
          3.66,
          1.83,
          5,
          1.41,
          4.43,
          1.86,
          2.05,
          5,
          2.86,
          2.45,
          1.39,
          5,
          1.13,
          4.17,
          2.79,
          5,
          1.98,
          1.42,
          2.61,
          5,
          3.84,
          2.51,
          5,
          5,
          1.65,
          3.07,
          4.25,
          3.8,
          1.53,
          4.36,
          1.09,
          3.8,
          5,
          3.97,
          2.61,
          3.54,
          5,
          4.76,
          4.35,
          5,
          1.67,
          1.3,
          2.67,
          2.41,
          5,
          4,
          2.5,
          2.08,
          3.25,
          3.11,
          3.96,
          1.84,
          2.48,
          4.07,
          4.29,
          3.19,
          1.37,
          1.62,
          5,
          3.42,
          1.95,
          4.15,
          1.1,
          2.61,
          1.11,
          3.84,
          4.96,
          2.94,
          4.46,
          3.27,
          5
         ],
         "xaxis": "x2",
         "yaxis": "y2"
        }
       ],
       "layout": {
        "height": 600,
        "template": {
         "data": {
          "bar": [
           {
            "error_x": {
             "color": "#2a3f5f"
            },
            "error_y": {
             "color": "#2a3f5f"
            },
            "marker": {
             "line": {
              "color": "#E5ECF6",
              "width": 0.5
             }
            },
            "type": "bar"
           }
          ],
          "barpolar": [
           {
            "marker": {
             "line": {
              "color": "#E5ECF6",
              "width": 0.5
             }
            },
            "type": "barpolar"
           }
          ],
          "carpet": [
           {
            "aaxis": {
             "endlinecolor": "#2a3f5f",
             "gridcolor": "white",
             "linecolor": "white",
             "minorgridcolor": "white",
             "startlinecolor": "#2a3f5f"
            },
            "baxis": {
             "endlinecolor": "#2a3f5f",
             "gridcolor": "white",
             "linecolor": "white",
             "minorgridcolor": "white",
             "startlinecolor": "#2a3f5f"
            },
            "type": "carpet"
           }
          ],
          "choropleth": [
           {
            "colorbar": {
             "outlinewidth": 0,
             "ticks": ""
            },
            "type": "choropleth"
           }
          ],
          "contour": [
           {
            "colorbar": {
             "outlinewidth": 0,
             "ticks": ""
            },
            "colorscale": [
             [
              0,
              "#0d0887"
             ],
             [
              0.1111111111111111,
              "#46039f"
             ],
             [
              0.2222222222222222,
              "#7201a8"
             ],
             [
              0.3333333333333333,
              "#9c179e"
             ],
             [
              0.4444444444444444,
              "#bd3786"
             ],
             [
              0.5555555555555556,
              "#d8576b"
             ],
             [
              0.6666666666666666,
              "#ed7953"
             ],
             [
              0.7777777777777778,
              "#fb9f3a"
             ],
             [
              0.8888888888888888,
              "#fdca26"
             ],
             [
              1,
              "#f0f921"
             ]
            ],
            "type": "contour"
           }
          ],
          "contourcarpet": [
           {
            "colorbar": {
             "outlinewidth": 0,
             "ticks": ""
            },
            "type": "contourcarpet"
           }
          ],
          "heatmap": [
           {
            "colorbar": {
             "outlinewidth": 0,
             "ticks": ""
            },
            "colorscale": [
             [
              0,
              "#0d0887"
             ],
             [
              0.1111111111111111,
              "#46039f"
             ],
             [
              0.2222222222222222,
              "#7201a8"
             ],
             [
              0.3333333333333333,
              "#9c179e"
             ],
             [
              0.4444444444444444,
              "#bd3786"
             ],
             [
              0.5555555555555556,
              "#d8576b"
             ],
             [
              0.6666666666666666,
              "#ed7953"
             ],
             [
              0.7777777777777778,
              "#fb9f3a"
             ],
             [
              0.8888888888888888,
              "#fdca26"
             ],
             [
              1,
              "#f0f921"
             ]
            ],
            "type": "heatmap"
           }
          ],
          "heatmapgl": [
           {
            "colorbar": {
             "outlinewidth": 0,
             "ticks": ""
            },
            "colorscale": [
             [
              0,
              "#0d0887"
             ],
             [
              0.1111111111111111,
              "#46039f"
             ],
             [
              0.2222222222222222,
              "#7201a8"
             ],
             [
              0.3333333333333333,
              "#9c179e"
             ],
             [
              0.4444444444444444,
              "#bd3786"
             ],
             [
              0.5555555555555556,
              "#d8576b"
             ],
             [
              0.6666666666666666,
              "#ed7953"
             ],
             [
              0.7777777777777778,
              "#fb9f3a"
             ],
             [
              0.8888888888888888,
              "#fdca26"
             ],
             [
              1,
              "#f0f921"
             ]
            ],
            "type": "heatmapgl"
           }
          ],
          "histogram": [
           {
            "marker": {
             "colorbar": {
              "outlinewidth": 0,
              "ticks": ""
             }
            },
            "type": "histogram"
           }
          ],
          "histogram2d": [
           {
            "colorbar": {
             "outlinewidth": 0,
             "ticks": ""
            },
            "colorscale": [
             [
              0,
              "#0d0887"
             ],
             [
              0.1111111111111111,
              "#46039f"
             ],
             [
              0.2222222222222222,
              "#7201a8"
             ],
             [
              0.3333333333333333,
              "#9c179e"
             ],
             [
              0.4444444444444444,
              "#bd3786"
             ],
             [
              0.5555555555555556,
              "#d8576b"
             ],
             [
              0.6666666666666666,
              "#ed7953"
             ],
             [
              0.7777777777777778,
              "#fb9f3a"
             ],
             [
              0.8888888888888888,
              "#fdca26"
             ],
             [
              1,
              "#f0f921"
             ]
            ],
            "type": "histogram2d"
           }
          ],
          "histogram2dcontour": [
           {
            "colorbar": {
             "outlinewidth": 0,
             "ticks": ""
            },
            "colorscale": [
             [
              0,
              "#0d0887"
             ],
             [
              0.1111111111111111,
              "#46039f"
             ],
             [
              0.2222222222222222,
              "#7201a8"
             ],
             [
              0.3333333333333333,
              "#9c179e"
             ],
             [
              0.4444444444444444,
              "#bd3786"
             ],
             [
              0.5555555555555556,
              "#d8576b"
             ],
             [
              0.6666666666666666,
              "#ed7953"
             ],
             [
              0.7777777777777778,
              "#fb9f3a"
             ],
             [
              0.8888888888888888,
              "#fdca26"
             ],
             [
              1,
              "#f0f921"
             ]
            ],
            "type": "histogram2dcontour"
           }
          ],
          "mesh3d": [
           {
            "colorbar": {
             "outlinewidth": 0,
             "ticks": ""
            },
            "type": "mesh3d"
           }
          ],
          "parcoords": [
           {
            "line": {
             "colorbar": {
              "outlinewidth": 0,
              "ticks": ""
             }
            },
            "type": "parcoords"
           }
          ],
          "pie": [
           {
            "automargin": true,
            "type": "pie"
           }
          ],
          "scatter": [
           {
            "marker": {
             "colorbar": {
              "outlinewidth": 0,
              "ticks": ""
             }
            },
            "type": "scatter"
           }
          ],
          "scatter3d": [
           {
            "line": {
             "colorbar": {
              "outlinewidth": 0,
              "ticks": ""
             }
            },
            "marker": {
             "colorbar": {
              "outlinewidth": 0,
              "ticks": ""
             }
            },
            "type": "scatter3d"
           }
          ],
          "scattercarpet": [
           {
            "marker": {
             "colorbar": {
              "outlinewidth": 0,
              "ticks": ""
             }
            },
            "type": "scattercarpet"
           }
          ],
          "scattergeo": [
           {
            "marker": {
             "colorbar": {
              "outlinewidth": 0,
              "ticks": ""
             }
            },
            "type": "scattergeo"
           }
          ],
          "scattergl": [
           {
            "marker": {
             "colorbar": {
              "outlinewidth": 0,
              "ticks": ""
             }
            },
            "type": "scattergl"
           }
          ],
          "scattermapbox": [
           {
            "marker": {
             "colorbar": {
              "outlinewidth": 0,
              "ticks": ""
             }
            },
            "type": "scattermapbox"
           }
          ],
          "scatterpolar": [
           {
            "marker": {
             "colorbar": {
              "outlinewidth": 0,
              "ticks": ""
             }
            },
            "type": "scatterpolar"
           }
          ],
          "scatterpolargl": [
           {
            "marker": {
             "colorbar": {
              "outlinewidth": 0,
              "ticks": ""
             }
            },
            "type": "scatterpolargl"
           }
          ],
          "scatterternary": [
           {
            "marker": {
             "colorbar": {
              "outlinewidth": 0,
              "ticks": ""
             }
            },
            "type": "scatterternary"
           }
          ],
          "surface": [
           {
            "colorbar": {
             "outlinewidth": 0,
             "ticks": ""
            },
            "colorscale": [
             [
              0,
              "#0d0887"
             ],
             [
              0.1111111111111111,
              "#46039f"
             ],
             [
              0.2222222222222222,
              "#7201a8"
             ],
             [
              0.3333333333333333,
              "#9c179e"
             ],
             [
              0.4444444444444444,
              "#bd3786"
             ],
             [
              0.5555555555555556,
              "#d8576b"
             ],
             [
              0.6666666666666666,
              "#ed7953"
             ],
             [
              0.7777777777777778,
              "#fb9f3a"
             ],
             [
              0.8888888888888888,
              "#fdca26"
             ],
             [
              1,
              "#f0f921"
             ]
            ],
            "type": "surface"
           }
          ],
          "table": [
           {
            "cells": {
             "fill": {
              "color": "#EBF0F8"
             },
             "line": {
              "color": "white"
             }
            },
            "header": {
             "fill": {
              "color": "#C8D4E3"
             },
             "line": {
              "color": "white"
             }
            },
            "type": "table"
           }
          ]
         },
         "layout": {
          "annotationdefaults": {
           "arrowcolor": "#2a3f5f",
           "arrowhead": 0,
           "arrowwidth": 1
          },
          "coloraxis": {
           "colorbar": {
            "outlinewidth": 0,
            "ticks": ""
           }
          },
          "colorscale": {
           "diverging": [
            [
             0,
             "#8e0152"
            ],
            [
             0.1,
             "#c51b7d"
            ],
            [
             0.2,
             "#de77ae"
            ],
            [
             0.3,
             "#f1b6da"
            ],
            [
             0.4,
             "#fde0ef"
            ],
            [
             0.5,
             "#f7f7f7"
            ],
            [
             0.6,
             "#e6f5d0"
            ],
            [
             0.7,
             "#b8e186"
            ],
            [
             0.8,
             "#7fbc41"
            ],
            [
             0.9,
             "#4d9221"
            ],
            [
             1,
             "#276419"
            ]
           ],
           "sequential": [
            [
             0,
             "#0d0887"
            ],
            [
             0.1111111111111111,
             "#46039f"
            ],
            [
             0.2222222222222222,
             "#7201a8"
            ],
            [
             0.3333333333333333,
             "#9c179e"
            ],
            [
             0.4444444444444444,
             "#bd3786"
            ],
            [
             0.5555555555555556,
             "#d8576b"
            ],
            [
             0.6666666666666666,
             "#ed7953"
            ],
            [
             0.7777777777777778,
             "#fb9f3a"
            ],
            [
             0.8888888888888888,
             "#fdca26"
            ],
            [
             1,
             "#f0f921"
            ]
           ],
           "sequentialminus": [
            [
             0,
             "#0d0887"
            ],
            [
             0.1111111111111111,
             "#46039f"
            ],
            [
             0.2222222222222222,
             "#7201a8"
            ],
            [
             0.3333333333333333,
             "#9c179e"
            ],
            [
             0.4444444444444444,
             "#bd3786"
            ],
            [
             0.5555555555555556,
             "#d8576b"
            ],
            [
             0.6666666666666666,
             "#ed7953"
            ],
            [
             0.7777777777777778,
             "#fb9f3a"
            ],
            [
             0.8888888888888888,
             "#fdca26"
            ],
            [
             1,
             "#f0f921"
            ]
           ]
          },
          "colorway": [
           "#636efa",
           "#EF553B",
           "#00cc96",
           "#ab63fa",
           "#FFA15A",
           "#19d3f3",
           "#FF6692",
           "#B6E880",
           "#FF97FF",
           "#FECB52"
          ],
          "font": {
           "color": "#2a3f5f"
          },
          "geo": {
           "bgcolor": "white",
           "lakecolor": "white",
           "landcolor": "#E5ECF6",
           "showlakes": true,
           "showland": true,
           "subunitcolor": "white"
          },
          "hoverlabel": {
           "align": "left"
          },
          "hovermode": "closest",
          "mapbox": {
           "style": "light"
          },
          "paper_bgcolor": "white",
          "plot_bgcolor": "#E5ECF6",
          "polar": {
           "angularaxis": {
            "gridcolor": "white",
            "linecolor": "white",
            "ticks": ""
           },
           "bgcolor": "#E5ECF6",
           "radialaxis": {
            "gridcolor": "white",
            "linecolor": "white",
            "ticks": ""
           }
          },
          "scene": {
           "xaxis": {
            "backgroundcolor": "#E5ECF6",
            "gridcolor": "white",
            "gridwidth": 2,
            "linecolor": "white",
            "showbackground": true,
            "ticks": "",
            "zerolinecolor": "white"
           },
           "yaxis": {
            "backgroundcolor": "#E5ECF6",
            "gridcolor": "white",
            "gridwidth": 2,
            "linecolor": "white",
            "showbackground": true,
            "ticks": "",
            "zerolinecolor": "white"
           },
           "zaxis": {
            "backgroundcolor": "#E5ECF6",
            "gridcolor": "white",
            "gridwidth": 2,
            "linecolor": "white",
            "showbackground": true,
            "ticks": "",
            "zerolinecolor": "white"
           }
          },
          "shapedefaults": {
           "line": {
            "color": "#2a3f5f"
           }
          },
          "ternary": {
           "aaxis": {
            "gridcolor": "white",
            "linecolor": "white",
            "ticks": ""
           },
           "baxis": {
            "gridcolor": "white",
            "linecolor": "white",
            "ticks": ""
           },
           "bgcolor": "#E5ECF6",
           "caxis": {
            "gridcolor": "white",
            "linecolor": "white",
            "ticks": ""
           }
          },
          "title": {
           "x": 0.05
          },
          "xaxis": {
           "automargin": true,
           "gridcolor": "white",
           "linecolor": "white",
           "ticks": "",
           "title": {
            "standoff": 15
           },
           "zerolinecolor": "white",
           "zerolinewidth": 2
          },
          "yaxis": {
           "automargin": true,
           "gridcolor": "white",
           "linecolor": "white",
           "ticks": "",
           "title": {
            "standoff": 15
           },
           "zerolinecolor": "white",
           "zerolinewidth": 2
          }
         }
        },
        "title": {
         "text": "Engagement for genders"
        },
        "width": 600,
        "xaxis": {
         "anchor": "y",
         "domain": [
          0,
          1
         ],
         "matches": "x2",
         "showticklabels": false,
         "title": {
          "text": "EngagementSurvey"
         }
        },
        "xaxis2": {
         "anchor": "y2",
         "domain": [
          0,
          1
         ],
         "title": {
          "text": "EngagementSurvey"
         }
        },
        "yaxis": {
         "anchor": "x",
         "domain": [
          0.55,
          1
         ],
         "title": {
          "text": "occurences"
         }
        },
        "yaxis2": {
         "anchor": "x2",
         "domain": [
          0,
          0.45
         ],
         "title": {
          "text": "occurences"
         }
        }
       }
      },
      "text/html": [
       "<div>\n",
       "        \n",
       "        \n",
       "            <div id=\"0dcd51a4-beac-46db-80a3-df486d206ab7\" class=\"plotly-graph-div\" style=\"height:600px; width:600px;\"></div>\n",
       "            <script type=\"text/javascript\">\n",
       "                require([\"plotly\"], function(Plotly) {\n",
       "                    window.PLOTLYENV=window.PLOTLYENV || {};\n",
       "                    \n",
       "                if (document.getElementById(\"0dcd51a4-beac-46db-80a3-df486d206ab7\")) {\n",
       "                    Plotly.newPlot(\n",
       "                        '0dcd51a4-beac-46db-80a3-df486d206ab7',\n",
       "                        [{\"histnorm\": \"probability\", \"marker\": {\"color\": \"#1A82FF\"}, \"name\": \"F: 177\", \"type\": \"histogram\", \"x\": [2.04, 3.24, 5.0, 3.8, 3.14, 5.0, 2.3, 3.97, 2.0, 2.81, 4.77, 1.72, 5.0, 4.28, 4.2, 3.69, 2.02, 1.12, 4.94, 1.87, 1.87, 4.48, 3.75, 3.71, 3.69, 5.0, 3.02, 1.22, 1.21, 4.64, 4.3, 4.11, 4.61, 3.81, 3.31, 4.83, 4.52, 3.66, 4.16, 4.83, 3.73, 1.18, 5.0, 2.0, 3.39, 4.76, 3.49, 3.45, 4.81, 3.98, 4.46, 5.0, 3.88, 5.0, 3.99, 1.04, 1.12, 4.11, 4.21, 4.29, 1.79, 3.35, 2.79, 2.32, 5.0, 2.79, 5.0, 1.97, 2.44, 1.24, 4.84, 5.0, 2.73, 5.0, 1.04, 4.24, 4.0, 5.0, 1.76, 3.89, 3.51, 2.77, 1.27, 4.73, 1.66, 5.0, 5.0, 4.18, 1.12, 2.79, 2.39, 3.58, 1.85, 1.94, 2.55, 2.72, 3.6, 3.73, 2.81, 1.44, 2.83, 5.0, 1.71, 2.05, 4.88, 3.93, 3.09, 3.17, 1.5, 1.05, 5.0, 4.12, 3.73, 4.2, 3.18, 5.0, 3.21, 5.0, 3.13, 4.64, 3.6, 5.0, 4.36, 5.0, 2.52, 4.51, 3.72, 5.0, 1.03, 1.3, 1.16, 1.51, 2.61, 2.04, 4.52, 2.19, 3.4, 1.38, 1.49, 2.92, 1.64, 4.53, 3.93, 2.7, 4.62, 5.0, 3.66, 4.6, 5.0, 1.79, 3.02, 2.57, 2.55, 1.16, 4.59, 3.03, 4.65, 4.68, 4.0, 2.63, 5.0, 5.0, 4.62, 1.9, 2.09, 3.04, 4.96, 3.79, 2.55, 1.53, 1.74, 5.0, 5.0, 5.0, 3.88, 1.55, 1.06], \"xaxis\": \"x\", \"yaxis\": \"y\"}, {\"histnorm\": \"probability\", \"marker\": {\"color\": \"#FF9E06\"}, \"name\": \"M : 133\", \"type\": \"histogram\", \"x\": [5.0, 3.9, 3.6, 3.65, 3.98, 4.5, 4.53, 1.93, 5.0, 1.77, 3.31, 1.64, 1.81, 2.19, 2.94, 2.91, 4.1, 3.01, 1.82, 2.06, 4.5, 4.33, 4.28, 1.62, 3.04, 2.19, 3.32, 3.76, 2.96, 2.51, 2.39, 1.99, 2.55, 1.84, 2.21, 1.2, 5.0, 5.0, 3.93, 3.39, 5.0, 4.63, 4.78, 2.34, 4.37, 4.13, 5.0, 1.12, 1.56, 3.08, 3.18, 5.0, 5.0, 1.97, 1.83, 3.38, 5.0, 3.02, 1.51, 4.5, 5.0, 5.0, 3.66, 1.83, 5.0, 1.41, 4.43, 1.86, 2.05, 5.0, 2.86, 2.45, 1.39, 5.0, 1.13, 4.17, 2.79, 5.0, 1.98, 1.42, 2.61, 5.0, 3.84, 2.51, 5.0, 5.0, 1.65, 3.07, 4.25, 3.8, 1.53, 4.36, 1.09, 3.8, 5.0, 3.97, 2.61, 3.54, 5.0, 4.76, 4.35, 5.0, 1.67, 1.3, 2.67, 2.41, 5.0, 4.0, 2.5, 2.08, 3.25, 3.11, 3.96, 1.84, 2.48, 4.07, 4.29, 3.19, 1.37, 1.62, 5.0, 3.42, 1.95, 4.15, 1.1, 2.61, 1.11, 3.84, 4.96, 2.94, 4.46, 3.27, 5.0], \"xaxis\": \"x2\", \"yaxis\": \"y2\"}],\n",
       "                        {\"height\": 600, \"template\": {\"data\": {\"bar\": [{\"error_x\": {\"color\": \"#2a3f5f\"}, \"error_y\": {\"color\": \"#2a3f5f\"}, \"marker\": {\"line\": {\"color\": \"#E5ECF6\", \"width\": 0.5}}, \"type\": \"bar\"}], \"barpolar\": [{\"marker\": {\"line\": {\"color\": \"#E5ECF6\", \"width\": 0.5}}, \"type\": \"barpolar\"}], \"carpet\": [{\"aaxis\": {\"endlinecolor\": \"#2a3f5f\", \"gridcolor\": \"white\", \"linecolor\": \"white\", \"minorgridcolor\": \"white\", \"startlinecolor\": \"#2a3f5f\"}, \"baxis\": {\"endlinecolor\": \"#2a3f5f\", \"gridcolor\": \"white\", \"linecolor\": \"white\", \"minorgridcolor\": \"white\", \"startlinecolor\": \"#2a3f5f\"}, \"type\": \"carpet\"}], \"choropleth\": [{\"colorbar\": {\"outlinewidth\": 0, \"ticks\": \"\"}, \"type\": \"choropleth\"}], \"contour\": [{\"colorbar\": {\"outlinewidth\": 0, \"ticks\": \"\"}, \"colorscale\": [[0.0, \"#0d0887\"], [0.1111111111111111, \"#46039f\"], [0.2222222222222222, \"#7201a8\"], [0.3333333333333333, \"#9c179e\"], [0.4444444444444444, \"#bd3786\"], [0.5555555555555556, \"#d8576b\"], [0.6666666666666666, \"#ed7953\"], [0.7777777777777778, \"#fb9f3a\"], [0.8888888888888888, \"#fdca26\"], [1.0, \"#f0f921\"]], \"type\": \"contour\"}], \"contourcarpet\": [{\"colorbar\": {\"outlinewidth\": 0, \"ticks\": \"\"}, \"type\": \"contourcarpet\"}], \"heatmap\": [{\"colorbar\": {\"outlinewidth\": 0, \"ticks\": \"\"}, \"colorscale\": [[0.0, \"#0d0887\"], [0.1111111111111111, \"#46039f\"], [0.2222222222222222, \"#7201a8\"], [0.3333333333333333, \"#9c179e\"], [0.4444444444444444, \"#bd3786\"], [0.5555555555555556, \"#d8576b\"], [0.6666666666666666, \"#ed7953\"], [0.7777777777777778, \"#fb9f3a\"], [0.8888888888888888, \"#fdca26\"], [1.0, \"#f0f921\"]], \"type\": \"heatmap\"}], \"heatmapgl\": [{\"colorbar\": {\"outlinewidth\": 0, \"ticks\": \"\"}, \"colorscale\": [[0.0, \"#0d0887\"], [0.1111111111111111, \"#46039f\"], [0.2222222222222222, \"#7201a8\"], [0.3333333333333333, \"#9c179e\"], [0.4444444444444444, \"#bd3786\"], [0.5555555555555556, \"#d8576b\"], [0.6666666666666666, \"#ed7953\"], [0.7777777777777778, \"#fb9f3a\"], [0.8888888888888888, \"#fdca26\"], [1.0, \"#f0f921\"]], \"type\": \"heatmapgl\"}], \"histogram\": [{\"marker\": {\"colorbar\": {\"outlinewidth\": 0, \"ticks\": \"\"}}, \"type\": \"histogram\"}], \"histogram2d\": [{\"colorbar\": {\"outlinewidth\": 0, \"ticks\": \"\"}, \"colorscale\": [[0.0, \"#0d0887\"], [0.1111111111111111, \"#46039f\"], [0.2222222222222222, \"#7201a8\"], [0.3333333333333333, \"#9c179e\"], [0.4444444444444444, \"#bd3786\"], [0.5555555555555556, \"#d8576b\"], [0.6666666666666666, \"#ed7953\"], [0.7777777777777778, \"#fb9f3a\"], [0.8888888888888888, \"#fdca26\"], [1.0, \"#f0f921\"]], \"type\": \"histogram2d\"}], \"histogram2dcontour\": [{\"colorbar\": {\"outlinewidth\": 0, \"ticks\": \"\"}, \"colorscale\": [[0.0, \"#0d0887\"], [0.1111111111111111, \"#46039f\"], [0.2222222222222222, \"#7201a8\"], [0.3333333333333333, \"#9c179e\"], [0.4444444444444444, \"#bd3786\"], [0.5555555555555556, \"#d8576b\"], [0.6666666666666666, \"#ed7953\"], [0.7777777777777778, \"#fb9f3a\"], [0.8888888888888888, \"#fdca26\"], [1.0, \"#f0f921\"]], \"type\": \"histogram2dcontour\"}], \"mesh3d\": [{\"colorbar\": {\"outlinewidth\": 0, \"ticks\": \"\"}, \"type\": \"mesh3d\"}], \"parcoords\": [{\"line\": {\"colorbar\": {\"outlinewidth\": 0, \"ticks\": \"\"}}, \"type\": \"parcoords\"}], \"pie\": [{\"automargin\": true, \"type\": \"pie\"}], \"scatter\": [{\"marker\": {\"colorbar\": {\"outlinewidth\": 0, \"ticks\": \"\"}}, \"type\": \"scatter\"}], \"scatter3d\": [{\"line\": {\"colorbar\": {\"outlinewidth\": 0, \"ticks\": \"\"}}, \"marker\": {\"colorbar\": {\"outlinewidth\": 0, \"ticks\": \"\"}}, \"type\": \"scatter3d\"}], \"scattercarpet\": [{\"marker\": {\"colorbar\": {\"outlinewidth\": 0, \"ticks\": \"\"}}, \"type\": \"scattercarpet\"}], \"scattergeo\": [{\"marker\": {\"colorbar\": {\"outlinewidth\": 0, \"ticks\": \"\"}}, \"type\": \"scattergeo\"}], \"scattergl\": [{\"marker\": {\"colorbar\": {\"outlinewidth\": 0, \"ticks\": \"\"}}, \"type\": \"scattergl\"}], \"scattermapbox\": [{\"marker\": {\"colorbar\": {\"outlinewidth\": 0, \"ticks\": \"\"}}, \"type\": \"scattermapbox\"}], \"scatterpolar\": [{\"marker\": {\"colorbar\": {\"outlinewidth\": 0, \"ticks\": \"\"}}, \"type\": \"scatterpolar\"}], \"scatterpolargl\": [{\"marker\": {\"colorbar\": {\"outlinewidth\": 0, \"ticks\": \"\"}}, \"type\": \"scatterpolargl\"}], \"scatterternary\": [{\"marker\": {\"colorbar\": {\"outlinewidth\": 0, \"ticks\": \"\"}}, \"type\": \"scatterternary\"}], \"surface\": [{\"colorbar\": {\"outlinewidth\": 0, \"ticks\": \"\"}, \"colorscale\": [[0.0, \"#0d0887\"], [0.1111111111111111, \"#46039f\"], [0.2222222222222222, \"#7201a8\"], [0.3333333333333333, \"#9c179e\"], [0.4444444444444444, \"#bd3786\"], [0.5555555555555556, \"#d8576b\"], [0.6666666666666666, \"#ed7953\"], [0.7777777777777778, \"#fb9f3a\"], [0.8888888888888888, \"#fdca26\"], [1.0, \"#f0f921\"]], \"type\": \"surface\"}], \"table\": [{\"cells\": {\"fill\": {\"color\": \"#EBF0F8\"}, \"line\": {\"color\": \"white\"}}, \"header\": {\"fill\": {\"color\": \"#C8D4E3\"}, \"line\": {\"color\": \"white\"}}, \"type\": \"table\"}]}, \"layout\": {\"annotationdefaults\": {\"arrowcolor\": \"#2a3f5f\", \"arrowhead\": 0, \"arrowwidth\": 1}, \"coloraxis\": {\"colorbar\": {\"outlinewidth\": 0, \"ticks\": \"\"}}, \"colorscale\": {\"diverging\": [[0, \"#8e0152\"], [0.1, \"#c51b7d\"], [0.2, \"#de77ae\"], [0.3, \"#f1b6da\"], [0.4, \"#fde0ef\"], [0.5, \"#f7f7f7\"], [0.6, \"#e6f5d0\"], [0.7, \"#b8e186\"], [0.8, \"#7fbc41\"], [0.9, \"#4d9221\"], [1, \"#276419\"]], \"sequential\": [[0.0, \"#0d0887\"], [0.1111111111111111, \"#46039f\"], [0.2222222222222222, \"#7201a8\"], [0.3333333333333333, \"#9c179e\"], [0.4444444444444444, \"#bd3786\"], [0.5555555555555556, \"#d8576b\"], [0.6666666666666666, \"#ed7953\"], [0.7777777777777778, \"#fb9f3a\"], [0.8888888888888888, \"#fdca26\"], [1.0, \"#f0f921\"]], \"sequentialminus\": [[0.0, \"#0d0887\"], [0.1111111111111111, \"#46039f\"], [0.2222222222222222, \"#7201a8\"], [0.3333333333333333, \"#9c179e\"], [0.4444444444444444, \"#bd3786\"], [0.5555555555555556, \"#d8576b\"], [0.6666666666666666, \"#ed7953\"], [0.7777777777777778, \"#fb9f3a\"], [0.8888888888888888, \"#fdca26\"], [1.0, \"#f0f921\"]]}, \"colorway\": [\"#636efa\", \"#EF553B\", \"#00cc96\", \"#ab63fa\", \"#FFA15A\", \"#19d3f3\", \"#FF6692\", \"#B6E880\", \"#FF97FF\", \"#FECB52\"], \"font\": {\"color\": \"#2a3f5f\"}, \"geo\": {\"bgcolor\": \"white\", \"lakecolor\": \"white\", \"landcolor\": \"#E5ECF6\", \"showlakes\": true, \"showland\": true, \"subunitcolor\": \"white\"}, \"hoverlabel\": {\"align\": \"left\"}, \"hovermode\": \"closest\", \"mapbox\": {\"style\": \"light\"}, \"paper_bgcolor\": \"white\", \"plot_bgcolor\": \"#E5ECF6\", \"polar\": {\"angularaxis\": {\"gridcolor\": \"white\", \"linecolor\": \"white\", \"ticks\": \"\"}, \"bgcolor\": \"#E5ECF6\", \"radialaxis\": {\"gridcolor\": \"white\", \"linecolor\": \"white\", \"ticks\": \"\"}}, \"scene\": {\"xaxis\": {\"backgroundcolor\": \"#E5ECF6\", \"gridcolor\": \"white\", \"gridwidth\": 2, \"linecolor\": \"white\", \"showbackground\": true, \"ticks\": \"\", \"zerolinecolor\": \"white\"}, \"yaxis\": {\"backgroundcolor\": \"#E5ECF6\", \"gridcolor\": \"white\", \"gridwidth\": 2, \"linecolor\": \"white\", \"showbackground\": true, \"ticks\": \"\", \"zerolinecolor\": \"white\"}, \"zaxis\": {\"backgroundcolor\": \"#E5ECF6\", \"gridcolor\": \"white\", \"gridwidth\": 2, \"linecolor\": \"white\", \"showbackground\": true, \"ticks\": \"\", \"zerolinecolor\": \"white\"}}, \"shapedefaults\": {\"line\": {\"color\": \"#2a3f5f\"}}, \"ternary\": {\"aaxis\": {\"gridcolor\": \"white\", \"linecolor\": \"white\", \"ticks\": \"\"}, \"baxis\": {\"gridcolor\": \"white\", \"linecolor\": \"white\", \"ticks\": \"\"}, \"bgcolor\": \"#E5ECF6\", \"caxis\": {\"gridcolor\": \"white\", \"linecolor\": \"white\", \"ticks\": \"\"}}, \"title\": {\"x\": 0.05}, \"xaxis\": {\"automargin\": true, \"gridcolor\": \"white\", \"linecolor\": \"white\", \"ticks\": \"\", \"title\": {\"standoff\": 15}, \"zerolinecolor\": \"white\", \"zerolinewidth\": 2}, \"yaxis\": {\"automargin\": true, \"gridcolor\": \"white\", \"linecolor\": \"white\", \"ticks\": \"\", \"title\": {\"standoff\": 15}, \"zerolinecolor\": \"white\", \"zerolinewidth\": 2}}}, \"title\": {\"text\": \"Engagement for genders\"}, \"width\": 600, \"xaxis\": {\"anchor\": \"y\", \"domain\": [0.0, 1.0], \"matches\": \"x2\", \"showticklabels\": false, \"title\": {\"text\": \"EngagementSurvey\"}}, \"xaxis2\": {\"anchor\": \"y2\", \"domain\": [0.0, 1.0], \"title\": {\"text\": \"EngagementSurvey\"}}, \"yaxis\": {\"anchor\": \"x\", \"domain\": [0.55, 1.0], \"title\": {\"text\": \"occurences\"}}, \"yaxis2\": {\"anchor\": \"x2\", \"domain\": [0.0, 0.45], \"title\": {\"text\": \"occurences\"}}},\n",
       "                        {\"responsive\": true}\n",
       "                    ).then(function(){\n",
       "                            \n",
       "var gd = document.getElementById('0dcd51a4-beac-46db-80a3-df486d206ab7');\n",
       "var x = new MutationObserver(function (mutations, observer) {{\n",
       "        var display = window.getComputedStyle(gd).display;\n",
       "        if (!display || display === 'none') {{\n",
       "            console.log([gd, 'removed!']);\n",
       "            Plotly.purge(gd);\n",
       "            observer.disconnect();\n",
       "        }}\n",
       "}});\n",
       "\n",
       "// Listen for the removal of the full notebook cells\n",
       "var notebookContainer = gd.closest('#notebook-container');\n",
       "if (notebookContainer) {{\n",
       "    x.observe(notebookContainer, {childList: true});\n",
       "}}\n",
       "\n",
       "// Listen for the clearing of the current output cell\n",
       "var outputEl = gd.closest('.output');\n",
       "if (outputEl) {{\n",
       "    x.observe(outputEl, {childList: true});\n",
       "}}\n",
       "\n",
       "                        })\n",
       "                };\n",
       "                });\n",
       "            </script>\n",
       "        </div>"
      ]
     },
     "metadata": {},
     "output_type": "display_data"
    }
   ],
   "source": [
    "fig = hist(hr, \"Sex\", \"EngagementSurvey\", \"Engagement for genders\", palette_2)\n",
    "fig.show()"
   ]
  },
  {
   "cell_type": "code",
   "execution_count": 24,
   "metadata": {
    "collapsed": true
   },
   "outputs": [
    {
     "data": {
      "image/png": "[encoded data removed]",
      "text/plain": [
       "<Figure size 720x360 with 1 Axes>"
      ]
     },
     "metadata": {
      "needs_background": "light"
     },
     "output_type": "display_data"
    }
   ],
   "source": [
    "density(hr, \"Sex\", \"EngagementSurvey\", [\"Female\", \"Male\"])"
   ]
  },
  {
   "cell_type": "markdown",
   "metadata": {},
   "source": [
    "As we can see, women are more engaged in their job than men, yet they are paid less.\n",
    "It is so even despite the role of CEO designated to a woman."
   ]
  },
  {
   "cell_type": "markdown",
   "metadata": {},
   "source": [
    "## Race and pay rates"
   ]
  },
  {
   "cell_type": "code",
   "execution_count": 30,
   "metadata": {},
   "outputs": [],
   "source": [
    "color = px.colors.qualitative.Plotly"
   ]
  },
  {
   "cell_type": "code",
   "execution_count": 31,
   "metadata": {
    "code_folding": [
     0
    ],
    "collapsed": true
   },
   "outputs": [
    {
     "data": {
      "application/vnd.plotly.v1+json": {
       "config": {
        "plotlyServerURL": "https://plot.ly"
       },
       "data": [
        {
         "histnorm": "probability",
         "marker": {
          "color": "#636EFA"
         },
         "name": "Black or African American: 57",
         "type": "histogram",
         "x": [
          28.5,
          23,
          55,
          55,
          55,
          54,
          55,
          56,
          55,
          55,
          45,
          45,
          55,
          40.1,
          35.5,
          45,
          60,
          65,
          27.49,
          55,
          33.5,
          24,
          22,
          24,
          17,
          20,
          21,
          20,
          24,
          14,
          20,
          22,
          14,
          20,
          15,
          24,
          19,
          22,
          15,
          18,
          24,
          25,
          29,
          27,
          26.1,
          29,
          22,
          25,
          29,
          24,
          56,
          55,
          57.12,
          48.5,
          45.42,
          61.3,
          58.2
         ],
         "xaxis": "x",
         "yaxis": "y"
        },
        {
         "histnorm": "probability",
         "marker": {
          "color": "#EF553B"
         },
         "name": "White: 193",
         "type": "histogram",
         "x": [
          29,
          21.5,
          16.56,
          55,
          55,
          55.5,
          55,
          55,
          55,
          55,
          56,
          55,
          57,
          55,
          46,
          45,
          63.5,
          65,
          43,
          48.5,
          34,
          41,
          39.55,
          42.2,
          30.2,
          31.4,
          60,
          62,
          64,
          28.99,
          31.4,
          45,
          42,
          37,
          39,
          43,
          27,
          47,
          28,
          49.1,
          80,
          54.5,
          55,
          51,
          54,
          48.5,
          55,
          38.5,
          52,
          53,
          23,
          16,
          21,
          20,
          18,
          20,
          24,
          15,
          22,
          22,
          15,
          20,
          21,
          16,
          24.75,
          24,
          16,
          23,
          18,
          17,
          16,
          20,
          15,
          16.75,
          19,
          15,
          20,
          17,
          20,
          19,
          17,
          21,
          22,
          21,
          22,
          19.5,
          15,
          18,
          22,
          21,
          15,
          18,
          20,
          15,
          15.75,
          21.25,
          21,
          14,
          19,
          15,
          16,
          16,
          21,
          22,
          21,
          23,
          17,
          19,
          17,
          21,
          17,
          16,
          24.5,
          20,
          17,
          21,
          16,
          18,
          19,
          20,
          18,
          16,
          19.75,
          17,
          24,
          17,
          19,
          15.25,
          20,
          21,
          21,
          19,
          20,
          16,
          22,
          23.5,
          20,
          19.75,
          22,
          23,
          29,
          23,
          22,
          25,
          25,
          25,
          29,
          26,
          24.25,
          27,
          26,
          22,
          26,
          25,
          26.39,
          22,
          28.75,
          27,
          24,
          24,
          22,
          29,
          26,
          24,
          26,
          29,
          29,
          28,
          22,
          24.25,
          27,
          24,
          28,
          24,
          23,
          22,
          28,
          23,
          23,
          54,
          60.25,
          55,
          47.6,
          56,
          49.25,
          48,
          27,
          34.95,
          62,
          58.5,
          54.1,
          56.2,
          53
         ],
         "xaxis": "x2",
         "yaxis": "y2"
        },
        {
         "histnorm": "probability",
         "marker": {
          "color": "#00CC96"
         },
         "name": "Asian: 34",
         "type": "histogram",
         "x": [
          20.5,
          56,
          40,
          42.75,
          50.5,
          42,
          21,
          15,
          22,
          15,
          21,
          14,
          22,
          22,
          22,
          18,
          24,
          19,
          19,
          17,
          22,
          15.2,
          28,
          26,
          22,
          25,
          50.25,
          52.25,
          51,
          55.51,
          52.25,
          34.95,
          53.8,
          55.2
         ],
         "xaxis": "x3",
         "yaxis": "y3"
        },
        {
         "histnorm": "probability",
         "marker": {
          "color": "#AB63FA"
         },
         "name": "American Indian or Alaska Native: 4",
         "type": "histogram",
         "x": [
          56,
          16,
          22.5,
          27
         ],
         "xaxis": "x4",
         "yaxis": "y4"
        },
        {
         "histnorm": "probability",
         "marker": {
          "color": "#FFA15A"
         },
         "name": "Two or more races: 18",
         "type": "histogram",
         "x": [
          55.5,
          55,
          55,
          55,
          55,
          55,
          21,
          26,
          16,
          22,
          16.76,
          16,
          18.5,
          14,
          19,
          15,
          23,
          25
         ],
         "xaxis": "x5",
         "yaxis": "y5"
        },
        {
         "histnorm": "probability",
         "marker": {
          "color": "#19D3F3"
         },
         "name": "Hispanic: 4",
         "type": "histogram",
         "x": [
          63,
          53,
          17,
          26
         ],
         "xaxis": "x6",
         "yaxis": "y6"
        }
       ],
       "layout": {
        "height": 900,
        "template": {
         "data": {
          "bar": [
           {
            "error_x": {
             "color": "#2a3f5f"
            },
            "error_y": {
             "color": "#2a3f5f"
            },
            "marker": {
             "line": {
              "color": "#E5ECF6",
              "width": 0.5
             }
            },
            "type": "bar"
           }
          ],
          "barpolar": [
           {
            "marker": {
             "line": {
              "color": "#E5ECF6",
              "width": 0.5
             }
            },
            "type": "barpolar"
           }
          ],
          "carpet": [
           {
            "aaxis": {
             "endlinecolor": "#2a3f5f",
             "gridcolor": "white",
             "linecolor": "white",
             "minorgridcolor": "white",
             "startlinecolor": "#2a3f5f"
            },
            "baxis": {
             "endlinecolor": "#2a3f5f",
             "gridcolor": "white",
             "linecolor": "white",
             "minorgridcolor": "white",
             "startlinecolor": "#2a3f5f"
            },
            "type": "carpet"
           }
          ],
          "choropleth": [
           {
            "colorbar": {
             "outlinewidth": 0,
             "ticks": ""
            },
            "type": "choropleth"
           }
          ],
          "contour": [
           {
            "colorbar": {
             "outlinewidth": 0,
             "ticks": ""
            },
            "colorscale": [
             [
              0,
              "#0d0887"
             ],
             [
              0.1111111111111111,
              "#46039f"
             ],
             [
              0.2222222222222222,
              "#7201a8"
             ],
             [
              0.3333333333333333,
              "#9c179e"
             ],
             [
              0.4444444444444444,
              "#bd3786"
             ],
             [
              0.5555555555555556,
              "#d8576b"
             ],
             [
              0.6666666666666666,
              "#ed7953"
             ],
             [
              0.7777777777777778,
              "#fb9f3a"
             ],
             [
              0.8888888888888888,
              "#fdca26"
             ],
             [
              1,
              "#f0f921"
             ]
            ],
            "type": "contour"
           }
          ],
          "contourcarpet": [
           {
            "colorbar": {
             "outlinewidth": 0,
             "ticks": ""
            },
            "type": "contourcarpet"
           }
          ],
          "heatmap": [
           {
            "colorbar": {
             "outlinewidth": 0,
             "ticks": ""
            },
            "colorscale": [
             [
              0,
              "#0d0887"
             ],
             [
              0.1111111111111111,
              "#46039f"
             ],
             [
              0.2222222222222222,
              "#7201a8"
             ],
             [
              0.3333333333333333,
              "#9c179e"
             ],
             [
              0.4444444444444444,
              "#bd3786"
             ],
             [
              0.5555555555555556,
              "#d8576b"
             ],
             [
              0.6666666666666666,
              "#ed7953"
             ],
             [
              0.7777777777777778,
              "#fb9f3a"
             ],
             [
              0.8888888888888888,
              "#fdca26"
             ],
             [
              1,
              "#f0f921"
             ]
            ],
            "type": "heatmap"
           }
          ],
          "heatmapgl": [
           {
            "colorbar": {
             "outlinewidth": 0,
             "ticks": ""
            },
            "colorscale": [
             [
              0,
              "#0d0887"
             ],
             [
              0.1111111111111111,
              "#46039f"
             ],
             [
              0.2222222222222222,
              "#7201a8"
             ],
             [
              0.3333333333333333,
              "#9c179e"
             ],
             [
              0.4444444444444444,
              "#bd3786"
             ],
             [
              0.5555555555555556,
              "#d8576b"
             ],
             [
              0.6666666666666666,
              "#ed7953"
             ],
             [
              0.7777777777777778,
              "#fb9f3a"
             ],
             [
              0.8888888888888888,
              "#fdca26"
             ],
             [
              1,
              "#f0f921"
             ]
            ],
            "type": "heatmapgl"
           }
          ],
          "histogram": [
           {
            "marker": {
             "colorbar": {
              "outlinewidth": 0,
              "ticks": ""
             }
            },
            "type": "histogram"
           }
          ],
          "histogram2d": [
           {
            "colorbar": {
             "outlinewidth": 0,
             "ticks": ""
            },
            "colorscale": [
             [
              0,
              "#0d0887"
             ],
             [
              0.1111111111111111,
              "#46039f"
             ],
             [
              0.2222222222222222,
              "#7201a8"
             ],
             [
              0.3333333333333333,
              "#9c179e"
             ],
             [
              0.4444444444444444,
              "#bd3786"
             ],
             [
              0.5555555555555556,
              "#d8576b"
             ],
             [
              0.6666666666666666,
              "#ed7953"
             ],
             [
              0.7777777777777778,
              "#fb9f3a"
             ],
             [
              0.8888888888888888,
              "#fdca26"
             ],
             [
              1,
              "#f0f921"
             ]
            ],
            "type": "histogram2d"
           }
          ],
          "histogram2dcontour": [
           {
            "colorbar": {
             "outlinewidth": 0,
             "ticks": ""
            },
            "colorscale": [
             [
              0,
              "#0d0887"
             ],
             [
              0.1111111111111111,
              "#46039f"
             ],
             [
              0.2222222222222222,
              "#7201a8"
             ],
             [
              0.3333333333333333,
              "#9c179e"
             ],
             [
              0.4444444444444444,
              "#bd3786"
             ],
             [
              0.5555555555555556,
              "#d8576b"
             ],
             [
              0.6666666666666666,
              "#ed7953"
             ],
             [
              0.7777777777777778,
              "#fb9f3a"
             ],
             [
              0.8888888888888888,
              "#fdca26"
             ],
             [
              1,
              "#f0f921"
             ]
            ],
            "type": "histogram2dcontour"
           }
          ],
          "mesh3d": [
           {
            "colorbar": {
             "outlinewidth": 0,
             "ticks": ""
            },
            "type": "mesh3d"
           }
          ],
          "parcoords": [
           {
            "line": {
             "colorbar": {
              "outlinewidth": 0,
              "ticks": ""
             }
            },
            "type": "parcoords"
           }
          ],
          "pie": [
           {
            "automargin": true,
            "type": "pie"
           }
          ],
          "scatter": [
           {
            "marker": {
             "colorbar": {
              "outlinewidth": 0,
              "ticks": ""
             }
            },
            "type": "scatter"
           }
          ],
          "scatter3d": [
           {
            "line": {
             "colorbar": {
              "outlinewidth": 0,
              "ticks": ""
             }
            },
            "marker": {
             "colorbar": {
              "outlinewidth": 0,
              "ticks": ""
             }
            },
            "type": "scatter3d"
           }
          ],
          "scattercarpet": [
           {
            "marker": {
             "colorbar": {
              "outlinewidth": 0,
              "ticks": ""
             }
            },
            "type": "scattercarpet"
           }
          ],
          "scattergeo": [
           {
            "marker": {
             "colorbar": {
              "outlinewidth": 0,
              "ticks": ""
             }
            },
            "type": "scattergeo"
           }
          ],
          "scattergl": [
           {
            "marker": {
             "colorbar": {
              "outlinewidth": 0,
              "ticks": ""
             }
            },
            "type": "scattergl"
           }
          ],
          "scattermapbox": [
           {
            "marker": {
             "colorbar": {
              "outlinewidth": 0,
              "ticks": ""
             }
            },
            "type": "scattermapbox"
           }
          ],
          "scatterpolar": [
           {
            "marker": {
             "colorbar": {
              "outlinewidth": 0,
              "ticks": ""
             }
            },
            "type": "scatterpolar"
           }
          ],
          "scatterpolargl": [
           {
            "marker": {
             "colorbar": {
              "outlinewidth": 0,
              "ticks": ""
             }
            },
            "type": "scatterpolargl"
           }
          ],
          "scatterternary": [
           {
            "marker": {
             "colorbar": {
              "outlinewidth": 0,
              "ticks": ""
             }
            },
            "type": "scatterternary"
           }
          ],
          "surface": [
           {
            "colorbar": {
             "outlinewidth": 0,
             "ticks": ""
            },
            "colorscale": [
             [
              0,
              "#0d0887"
             ],
             [
              0.1111111111111111,
              "#46039f"
             ],
             [
              0.2222222222222222,
              "#7201a8"
             ],
             [
              0.3333333333333333,
              "#9c179e"
             ],
             [
              0.4444444444444444,
              "#bd3786"
             ],
             [
              0.5555555555555556,
              "#d8576b"
             ],
             [
              0.6666666666666666,
              "#ed7953"
             ],
             [
              0.7777777777777778,
              "#fb9f3a"
             ],
             [
              0.8888888888888888,
              "#fdca26"
             ],
             [
              1,
              "#f0f921"
             ]
            ],
            "type": "surface"
           }
          ],
          "table": [
           {
            "cells": {
             "fill": {
              "color": "#EBF0F8"
             },
             "line": {
              "color": "white"
             }
            },
            "header": {
             "fill": {
              "color": "#C8D4E3"
             },
             "line": {
              "color": "white"
             }
            },
            "type": "table"
           }
          ]
         },
         "layout": {
          "annotationdefaults": {
           "arrowcolor": "#2a3f5f",
           "arrowhead": 0,
           "arrowwidth": 1
          },
          "coloraxis": {
           "colorbar": {
            "outlinewidth": 0,
            "ticks": ""
           }
          },
          "colorscale": {
           "diverging": [
            [
             0,
             "#8e0152"
            ],
            [
             0.1,
             "#c51b7d"
            ],
            [
             0.2,
             "#de77ae"
            ],
            [
             0.3,
             "#f1b6da"
            ],
            [
             0.4,
             "#fde0ef"
            ],
            [
             0.5,
             "#f7f7f7"
            ],
            [
             0.6,
             "#e6f5d0"
            ],
            [
             0.7,
             "#b8e186"
            ],
            [
             0.8,
             "#7fbc41"
            ],
            [
             0.9,
             "#4d9221"
            ],
            [
             1,
             "#276419"
            ]
           ],
           "sequential": [
            [
             0,
             "#0d0887"
            ],
            [
             0.1111111111111111,
             "#46039f"
            ],
            [
             0.2222222222222222,
             "#7201a8"
            ],
            [
             0.3333333333333333,
             "#9c179e"
            ],
            [
             0.4444444444444444,
             "#bd3786"
            ],
            [
             0.5555555555555556,
             "#d8576b"
            ],
            [
             0.6666666666666666,
             "#ed7953"
            ],
            [
             0.7777777777777778,
             "#fb9f3a"
            ],
            [
             0.8888888888888888,
             "#fdca26"
            ],
            [
             1,
             "#f0f921"
            ]
           ],
           "sequentialminus": [
            [
             0,
             "#0d0887"
            ],
            [
             0.1111111111111111,
             "#46039f"
            ],
            [
             0.2222222222222222,
             "#7201a8"
            ],
            [
             0.3333333333333333,
             "#9c179e"
            ],
            [
             0.4444444444444444,
             "#bd3786"
            ],
            [
             0.5555555555555556,
             "#d8576b"
            ],
            [
             0.6666666666666666,
             "#ed7953"
            ],
            [
             0.7777777777777778,
             "#fb9f3a"
            ],
            [
             0.8888888888888888,
             "#fdca26"
            ],
            [
             1,
             "#f0f921"
            ]
           ]
          },
          "colorway": [
           "#636efa",
           "#EF553B",
           "#00cc96",
           "#ab63fa",
           "#FFA15A",
           "#19d3f3",
           "#FF6692",
           "#B6E880",
           "#FF97FF",
           "#FECB52"
          ],
          "font": {
           "color": "#2a3f5f"
          },
          "geo": {
           "bgcolor": "white",
           "lakecolor": "white",
           "landcolor": "#E5ECF6",
           "showlakes": true,
           "showland": true,
           "subunitcolor": "white"
          },
          "hoverlabel": {
           "align": "left"
          },
          "hovermode": "closest",
          "mapbox": {
           "style": "light"
          },
          "paper_bgcolor": "white",
          "plot_bgcolor": "#E5ECF6",
          "polar": {
           "angularaxis": {
            "gridcolor": "white",
            "linecolor": "white",
            "ticks": ""
           },
           "bgcolor": "#E5ECF6",
           "radialaxis": {
            "gridcolor": "white",
            "linecolor": "white",
            "ticks": ""
           }
          },
          "scene": {
           "xaxis": {
            "backgroundcolor": "#E5ECF6",
            "gridcolor": "white",
            "gridwidth": 2,
            "linecolor": "white",
            "showbackground": true,
            "ticks": "",
            "zerolinecolor": "white"
           },
           "yaxis": {
            "backgroundcolor": "#E5ECF6",
            "gridcolor": "white",
            "gridwidth": 2,
            "linecolor": "white",
            "showbackground": true,
            "ticks": "",
            "zerolinecolor": "white"
           },
           "zaxis": {
            "backgroundcolor": "#E5ECF6",
            "gridcolor": "white",
            "gridwidth": 2,
            "linecolor": "white",
            "showbackground": true,
            "ticks": "",
            "zerolinecolor": "white"
           }
          },
          "shapedefaults": {
           "line": {
            "color": "#2a3f5f"
           }
          },
          "ternary": {
           "aaxis": {
            "gridcolor": "white",
            "linecolor": "white",
            "ticks": ""
           },
           "baxis": {
            "gridcolor": "white",
            "linecolor": "white",
            "ticks": ""
           },
           "bgcolor": "#E5ECF6",
           "caxis": {
            "gridcolor": "white",
            "linecolor": "white",
            "ticks": ""
           }
          },
          "title": {
           "x": 0.05
          },
          "xaxis": {
           "automargin": true,
           "gridcolor": "white",
           "linecolor": "white",
           "ticks": "",
           "title": {
            "standoff": 15
           },
           "zerolinecolor": "white",
           "zerolinewidth": 2
          },
          "yaxis": {
           "automargin": true,
           "gridcolor": "white",
           "linecolor": "white",
           "ticks": "",
           "title": {
            "standoff": 15
           },
           "zerolinecolor": "white",
           "zerolinewidth": 2
          }
         }
        },
        "title": {
         "text": "Pay rate for races"
        },
        "width": 900,
        "xaxis": {
         "anchor": "y",
         "domain": [
          0,
          1
         ],
         "matches": "x6",
         "showticklabels": false,
         "title": {
          "text": "PayRate"
         }
        },
        "xaxis2": {
         "anchor": "y2",
         "domain": [
          0,
          1
         ],
         "matches": "x6",
         "showticklabels": false,
         "title": {
          "text": "PayRate"
         }
        },
        "xaxis3": {
         "anchor": "y3",
         "domain": [
          0,
          1
         ],
         "matches": "x6",
         "showticklabels": false,
         "title": {
          "text": "PayRate"
         }
        },
        "xaxis4": {
         "anchor": "y4",
         "domain": [
          0,
          1
         ],
         "matches": "x6",
         "showticklabels": false,
         "title": {
          "text": "PayRate"
         }
        },
        "xaxis5": {
         "anchor": "y5",
         "domain": [
          0,
          1
         ],
         "matches": "x6",
         "showticklabels": false,
         "title": {
          "text": "PayRate"
         }
        },
        "xaxis6": {
         "anchor": "y6",
         "domain": [
          0,
          1
         ],
         "title": {
          "text": "PayRate"
         }
        },
        "yaxis": {
         "anchor": "x",
         "domain": [
          0.9166666666666666,
          1
         ],
         "title": {
          "text": "occurences"
         }
        },
        "yaxis2": {
         "anchor": "x2",
         "domain": [
          0.7333333333333334,
          0.8166666666666668
         ],
         "title": {
          "text": "occurences"
         }
        },
        "yaxis3": {
         "anchor": "x3",
         "domain": [
          0.55,
          0.6333333333333334
         ],
         "title": {
          "text": "occurences"
         }
        },
        "yaxis4": {
         "anchor": "x4",
         "domain": [
          0.3666666666666667,
          0.45
         ],
         "title": {
          "text": "occurences"
         }
        },
        "yaxis5": {
         "anchor": "x5",
         "domain": [
          0.18333333333333335,
          0.26666666666666666
         ],
         "title": {
          "text": "occurences"
         }
        },
        "yaxis6": {
         "anchor": "x6",
         "domain": [
          0,
          0.08333333333333333
         ],
         "title": {
          "text": "occurences"
         }
        }
       }
      },
      "text/html": [
       "<div>\n",
       "        \n",
       "        \n",
       "            <div id=\"65ce24c5-7d7a-4a6b-bdc7-fe043c05c65c\" class=\"plotly-graph-div\" style=\"height:900px; width:900px;\"></div>\n",
       "            <script type=\"text/javascript\">\n",
       "                require([\"plotly\"], function(Plotly) {\n",
       "                    window.PLOTLYENV=window.PLOTLYENV || {};\n",
       "                    \n",
       "                if (document.getElementById(\"65ce24c5-7d7a-4a6b-bdc7-fe043c05c65c\")) {\n",
       "                    Plotly.newPlot(\n",
       "                        '65ce24c5-7d7a-4a6b-bdc7-fe043c05c65c',\n",
       "                        [{\"histnorm\": \"probability\", \"marker\": {\"color\": \"#636EFA\"}, \"name\": \"Black or African American: 57\", \"type\": \"histogram\", \"x\": [28.5, 23.0, 55.0, 55.0, 55.0, 54.0, 55.0, 56.0, 55.0, 55.0, 45.0, 45.0, 55.0, 40.1, 35.5, 45.0, 60.0, 65.0, 27.49, 55.0, 33.5, 24.0, 22.0, 24.0, 17.0, 20.0, 21.0, 20.0, 24.0, 14.0, 20.0, 22.0, 14.0, 20.0, 15.0, 24.0, 19.0, 22.0, 15.0, 18.0, 24.0, 25.0, 29.0, 27.0, 26.1, 29.0, 22.0, 25.0, 29.0, 24.0, 56.0, 55.0, 57.12, 48.5, 45.42, 61.3, 58.2], \"xaxis\": \"x\", \"yaxis\": \"y\"}, {\"histnorm\": \"probability\", \"marker\": {\"color\": \"#EF553B\"}, \"name\": \"White: 193\", \"type\": \"histogram\", \"x\": [29.0, 21.5, 16.56, 55.0, 55.0, 55.5, 55.0, 55.0, 55.0, 55.0, 56.0, 55.0, 57.0, 55.0, 46.0, 45.0, 63.5, 65.0, 43.0, 48.5, 34.0, 41.0, 39.55, 42.2, 30.2, 31.4, 60.0, 62.0, 64.0, 28.99, 31.4, 45.0, 42.0, 37.0, 39.0, 43.0, 27.0, 47.0, 28.0, 49.1, 80.0, 54.5, 55.0, 51.0, 54.0, 48.5, 55.0, 38.5, 52.0, 53.0, 23.0, 16.0, 21.0, 20.0, 18.0, 20.0, 24.0, 15.0, 22.0, 22.0, 15.0, 20.0, 21.0, 16.0, 24.75, 24.0, 16.0, 23.0, 18.0, 17.0, 16.0, 20.0, 15.0, 16.75, 19.0, 15.0, 20.0, 17.0, 20.0, 19.0, 17.0, 21.0, 22.0, 21.0, 22.0, 19.5, 15.0, 18.0, 22.0, 21.0, 15.0, 18.0, 20.0, 15.0, 15.75, 21.25, 21.0, 14.0, 19.0, 15.0, 16.0, 16.0, 21.0, 22.0, 21.0, 23.0, 17.0, 19.0, 17.0, 21.0, 17.0, 16.0, 24.5, 20.0, 17.0, 21.0, 16.0, 18.0, 19.0, 20.0, 18.0, 16.0, 19.75, 17.0, 24.0, 17.0, 19.0, 15.25, 20.0, 21.0, 21.0, 19.0, 20.0, 16.0, 22.0, 23.5, 20.0, 19.75, 22.0, 23.0, 29.0, 23.0, 22.0, 25.0, 25.0, 25.0, 29.0, 26.0, 24.25, 27.0, 26.0, 22.0, 26.0, 25.0, 26.39, 22.0, 28.75, 27.0, 24.0, 24.0, 22.0, 29.0, 26.0, 24.0, 26.0, 29.0, 29.0, 28.0, 22.0, 24.25, 27.0, 24.0, 28.0, 24.0, 23.0, 22.0, 28.0, 23.0, 23.0, 54.0, 60.25, 55.0, 47.6, 56.0, 49.25, 48.0, 27.0, 34.95, 62.0, 58.5, 54.1, 56.2, 53.0], \"xaxis\": \"x2\", \"yaxis\": \"y2\"}, {\"histnorm\": \"probability\", \"marker\": {\"color\": \"#00CC96\"}, \"name\": \"Asian: 34\", \"type\": \"histogram\", \"x\": [20.5, 56.0, 40.0, 42.75, 50.5, 42.0, 21.0, 15.0, 22.0, 15.0, 21.0, 14.0, 22.0, 22.0, 22.0, 18.0, 24.0, 19.0, 19.0, 17.0, 22.0, 15.2, 28.0, 26.0, 22.0, 25.0, 50.25, 52.25, 51.0, 55.51, 52.25, 34.95, 53.8, 55.2], \"xaxis\": \"x3\", \"yaxis\": \"y3\"}, {\"histnorm\": \"probability\", \"marker\": {\"color\": \"#AB63FA\"}, \"name\": \"American Indian or Alaska Native: 4\", \"type\": \"histogram\", \"x\": [56.0, 16.0, 22.5, 27.0], \"xaxis\": \"x4\", \"yaxis\": \"y4\"}, {\"histnorm\": \"probability\", \"marker\": {\"color\": \"#FFA15A\"}, \"name\": \"Two or more races: 18\", \"type\": \"histogram\", \"x\": [55.5, 55.0, 55.0, 55.0, 55.0, 55.0, 21.0, 26.0, 16.0, 22.0, 16.76, 16.0, 18.5, 14.0, 19.0, 15.0, 23.0, 25.0], \"xaxis\": \"x5\", \"yaxis\": \"y5\"}, {\"histnorm\": \"probability\", \"marker\": {\"color\": \"#19D3F3\"}, \"name\": \"Hispanic: 4\", \"type\": \"histogram\", \"x\": [63.0, 53.0, 17.0, 26.0], \"xaxis\": \"x6\", \"yaxis\": \"y6\"}],\n",
       "                        {\"height\": 900, \"template\": {\"data\": {\"bar\": [{\"error_x\": {\"color\": \"#2a3f5f\"}, \"error_y\": {\"color\": \"#2a3f5f\"}, \"marker\": {\"line\": {\"color\": \"#E5ECF6\", \"width\": 0.5}}, \"type\": \"bar\"}], \"barpolar\": [{\"marker\": {\"line\": {\"color\": \"#E5ECF6\", \"width\": 0.5}}, \"type\": \"barpolar\"}], \"carpet\": [{\"aaxis\": {\"endlinecolor\": \"#2a3f5f\", \"gridcolor\": \"white\", \"linecolor\": \"white\", \"minorgridcolor\": \"white\", \"startlinecolor\": \"#2a3f5f\"}, \"baxis\": {\"endlinecolor\": \"#2a3f5f\", \"gridcolor\": \"white\", \"linecolor\": \"white\", \"minorgridcolor\": \"white\", \"startlinecolor\": \"#2a3f5f\"}, \"type\": \"carpet\"}], \"choropleth\": [{\"colorbar\": {\"outlinewidth\": 0, \"ticks\": \"\"}, \"type\": \"choropleth\"}], \"contour\": [{\"colorbar\": {\"outlinewidth\": 0, \"ticks\": \"\"}, \"colorscale\": [[0.0, \"#0d0887\"], [0.1111111111111111, \"#46039f\"], [0.2222222222222222, \"#7201a8\"], [0.3333333333333333, \"#9c179e\"], [0.4444444444444444, \"#bd3786\"], [0.5555555555555556, \"#d8576b\"], [0.6666666666666666, \"#ed7953\"], [0.7777777777777778, \"#fb9f3a\"], [0.8888888888888888, \"#fdca26\"], [1.0, \"#f0f921\"]], \"type\": \"contour\"}], \"contourcarpet\": [{\"colorbar\": {\"outlinewidth\": 0, \"ticks\": \"\"}, \"type\": \"contourcarpet\"}], \"heatmap\": [{\"colorbar\": {\"outlinewidth\": 0, \"ticks\": \"\"}, \"colorscale\": [[0.0, \"#0d0887\"], [0.1111111111111111, \"#46039f\"], [0.2222222222222222, \"#7201a8\"], [0.3333333333333333, \"#9c179e\"], [0.4444444444444444, \"#bd3786\"], [0.5555555555555556, \"#d8576b\"], [0.6666666666666666, \"#ed7953\"], [0.7777777777777778, \"#fb9f3a\"], [0.8888888888888888, \"#fdca26\"], [1.0, \"#f0f921\"]], \"type\": \"heatmap\"}], \"heatmapgl\": [{\"colorbar\": {\"outlinewidth\": 0, \"ticks\": \"\"}, \"colorscale\": [[0.0, \"#0d0887\"], [0.1111111111111111, \"#46039f\"], [0.2222222222222222, \"#7201a8\"], [0.3333333333333333, \"#9c179e\"], [0.4444444444444444, \"#bd3786\"], [0.5555555555555556, \"#d8576b\"], [0.6666666666666666, \"#ed7953\"], [0.7777777777777778, \"#fb9f3a\"], [0.8888888888888888, \"#fdca26\"], [1.0, \"#f0f921\"]], \"type\": \"heatmapgl\"}], \"histogram\": [{\"marker\": {\"colorbar\": {\"outlinewidth\": 0, \"ticks\": \"\"}}, \"type\": \"histogram\"}], \"histogram2d\": [{\"colorbar\": {\"outlinewidth\": 0, \"ticks\": \"\"}, \"colorscale\": [[0.0, \"#0d0887\"], [0.1111111111111111, \"#46039f\"], [0.2222222222222222, \"#7201a8\"], [0.3333333333333333, \"#9c179e\"], [0.4444444444444444, \"#bd3786\"], [0.5555555555555556, \"#d8576b\"], [0.6666666666666666, \"#ed7953\"], [0.7777777777777778, \"#fb9f3a\"], [0.8888888888888888, \"#fdca26\"], [1.0, \"#f0f921\"]], \"type\": \"histogram2d\"}], \"histogram2dcontour\": [{\"colorbar\": {\"outlinewidth\": 0, \"ticks\": \"\"}, \"colorscale\": [[0.0, \"#0d0887\"], [0.1111111111111111, \"#46039f\"], [0.2222222222222222, \"#7201a8\"], [0.3333333333333333, \"#9c179e\"], [0.4444444444444444, \"#bd3786\"], [0.5555555555555556, \"#d8576b\"], [0.6666666666666666, \"#ed7953\"], [0.7777777777777778, \"#fb9f3a\"], [0.8888888888888888, \"#fdca26\"], [1.0, \"#f0f921\"]], \"type\": \"histogram2dcontour\"}], \"mesh3d\": [{\"colorbar\": {\"outlinewidth\": 0, \"ticks\": \"\"}, \"type\": \"mesh3d\"}], \"parcoords\": [{\"line\": {\"colorbar\": {\"outlinewidth\": 0, \"ticks\": \"\"}}, \"type\": \"parcoords\"}], \"pie\": [{\"automargin\": true, \"type\": \"pie\"}], \"scatter\": [{\"marker\": {\"colorbar\": {\"outlinewidth\": 0, \"ticks\": \"\"}}, \"type\": \"scatter\"}], \"scatter3d\": [{\"line\": {\"colorbar\": {\"outlinewidth\": 0, \"ticks\": \"\"}}, \"marker\": {\"colorbar\": {\"outlinewidth\": 0, \"ticks\": \"\"}}, \"type\": \"scatter3d\"}], \"scattercarpet\": [{\"marker\": {\"colorbar\": {\"outlinewidth\": 0, \"ticks\": \"\"}}, \"type\": \"scattercarpet\"}], \"scattergeo\": [{\"marker\": {\"colorbar\": {\"outlinewidth\": 0, \"ticks\": \"\"}}, \"type\": \"scattergeo\"}], \"scattergl\": [{\"marker\": {\"colorbar\": {\"outlinewidth\": 0, \"ticks\": \"\"}}, \"type\": \"scattergl\"}], \"scattermapbox\": [{\"marker\": {\"colorbar\": {\"outlinewidth\": 0, \"ticks\": \"\"}}, \"type\": \"scattermapbox\"}], \"scatterpolar\": [{\"marker\": {\"colorbar\": {\"outlinewidth\": 0, \"ticks\": \"\"}}, \"type\": \"scatterpolar\"}], \"scatterpolargl\": [{\"marker\": {\"colorbar\": {\"outlinewidth\": 0, \"ticks\": \"\"}}, \"type\": \"scatterpolargl\"}], \"scatterternary\": [{\"marker\": {\"colorbar\": {\"outlinewidth\": 0, \"ticks\": \"\"}}, \"type\": \"scatterternary\"}], \"surface\": [{\"colorbar\": {\"outlinewidth\": 0, \"ticks\": \"\"}, \"colorscale\": [[0.0, \"#0d0887\"], [0.1111111111111111, \"#46039f\"], [0.2222222222222222, \"#7201a8\"], [0.3333333333333333, \"#9c179e\"], [0.4444444444444444, \"#bd3786\"], [0.5555555555555556, \"#d8576b\"], [0.6666666666666666, \"#ed7953\"], [0.7777777777777778, \"#fb9f3a\"], [0.8888888888888888, \"#fdca26\"], [1.0, \"#f0f921\"]], \"type\": \"surface\"}], \"table\": [{\"cells\": {\"fill\": {\"color\": \"#EBF0F8\"}, \"line\": {\"color\": \"white\"}}, \"header\": {\"fill\": {\"color\": \"#C8D4E3\"}, \"line\": {\"color\": \"white\"}}, \"type\": \"table\"}]}, \"layout\": {\"annotationdefaults\": {\"arrowcolor\": \"#2a3f5f\", \"arrowhead\": 0, \"arrowwidth\": 1}, \"coloraxis\": {\"colorbar\": {\"outlinewidth\": 0, \"ticks\": \"\"}}, \"colorscale\": {\"diverging\": [[0, \"#8e0152\"], [0.1, \"#c51b7d\"], [0.2, \"#de77ae\"], [0.3, \"#f1b6da\"], [0.4, \"#fde0ef\"], [0.5, \"#f7f7f7\"], [0.6, \"#e6f5d0\"], [0.7, \"#b8e186\"], [0.8, \"#7fbc41\"], [0.9, \"#4d9221\"], [1, \"#276419\"]], \"sequential\": [[0.0, \"#0d0887\"], [0.1111111111111111, \"#46039f\"], [0.2222222222222222, \"#7201a8\"], [0.3333333333333333, \"#9c179e\"], [0.4444444444444444, \"#bd3786\"], [0.5555555555555556, \"#d8576b\"], [0.6666666666666666, \"#ed7953\"], [0.7777777777777778, \"#fb9f3a\"], [0.8888888888888888, \"#fdca26\"], [1.0, \"#f0f921\"]], \"sequentialminus\": [[0.0, \"#0d0887\"], [0.1111111111111111, \"#46039f\"], [0.2222222222222222, \"#7201a8\"], [0.3333333333333333, \"#9c179e\"], [0.4444444444444444, \"#bd3786\"], [0.5555555555555556, \"#d8576b\"], [0.6666666666666666, \"#ed7953\"], [0.7777777777777778, \"#fb9f3a\"], [0.8888888888888888, \"#fdca26\"], [1.0, \"#f0f921\"]]}, \"colorway\": [\"#636efa\", \"#EF553B\", \"#00cc96\", \"#ab63fa\", \"#FFA15A\", \"#19d3f3\", \"#FF6692\", \"#B6E880\", \"#FF97FF\", \"#FECB52\"], \"font\": {\"color\": \"#2a3f5f\"}, \"geo\": {\"bgcolor\": \"white\", \"lakecolor\": \"white\", \"landcolor\": \"#E5ECF6\", \"showlakes\": true, \"showland\": true, \"subunitcolor\": \"white\"}, \"hoverlabel\": {\"align\": \"left\"}, \"hovermode\": \"closest\", \"mapbox\": {\"style\": \"light\"}, \"paper_bgcolor\": \"white\", \"plot_bgcolor\": \"#E5ECF6\", \"polar\": {\"angularaxis\": {\"gridcolor\": \"white\", \"linecolor\": \"white\", \"ticks\": \"\"}, \"bgcolor\": \"#E5ECF6\", \"radialaxis\": {\"gridcolor\": \"white\", \"linecolor\": \"white\", \"ticks\": \"\"}}, \"scene\": {\"xaxis\": {\"backgroundcolor\": \"#E5ECF6\", \"gridcolor\": \"white\", \"gridwidth\": 2, \"linecolor\": \"white\", \"showbackground\": true, \"ticks\": \"\", \"zerolinecolor\": \"white\"}, \"yaxis\": {\"backgroundcolor\": \"#E5ECF6\", \"gridcolor\": \"white\", \"gridwidth\": 2, \"linecolor\": \"white\", \"showbackground\": true, \"ticks\": \"\", \"zerolinecolor\": \"white\"}, \"zaxis\": {\"backgroundcolor\": \"#E5ECF6\", \"gridcolor\": \"white\", \"gridwidth\": 2, \"linecolor\": \"white\", \"showbackground\": true, \"ticks\": \"\", \"zerolinecolor\": \"white\"}}, \"shapedefaults\": {\"line\": {\"color\": \"#2a3f5f\"}}, \"ternary\": {\"aaxis\": {\"gridcolor\": \"white\", \"linecolor\": \"white\", \"ticks\": \"\"}, \"baxis\": {\"gridcolor\": \"white\", \"linecolor\": \"white\", \"ticks\": \"\"}, \"bgcolor\": \"#E5ECF6\", \"caxis\": {\"gridcolor\": \"white\", \"linecolor\": \"white\", \"ticks\": \"\"}}, \"title\": {\"x\": 0.05}, \"xaxis\": {\"automargin\": true, \"gridcolor\": \"white\", \"linecolor\": \"white\", \"ticks\": \"\", \"title\": {\"standoff\": 15}, \"zerolinecolor\": \"white\", \"zerolinewidth\": 2}, \"yaxis\": {\"automargin\": true, \"gridcolor\": \"white\", \"linecolor\": \"white\", \"ticks\": \"\", \"title\": {\"standoff\": 15}, \"zerolinecolor\": \"white\", \"zerolinewidth\": 2}}}, \"title\": {\"text\": \"Pay rate for races\"}, \"width\": 900, \"xaxis\": {\"anchor\": \"y\", \"domain\": [0.0, 1.0], \"matches\": \"x6\", \"showticklabels\": false, \"title\": {\"text\": \"PayRate\"}}, \"xaxis2\": {\"anchor\": \"y2\", \"domain\": [0.0, 1.0], \"matches\": \"x6\", \"showticklabels\": false, \"title\": {\"text\": \"PayRate\"}}, \"xaxis3\": {\"anchor\": \"y3\", \"domain\": [0.0, 1.0], \"matches\": \"x6\", \"showticklabels\": false, \"title\": {\"text\": \"PayRate\"}}, \"xaxis4\": {\"anchor\": \"y4\", \"domain\": [0.0, 1.0], \"matches\": \"x6\", \"showticklabels\": false, \"title\": {\"text\": \"PayRate\"}}, \"xaxis5\": {\"anchor\": \"y5\", \"domain\": [0.0, 1.0], \"matches\": \"x6\", \"showticklabels\": false, \"title\": {\"text\": \"PayRate\"}}, \"xaxis6\": {\"anchor\": \"y6\", \"domain\": [0.0, 1.0], \"title\": {\"text\": \"PayRate\"}}, \"yaxis\": {\"anchor\": \"x\", \"domain\": [0.9166666666666666, 1.0], \"title\": {\"text\": \"occurences\"}}, \"yaxis2\": {\"anchor\": \"x2\", \"domain\": [0.7333333333333334, 0.8166666666666668], \"title\": {\"text\": \"occurences\"}}, \"yaxis3\": {\"anchor\": \"x3\", \"domain\": [0.55, 0.6333333333333334], \"title\": {\"text\": \"occurences\"}}, \"yaxis4\": {\"anchor\": \"x4\", \"domain\": [0.3666666666666667, 0.45], \"title\": {\"text\": \"occurences\"}}, \"yaxis5\": {\"anchor\": \"x5\", \"domain\": [0.18333333333333335, 0.26666666666666666], \"title\": {\"text\": \"occurences\"}}, \"yaxis6\": {\"anchor\": \"x6\", \"domain\": [0.0, 0.08333333333333333], \"title\": {\"text\": \"occurences\"}}},\n",
       "                        {\"responsive\": true}\n",
       "                    ).then(function(){\n",
       "                            \n",
       "var gd = document.getElementById('65ce24c5-7d7a-4a6b-bdc7-fe043c05c65c');\n",
       "var x = new MutationObserver(function (mutations, observer) {{\n",
       "        var display = window.getComputedStyle(gd).display;\n",
       "        if (!display || display === 'none') {{\n",
       "            console.log([gd, 'removed!']);\n",
       "            Plotly.purge(gd);\n",
       "            observer.disconnect();\n",
       "        }}\n",
       "}});\n",
       "\n",
       "// Listen for the removal of the full notebook cells\n",
       "var notebookContainer = gd.closest('#notebook-container');\n",
       "if (notebookContainer) {{\n",
       "    x.observe(notebookContainer, {childList: true});\n",
       "}}\n",
       "\n",
       "// Listen for the clearing of the current output cell\n",
       "var outputEl = gd.closest('.output');\n",
       "if (outputEl) {{\n",
       "    x.observe(outputEl, {childList: true});\n",
       "}}\n",
       "\n",
       "                        })\n",
       "                };\n",
       "                });\n",
       "            </script>\n",
       "        </div>"
      ]
     },
     "metadata": {},
     "output_type": "display_data"
    }
   ],
   "source": [
    "fig = hist(hr, \"RaceDesc\", \"PayRate\", \"Pay rate for races\",\n",
    "           color)\n",
    "fig.update_layout(height=900, width=900)\n",
    "fig.show()"
   ]
  },
  {
   "cell_type": "code",
   "execution_count": 40,
   "metadata": {
    "collapsed": true
   },
   "outputs": [
    {
     "data": {
      "application/vnd.plotly.v1+json": {
       "config": {
        "plotlyServerURL": "https://plot.ly"
       },
       "data": [
        {
         "alignmentgroup": "True",
         "customdata": [
          [
           "Admin Offices"
          ],
          [
           "Admin Offices"
          ],
          [
           "Sales"
          ],
          [
           "Sales"
          ],
          [
           "Sales"
          ],
          [
           "Sales"
          ],
          [
           "Sales"
          ],
          [
           "Sales"
          ],
          [
           "Sales"
          ],
          [
           "Sales"
          ],
          [
           "IT/IS"
          ],
          [
           "IT/IS"
          ],
          [
           "IT/IS"
          ],
          [
           "IT/IS"
          ],
          [
           "IT/IS"
          ],
          [
           "IT/IS"
          ],
          [
           "Production"
          ],
          [
           "IT/IS"
          ],
          [
           "IT/IS"
          ],
          [
           "Production"
          ],
          [
           "Production"
          ],
          [
           "Production"
          ],
          [
           "Production"
          ],
          [
           "Production"
          ],
          [
           "Production"
          ],
          [
           "Production"
          ],
          [
           "Production"
          ],
          [
           "Production"
          ],
          [
           "Production"
          ],
          [
           "Production"
          ],
          [
           "Production"
          ],
          [
           "Production"
          ],
          [
           "Production"
          ],
          [
           "Production"
          ],
          [
           "Production"
          ],
          [
           "Production"
          ],
          [
           "Production"
          ],
          [
           "Production"
          ],
          [
           "Production"
          ],
          [
           "Production"
          ],
          [
           "Production"
          ],
          [
           "Production"
          ],
          [
           "Production"
          ],
          [
           "Production"
          ],
          [
           "Production"
          ],
          [
           "Production"
          ],
          [
           "Production"
          ],
          [
           "Production"
          ],
          [
           "Production"
          ],
          [
           "Production"
          ],
          [
           "Sales"
          ],
          [
           "Admin Offices"
          ],
          [
           "Software Engineering"
          ],
          [
           "Software Engineering"
          ],
          [
           "Software Engineering"
          ],
          [
           "IT/IS"
          ],
          [
           "IT/IS"
          ]
         ],
         "hovertemplate": "RaceDesc=Black or African American<br>PayRate=%{y}<br>Department=%{customdata[0]}<extra></extra>",
         "legendgroup": "Black or African American",
         "marker": {
          "color": "#636efa"
         },
         "name": "Black or African American",
         "notched": false,
         "offsetgroup": "Black or African American",
         "orientation": "v",
         "showlegend": true,
         "type": "box",
         "x0": " ",
         "xaxis": "x",
         "y": [
          28.5,
          23,
          55,
          55,
          55,
          54,
          55,
          56,
          55,
          55,
          45,
          45,
          55,
          40.1,
          35.5,
          45,
          60,
          65,
          27.49,
          55,
          33.5,
          24,
          22,
          24,
          17,
          20,
          21,
          20,
          24,
          14,
          20,
          22,
          14,
          20,
          15,
          24,
          19,
          22,
          15,
          18,
          24,
          25,
          29,
          27,
          26.1,
          29,
          22,
          25,
          29,
          24,
          56,
          55,
          57.12,
          48.5,
          45.42,
          61.3,
          58.2
         ],
         "y0": " ",
         "yaxis": "y"
        },
        {
         "alignmentgroup": "True",
         "customdata": [
          [
           "Admin Offices"
          ],
          [
           "Admin Offices"
          ],
          [
           "Admin Offices"
          ],
          [
           "Sales"
          ],
          [
           "Sales"
          ],
          [
           "Sales"
          ],
          [
           "Sales"
          ],
          [
           "Sales"
          ],
          [
           "Sales"
          ],
          [
           "Sales"
          ],
          [
           "Sales"
          ],
          [
           "Sales"
          ],
          [
           "Sales"
          ],
          [
           "Sales"
          ],
          [
           "IT/IS"
          ],
          [
           "IT/IS"
          ],
          [
           "IT/IS"
          ],
          [
           "IT/IS"
          ],
          [
           "IT/IS"
          ],
          [
           "IT/IS"
          ],
          [
           "IT/IS"
          ],
          [
           "IT/IS"
          ],
          [
           "IT/IS"
          ],
          [
           "IT/IS"
          ],
          [
           "IT/IS"
          ],
          [
           "IT/IS"
          ],
          [
           "Sales"
          ],
          [
           "IT/IS"
          ],
          [
           "IT/IS"
          ],
          [
           "IT/IS"
          ],
          [
           "IT/IS"
          ],
          [
           "IT/IS"
          ],
          [
           "IT/IS"
          ],
          [
           "IT/IS"
          ],
          [
           "IT/IS"
          ],
          [
           "IT/IS"
          ],
          [
           "IT/IS"
          ],
          [
           "IT/IS"
          ],
          [
           "IT/IS"
          ],
          [
           "IT/IS"
          ],
          [
           "Executive Office"
          ],
          [
           "Production"
          ],
          [
           "Production"
          ],
          [
           "Production"
          ],
          [
           "Production"
          ],
          [
           "Production"
          ],
          [
           "Production"
          ],
          [
           "Production"
          ],
          [
           "Production"
          ],
          [
           "Production"
          ],
          [
           "Production"
          ],
          [
           "Production"
          ],
          [
           "Production"
          ],
          [
           "Production"
          ],
          [
           "Production"
          ],
          [
           "Production"
          ],
          [
           "Production"
          ],
          [
           "Production"
          ],
          [
           "Production"
          ],
          [
           "Production"
          ],
          [
           "Production"
          ],
          [
           "Production"
          ],
          [
           "Production"
          ],
          [
           "Production"
          ],
          [
           "Production"
          ],
          [
           "Production"
          ],
          [
           "Production"
          ],
          [
           "Production"
          ],
          [
           "Production"
          ],
          [
           "Production"
          ],
          [
           "Production"
          ],
          [
           "Production"
          ],
          [
           "Production"
          ],
          [
           "Production"
          ],
          [
           "Production"
          ],
          [
           "Production"
          ],
          [
           "Production"
          ],
          [
           "Production"
          ],
          [
           "Production"
          ],
          [
           "Production"
          ],
          [
           "Production"
          ],
          [
           "Production"
          ],
          [
           "Production"
          ],
          [
           "Production"
          ],
          [
           "Production"
          ],
          [
           "Production"
          ],
          [
           "Production"
          ],
          [
           "Production"
          ],
          [
           "Production"
          ],
          [
           "Production"
          ],
          [
           "Production"
          ],
          [
           "Production"
          ],
          [
           "Production"
          ],
          [
           "Production"
          ],
          [
           "Production"
          ],
          [
           "Production"
          ],
          [
           "Production"
          ],
          [
           "Production"
          ],
          [
           "Production"
          ],
          [
           "Production"
          ],
          [
           "Production"
          ],
          [
           "Production"
          ],
          [
           "Production"
          ],
          [
           "Production"
          ],
          [
           "Production"
          ],
          [
           "Production"
          ],
          [
           "Production"
          ],
          [
           "Production"
          ],
          [
           "Production"
          ],
          [
           "Production"
          ],
          [
           "Production"
          ],
          [
           "Production"
          ],
          [
           "Production"
          ],
          [
           "Production"
          ],
          [
           "Production"
          ],
          [
           "Production"
          ],
          [
           "Production"
          ],
          [
           "Production"
          ],
          [
           "Production"
          ],
          [
           "Production"
          ],
          [
           "Production"
          ],
          [
           "Production"
          ],
          [
           "Production"
          ],
          [
           "Production"
          ],
          [
           "Production"
          ],
          [
           "Production"
          ],
          [
           "Production"
          ],
          [
           "Production"
          ],
          [
           "Production"
          ],
          [
           "Production"
          ],
          [
           "Production"
          ],
          [
           "Production"
          ],
          [
           "Production"
          ],
          [
           "Production"
          ],
          [
           "Production"
          ],
          [
           "Production"
          ],
          [
           "Production"
          ],
          [
           "Production"
          ],
          [
           "Production"
          ],
          [
           "Production"
          ],
          [
           "Production"
          ],
          [
           "Production"
          ],
          [
           "Production"
          ],
          [
           "Production"
          ],
          [
           "Production"
          ],
          [
           "Production"
          ],
          [
           "Production"
          ],
          [
           "Production"
          ],
          [
           "Production"
          ],
          [
           "Production"
          ],
          [
           "Production"
          ],
          [
           "Production"
          ],
          [
           "Production"
          ],
          [
           "Production"
          ],
          [
           "Production"
          ],
          [
           "Production"
          ],
          [
           "Production"
          ],
          [
           "Production"
          ],
          [
           "Production"
          ],
          [
           "Production"
          ],
          [
           "Production"
          ],
          [
           "Production"
          ],
          [
           "Production"
          ],
          [
           "Production"
          ],
          [
           "Production"
          ],
          [
           "Production"
          ],
          [
           "Production"
          ],
          [
           "Production"
          ],
          [
           "Production"
          ],
          [
           "Production"
          ],
          [
           "Production"
          ],
          [
           "Production"
          ],
          [
           "Production"
          ],
          [
           "Production"
          ],
          [
           "Production"
          ],
          [
           "Production"
          ],
          [
           "Production"
          ],
          [
           "Production"
          ],
          [
           "Production"
          ],
          [
           "Sales"
          ],
          [
           "Sales"
          ],
          [
           "Admin Offices"
          ],
          [
           "Software Engineering"
          ],
          [
           "Software Engineering"
          ],
          [
           "Software Engineering"
          ],
          [
           "Software Engineering"
          ],
          [
           "Software Engineering"
          ],
          [
           "Admin Offices"
          ],
          [
           "IT/IS"
          ],
          [
           "IT/IS"
          ],
          [
           "IT/IS"
          ],
          [
           "IT/IS"
          ],
          [
           "IT/IS"
          ]
         ],
         "hovertemplate": "RaceDesc=White<br>PayRate=%{y}<br>Department=%{customdata[0]}<extra></extra>",
         "legendgroup": "White",
         "marker": {
          "color": "#EF553B"
         },
         "name": "White",
         "notched": false,
         "offsetgroup": "White",
         "orientation": "v",
         "showlegend": true,
         "type": "box",
         "x0": " ",
         "xaxis": "x",
         "y": [
          29,
          21.5,
          16.56,
          55,
          55,
          55.5,
          55,
          55,
          55,
          55,
          56,
          55,
          57,
          55,
          46,
          45,
          63.5,
          65,
          43,
          48.5,
          34,
          41,
          39.55,
          42.2,
          30.2,
          31.4,
          60,
          62,
          64,
          28.99,
          31.4,
          45,
          42,
          37,
          39,
          43,
          27,
          47,
          28,
          49.1,
          80,
          54.5,
          55,
          51,
          54,
          48.5,
          55,
          38.5,
          52,
          53,
          23,
          16,
          21,
          20,
          18,
          20,
          24,
          15,
          22,
          22,
          15,
          20,
          21,
          16,
          24.75,
          24,
          16,
          23,
          18,
          17,
          16,
          20,
          15,
          16.75,
          19,
          15,
          20,
          17,
          20,
          19,
          17,
          21,
          22,
          21,
          22,
          19.5,
          15,
          18,
          22,
          21,
          15,
          18,
          20,
          15,
          15.75,
          21.25,
          21,
          14,
          19,
          15,
          16,
          16,
          21,
          22,
          21,
          23,
          17,
          19,
          17,
          21,
          17,
          16,
          24.5,
          20,
          17,
          21,
          16,
          18,
          19,
          20,
          18,
          16,
          19.75,
          17,
          24,
          17,
          19,
          15.25,
          20,
          21,
          21,
          19,
          20,
          16,
          22,
          23.5,
          20,
          19.75,
          22,
          23,
          29,
          23,
          22,
          25,
          25,
          25,
          29,
          26,
          24.25,
          27,
          26,
          22,
          26,
          25,
          26.39,
          22,
          28.75,
          27,
          24,
          24,
          22,
          29,
          26,
          24,
          26,
          29,
          29,
          28,
          22,
          24.25,
          27,
          24,
          28,
          24,
          23,
          22,
          28,
          23,
          23,
          54,
          60.25,
          55,
          47.6,
          56,
          49.25,
          48,
          27,
          34.95,
          62,
          58.5,
          54.1,
          56.2,
          53
         ],
         "y0": " ",
         "yaxis": "y"
        },
        {
         "alignmentgroup": "True",
         "customdata": [
          [
           "Admin Offices"
          ],
          [
           "Sales"
          ],
          [
           "IT/IS"
          ],
          [
           "IT/IS"
          ],
          [
           "Production"
          ],
          [
           "Production"
          ],
          [
           "Production"
          ],
          [
           "Production"
          ],
          [
           "Production"
          ],
          [
           "Production"
          ],
          [
           "Production"
          ],
          [
           "Production"
          ],
          [
           "Production"
          ],
          [
           "Production"
          ],
          [
           "Production"
          ],
          [
           "Production"
          ],
          [
           "Production"
          ],
          [
           "Production"
          ],
          [
           "Production"
          ],
          [
           "Production"
          ],
          [
           "Production"
          ],
          [
           "Production"
          ],
          [
           "Production"
          ],
          [
           "Production"
          ],
          [
           "Production"
          ],
          [
           "Production"
          ],
          [
           "IT/IS"
          ],
          [
           "IT/IS"
          ],
          [
           "IT/IS"
          ],
          [
           "Software Engineering"
          ],
          [
           "Software Engineering"
          ],
          [
           "Admin Offices"
          ],
          [
           "IT/IS"
          ],
          [
           "IT/IS"
          ]
         ],
         "hovertemplate": "RaceDesc=Asian<br>PayRate=%{y}<br>Department=%{customdata[0]}<extra></extra>",
         "legendgroup": "Asian",
         "marker": {
          "color": "#00cc96"
         },
         "name": "Asian",
         "notched": false,
         "offsetgroup": "Asian",
         "orientation": "v",
         "showlegend": true,
         "type": "box",
         "x0": " ",
         "xaxis": "x",
         "y": [
          20.5,
          56,
          40,
          42.75,
          50.5,
          42,
          21,
          15,
          22,
          15,
          21,
          14,
          22,
          22,
          22,
          18,
          24,
          19,
          19,
          17,
          22,
          15.2,
          28,
          26,
          22,
          25,
          50.25,
          52.25,
          51,
          55.51,
          52.25,
          34.95,
          53.8,
          55.2
         ],
         "y0": " ",
         "yaxis": "y"
        },
        {
         "alignmentgroup": "True",
         "customdata": [
          [
           "Sales"
          ],
          [
           "Production"
          ],
          [
           "Production"
          ],
          [
           "Production"
          ]
         ],
         "hovertemplate": "RaceDesc=American Indian or Alaska Native<br>PayRate=%{y}<br>Department=%{customdata[0]}<extra></extra>",
         "legendgroup": "American Indian or Alaska Native",
         "marker": {
          "color": "#ab63fa"
         },
         "name": "American Indian or Alaska Native",
         "notched": false,
         "offsetgroup": "American Indian or Alaska Native",
         "orientation": "v",
         "showlegend": true,
         "type": "box",
         "x0": " ",
         "xaxis": "x",
         "y": [
          56,
          16,
          22.5,
          27
         ],
         "y0": " ",
         "yaxis": "y"
        },
        {
         "alignmentgroup": "True",
         "customdata": [
          [
           "Sales"
          ],
          [
           "Sales"
          ],
          [
           "Sales"
          ],
          [
           "Sales"
          ],
          [
           "Sales"
          ],
          [
           "Sales"
          ],
          [
           "IT/IS"
          ],
          [
           "IT/IS"
          ],
          [
           "Production"
          ],
          [
           "Production"
          ],
          [
           "Production"
          ],
          [
           "Production"
          ],
          [
           "Production"
          ],
          [
           "Production"
          ],
          [
           "Production"
          ],
          [
           "Production"
          ],
          [
           "Production"
          ],
          [
           "Production"
          ]
         ],
         "hovertemplate": "RaceDesc=Two or more races<br>PayRate=%{y}<br>Department=%{customdata[0]}<extra></extra>",
         "legendgroup": "Two or more races",
         "marker": {
          "color": "#FFA15A"
         },
         "name": "Two or more races",
         "notched": false,
         "offsetgroup": "Two or more races",
         "orientation": "v",
         "showlegend": true,
         "type": "box",
         "x0": " ",
         "xaxis": "x",
         "y": [
          55.5,
          55,
          55,
          55,
          55,
          55,
          21,
          26,
          16,
          22,
          16.76,
          16,
          18.5,
          14,
          19,
          15,
          23,
          25
         ],
         "y0": " ",
         "yaxis": "y"
        },
        {
         "alignmentgroup": "True",
         "customdata": [
          [
           "IT/IS"
          ],
          [
           "Production"
          ],
          [
           "Production"
          ],
          [
           "Production"
          ]
         ],
         "hovertemplate": "RaceDesc=Hispanic<br>PayRate=%{y}<br>Department=%{customdata[0]}<extra></extra>",
         "legendgroup": "Hispanic",
         "marker": {
          "color": "#19d3f3"
         },
         "name": "Hispanic",
         "notched": false,
         "offsetgroup": "Hispanic",
         "orientation": "v",
         "showlegend": true,
         "type": "box",
         "x0": " ",
         "xaxis": "x",
         "y": [
          63,
          53,
          17,
          26
         ],
         "y0": " ",
         "yaxis": "y"
        }
       ],
       "layout": {
        "boxmode": "group",
        "legend": {
         "title": {
          "text": "RaceDesc"
         },
         "tracegroupgap": 0
        },
        "margin": {
         "t": 60
        },
        "template": {
         "data": {
          "bar": [
           {
            "error_x": {
             "color": "#2a3f5f"
            },
            "error_y": {
             "color": "#2a3f5f"
            },
            "marker": {
             "line": {
              "color": "#E5ECF6",
              "width": 0.5
             }
            },
            "type": "bar"
           }
          ],
          "barpolar": [
           {
            "marker": {
             "line": {
              "color": "#E5ECF6",
              "width": 0.5
             }
            },
            "type": "barpolar"
           }
          ],
          "carpet": [
           {
            "aaxis": {
             "endlinecolor": "#2a3f5f",
             "gridcolor": "white",
             "linecolor": "white",
             "minorgridcolor": "white",
             "startlinecolor": "#2a3f5f"
            },
            "baxis": {
             "endlinecolor": "#2a3f5f",
             "gridcolor": "white",
             "linecolor": "white",
             "minorgridcolor": "white",
             "startlinecolor": "#2a3f5f"
            },
            "type": "carpet"
           }
          ],
          "choropleth": [
           {
            "colorbar": {
             "outlinewidth": 0,
             "ticks": ""
            },
            "type": "choropleth"
           }
          ],
          "contour": [
           {
            "colorbar": {
             "outlinewidth": 0,
             "ticks": ""
            },
            "colorscale": [
             [
              0,
              "#0d0887"
             ],
             [
              0.1111111111111111,
              "#46039f"
             ],
             [
              0.2222222222222222,
              "#7201a8"
             ],
             [
              0.3333333333333333,
              "#9c179e"
             ],
             [
              0.4444444444444444,
              "#bd3786"
             ],
             [
              0.5555555555555556,
              "#d8576b"
             ],
             [
              0.6666666666666666,
              "#ed7953"
             ],
             [
              0.7777777777777778,
              "#fb9f3a"
             ],
             [
              0.8888888888888888,
              "#fdca26"
             ],
             [
              1,
              "#f0f921"
             ]
            ],
            "type": "contour"
           }
          ],
          "contourcarpet": [
           {
            "colorbar": {
             "outlinewidth": 0,
             "ticks": ""
            },
            "type": "contourcarpet"
           }
          ],
          "heatmap": [
           {
            "colorbar": {
             "outlinewidth": 0,
             "ticks": ""
            },
            "colorscale": [
             [
              0,
              "#0d0887"
             ],
             [
              0.1111111111111111,
              "#46039f"
             ],
             [
              0.2222222222222222,
              "#7201a8"
             ],
             [
              0.3333333333333333,
              "#9c179e"
             ],
             [
              0.4444444444444444,
              "#bd3786"
             ],
             [
              0.5555555555555556,
              "#d8576b"
             ],
             [
              0.6666666666666666,
              "#ed7953"
             ],
             [
              0.7777777777777778,
              "#fb9f3a"
             ],
             [
              0.8888888888888888,
              "#fdca26"
             ],
             [
              1,
              "#f0f921"
             ]
            ],
            "type": "heatmap"
           }
          ],
          "heatmapgl": [
           {
            "colorbar": {
             "outlinewidth": 0,
             "ticks": ""
            },
            "colorscale": [
             [
              0,
              "#0d0887"
             ],
             [
              0.1111111111111111,
              "#46039f"
             ],
             [
              0.2222222222222222,
              "#7201a8"
             ],
             [
              0.3333333333333333,
              "#9c179e"
             ],
             [
              0.4444444444444444,
              "#bd3786"
             ],
             [
              0.5555555555555556,
              "#d8576b"
             ],
             [
              0.6666666666666666,
              "#ed7953"
             ],
             [
              0.7777777777777778,
              "#fb9f3a"
             ],
             [
              0.8888888888888888,
              "#fdca26"
             ],
             [
              1,
              "#f0f921"
             ]
            ],
            "type": "heatmapgl"
           }
          ],
          "histogram": [
           {
            "marker": {
             "colorbar": {
              "outlinewidth": 0,
              "ticks": ""
             }
            },
            "type": "histogram"
           }
          ],
          "histogram2d": [
           {
            "colorbar": {
             "outlinewidth": 0,
             "ticks": ""
            },
            "colorscale": [
             [
              0,
              "#0d0887"
             ],
             [
              0.1111111111111111,
              "#46039f"
             ],
             [
              0.2222222222222222,
              "#7201a8"
             ],
             [
              0.3333333333333333,
              "#9c179e"
             ],
             [
              0.4444444444444444,
              "#bd3786"
             ],
             [
              0.5555555555555556,
              "#d8576b"
             ],
             [
              0.6666666666666666,
              "#ed7953"
             ],
             [
              0.7777777777777778,
              "#fb9f3a"
             ],
             [
              0.8888888888888888,
              "#fdca26"
             ],
             [
              1,
              "#f0f921"
             ]
            ],
            "type": "histogram2d"
           }
          ],
          "histogram2dcontour": [
           {
            "colorbar": {
             "outlinewidth": 0,
             "ticks": ""
            },
            "colorscale": [
             [
              0,
              "#0d0887"
             ],
             [
              0.1111111111111111,
              "#46039f"
             ],
             [
              0.2222222222222222,
              "#7201a8"
             ],
             [
              0.3333333333333333,
              "#9c179e"
             ],
             [
              0.4444444444444444,
              "#bd3786"
             ],
             [
              0.5555555555555556,
              "#d8576b"
             ],
             [
              0.6666666666666666,
              "#ed7953"
             ],
             [
              0.7777777777777778,
              "#fb9f3a"
             ],
             [
              0.8888888888888888,
              "#fdca26"
             ],
             [
              1,
              "#f0f921"
             ]
            ],
            "type": "histogram2dcontour"
           }
          ],
          "mesh3d": [
           {
            "colorbar": {
             "outlinewidth": 0,
             "ticks": ""
            },
            "type": "mesh3d"
           }
          ],
          "parcoords": [
           {
            "line": {
             "colorbar": {
              "outlinewidth": 0,
              "ticks": ""
             }
            },
            "type": "parcoords"
           }
          ],
          "pie": [
           {
            "automargin": true,
            "type": "pie"
           }
          ],
          "scatter": [
           {
            "marker": {
             "colorbar": {
              "outlinewidth": 0,
              "ticks": ""
             }
            },
            "type": "scatter"
           }
          ],
          "scatter3d": [
           {
            "line": {
             "colorbar": {
              "outlinewidth": 0,
              "ticks": ""
             }
            },
            "marker": {
             "colorbar": {
              "outlinewidth": 0,
              "ticks": ""
             }
            },
            "type": "scatter3d"
           }
          ],
          "scattercarpet": [
           {
            "marker": {
             "colorbar": {
              "outlinewidth": 0,
              "ticks": ""
             }
            },
            "type": "scattercarpet"
           }
          ],
          "scattergeo": [
           {
            "marker": {
             "colorbar": {
              "outlinewidth": 0,
              "ticks": ""
             }
            },
            "type": "scattergeo"
           }
          ],
          "scattergl": [
           {
            "marker": {
             "colorbar": {
              "outlinewidth": 0,
              "ticks": ""
             }
            },
            "type": "scattergl"
           }
          ],
          "scattermapbox": [
           {
            "marker": {
             "colorbar": {
              "outlinewidth": 0,
              "ticks": ""
             }
            },
            "type": "scattermapbox"
           }
          ],
          "scatterpolar": [
           {
            "marker": {
             "colorbar": {
              "outlinewidth": 0,
              "ticks": ""
             }
            },
            "type": "scatterpolar"
           }
          ],
          "scatterpolargl": [
           {
            "marker": {
             "colorbar": {
              "outlinewidth": 0,
              "ticks": ""
             }
            },
            "type": "scatterpolargl"
           }
          ],
          "scatterternary": [
           {
            "marker": {
             "colorbar": {
              "outlinewidth": 0,
              "ticks": ""
             }
            },
            "type": "scatterternary"
           }
          ],
          "surface": [
           {
            "colorbar": {
             "outlinewidth": 0,
             "ticks": ""
            },
            "colorscale": [
             [
              0,
              "#0d0887"
             ],
             [
              0.1111111111111111,
              "#46039f"
             ],
             [
              0.2222222222222222,
              "#7201a8"
             ],
             [
              0.3333333333333333,
              "#9c179e"
             ],
             [
              0.4444444444444444,
              "#bd3786"
             ],
             [
              0.5555555555555556,
              "#d8576b"
             ],
             [
              0.6666666666666666,
              "#ed7953"
             ],
             [
              0.7777777777777778,
              "#fb9f3a"
             ],
             [
              0.8888888888888888,
              "#fdca26"
             ],
             [
              1,
              "#f0f921"
             ]
            ],
            "type": "surface"
           }
          ],
          "table": [
           {
            "cells": {
             "fill": {
              "color": "#EBF0F8"
             },
             "line": {
              "color": "white"
             }
            },
            "header": {
             "fill": {
              "color": "#C8D4E3"
             },
             "line": {
              "color": "white"
             }
            },
            "type": "table"
           }
          ]
         },
         "layout": {
          "annotationdefaults": {
           "arrowcolor": "#2a3f5f",
           "arrowhead": 0,
           "arrowwidth": 1
          },
          "coloraxis": {
           "colorbar": {
            "outlinewidth": 0,
            "ticks": ""
           }
          },
          "colorscale": {
           "diverging": [
            [
             0,
             "#8e0152"
            ],
            [
             0.1,
             "#c51b7d"
            ],
            [
             0.2,
             "#de77ae"
            ],
            [
             0.3,
             "#f1b6da"
            ],
            [
             0.4,
             "#fde0ef"
            ],
            [
             0.5,
             "#f7f7f7"
            ],
            [
             0.6,
             "#e6f5d0"
            ],
            [
             0.7,
             "#b8e186"
            ],
            [
             0.8,
             "#7fbc41"
            ],
            [
             0.9,
             "#4d9221"
            ],
            [
             1,
             "#276419"
            ]
           ],
           "sequential": [
            [
             0,
             "#0d0887"
            ],
            [
             0.1111111111111111,
             "#46039f"
            ],
            [
             0.2222222222222222,
             "#7201a8"
            ],
            [
             0.3333333333333333,
             "#9c179e"
            ],
            [
             0.4444444444444444,
             "#bd3786"
            ],
            [
             0.5555555555555556,
             "#d8576b"
            ],
            [
             0.6666666666666666,
             "#ed7953"
            ],
            [
             0.7777777777777778,
             "#fb9f3a"
            ],
            [
             0.8888888888888888,
             "#fdca26"
            ],
            [
             1,
             "#f0f921"
            ]
           ],
           "sequentialminus": [
            [
             0,
             "#0d0887"
            ],
            [
             0.1111111111111111,
             "#46039f"
            ],
            [
             0.2222222222222222,
             "#7201a8"
            ],
            [
             0.3333333333333333,
             "#9c179e"
            ],
            [
             0.4444444444444444,
             "#bd3786"
            ],
            [
             0.5555555555555556,
             "#d8576b"
            ],
            [
             0.6666666666666666,
             "#ed7953"
            ],
            [
             0.7777777777777778,
             "#fb9f3a"
            ],
            [
             0.8888888888888888,
             "#fdca26"
            ],
            [
             1,
             "#f0f921"
            ]
           ]
          },
          "colorway": [
           "#636efa",
           "#EF553B",
           "#00cc96",
           "#ab63fa",
           "#FFA15A",
           "#19d3f3",
           "#FF6692",
           "#B6E880",
           "#FF97FF",
           "#FECB52"
          ],
          "font": {
           "color": "#2a3f5f"
          },
          "geo": {
           "bgcolor": "white",
           "lakecolor": "white",
           "landcolor": "#E5ECF6",
           "showlakes": true,
           "showland": true,
           "subunitcolor": "white"
          },
          "hoverlabel": {
           "align": "left"
          },
          "hovermode": "closest",
          "mapbox": {
           "style": "light"
          },
          "paper_bgcolor": "white",
          "plot_bgcolor": "#E5ECF6",
          "polar": {
           "angularaxis": {
            "gridcolor": "white",
            "linecolor": "white",
            "ticks": ""
           },
           "bgcolor": "#E5ECF6",
           "radialaxis": {
            "gridcolor": "white",
            "linecolor": "white",
            "ticks": ""
           }
          },
          "scene": {
           "xaxis": {
            "backgroundcolor": "#E5ECF6",
            "gridcolor": "white",
            "gridwidth": 2,
            "linecolor": "white",
            "showbackground": true,
            "ticks": "",
            "zerolinecolor": "white"
           },
           "yaxis": {
            "backgroundcolor": "#E5ECF6",
            "gridcolor": "white",
            "gridwidth": 2,
            "linecolor": "white",
            "showbackground": true,
            "ticks": "",
            "zerolinecolor": "white"
           },
           "zaxis": {
            "backgroundcolor": "#E5ECF6",
            "gridcolor": "white",
            "gridwidth": 2,
            "linecolor": "white",
            "showbackground": true,
            "ticks": "",
            "zerolinecolor": "white"
           }
          },
          "shapedefaults": {
           "line": {
            "color": "#2a3f5f"
           }
          },
          "ternary": {
           "aaxis": {
            "gridcolor": "white",
            "linecolor": "white",
            "ticks": ""
           },
           "baxis": {
            "gridcolor": "white",
            "linecolor": "white",
            "ticks": ""
           },
           "bgcolor": "#E5ECF6",
           "caxis": {
            "gridcolor": "white",
            "linecolor": "white",
            "ticks": ""
           }
          },
          "title": {
           "x": 0.05
          },
          "xaxis": {
           "automargin": true,
           "gridcolor": "white",
           "linecolor": "white",
           "ticks": "",
           "title": {
            "standoff": 15
           },
           "zerolinecolor": "white",
           "zerolinewidth": 2
          },
          "yaxis": {
           "automargin": true,
           "gridcolor": "white",
           "linecolor": "white",
           "ticks": "",
           "title": {
            "standoff": 15
           },
           "zerolinecolor": "white",
           "zerolinewidth": 2
          }
         }
        },
        "xaxis": {
         "anchor": "y",
         "domain": [
          0,
          1
         ]
        },
        "yaxis": {
         "anchor": "x",
         "domain": [
          0,
          1
         ],
         "title": {
          "text": "PayRate"
         }
        }
       }
      },
      "text/html": [
       "<div>\n",
       "        \n",
       "        \n",
       "            <div id=\"258ad402-a56f-4126-9290-991cf3329383\" class=\"plotly-graph-div\" style=\"height:525px; width:100%;\"></div>\n",
       "            <script type=\"text/javascript\">\n",
       "                require([\"plotly\"], function(Plotly) {\n",
       "                    window.PLOTLYENV=window.PLOTLYENV || {};\n",
       "                    \n",
       "                if (document.getElementById(\"258ad402-a56f-4126-9290-991cf3329383\")) {\n",
       "                    Plotly.newPlot(\n",
       "                        '258ad402-a56f-4126-9290-991cf3329383',\n",
       "                        [{\"alignmentgroup\": \"True\", \"customdata\": [[\"Admin Offices\"], [\"Admin Offices\"], [\"Sales\"], [\"Sales\"], [\"Sales\"], [\"Sales\"], [\"Sales\"], [\"Sales\"], [\"Sales\"], [\"Sales\"], [\"IT/IS\"], [\"IT/IS\"], [\"IT/IS\"], [\"IT/IS\"], [\"IT/IS\"], [\"IT/IS\"], [\"Production\"], [\"IT/IS\"], [\"IT/IS\"], [\"Production\"], [\"Production\"], [\"Production\"], [\"Production\"], [\"Production\"], [\"Production\"], [\"Production\"], [\"Production\"], [\"Production\"], [\"Production\"], [\"Production\"], [\"Production\"], [\"Production\"], [\"Production\"], [\"Production\"], [\"Production\"], [\"Production\"], [\"Production\"], [\"Production\"], [\"Production\"], [\"Production\"], [\"Production\"], [\"Production\"], [\"Production\"], [\"Production\"], [\"Production\"], [\"Production\"], [\"Production\"], [\"Production\"], [\"Production\"], [\"Production\"], [\"Sales\"], [\"Admin Offices\"], [\"Software Engineering\"], [\"Software Engineering\"], [\"Software Engineering\"], [\"IT/IS\"], [\"IT/IS\"]], \"hovertemplate\": \"RaceDesc=Black or African American<br>PayRate=%{y}<br>Department=%{customdata[0]}<extra></extra>\", \"legendgroup\": \"Black or African American\", \"marker\": {\"color\": \"#636efa\"}, \"name\": \"Black or African American\", \"notched\": false, \"offsetgroup\": \"Black or African American\", \"orientation\": \"v\", \"showlegend\": true, \"type\": \"box\", \"x0\": \" \", \"xaxis\": \"x\", \"y\": [28.5, 23.0, 55.0, 55.0, 55.0, 54.0, 55.0, 56.0, 55.0, 55.0, 45.0, 45.0, 55.0, 40.1, 35.5, 45.0, 60.0, 65.0, 27.49, 55.0, 33.5, 24.0, 22.0, 24.0, 17.0, 20.0, 21.0, 20.0, 24.0, 14.0, 20.0, 22.0, 14.0, 20.0, 15.0, 24.0, 19.0, 22.0, 15.0, 18.0, 24.0, 25.0, 29.0, 27.0, 26.1, 29.0, 22.0, 25.0, 29.0, 24.0, 56.0, 55.0, 57.12, 48.5, 45.42, 61.3, 58.2], \"y0\": \" \", \"yaxis\": \"y\"}, {\"alignmentgroup\": \"True\", \"customdata\": [[\"Admin Offices\"], [\"Admin Offices\"], [\"Admin Offices\"], [\"Sales\"], [\"Sales\"], [\"Sales\"], [\"Sales\"], [\"Sales\"], [\"Sales\"], [\"Sales\"], [\"Sales\"], [\"Sales\"], [\"Sales\"], [\"Sales\"], [\"IT/IS\"], [\"IT/IS\"], [\"IT/IS\"], [\"IT/IS\"], [\"IT/IS\"], [\"IT/IS\"], [\"IT/IS\"], [\"IT/IS\"], [\"IT/IS\"], [\"IT/IS\"], [\"IT/IS\"], [\"IT/IS\"], [\"Sales\"], [\"IT/IS\"], [\"IT/IS\"], [\"IT/IS\"], [\"IT/IS\"], [\"IT/IS\"], [\"IT/IS\"], [\"IT/IS\"], [\"IT/IS\"], [\"IT/IS\"], [\"IT/IS\"], [\"IT/IS\"], [\"IT/IS\"], [\"IT/IS\"], [\"Executive Office\"], [\"Production\"], [\"Production\"], [\"Production\"], [\"Production\"], [\"Production\"], [\"Production\"], [\"Production\"], [\"Production\"], [\"Production\"], [\"Production\"], [\"Production\"], [\"Production\"], [\"Production\"], [\"Production\"], [\"Production\"], [\"Production\"], [\"Production\"], [\"Production\"], [\"Production\"], [\"Production\"], [\"Production\"], [\"Production\"], [\"Production\"], [\"Production\"], [\"Production\"], [\"Production\"], [\"Production\"], [\"Production\"], [\"Production\"], [\"Production\"], [\"Production\"], [\"Production\"], [\"Production\"], [\"Production\"], [\"Production\"], [\"Production\"], [\"Production\"], [\"Production\"], [\"Production\"], [\"Production\"], [\"Production\"], [\"Production\"], [\"Production\"], [\"Production\"], [\"Production\"], [\"Production\"], [\"Production\"], [\"Production\"], [\"Production\"], [\"Production\"], [\"Production\"], [\"Production\"], [\"Production\"], [\"Production\"], [\"Production\"], [\"Production\"], [\"Production\"], [\"Production\"], [\"Production\"], [\"Production\"], [\"Production\"], [\"Production\"], [\"Production\"], [\"Production\"], [\"Production\"], [\"Production\"], [\"Production\"], [\"Production\"], [\"Production\"], [\"Production\"], [\"Production\"], [\"Production\"], [\"Production\"], [\"Production\"], [\"Production\"], [\"Production\"], [\"Production\"], [\"Production\"], [\"Production\"], [\"Production\"], [\"Production\"], [\"Production\"], [\"Production\"], [\"Production\"], [\"Production\"], [\"Production\"], [\"Production\"], [\"Production\"], [\"Production\"], [\"Production\"], [\"Production\"], [\"Production\"], [\"Production\"], [\"Production\"], [\"Production\"], [\"Production\"], [\"Production\"], [\"Production\"], [\"Production\"], [\"Production\"], [\"Production\"], [\"Production\"], [\"Production\"], [\"Production\"], [\"Production\"], [\"Production\"], [\"Production\"], [\"Production\"], [\"Production\"], [\"Production\"], [\"Production\"], [\"Production\"], [\"Production\"], [\"Production\"], [\"Production\"], [\"Production\"], [\"Production\"], [\"Production\"], [\"Production\"], [\"Production\"], [\"Production\"], [\"Production\"], [\"Production\"], [\"Production\"], [\"Production\"], [\"Production\"], [\"Production\"], [\"Production\"], [\"Production\"], [\"Production\"], [\"Production\"], [\"Production\"], [\"Production\"], [\"Production\"], [\"Production\"], [\"Production\"], [\"Production\"], [\"Production\"], [\"Sales\"], [\"Sales\"], [\"Admin Offices\"], [\"Software Engineering\"], [\"Software Engineering\"], [\"Software Engineering\"], [\"Software Engineering\"], [\"Software Engineering\"], [\"Admin Offices\"], [\"IT/IS\"], [\"IT/IS\"], [\"IT/IS\"], [\"IT/IS\"], [\"IT/IS\"]], \"hovertemplate\": \"RaceDesc=White<br>PayRate=%{y}<br>Department=%{customdata[0]}<extra></extra>\", \"legendgroup\": \"White\", \"marker\": {\"color\": \"#EF553B\"}, \"name\": \"White\", \"notched\": false, \"offsetgroup\": \"White\", \"orientation\": \"v\", \"showlegend\": true, \"type\": \"box\", \"x0\": \" \", \"xaxis\": \"x\", \"y\": [29.0, 21.5, 16.56, 55.0, 55.0, 55.5, 55.0, 55.0, 55.0, 55.0, 56.0, 55.0, 57.0, 55.0, 46.0, 45.0, 63.5, 65.0, 43.0, 48.5, 34.0, 41.0, 39.55, 42.2, 30.2, 31.4, 60.0, 62.0, 64.0, 28.99, 31.4, 45.0, 42.0, 37.0, 39.0, 43.0, 27.0, 47.0, 28.0, 49.1, 80.0, 54.5, 55.0, 51.0, 54.0, 48.5, 55.0, 38.5, 52.0, 53.0, 23.0, 16.0, 21.0, 20.0, 18.0, 20.0, 24.0, 15.0, 22.0, 22.0, 15.0, 20.0, 21.0, 16.0, 24.75, 24.0, 16.0, 23.0, 18.0, 17.0, 16.0, 20.0, 15.0, 16.75, 19.0, 15.0, 20.0, 17.0, 20.0, 19.0, 17.0, 21.0, 22.0, 21.0, 22.0, 19.5, 15.0, 18.0, 22.0, 21.0, 15.0, 18.0, 20.0, 15.0, 15.75, 21.25, 21.0, 14.0, 19.0, 15.0, 16.0, 16.0, 21.0, 22.0, 21.0, 23.0, 17.0, 19.0, 17.0, 21.0, 17.0, 16.0, 24.5, 20.0, 17.0, 21.0, 16.0, 18.0, 19.0, 20.0, 18.0, 16.0, 19.75, 17.0, 24.0, 17.0, 19.0, 15.25, 20.0, 21.0, 21.0, 19.0, 20.0, 16.0, 22.0, 23.5, 20.0, 19.75, 22.0, 23.0, 29.0, 23.0, 22.0, 25.0, 25.0, 25.0, 29.0, 26.0, 24.25, 27.0, 26.0, 22.0, 26.0, 25.0, 26.39, 22.0, 28.75, 27.0, 24.0, 24.0, 22.0, 29.0, 26.0, 24.0, 26.0, 29.0, 29.0, 28.0, 22.0, 24.25, 27.0, 24.0, 28.0, 24.0, 23.0, 22.0, 28.0, 23.0, 23.0, 54.0, 60.25, 55.0, 47.6, 56.0, 49.25, 48.0, 27.0, 34.95, 62.0, 58.5, 54.1, 56.2, 53.0], \"y0\": \" \", \"yaxis\": \"y\"}, {\"alignmentgroup\": \"True\", \"customdata\": [[\"Admin Offices\"], [\"Sales\"], [\"IT/IS\"], [\"IT/IS\"], [\"Production\"], [\"Production\"], [\"Production\"], [\"Production\"], [\"Production\"], [\"Production\"], [\"Production\"], [\"Production\"], [\"Production\"], [\"Production\"], [\"Production\"], [\"Production\"], [\"Production\"], [\"Production\"], [\"Production\"], [\"Production\"], [\"Production\"], [\"Production\"], [\"Production\"], [\"Production\"], [\"Production\"], [\"Production\"], [\"IT/IS\"], [\"IT/IS\"], [\"IT/IS\"], [\"Software Engineering\"], [\"Software Engineering\"], [\"Admin Offices\"], [\"IT/IS\"], [\"IT/IS\"]], \"hovertemplate\": \"RaceDesc=Asian<br>PayRate=%{y}<br>Department=%{customdata[0]}<extra></extra>\", \"legendgroup\": \"Asian\", \"marker\": {\"color\": \"#00cc96\"}, \"name\": \"Asian\", \"notched\": false, \"offsetgroup\": \"Asian\", \"orientation\": \"v\", \"showlegend\": true, \"type\": \"box\", \"x0\": \" \", \"xaxis\": \"x\", \"y\": [20.5, 56.0, 40.0, 42.75, 50.5, 42.0, 21.0, 15.0, 22.0, 15.0, 21.0, 14.0, 22.0, 22.0, 22.0, 18.0, 24.0, 19.0, 19.0, 17.0, 22.0, 15.2, 28.0, 26.0, 22.0, 25.0, 50.25, 52.25, 51.0, 55.51, 52.25, 34.95, 53.8, 55.2], \"y0\": \" \", \"yaxis\": \"y\"}, {\"alignmentgroup\": \"True\", \"customdata\": [[\"Sales\"], [\"Production\"], [\"Production\"], [\"Production\"]], \"hovertemplate\": \"RaceDesc=American Indian or Alaska Native<br>PayRate=%{y}<br>Department=%{customdata[0]}<extra></extra>\", \"legendgroup\": \"American Indian or Alaska Native\", \"marker\": {\"color\": \"#ab63fa\"}, \"name\": \"American Indian or Alaska Native\", \"notched\": false, \"offsetgroup\": \"American Indian or Alaska Native\", \"orientation\": \"v\", \"showlegend\": true, \"type\": \"box\", \"x0\": \" \", \"xaxis\": \"x\", \"y\": [56.0, 16.0, 22.5, 27.0], \"y0\": \" \", \"yaxis\": \"y\"}, {\"alignmentgroup\": \"True\", \"customdata\": [[\"Sales\"], [\"Sales\"], [\"Sales\"], [\"Sales\"], [\"Sales\"], [\"Sales\"], [\"IT/IS\"], [\"IT/IS\"], [\"Production\"], [\"Production\"], [\"Production\"], [\"Production\"], [\"Production\"], [\"Production\"], [\"Production\"], [\"Production\"], [\"Production\"], [\"Production\"]], \"hovertemplate\": \"RaceDesc=Two or more races<br>PayRate=%{y}<br>Department=%{customdata[0]}<extra></extra>\", \"legendgroup\": \"Two or more races\", \"marker\": {\"color\": \"#FFA15A\"}, \"name\": \"Two or more races\", \"notched\": false, \"offsetgroup\": \"Two or more races\", \"orientation\": \"v\", \"showlegend\": true, \"type\": \"box\", \"x0\": \" \", \"xaxis\": \"x\", \"y\": [55.5, 55.0, 55.0, 55.0, 55.0, 55.0, 21.0, 26.0, 16.0, 22.0, 16.76, 16.0, 18.5, 14.0, 19.0, 15.0, 23.0, 25.0], \"y0\": \" \", \"yaxis\": \"y\"}, {\"alignmentgroup\": \"True\", \"customdata\": [[\"IT/IS\"], [\"Production\"], [\"Production\"], [\"Production\"]], \"hovertemplate\": \"RaceDesc=Hispanic<br>PayRate=%{y}<br>Department=%{customdata[0]}<extra></extra>\", \"legendgroup\": \"Hispanic\", \"marker\": {\"color\": \"#19d3f3\"}, \"name\": \"Hispanic\", \"notched\": false, \"offsetgroup\": \"Hispanic\", \"orientation\": \"v\", \"showlegend\": true, \"type\": \"box\", \"x0\": \" \", \"xaxis\": \"x\", \"y\": [63.0, 53.0, 17.0, 26.0], \"y0\": \" \", \"yaxis\": \"y\"}],\n",
       "                        {\"boxmode\": \"group\", \"legend\": {\"title\": {\"text\": \"RaceDesc\"}, \"tracegroupgap\": 0}, \"margin\": {\"t\": 60}, \"template\": {\"data\": {\"bar\": [{\"error_x\": {\"color\": \"#2a3f5f\"}, \"error_y\": {\"color\": \"#2a3f5f\"}, \"marker\": {\"line\": {\"color\": \"#E5ECF6\", \"width\": 0.5}}, \"type\": \"bar\"}], \"barpolar\": [{\"marker\": {\"line\": {\"color\": \"#E5ECF6\", \"width\": 0.5}}, \"type\": \"barpolar\"}], \"carpet\": [{\"aaxis\": {\"endlinecolor\": \"#2a3f5f\", \"gridcolor\": \"white\", \"linecolor\": \"white\", \"minorgridcolor\": \"white\", \"startlinecolor\": \"#2a3f5f\"}, \"baxis\": {\"endlinecolor\": \"#2a3f5f\", \"gridcolor\": \"white\", \"linecolor\": \"white\", \"minorgridcolor\": \"white\", \"startlinecolor\": \"#2a3f5f\"}, \"type\": \"carpet\"}], \"choropleth\": [{\"colorbar\": {\"outlinewidth\": 0, \"ticks\": \"\"}, \"type\": \"choropleth\"}], \"contour\": [{\"colorbar\": {\"outlinewidth\": 0, \"ticks\": \"\"}, \"colorscale\": [[0.0, \"#0d0887\"], [0.1111111111111111, \"#46039f\"], [0.2222222222222222, \"#7201a8\"], [0.3333333333333333, \"#9c179e\"], [0.4444444444444444, \"#bd3786\"], [0.5555555555555556, \"#d8576b\"], [0.6666666666666666, \"#ed7953\"], [0.7777777777777778, \"#fb9f3a\"], [0.8888888888888888, \"#fdca26\"], [1.0, \"#f0f921\"]], \"type\": \"contour\"}], \"contourcarpet\": [{\"colorbar\": {\"outlinewidth\": 0, \"ticks\": \"\"}, \"type\": \"contourcarpet\"}], \"heatmap\": [{\"colorbar\": {\"outlinewidth\": 0, \"ticks\": \"\"}, \"colorscale\": [[0.0, \"#0d0887\"], [0.1111111111111111, \"#46039f\"], [0.2222222222222222, \"#7201a8\"], [0.3333333333333333, \"#9c179e\"], [0.4444444444444444, \"#bd3786\"], [0.5555555555555556, \"#d8576b\"], [0.6666666666666666, \"#ed7953\"], [0.7777777777777778, \"#fb9f3a\"], [0.8888888888888888, \"#fdca26\"], [1.0, \"#f0f921\"]], \"type\": \"heatmap\"}], \"heatmapgl\": [{\"colorbar\": {\"outlinewidth\": 0, \"ticks\": \"\"}, \"colorscale\": [[0.0, \"#0d0887\"], [0.1111111111111111, \"#46039f\"], [0.2222222222222222, \"#7201a8\"], [0.3333333333333333, \"#9c179e\"], [0.4444444444444444, \"#bd3786\"], [0.5555555555555556, \"#d8576b\"], [0.6666666666666666, \"#ed7953\"], [0.7777777777777778, \"#fb9f3a\"], [0.8888888888888888, \"#fdca26\"], [1.0, \"#f0f921\"]], \"type\": \"heatmapgl\"}], \"histogram\": [{\"marker\": {\"colorbar\": {\"outlinewidth\": 0, \"ticks\": \"\"}}, \"type\": \"histogram\"}], \"histogram2d\": [{\"colorbar\": {\"outlinewidth\": 0, \"ticks\": \"\"}, \"colorscale\": [[0.0, \"#0d0887\"], [0.1111111111111111, \"#46039f\"], [0.2222222222222222, \"#7201a8\"], [0.3333333333333333, \"#9c179e\"], [0.4444444444444444, \"#bd3786\"], [0.5555555555555556, \"#d8576b\"], [0.6666666666666666, \"#ed7953\"], [0.7777777777777778, \"#fb9f3a\"], [0.8888888888888888, \"#fdca26\"], [1.0, \"#f0f921\"]], \"type\": \"histogram2d\"}], \"histogram2dcontour\": [{\"colorbar\": {\"outlinewidth\": 0, \"ticks\": \"\"}, \"colorscale\": [[0.0, \"#0d0887\"], [0.1111111111111111, \"#46039f\"], [0.2222222222222222, \"#7201a8\"], [0.3333333333333333, \"#9c179e\"], [0.4444444444444444, \"#bd3786\"], [0.5555555555555556, \"#d8576b\"], [0.6666666666666666, \"#ed7953\"], [0.7777777777777778, \"#fb9f3a\"], [0.8888888888888888, \"#fdca26\"], [1.0, \"#f0f921\"]], \"type\": \"histogram2dcontour\"}], \"mesh3d\": [{\"colorbar\": {\"outlinewidth\": 0, \"ticks\": \"\"}, \"type\": \"mesh3d\"}], \"parcoords\": [{\"line\": {\"colorbar\": {\"outlinewidth\": 0, \"ticks\": \"\"}}, \"type\": \"parcoords\"}], \"pie\": [{\"automargin\": true, \"type\": \"pie\"}], \"scatter\": [{\"marker\": {\"colorbar\": {\"outlinewidth\": 0, \"ticks\": \"\"}}, \"type\": \"scatter\"}], \"scatter3d\": [{\"line\": {\"colorbar\": {\"outlinewidth\": 0, \"ticks\": \"\"}}, \"marker\": {\"colorbar\": {\"outlinewidth\": 0, \"ticks\": \"\"}}, \"type\": \"scatter3d\"}], \"scattercarpet\": [{\"marker\": {\"colorbar\": {\"outlinewidth\": 0, \"ticks\": \"\"}}, \"type\": \"scattercarpet\"}], \"scattergeo\": [{\"marker\": {\"colorbar\": {\"outlinewidth\": 0, \"ticks\": \"\"}}, \"type\": \"scattergeo\"}], \"scattergl\": [{\"marker\": {\"colorbar\": {\"outlinewidth\": 0, \"ticks\": \"\"}}, \"type\": \"scattergl\"}], \"scattermapbox\": [{\"marker\": {\"colorbar\": {\"outlinewidth\": 0, \"ticks\": \"\"}}, \"type\": \"scattermapbox\"}], \"scatterpolar\": [{\"marker\": {\"colorbar\": {\"outlinewidth\": 0, \"ticks\": \"\"}}, \"type\": \"scatterpolar\"}], \"scatterpolargl\": [{\"marker\": {\"colorbar\": {\"outlinewidth\": 0, \"ticks\": \"\"}}, \"type\": \"scatterpolargl\"}], \"scatterternary\": [{\"marker\": {\"colorbar\": {\"outlinewidth\": 0, \"ticks\": \"\"}}, \"type\": \"scatterternary\"}], \"surface\": [{\"colorbar\": {\"outlinewidth\": 0, \"ticks\": \"\"}, \"colorscale\": [[0.0, \"#0d0887\"], [0.1111111111111111, \"#46039f\"], [0.2222222222222222, \"#7201a8\"], [0.3333333333333333, \"#9c179e\"], [0.4444444444444444, \"#bd3786\"], [0.5555555555555556, \"#d8576b\"], [0.6666666666666666, \"#ed7953\"], [0.7777777777777778, \"#fb9f3a\"], [0.8888888888888888, \"#fdca26\"], [1.0, \"#f0f921\"]], \"type\": \"surface\"}], \"table\": [{\"cells\": {\"fill\": {\"color\": \"#EBF0F8\"}, \"line\": {\"color\": \"white\"}}, \"header\": {\"fill\": {\"color\": \"#C8D4E3\"}, \"line\": {\"color\": \"white\"}}, \"type\": \"table\"}]}, \"layout\": {\"annotationdefaults\": {\"arrowcolor\": \"#2a3f5f\", \"arrowhead\": 0, \"arrowwidth\": 1}, \"coloraxis\": {\"colorbar\": {\"outlinewidth\": 0, \"ticks\": \"\"}}, \"colorscale\": {\"diverging\": [[0, \"#8e0152\"], [0.1, \"#c51b7d\"], [0.2, \"#de77ae\"], [0.3, \"#f1b6da\"], [0.4, \"#fde0ef\"], [0.5, \"#f7f7f7\"], [0.6, \"#e6f5d0\"], [0.7, \"#b8e186\"], [0.8, \"#7fbc41\"], [0.9, \"#4d9221\"], [1, \"#276419\"]], \"sequential\": [[0.0, \"#0d0887\"], [0.1111111111111111, \"#46039f\"], [0.2222222222222222, \"#7201a8\"], [0.3333333333333333, \"#9c179e\"], [0.4444444444444444, \"#bd3786\"], [0.5555555555555556, \"#d8576b\"], [0.6666666666666666, \"#ed7953\"], [0.7777777777777778, \"#fb9f3a\"], [0.8888888888888888, \"#fdca26\"], [1.0, \"#f0f921\"]], \"sequentialminus\": [[0.0, \"#0d0887\"], [0.1111111111111111, \"#46039f\"], [0.2222222222222222, \"#7201a8\"], [0.3333333333333333, \"#9c179e\"], [0.4444444444444444, \"#bd3786\"], [0.5555555555555556, \"#d8576b\"], [0.6666666666666666, \"#ed7953\"], [0.7777777777777778, \"#fb9f3a\"], [0.8888888888888888, \"#fdca26\"], [1.0, \"#f0f921\"]]}, \"colorway\": [\"#636efa\", \"#EF553B\", \"#00cc96\", \"#ab63fa\", \"#FFA15A\", \"#19d3f3\", \"#FF6692\", \"#B6E880\", \"#FF97FF\", \"#FECB52\"], \"font\": {\"color\": \"#2a3f5f\"}, \"geo\": {\"bgcolor\": \"white\", \"lakecolor\": \"white\", \"landcolor\": \"#E5ECF6\", \"showlakes\": true, \"showland\": true, \"subunitcolor\": \"white\"}, \"hoverlabel\": {\"align\": \"left\"}, \"hovermode\": \"closest\", \"mapbox\": {\"style\": \"light\"}, \"paper_bgcolor\": \"white\", \"plot_bgcolor\": \"#E5ECF6\", \"polar\": {\"angularaxis\": {\"gridcolor\": \"white\", \"linecolor\": \"white\", \"ticks\": \"\"}, \"bgcolor\": \"#E5ECF6\", \"radialaxis\": {\"gridcolor\": \"white\", \"linecolor\": \"white\", \"ticks\": \"\"}}, \"scene\": {\"xaxis\": {\"backgroundcolor\": \"#E5ECF6\", \"gridcolor\": \"white\", \"gridwidth\": 2, \"linecolor\": \"white\", \"showbackground\": true, \"ticks\": \"\", \"zerolinecolor\": \"white\"}, \"yaxis\": {\"backgroundcolor\": \"#E5ECF6\", \"gridcolor\": \"white\", \"gridwidth\": 2, \"linecolor\": \"white\", \"showbackground\": true, \"ticks\": \"\", \"zerolinecolor\": \"white\"}, \"zaxis\": {\"backgroundcolor\": \"#E5ECF6\", \"gridcolor\": \"white\", \"gridwidth\": 2, \"linecolor\": \"white\", \"showbackground\": true, \"ticks\": \"\", \"zerolinecolor\": \"white\"}}, \"shapedefaults\": {\"line\": {\"color\": \"#2a3f5f\"}}, \"ternary\": {\"aaxis\": {\"gridcolor\": \"white\", \"linecolor\": \"white\", \"ticks\": \"\"}, \"baxis\": {\"gridcolor\": \"white\", \"linecolor\": \"white\", \"ticks\": \"\"}, \"bgcolor\": \"#E5ECF6\", \"caxis\": {\"gridcolor\": \"white\", \"linecolor\": \"white\", \"ticks\": \"\"}}, \"title\": {\"x\": 0.05}, \"xaxis\": {\"automargin\": true, \"gridcolor\": \"white\", \"linecolor\": \"white\", \"ticks\": \"\", \"title\": {\"standoff\": 15}, \"zerolinecolor\": \"white\", \"zerolinewidth\": 2}, \"yaxis\": {\"automargin\": true, \"gridcolor\": \"white\", \"linecolor\": \"white\", \"ticks\": \"\", \"title\": {\"standoff\": 15}, \"zerolinecolor\": \"white\", \"zerolinewidth\": 2}}}, \"xaxis\": {\"anchor\": \"y\", \"domain\": [0.0, 1.0]}, \"yaxis\": {\"anchor\": \"x\", \"domain\": [0.0, 1.0], \"title\": {\"text\": \"PayRate\"}}},\n",
       "                        {\"responsive\": true}\n",
       "                    ).then(function(){\n",
       "                            \n",
       "var gd = document.getElementById('258ad402-a56f-4126-9290-991cf3329383');\n",
       "var x = new MutationObserver(function (mutations, observer) {{\n",
       "        var display = window.getComputedStyle(gd).display;\n",
       "        if (!display || display === 'none') {{\n",
       "            console.log([gd, 'removed!']);\n",
       "            Plotly.purge(gd);\n",
       "            observer.disconnect();\n",
       "        }}\n",
       "}});\n",
       "\n",
       "// Listen for the removal of the full notebook cells\n",
       "var notebookContainer = gd.closest('#notebook-container');\n",
       "if (notebookContainer) {{\n",
       "    x.observe(notebookContainer, {childList: true});\n",
       "}}\n",
       "\n",
       "// Listen for the clearing of the current output cell\n",
       "var outputEl = gd.closest('.output');\n",
       "if (outputEl) {{\n",
       "    x.observe(outputEl, {childList: true});\n",
       "}}\n",
       "\n",
       "                        })\n",
       "                };\n",
       "                });\n",
       "            </script>\n",
       "        </div>"
      ]
     },
     "metadata": {},
     "output_type": "display_data"
    }
   ],
   "source": [
    "fig = px.box(hr, y=\"PayRate\", color=\"RaceDesc\", hover_data=['Department'])\n",
    "fig.show()"
   ]
  },
  {
   "cell_type": "code",
   "execution_count": 41,
   "metadata": {
    "collapsed": true
   },
   "outputs": [
    {
     "data": {
      "application/vnd.plotly.v1+json": {
       "config": {
        "plotlyServerURL": "https://plot.ly"
       },
       "data": [
        {
         "alignmentgroup": "True",
         "box": {
          "visible": true
         },
         "customdata": [
          [
           "Admin Offices"
          ],
          [
           "Admin Offices"
          ],
          [
           "Sales"
          ],
          [
           "Sales"
          ],
          [
           "Sales"
          ],
          [
           "Sales"
          ],
          [
           "Sales"
          ],
          [
           "Sales"
          ],
          [
           "Sales"
          ],
          [
           "Sales"
          ],
          [
           "IT/IS"
          ],
          [
           "IT/IS"
          ],
          [
           "IT/IS"
          ],
          [
           "IT/IS"
          ],
          [
           "IT/IS"
          ],
          [
           "IT/IS"
          ],
          [
           "Production"
          ],
          [
           "IT/IS"
          ],
          [
           "IT/IS"
          ],
          [
           "Production"
          ],
          [
           "Production"
          ],
          [
           "Production"
          ],
          [
           "Production"
          ],
          [
           "Production"
          ],
          [
           "Production"
          ],
          [
           "Production"
          ],
          [
           "Production"
          ],
          [
           "Production"
          ],
          [
           "Production"
          ],
          [
           "Production"
          ],
          [
           "Production"
          ],
          [
           "Production"
          ],
          [
           "Production"
          ],
          [
           "Production"
          ],
          [
           "Production"
          ],
          [
           "Production"
          ],
          [
           "Production"
          ],
          [
           "Production"
          ],
          [
           "Production"
          ],
          [
           "Production"
          ],
          [
           "Production"
          ],
          [
           "Production"
          ],
          [
           "Production"
          ],
          [
           "Production"
          ],
          [
           "Production"
          ],
          [
           "Production"
          ],
          [
           "Production"
          ],
          [
           "Production"
          ],
          [
           "Production"
          ],
          [
           "Production"
          ],
          [
           "Sales"
          ],
          [
           "Admin Offices"
          ],
          [
           "Software Engineering"
          ],
          [
           "Software Engineering"
          ],
          [
           "Software Engineering"
          ],
          [
           "IT/IS"
          ],
          [
           "IT/IS"
          ]
         ],
         "hovertemplate": "RaceDesc=Black or African American<br>PayRate=%{y}<br>Department=%{customdata[0]}<extra></extra>",
         "legendgroup": "Black or African American",
         "marker": {
          "color": "#636efa"
         },
         "name": "Black or African American",
         "offsetgroup": "Black or African American",
         "orientation": "v",
         "scalegroup": "True",
         "showlegend": true,
         "type": "violin",
         "x0": " ",
         "xaxis": "x",
         "y": [
          28.5,
          23,
          55,
          55,
          55,
          54,
          55,
          56,
          55,
          55,
          45,
          45,
          55,
          40.1,
          35.5,
          45,
          60,
          65,
          27.49,
          55,
          33.5,
          24,
          22,
          24,
          17,
          20,
          21,
          20,
          24,
          14,
          20,
          22,
          14,
          20,
          15,
          24,
          19,
          22,
          15,
          18,
          24,
          25,
          29,
          27,
          26.1,
          29,
          22,
          25,
          29,
          24,
          56,
          55,
          57.12,
          48.5,
          45.42,
          61.3,
          58.2
         ],
         "y0": " ",
         "yaxis": "y"
        },
        {
         "alignmentgroup": "True",
         "box": {
          "visible": true
         },
         "customdata": [
          [
           "Admin Offices"
          ],
          [
           "Admin Offices"
          ],
          [
           "Admin Offices"
          ],
          [
           "Sales"
          ],
          [
           "Sales"
          ],
          [
           "Sales"
          ],
          [
           "Sales"
          ],
          [
           "Sales"
          ],
          [
           "Sales"
          ],
          [
           "Sales"
          ],
          [
           "Sales"
          ],
          [
           "Sales"
          ],
          [
           "Sales"
          ],
          [
           "Sales"
          ],
          [
           "IT/IS"
          ],
          [
           "IT/IS"
          ],
          [
           "IT/IS"
          ],
          [
           "IT/IS"
          ],
          [
           "IT/IS"
          ],
          [
           "IT/IS"
          ],
          [
           "IT/IS"
          ],
          [
           "IT/IS"
          ],
          [
           "IT/IS"
          ],
          [
           "IT/IS"
          ],
          [
           "IT/IS"
          ],
          [
           "IT/IS"
          ],
          [
           "Sales"
          ],
          [
           "IT/IS"
          ],
          [
           "IT/IS"
          ],
          [
           "IT/IS"
          ],
          [
           "IT/IS"
          ],
          [
           "IT/IS"
          ],
          [
           "IT/IS"
          ],
          [
           "IT/IS"
          ],
          [
           "IT/IS"
          ],
          [
           "IT/IS"
          ],
          [
           "IT/IS"
          ],
          [
           "IT/IS"
          ],
          [
           "IT/IS"
          ],
          [
           "IT/IS"
          ],
          [
           "Executive Office"
          ],
          [
           "Production"
          ],
          [
           "Production"
          ],
          [
           "Production"
          ],
          [
           "Production"
          ],
          [
           "Production"
          ],
          [
           "Production"
          ],
          [
           "Production"
          ],
          [
           "Production"
          ],
          [
           "Production"
          ],
          [
           "Production"
          ],
          [
           "Production"
          ],
          [
           "Production"
          ],
          [
           "Production"
          ],
          [
           "Production"
          ],
          [
           "Production"
          ],
          [
           "Production"
          ],
          [
           "Production"
          ],
          [
           "Production"
          ],
          [
           "Production"
          ],
          [
           "Production"
          ],
          [
           "Production"
          ],
          [
           "Production"
          ],
          [
           "Production"
          ],
          [
           "Production"
          ],
          [
           "Production"
          ],
          [
           "Production"
          ],
          [
           "Production"
          ],
          [
           "Production"
          ],
          [
           "Production"
          ],
          [
           "Production"
          ],
          [
           "Production"
          ],
          [
           "Production"
          ],
          [
           "Production"
          ],
          [
           "Production"
          ],
          [
           "Production"
          ],
          [
           "Production"
          ],
          [
           "Production"
          ],
          [
           "Production"
          ],
          [
           "Production"
          ],
          [
           "Production"
          ],
          [
           "Production"
          ],
          [
           "Production"
          ],
          [
           "Production"
          ],
          [
           "Production"
          ],
          [
           "Production"
          ],
          [
           "Production"
          ],
          [
           "Production"
          ],
          [
           "Production"
          ],
          [
           "Production"
          ],
          [
           "Production"
          ],
          [
           "Production"
          ],
          [
           "Production"
          ],
          [
           "Production"
          ],
          [
           "Production"
          ],
          [
           "Production"
          ],
          [
           "Production"
          ],
          [
           "Production"
          ],
          [
           "Production"
          ],
          [
           "Production"
          ],
          [
           "Production"
          ],
          [
           "Production"
          ],
          [
           "Production"
          ],
          [
           "Production"
          ],
          [
           "Production"
          ],
          [
           "Production"
          ],
          [
           "Production"
          ],
          [
           "Production"
          ],
          [
           "Production"
          ],
          [
           "Production"
          ],
          [
           "Production"
          ],
          [
           "Production"
          ],
          [
           "Production"
          ],
          [
           "Production"
          ],
          [
           "Production"
          ],
          [
           "Production"
          ],
          [
           "Production"
          ],
          [
           "Production"
          ],
          [
           "Production"
          ],
          [
           "Production"
          ],
          [
           "Production"
          ],
          [
           "Production"
          ],
          [
           "Production"
          ],
          [
           "Production"
          ],
          [
           "Production"
          ],
          [
           "Production"
          ],
          [
           "Production"
          ],
          [
           "Production"
          ],
          [
           "Production"
          ],
          [
           "Production"
          ],
          [
           "Production"
          ],
          [
           "Production"
          ],
          [
           "Production"
          ],
          [
           "Production"
          ],
          [
           "Production"
          ],
          [
           "Production"
          ],
          [
           "Production"
          ],
          [
           "Production"
          ],
          [
           "Production"
          ],
          [
           "Production"
          ],
          [
           "Production"
          ],
          [
           "Production"
          ],
          [
           "Production"
          ],
          [
           "Production"
          ],
          [
           "Production"
          ],
          [
           "Production"
          ],
          [
           "Production"
          ],
          [
           "Production"
          ],
          [
           "Production"
          ],
          [
           "Production"
          ],
          [
           "Production"
          ],
          [
           "Production"
          ],
          [
           "Production"
          ],
          [
           "Production"
          ],
          [
           "Production"
          ],
          [
           "Production"
          ],
          [
           "Production"
          ],
          [
           "Production"
          ],
          [
           "Production"
          ],
          [
           "Production"
          ],
          [
           "Production"
          ],
          [
           "Production"
          ],
          [
           "Production"
          ],
          [
           "Production"
          ],
          [
           "Production"
          ],
          [
           "Production"
          ],
          [
           "Production"
          ],
          [
           "Production"
          ],
          [
           "Production"
          ],
          [
           "Production"
          ],
          [
           "Production"
          ],
          [
           "Production"
          ],
          [
           "Production"
          ],
          [
           "Production"
          ],
          [
           "Production"
          ],
          [
           "Production"
          ],
          [
           "Production"
          ],
          [
           "Production"
          ],
          [
           "Production"
          ],
          [
           "Sales"
          ],
          [
           "Sales"
          ],
          [
           "Admin Offices"
          ],
          [
           "Software Engineering"
          ],
          [
           "Software Engineering"
          ],
          [
           "Software Engineering"
          ],
          [
           "Software Engineering"
          ],
          [
           "Software Engineering"
          ],
          [
           "Admin Offices"
          ],
          [
           "IT/IS"
          ],
          [
           "IT/IS"
          ],
          [
           "IT/IS"
          ],
          [
           "IT/IS"
          ],
          [
           "IT/IS"
          ]
         ],
         "hovertemplate": "RaceDesc=White<br>PayRate=%{y}<br>Department=%{customdata[0]}<extra></extra>",
         "legendgroup": "White",
         "marker": {
          "color": "#EF553B"
         },
         "name": "White",
         "offsetgroup": "White",
         "orientation": "v",
         "scalegroup": "True",
         "showlegend": true,
         "type": "violin",
         "x0": " ",
         "xaxis": "x",
         "y": [
          29,
          21.5,
          16.56,
          55,
          55,
          55.5,
          55,
          55,
          55,
          55,
          56,
          55,
          57,
          55,
          46,
          45,
          63.5,
          65,
          43,
          48.5,
          34,
          41,
          39.55,
          42.2,
          30.2,
          31.4,
          60,
          62,
          64,
          28.99,
          31.4,
          45,
          42,
          37,
          39,
          43,
          27,
          47,
          28,
          49.1,
          80,
          54.5,
          55,
          51,
          54,
          48.5,
          55,
          38.5,
          52,
          53,
          23,
          16,
          21,
          20,
          18,
          20,
          24,
          15,
          22,
          22,
          15,
          20,
          21,
          16,
          24.75,
          24,
          16,
          23,
          18,
          17,
          16,
          20,
          15,
          16.75,
          19,
          15,
          20,
          17,
          20,
          19,
          17,
          21,
          22,
          21,
          22,
          19.5,
          15,
          18,
          22,
          21,
          15,
          18,
          20,
          15,
          15.75,
          21.25,
          21,
          14,
          19,
          15,
          16,
          16,
          21,
          22,
          21,
          23,
          17,
          19,
          17,
          21,
          17,
          16,
          24.5,
          20,
          17,
          21,
          16,
          18,
          19,
          20,
          18,
          16,
          19.75,
          17,
          24,
          17,
          19,
          15.25,
          20,
          21,
          21,
          19,
          20,
          16,
          22,
          23.5,
          20,
          19.75,
          22,
          23,
          29,
          23,
          22,
          25,
          25,
          25,
          29,
          26,
          24.25,
          27,
          26,
          22,
          26,
          25,
          26.39,
          22,
          28.75,
          27,
          24,
          24,
          22,
          29,
          26,
          24,
          26,
          29,
          29,
          28,
          22,
          24.25,
          27,
          24,
          28,
          24,
          23,
          22,
          28,
          23,
          23,
          54,
          60.25,
          55,
          47.6,
          56,
          49.25,
          48,
          27,
          34.95,
          62,
          58.5,
          54.1,
          56.2,
          53
         ],
         "y0": " ",
         "yaxis": "y"
        },
        {
         "alignmentgroup": "True",
         "box": {
          "visible": true
         },
         "customdata": [
          [
           "Admin Offices"
          ],
          [
           "Sales"
          ],
          [
           "IT/IS"
          ],
          [
           "IT/IS"
          ],
          [
           "Production"
          ],
          [
           "Production"
          ],
          [
           "Production"
          ],
          [
           "Production"
          ],
          [
           "Production"
          ],
          [
           "Production"
          ],
          [
           "Production"
          ],
          [
           "Production"
          ],
          [
           "Production"
          ],
          [
           "Production"
          ],
          [
           "Production"
          ],
          [
           "Production"
          ],
          [
           "Production"
          ],
          [
           "Production"
          ],
          [
           "Production"
          ],
          [
           "Production"
          ],
          [
           "Production"
          ],
          [
           "Production"
          ],
          [
           "Production"
          ],
          [
           "Production"
          ],
          [
           "Production"
          ],
          [
           "Production"
          ],
          [
           "IT/IS"
          ],
          [
           "IT/IS"
          ],
          [
           "IT/IS"
          ],
          [
           "Software Engineering"
          ],
          [
           "Software Engineering"
          ],
          [
           "Admin Offices"
          ],
          [
           "IT/IS"
          ],
          [
           "IT/IS"
          ]
         ],
         "hovertemplate": "RaceDesc=Asian<br>PayRate=%{y}<br>Department=%{customdata[0]}<extra></extra>",
         "legendgroup": "Asian",
         "marker": {
          "color": "#00cc96"
         },
         "name": "Asian",
         "offsetgroup": "Asian",
         "orientation": "v",
         "scalegroup": "True",
         "showlegend": true,
         "type": "violin",
         "x0": " ",
         "xaxis": "x",
         "y": [
          20.5,
          56,
          40,
          42.75,
          50.5,
          42,
          21,
          15,
          22,
          15,
          21,
          14,
          22,
          22,
          22,
          18,
          24,
          19,
          19,
          17,
          22,
          15.2,
          28,
          26,
          22,
          25,
          50.25,
          52.25,
          51,
          55.51,
          52.25,
          34.95,
          53.8,
          55.2
         ],
         "y0": " ",
         "yaxis": "y"
        },
        {
         "alignmentgroup": "True",
         "box": {
          "visible": true
         },
         "customdata": [
          [
           "Sales"
          ],
          [
           "Production"
          ],
          [
           "Production"
          ],
          [
           "Production"
          ]
         ],
         "hovertemplate": "RaceDesc=American Indian or Alaska Native<br>PayRate=%{y}<br>Department=%{customdata[0]}<extra></extra>",
         "legendgroup": "American Indian or Alaska Native",
         "marker": {
          "color": "#ab63fa"
         },
         "name": "American Indian or Alaska Native",
         "offsetgroup": "American Indian or Alaska Native",
         "orientation": "v",
         "scalegroup": "True",
         "showlegend": true,
         "type": "violin",
         "x0": " ",
         "xaxis": "x",
         "y": [
          56,
          16,
          22.5,
          27
         ],
         "y0": " ",
         "yaxis": "y"
        },
        {
         "alignmentgroup": "True",
         "box": {
          "visible": true
         },
         "customdata": [
          [
           "Sales"
          ],
          [
           "Sales"
          ],
          [
           "Sales"
          ],
          [
           "Sales"
          ],
          [
           "Sales"
          ],
          [
           "Sales"
          ],
          [
           "IT/IS"
          ],
          [
           "IT/IS"
          ],
          [
           "Production"
          ],
          [
           "Production"
          ],
          [
           "Production"
          ],
          [
           "Production"
          ],
          [
           "Production"
          ],
          [
           "Production"
          ],
          [
           "Production"
          ],
          [
           "Production"
          ],
          [
           "Production"
          ],
          [
           "Production"
          ]
         ],
         "hovertemplate": "RaceDesc=Two or more races<br>PayRate=%{y}<br>Department=%{customdata[0]}<extra></extra>",
         "legendgroup": "Two or more races",
         "marker": {
          "color": "#FFA15A"
         },
         "name": "Two or more races",
         "offsetgroup": "Two or more races",
         "orientation": "v",
         "scalegroup": "True",
         "showlegend": true,
         "type": "violin",
         "x0": " ",
         "xaxis": "x",
         "y": [
          55.5,
          55,
          55,
          55,
          55,
          55,
          21,
          26,
          16,
          22,
          16.76,
          16,
          18.5,
          14,
          19,
          15,
          23,
          25
         ],
         "y0": " ",
         "yaxis": "y"
        },
        {
         "alignmentgroup": "True",
         "box": {
          "visible": true
         },
         "customdata": [
          [
           "IT/IS"
          ],
          [
           "Production"
          ],
          [
           "Production"
          ],
          [
           "Production"
          ]
         ],
         "hovertemplate": "RaceDesc=Hispanic<br>PayRate=%{y}<br>Department=%{customdata[0]}<extra></extra>",
         "legendgroup": "Hispanic",
         "marker": {
          "color": "#19d3f3"
         },
         "name": "Hispanic",
         "offsetgroup": "Hispanic",
         "orientation": "v",
         "scalegroup": "True",
         "showlegend": true,
         "type": "violin",
         "x0": " ",
         "xaxis": "x",
         "y": [
          63,
          53,
          17,
          26
         ],
         "y0": " ",
         "yaxis": "y"
        }
       ],
       "layout": {
        "legend": {
         "title": {
          "text": "RaceDesc"
         },
         "tracegroupgap": 0
        },
        "margin": {
         "t": 60
        },
        "template": {
         "data": {
          "bar": [
           {
            "error_x": {
             "color": "#2a3f5f"
            },
            "error_y": {
             "color": "#2a3f5f"
            },
            "marker": {
             "line": {
              "color": "#E5ECF6",
              "width": 0.5
             }
            },
            "type": "bar"
           }
          ],
          "barpolar": [
           {
            "marker": {
             "line": {
              "color": "#E5ECF6",
              "width": 0.5
             }
            },
            "type": "barpolar"
           }
          ],
          "carpet": [
           {
            "aaxis": {
             "endlinecolor": "#2a3f5f",
             "gridcolor": "white",
             "linecolor": "white",
             "minorgridcolor": "white",
             "startlinecolor": "#2a3f5f"
            },
            "baxis": {
             "endlinecolor": "#2a3f5f",
             "gridcolor": "white",
             "linecolor": "white",
             "minorgridcolor": "white",
             "startlinecolor": "#2a3f5f"
            },
            "type": "carpet"
           }
          ],
          "choropleth": [
           {
            "colorbar": {
             "outlinewidth": 0,
             "ticks": ""
            },
            "type": "choropleth"
           }
          ],
          "contour": [
           {
            "colorbar": {
             "outlinewidth": 0,
             "ticks": ""
            },
            "colorscale": [
             [
              0,
              "#0d0887"
             ],
             [
              0.1111111111111111,
              "#46039f"
             ],
             [
              0.2222222222222222,
              "#7201a8"
             ],
             [
              0.3333333333333333,
              "#9c179e"
             ],
             [
              0.4444444444444444,
              "#bd3786"
             ],
             [
              0.5555555555555556,
              "#d8576b"
             ],
             [
              0.6666666666666666,
              "#ed7953"
             ],
             [
              0.7777777777777778,
              "#fb9f3a"
             ],
             [
              0.8888888888888888,
              "#fdca26"
             ],
             [
              1,
              "#f0f921"
             ]
            ],
            "type": "contour"
           }
          ],
          "contourcarpet": [
           {
            "colorbar": {
             "outlinewidth": 0,
             "ticks": ""
            },
            "type": "contourcarpet"
           }
          ],
          "heatmap": [
           {
            "colorbar": {
             "outlinewidth": 0,
             "ticks": ""
            },
            "colorscale": [
             [
              0,
              "#0d0887"
             ],
             [
              0.1111111111111111,
              "#46039f"
             ],
             [
              0.2222222222222222,
              "#7201a8"
             ],
             [
              0.3333333333333333,
              "#9c179e"
             ],
             [
              0.4444444444444444,
              "#bd3786"
             ],
             [
              0.5555555555555556,
              "#d8576b"
             ],
             [
              0.6666666666666666,
              "#ed7953"
             ],
             [
              0.7777777777777778,
              "#fb9f3a"
             ],
             [
              0.8888888888888888,
              "#fdca26"
             ],
             [
              1,
              "#f0f921"
             ]
            ],
            "type": "heatmap"
           }
          ],
          "heatmapgl": [
           {
            "colorbar": {
             "outlinewidth": 0,
             "ticks": ""
            },
            "colorscale": [
             [
              0,
              "#0d0887"
             ],
             [
              0.1111111111111111,
              "#46039f"
             ],
             [
              0.2222222222222222,
              "#7201a8"
             ],
             [
              0.3333333333333333,
              "#9c179e"
             ],
             [
              0.4444444444444444,
              "#bd3786"
             ],
             [
              0.5555555555555556,
              "#d8576b"
             ],
             [
              0.6666666666666666,
              "#ed7953"
             ],
             [
              0.7777777777777778,
              "#fb9f3a"
             ],
             [
              0.8888888888888888,
              "#fdca26"
             ],
             [
              1,
              "#f0f921"
             ]
            ],
            "type": "heatmapgl"
           }
          ],
          "histogram": [
           {
            "marker": {
             "colorbar": {
              "outlinewidth": 0,
              "ticks": ""
             }
            },
            "type": "histogram"
           }
          ],
          "histogram2d": [
           {
            "colorbar": {
             "outlinewidth": 0,
             "ticks": ""
            },
            "colorscale": [
             [
              0,
              "#0d0887"
             ],
             [
              0.1111111111111111,
              "#46039f"
             ],
             [
              0.2222222222222222,
              "#7201a8"
             ],
             [
              0.3333333333333333,
              "#9c179e"
             ],
             [
              0.4444444444444444,
              "#bd3786"
             ],
             [
              0.5555555555555556,
              "#d8576b"
             ],
             [
              0.6666666666666666,
              "#ed7953"
             ],
             [
              0.7777777777777778,
              "#fb9f3a"
             ],
             [
              0.8888888888888888,
              "#fdca26"
             ],
             [
              1,
              "#f0f921"
             ]
            ],
            "type": "histogram2d"
           }
          ],
          "histogram2dcontour": [
           {
            "colorbar": {
             "outlinewidth": 0,
             "ticks": ""
            },
            "colorscale": [
             [
              0,
              "#0d0887"
             ],
             [
              0.1111111111111111,
              "#46039f"
             ],
             [
              0.2222222222222222,
              "#7201a8"
             ],
             [
              0.3333333333333333,
              "#9c179e"
             ],
             [
              0.4444444444444444,
              "#bd3786"
             ],
             [
              0.5555555555555556,
              "#d8576b"
             ],
             [
              0.6666666666666666,
              "#ed7953"
             ],
             [
              0.7777777777777778,
              "#fb9f3a"
             ],
             [
              0.8888888888888888,
              "#fdca26"
             ],
             [
              1,
              "#f0f921"
             ]
            ],
            "type": "histogram2dcontour"
           }
          ],
          "mesh3d": [
           {
            "colorbar": {
             "outlinewidth": 0,
             "ticks": ""
            },
            "type": "mesh3d"
           }
          ],
          "parcoords": [
           {
            "line": {
             "colorbar": {
              "outlinewidth": 0,
              "ticks": ""
             }
            },
            "type": "parcoords"
           }
          ],
          "pie": [
           {
            "automargin": true,
            "type": "pie"
           }
          ],
          "scatter": [
           {
            "marker": {
             "colorbar": {
              "outlinewidth": 0,
              "ticks": ""
             }
            },
            "type": "scatter"
           }
          ],
          "scatter3d": [
           {
            "line": {
             "colorbar": {
              "outlinewidth": 0,
              "ticks": ""
             }
            },
            "marker": {
             "colorbar": {
              "outlinewidth": 0,
              "ticks": ""
             }
            },
            "type": "scatter3d"
           }
          ],
          "scattercarpet": [
           {
            "marker": {
             "colorbar": {
              "outlinewidth": 0,
              "ticks": ""
             }
            },
            "type": "scattercarpet"
           }
          ],
          "scattergeo": [
           {
            "marker": {
             "colorbar": {
              "outlinewidth": 0,
              "ticks": ""
             }
            },
            "type": "scattergeo"
           }
          ],
          "scattergl": [
           {
            "marker": {
             "colorbar": {
              "outlinewidth": 0,
              "ticks": ""
             }
            },
            "type": "scattergl"
           }
          ],
          "scattermapbox": [
           {
            "marker": {
             "colorbar": {
              "outlinewidth": 0,
              "ticks": ""
             }
            },
            "type": "scattermapbox"
           }
          ],
          "scatterpolar": [
           {
            "marker": {
             "colorbar": {
              "outlinewidth": 0,
              "ticks": ""
             }
            },
            "type": "scatterpolar"
           }
          ],
          "scatterpolargl": [
           {
            "marker": {
             "colorbar": {
              "outlinewidth": 0,
              "ticks": ""
             }
            },
            "type": "scatterpolargl"
           }
          ],
          "scatterternary": [
           {
            "marker": {
             "colorbar": {
              "outlinewidth": 0,
              "ticks": ""
             }
            },
            "type": "scatterternary"
           }
          ],
          "surface": [
           {
            "colorbar": {
             "outlinewidth": 0,
             "ticks": ""
            },
            "colorscale": [
             [
              0,
              "#0d0887"
             ],
             [
              0.1111111111111111,
              "#46039f"
             ],
             [
              0.2222222222222222,
              "#7201a8"
             ],
             [
              0.3333333333333333,
              "#9c179e"
             ],
             [
              0.4444444444444444,
              "#bd3786"
             ],
             [
              0.5555555555555556,
              "#d8576b"
             ],
             [
              0.6666666666666666,
              "#ed7953"
             ],
             [
              0.7777777777777778,
              "#fb9f3a"
             ],
             [
              0.8888888888888888,
              "#fdca26"
             ],
             [
              1,
              "#f0f921"
             ]
            ],
            "type": "surface"
           }
          ],
          "table": [
           {
            "cells": {
             "fill": {
              "color": "#EBF0F8"
             },
             "line": {
              "color": "white"
             }
            },
            "header": {
             "fill": {
              "color": "#C8D4E3"
             },
             "line": {
              "color": "white"
             }
            },
            "type": "table"
           }
          ]
         },
         "layout": {
          "annotationdefaults": {
           "arrowcolor": "#2a3f5f",
           "arrowhead": 0,
           "arrowwidth": 1
          },
          "coloraxis": {
           "colorbar": {
            "outlinewidth": 0,
            "ticks": ""
           }
          },
          "colorscale": {
           "diverging": [
            [
             0,
             "#8e0152"
            ],
            [
             0.1,
             "#c51b7d"
            ],
            [
             0.2,
             "#de77ae"
            ],
            [
             0.3,
             "#f1b6da"
            ],
            [
             0.4,
             "#fde0ef"
            ],
            [
             0.5,
             "#f7f7f7"
            ],
            [
             0.6,
             "#e6f5d0"
            ],
            [
             0.7,
             "#b8e186"
            ],
            [
             0.8,
             "#7fbc41"
            ],
            [
             0.9,
             "#4d9221"
            ],
            [
             1,
             "#276419"
            ]
           ],
           "sequential": [
            [
             0,
             "#0d0887"
            ],
            [
             0.1111111111111111,
             "#46039f"
            ],
            [
             0.2222222222222222,
             "#7201a8"
            ],
            [
             0.3333333333333333,
             "#9c179e"
            ],
            [
             0.4444444444444444,
             "#bd3786"
            ],
            [
             0.5555555555555556,
             "#d8576b"
            ],
            [
             0.6666666666666666,
             "#ed7953"
            ],
            [
             0.7777777777777778,
             "#fb9f3a"
            ],
            [
             0.8888888888888888,
             "#fdca26"
            ],
            [
             1,
             "#f0f921"
            ]
           ],
           "sequentialminus": [
            [
             0,
             "#0d0887"
            ],
            [
             0.1111111111111111,
             "#46039f"
            ],
            [
             0.2222222222222222,
             "#7201a8"
            ],
            [
             0.3333333333333333,
             "#9c179e"
            ],
            [
             0.4444444444444444,
             "#bd3786"
            ],
            [
             0.5555555555555556,
             "#d8576b"
            ],
            [
             0.6666666666666666,
             "#ed7953"
            ],
            [
             0.7777777777777778,
             "#fb9f3a"
            ],
            [
             0.8888888888888888,
             "#fdca26"
            ],
            [
             1,
             "#f0f921"
            ]
           ]
          },
          "colorway": [
           "#636efa",
           "#EF553B",
           "#00cc96",
           "#ab63fa",
           "#FFA15A",
           "#19d3f3",
           "#FF6692",
           "#B6E880",
           "#FF97FF",
           "#FECB52"
          ],
          "font": {
           "color": "#2a3f5f"
          },
          "geo": {
           "bgcolor": "white",
           "lakecolor": "white",
           "landcolor": "#E5ECF6",
           "showlakes": true,
           "showland": true,
           "subunitcolor": "white"
          },
          "hoverlabel": {
           "align": "left"
          },
          "hovermode": "closest",
          "mapbox": {
           "style": "light"
          },
          "paper_bgcolor": "white",
          "plot_bgcolor": "#E5ECF6",
          "polar": {
           "angularaxis": {
            "gridcolor": "white",
            "linecolor": "white",
            "ticks": ""
           },
           "bgcolor": "#E5ECF6",
           "radialaxis": {
            "gridcolor": "white",
            "linecolor": "white",
            "ticks": ""
           }
          },
          "scene": {
           "xaxis": {
            "backgroundcolor": "#E5ECF6",
            "gridcolor": "white",
            "gridwidth": 2,
            "linecolor": "white",
            "showbackground": true,
            "ticks": "",
            "zerolinecolor": "white"
           },
           "yaxis": {
            "backgroundcolor": "#E5ECF6",
            "gridcolor": "white",
            "gridwidth": 2,
            "linecolor": "white",
            "showbackground": true,
            "ticks": "",
            "zerolinecolor": "white"
           },
           "zaxis": {
            "backgroundcolor": "#E5ECF6",
            "gridcolor": "white",
            "gridwidth": 2,
            "linecolor": "white",
            "showbackground": true,
            "ticks": "",
            "zerolinecolor": "white"
           }
          },
          "shapedefaults": {
           "line": {
            "color": "#2a3f5f"
           }
          },
          "ternary": {
           "aaxis": {
            "gridcolor": "white",
            "linecolor": "white",
            "ticks": ""
           },
           "baxis": {
            "gridcolor": "white",
            "linecolor": "white",
            "ticks": ""
           },
           "bgcolor": "#E5ECF6",
           "caxis": {
            "gridcolor": "white",
            "linecolor": "white",
            "ticks": ""
           }
          },
          "title": {
           "x": 0.05
          },
          "xaxis": {
           "automargin": true,
           "gridcolor": "white",
           "linecolor": "white",
           "ticks": "",
           "title": {
            "standoff": 15
           },
           "zerolinecolor": "white",
           "zerolinewidth": 2
          },
          "yaxis": {
           "automargin": true,
           "gridcolor": "white",
           "linecolor": "white",
           "ticks": "",
           "title": {
            "standoff": 15
           },
           "zerolinecolor": "white",
           "zerolinewidth": 2
          }
         }
        },
        "violinmode": "group",
        "xaxis": {
         "anchor": "y",
         "domain": [
          0,
          1
         ]
        },
        "yaxis": {
         "anchor": "x",
         "domain": [
          0,
          1
         ],
         "title": {
          "text": "PayRate"
         }
        }
       }
      },
      "text/html": [
       "<div>\n",
       "        \n",
       "        \n",
       "            <div id=\"7e3ed6cc-3c31-4bb2-8e82-7eff71cc8178\" class=\"plotly-graph-div\" style=\"height:525px; width:100%;\"></div>\n",
       "            <script type=\"text/javascript\">\n",
       "                require([\"plotly\"], function(Plotly) {\n",
       "                    window.PLOTLYENV=window.PLOTLYENV || {};\n",
       "                    \n",
       "                if (document.getElementById(\"7e3ed6cc-3c31-4bb2-8e82-7eff71cc8178\")) {\n",
       "                    Plotly.newPlot(\n",
       "                        '7e3ed6cc-3c31-4bb2-8e82-7eff71cc8178',\n",
       "                        [{\"alignmentgroup\": \"True\", \"box\": {\"visible\": true}, \"customdata\": [[\"Admin Offices\"], [\"Admin Offices\"], [\"Sales\"], [\"Sales\"], [\"Sales\"], [\"Sales\"], [\"Sales\"], [\"Sales\"], [\"Sales\"], [\"Sales\"], [\"IT/IS\"], [\"IT/IS\"], [\"IT/IS\"], [\"IT/IS\"], [\"IT/IS\"], [\"IT/IS\"], [\"Production\"], [\"IT/IS\"], [\"IT/IS\"], [\"Production\"], [\"Production\"], [\"Production\"], [\"Production\"], [\"Production\"], [\"Production\"], [\"Production\"], [\"Production\"], [\"Production\"], [\"Production\"], [\"Production\"], [\"Production\"], [\"Production\"], [\"Production\"], [\"Production\"], [\"Production\"], [\"Production\"], [\"Production\"], [\"Production\"], [\"Production\"], [\"Production\"], [\"Production\"], [\"Production\"], [\"Production\"], [\"Production\"], [\"Production\"], [\"Production\"], [\"Production\"], [\"Production\"], [\"Production\"], [\"Production\"], [\"Sales\"], [\"Admin Offices\"], [\"Software Engineering\"], [\"Software Engineering\"], [\"Software Engineering\"], [\"IT/IS\"], [\"IT/IS\"]], \"hovertemplate\": \"RaceDesc=Black or African American<br>PayRate=%{y}<br>Department=%{customdata[0]}<extra></extra>\", \"legendgroup\": \"Black or African American\", \"marker\": {\"color\": \"#636efa\"}, \"name\": \"Black or African American\", \"offsetgroup\": \"Black or African American\", \"orientation\": \"v\", \"scalegroup\": \"True\", \"showlegend\": true, \"type\": \"violin\", \"x0\": \" \", \"xaxis\": \"x\", \"y\": [28.5, 23.0, 55.0, 55.0, 55.0, 54.0, 55.0, 56.0, 55.0, 55.0, 45.0, 45.0, 55.0, 40.1, 35.5, 45.0, 60.0, 65.0, 27.49, 55.0, 33.5, 24.0, 22.0, 24.0, 17.0, 20.0, 21.0, 20.0, 24.0, 14.0, 20.0, 22.0, 14.0, 20.0, 15.0, 24.0, 19.0, 22.0, 15.0, 18.0, 24.0, 25.0, 29.0, 27.0, 26.1, 29.0, 22.0, 25.0, 29.0, 24.0, 56.0, 55.0, 57.12, 48.5, 45.42, 61.3, 58.2], \"y0\": \" \", \"yaxis\": \"y\"}, {\"alignmentgroup\": \"True\", \"box\": {\"visible\": true}, \"customdata\": [[\"Admin Offices\"], [\"Admin Offices\"], [\"Admin Offices\"], [\"Sales\"], [\"Sales\"], [\"Sales\"], [\"Sales\"], [\"Sales\"], [\"Sales\"], [\"Sales\"], [\"Sales\"], [\"Sales\"], [\"Sales\"], [\"Sales\"], [\"IT/IS\"], [\"IT/IS\"], [\"IT/IS\"], [\"IT/IS\"], [\"IT/IS\"], [\"IT/IS\"], [\"IT/IS\"], [\"IT/IS\"], [\"IT/IS\"], [\"IT/IS\"], [\"IT/IS\"], [\"IT/IS\"], [\"Sales\"], [\"IT/IS\"], [\"IT/IS\"], [\"IT/IS\"], [\"IT/IS\"], [\"IT/IS\"], [\"IT/IS\"], [\"IT/IS\"], [\"IT/IS\"], [\"IT/IS\"], [\"IT/IS\"], [\"IT/IS\"], [\"IT/IS\"], [\"IT/IS\"], [\"Executive Office\"], [\"Production\"], [\"Production\"], [\"Production\"], [\"Production\"], [\"Production\"], [\"Production\"], [\"Production\"], [\"Production\"], [\"Production\"], [\"Production\"], [\"Production\"], [\"Production\"], [\"Production\"], [\"Production\"], [\"Production\"], [\"Production\"], [\"Production\"], [\"Production\"], [\"Production\"], [\"Production\"], [\"Production\"], [\"Production\"], [\"Production\"], [\"Production\"], [\"Production\"], [\"Production\"], [\"Production\"], [\"Production\"], [\"Production\"], [\"Production\"], [\"Production\"], [\"Production\"], [\"Production\"], [\"Production\"], [\"Production\"], [\"Production\"], [\"Production\"], [\"Production\"], [\"Production\"], [\"Production\"], [\"Production\"], [\"Production\"], [\"Production\"], [\"Production\"], [\"Production\"], [\"Production\"], [\"Production\"], [\"Production\"], [\"Production\"], [\"Production\"], [\"Production\"], [\"Production\"], [\"Production\"], [\"Production\"], [\"Production\"], [\"Production\"], [\"Production\"], [\"Production\"], [\"Production\"], [\"Production\"], [\"Production\"], [\"Production\"], [\"Production\"], [\"Production\"], [\"Production\"], [\"Production\"], [\"Production\"], [\"Production\"], [\"Production\"], [\"Production\"], [\"Production\"], [\"Production\"], [\"Production\"], [\"Production\"], [\"Production\"], [\"Production\"], [\"Production\"], [\"Production\"], [\"Production\"], [\"Production\"], [\"Production\"], [\"Production\"], [\"Production\"], [\"Production\"], [\"Production\"], [\"Production\"], [\"Production\"], [\"Production\"], [\"Production\"], [\"Production\"], [\"Production\"], [\"Production\"], [\"Production\"], [\"Production\"], [\"Production\"], [\"Production\"], [\"Production\"], [\"Production\"], [\"Production\"], [\"Production\"], [\"Production\"], [\"Production\"], [\"Production\"], [\"Production\"], [\"Production\"], [\"Production\"], [\"Production\"], [\"Production\"], [\"Production\"], [\"Production\"], [\"Production\"], [\"Production\"], [\"Production\"], [\"Production\"], [\"Production\"], [\"Production\"], [\"Production\"], [\"Production\"], [\"Production\"], [\"Production\"], [\"Production\"], [\"Production\"], [\"Production\"], [\"Production\"], [\"Production\"], [\"Production\"], [\"Production\"], [\"Production\"], [\"Production\"], [\"Production\"], [\"Production\"], [\"Production\"], [\"Production\"], [\"Production\"], [\"Production\"], [\"Production\"], [\"Production\"], [\"Production\"], [\"Sales\"], [\"Sales\"], [\"Admin Offices\"], [\"Software Engineering\"], [\"Software Engineering\"], [\"Software Engineering\"], [\"Software Engineering\"], [\"Software Engineering\"], [\"Admin Offices\"], [\"IT/IS\"], [\"IT/IS\"], [\"IT/IS\"], [\"IT/IS\"], [\"IT/IS\"]], \"hovertemplate\": \"RaceDesc=White<br>PayRate=%{y}<br>Department=%{customdata[0]}<extra></extra>\", \"legendgroup\": \"White\", \"marker\": {\"color\": \"#EF553B\"}, \"name\": \"White\", \"offsetgroup\": \"White\", \"orientation\": \"v\", \"scalegroup\": \"True\", \"showlegend\": true, \"type\": \"violin\", \"x0\": \" \", \"xaxis\": \"x\", \"y\": [29.0, 21.5, 16.56, 55.0, 55.0, 55.5, 55.0, 55.0, 55.0, 55.0, 56.0, 55.0, 57.0, 55.0, 46.0, 45.0, 63.5, 65.0, 43.0, 48.5, 34.0, 41.0, 39.55, 42.2, 30.2, 31.4, 60.0, 62.0, 64.0, 28.99, 31.4, 45.0, 42.0, 37.0, 39.0, 43.0, 27.0, 47.0, 28.0, 49.1, 80.0, 54.5, 55.0, 51.0, 54.0, 48.5, 55.0, 38.5, 52.0, 53.0, 23.0, 16.0, 21.0, 20.0, 18.0, 20.0, 24.0, 15.0, 22.0, 22.0, 15.0, 20.0, 21.0, 16.0, 24.75, 24.0, 16.0, 23.0, 18.0, 17.0, 16.0, 20.0, 15.0, 16.75, 19.0, 15.0, 20.0, 17.0, 20.0, 19.0, 17.0, 21.0, 22.0, 21.0, 22.0, 19.5, 15.0, 18.0, 22.0, 21.0, 15.0, 18.0, 20.0, 15.0, 15.75, 21.25, 21.0, 14.0, 19.0, 15.0, 16.0, 16.0, 21.0, 22.0, 21.0, 23.0, 17.0, 19.0, 17.0, 21.0, 17.0, 16.0, 24.5, 20.0, 17.0, 21.0, 16.0, 18.0, 19.0, 20.0, 18.0, 16.0, 19.75, 17.0, 24.0, 17.0, 19.0, 15.25, 20.0, 21.0, 21.0, 19.0, 20.0, 16.0, 22.0, 23.5, 20.0, 19.75, 22.0, 23.0, 29.0, 23.0, 22.0, 25.0, 25.0, 25.0, 29.0, 26.0, 24.25, 27.0, 26.0, 22.0, 26.0, 25.0, 26.39, 22.0, 28.75, 27.0, 24.0, 24.0, 22.0, 29.0, 26.0, 24.0, 26.0, 29.0, 29.0, 28.0, 22.0, 24.25, 27.0, 24.0, 28.0, 24.0, 23.0, 22.0, 28.0, 23.0, 23.0, 54.0, 60.25, 55.0, 47.6, 56.0, 49.25, 48.0, 27.0, 34.95, 62.0, 58.5, 54.1, 56.2, 53.0], \"y0\": \" \", \"yaxis\": \"y\"}, {\"alignmentgroup\": \"True\", \"box\": {\"visible\": true}, \"customdata\": [[\"Admin Offices\"], [\"Sales\"], [\"IT/IS\"], [\"IT/IS\"], [\"Production\"], [\"Production\"], [\"Production\"], [\"Production\"], [\"Production\"], [\"Production\"], [\"Production\"], [\"Production\"], [\"Production\"], [\"Production\"], [\"Production\"], [\"Production\"], [\"Production\"], [\"Production\"], [\"Production\"], [\"Production\"], [\"Production\"], [\"Production\"], [\"Production\"], [\"Production\"], [\"Production\"], [\"Production\"], [\"IT/IS\"], [\"IT/IS\"], [\"IT/IS\"], [\"Software Engineering\"], [\"Software Engineering\"], [\"Admin Offices\"], [\"IT/IS\"], [\"IT/IS\"]], \"hovertemplate\": \"RaceDesc=Asian<br>PayRate=%{y}<br>Department=%{customdata[0]}<extra></extra>\", \"legendgroup\": \"Asian\", \"marker\": {\"color\": \"#00cc96\"}, \"name\": \"Asian\", \"offsetgroup\": \"Asian\", \"orientation\": \"v\", \"scalegroup\": \"True\", \"showlegend\": true, \"type\": \"violin\", \"x0\": \" \", \"xaxis\": \"x\", \"y\": [20.5, 56.0, 40.0, 42.75, 50.5, 42.0, 21.0, 15.0, 22.0, 15.0, 21.0, 14.0, 22.0, 22.0, 22.0, 18.0, 24.0, 19.0, 19.0, 17.0, 22.0, 15.2, 28.0, 26.0, 22.0, 25.0, 50.25, 52.25, 51.0, 55.51, 52.25, 34.95, 53.8, 55.2], \"y0\": \" \", \"yaxis\": \"y\"}, {\"alignmentgroup\": \"True\", \"box\": {\"visible\": true}, \"customdata\": [[\"Sales\"], [\"Production\"], [\"Production\"], [\"Production\"]], \"hovertemplate\": \"RaceDesc=American Indian or Alaska Native<br>PayRate=%{y}<br>Department=%{customdata[0]}<extra></extra>\", \"legendgroup\": \"American Indian or Alaska Native\", \"marker\": {\"color\": \"#ab63fa\"}, \"name\": \"American Indian or Alaska Native\", \"offsetgroup\": \"American Indian or Alaska Native\", \"orientation\": \"v\", \"scalegroup\": \"True\", \"showlegend\": true, \"type\": \"violin\", \"x0\": \" \", \"xaxis\": \"x\", \"y\": [56.0, 16.0, 22.5, 27.0], \"y0\": \" \", \"yaxis\": \"y\"}, {\"alignmentgroup\": \"True\", \"box\": {\"visible\": true}, \"customdata\": [[\"Sales\"], [\"Sales\"], [\"Sales\"], [\"Sales\"], [\"Sales\"], [\"Sales\"], [\"IT/IS\"], [\"IT/IS\"], [\"Production\"], [\"Production\"], [\"Production\"], [\"Production\"], [\"Production\"], [\"Production\"], [\"Production\"], [\"Production\"], [\"Production\"], [\"Production\"]], \"hovertemplate\": \"RaceDesc=Two or more races<br>PayRate=%{y}<br>Department=%{customdata[0]}<extra></extra>\", \"legendgroup\": \"Two or more races\", \"marker\": {\"color\": \"#FFA15A\"}, \"name\": \"Two or more races\", \"offsetgroup\": \"Two or more races\", \"orientation\": \"v\", \"scalegroup\": \"True\", \"showlegend\": true, \"type\": \"violin\", \"x0\": \" \", \"xaxis\": \"x\", \"y\": [55.5, 55.0, 55.0, 55.0, 55.0, 55.0, 21.0, 26.0, 16.0, 22.0, 16.76, 16.0, 18.5, 14.0, 19.0, 15.0, 23.0, 25.0], \"y0\": \" \", \"yaxis\": \"y\"}, {\"alignmentgroup\": \"True\", \"box\": {\"visible\": true}, \"customdata\": [[\"IT/IS\"], [\"Production\"], [\"Production\"], [\"Production\"]], \"hovertemplate\": \"RaceDesc=Hispanic<br>PayRate=%{y}<br>Department=%{customdata[0]}<extra></extra>\", \"legendgroup\": \"Hispanic\", \"marker\": {\"color\": \"#19d3f3\"}, \"name\": \"Hispanic\", \"offsetgroup\": \"Hispanic\", \"orientation\": \"v\", \"scalegroup\": \"True\", \"showlegend\": true, \"type\": \"violin\", \"x0\": \" \", \"xaxis\": \"x\", \"y\": [63.0, 53.0, 17.0, 26.0], \"y0\": \" \", \"yaxis\": \"y\"}],\n",
       "                        {\"legend\": {\"title\": {\"text\": \"RaceDesc\"}, \"tracegroupgap\": 0}, \"margin\": {\"t\": 60}, \"template\": {\"data\": {\"bar\": [{\"error_x\": {\"color\": \"#2a3f5f\"}, \"error_y\": {\"color\": \"#2a3f5f\"}, \"marker\": {\"line\": {\"color\": \"#E5ECF6\", \"width\": 0.5}}, \"type\": \"bar\"}], \"barpolar\": [{\"marker\": {\"line\": {\"color\": \"#E5ECF6\", \"width\": 0.5}}, \"type\": \"barpolar\"}], \"carpet\": [{\"aaxis\": {\"endlinecolor\": \"#2a3f5f\", \"gridcolor\": \"white\", \"linecolor\": \"white\", \"minorgridcolor\": \"white\", \"startlinecolor\": \"#2a3f5f\"}, \"baxis\": {\"endlinecolor\": \"#2a3f5f\", \"gridcolor\": \"white\", \"linecolor\": \"white\", \"minorgridcolor\": \"white\", \"startlinecolor\": \"#2a3f5f\"}, \"type\": \"carpet\"}], \"choropleth\": [{\"colorbar\": {\"outlinewidth\": 0, \"ticks\": \"\"}, \"type\": \"choropleth\"}], \"contour\": [{\"colorbar\": {\"outlinewidth\": 0, \"ticks\": \"\"}, \"colorscale\": [[0.0, \"#0d0887\"], [0.1111111111111111, \"#46039f\"], [0.2222222222222222, \"#7201a8\"], [0.3333333333333333, \"#9c179e\"], [0.4444444444444444, \"#bd3786\"], [0.5555555555555556, \"#d8576b\"], [0.6666666666666666, \"#ed7953\"], [0.7777777777777778, \"#fb9f3a\"], [0.8888888888888888, \"#fdca26\"], [1.0, \"#f0f921\"]], \"type\": \"contour\"}], \"contourcarpet\": [{\"colorbar\": {\"outlinewidth\": 0, \"ticks\": \"\"}, \"type\": \"contourcarpet\"}], \"heatmap\": [{\"colorbar\": {\"outlinewidth\": 0, \"ticks\": \"\"}, \"colorscale\": [[0.0, \"#0d0887\"], [0.1111111111111111, \"#46039f\"], [0.2222222222222222, \"#7201a8\"], [0.3333333333333333, \"#9c179e\"], [0.4444444444444444, \"#bd3786\"], [0.5555555555555556, \"#d8576b\"], [0.6666666666666666, \"#ed7953\"], [0.7777777777777778, \"#fb9f3a\"], [0.8888888888888888, \"#fdca26\"], [1.0, \"#f0f921\"]], \"type\": \"heatmap\"}], \"heatmapgl\": [{\"colorbar\": {\"outlinewidth\": 0, \"ticks\": \"\"}, \"colorscale\": [[0.0, \"#0d0887\"], [0.1111111111111111, \"#46039f\"], [0.2222222222222222, \"#7201a8\"], [0.3333333333333333, \"#9c179e\"], [0.4444444444444444, \"#bd3786\"], [0.5555555555555556, \"#d8576b\"], [0.6666666666666666, \"#ed7953\"], [0.7777777777777778, \"#fb9f3a\"], [0.8888888888888888, \"#fdca26\"], [1.0, \"#f0f921\"]], \"type\": \"heatmapgl\"}], \"histogram\": [{\"marker\": {\"colorbar\": {\"outlinewidth\": 0, \"ticks\": \"\"}}, \"type\": \"histogram\"}], \"histogram2d\": [{\"colorbar\": {\"outlinewidth\": 0, \"ticks\": \"\"}, \"colorscale\": [[0.0, \"#0d0887\"], [0.1111111111111111, \"#46039f\"], [0.2222222222222222, \"#7201a8\"], [0.3333333333333333, \"#9c179e\"], [0.4444444444444444, \"#bd3786\"], [0.5555555555555556, \"#d8576b\"], [0.6666666666666666, \"#ed7953\"], [0.7777777777777778, \"#fb9f3a\"], [0.8888888888888888, \"#fdca26\"], [1.0, \"#f0f921\"]], \"type\": \"histogram2d\"}], \"histogram2dcontour\": [{\"colorbar\": {\"outlinewidth\": 0, \"ticks\": \"\"}, \"colorscale\": [[0.0, \"#0d0887\"], [0.1111111111111111, \"#46039f\"], [0.2222222222222222, \"#7201a8\"], [0.3333333333333333, \"#9c179e\"], [0.4444444444444444, \"#bd3786\"], [0.5555555555555556, \"#d8576b\"], [0.6666666666666666, \"#ed7953\"], [0.7777777777777778, \"#fb9f3a\"], [0.8888888888888888, \"#fdca26\"], [1.0, \"#f0f921\"]], \"type\": \"histogram2dcontour\"}], \"mesh3d\": [{\"colorbar\": {\"outlinewidth\": 0, \"ticks\": \"\"}, \"type\": \"mesh3d\"}], \"parcoords\": [{\"line\": {\"colorbar\": {\"outlinewidth\": 0, \"ticks\": \"\"}}, \"type\": \"parcoords\"}], \"pie\": [{\"automargin\": true, \"type\": \"pie\"}], \"scatter\": [{\"marker\": {\"colorbar\": {\"outlinewidth\": 0, \"ticks\": \"\"}}, \"type\": \"scatter\"}], \"scatter3d\": [{\"line\": {\"colorbar\": {\"outlinewidth\": 0, \"ticks\": \"\"}}, \"marker\": {\"colorbar\": {\"outlinewidth\": 0, \"ticks\": \"\"}}, \"type\": \"scatter3d\"}], \"scattercarpet\": [{\"marker\": {\"colorbar\": {\"outlinewidth\": 0, \"ticks\": \"\"}}, \"type\": \"scattercarpet\"}], \"scattergeo\": [{\"marker\": {\"colorbar\": {\"outlinewidth\": 0, \"ticks\": \"\"}}, \"type\": \"scattergeo\"}], \"scattergl\": [{\"marker\": {\"colorbar\": {\"outlinewidth\": 0, \"ticks\": \"\"}}, \"type\": \"scattergl\"}], \"scattermapbox\": [{\"marker\": {\"colorbar\": {\"outlinewidth\": 0, \"ticks\": \"\"}}, \"type\": \"scattermapbox\"}], \"scatterpolar\": [{\"marker\": {\"colorbar\": {\"outlinewidth\": 0, \"ticks\": \"\"}}, \"type\": \"scatterpolar\"}], \"scatterpolargl\": [{\"marker\": {\"colorbar\": {\"outlinewidth\": 0, \"ticks\": \"\"}}, \"type\": \"scatterpolargl\"}], \"scatterternary\": [{\"marker\": {\"colorbar\": {\"outlinewidth\": 0, \"ticks\": \"\"}}, \"type\": \"scatterternary\"}], \"surface\": [{\"colorbar\": {\"outlinewidth\": 0, \"ticks\": \"\"}, \"colorscale\": [[0.0, \"#0d0887\"], [0.1111111111111111, \"#46039f\"], [0.2222222222222222, \"#7201a8\"], [0.3333333333333333, \"#9c179e\"], [0.4444444444444444, \"#bd3786\"], [0.5555555555555556, \"#d8576b\"], [0.6666666666666666, \"#ed7953\"], [0.7777777777777778, \"#fb9f3a\"], [0.8888888888888888, \"#fdca26\"], [1.0, \"#f0f921\"]], \"type\": \"surface\"}], \"table\": [{\"cells\": {\"fill\": {\"color\": \"#EBF0F8\"}, \"line\": {\"color\": \"white\"}}, \"header\": {\"fill\": {\"color\": \"#C8D4E3\"}, \"line\": {\"color\": \"white\"}}, \"type\": \"table\"}]}, \"layout\": {\"annotationdefaults\": {\"arrowcolor\": \"#2a3f5f\", \"arrowhead\": 0, \"arrowwidth\": 1}, \"coloraxis\": {\"colorbar\": {\"outlinewidth\": 0, \"ticks\": \"\"}}, \"colorscale\": {\"diverging\": [[0, \"#8e0152\"], [0.1, \"#c51b7d\"], [0.2, \"#de77ae\"], [0.3, \"#f1b6da\"], [0.4, \"#fde0ef\"], [0.5, \"#f7f7f7\"], [0.6, \"#e6f5d0\"], [0.7, \"#b8e186\"], [0.8, \"#7fbc41\"], [0.9, \"#4d9221\"], [1, \"#276419\"]], \"sequential\": [[0.0, \"#0d0887\"], [0.1111111111111111, \"#46039f\"], [0.2222222222222222, \"#7201a8\"], [0.3333333333333333, \"#9c179e\"], [0.4444444444444444, \"#bd3786\"], [0.5555555555555556, \"#d8576b\"], [0.6666666666666666, \"#ed7953\"], [0.7777777777777778, \"#fb9f3a\"], [0.8888888888888888, \"#fdca26\"], [1.0, \"#f0f921\"]], \"sequentialminus\": [[0.0, \"#0d0887\"], [0.1111111111111111, \"#46039f\"], [0.2222222222222222, \"#7201a8\"], [0.3333333333333333, \"#9c179e\"], [0.4444444444444444, \"#bd3786\"], [0.5555555555555556, \"#d8576b\"], [0.6666666666666666, \"#ed7953\"], [0.7777777777777778, \"#fb9f3a\"], [0.8888888888888888, \"#fdca26\"], [1.0, \"#f0f921\"]]}, \"colorway\": [\"#636efa\", \"#EF553B\", \"#00cc96\", \"#ab63fa\", \"#FFA15A\", \"#19d3f3\", \"#FF6692\", \"#B6E880\", \"#FF97FF\", \"#FECB52\"], \"font\": {\"color\": \"#2a3f5f\"}, \"geo\": {\"bgcolor\": \"white\", \"lakecolor\": \"white\", \"landcolor\": \"#E5ECF6\", \"showlakes\": true, \"showland\": true, \"subunitcolor\": \"white\"}, \"hoverlabel\": {\"align\": \"left\"}, \"hovermode\": \"closest\", \"mapbox\": {\"style\": \"light\"}, \"paper_bgcolor\": \"white\", \"plot_bgcolor\": \"#E5ECF6\", \"polar\": {\"angularaxis\": {\"gridcolor\": \"white\", \"linecolor\": \"white\", \"ticks\": \"\"}, \"bgcolor\": \"#E5ECF6\", \"radialaxis\": {\"gridcolor\": \"white\", \"linecolor\": \"white\", \"ticks\": \"\"}}, \"scene\": {\"xaxis\": {\"backgroundcolor\": \"#E5ECF6\", \"gridcolor\": \"white\", \"gridwidth\": 2, \"linecolor\": \"white\", \"showbackground\": true, \"ticks\": \"\", \"zerolinecolor\": \"white\"}, \"yaxis\": {\"backgroundcolor\": \"#E5ECF6\", \"gridcolor\": \"white\", \"gridwidth\": 2, \"linecolor\": \"white\", \"showbackground\": true, \"ticks\": \"\", \"zerolinecolor\": \"white\"}, \"zaxis\": {\"backgroundcolor\": \"#E5ECF6\", \"gridcolor\": \"white\", \"gridwidth\": 2, \"linecolor\": \"white\", \"showbackground\": true, \"ticks\": \"\", \"zerolinecolor\": \"white\"}}, \"shapedefaults\": {\"line\": {\"color\": \"#2a3f5f\"}}, \"ternary\": {\"aaxis\": {\"gridcolor\": \"white\", \"linecolor\": \"white\", \"ticks\": \"\"}, \"baxis\": {\"gridcolor\": \"white\", \"linecolor\": \"white\", \"ticks\": \"\"}, \"bgcolor\": \"#E5ECF6\", \"caxis\": {\"gridcolor\": \"white\", \"linecolor\": \"white\", \"ticks\": \"\"}}, \"title\": {\"x\": 0.05}, \"xaxis\": {\"automargin\": true, \"gridcolor\": \"white\", \"linecolor\": \"white\", \"ticks\": \"\", \"title\": {\"standoff\": 15}, \"zerolinecolor\": \"white\", \"zerolinewidth\": 2}, \"yaxis\": {\"automargin\": true, \"gridcolor\": \"white\", \"linecolor\": \"white\", \"ticks\": \"\", \"title\": {\"standoff\": 15}, \"zerolinecolor\": \"white\", \"zerolinewidth\": 2}}}, \"violinmode\": \"group\", \"xaxis\": {\"anchor\": \"y\", \"domain\": [0.0, 1.0]}, \"yaxis\": {\"anchor\": \"x\", \"domain\": [0.0, 1.0], \"title\": {\"text\": \"PayRate\"}}},\n",
       "                        {\"responsive\": true}\n",
       "                    ).then(function(){\n",
       "                            \n",
       "var gd = document.getElementById('7e3ed6cc-3c31-4bb2-8e82-7eff71cc8178');\n",
       "var x = new MutationObserver(function (mutations, observer) {{\n",
       "        var display = window.getComputedStyle(gd).display;\n",
       "        if (!display || display === 'none') {{\n",
       "            console.log([gd, 'removed!']);\n",
       "            Plotly.purge(gd);\n",
       "            observer.disconnect();\n",
       "        }}\n",
       "}});\n",
       "\n",
       "// Listen for the removal of the full notebook cells\n",
       "var notebookContainer = gd.closest('#notebook-container');\n",
       "if (notebookContainer) {{\n",
       "    x.observe(notebookContainer, {childList: true});\n",
       "}}\n",
       "\n",
       "// Listen for the clearing of the current output cell\n",
       "var outputEl = gd.closest('.output');\n",
       "if (outputEl) {{\n",
       "    x.observe(outputEl, {childList: true});\n",
       "}}\n",
       "\n",
       "                        })\n",
       "                };\n",
       "                });\n",
       "            </script>\n",
       "        </div>"
      ]
     },
     "metadata": {},
     "output_type": "display_data"
    }
   ],
   "source": [
    "fig = px.violin(hr, y=\"PayRate\", color=\"RaceDesc\", box=True, hover_data=['Department'])\n",
    "fig.show()"
   ]
  },
  {
   "cell_type": "markdown",
   "metadata": {},
   "source": [
    "## Race and engagement"
   ]
  },
  {
   "cell_type": "code",
   "execution_count": 34,
   "metadata": {
    "collapsed": true
   },
   "outputs": [
    {
     "data": {
      "application/vnd.plotly.v1+json": {
       "config": {
        "plotlyServerURL": "https://plot.ly"
       },
       "data": [
        {
         "histnorm": "probability",
         "marker": {
          "color": "#636EFA"
         },
         "name": "Black or African American: 57",
         "type": "histogram",
         "x": [
          2.04,
          5,
          3.14,
          3.97,
          4.53,
          2,
          1.64,
          2.94,
          4.2,
          3.69,
          2.02,
          2.06,
          4.94,
          4.33,
          4.28,
          2.19,
          3.02,
          3.76,
          4.3,
          3.73,
          1.18,
          5,
          3.88,
          4.21,
          3.66,
          5,
          3.51,
          4.43,
          1.66,
          4.18,
          1.12,
          3.58,
          2.79,
          2.83,
          1.42,
          3.93,
          3.73,
          4.25,
          3.97,
          2.61,
          3.54,
          4.51,
          4.35,
          1.49,
          1.64,
          4.62,
          3.11,
          2.55,
          4.29,
          4,
          1.62,
          4.15,
          3.79,
          2.55,
          1.11,
          5,
          2.94
         ],
         "xaxis": "x",
         "yaxis": "y"
        },
        {
         "histnorm": "probability",
         "marker": {
          "color": "#EF553B"
         },
         "name": "White: 193",
         "type": "histogram",
         "x": [
          3.9,
          3.24,
          5,
          5,
          2.3,
          3.98,
          5,
          3.31,
          4.77,
          1.72,
          1.81,
          2.19,
          4.28,
          4.1,
          3.01,
          1.82,
          4.5,
          1.12,
          1.87,
          1.87,
          4.48,
          1.62,
          3.69,
          3.04,
          3.32,
          5,
          1.22,
          2.96,
          1.99,
          2.55,
          1.21,
          1.84,
          2.21,
          4.11,
          4.61,
          1.2,
          3.81,
          3.31,
          5,
          5,
          4.83,
          3.93,
          5,
          4.52,
          4.63,
          4.78,
          3.66,
          4.16,
          4.83,
          4.13,
          5,
          5,
          2,
          1.12,
          1.56,
          4.76,
          3.49,
          3.08,
          3.18,
          3.45,
          4.81,
          3.98,
          5,
          5,
          1.97,
          5,
          3.99,
          1.04,
          5,
          3.02,
          4.11,
          3.35,
          1.51,
          2.79,
          4.5,
          5,
          2.32,
          5,
          5,
          2.79,
          5,
          1.97,
          2.44,
          4.84,
          5,
          2.73,
          5,
          1.04,
          4.24,
          4,
          1.76,
          3.89,
          5,
          1.27,
          4.73,
          1.86,
          2.05,
          5,
          5,
          5,
          2.86,
          2.45,
          2.79,
          5,
          1.13,
          1.85,
          1.94,
          4.17,
          2.55,
          5,
          2.72,
          3.6,
          3.73,
          2.81,
          5,
          2.05,
          1.5,
          5,
          3.84,
          2.51,
          5,
          5,
          4.12,
          5,
          4.2,
          1.65,
          3.07,
          3.18,
          5,
          3.8,
          1.53,
          4.36,
          3.21,
          5,
          3.8,
          5,
          3.13,
          4.64,
          3.6,
          5,
          4.76,
          3.72,
          1.3,
          1.16,
          1.51,
          5,
          1.67,
          1.3,
          2.04,
          2.67,
          2.19,
          3.4,
          1.38,
          2.92,
          4.53,
          2.41,
          3.93,
          2.7,
          5,
          5,
          4,
          2.08,
          3.25,
          3.66,
          5,
          1.79,
          3.02,
          1.84,
          2.48,
          4.07,
          1.16,
          4.59,
          3.03,
          4.65,
          4.68,
          3.19,
          2.63,
          5,
          1.37,
          4.62,
          1.9,
          1.95,
          3.04,
          4.96,
          1.74,
          2.61,
          3.84,
          5,
          4.96,
          3.88,
          1.55,
          4.46,
          5
         ],
         "xaxis": "x2",
         "yaxis": "y2"
        },
        {
         "histnorm": "probability",
         "marker": {
          "color": "#00CC96"
         },
         "name": "Asian: 34",
         "type": "histogram",
         "x": [
          3.8,
          1.77,
          3.75,
          3.71,
          3.39,
          2.34,
          3.38,
          1.12,
          4.29,
          1.24,
          1.83,
          2.77,
          1.39,
          2.39,
          1.98,
          2.61,
          1.71,
          4.88,
          3.17,
          1.09,
          4.36,
          5,
          1.03,
          2.61,
          4.52,
          5,
          2.09,
          5,
          3.42,
          1.53,
          1.1,
          5,
          3.27,
          1.06
         ],
         "xaxis": "x3",
         "yaxis": "y3"
        },
        {
         "histnorm": "probability",
         "marker": {
          "color": "#AB63FA"
         },
         "name": "American Indian or Alaska Native: 4",
         "type": "histogram",
         "x": [
          3.6,
          1.83,
          4.6,
          2.57
         ],
         "xaxis": "x4",
         "yaxis": "y4"
        },
        {
         "histnorm": "probability",
         "marker": {
          "color": "#FFA15A"
         },
         "name": "Two or more races: 18",
         "type": "histogram",
         "x": [
          3.65,
          4.5,
          1.93,
          2.81,
          2.91,
          5,
          2.51,
          4.64,
          3.39,
          4.46,
          1.41,
          1.44,
          3.09,
          1.05,
          5,
          2.52,
          5,
          3.96
         ],
         "xaxis": "x5",
         "yaxis": "y5"
        },
        {
         "histnorm": "probability",
         "marker": {
          "color": "#19D3F3"
         },
         "name": "Hispanic: 4",
         "type": "histogram",
         "x": [
          2.39,
          4.37,
          1.79,
          2.5
         ],
         "xaxis": "x6",
         "yaxis": "y6"
        }
       ],
       "layout": {
        "height": 900,
        "template": {
         "data": {
          "bar": [
           {
            "error_x": {
             "color": "#2a3f5f"
            },
            "error_y": {
             "color": "#2a3f5f"
            },
            "marker": {
             "line": {
              "color": "#E5ECF6",
              "width": 0.5
             }
            },
            "type": "bar"
           }
          ],
          "barpolar": [
           {
            "marker": {
             "line": {
              "color": "#E5ECF6",
              "width": 0.5
             }
            },
            "type": "barpolar"
           }
          ],
          "carpet": [
           {
            "aaxis": {
             "endlinecolor": "#2a3f5f",
             "gridcolor": "white",
             "linecolor": "white",
             "minorgridcolor": "white",
             "startlinecolor": "#2a3f5f"
            },
            "baxis": {
             "endlinecolor": "#2a3f5f",
             "gridcolor": "white",
             "linecolor": "white",
             "minorgridcolor": "white",
             "startlinecolor": "#2a3f5f"
            },
            "type": "carpet"
           }
          ],
          "choropleth": [
           {
            "colorbar": {
             "outlinewidth": 0,
             "ticks": ""
            },
            "type": "choropleth"
           }
          ],
          "contour": [
           {
            "colorbar": {
             "outlinewidth": 0,
             "ticks": ""
            },
            "colorscale": [
             [
              0,
              "#0d0887"
             ],
             [
              0.1111111111111111,
              "#46039f"
             ],
             [
              0.2222222222222222,
              "#7201a8"
             ],
             [
              0.3333333333333333,
              "#9c179e"
             ],
             [
              0.4444444444444444,
              "#bd3786"
             ],
             [
              0.5555555555555556,
              "#d8576b"
             ],
             [
              0.6666666666666666,
              "#ed7953"
             ],
             [
              0.7777777777777778,
              "#fb9f3a"
             ],
             [
              0.8888888888888888,
              "#fdca26"
             ],
             [
              1,
              "#f0f921"
             ]
            ],
            "type": "contour"
           }
          ],
          "contourcarpet": [
           {
            "colorbar": {
             "outlinewidth": 0,
             "ticks": ""
            },
            "type": "contourcarpet"
           }
          ],
          "heatmap": [
           {
            "colorbar": {
             "outlinewidth": 0,
             "ticks": ""
            },
            "colorscale": [
             [
              0,
              "#0d0887"
             ],
             [
              0.1111111111111111,
              "#46039f"
             ],
             [
              0.2222222222222222,
              "#7201a8"
             ],
             [
              0.3333333333333333,
              "#9c179e"
             ],
             [
              0.4444444444444444,
              "#bd3786"
             ],
             [
              0.5555555555555556,
              "#d8576b"
             ],
             [
              0.6666666666666666,
              "#ed7953"
             ],
             [
              0.7777777777777778,
              "#fb9f3a"
             ],
             [
              0.8888888888888888,
              "#fdca26"
             ],
             [
              1,
              "#f0f921"
             ]
            ],
            "type": "heatmap"
           }
          ],
          "heatmapgl": [
           {
            "colorbar": {
             "outlinewidth": 0,
             "ticks": ""
            },
            "colorscale": [
             [
              0,
              "#0d0887"
             ],
             [
              0.1111111111111111,
              "#46039f"
             ],
             [
              0.2222222222222222,
              "#7201a8"
             ],
             [
              0.3333333333333333,
              "#9c179e"
             ],
             [
              0.4444444444444444,
              "#bd3786"
             ],
             [
              0.5555555555555556,
              "#d8576b"
             ],
             [
              0.6666666666666666,
              "#ed7953"
             ],
             [
              0.7777777777777778,
              "#fb9f3a"
             ],
             [
              0.8888888888888888,
              "#fdca26"
             ],
             [
              1,
              "#f0f921"
             ]
            ],
            "type": "heatmapgl"
           }
          ],
          "histogram": [
           {
            "marker": {
             "colorbar": {
              "outlinewidth": 0,
              "ticks": ""
             }
            },
            "type": "histogram"
           }
          ],
          "histogram2d": [
           {
            "colorbar": {
             "outlinewidth": 0,
             "ticks": ""
            },
            "colorscale": [
             [
              0,
              "#0d0887"
             ],
             [
              0.1111111111111111,
              "#46039f"
             ],
             [
              0.2222222222222222,
              "#7201a8"
             ],
             [
              0.3333333333333333,
              "#9c179e"
             ],
             [
              0.4444444444444444,
              "#bd3786"
             ],
             [
              0.5555555555555556,
              "#d8576b"
             ],
             [
              0.6666666666666666,
              "#ed7953"
             ],
             [
              0.7777777777777778,
              "#fb9f3a"
             ],
             [
              0.8888888888888888,
              "#fdca26"
             ],
             [
              1,
              "#f0f921"
             ]
            ],
            "type": "histogram2d"
           }
          ],
          "histogram2dcontour": [
           {
            "colorbar": {
             "outlinewidth": 0,
             "ticks": ""
            },
            "colorscale": [
             [
              0,
              "#0d0887"
             ],
             [
              0.1111111111111111,
              "#46039f"
             ],
             [
              0.2222222222222222,
              "#7201a8"
             ],
             [
              0.3333333333333333,
              "#9c179e"
             ],
             [
              0.4444444444444444,
              "#bd3786"
             ],
             [
              0.5555555555555556,
              "#d8576b"
             ],
             [
              0.6666666666666666,
              "#ed7953"
             ],
             [
              0.7777777777777778,
              "#fb9f3a"
             ],
             [
              0.8888888888888888,
              "#fdca26"
             ],
             [
              1,
              "#f0f921"
             ]
            ],
            "type": "histogram2dcontour"
           }
          ],
          "mesh3d": [
           {
            "colorbar": {
             "outlinewidth": 0,
             "ticks": ""
            },
            "type": "mesh3d"
           }
          ],
          "parcoords": [
           {
            "line": {
             "colorbar": {
              "outlinewidth": 0,
              "ticks": ""
             }
            },
            "type": "parcoords"
           }
          ],
          "pie": [
           {
            "automargin": true,
            "type": "pie"
           }
          ],
          "scatter": [
           {
            "marker": {
             "colorbar": {
              "outlinewidth": 0,
              "ticks": ""
             }
            },
            "type": "scatter"
           }
          ],
          "scatter3d": [
           {
            "line": {
             "colorbar": {
              "outlinewidth": 0,
              "ticks": ""
             }
            },
            "marker": {
             "colorbar": {
              "outlinewidth": 0,
              "ticks": ""
             }
            },
            "type": "scatter3d"
           }
          ],
          "scattercarpet": [
           {
            "marker": {
             "colorbar": {
              "outlinewidth": 0,
              "ticks": ""
             }
            },
            "type": "scattercarpet"
           }
          ],
          "scattergeo": [
           {
            "marker": {
             "colorbar": {
              "outlinewidth": 0,
              "ticks": ""
             }
            },
            "type": "scattergeo"
           }
          ],
          "scattergl": [
           {
            "marker": {
             "colorbar": {
              "outlinewidth": 0,
              "ticks": ""
             }
            },
            "type": "scattergl"
           }
          ],
          "scattermapbox": [
           {
            "marker": {
             "colorbar": {
              "outlinewidth": 0,
              "ticks": ""
             }
            },
            "type": "scattermapbox"
           }
          ],
          "scatterpolar": [
           {
            "marker": {
             "colorbar": {
              "outlinewidth": 0,
              "ticks": ""
             }
            },
            "type": "scatterpolar"
           }
          ],
          "scatterpolargl": [
           {
            "marker": {
             "colorbar": {
              "outlinewidth": 0,
              "ticks": ""
             }
            },
            "type": "scatterpolargl"
           }
          ],
          "scatterternary": [
           {
            "marker": {
             "colorbar": {
              "outlinewidth": 0,
              "ticks": ""
             }
            },
            "type": "scatterternary"
           }
          ],
          "surface": [
           {
            "colorbar": {
             "outlinewidth": 0,
             "ticks": ""
            },
            "colorscale": [
             [
              0,
              "#0d0887"
             ],
             [
              0.1111111111111111,
              "#46039f"
             ],
             [
              0.2222222222222222,
              "#7201a8"
             ],
             [
              0.3333333333333333,
              "#9c179e"
             ],
             [
              0.4444444444444444,
              "#bd3786"
             ],
             [
              0.5555555555555556,
              "#d8576b"
             ],
             [
              0.6666666666666666,
              "#ed7953"
             ],
             [
              0.7777777777777778,
              "#fb9f3a"
             ],
             [
              0.8888888888888888,
              "#fdca26"
             ],
             [
              1,
              "#f0f921"
             ]
            ],
            "type": "surface"
           }
          ],
          "table": [
           {
            "cells": {
             "fill": {
              "color": "#EBF0F8"
             },
             "line": {
              "color": "white"
             }
            },
            "header": {
             "fill": {
              "color": "#C8D4E3"
             },
             "line": {
              "color": "white"
             }
            },
            "type": "table"
           }
          ]
         },
         "layout": {
          "annotationdefaults": {
           "arrowcolor": "#2a3f5f",
           "arrowhead": 0,
           "arrowwidth": 1
          },
          "coloraxis": {
           "colorbar": {
            "outlinewidth": 0,
            "ticks": ""
           }
          },
          "colorscale": {
           "diverging": [
            [
             0,
             "#8e0152"
            ],
            [
             0.1,
             "#c51b7d"
            ],
            [
             0.2,
             "#de77ae"
            ],
            [
             0.3,
             "#f1b6da"
            ],
            [
             0.4,
             "#fde0ef"
            ],
            [
             0.5,
             "#f7f7f7"
            ],
            [
             0.6,
             "#e6f5d0"
            ],
            [
             0.7,
             "#b8e186"
            ],
            [
             0.8,
             "#7fbc41"
            ],
            [
             0.9,
             "#4d9221"
            ],
            [
             1,
             "#276419"
            ]
           ],
           "sequential": [
            [
             0,
             "#0d0887"
            ],
            [
             0.1111111111111111,
             "#46039f"
            ],
            [
             0.2222222222222222,
             "#7201a8"
            ],
            [
             0.3333333333333333,
             "#9c179e"
            ],
            [
             0.4444444444444444,
             "#bd3786"
            ],
            [
             0.5555555555555556,
             "#d8576b"
            ],
            [
             0.6666666666666666,
             "#ed7953"
            ],
            [
             0.7777777777777778,
             "#fb9f3a"
            ],
            [
             0.8888888888888888,
             "#fdca26"
            ],
            [
             1,
             "#f0f921"
            ]
           ],
           "sequentialminus": [
            [
             0,
             "#0d0887"
            ],
            [
             0.1111111111111111,
             "#46039f"
            ],
            [
             0.2222222222222222,
             "#7201a8"
            ],
            [
             0.3333333333333333,
             "#9c179e"
            ],
            [
             0.4444444444444444,
             "#bd3786"
            ],
            [
             0.5555555555555556,
             "#d8576b"
            ],
            [
             0.6666666666666666,
             "#ed7953"
            ],
            [
             0.7777777777777778,
             "#fb9f3a"
            ],
            [
             0.8888888888888888,
             "#fdca26"
            ],
            [
             1,
             "#f0f921"
            ]
           ]
          },
          "colorway": [
           "#636efa",
           "#EF553B",
           "#00cc96",
           "#ab63fa",
           "#FFA15A",
           "#19d3f3",
           "#FF6692",
           "#B6E880",
           "#FF97FF",
           "#FECB52"
          ],
          "font": {
           "color": "#2a3f5f"
          },
          "geo": {
           "bgcolor": "white",
           "lakecolor": "white",
           "landcolor": "#E5ECF6",
           "showlakes": true,
           "showland": true,
           "subunitcolor": "white"
          },
          "hoverlabel": {
           "align": "left"
          },
          "hovermode": "closest",
          "mapbox": {
           "style": "light"
          },
          "paper_bgcolor": "white",
          "plot_bgcolor": "#E5ECF6",
          "polar": {
           "angularaxis": {
            "gridcolor": "white",
            "linecolor": "white",
            "ticks": ""
           },
           "bgcolor": "#E5ECF6",
           "radialaxis": {
            "gridcolor": "white",
            "linecolor": "white",
            "ticks": ""
           }
          },
          "scene": {
           "xaxis": {
            "backgroundcolor": "#E5ECF6",
            "gridcolor": "white",
            "gridwidth": 2,
            "linecolor": "white",
            "showbackground": true,
            "ticks": "",
            "zerolinecolor": "white"
           },
           "yaxis": {
            "backgroundcolor": "#E5ECF6",
            "gridcolor": "white",
            "gridwidth": 2,
            "linecolor": "white",
            "showbackground": true,
            "ticks": "",
            "zerolinecolor": "white"
           },
           "zaxis": {
            "backgroundcolor": "#E5ECF6",
            "gridcolor": "white",
            "gridwidth": 2,
            "linecolor": "white",
            "showbackground": true,
            "ticks": "",
            "zerolinecolor": "white"
           }
          },
          "shapedefaults": {
           "line": {
            "color": "#2a3f5f"
           }
          },
          "ternary": {
           "aaxis": {
            "gridcolor": "white",
            "linecolor": "white",
            "ticks": ""
           },
           "baxis": {
            "gridcolor": "white",
            "linecolor": "white",
            "ticks": ""
           },
           "bgcolor": "#E5ECF6",
           "caxis": {
            "gridcolor": "white",
            "linecolor": "white",
            "ticks": ""
           }
          },
          "title": {
           "x": 0.05
          },
          "xaxis": {
           "automargin": true,
           "gridcolor": "white",
           "linecolor": "white",
           "ticks": "",
           "title": {
            "standoff": 15
           },
           "zerolinecolor": "white",
           "zerolinewidth": 2
          },
          "yaxis": {
           "automargin": true,
           "gridcolor": "white",
           "linecolor": "white",
           "ticks": "",
           "title": {
            "standoff": 15
           },
           "zerolinecolor": "white",
           "zerolinewidth": 2
          }
         }
        },
        "title": {
         "text": "Engagement for races"
        },
        "width": 900,
        "xaxis": {
         "anchor": "y",
         "domain": [
          0,
          1
         ],
         "matches": "x6",
         "showticklabels": false,
         "title": {
          "text": "EngagementSurvey"
         }
        },
        "xaxis2": {
         "anchor": "y2",
         "domain": [
          0,
          1
         ],
         "matches": "x6",
         "showticklabels": false,
         "title": {
          "text": "EngagementSurvey"
         }
        },
        "xaxis3": {
         "anchor": "y3",
         "domain": [
          0,
          1
         ],
         "matches": "x6",
         "showticklabels": false,
         "title": {
          "text": "EngagementSurvey"
         }
        },
        "xaxis4": {
         "anchor": "y4",
         "domain": [
          0,
          1
         ],
         "matches": "x6",
         "showticklabels": false,
         "title": {
          "text": "EngagementSurvey"
         }
        },
        "xaxis5": {
         "anchor": "y5",
         "domain": [
          0,
          1
         ],
         "matches": "x6",
         "showticklabels": false,
         "title": {
          "text": "EngagementSurvey"
         }
        },
        "xaxis6": {
         "anchor": "y6",
         "domain": [
          0,
          1
         ],
         "title": {
          "text": "EngagementSurvey"
         }
        },
        "yaxis": {
         "anchor": "x",
         "domain": [
          0.9166666666666666,
          1
         ],
         "title": {
          "text": "occurences"
         }
        },
        "yaxis2": {
         "anchor": "x2",
         "domain": [
          0.7333333333333334,
          0.8166666666666668
         ],
         "title": {
          "text": "occurences"
         }
        },
        "yaxis3": {
         "anchor": "x3",
         "domain": [
          0.55,
          0.6333333333333334
         ],
         "title": {
          "text": "occurences"
         }
        },
        "yaxis4": {
         "anchor": "x4",
         "domain": [
          0.3666666666666667,
          0.45
         ],
         "title": {
          "text": "occurences"
         }
        },
        "yaxis5": {
         "anchor": "x5",
         "domain": [
          0.18333333333333335,
          0.26666666666666666
         ],
         "title": {
          "text": "occurences"
         }
        },
        "yaxis6": {
         "anchor": "x6",
         "domain": [
          0,
          0.08333333333333333
         ],
         "title": {
          "text": "occurences"
         }
        }
       }
      },
      "text/html": [
       "<div>\n",
       "        \n",
       "        \n",
       "            <div id=\"4608a54d-9feb-436a-95fe-5a9463886c6e\" class=\"plotly-graph-div\" style=\"height:900px; width:900px;\"></div>\n",
       "            <script type=\"text/javascript\">\n",
       "                require([\"plotly\"], function(Plotly) {\n",
       "                    window.PLOTLYENV=window.PLOTLYENV || {};\n",
       "                    \n",
       "                if (document.getElementById(\"4608a54d-9feb-436a-95fe-5a9463886c6e\")) {\n",
       "                    Plotly.newPlot(\n",
       "                        '4608a54d-9feb-436a-95fe-5a9463886c6e',\n",
       "                        [{\"histnorm\": \"probability\", \"marker\": {\"color\": \"#636EFA\"}, \"name\": \"Black or African American: 57\", \"type\": \"histogram\", \"x\": [2.04, 5.0, 3.14, 3.97, 4.53, 2.0, 1.64, 2.94, 4.2, 3.69, 2.02, 2.06, 4.94, 4.33, 4.28, 2.19, 3.02, 3.76, 4.3, 3.73, 1.18, 5.0, 3.88, 4.21, 3.66, 5.0, 3.51, 4.43, 1.66, 4.18, 1.12, 3.58, 2.79, 2.83, 1.42, 3.93, 3.73, 4.25, 3.97, 2.61, 3.54, 4.51, 4.35, 1.49, 1.64, 4.62, 3.11, 2.55, 4.29, 4.0, 1.62, 4.15, 3.79, 2.55, 1.11, 5.0, 2.94], \"xaxis\": \"x\", \"yaxis\": \"y\"}, {\"histnorm\": \"probability\", \"marker\": {\"color\": \"#EF553B\"}, \"name\": \"White: 193\", \"type\": \"histogram\", \"x\": [3.9, 3.24, 5.0, 5.0, 2.3, 3.98, 5.0, 3.31, 4.77, 1.72, 1.81, 2.19, 4.28, 4.1, 3.01, 1.82, 4.5, 1.12, 1.87, 1.87, 4.48, 1.62, 3.69, 3.04, 3.32, 5.0, 1.22, 2.96, 1.99, 2.55, 1.21, 1.84, 2.21, 4.11, 4.61, 1.2, 3.81, 3.31, 5.0, 5.0, 4.83, 3.93, 5.0, 4.52, 4.63, 4.78, 3.66, 4.16, 4.83, 4.13, 5.0, 5.0, 2.0, 1.12, 1.56, 4.76, 3.49, 3.08, 3.18, 3.45, 4.81, 3.98, 5.0, 5.0, 1.97, 5.0, 3.99, 1.04, 5.0, 3.02, 4.11, 3.35, 1.51, 2.79, 4.5, 5.0, 2.32, 5.0, 5.0, 2.79, 5.0, 1.97, 2.44, 4.84, 5.0, 2.73, 5.0, 1.04, 4.24, 4.0, 1.76, 3.89, 5.0, 1.27, 4.73, 1.86, 2.05, 5.0, 5.0, 5.0, 2.86, 2.45, 2.79, 5.0, 1.13, 1.85, 1.94, 4.17, 2.55, 5.0, 2.72, 3.6, 3.73, 2.81, 5.0, 2.05, 1.5, 5.0, 3.84, 2.51, 5.0, 5.0, 4.12, 5.0, 4.2, 1.65, 3.07, 3.18, 5.0, 3.8, 1.53, 4.36, 3.21, 5.0, 3.8, 5.0, 3.13, 4.64, 3.6, 5.0, 4.76, 3.72, 1.3, 1.16, 1.51, 5.0, 1.67, 1.3, 2.04, 2.67, 2.19, 3.4, 1.38, 2.92, 4.53, 2.41, 3.93, 2.7, 5.0, 5.0, 4.0, 2.08, 3.25, 3.66, 5.0, 1.79, 3.02, 1.84, 2.48, 4.07, 1.16, 4.59, 3.03, 4.65, 4.68, 3.19, 2.63, 5.0, 1.37, 4.62, 1.9, 1.95, 3.04, 4.96, 1.74, 2.61, 3.84, 5.0, 4.96, 3.88, 1.55, 4.46, 5.0], \"xaxis\": \"x2\", \"yaxis\": \"y2\"}, {\"histnorm\": \"probability\", \"marker\": {\"color\": \"#00CC96\"}, \"name\": \"Asian: 34\", \"type\": \"histogram\", \"x\": [3.8, 1.77, 3.75, 3.71, 3.39, 2.34, 3.38, 1.12, 4.29, 1.24, 1.83, 2.77, 1.39, 2.39, 1.98, 2.61, 1.71, 4.88, 3.17, 1.09, 4.36, 5.0, 1.03, 2.61, 4.52, 5.0, 2.09, 5.0, 3.42, 1.53, 1.1, 5.0, 3.27, 1.06], \"xaxis\": \"x3\", \"yaxis\": \"y3\"}, {\"histnorm\": \"probability\", \"marker\": {\"color\": \"#AB63FA\"}, \"name\": \"American Indian or Alaska Native: 4\", \"type\": \"histogram\", \"x\": [3.6, 1.83, 4.6, 2.57], \"xaxis\": \"x4\", \"yaxis\": \"y4\"}, {\"histnorm\": \"probability\", \"marker\": {\"color\": \"#FFA15A\"}, \"name\": \"Two or more races: 18\", \"type\": \"histogram\", \"x\": [3.65, 4.5, 1.93, 2.81, 2.91, 5.0, 2.51, 4.64, 3.39, 4.46, 1.41, 1.44, 3.09, 1.05, 5.0, 2.52, 5.0, 3.96], \"xaxis\": \"x5\", \"yaxis\": \"y5\"}, {\"histnorm\": \"probability\", \"marker\": {\"color\": \"#19D3F3\"}, \"name\": \"Hispanic: 4\", \"type\": \"histogram\", \"x\": [2.39, 4.37, 1.79, 2.5], \"xaxis\": \"x6\", \"yaxis\": \"y6\"}],\n",
       "                        {\"height\": 900, \"template\": {\"data\": {\"bar\": [{\"error_x\": {\"color\": \"#2a3f5f\"}, \"error_y\": {\"color\": \"#2a3f5f\"}, \"marker\": {\"line\": {\"color\": \"#E5ECF6\", \"width\": 0.5}}, \"type\": \"bar\"}], \"barpolar\": [{\"marker\": {\"line\": {\"color\": \"#E5ECF6\", \"width\": 0.5}}, \"type\": \"barpolar\"}], \"carpet\": [{\"aaxis\": {\"endlinecolor\": \"#2a3f5f\", \"gridcolor\": \"white\", \"linecolor\": \"white\", \"minorgridcolor\": \"white\", \"startlinecolor\": \"#2a3f5f\"}, \"baxis\": {\"endlinecolor\": \"#2a3f5f\", \"gridcolor\": \"white\", \"linecolor\": \"white\", \"minorgridcolor\": \"white\", \"startlinecolor\": \"#2a3f5f\"}, \"type\": \"carpet\"}], \"choropleth\": [{\"colorbar\": {\"outlinewidth\": 0, \"ticks\": \"\"}, \"type\": \"choropleth\"}], \"contour\": [{\"colorbar\": {\"outlinewidth\": 0, \"ticks\": \"\"}, \"colorscale\": [[0.0, \"#0d0887\"], [0.1111111111111111, \"#46039f\"], [0.2222222222222222, \"#7201a8\"], [0.3333333333333333, \"#9c179e\"], [0.4444444444444444, \"#bd3786\"], [0.5555555555555556, \"#d8576b\"], [0.6666666666666666, \"#ed7953\"], [0.7777777777777778, \"#fb9f3a\"], [0.8888888888888888, \"#fdca26\"], [1.0, \"#f0f921\"]], \"type\": \"contour\"}], \"contourcarpet\": [{\"colorbar\": {\"outlinewidth\": 0, \"ticks\": \"\"}, \"type\": \"contourcarpet\"}], \"heatmap\": [{\"colorbar\": {\"outlinewidth\": 0, \"ticks\": \"\"}, \"colorscale\": [[0.0, \"#0d0887\"], [0.1111111111111111, \"#46039f\"], [0.2222222222222222, \"#7201a8\"], [0.3333333333333333, \"#9c179e\"], [0.4444444444444444, \"#bd3786\"], [0.5555555555555556, \"#d8576b\"], [0.6666666666666666, \"#ed7953\"], [0.7777777777777778, \"#fb9f3a\"], [0.8888888888888888, \"#fdca26\"], [1.0, \"#f0f921\"]], \"type\": \"heatmap\"}], \"heatmapgl\": [{\"colorbar\": {\"outlinewidth\": 0, \"ticks\": \"\"}, \"colorscale\": [[0.0, \"#0d0887\"], [0.1111111111111111, \"#46039f\"], [0.2222222222222222, \"#7201a8\"], [0.3333333333333333, \"#9c179e\"], [0.4444444444444444, \"#bd3786\"], [0.5555555555555556, \"#d8576b\"], [0.6666666666666666, \"#ed7953\"], [0.7777777777777778, \"#fb9f3a\"], [0.8888888888888888, \"#fdca26\"], [1.0, \"#f0f921\"]], \"type\": \"heatmapgl\"}], \"histogram\": [{\"marker\": {\"colorbar\": {\"outlinewidth\": 0, \"ticks\": \"\"}}, \"type\": \"histogram\"}], \"histogram2d\": [{\"colorbar\": {\"outlinewidth\": 0, \"ticks\": \"\"}, \"colorscale\": [[0.0, \"#0d0887\"], [0.1111111111111111, \"#46039f\"], [0.2222222222222222, \"#7201a8\"], [0.3333333333333333, \"#9c179e\"], [0.4444444444444444, \"#bd3786\"], [0.5555555555555556, \"#d8576b\"], [0.6666666666666666, \"#ed7953\"], [0.7777777777777778, \"#fb9f3a\"], [0.8888888888888888, \"#fdca26\"], [1.0, \"#f0f921\"]], \"type\": \"histogram2d\"}], \"histogram2dcontour\": [{\"colorbar\": {\"outlinewidth\": 0, \"ticks\": \"\"}, \"colorscale\": [[0.0, \"#0d0887\"], [0.1111111111111111, \"#46039f\"], [0.2222222222222222, \"#7201a8\"], [0.3333333333333333, \"#9c179e\"], [0.4444444444444444, \"#bd3786\"], [0.5555555555555556, \"#d8576b\"], [0.6666666666666666, \"#ed7953\"], [0.7777777777777778, \"#fb9f3a\"], [0.8888888888888888, \"#fdca26\"], [1.0, \"#f0f921\"]], \"type\": \"histogram2dcontour\"}], \"mesh3d\": [{\"colorbar\": {\"outlinewidth\": 0, \"ticks\": \"\"}, \"type\": \"mesh3d\"}], \"parcoords\": [{\"line\": {\"colorbar\": {\"outlinewidth\": 0, \"ticks\": \"\"}}, \"type\": \"parcoords\"}], \"pie\": [{\"automargin\": true, \"type\": \"pie\"}], \"scatter\": [{\"marker\": {\"colorbar\": {\"outlinewidth\": 0, \"ticks\": \"\"}}, \"type\": \"scatter\"}], \"scatter3d\": [{\"line\": {\"colorbar\": {\"outlinewidth\": 0, \"ticks\": \"\"}}, \"marker\": {\"colorbar\": {\"outlinewidth\": 0, \"ticks\": \"\"}}, \"type\": \"scatter3d\"}], \"scattercarpet\": [{\"marker\": {\"colorbar\": {\"outlinewidth\": 0, \"ticks\": \"\"}}, \"type\": \"scattercarpet\"}], \"scattergeo\": [{\"marker\": {\"colorbar\": {\"outlinewidth\": 0, \"ticks\": \"\"}}, \"type\": \"scattergeo\"}], \"scattergl\": [{\"marker\": {\"colorbar\": {\"outlinewidth\": 0, \"ticks\": \"\"}}, \"type\": \"scattergl\"}], \"scattermapbox\": [{\"marker\": {\"colorbar\": {\"outlinewidth\": 0, \"ticks\": \"\"}}, \"type\": \"scattermapbox\"}], \"scatterpolar\": [{\"marker\": {\"colorbar\": {\"outlinewidth\": 0, \"ticks\": \"\"}}, \"type\": \"scatterpolar\"}], \"scatterpolargl\": [{\"marker\": {\"colorbar\": {\"outlinewidth\": 0, \"ticks\": \"\"}}, \"type\": \"scatterpolargl\"}], \"scatterternary\": [{\"marker\": {\"colorbar\": {\"outlinewidth\": 0, \"ticks\": \"\"}}, \"type\": \"scatterternary\"}], \"surface\": [{\"colorbar\": {\"outlinewidth\": 0, \"ticks\": \"\"}, \"colorscale\": [[0.0, \"#0d0887\"], [0.1111111111111111, \"#46039f\"], [0.2222222222222222, \"#7201a8\"], [0.3333333333333333, \"#9c179e\"], [0.4444444444444444, \"#bd3786\"], [0.5555555555555556, \"#d8576b\"], [0.6666666666666666, \"#ed7953\"], [0.7777777777777778, \"#fb9f3a\"], [0.8888888888888888, \"#fdca26\"], [1.0, \"#f0f921\"]], \"type\": \"surface\"}], \"table\": [{\"cells\": {\"fill\": {\"color\": \"#EBF0F8\"}, \"line\": {\"color\": \"white\"}}, \"header\": {\"fill\": {\"color\": \"#C8D4E3\"}, \"line\": {\"color\": \"white\"}}, \"type\": \"table\"}]}, \"layout\": {\"annotationdefaults\": {\"arrowcolor\": \"#2a3f5f\", \"arrowhead\": 0, \"arrowwidth\": 1}, \"coloraxis\": {\"colorbar\": {\"outlinewidth\": 0, \"ticks\": \"\"}}, \"colorscale\": {\"diverging\": [[0, \"#8e0152\"], [0.1, \"#c51b7d\"], [0.2, \"#de77ae\"], [0.3, \"#f1b6da\"], [0.4, \"#fde0ef\"], [0.5, \"#f7f7f7\"], [0.6, \"#e6f5d0\"], [0.7, \"#b8e186\"], [0.8, \"#7fbc41\"], [0.9, \"#4d9221\"], [1, \"#276419\"]], \"sequential\": [[0.0, \"#0d0887\"], [0.1111111111111111, \"#46039f\"], [0.2222222222222222, \"#7201a8\"], [0.3333333333333333, \"#9c179e\"], [0.4444444444444444, \"#bd3786\"], [0.5555555555555556, \"#d8576b\"], [0.6666666666666666, \"#ed7953\"], [0.7777777777777778, \"#fb9f3a\"], [0.8888888888888888, \"#fdca26\"], [1.0, \"#f0f921\"]], \"sequentialminus\": [[0.0, \"#0d0887\"], [0.1111111111111111, \"#46039f\"], [0.2222222222222222, \"#7201a8\"], [0.3333333333333333, \"#9c179e\"], [0.4444444444444444, \"#bd3786\"], [0.5555555555555556, \"#d8576b\"], [0.6666666666666666, \"#ed7953\"], [0.7777777777777778, \"#fb9f3a\"], [0.8888888888888888, \"#fdca26\"], [1.0, \"#f0f921\"]]}, \"colorway\": [\"#636efa\", \"#EF553B\", \"#00cc96\", \"#ab63fa\", \"#FFA15A\", \"#19d3f3\", \"#FF6692\", \"#B6E880\", \"#FF97FF\", \"#FECB52\"], \"font\": {\"color\": \"#2a3f5f\"}, \"geo\": {\"bgcolor\": \"white\", \"lakecolor\": \"white\", \"landcolor\": \"#E5ECF6\", \"showlakes\": true, \"showland\": true, \"subunitcolor\": \"white\"}, \"hoverlabel\": {\"align\": \"left\"}, \"hovermode\": \"closest\", \"mapbox\": {\"style\": \"light\"}, \"paper_bgcolor\": \"white\", \"plot_bgcolor\": \"#E5ECF6\", \"polar\": {\"angularaxis\": {\"gridcolor\": \"white\", \"linecolor\": \"white\", \"ticks\": \"\"}, \"bgcolor\": \"#E5ECF6\", \"radialaxis\": {\"gridcolor\": \"white\", \"linecolor\": \"white\", \"ticks\": \"\"}}, \"scene\": {\"xaxis\": {\"backgroundcolor\": \"#E5ECF6\", \"gridcolor\": \"white\", \"gridwidth\": 2, \"linecolor\": \"white\", \"showbackground\": true, \"ticks\": \"\", \"zerolinecolor\": \"white\"}, \"yaxis\": {\"backgroundcolor\": \"#E5ECF6\", \"gridcolor\": \"white\", \"gridwidth\": 2, \"linecolor\": \"white\", \"showbackground\": true, \"ticks\": \"\", \"zerolinecolor\": \"white\"}, \"zaxis\": {\"backgroundcolor\": \"#E5ECF6\", \"gridcolor\": \"white\", \"gridwidth\": 2, \"linecolor\": \"white\", \"showbackground\": true, \"ticks\": \"\", \"zerolinecolor\": \"white\"}}, \"shapedefaults\": {\"line\": {\"color\": \"#2a3f5f\"}}, \"ternary\": {\"aaxis\": {\"gridcolor\": \"white\", \"linecolor\": \"white\", \"ticks\": \"\"}, \"baxis\": {\"gridcolor\": \"white\", \"linecolor\": \"white\", \"ticks\": \"\"}, \"bgcolor\": \"#E5ECF6\", \"caxis\": {\"gridcolor\": \"white\", \"linecolor\": \"white\", \"ticks\": \"\"}}, \"title\": {\"x\": 0.05}, \"xaxis\": {\"automargin\": true, \"gridcolor\": \"white\", \"linecolor\": \"white\", \"ticks\": \"\", \"title\": {\"standoff\": 15}, \"zerolinecolor\": \"white\", \"zerolinewidth\": 2}, \"yaxis\": {\"automargin\": true, \"gridcolor\": \"white\", \"linecolor\": \"white\", \"ticks\": \"\", \"title\": {\"standoff\": 15}, \"zerolinecolor\": \"white\", \"zerolinewidth\": 2}}}, \"title\": {\"text\": \"Engagement for races\"}, \"width\": 900, \"xaxis\": {\"anchor\": \"y\", \"domain\": [0.0, 1.0], \"matches\": \"x6\", \"showticklabels\": false, \"title\": {\"text\": \"EngagementSurvey\"}}, \"xaxis2\": {\"anchor\": \"y2\", \"domain\": [0.0, 1.0], \"matches\": \"x6\", \"showticklabels\": false, \"title\": {\"text\": \"EngagementSurvey\"}}, \"xaxis3\": {\"anchor\": \"y3\", \"domain\": [0.0, 1.0], \"matches\": \"x6\", \"showticklabels\": false, \"title\": {\"text\": \"EngagementSurvey\"}}, \"xaxis4\": {\"anchor\": \"y4\", \"domain\": [0.0, 1.0], \"matches\": \"x6\", \"showticklabels\": false, \"title\": {\"text\": \"EngagementSurvey\"}}, \"xaxis5\": {\"anchor\": \"y5\", \"domain\": [0.0, 1.0], \"matches\": \"x6\", \"showticklabels\": false, \"title\": {\"text\": \"EngagementSurvey\"}}, \"xaxis6\": {\"anchor\": \"y6\", \"domain\": [0.0, 1.0], \"title\": {\"text\": \"EngagementSurvey\"}}, \"yaxis\": {\"anchor\": \"x\", \"domain\": [0.9166666666666666, 1.0], \"title\": {\"text\": \"occurences\"}}, \"yaxis2\": {\"anchor\": \"x2\", \"domain\": [0.7333333333333334, 0.8166666666666668], \"title\": {\"text\": \"occurences\"}}, \"yaxis3\": {\"anchor\": \"x3\", \"domain\": [0.55, 0.6333333333333334], \"title\": {\"text\": \"occurences\"}}, \"yaxis4\": {\"anchor\": \"x4\", \"domain\": [0.3666666666666667, 0.45], \"title\": {\"text\": \"occurences\"}}, \"yaxis5\": {\"anchor\": \"x5\", \"domain\": [0.18333333333333335, 0.26666666666666666], \"title\": {\"text\": \"occurences\"}}, \"yaxis6\": {\"anchor\": \"x6\", \"domain\": [0.0, 0.08333333333333333], \"title\": {\"text\": \"occurences\"}}},\n",
       "                        {\"responsive\": true}\n",
       "                    ).then(function(){\n",
       "                            \n",
       "var gd = document.getElementById('4608a54d-9feb-436a-95fe-5a9463886c6e');\n",
       "var x = new MutationObserver(function (mutations, observer) {{\n",
       "        var display = window.getComputedStyle(gd).display;\n",
       "        if (!display || display === 'none') {{\n",
       "            console.log([gd, 'removed!']);\n",
       "            Plotly.purge(gd);\n",
       "            observer.disconnect();\n",
       "        }}\n",
       "}});\n",
       "\n",
       "// Listen for the removal of the full notebook cells\n",
       "var notebookContainer = gd.closest('#notebook-container');\n",
       "if (notebookContainer) {{\n",
       "    x.observe(notebookContainer, {childList: true});\n",
       "}}\n",
       "\n",
       "// Listen for the clearing of the current output cell\n",
       "var outputEl = gd.closest('.output');\n",
       "if (outputEl) {{\n",
       "    x.observe(outputEl, {childList: true});\n",
       "}}\n",
       "\n",
       "                        })\n",
       "                };\n",
       "                });\n",
       "            </script>\n",
       "        </div>"
      ]
     },
     "metadata": {},
     "output_type": "display_data"
    }
   ],
   "source": [
    "fig = hist(hr, \"RaceDesc\", \"EngagementSurvey\", \"Engagement for races\", color)\n",
    "fig.update_layout(height=900, width=900)\n",
    "fig.show()"
   ]
  },
  {
   "cell_type": "markdown",
   "metadata": {},
   "source": [
    "I changed the bin width here as well, which turned out to be quite a good thing. I lost the \"sombreros\" for two of the plots, which turned to have no values in the midpoints of the plot.  \n",
    "That is at least what I initially thought. As the data of Indians had extremely discrete structure, the calibration of the bin number should have been reconsidered. I used more scientific approach, setting the bin number to the square root of the number of samples for each histogram. It turned out that the number came back to the original value. Therefore, I checked the number of samples and wrote it down on the plots (there are final versions in this report). This way I realised that such a strange behaviour is to be expected - the numbers were simply smaller than for the rest of the categories and resulted in such unclear histograms."
   ]
  },
  {
   "cell_type": "markdown",
   "metadata": {},
   "source": [
    "## Merged rarer races"
   ]
  },
  {
   "cell_type": "markdown",
   "metadata": {},
   "source": [
    "Therefore, I merged all the less common race categories into one, called \"other\". After that, I plotted the histograms once again:"
   ]
  },
  {
   "cell_type": "code",
   "execution_count": 36,
   "metadata": {},
   "outputs": [],
   "source": [
    "color = opacity_conv(palette_4, 0.8)"
   ]
  },
  {
   "cell_type": "code",
   "execution_count": 38,
   "metadata": {
    "code_folding": [
     0
    ],
    "collapsed": true
   },
   "outputs": [
    {
     "data": {
      "application/vnd.plotly.v1+json": {
       "config": {
        "plotlyServerURL": "https://plot.ly"
       },
       "data": [
        {
         "histnorm": "probability",
         "marker": {
          "color": "#329353"
         },
         "name": "Black or African American: 57",
         "type": "histogram",
         "x": [
          2.04,
          5,
          3.14,
          3.97,
          4.53,
          2,
          1.64,
          2.94,
          4.2,
          3.69,
          2.02,
          2.06,
          4.94,
          4.33,
          4.28,
          2.19,
          3.02,
          3.76,
          4.3,
          3.73,
          1.18,
          5,
          3.88,
          4.21,
          3.66,
          5,
          3.51,
          4.43,
          1.66,
          4.18,
          1.12,
          3.58,
          2.79,
          2.83,
          1.42,
          3.93,
          3.73,
          4.25,
          3.97,
          2.61,
          3.54,
          4.51,
          4.35,
          1.49,
          1.64,
          4.62,
          3.11,
          2.55,
          4.29,
          4,
          1.62,
          4.15,
          3.79,
          2.55,
          1.11,
          5,
          2.94
         ],
         "xaxis": "x",
         "yaxis": "y"
        },
        {
         "histnorm": "probability",
         "marker": {
          "color": "#347186"
         },
         "name": "White: 193",
         "type": "histogram",
         "x": [
          3.9,
          3.24,
          5,
          5,
          2.3,
          3.98,
          5,
          3.31,
          4.77,
          1.72,
          1.81,
          2.19,
          4.28,
          4.1,
          3.01,
          1.82,
          4.5,
          1.12,
          1.87,
          1.87,
          4.48,
          1.62,
          3.69,
          3.04,
          3.32,
          5,
          1.22,
          2.96,
          1.99,
          2.55,
          1.21,
          1.84,
          2.21,
          4.11,
          4.61,
          1.2,
          3.81,
          3.31,
          5,
          5,
          4.83,
          3.93,
          5,
          4.52,
          4.63,
          4.78,
          3.66,
          4.16,
          4.83,
          4.13,
          5,
          5,
          2,
          1.12,
          1.56,
          4.76,
          3.49,
          3.08,
          3.18,
          3.45,
          4.81,
          3.98,
          5,
          5,
          1.97,
          5,
          3.99,
          1.04,
          5,
          3.02,
          4.11,
          3.35,
          1.51,
          2.79,
          4.5,
          5,
          2.32,
          5,
          5,
          2.79,
          5,
          1.97,
          2.44,
          4.84,
          5,
          2.73,
          5,
          1.04,
          4.24,
          4,
          1.76,
          3.89,
          5,
          1.27,
          4.73,
          1.86,
          2.05,
          5,
          5,
          5,
          2.86,
          2.45,
          2.79,
          5,
          1.13,
          1.85,
          1.94,
          4.17,
          2.55,
          5,
          2.72,
          3.6,
          3.73,
          2.81,
          5,
          2.05,
          1.5,
          5,
          3.84,
          2.51,
          5,
          5,
          4.12,
          5,
          4.2,
          1.65,
          3.07,
          3.18,
          5,
          3.8,
          1.53,
          4.36,
          3.21,
          5,
          3.8,
          5,
          3.13,
          4.64,
          3.6,
          5,
          4.76,
          3.72,
          1.3,
          1.16,
          1.51,
          5,
          1.67,
          1.3,
          2.04,
          2.67,
          2.19,
          3.4,
          1.38,
          2.92,
          4.53,
          2.41,
          3.93,
          2.7,
          5,
          5,
          4,
          2.08,
          3.25,
          3.66,
          5,
          1.79,
          3.02,
          1.84,
          2.48,
          4.07,
          1.16,
          4.59,
          3.03,
          4.65,
          4.68,
          3.19,
          2.63,
          5,
          1.37,
          4.62,
          1.9,
          1.95,
          3.04,
          4.96,
          1.74,
          2.61,
          3.84,
          5,
          4.96,
          3.88,
          1.55,
          4.46,
          5
         ],
         "xaxis": "x2",
         "yaxis": "y2"
        },
        {
         "histnorm": "probability",
         "marker": {
          "color": "#b77632"
         },
         "name": "Asian: 34",
         "type": "histogram",
         "x": [
          3.8,
          1.77,
          3.75,
          3.71,
          3.39,
          2.34,
          3.38,
          1.12,
          4.29,
          1.24,
          1.83,
          2.77,
          1.39,
          2.39,
          1.98,
          2.61,
          1.71,
          4.88,
          3.17,
          1.09,
          4.36,
          5,
          1.03,
          2.61,
          4.52,
          5,
          2.09,
          5,
          3.42,
          1.53,
          1.1,
          5,
          3.27,
          1.06
         ],
         "xaxis": "x3",
         "yaxis": "y3"
        },
        {
         "histnorm": "probability",
         "marker": {
          "color": "#b74732"
         },
         "name": "other: 26",
         "type": "histogram",
         "x": [
          3.6,
          3.65,
          4.5,
          1.93,
          2.81,
          2.91,
          5,
          2.51,
          2.39,
          4.64,
          4.37,
          3.39,
          4.46,
          1.83,
          1.79,
          1.41,
          1.44,
          3.09,
          1.05,
          5,
          2.52,
          5,
          2.5,
          4.6,
          3.96,
          2.57
         ],
         "xaxis": "x4",
         "yaxis": "y4"
        }
       ],
       "layout": {
        "height": 600,
        "template": {
         "data": {
          "bar": [
           {
            "error_x": {
             "color": "#2a3f5f"
            },
            "error_y": {
             "color": "#2a3f5f"
            },
            "marker": {
             "line": {
              "color": "#E5ECF6",
              "width": 0.5
             }
            },
            "type": "bar"
           }
          ],
          "barpolar": [
           {
            "marker": {
             "line": {
              "color": "#E5ECF6",
              "width": 0.5
             }
            },
            "type": "barpolar"
           }
          ],
          "carpet": [
           {
            "aaxis": {
             "endlinecolor": "#2a3f5f",
             "gridcolor": "white",
             "linecolor": "white",
             "minorgridcolor": "white",
             "startlinecolor": "#2a3f5f"
            },
            "baxis": {
             "endlinecolor": "#2a3f5f",
             "gridcolor": "white",
             "linecolor": "white",
             "minorgridcolor": "white",
             "startlinecolor": "#2a3f5f"
            },
            "type": "carpet"
           }
          ],
          "choropleth": [
           {
            "colorbar": {
             "outlinewidth": 0,
             "ticks": ""
            },
            "type": "choropleth"
           }
          ],
          "contour": [
           {
            "colorbar": {
             "outlinewidth": 0,
             "ticks": ""
            },
            "colorscale": [
             [
              0,
              "#0d0887"
             ],
             [
              0.1111111111111111,
              "#46039f"
             ],
             [
              0.2222222222222222,
              "#7201a8"
             ],
             [
              0.3333333333333333,
              "#9c179e"
             ],
             [
              0.4444444444444444,
              "#bd3786"
             ],
             [
              0.5555555555555556,
              "#d8576b"
             ],
             [
              0.6666666666666666,
              "#ed7953"
             ],
             [
              0.7777777777777778,
              "#fb9f3a"
             ],
             [
              0.8888888888888888,
              "#fdca26"
             ],
             [
              1,
              "#f0f921"
             ]
            ],
            "type": "contour"
           }
          ],
          "contourcarpet": [
           {
            "colorbar": {
             "outlinewidth": 0,
             "ticks": ""
            },
            "type": "contourcarpet"
           }
          ],
          "heatmap": [
           {
            "colorbar": {
             "outlinewidth": 0,
             "ticks": ""
            },
            "colorscale": [
             [
              0,
              "#0d0887"
             ],
             [
              0.1111111111111111,
              "#46039f"
             ],
             [
              0.2222222222222222,
              "#7201a8"
             ],
             [
              0.3333333333333333,
              "#9c179e"
             ],
             [
              0.4444444444444444,
              "#bd3786"
             ],
             [
              0.5555555555555556,
              "#d8576b"
             ],
             [
              0.6666666666666666,
              "#ed7953"
             ],
             [
              0.7777777777777778,
              "#fb9f3a"
             ],
             [
              0.8888888888888888,
              "#fdca26"
             ],
             [
              1,
              "#f0f921"
             ]
            ],
            "type": "heatmap"
           }
          ],
          "heatmapgl": [
           {
            "colorbar": {
             "outlinewidth": 0,
             "ticks": ""
            },
            "colorscale": [
             [
              0,
              "#0d0887"
             ],
             [
              0.1111111111111111,
              "#46039f"
             ],
             [
              0.2222222222222222,
              "#7201a8"
             ],
             [
              0.3333333333333333,
              "#9c179e"
             ],
             [
              0.4444444444444444,
              "#bd3786"
             ],
             [
              0.5555555555555556,
              "#d8576b"
             ],
             [
              0.6666666666666666,
              "#ed7953"
             ],
             [
              0.7777777777777778,
              "#fb9f3a"
             ],
             [
              0.8888888888888888,
              "#fdca26"
             ],
             [
              1,
              "#f0f921"
             ]
            ],
            "type": "heatmapgl"
           }
          ],
          "histogram": [
           {
            "marker": {
             "colorbar": {
              "outlinewidth": 0,
              "ticks": ""
             }
            },
            "type": "histogram"
           }
          ],
          "histogram2d": [
           {
            "colorbar": {
             "outlinewidth": 0,
             "ticks": ""
            },
            "colorscale": [
             [
              0,
              "#0d0887"
             ],
             [
              0.1111111111111111,
              "#46039f"
             ],
             [
              0.2222222222222222,
              "#7201a8"
             ],
             [
              0.3333333333333333,
              "#9c179e"
             ],
             [
              0.4444444444444444,
              "#bd3786"
             ],
             [
              0.5555555555555556,
              "#d8576b"
             ],
             [
              0.6666666666666666,
              "#ed7953"
             ],
             [
              0.7777777777777778,
              "#fb9f3a"
             ],
             [
              0.8888888888888888,
              "#fdca26"
             ],
             [
              1,
              "#f0f921"
             ]
            ],
            "type": "histogram2d"
           }
          ],
          "histogram2dcontour": [
           {
            "colorbar": {
             "outlinewidth": 0,
             "ticks": ""
            },
            "colorscale": [
             [
              0,
              "#0d0887"
             ],
             [
              0.1111111111111111,
              "#46039f"
             ],
             [
              0.2222222222222222,
              "#7201a8"
             ],
             [
              0.3333333333333333,
              "#9c179e"
             ],
             [
              0.4444444444444444,
              "#bd3786"
             ],
             [
              0.5555555555555556,
              "#d8576b"
             ],
             [
              0.6666666666666666,
              "#ed7953"
             ],
             [
              0.7777777777777778,
              "#fb9f3a"
             ],
             [
              0.8888888888888888,
              "#fdca26"
             ],
             [
              1,
              "#f0f921"
             ]
            ],
            "type": "histogram2dcontour"
           }
          ],
          "mesh3d": [
           {
            "colorbar": {
             "outlinewidth": 0,
             "ticks": ""
            },
            "type": "mesh3d"
           }
          ],
          "parcoords": [
           {
            "line": {
             "colorbar": {
              "outlinewidth": 0,
              "ticks": ""
             }
            },
            "type": "parcoords"
           }
          ],
          "pie": [
           {
            "automargin": true,
            "type": "pie"
           }
          ],
          "scatter": [
           {
            "marker": {
             "colorbar": {
              "outlinewidth": 0,
              "ticks": ""
             }
            },
            "type": "scatter"
           }
          ],
          "scatter3d": [
           {
            "line": {
             "colorbar": {
              "outlinewidth": 0,
              "ticks": ""
             }
            },
            "marker": {
             "colorbar": {
              "outlinewidth": 0,
              "ticks": ""
             }
            },
            "type": "scatter3d"
           }
          ],
          "scattercarpet": [
           {
            "marker": {
             "colorbar": {
              "outlinewidth": 0,
              "ticks": ""
             }
            },
            "type": "scattercarpet"
           }
          ],
          "scattergeo": [
           {
            "marker": {
             "colorbar": {
              "outlinewidth": 0,
              "ticks": ""
             }
            },
            "type": "scattergeo"
           }
          ],
          "scattergl": [
           {
            "marker": {
             "colorbar": {
              "outlinewidth": 0,
              "ticks": ""
             }
            },
            "type": "scattergl"
           }
          ],
          "scattermapbox": [
           {
            "marker": {
             "colorbar": {
              "outlinewidth": 0,
              "ticks": ""
             }
            },
            "type": "scattermapbox"
           }
          ],
          "scatterpolar": [
           {
            "marker": {
             "colorbar": {
              "outlinewidth": 0,
              "ticks": ""
             }
            },
            "type": "scatterpolar"
           }
          ],
          "scatterpolargl": [
           {
            "marker": {
             "colorbar": {
              "outlinewidth": 0,
              "ticks": ""
             }
            },
            "type": "scatterpolargl"
           }
          ],
          "scatterternary": [
           {
            "marker": {
             "colorbar": {
              "outlinewidth": 0,
              "ticks": ""
             }
            },
            "type": "scatterternary"
           }
          ],
          "surface": [
           {
            "colorbar": {
             "outlinewidth": 0,
             "ticks": ""
            },
            "colorscale": [
             [
              0,
              "#0d0887"
             ],
             [
              0.1111111111111111,
              "#46039f"
             ],
             [
              0.2222222222222222,
              "#7201a8"
             ],
             [
              0.3333333333333333,
              "#9c179e"
             ],
             [
              0.4444444444444444,
              "#bd3786"
             ],
             [
              0.5555555555555556,
              "#d8576b"
             ],
             [
              0.6666666666666666,
              "#ed7953"
             ],
             [
              0.7777777777777778,
              "#fb9f3a"
             ],
             [
              0.8888888888888888,
              "#fdca26"
             ],
             [
              1,
              "#f0f921"
             ]
            ],
            "type": "surface"
           }
          ],
          "table": [
           {
            "cells": {
             "fill": {
              "color": "#EBF0F8"
             },
             "line": {
              "color": "white"
             }
            },
            "header": {
             "fill": {
              "color": "#C8D4E3"
             },
             "line": {
              "color": "white"
             }
            },
            "type": "table"
           }
          ]
         },
         "layout": {
          "annotationdefaults": {
           "arrowcolor": "#2a3f5f",
           "arrowhead": 0,
           "arrowwidth": 1
          },
          "coloraxis": {
           "colorbar": {
            "outlinewidth": 0,
            "ticks": ""
           }
          },
          "colorscale": {
           "diverging": [
            [
             0,
             "#8e0152"
            ],
            [
             0.1,
             "#c51b7d"
            ],
            [
             0.2,
             "#de77ae"
            ],
            [
             0.3,
             "#f1b6da"
            ],
            [
             0.4,
             "#fde0ef"
            ],
            [
             0.5,
             "#f7f7f7"
            ],
            [
             0.6,
             "#e6f5d0"
            ],
            [
             0.7,
             "#b8e186"
            ],
            [
             0.8,
             "#7fbc41"
            ],
            [
             0.9,
             "#4d9221"
            ],
            [
             1,
             "#276419"
            ]
           ],
           "sequential": [
            [
             0,
             "#0d0887"
            ],
            [
             0.1111111111111111,
             "#46039f"
            ],
            [
             0.2222222222222222,
             "#7201a8"
            ],
            [
             0.3333333333333333,
             "#9c179e"
            ],
            [
             0.4444444444444444,
             "#bd3786"
            ],
            [
             0.5555555555555556,
             "#d8576b"
            ],
            [
             0.6666666666666666,
             "#ed7953"
            ],
            [
             0.7777777777777778,
             "#fb9f3a"
            ],
            [
             0.8888888888888888,
             "#fdca26"
            ],
            [
             1,
             "#f0f921"
            ]
           ],
           "sequentialminus": [
            [
             0,
             "#0d0887"
            ],
            [
             0.1111111111111111,
             "#46039f"
            ],
            [
             0.2222222222222222,
             "#7201a8"
            ],
            [
             0.3333333333333333,
             "#9c179e"
            ],
            [
             0.4444444444444444,
             "#bd3786"
            ],
            [
             0.5555555555555556,
             "#d8576b"
            ],
            [
             0.6666666666666666,
             "#ed7953"
            ],
            [
             0.7777777777777778,
             "#fb9f3a"
            ],
            [
             0.8888888888888888,
             "#fdca26"
            ],
            [
             1,
             "#f0f921"
            ]
           ]
          },
          "colorway": [
           "#636efa",
           "#EF553B",
           "#00cc96",
           "#ab63fa",
           "#FFA15A",
           "#19d3f3",
           "#FF6692",
           "#B6E880",
           "#FF97FF",
           "#FECB52"
          ],
          "font": {
           "color": "#2a3f5f"
          },
          "geo": {
           "bgcolor": "white",
           "lakecolor": "white",
           "landcolor": "#E5ECF6",
           "showlakes": true,
           "showland": true,
           "subunitcolor": "white"
          },
          "hoverlabel": {
           "align": "left"
          },
          "hovermode": "closest",
          "mapbox": {
           "style": "light"
          },
          "paper_bgcolor": "white",
          "plot_bgcolor": "#E5ECF6",
          "polar": {
           "angularaxis": {
            "gridcolor": "white",
            "linecolor": "white",
            "ticks": ""
           },
           "bgcolor": "#E5ECF6",
           "radialaxis": {
            "gridcolor": "white",
            "linecolor": "white",
            "ticks": ""
           }
          },
          "scene": {
           "xaxis": {
            "backgroundcolor": "#E5ECF6",
            "gridcolor": "white",
            "gridwidth": 2,
            "linecolor": "white",
            "showbackground": true,
            "ticks": "",
            "zerolinecolor": "white"
           },
           "yaxis": {
            "backgroundcolor": "#E5ECF6",
            "gridcolor": "white",
            "gridwidth": 2,
            "linecolor": "white",
            "showbackground": true,
            "ticks": "",
            "zerolinecolor": "white"
           },
           "zaxis": {
            "backgroundcolor": "#E5ECF6",
            "gridcolor": "white",
            "gridwidth": 2,
            "linecolor": "white",
            "showbackground": true,
            "ticks": "",
            "zerolinecolor": "white"
           }
          },
          "shapedefaults": {
           "line": {
            "color": "#2a3f5f"
           }
          },
          "ternary": {
           "aaxis": {
            "gridcolor": "white",
            "linecolor": "white",
            "ticks": ""
           },
           "baxis": {
            "gridcolor": "white",
            "linecolor": "white",
            "ticks": ""
           },
           "bgcolor": "#E5ECF6",
           "caxis": {
            "gridcolor": "white",
            "linecolor": "white",
            "ticks": ""
           }
          },
          "title": {
           "x": 0.05
          },
          "xaxis": {
           "automargin": true,
           "gridcolor": "white",
           "linecolor": "white",
           "ticks": "",
           "title": {
            "standoff": 15
           },
           "zerolinecolor": "white",
           "zerolinewidth": 2
          },
          "yaxis": {
           "automargin": true,
           "gridcolor": "white",
           "linecolor": "white",
           "ticks": "",
           "title": {
            "standoff": 15
           },
           "zerolinecolor": "white",
           "zerolinewidth": 2
          }
         }
        },
        "title": {
         "text": "Engagement for races"
        },
        "width": 900,
        "xaxis": {
         "anchor": "y",
         "domain": [
          0,
          1
         ],
         "matches": "x4",
         "showticklabels": false,
         "title": {
          "text": "EngagementSurvey"
         }
        },
        "xaxis2": {
         "anchor": "y2",
         "domain": [
          0,
          1
         ],
         "matches": "x4",
         "showticklabels": false,
         "title": {
          "text": "EngagementSurvey"
         }
        },
        "xaxis3": {
         "anchor": "y3",
         "domain": [
          0,
          1
         ],
         "matches": "x4",
         "showticklabels": false,
         "title": {
          "text": "EngagementSurvey"
         }
        },
        "xaxis4": {
         "anchor": "y4",
         "domain": [
          0,
          1
         ],
         "title": {
          "text": "EngagementSurvey"
         }
        },
        "yaxis": {
         "anchor": "x",
         "domain": [
          0.825,
          1
         ],
         "title": {
          "text": "occurences"
         }
        },
        "yaxis2": {
         "anchor": "x2",
         "domain": [
          0.55,
          0.7250000000000001
         ],
         "title": {
          "text": "occurences"
         }
        },
        "yaxis3": {
         "anchor": "x3",
         "domain": [
          0.275,
          0.45
         ],
         "title": {
          "text": "occurences"
         }
        },
        "yaxis4": {
         "anchor": "x4",
         "domain": [
          0,
          0.175
         ],
         "title": {
          "text": "occurences"
         }
        }
       }
      },
      "text/html": [
       "<div>\n",
       "        \n",
       "        \n",
       "            <div id=\"5ff4eb57-c41b-4091-a825-22d2ffac3e60\" class=\"plotly-graph-div\" style=\"height:600px; width:900px;\"></div>\n",
       "            <script type=\"text/javascript\">\n",
       "                require([\"plotly\"], function(Plotly) {\n",
       "                    window.PLOTLYENV=window.PLOTLYENV || {};\n",
       "                    \n",
       "                if (document.getElementById(\"5ff4eb57-c41b-4091-a825-22d2ffac3e60\")) {\n",
       "                    Plotly.newPlot(\n",
       "                        '5ff4eb57-c41b-4091-a825-22d2ffac3e60',\n",
       "                        [{\"histnorm\": \"probability\", \"marker\": {\"color\": \"#329353\"}, \"name\": \"Black or African American: 57\", \"type\": \"histogram\", \"x\": [2.04, 5.0, 3.14, 3.97, 4.53, 2.0, 1.64, 2.94, 4.2, 3.69, 2.02, 2.06, 4.94, 4.33, 4.28, 2.19, 3.02, 3.76, 4.3, 3.73, 1.18, 5.0, 3.88, 4.21, 3.66, 5.0, 3.51, 4.43, 1.66, 4.18, 1.12, 3.58, 2.79, 2.83, 1.42, 3.93, 3.73, 4.25, 3.97, 2.61, 3.54, 4.51, 4.35, 1.49, 1.64, 4.62, 3.11, 2.55, 4.29, 4.0, 1.62, 4.15, 3.79, 2.55, 1.11, 5.0, 2.94], \"xaxis\": \"x\", \"yaxis\": \"y\"}, {\"histnorm\": \"probability\", \"marker\": {\"color\": \"#347186\"}, \"name\": \"White: 193\", \"type\": \"histogram\", \"x\": [3.9, 3.24, 5.0, 5.0, 2.3, 3.98, 5.0, 3.31, 4.77, 1.72, 1.81, 2.19, 4.28, 4.1, 3.01, 1.82, 4.5, 1.12, 1.87, 1.87, 4.48, 1.62, 3.69, 3.04, 3.32, 5.0, 1.22, 2.96, 1.99, 2.55, 1.21, 1.84, 2.21, 4.11, 4.61, 1.2, 3.81, 3.31, 5.0, 5.0, 4.83, 3.93, 5.0, 4.52, 4.63, 4.78, 3.66, 4.16, 4.83, 4.13, 5.0, 5.0, 2.0, 1.12, 1.56, 4.76, 3.49, 3.08, 3.18, 3.45, 4.81, 3.98, 5.0, 5.0, 1.97, 5.0, 3.99, 1.04, 5.0, 3.02, 4.11, 3.35, 1.51, 2.79, 4.5, 5.0, 2.32, 5.0, 5.0, 2.79, 5.0, 1.97, 2.44, 4.84, 5.0, 2.73, 5.0, 1.04, 4.24, 4.0, 1.76, 3.89, 5.0, 1.27, 4.73, 1.86, 2.05, 5.0, 5.0, 5.0, 2.86, 2.45, 2.79, 5.0, 1.13, 1.85, 1.94, 4.17, 2.55, 5.0, 2.72, 3.6, 3.73, 2.81, 5.0, 2.05, 1.5, 5.0, 3.84, 2.51, 5.0, 5.0, 4.12, 5.0, 4.2, 1.65, 3.07, 3.18, 5.0, 3.8, 1.53, 4.36, 3.21, 5.0, 3.8, 5.0, 3.13, 4.64, 3.6, 5.0, 4.76, 3.72, 1.3, 1.16, 1.51, 5.0, 1.67, 1.3, 2.04, 2.67, 2.19, 3.4, 1.38, 2.92, 4.53, 2.41, 3.93, 2.7, 5.0, 5.0, 4.0, 2.08, 3.25, 3.66, 5.0, 1.79, 3.02, 1.84, 2.48, 4.07, 1.16, 4.59, 3.03, 4.65, 4.68, 3.19, 2.63, 5.0, 1.37, 4.62, 1.9, 1.95, 3.04, 4.96, 1.74, 2.61, 3.84, 5.0, 4.96, 3.88, 1.55, 4.46, 5.0], \"xaxis\": \"x2\", \"yaxis\": \"y2\"}, {\"histnorm\": \"probability\", \"marker\": {\"color\": \"#b77632\"}, \"name\": \"Asian: 34\", \"type\": \"histogram\", \"x\": [3.8, 1.77, 3.75, 3.71, 3.39, 2.34, 3.38, 1.12, 4.29, 1.24, 1.83, 2.77, 1.39, 2.39, 1.98, 2.61, 1.71, 4.88, 3.17, 1.09, 4.36, 5.0, 1.03, 2.61, 4.52, 5.0, 2.09, 5.0, 3.42, 1.53, 1.1, 5.0, 3.27, 1.06], \"xaxis\": \"x3\", \"yaxis\": \"y3\"}, {\"histnorm\": \"probability\", \"marker\": {\"color\": \"#b74732\"}, \"name\": \"other: 26\", \"type\": \"histogram\", \"x\": [3.6, 3.65, 4.5, 1.93, 2.81, 2.91, 5.0, 2.51, 2.39, 4.64, 4.37, 3.39, 4.46, 1.83, 1.79, 1.41, 1.44, 3.09, 1.05, 5.0, 2.52, 5.0, 2.5, 4.6, 3.96, 2.57], \"xaxis\": \"x4\", \"yaxis\": \"y4\"}],\n",
       "                        {\"height\": 600, \"template\": {\"data\": {\"bar\": [{\"error_x\": {\"color\": \"#2a3f5f\"}, \"error_y\": {\"color\": \"#2a3f5f\"}, \"marker\": {\"line\": {\"color\": \"#E5ECF6\", \"width\": 0.5}}, \"type\": \"bar\"}], \"barpolar\": [{\"marker\": {\"line\": {\"color\": \"#E5ECF6\", \"width\": 0.5}}, \"type\": \"barpolar\"}], \"carpet\": [{\"aaxis\": {\"endlinecolor\": \"#2a3f5f\", \"gridcolor\": \"white\", \"linecolor\": \"white\", \"minorgridcolor\": \"white\", \"startlinecolor\": \"#2a3f5f\"}, \"baxis\": {\"endlinecolor\": \"#2a3f5f\", \"gridcolor\": \"white\", \"linecolor\": \"white\", \"minorgridcolor\": \"white\", \"startlinecolor\": \"#2a3f5f\"}, \"type\": \"carpet\"}], \"choropleth\": [{\"colorbar\": {\"outlinewidth\": 0, \"ticks\": \"\"}, \"type\": \"choropleth\"}], \"contour\": [{\"colorbar\": {\"outlinewidth\": 0, \"ticks\": \"\"}, \"colorscale\": [[0.0, \"#0d0887\"], [0.1111111111111111, \"#46039f\"], [0.2222222222222222, \"#7201a8\"], [0.3333333333333333, \"#9c179e\"], [0.4444444444444444, \"#bd3786\"], [0.5555555555555556, \"#d8576b\"], [0.6666666666666666, \"#ed7953\"], [0.7777777777777778, \"#fb9f3a\"], [0.8888888888888888, \"#fdca26\"], [1.0, \"#f0f921\"]], \"type\": \"contour\"}], \"contourcarpet\": [{\"colorbar\": {\"outlinewidth\": 0, \"ticks\": \"\"}, \"type\": \"contourcarpet\"}], \"heatmap\": [{\"colorbar\": {\"outlinewidth\": 0, \"ticks\": \"\"}, \"colorscale\": [[0.0, \"#0d0887\"], [0.1111111111111111, \"#46039f\"], [0.2222222222222222, \"#7201a8\"], [0.3333333333333333, \"#9c179e\"], [0.4444444444444444, \"#bd3786\"], [0.5555555555555556, \"#d8576b\"], [0.6666666666666666, \"#ed7953\"], [0.7777777777777778, \"#fb9f3a\"], [0.8888888888888888, \"#fdca26\"], [1.0, \"#f0f921\"]], \"type\": \"heatmap\"}], \"heatmapgl\": [{\"colorbar\": {\"outlinewidth\": 0, \"ticks\": \"\"}, \"colorscale\": [[0.0, \"#0d0887\"], [0.1111111111111111, \"#46039f\"], [0.2222222222222222, \"#7201a8\"], [0.3333333333333333, \"#9c179e\"], [0.4444444444444444, \"#bd3786\"], [0.5555555555555556, \"#d8576b\"], [0.6666666666666666, \"#ed7953\"], [0.7777777777777778, \"#fb9f3a\"], [0.8888888888888888, \"#fdca26\"], [1.0, \"#f0f921\"]], \"type\": \"heatmapgl\"}], \"histogram\": [{\"marker\": {\"colorbar\": {\"outlinewidth\": 0, \"ticks\": \"\"}}, \"type\": \"histogram\"}], \"histogram2d\": [{\"colorbar\": {\"outlinewidth\": 0, \"ticks\": \"\"}, \"colorscale\": [[0.0, \"#0d0887\"], [0.1111111111111111, \"#46039f\"], [0.2222222222222222, \"#7201a8\"], [0.3333333333333333, \"#9c179e\"], [0.4444444444444444, \"#bd3786\"], [0.5555555555555556, \"#d8576b\"], [0.6666666666666666, \"#ed7953\"], [0.7777777777777778, \"#fb9f3a\"], [0.8888888888888888, \"#fdca26\"], [1.0, \"#f0f921\"]], \"type\": \"histogram2d\"}], \"histogram2dcontour\": [{\"colorbar\": {\"outlinewidth\": 0, \"ticks\": \"\"}, \"colorscale\": [[0.0, \"#0d0887\"], [0.1111111111111111, \"#46039f\"], [0.2222222222222222, \"#7201a8\"], [0.3333333333333333, \"#9c179e\"], [0.4444444444444444, \"#bd3786\"], [0.5555555555555556, \"#d8576b\"], [0.6666666666666666, \"#ed7953\"], [0.7777777777777778, \"#fb9f3a\"], [0.8888888888888888, \"#fdca26\"], [1.0, \"#f0f921\"]], \"type\": \"histogram2dcontour\"}], \"mesh3d\": [{\"colorbar\": {\"outlinewidth\": 0, \"ticks\": \"\"}, \"type\": \"mesh3d\"}], \"parcoords\": [{\"line\": {\"colorbar\": {\"outlinewidth\": 0, \"ticks\": \"\"}}, \"type\": \"parcoords\"}], \"pie\": [{\"automargin\": true, \"type\": \"pie\"}], \"scatter\": [{\"marker\": {\"colorbar\": {\"outlinewidth\": 0, \"ticks\": \"\"}}, \"type\": \"scatter\"}], \"scatter3d\": [{\"line\": {\"colorbar\": {\"outlinewidth\": 0, \"ticks\": \"\"}}, \"marker\": {\"colorbar\": {\"outlinewidth\": 0, \"ticks\": \"\"}}, \"type\": \"scatter3d\"}], \"scattercarpet\": [{\"marker\": {\"colorbar\": {\"outlinewidth\": 0, \"ticks\": \"\"}}, \"type\": \"scattercarpet\"}], \"scattergeo\": [{\"marker\": {\"colorbar\": {\"outlinewidth\": 0, \"ticks\": \"\"}}, \"type\": \"scattergeo\"}], \"scattergl\": [{\"marker\": {\"colorbar\": {\"outlinewidth\": 0, \"ticks\": \"\"}}, \"type\": \"scattergl\"}], \"scattermapbox\": [{\"marker\": {\"colorbar\": {\"outlinewidth\": 0, \"ticks\": \"\"}}, \"type\": \"scattermapbox\"}], \"scatterpolar\": [{\"marker\": {\"colorbar\": {\"outlinewidth\": 0, \"ticks\": \"\"}}, \"type\": \"scatterpolar\"}], \"scatterpolargl\": [{\"marker\": {\"colorbar\": {\"outlinewidth\": 0, \"ticks\": \"\"}}, \"type\": \"scatterpolargl\"}], \"scatterternary\": [{\"marker\": {\"colorbar\": {\"outlinewidth\": 0, \"ticks\": \"\"}}, \"type\": \"scatterternary\"}], \"surface\": [{\"colorbar\": {\"outlinewidth\": 0, \"ticks\": \"\"}, \"colorscale\": [[0.0, \"#0d0887\"], [0.1111111111111111, \"#46039f\"], [0.2222222222222222, \"#7201a8\"], [0.3333333333333333, \"#9c179e\"], [0.4444444444444444, \"#bd3786\"], [0.5555555555555556, \"#d8576b\"], [0.6666666666666666, \"#ed7953\"], [0.7777777777777778, \"#fb9f3a\"], [0.8888888888888888, \"#fdca26\"], [1.0, \"#f0f921\"]], \"type\": \"surface\"}], \"table\": [{\"cells\": {\"fill\": {\"color\": \"#EBF0F8\"}, \"line\": {\"color\": \"white\"}}, \"header\": {\"fill\": {\"color\": \"#C8D4E3\"}, \"line\": {\"color\": \"white\"}}, \"type\": \"table\"}]}, \"layout\": {\"annotationdefaults\": {\"arrowcolor\": \"#2a3f5f\", \"arrowhead\": 0, \"arrowwidth\": 1}, \"coloraxis\": {\"colorbar\": {\"outlinewidth\": 0, \"ticks\": \"\"}}, \"colorscale\": {\"diverging\": [[0, \"#8e0152\"], [0.1, \"#c51b7d\"], [0.2, \"#de77ae\"], [0.3, \"#f1b6da\"], [0.4, \"#fde0ef\"], [0.5, \"#f7f7f7\"], [0.6, \"#e6f5d0\"], [0.7, \"#b8e186\"], [0.8, \"#7fbc41\"], [0.9, \"#4d9221\"], [1, \"#276419\"]], \"sequential\": [[0.0, \"#0d0887\"], [0.1111111111111111, \"#46039f\"], [0.2222222222222222, \"#7201a8\"], [0.3333333333333333, \"#9c179e\"], [0.4444444444444444, \"#bd3786\"], [0.5555555555555556, \"#d8576b\"], [0.6666666666666666, \"#ed7953\"], [0.7777777777777778, \"#fb9f3a\"], [0.8888888888888888, \"#fdca26\"], [1.0, \"#f0f921\"]], \"sequentialminus\": [[0.0, \"#0d0887\"], [0.1111111111111111, \"#46039f\"], [0.2222222222222222, \"#7201a8\"], [0.3333333333333333, \"#9c179e\"], [0.4444444444444444, \"#bd3786\"], [0.5555555555555556, \"#d8576b\"], [0.6666666666666666, \"#ed7953\"], [0.7777777777777778, \"#fb9f3a\"], [0.8888888888888888, \"#fdca26\"], [1.0, \"#f0f921\"]]}, \"colorway\": [\"#636efa\", \"#EF553B\", \"#00cc96\", \"#ab63fa\", \"#FFA15A\", \"#19d3f3\", \"#FF6692\", \"#B6E880\", \"#FF97FF\", \"#FECB52\"], \"font\": {\"color\": \"#2a3f5f\"}, \"geo\": {\"bgcolor\": \"white\", \"lakecolor\": \"white\", \"landcolor\": \"#E5ECF6\", \"showlakes\": true, \"showland\": true, \"subunitcolor\": \"white\"}, \"hoverlabel\": {\"align\": \"left\"}, \"hovermode\": \"closest\", \"mapbox\": {\"style\": \"light\"}, \"paper_bgcolor\": \"white\", \"plot_bgcolor\": \"#E5ECF6\", \"polar\": {\"angularaxis\": {\"gridcolor\": \"white\", \"linecolor\": \"white\", \"ticks\": \"\"}, \"bgcolor\": \"#E5ECF6\", \"radialaxis\": {\"gridcolor\": \"white\", \"linecolor\": \"white\", \"ticks\": \"\"}}, \"scene\": {\"xaxis\": {\"backgroundcolor\": \"#E5ECF6\", \"gridcolor\": \"white\", \"gridwidth\": 2, \"linecolor\": \"white\", \"showbackground\": true, \"ticks\": \"\", \"zerolinecolor\": \"white\"}, \"yaxis\": {\"backgroundcolor\": \"#E5ECF6\", \"gridcolor\": \"white\", \"gridwidth\": 2, \"linecolor\": \"white\", \"showbackground\": true, \"ticks\": \"\", \"zerolinecolor\": \"white\"}, \"zaxis\": {\"backgroundcolor\": \"#E5ECF6\", \"gridcolor\": \"white\", \"gridwidth\": 2, \"linecolor\": \"white\", \"showbackground\": true, \"ticks\": \"\", \"zerolinecolor\": \"white\"}}, \"shapedefaults\": {\"line\": {\"color\": \"#2a3f5f\"}}, \"ternary\": {\"aaxis\": {\"gridcolor\": \"white\", \"linecolor\": \"white\", \"ticks\": \"\"}, \"baxis\": {\"gridcolor\": \"white\", \"linecolor\": \"white\", \"ticks\": \"\"}, \"bgcolor\": \"#E5ECF6\", \"caxis\": {\"gridcolor\": \"white\", \"linecolor\": \"white\", \"ticks\": \"\"}}, \"title\": {\"x\": 0.05}, \"xaxis\": {\"automargin\": true, \"gridcolor\": \"white\", \"linecolor\": \"white\", \"ticks\": \"\", \"title\": {\"standoff\": 15}, \"zerolinecolor\": \"white\", \"zerolinewidth\": 2}, \"yaxis\": {\"automargin\": true, \"gridcolor\": \"white\", \"linecolor\": \"white\", \"ticks\": \"\", \"title\": {\"standoff\": 15}, \"zerolinecolor\": \"white\", \"zerolinewidth\": 2}}}, \"title\": {\"text\": \"Engagement for races\"}, \"width\": 900, \"xaxis\": {\"anchor\": \"y\", \"domain\": [0.0, 1.0], \"matches\": \"x4\", \"showticklabels\": false, \"title\": {\"text\": \"EngagementSurvey\"}}, \"xaxis2\": {\"anchor\": \"y2\", \"domain\": [0.0, 1.0], \"matches\": \"x4\", \"showticklabels\": false, \"title\": {\"text\": \"EngagementSurvey\"}}, \"xaxis3\": {\"anchor\": \"y3\", \"domain\": [0.0, 1.0], \"matches\": \"x4\", \"showticklabels\": false, \"title\": {\"text\": \"EngagementSurvey\"}}, \"xaxis4\": {\"anchor\": \"y4\", \"domain\": [0.0, 1.0], \"title\": {\"text\": \"EngagementSurvey\"}}, \"yaxis\": {\"anchor\": \"x\", \"domain\": [0.825, 1.0], \"title\": {\"text\": \"occurences\"}}, \"yaxis2\": {\"anchor\": \"x2\", \"domain\": [0.55, 0.7250000000000001], \"title\": {\"text\": \"occurences\"}}, \"yaxis3\": {\"anchor\": \"x3\", \"domain\": [0.275, 0.45], \"title\": {\"text\": \"occurences\"}}, \"yaxis4\": {\"anchor\": \"x4\", \"domain\": [0.0, 0.175], \"title\": {\"text\": \"occurences\"}}},\n",
       "                        {\"responsive\": true}\n",
       "                    ).then(function(){\n",
       "                            \n",
       "var gd = document.getElementById('5ff4eb57-c41b-4091-a825-22d2ffac3e60');\n",
       "var x = new MutationObserver(function (mutations, observer) {{\n",
       "        var display = window.getComputedStyle(gd).display;\n",
       "        if (!display || display === 'none') {{\n",
       "            console.log([gd, 'removed!']);\n",
       "            Plotly.purge(gd);\n",
       "            observer.disconnect();\n",
       "        }}\n",
       "}});\n",
       "\n",
       "// Listen for the removal of the full notebook cells\n",
       "var notebookContainer = gd.closest('#notebook-container');\n",
       "if (notebookContainer) {{\n",
       "    x.observe(notebookContainer, {childList: true});\n",
       "}}\n",
       "\n",
       "// Listen for the clearing of the current output cell\n",
       "var outputEl = gd.closest('.output');\n",
       "if (outputEl) {{\n",
       "    x.observe(outputEl, {childList: true});\n",
       "}}\n",
       "\n",
       "                        })\n",
       "                };\n",
       "                });\n",
       "            </script>\n",
       "        </div>"
      ]
     },
     "metadata": {},
     "output_type": "display_data"
    }
   ],
   "source": [
    "fig = hist(hr, \"race\", \"EngagementSurvey\", \"Engagement for races\",\n",
    "           color)\n",
    "fig.update_layout(width=900)\n",
    "fig.show()"
   ]
  },
  {
   "cell_type": "markdown",
   "metadata": {},
   "source": [
    "This looks more informative. We can see that the minority races in the firm are actually quite engaged with their job. They never scored below 1, unlike the rest of the company workers.\n",
    "And the other one for the pay rate:"
   ]
  },
  {
   "cell_type": "code",
   "execution_count": 39,
   "metadata": {
    "code_folding": [
     0
    ],
    "collapsed": true
   },
   "outputs": [
    {
     "data": {
      "application/vnd.plotly.v1+json": {
       "config": {
        "plotlyServerURL": "https://plot.ly"
       },
       "data": [
        {
         "histnorm": "probability",
         "marker": {
          "color": "#329353"
         },
         "name": "Black or African American: 57",
         "type": "histogram",
         "x": [
          28.5,
          23,
          55,
          55,
          55,
          54,
          55,
          56,
          55,
          55,
          45,
          45,
          55,
          40.1,
          35.5,
          45,
          60,
          65,
          27.49,
          55,
          33.5,
          24,
          22,
          24,
          17,
          20,
          21,
          20,
          24,
          14,
          20,
          22,
          14,
          20,
          15,
          24,
          19,
          22,
          15,
          18,
          24,
          25,
          29,
          27,
          26.1,
          29,
          22,
          25,
          29,
          24,
          56,
          55,
          57.12,
          48.5,
          45.42,
          61.3,
          58.2
         ],
         "xaxis": "x",
         "yaxis": "y"
        },
        {
         "histnorm": "probability",
         "marker": {
          "color": "#347186"
         },
         "name": "White: 193",
         "type": "histogram",
         "x": [
          29,
          21.5,
          16.56,
          55,
          55,
          55.5,
          55,
          55,
          55,
          55,
          56,
          55,
          57,
          55,
          46,
          45,
          63.5,
          65,
          43,
          48.5,
          34,
          41,
          39.55,
          42.2,
          30.2,
          31.4,
          60,
          62,
          64,
          28.99,
          31.4,
          45,
          42,
          37,
          39,
          43,
          27,
          47,
          28,
          49.1,
          80,
          54.5,
          55,
          51,
          54,
          48.5,
          55,
          38.5,
          52,
          53,
          23,
          16,
          21,
          20,
          18,
          20,
          24,
          15,
          22,
          22,
          15,
          20,
          21,
          16,
          24.75,
          24,
          16,
          23,
          18,
          17,
          16,
          20,
          15,
          16.75,
          19,
          15,
          20,
          17,
          20,
          19,
          17,
          21,
          22,
          21,
          22,
          19.5,
          15,
          18,
          22,
          21,
          15,
          18,
          20,
          15,
          15.75,
          21.25,
          21,
          14,
          19,
          15,
          16,
          16,
          21,
          22,
          21,
          23,
          17,
          19,
          17,
          21,
          17,
          16,
          24.5,
          20,
          17,
          21,
          16,
          18,
          19,
          20,
          18,
          16,
          19.75,
          17,
          24,
          17,
          19,
          15.25,
          20,
          21,
          21,
          19,
          20,
          16,
          22,
          23.5,
          20,
          19.75,
          22,
          23,
          29,
          23,
          22,
          25,
          25,
          25,
          29,
          26,
          24.25,
          27,
          26,
          22,
          26,
          25,
          26.39,
          22,
          28.75,
          27,
          24,
          24,
          22,
          29,
          26,
          24,
          26,
          29,
          29,
          28,
          22,
          24.25,
          27,
          24,
          28,
          24,
          23,
          22,
          28,
          23,
          23,
          54,
          60.25,
          55,
          47.6,
          56,
          49.25,
          48,
          27,
          34.95,
          62,
          58.5,
          54.1,
          56.2,
          53
         ],
         "xaxis": "x2",
         "yaxis": "y2"
        },
        {
         "histnorm": "probability",
         "marker": {
          "color": "#b77632"
         },
         "name": "Asian: 34",
         "type": "histogram",
         "x": [
          20.5,
          56,
          40,
          42.75,
          50.5,
          42,
          21,
          15,
          22,
          15,
          21,
          14,
          22,
          22,
          22,
          18,
          24,
          19,
          19,
          17,
          22,
          15.2,
          28,
          26,
          22,
          25,
          50.25,
          52.25,
          51,
          55.51,
          52.25,
          34.95,
          53.8,
          55.2
         ],
         "xaxis": "x3",
         "yaxis": "y3"
        },
        {
         "histnorm": "probability",
         "marker": {
          "color": "#b74732"
         },
         "name": "other: 26",
         "type": "histogram",
         "x": [
          56,
          55.5,
          55,
          55,
          55,
          55,
          55,
          21,
          63,
          26,
          53,
          16,
          22,
          16,
          17,
          16.76,
          16,
          18.5,
          14,
          19,
          15,
          23,
          26,
          22.5,
          25,
          27
         ],
         "xaxis": "x4",
         "yaxis": "y4"
        }
       ],
       "layout": {
        "height": 600,
        "template": {
         "data": {
          "bar": [
           {
            "error_x": {
             "color": "#2a3f5f"
            },
            "error_y": {
             "color": "#2a3f5f"
            },
            "marker": {
             "line": {
              "color": "#E5ECF6",
              "width": 0.5
             }
            },
            "type": "bar"
           }
          ],
          "barpolar": [
           {
            "marker": {
             "line": {
              "color": "#E5ECF6",
              "width": 0.5
             }
            },
            "type": "barpolar"
           }
          ],
          "carpet": [
           {
            "aaxis": {
             "endlinecolor": "#2a3f5f",
             "gridcolor": "white",
             "linecolor": "white",
             "minorgridcolor": "white",
             "startlinecolor": "#2a3f5f"
            },
            "baxis": {
             "endlinecolor": "#2a3f5f",
             "gridcolor": "white",
             "linecolor": "white",
             "minorgridcolor": "white",
             "startlinecolor": "#2a3f5f"
            },
            "type": "carpet"
           }
          ],
          "choropleth": [
           {
            "colorbar": {
             "outlinewidth": 0,
             "ticks": ""
            },
            "type": "choropleth"
           }
          ],
          "contour": [
           {
            "colorbar": {
             "outlinewidth": 0,
             "ticks": ""
            },
            "colorscale": [
             [
              0,
              "#0d0887"
             ],
             [
              0.1111111111111111,
              "#46039f"
             ],
             [
              0.2222222222222222,
              "#7201a8"
             ],
             [
              0.3333333333333333,
              "#9c179e"
             ],
             [
              0.4444444444444444,
              "#bd3786"
             ],
             [
              0.5555555555555556,
              "#d8576b"
             ],
             [
              0.6666666666666666,
              "#ed7953"
             ],
             [
              0.7777777777777778,
              "#fb9f3a"
             ],
             [
              0.8888888888888888,
              "#fdca26"
             ],
             [
              1,
              "#f0f921"
             ]
            ],
            "type": "contour"
           }
          ],
          "contourcarpet": [
           {
            "colorbar": {
             "outlinewidth": 0,
             "ticks": ""
            },
            "type": "contourcarpet"
           }
          ],
          "heatmap": [
           {
            "colorbar": {
             "outlinewidth": 0,
             "ticks": ""
            },
            "colorscale": [
             [
              0,
              "#0d0887"
             ],
             [
              0.1111111111111111,
              "#46039f"
             ],
             [
              0.2222222222222222,
              "#7201a8"
             ],
             [
              0.3333333333333333,
              "#9c179e"
             ],
             [
              0.4444444444444444,
              "#bd3786"
             ],
             [
              0.5555555555555556,
              "#d8576b"
             ],
             [
              0.6666666666666666,
              "#ed7953"
             ],
             [
              0.7777777777777778,
              "#fb9f3a"
             ],
             [
              0.8888888888888888,
              "#fdca26"
             ],
             [
              1,
              "#f0f921"
             ]
            ],
            "type": "heatmap"
           }
          ],
          "heatmapgl": [
           {
            "colorbar": {
             "outlinewidth": 0,
             "ticks": ""
            },
            "colorscale": [
             [
              0,
              "#0d0887"
             ],
             [
              0.1111111111111111,
              "#46039f"
             ],
             [
              0.2222222222222222,
              "#7201a8"
             ],
             [
              0.3333333333333333,
              "#9c179e"
             ],
             [
              0.4444444444444444,
              "#bd3786"
             ],
             [
              0.5555555555555556,
              "#d8576b"
             ],
             [
              0.6666666666666666,
              "#ed7953"
             ],
             [
              0.7777777777777778,
              "#fb9f3a"
             ],
             [
              0.8888888888888888,
              "#fdca26"
             ],
             [
              1,
              "#f0f921"
             ]
            ],
            "type": "heatmapgl"
           }
          ],
          "histogram": [
           {
            "marker": {
             "colorbar": {
              "outlinewidth": 0,
              "ticks": ""
             }
            },
            "type": "histogram"
           }
          ],
          "histogram2d": [
           {
            "colorbar": {
             "outlinewidth": 0,
             "ticks": ""
            },
            "colorscale": [
             [
              0,
              "#0d0887"
             ],
             [
              0.1111111111111111,
              "#46039f"
             ],
             [
              0.2222222222222222,
              "#7201a8"
             ],
             [
              0.3333333333333333,
              "#9c179e"
             ],
             [
              0.4444444444444444,
              "#bd3786"
             ],
             [
              0.5555555555555556,
              "#d8576b"
             ],
             [
              0.6666666666666666,
              "#ed7953"
             ],
             [
              0.7777777777777778,
              "#fb9f3a"
             ],
             [
              0.8888888888888888,
              "#fdca26"
             ],
             [
              1,
              "#f0f921"
             ]
            ],
            "type": "histogram2d"
           }
          ],
          "histogram2dcontour": [
           {
            "colorbar": {
             "outlinewidth": 0,
             "ticks": ""
            },
            "colorscale": [
             [
              0,
              "#0d0887"
             ],
             [
              0.1111111111111111,
              "#46039f"
             ],
             [
              0.2222222222222222,
              "#7201a8"
             ],
             [
              0.3333333333333333,
              "#9c179e"
             ],
             [
              0.4444444444444444,
              "#bd3786"
             ],
             [
              0.5555555555555556,
              "#d8576b"
             ],
             [
              0.6666666666666666,
              "#ed7953"
             ],
             [
              0.7777777777777778,
              "#fb9f3a"
             ],
             [
              0.8888888888888888,
              "#fdca26"
             ],
             [
              1,
              "#f0f921"
             ]
            ],
            "type": "histogram2dcontour"
           }
          ],
          "mesh3d": [
           {
            "colorbar": {
             "outlinewidth": 0,
             "ticks": ""
            },
            "type": "mesh3d"
           }
          ],
          "parcoords": [
           {
            "line": {
             "colorbar": {
              "outlinewidth": 0,
              "ticks": ""
             }
            },
            "type": "parcoords"
           }
          ],
          "pie": [
           {
            "automargin": true,
            "type": "pie"
           }
          ],
          "scatter": [
           {
            "marker": {
             "colorbar": {
              "outlinewidth": 0,
              "ticks": ""
             }
            },
            "type": "scatter"
           }
          ],
          "scatter3d": [
           {
            "line": {
             "colorbar": {
              "outlinewidth": 0,
              "ticks": ""
             }
            },
            "marker": {
             "colorbar": {
              "outlinewidth": 0,
              "ticks": ""
             }
            },
            "type": "scatter3d"
           }
          ],
          "scattercarpet": [
           {
            "marker": {
             "colorbar": {
              "outlinewidth": 0,
              "ticks": ""
             }
            },
            "type": "scattercarpet"
           }
          ],
          "scattergeo": [
           {
            "marker": {
             "colorbar": {
              "outlinewidth": 0,
              "ticks": ""
             }
            },
            "type": "scattergeo"
           }
          ],
          "scattergl": [
           {
            "marker": {
             "colorbar": {
              "outlinewidth": 0,
              "ticks": ""
             }
            },
            "type": "scattergl"
           }
          ],
          "scattermapbox": [
           {
            "marker": {
             "colorbar": {
              "outlinewidth": 0,
              "ticks": ""
             }
            },
            "type": "scattermapbox"
           }
          ],
          "scatterpolar": [
           {
            "marker": {
             "colorbar": {
              "outlinewidth": 0,
              "ticks": ""
             }
            },
            "type": "scatterpolar"
           }
          ],
          "scatterpolargl": [
           {
            "marker": {
             "colorbar": {
              "outlinewidth": 0,
              "ticks": ""
             }
            },
            "type": "scatterpolargl"
           }
          ],
          "scatterternary": [
           {
            "marker": {
             "colorbar": {
              "outlinewidth": 0,
              "ticks": ""
             }
            },
            "type": "scatterternary"
           }
          ],
          "surface": [
           {
            "colorbar": {
             "outlinewidth": 0,
             "ticks": ""
            },
            "colorscale": [
             [
              0,
              "#0d0887"
             ],
             [
              0.1111111111111111,
              "#46039f"
             ],
             [
              0.2222222222222222,
              "#7201a8"
             ],
             [
              0.3333333333333333,
              "#9c179e"
             ],
             [
              0.4444444444444444,
              "#bd3786"
             ],
             [
              0.5555555555555556,
              "#d8576b"
             ],
             [
              0.6666666666666666,
              "#ed7953"
             ],
             [
              0.7777777777777778,
              "#fb9f3a"
             ],
             [
              0.8888888888888888,
              "#fdca26"
             ],
             [
              1,
              "#f0f921"
             ]
            ],
            "type": "surface"
           }
          ],
          "table": [
           {
            "cells": {
             "fill": {
              "color": "#EBF0F8"
             },
             "line": {
              "color": "white"
             }
            },
            "header": {
             "fill": {
              "color": "#C8D4E3"
             },
             "line": {
              "color": "white"
             }
            },
            "type": "table"
           }
          ]
         },
         "layout": {
          "annotationdefaults": {
           "arrowcolor": "#2a3f5f",
           "arrowhead": 0,
           "arrowwidth": 1
          },
          "coloraxis": {
           "colorbar": {
            "outlinewidth": 0,
            "ticks": ""
           }
          },
          "colorscale": {
           "diverging": [
            [
             0,
             "#8e0152"
            ],
            [
             0.1,
             "#c51b7d"
            ],
            [
             0.2,
             "#de77ae"
            ],
            [
             0.3,
             "#f1b6da"
            ],
            [
             0.4,
             "#fde0ef"
            ],
            [
             0.5,
             "#f7f7f7"
            ],
            [
             0.6,
             "#e6f5d0"
            ],
            [
             0.7,
             "#b8e186"
            ],
            [
             0.8,
             "#7fbc41"
            ],
            [
             0.9,
             "#4d9221"
            ],
            [
             1,
             "#276419"
            ]
           ],
           "sequential": [
            [
             0,
             "#0d0887"
            ],
            [
             0.1111111111111111,
             "#46039f"
            ],
            [
             0.2222222222222222,
             "#7201a8"
            ],
            [
             0.3333333333333333,
             "#9c179e"
            ],
            [
             0.4444444444444444,
             "#bd3786"
            ],
            [
             0.5555555555555556,
             "#d8576b"
            ],
            [
             0.6666666666666666,
             "#ed7953"
            ],
            [
             0.7777777777777778,
             "#fb9f3a"
            ],
            [
             0.8888888888888888,
             "#fdca26"
            ],
            [
             1,
             "#f0f921"
            ]
           ],
           "sequentialminus": [
            [
             0,
             "#0d0887"
            ],
            [
             0.1111111111111111,
             "#46039f"
            ],
            [
             0.2222222222222222,
             "#7201a8"
            ],
            [
             0.3333333333333333,
             "#9c179e"
            ],
            [
             0.4444444444444444,
             "#bd3786"
            ],
            [
             0.5555555555555556,
             "#d8576b"
            ],
            [
             0.6666666666666666,
             "#ed7953"
            ],
            [
             0.7777777777777778,
             "#fb9f3a"
            ],
            [
             0.8888888888888888,
             "#fdca26"
            ],
            [
             1,
             "#f0f921"
            ]
           ]
          },
          "colorway": [
           "#636efa",
           "#EF553B",
           "#00cc96",
           "#ab63fa",
           "#FFA15A",
           "#19d3f3",
           "#FF6692",
           "#B6E880",
           "#FF97FF",
           "#FECB52"
          ],
          "font": {
           "color": "#2a3f5f"
          },
          "geo": {
           "bgcolor": "white",
           "lakecolor": "white",
           "landcolor": "#E5ECF6",
           "showlakes": true,
           "showland": true,
           "subunitcolor": "white"
          },
          "hoverlabel": {
           "align": "left"
          },
          "hovermode": "closest",
          "mapbox": {
           "style": "light"
          },
          "paper_bgcolor": "white",
          "plot_bgcolor": "#E5ECF6",
          "polar": {
           "angularaxis": {
            "gridcolor": "white",
            "linecolor": "white",
            "ticks": ""
           },
           "bgcolor": "#E5ECF6",
           "radialaxis": {
            "gridcolor": "white",
            "linecolor": "white",
            "ticks": ""
           }
          },
          "scene": {
           "xaxis": {
            "backgroundcolor": "#E5ECF6",
            "gridcolor": "white",
            "gridwidth": 2,
            "linecolor": "white",
            "showbackground": true,
            "ticks": "",
            "zerolinecolor": "white"
           },
           "yaxis": {
            "backgroundcolor": "#E5ECF6",
            "gridcolor": "white",
            "gridwidth": 2,
            "linecolor": "white",
            "showbackground": true,
            "ticks": "",
            "zerolinecolor": "white"
           },
           "zaxis": {
            "backgroundcolor": "#E5ECF6",
            "gridcolor": "white",
            "gridwidth": 2,
            "linecolor": "white",
            "showbackground": true,
            "ticks": "",
            "zerolinecolor": "white"
           }
          },
          "shapedefaults": {
           "line": {
            "color": "#2a3f5f"
           }
          },
          "ternary": {
           "aaxis": {
            "gridcolor": "white",
            "linecolor": "white",
            "ticks": ""
           },
           "baxis": {
            "gridcolor": "white",
            "linecolor": "white",
            "ticks": ""
           },
           "bgcolor": "#E5ECF6",
           "caxis": {
            "gridcolor": "white",
            "linecolor": "white",
            "ticks": ""
           }
          },
          "title": {
           "x": 0.05
          },
          "xaxis": {
           "automargin": true,
           "gridcolor": "white",
           "linecolor": "white",
           "ticks": "",
           "title": {
            "standoff": 15
           },
           "zerolinecolor": "white",
           "zerolinewidth": 2
          },
          "yaxis": {
           "automargin": true,
           "gridcolor": "white",
           "linecolor": "white",
           "ticks": "",
           "title": {
            "standoff": 15
           },
           "zerolinecolor": "white",
           "zerolinewidth": 2
          }
         }
        },
        "title": {
         "text": "Pay rate for races"
        },
        "width": 900,
        "xaxis": {
         "anchor": "y",
         "domain": [
          0,
          1
         ],
         "matches": "x4",
         "showticklabels": false,
         "title": {
          "text": "PayRate"
         }
        },
        "xaxis2": {
         "anchor": "y2",
         "domain": [
          0,
          1
         ],
         "matches": "x4",
         "showticklabels": false,
         "title": {
          "text": "PayRate"
         }
        },
        "xaxis3": {
         "anchor": "y3",
         "domain": [
          0,
          1
         ],
         "matches": "x4",
         "showticklabels": false,
         "title": {
          "text": "PayRate"
         }
        },
        "xaxis4": {
         "anchor": "y4",
         "domain": [
          0,
          1
         ],
         "title": {
          "text": "PayRate"
         }
        },
        "yaxis": {
         "anchor": "x",
         "domain": [
          0.825,
          1
         ],
         "title": {
          "text": "occurences"
         }
        },
        "yaxis2": {
         "anchor": "x2",
         "domain": [
          0.55,
          0.7250000000000001
         ],
         "title": {
          "text": "occurences"
         }
        },
        "yaxis3": {
         "anchor": "x3",
         "domain": [
          0.275,
          0.45
         ],
         "title": {
          "text": "occurences"
         }
        },
        "yaxis4": {
         "anchor": "x4",
         "domain": [
          0,
          0.175
         ],
         "title": {
          "text": "occurences"
         }
        }
       }
      },
      "text/html": [
       "<div>\n",
       "        \n",
       "        \n",
       "            <div id=\"04a3037c-3f8b-4c87-8103-a625a84cfbe7\" class=\"plotly-graph-div\" style=\"height:600px; width:900px;\"></div>\n",
       "            <script type=\"text/javascript\">\n",
       "                require([\"plotly\"], function(Plotly) {\n",
       "                    window.PLOTLYENV=window.PLOTLYENV || {};\n",
       "                    \n",
       "                if (document.getElementById(\"04a3037c-3f8b-4c87-8103-a625a84cfbe7\")) {\n",
       "                    Plotly.newPlot(\n",
       "                        '04a3037c-3f8b-4c87-8103-a625a84cfbe7',\n",
       "                        [{\"histnorm\": \"probability\", \"marker\": {\"color\": \"#329353\"}, \"name\": \"Black or African American: 57\", \"type\": \"histogram\", \"x\": [28.5, 23.0, 55.0, 55.0, 55.0, 54.0, 55.0, 56.0, 55.0, 55.0, 45.0, 45.0, 55.0, 40.1, 35.5, 45.0, 60.0, 65.0, 27.49, 55.0, 33.5, 24.0, 22.0, 24.0, 17.0, 20.0, 21.0, 20.0, 24.0, 14.0, 20.0, 22.0, 14.0, 20.0, 15.0, 24.0, 19.0, 22.0, 15.0, 18.0, 24.0, 25.0, 29.0, 27.0, 26.1, 29.0, 22.0, 25.0, 29.0, 24.0, 56.0, 55.0, 57.12, 48.5, 45.42, 61.3, 58.2], \"xaxis\": \"x\", \"yaxis\": \"y\"}, {\"histnorm\": \"probability\", \"marker\": {\"color\": \"#347186\"}, \"name\": \"White: 193\", \"type\": \"histogram\", \"x\": [29.0, 21.5, 16.56, 55.0, 55.0, 55.5, 55.0, 55.0, 55.0, 55.0, 56.0, 55.0, 57.0, 55.0, 46.0, 45.0, 63.5, 65.0, 43.0, 48.5, 34.0, 41.0, 39.55, 42.2, 30.2, 31.4, 60.0, 62.0, 64.0, 28.99, 31.4, 45.0, 42.0, 37.0, 39.0, 43.0, 27.0, 47.0, 28.0, 49.1, 80.0, 54.5, 55.0, 51.0, 54.0, 48.5, 55.0, 38.5, 52.0, 53.0, 23.0, 16.0, 21.0, 20.0, 18.0, 20.0, 24.0, 15.0, 22.0, 22.0, 15.0, 20.0, 21.0, 16.0, 24.75, 24.0, 16.0, 23.0, 18.0, 17.0, 16.0, 20.0, 15.0, 16.75, 19.0, 15.0, 20.0, 17.0, 20.0, 19.0, 17.0, 21.0, 22.0, 21.0, 22.0, 19.5, 15.0, 18.0, 22.0, 21.0, 15.0, 18.0, 20.0, 15.0, 15.75, 21.25, 21.0, 14.0, 19.0, 15.0, 16.0, 16.0, 21.0, 22.0, 21.0, 23.0, 17.0, 19.0, 17.0, 21.0, 17.0, 16.0, 24.5, 20.0, 17.0, 21.0, 16.0, 18.0, 19.0, 20.0, 18.0, 16.0, 19.75, 17.0, 24.0, 17.0, 19.0, 15.25, 20.0, 21.0, 21.0, 19.0, 20.0, 16.0, 22.0, 23.5, 20.0, 19.75, 22.0, 23.0, 29.0, 23.0, 22.0, 25.0, 25.0, 25.0, 29.0, 26.0, 24.25, 27.0, 26.0, 22.0, 26.0, 25.0, 26.39, 22.0, 28.75, 27.0, 24.0, 24.0, 22.0, 29.0, 26.0, 24.0, 26.0, 29.0, 29.0, 28.0, 22.0, 24.25, 27.0, 24.0, 28.0, 24.0, 23.0, 22.0, 28.0, 23.0, 23.0, 54.0, 60.25, 55.0, 47.6, 56.0, 49.25, 48.0, 27.0, 34.95, 62.0, 58.5, 54.1, 56.2, 53.0], \"xaxis\": \"x2\", \"yaxis\": \"y2\"}, {\"histnorm\": \"probability\", \"marker\": {\"color\": \"#b77632\"}, \"name\": \"Asian: 34\", \"type\": \"histogram\", \"x\": [20.5, 56.0, 40.0, 42.75, 50.5, 42.0, 21.0, 15.0, 22.0, 15.0, 21.0, 14.0, 22.0, 22.0, 22.0, 18.0, 24.0, 19.0, 19.0, 17.0, 22.0, 15.2, 28.0, 26.0, 22.0, 25.0, 50.25, 52.25, 51.0, 55.51, 52.25, 34.95, 53.8, 55.2], \"xaxis\": \"x3\", \"yaxis\": \"y3\"}, {\"histnorm\": \"probability\", \"marker\": {\"color\": \"#b74732\"}, \"name\": \"other: 26\", \"type\": \"histogram\", \"x\": [56.0, 55.5, 55.0, 55.0, 55.0, 55.0, 55.0, 21.0, 63.0, 26.0, 53.0, 16.0, 22.0, 16.0, 17.0, 16.76, 16.0, 18.5, 14.0, 19.0, 15.0, 23.0, 26.0, 22.5, 25.0, 27.0], \"xaxis\": \"x4\", \"yaxis\": \"y4\"}],\n",
       "                        {\"height\": 600, \"template\": {\"data\": {\"bar\": [{\"error_x\": {\"color\": \"#2a3f5f\"}, \"error_y\": {\"color\": \"#2a3f5f\"}, \"marker\": {\"line\": {\"color\": \"#E5ECF6\", \"width\": 0.5}}, \"type\": \"bar\"}], \"barpolar\": [{\"marker\": {\"line\": {\"color\": \"#E5ECF6\", \"width\": 0.5}}, \"type\": \"barpolar\"}], \"carpet\": [{\"aaxis\": {\"endlinecolor\": \"#2a3f5f\", \"gridcolor\": \"white\", \"linecolor\": \"white\", \"minorgridcolor\": \"white\", \"startlinecolor\": \"#2a3f5f\"}, \"baxis\": {\"endlinecolor\": \"#2a3f5f\", \"gridcolor\": \"white\", \"linecolor\": \"white\", \"minorgridcolor\": \"white\", \"startlinecolor\": \"#2a3f5f\"}, \"type\": \"carpet\"}], \"choropleth\": [{\"colorbar\": {\"outlinewidth\": 0, \"ticks\": \"\"}, \"type\": \"choropleth\"}], \"contour\": [{\"colorbar\": {\"outlinewidth\": 0, \"ticks\": \"\"}, \"colorscale\": [[0.0, \"#0d0887\"], [0.1111111111111111, \"#46039f\"], [0.2222222222222222, \"#7201a8\"], [0.3333333333333333, \"#9c179e\"], [0.4444444444444444, \"#bd3786\"], [0.5555555555555556, \"#d8576b\"], [0.6666666666666666, \"#ed7953\"], [0.7777777777777778, \"#fb9f3a\"], [0.8888888888888888, \"#fdca26\"], [1.0, \"#f0f921\"]], \"type\": \"contour\"}], \"contourcarpet\": [{\"colorbar\": {\"outlinewidth\": 0, \"ticks\": \"\"}, \"type\": \"contourcarpet\"}], \"heatmap\": [{\"colorbar\": {\"outlinewidth\": 0, \"ticks\": \"\"}, \"colorscale\": [[0.0, \"#0d0887\"], [0.1111111111111111, \"#46039f\"], [0.2222222222222222, \"#7201a8\"], [0.3333333333333333, \"#9c179e\"], [0.4444444444444444, \"#bd3786\"], [0.5555555555555556, \"#d8576b\"], [0.6666666666666666, \"#ed7953\"], [0.7777777777777778, \"#fb9f3a\"], [0.8888888888888888, \"#fdca26\"], [1.0, \"#f0f921\"]], \"type\": \"heatmap\"}], \"heatmapgl\": [{\"colorbar\": {\"outlinewidth\": 0, \"ticks\": \"\"}, \"colorscale\": [[0.0, \"#0d0887\"], [0.1111111111111111, \"#46039f\"], [0.2222222222222222, \"#7201a8\"], [0.3333333333333333, \"#9c179e\"], [0.4444444444444444, \"#bd3786\"], [0.5555555555555556, \"#d8576b\"], [0.6666666666666666, \"#ed7953\"], [0.7777777777777778, \"#fb9f3a\"], [0.8888888888888888, \"#fdca26\"], [1.0, \"#f0f921\"]], \"type\": \"heatmapgl\"}], \"histogram\": [{\"marker\": {\"colorbar\": {\"outlinewidth\": 0, \"ticks\": \"\"}}, \"type\": \"histogram\"}], \"histogram2d\": [{\"colorbar\": {\"outlinewidth\": 0, \"ticks\": \"\"}, \"colorscale\": [[0.0, \"#0d0887\"], [0.1111111111111111, \"#46039f\"], [0.2222222222222222, \"#7201a8\"], [0.3333333333333333, \"#9c179e\"], [0.4444444444444444, \"#bd3786\"], [0.5555555555555556, \"#d8576b\"], [0.6666666666666666, \"#ed7953\"], [0.7777777777777778, \"#fb9f3a\"], [0.8888888888888888, \"#fdca26\"], [1.0, \"#f0f921\"]], \"type\": \"histogram2d\"}], \"histogram2dcontour\": [{\"colorbar\": {\"outlinewidth\": 0, \"ticks\": \"\"}, \"colorscale\": [[0.0, \"#0d0887\"], [0.1111111111111111, \"#46039f\"], [0.2222222222222222, \"#7201a8\"], [0.3333333333333333, \"#9c179e\"], [0.4444444444444444, \"#bd3786\"], [0.5555555555555556, \"#d8576b\"], [0.6666666666666666, \"#ed7953\"], [0.7777777777777778, \"#fb9f3a\"], [0.8888888888888888, \"#fdca26\"], [1.0, \"#f0f921\"]], \"type\": \"histogram2dcontour\"}], \"mesh3d\": [{\"colorbar\": {\"outlinewidth\": 0, \"ticks\": \"\"}, \"type\": \"mesh3d\"}], \"parcoords\": [{\"line\": {\"colorbar\": {\"outlinewidth\": 0, \"ticks\": \"\"}}, \"type\": \"parcoords\"}], \"pie\": [{\"automargin\": true, \"type\": \"pie\"}], \"scatter\": [{\"marker\": {\"colorbar\": {\"outlinewidth\": 0, \"ticks\": \"\"}}, \"type\": \"scatter\"}], \"scatter3d\": [{\"line\": {\"colorbar\": {\"outlinewidth\": 0, \"ticks\": \"\"}}, \"marker\": {\"colorbar\": {\"outlinewidth\": 0, \"ticks\": \"\"}}, \"type\": \"scatter3d\"}], \"scattercarpet\": [{\"marker\": {\"colorbar\": {\"outlinewidth\": 0, \"ticks\": \"\"}}, \"type\": \"scattercarpet\"}], \"scattergeo\": [{\"marker\": {\"colorbar\": {\"outlinewidth\": 0, \"ticks\": \"\"}}, \"type\": \"scattergeo\"}], \"scattergl\": [{\"marker\": {\"colorbar\": {\"outlinewidth\": 0, \"ticks\": \"\"}}, \"type\": \"scattergl\"}], \"scattermapbox\": [{\"marker\": {\"colorbar\": {\"outlinewidth\": 0, \"ticks\": \"\"}}, \"type\": \"scattermapbox\"}], \"scatterpolar\": [{\"marker\": {\"colorbar\": {\"outlinewidth\": 0, \"ticks\": \"\"}}, \"type\": \"scatterpolar\"}], \"scatterpolargl\": [{\"marker\": {\"colorbar\": {\"outlinewidth\": 0, \"ticks\": \"\"}}, \"type\": \"scatterpolargl\"}], \"scatterternary\": [{\"marker\": {\"colorbar\": {\"outlinewidth\": 0, \"ticks\": \"\"}}, \"type\": \"scatterternary\"}], \"surface\": [{\"colorbar\": {\"outlinewidth\": 0, \"ticks\": \"\"}, \"colorscale\": [[0.0, \"#0d0887\"], [0.1111111111111111, \"#46039f\"], [0.2222222222222222, \"#7201a8\"], [0.3333333333333333, \"#9c179e\"], [0.4444444444444444, \"#bd3786\"], [0.5555555555555556, \"#d8576b\"], [0.6666666666666666, \"#ed7953\"], [0.7777777777777778, \"#fb9f3a\"], [0.8888888888888888, \"#fdca26\"], [1.0, \"#f0f921\"]], \"type\": \"surface\"}], \"table\": [{\"cells\": {\"fill\": {\"color\": \"#EBF0F8\"}, \"line\": {\"color\": \"white\"}}, \"header\": {\"fill\": {\"color\": \"#C8D4E3\"}, \"line\": {\"color\": \"white\"}}, \"type\": \"table\"}]}, \"layout\": {\"annotationdefaults\": {\"arrowcolor\": \"#2a3f5f\", \"arrowhead\": 0, \"arrowwidth\": 1}, \"coloraxis\": {\"colorbar\": {\"outlinewidth\": 0, \"ticks\": \"\"}}, \"colorscale\": {\"diverging\": [[0, \"#8e0152\"], [0.1, \"#c51b7d\"], [0.2, \"#de77ae\"], [0.3, \"#f1b6da\"], [0.4, \"#fde0ef\"], [0.5, \"#f7f7f7\"], [0.6, \"#e6f5d0\"], [0.7, \"#b8e186\"], [0.8, \"#7fbc41\"], [0.9, \"#4d9221\"], [1, \"#276419\"]], \"sequential\": [[0.0, \"#0d0887\"], [0.1111111111111111, \"#46039f\"], [0.2222222222222222, \"#7201a8\"], [0.3333333333333333, \"#9c179e\"], [0.4444444444444444, \"#bd3786\"], [0.5555555555555556, \"#d8576b\"], [0.6666666666666666, \"#ed7953\"], [0.7777777777777778, \"#fb9f3a\"], [0.8888888888888888, \"#fdca26\"], [1.0, \"#f0f921\"]], \"sequentialminus\": [[0.0, \"#0d0887\"], [0.1111111111111111, \"#46039f\"], [0.2222222222222222, \"#7201a8\"], [0.3333333333333333, \"#9c179e\"], [0.4444444444444444, \"#bd3786\"], [0.5555555555555556, \"#d8576b\"], [0.6666666666666666, \"#ed7953\"], [0.7777777777777778, \"#fb9f3a\"], [0.8888888888888888, \"#fdca26\"], [1.0, \"#f0f921\"]]}, \"colorway\": [\"#636efa\", \"#EF553B\", \"#00cc96\", \"#ab63fa\", \"#FFA15A\", \"#19d3f3\", \"#FF6692\", \"#B6E880\", \"#FF97FF\", \"#FECB52\"], \"font\": {\"color\": \"#2a3f5f\"}, \"geo\": {\"bgcolor\": \"white\", \"lakecolor\": \"white\", \"landcolor\": \"#E5ECF6\", \"showlakes\": true, \"showland\": true, \"subunitcolor\": \"white\"}, \"hoverlabel\": {\"align\": \"left\"}, \"hovermode\": \"closest\", \"mapbox\": {\"style\": \"light\"}, \"paper_bgcolor\": \"white\", \"plot_bgcolor\": \"#E5ECF6\", \"polar\": {\"angularaxis\": {\"gridcolor\": \"white\", \"linecolor\": \"white\", \"ticks\": \"\"}, \"bgcolor\": \"#E5ECF6\", \"radialaxis\": {\"gridcolor\": \"white\", \"linecolor\": \"white\", \"ticks\": \"\"}}, \"scene\": {\"xaxis\": {\"backgroundcolor\": \"#E5ECF6\", \"gridcolor\": \"white\", \"gridwidth\": 2, \"linecolor\": \"white\", \"showbackground\": true, \"ticks\": \"\", \"zerolinecolor\": \"white\"}, \"yaxis\": {\"backgroundcolor\": \"#E5ECF6\", \"gridcolor\": \"white\", \"gridwidth\": 2, \"linecolor\": \"white\", \"showbackground\": true, \"ticks\": \"\", \"zerolinecolor\": \"white\"}, \"zaxis\": {\"backgroundcolor\": \"#E5ECF6\", \"gridcolor\": \"white\", \"gridwidth\": 2, \"linecolor\": \"white\", \"showbackground\": true, \"ticks\": \"\", \"zerolinecolor\": \"white\"}}, \"shapedefaults\": {\"line\": {\"color\": \"#2a3f5f\"}}, \"ternary\": {\"aaxis\": {\"gridcolor\": \"white\", \"linecolor\": \"white\", \"ticks\": \"\"}, \"baxis\": {\"gridcolor\": \"white\", \"linecolor\": \"white\", \"ticks\": \"\"}, \"bgcolor\": \"#E5ECF6\", \"caxis\": {\"gridcolor\": \"white\", \"linecolor\": \"white\", \"ticks\": \"\"}}, \"title\": {\"x\": 0.05}, \"xaxis\": {\"automargin\": true, \"gridcolor\": \"white\", \"linecolor\": \"white\", \"ticks\": \"\", \"title\": {\"standoff\": 15}, \"zerolinecolor\": \"white\", \"zerolinewidth\": 2}, \"yaxis\": {\"automargin\": true, \"gridcolor\": \"white\", \"linecolor\": \"white\", \"ticks\": \"\", \"title\": {\"standoff\": 15}, \"zerolinecolor\": \"white\", \"zerolinewidth\": 2}}}, \"title\": {\"text\": \"Pay rate for races\"}, \"width\": 900, \"xaxis\": {\"anchor\": \"y\", \"domain\": [0.0, 1.0], \"matches\": \"x4\", \"showticklabels\": false, \"title\": {\"text\": \"PayRate\"}}, \"xaxis2\": {\"anchor\": \"y2\", \"domain\": [0.0, 1.0], \"matches\": \"x4\", \"showticklabels\": false, \"title\": {\"text\": \"PayRate\"}}, \"xaxis3\": {\"anchor\": \"y3\", \"domain\": [0.0, 1.0], \"matches\": \"x4\", \"showticklabels\": false, \"title\": {\"text\": \"PayRate\"}}, \"xaxis4\": {\"anchor\": \"y4\", \"domain\": [0.0, 1.0], \"title\": {\"text\": \"PayRate\"}}, \"yaxis\": {\"anchor\": \"x\", \"domain\": [0.825, 1.0], \"title\": {\"text\": \"occurences\"}}, \"yaxis2\": {\"anchor\": \"x2\", \"domain\": [0.55, 0.7250000000000001], \"title\": {\"text\": \"occurences\"}}, \"yaxis3\": {\"anchor\": \"x3\", \"domain\": [0.275, 0.45], \"title\": {\"text\": \"occurences\"}}, \"yaxis4\": {\"anchor\": \"x4\", \"domain\": [0.0, 0.175], \"title\": {\"text\": \"occurences\"}}},\n",
       "                        {\"responsive\": true}\n",
       "                    ).then(function(){\n",
       "                            \n",
       "var gd = document.getElementById('04a3037c-3f8b-4c87-8103-a625a84cfbe7');\n",
       "var x = new MutationObserver(function (mutations, observer) {{\n",
       "        var display = window.getComputedStyle(gd).display;\n",
       "        if (!display || display === 'none') {{\n",
       "            console.log([gd, 'removed!']);\n",
       "            Plotly.purge(gd);\n",
       "            observer.disconnect();\n",
       "        }}\n",
       "}});\n",
       "\n",
       "// Listen for the removal of the full notebook cells\n",
       "var notebookContainer = gd.closest('#notebook-container');\n",
       "if (notebookContainer) {{\n",
       "    x.observe(notebookContainer, {childList: true});\n",
       "}}\n",
       "\n",
       "// Listen for the clearing of the current output cell\n",
       "var outputEl = gd.closest('.output');\n",
       "if (outputEl) {{\n",
       "    x.observe(outputEl, {childList: true});\n",
       "}}\n",
       "\n",
       "                        })\n",
       "                };\n",
       "                });\n",
       "            </script>\n",
       "        </div>"
      ]
     },
     "metadata": {},
     "output_type": "display_data"
    }
   ],
   "source": [
    "fig = hist(hr, \"race\", \"PayRate\", \"Pay rate for races\",\n",
    "           color)\n",
    "fig.update_layout(width=900)\n",
    "fig.show()"
   ]
  },
  {
   "cell_type": "markdown",
   "metadata": {},
   "source": [
    "Contrary to the previous histograms for these groups, we can clearly see that there are two distinct categories within this group. The pay rate for the minority races is either low as for the production workers or quite high as for the software engineers or salespeople."
   ]
  },
  {
   "cell_type": "code",
   "execution_count": 43,
   "metadata": {
    "collapsed": true
   },
   "outputs": [
    {
     "data": {
      "application/vnd.plotly.v1+json": {
       "config": {
        "plotlyServerURL": "https://plot.ly"
       },
       "data": [
        {
         "alignmentgroup": "True",
         "customdata": [
          [
           "Admin Offices"
          ],
          [
           "Admin Offices"
          ],
          [
           "Sales"
          ],
          [
           "Sales"
          ],
          [
           "Sales"
          ],
          [
           "Sales"
          ],
          [
           "Sales"
          ],
          [
           "Sales"
          ],
          [
           "Sales"
          ],
          [
           "Sales"
          ],
          [
           "IT/IS"
          ],
          [
           "IT/IS"
          ],
          [
           "IT/IS"
          ],
          [
           "IT/IS"
          ],
          [
           "IT/IS"
          ],
          [
           "IT/IS"
          ],
          [
           "Production"
          ],
          [
           "IT/IS"
          ],
          [
           "IT/IS"
          ],
          [
           "Production"
          ],
          [
           "Production"
          ],
          [
           "Production"
          ],
          [
           "Production"
          ],
          [
           "Production"
          ],
          [
           "Production"
          ],
          [
           "Production"
          ],
          [
           "Production"
          ],
          [
           "Production"
          ],
          [
           "Production"
          ],
          [
           "Production"
          ],
          [
           "Production"
          ],
          [
           "Production"
          ],
          [
           "Production"
          ],
          [
           "Production"
          ],
          [
           "Production"
          ],
          [
           "Production"
          ],
          [
           "Production"
          ],
          [
           "Production"
          ],
          [
           "Production"
          ],
          [
           "Production"
          ],
          [
           "Production"
          ],
          [
           "Production"
          ],
          [
           "Production"
          ],
          [
           "Production"
          ],
          [
           "Production"
          ],
          [
           "Production"
          ],
          [
           "Production"
          ],
          [
           "Production"
          ],
          [
           "Production"
          ],
          [
           "Production"
          ],
          [
           "Sales"
          ],
          [
           "Admin Offices"
          ],
          [
           "Software Engineering"
          ],
          [
           "Software Engineering"
          ],
          [
           "Software Engineering"
          ],
          [
           "IT/IS"
          ],
          [
           "IT/IS"
          ]
         ],
         "hovertemplate": "race=Black or African American<br>PayRate=%{y}<br>Department=%{customdata[0]}<extra></extra>",
         "legendgroup": "Black or African American",
         "marker": {
          "color": "#007929"
         },
         "name": "Black or African American",
         "notched": false,
         "offsetgroup": "Black or African American",
         "orientation": "v",
         "showlegend": true,
         "type": "box",
         "x0": " ",
         "xaxis": "x",
         "y": [
          28.5,
          23,
          55,
          55,
          55,
          54,
          55,
          56,
          55,
          55,
          45,
          45,
          55,
          40.1,
          35.5,
          45,
          60,
          65,
          27.49,
          55,
          33.5,
          24,
          22,
          24,
          17,
          20,
          21,
          20,
          24,
          14,
          20,
          22,
          14,
          20,
          15,
          24,
          19,
          22,
          15,
          18,
          24,
          25,
          29,
          27,
          26.1,
          29,
          22,
          25,
          29,
          24,
          56,
          55,
          57.12,
          48.5,
          45.42,
          61.3,
          58.2
         ],
         "y0": " ",
         "yaxis": "y"
        },
        {
         "alignmentgroup": "True",
         "customdata": [
          [
           "Admin Offices"
          ],
          [
           "Admin Offices"
          ],
          [
           "Admin Offices"
          ],
          [
           "Sales"
          ],
          [
           "Sales"
          ],
          [
           "Sales"
          ],
          [
           "Sales"
          ],
          [
           "Sales"
          ],
          [
           "Sales"
          ],
          [
           "Sales"
          ],
          [
           "Sales"
          ],
          [
           "Sales"
          ],
          [
           "Sales"
          ],
          [
           "Sales"
          ],
          [
           "IT/IS"
          ],
          [
           "IT/IS"
          ],
          [
           "IT/IS"
          ],
          [
           "IT/IS"
          ],
          [
           "IT/IS"
          ],
          [
           "IT/IS"
          ],
          [
           "IT/IS"
          ],
          [
           "IT/IS"
          ],
          [
           "IT/IS"
          ],
          [
           "IT/IS"
          ],
          [
           "IT/IS"
          ],
          [
           "IT/IS"
          ],
          [
           "Sales"
          ],
          [
           "IT/IS"
          ],
          [
           "IT/IS"
          ],
          [
           "IT/IS"
          ],
          [
           "IT/IS"
          ],
          [
           "IT/IS"
          ],
          [
           "IT/IS"
          ],
          [
           "IT/IS"
          ],
          [
           "IT/IS"
          ],
          [
           "IT/IS"
          ],
          [
           "IT/IS"
          ],
          [
           "IT/IS"
          ],
          [
           "IT/IS"
          ],
          [
           "IT/IS"
          ],
          [
           "Executive Office"
          ],
          [
           "Production"
          ],
          [
           "Production"
          ],
          [
           "Production"
          ],
          [
           "Production"
          ],
          [
           "Production"
          ],
          [
           "Production"
          ],
          [
           "Production"
          ],
          [
           "Production"
          ],
          [
           "Production"
          ],
          [
           "Production"
          ],
          [
           "Production"
          ],
          [
           "Production"
          ],
          [
           "Production"
          ],
          [
           "Production"
          ],
          [
           "Production"
          ],
          [
           "Production"
          ],
          [
           "Production"
          ],
          [
           "Production"
          ],
          [
           "Production"
          ],
          [
           "Production"
          ],
          [
           "Production"
          ],
          [
           "Production"
          ],
          [
           "Production"
          ],
          [
           "Production"
          ],
          [
           "Production"
          ],
          [
           "Production"
          ],
          [
           "Production"
          ],
          [
           "Production"
          ],
          [
           "Production"
          ],
          [
           "Production"
          ],
          [
           "Production"
          ],
          [
           "Production"
          ],
          [
           "Production"
          ],
          [
           "Production"
          ],
          [
           "Production"
          ],
          [
           "Production"
          ],
          [
           "Production"
          ],
          [
           "Production"
          ],
          [
           "Production"
          ],
          [
           "Production"
          ],
          [
           "Production"
          ],
          [
           "Production"
          ],
          [
           "Production"
          ],
          [
           "Production"
          ],
          [
           "Production"
          ],
          [
           "Production"
          ],
          [
           "Production"
          ],
          [
           "Production"
          ],
          [
           "Production"
          ],
          [
           "Production"
          ],
          [
           "Production"
          ],
          [
           "Production"
          ],
          [
           "Production"
          ],
          [
           "Production"
          ],
          [
           "Production"
          ],
          [
           "Production"
          ],
          [
           "Production"
          ],
          [
           "Production"
          ],
          [
           "Production"
          ],
          [
           "Production"
          ],
          [
           "Production"
          ],
          [
           "Production"
          ],
          [
           "Production"
          ],
          [
           "Production"
          ],
          [
           "Production"
          ],
          [
           "Production"
          ],
          [
           "Production"
          ],
          [
           "Production"
          ],
          [
           "Production"
          ],
          [
           "Production"
          ],
          [
           "Production"
          ],
          [
           "Production"
          ],
          [
           "Production"
          ],
          [
           "Production"
          ],
          [
           "Production"
          ],
          [
           "Production"
          ],
          [
           "Production"
          ],
          [
           "Production"
          ],
          [
           "Production"
          ],
          [
           "Production"
          ],
          [
           "Production"
          ],
          [
           "Production"
          ],
          [
           "Production"
          ],
          [
           "Production"
          ],
          [
           "Production"
          ],
          [
           "Production"
          ],
          [
           "Production"
          ],
          [
           "Production"
          ],
          [
           "Production"
          ],
          [
           "Production"
          ],
          [
           "Production"
          ],
          [
           "Production"
          ],
          [
           "Production"
          ],
          [
           "Production"
          ],
          [
           "Production"
          ],
          [
           "Production"
          ],
          [
           "Production"
          ],
          [
           "Production"
          ],
          [
           "Production"
          ],
          [
           "Production"
          ],
          [
           "Production"
          ],
          [
           "Production"
          ],
          [
           "Production"
          ],
          [
           "Production"
          ],
          [
           "Production"
          ],
          [
           "Production"
          ],
          [
           "Production"
          ],
          [
           "Production"
          ],
          [
           "Production"
          ],
          [
           "Production"
          ],
          [
           "Production"
          ],
          [
           "Production"
          ],
          [
           "Production"
          ],
          [
           "Production"
          ],
          [
           "Production"
          ],
          [
           "Production"
          ],
          [
           "Production"
          ],
          [
           "Production"
          ],
          [
           "Production"
          ],
          [
           "Production"
          ],
          [
           "Production"
          ],
          [
           "Production"
          ],
          [
           "Production"
          ],
          [
           "Production"
          ],
          [
           "Production"
          ],
          [
           "Production"
          ],
          [
           "Production"
          ],
          [
           "Production"
          ],
          [
           "Production"
          ],
          [
           "Production"
          ],
          [
           "Production"
          ],
          [
           "Production"
          ],
          [
           "Production"
          ],
          [
           "Production"
          ],
          [
           "Production"
          ],
          [
           "Production"
          ],
          [
           "Production"
          ],
          [
           "Production"
          ],
          [
           "Sales"
          ],
          [
           "Sales"
          ],
          [
           "Admin Offices"
          ],
          [
           "Software Engineering"
          ],
          [
           "Software Engineering"
          ],
          [
           "Software Engineering"
          ],
          [
           "Software Engineering"
          ],
          [
           "Software Engineering"
          ],
          [
           "Admin Offices"
          ],
          [
           "IT/IS"
          ],
          [
           "IT/IS"
          ],
          [
           "IT/IS"
          ],
          [
           "IT/IS"
          ],
          [
           "IT/IS"
          ]
         ],
         "hovertemplate": "race=White<br>PayRate=%{y}<br>Department=%{customdata[0]}<extra></extra>",
         "legendgroup": "White",
         "marker": {
          "color": "#024E68"
         },
         "name": "White",
         "notched": false,
         "offsetgroup": "White",
         "orientation": "v",
         "showlegend": true,
         "type": "box",
         "x0": " ",
         "xaxis": "x",
         "y": [
          29,
          21.5,
          16.56,
          55,
          55,
          55.5,
          55,
          55,
          55,
          55,
          56,
          55,
          57,
          55,
          46,
          45,
          63.5,
          65,
          43,
          48.5,
          34,
          41,
          39.55,
          42.2,
          30.2,
          31.4,
          60,
          62,
          64,
          28.99,
          31.4,
          45,
          42,
          37,
          39,
          43,
          27,
          47,
          28,
          49.1,
          80,
          54.5,
          55,
          51,
          54,
          48.5,
          55,
          38.5,
          52,
          53,
          23,
          16,
          21,
          20,
          18,
          20,
          24,
          15,
          22,
          22,
          15,
          20,
          21,
          16,
          24.75,
          24,
          16,
          23,
          18,
          17,
          16,
          20,
          15,
          16.75,
          19,
          15,
          20,
          17,
          20,
          19,
          17,
          21,
          22,
          21,
          22,
          19.5,
          15,
          18,
          22,
          21,
          15,
          18,
          20,
          15,
          15.75,
          21.25,
          21,
          14,
          19,
          15,
          16,
          16,
          21,
          22,
          21,
          23,
          17,
          19,
          17,
          21,
          17,
          16,
          24.5,
          20,
          17,
          21,
          16,
          18,
          19,
          20,
          18,
          16,
          19.75,
          17,
          24,
          17,
          19,
          15.25,
          20,
          21,
          21,
          19,
          20,
          16,
          22,
          23.5,
          20,
          19.75,
          22,
          23,
          29,
          23,
          22,
          25,
          25,
          25,
          29,
          26,
          24.25,
          27,
          26,
          22,
          26,
          25,
          26.39,
          22,
          28.75,
          27,
          24,
          24,
          22,
          29,
          26,
          24,
          26,
          29,
          29,
          28,
          22,
          24.25,
          27,
          24,
          28,
          24,
          23,
          22,
          28,
          23,
          23,
          54,
          60.25,
          55,
          47.6,
          56,
          49.25,
          48,
          27,
          34.95,
          62,
          58.5,
          54.1,
          56.2,
          53
         ],
         "y0": " ",
         "yaxis": "y"
        },
        {
         "alignmentgroup": "True",
         "customdata": [
          [
           "Admin Offices"
          ],
          [
           "Sales"
          ],
          [
           "IT/IS"
          ],
          [
           "IT/IS"
          ],
          [
           "Production"
          ],
          [
           "Production"
          ],
          [
           "Production"
          ],
          [
           "Production"
          ],
          [
           "Production"
          ],
          [
           "Production"
          ],
          [
           "Production"
          ],
          [
           "Production"
          ],
          [
           "Production"
          ],
          [
           "Production"
          ],
          [
           "Production"
          ],
          [
           "Production"
          ],
          [
           "Production"
          ],
          [
           "Production"
          ],
          [
           "Production"
          ],
          [
           "Production"
          ],
          [
           "Production"
          ],
          [
           "Production"
          ],
          [
           "Production"
          ],
          [
           "Production"
          ],
          [
           "Production"
          ],
          [
           "Production"
          ],
          [
           "IT/IS"
          ],
          [
           "IT/IS"
          ],
          [
           "IT/IS"
          ],
          [
           "Software Engineering"
          ],
          [
           "Software Engineering"
          ],
          [
           "Admin Offices"
          ],
          [
           "IT/IS"
          ],
          [
           "IT/IS"
          ]
         ],
         "hovertemplate": "race=Asian<br>PayRate=%{y}<br>Department=%{customdata[0]}<extra></extra>",
         "legendgroup": "Asian",
         "marker": {
          "color": "#A65500"
         },
         "name": "Asian",
         "notched": false,
         "offsetgroup": "Asian",
         "orientation": "v",
         "showlegend": true,
         "type": "box",
         "x0": " ",
         "xaxis": "x",
         "y": [
          20.5,
          56,
          40,
          42.75,
          50.5,
          42,
          21,
          15,
          22,
          15,
          21,
          14,
          22,
          22,
          22,
          18,
          24,
          19,
          19,
          17,
          22,
          15.2,
          28,
          26,
          22,
          25,
          50.25,
          52.25,
          51,
          55.51,
          52.25,
          34.95,
          53.8,
          55.2
         ],
         "y0": " ",
         "yaxis": "y"
        },
        {
         "alignmentgroup": "True",
         "customdata": [
          [
           "Sales"
          ],
          [
           "Sales"
          ],
          [
           "Sales"
          ],
          [
           "Sales"
          ],
          [
           "Sales"
          ],
          [
           "Sales"
          ],
          [
           "Sales"
          ],
          [
           "IT/IS"
          ],
          [
           "IT/IS"
          ],
          [
           "IT/IS"
          ],
          [
           "Production"
          ],
          [
           "Production"
          ],
          [
           "Production"
          ],
          [
           "Production"
          ],
          [
           "Production"
          ],
          [
           "Production"
          ],
          [
           "Production"
          ],
          [
           "Production"
          ],
          [
           "Production"
          ],
          [
           "Production"
          ],
          [
           "Production"
          ],
          [
           "Production"
          ],
          [
           "Production"
          ],
          [
           "Production"
          ],
          [
           "Production"
          ],
          [
           "Production"
          ]
         ],
         "hovertemplate": "race=other<br>PayRate=%{y}<br>Department=%{customdata[0]}<extra></extra>",
         "legendgroup": "other",
         "marker": {
          "color": "#A61A00"
         },
         "name": "other",
         "notched": false,
         "offsetgroup": "other",
         "orientation": "v",
         "showlegend": true,
         "type": "box",
         "x0": " ",
         "xaxis": "x",
         "y": [
          56,
          55.5,
          55,
          55,
          55,
          55,
          55,
          21,
          63,
          26,
          53,
          16,
          22,
          16,
          17,
          16.76,
          16,
          18.5,
          14,
          19,
          15,
          23,
          26,
          22.5,
          25,
          27
         ],
         "y0": " ",
         "yaxis": "y"
        }
       ],
       "layout": {
        "boxmode": "group",
        "legend": {
         "title": {
          "text": "race"
         },
         "tracegroupgap": 0
        },
        "margin": {
         "t": 60
        },
        "template": {
         "data": {
          "bar": [
           {
            "error_x": {
             "color": "#2a3f5f"
            },
            "error_y": {
             "color": "#2a3f5f"
            },
            "marker": {
             "line": {
              "color": "#E5ECF6",
              "width": 0.5
             }
            },
            "type": "bar"
           }
          ],
          "barpolar": [
           {
            "marker": {
             "line": {
              "color": "#E5ECF6",
              "width": 0.5
             }
            },
            "type": "barpolar"
           }
          ],
          "carpet": [
           {
            "aaxis": {
             "endlinecolor": "#2a3f5f",
             "gridcolor": "white",
             "linecolor": "white",
             "minorgridcolor": "white",
             "startlinecolor": "#2a3f5f"
            },
            "baxis": {
             "endlinecolor": "#2a3f5f",
             "gridcolor": "white",
             "linecolor": "white",
             "minorgridcolor": "white",
             "startlinecolor": "#2a3f5f"
            },
            "type": "carpet"
           }
          ],
          "choropleth": [
           {
            "colorbar": {
             "outlinewidth": 0,
             "ticks": ""
            },
            "type": "choropleth"
           }
          ],
          "contour": [
           {
            "colorbar": {
             "outlinewidth": 0,
             "ticks": ""
            },
            "colorscale": [
             [
              0,
              "#0d0887"
             ],
             [
              0.1111111111111111,
              "#46039f"
             ],
             [
              0.2222222222222222,
              "#7201a8"
             ],
             [
              0.3333333333333333,
              "#9c179e"
             ],
             [
              0.4444444444444444,
              "#bd3786"
             ],
             [
              0.5555555555555556,
              "#d8576b"
             ],
             [
              0.6666666666666666,
              "#ed7953"
             ],
             [
              0.7777777777777778,
              "#fb9f3a"
             ],
             [
              0.8888888888888888,
              "#fdca26"
             ],
             [
              1,
              "#f0f921"
             ]
            ],
            "type": "contour"
           }
          ],
          "contourcarpet": [
           {
            "colorbar": {
             "outlinewidth": 0,
             "ticks": ""
            },
            "type": "contourcarpet"
           }
          ],
          "heatmap": [
           {
            "colorbar": {
             "outlinewidth": 0,
             "ticks": ""
            },
            "colorscale": [
             [
              0,
              "#0d0887"
             ],
             [
              0.1111111111111111,
              "#46039f"
             ],
             [
              0.2222222222222222,
              "#7201a8"
             ],
             [
              0.3333333333333333,
              "#9c179e"
             ],
             [
              0.4444444444444444,
              "#bd3786"
             ],
             [
              0.5555555555555556,
              "#d8576b"
             ],
             [
              0.6666666666666666,
              "#ed7953"
             ],
             [
              0.7777777777777778,
              "#fb9f3a"
             ],
             [
              0.8888888888888888,
              "#fdca26"
             ],
             [
              1,
              "#f0f921"
             ]
            ],
            "type": "heatmap"
           }
          ],
          "heatmapgl": [
           {
            "colorbar": {
             "outlinewidth": 0,
             "ticks": ""
            },
            "colorscale": [
             [
              0,
              "#0d0887"
             ],
             [
              0.1111111111111111,
              "#46039f"
             ],
             [
              0.2222222222222222,
              "#7201a8"
             ],
             [
              0.3333333333333333,
              "#9c179e"
             ],
             [
              0.4444444444444444,
              "#bd3786"
             ],
             [
              0.5555555555555556,
              "#d8576b"
             ],
             [
              0.6666666666666666,
              "#ed7953"
             ],
             [
              0.7777777777777778,
              "#fb9f3a"
             ],
             [
              0.8888888888888888,
              "#fdca26"
             ],
             [
              1,
              "#f0f921"
             ]
            ],
            "type": "heatmapgl"
           }
          ],
          "histogram": [
           {
            "marker": {
             "colorbar": {
              "outlinewidth": 0,
              "ticks": ""
             }
            },
            "type": "histogram"
           }
          ],
          "histogram2d": [
           {
            "colorbar": {
             "outlinewidth": 0,
             "ticks": ""
            },
            "colorscale": [
             [
              0,
              "#0d0887"
             ],
             [
              0.1111111111111111,
              "#46039f"
             ],
             [
              0.2222222222222222,
              "#7201a8"
             ],
             [
              0.3333333333333333,
              "#9c179e"
             ],
             [
              0.4444444444444444,
              "#bd3786"
             ],
             [
              0.5555555555555556,
              "#d8576b"
             ],
             [
              0.6666666666666666,
              "#ed7953"
             ],
             [
              0.7777777777777778,
              "#fb9f3a"
             ],
             [
              0.8888888888888888,
              "#fdca26"
             ],
             [
              1,
              "#f0f921"
             ]
            ],
            "type": "histogram2d"
           }
          ],
          "histogram2dcontour": [
           {
            "colorbar": {
             "outlinewidth": 0,
             "ticks": ""
            },
            "colorscale": [
             [
              0,
              "#0d0887"
             ],
             [
              0.1111111111111111,
              "#46039f"
             ],
             [
              0.2222222222222222,
              "#7201a8"
             ],
             [
              0.3333333333333333,
              "#9c179e"
             ],
             [
              0.4444444444444444,
              "#bd3786"
             ],
             [
              0.5555555555555556,
              "#d8576b"
             ],
             [
              0.6666666666666666,
              "#ed7953"
             ],
             [
              0.7777777777777778,
              "#fb9f3a"
             ],
             [
              0.8888888888888888,
              "#fdca26"
             ],
             [
              1,
              "#f0f921"
             ]
            ],
            "type": "histogram2dcontour"
           }
          ],
          "mesh3d": [
           {
            "colorbar": {
             "outlinewidth": 0,
             "ticks": ""
            },
            "type": "mesh3d"
           }
          ],
          "parcoords": [
           {
            "line": {
             "colorbar": {
              "outlinewidth": 0,
              "ticks": ""
             }
            },
            "type": "parcoords"
           }
          ],
          "pie": [
           {
            "automargin": true,
            "type": "pie"
           }
          ],
          "scatter": [
           {
            "marker": {
             "colorbar": {
              "outlinewidth": 0,
              "ticks": ""
             }
            },
            "type": "scatter"
           }
          ],
          "scatter3d": [
           {
            "line": {
             "colorbar": {
              "outlinewidth": 0,
              "ticks": ""
             }
            },
            "marker": {
             "colorbar": {
              "outlinewidth": 0,
              "ticks": ""
             }
            },
            "type": "scatter3d"
           }
          ],
          "scattercarpet": [
           {
            "marker": {
             "colorbar": {
              "outlinewidth": 0,
              "ticks": ""
             }
            },
            "type": "scattercarpet"
           }
          ],
          "scattergeo": [
           {
            "marker": {
             "colorbar": {
              "outlinewidth": 0,
              "ticks": ""
             }
            },
            "type": "scattergeo"
           }
          ],
          "scattergl": [
           {
            "marker": {
             "colorbar": {
              "outlinewidth": 0,
              "ticks": ""
             }
            },
            "type": "scattergl"
           }
          ],
          "scattermapbox": [
           {
            "marker": {
             "colorbar": {
              "outlinewidth": 0,
              "ticks": ""
             }
            },
            "type": "scattermapbox"
           }
          ],
          "scatterpolar": [
           {
            "marker": {
             "colorbar": {
              "outlinewidth": 0,
              "ticks": ""
             }
            },
            "type": "scatterpolar"
           }
          ],
          "scatterpolargl": [
           {
            "marker": {
             "colorbar": {
              "outlinewidth": 0,
              "ticks": ""
             }
            },
            "type": "scatterpolargl"
           }
          ],
          "scatterternary": [
           {
            "marker": {
             "colorbar": {
              "outlinewidth": 0,
              "ticks": ""
             }
            },
            "type": "scatterternary"
           }
          ],
          "surface": [
           {
            "colorbar": {
             "outlinewidth": 0,
             "ticks": ""
            },
            "colorscale": [
             [
              0,
              "#0d0887"
             ],
             [
              0.1111111111111111,
              "#46039f"
             ],
             [
              0.2222222222222222,
              "#7201a8"
             ],
             [
              0.3333333333333333,
              "#9c179e"
             ],
             [
              0.4444444444444444,
              "#bd3786"
             ],
             [
              0.5555555555555556,
              "#d8576b"
             ],
             [
              0.6666666666666666,
              "#ed7953"
             ],
             [
              0.7777777777777778,
              "#fb9f3a"
             ],
             [
              0.8888888888888888,
              "#fdca26"
             ],
             [
              1,
              "#f0f921"
             ]
            ],
            "type": "surface"
           }
          ],
          "table": [
           {
            "cells": {
             "fill": {
              "color": "#EBF0F8"
             },
             "line": {
              "color": "white"
             }
            },
            "header": {
             "fill": {
              "color": "#C8D4E3"
             },
             "line": {
              "color": "white"
             }
            },
            "type": "table"
           }
          ]
         },
         "layout": {
          "annotationdefaults": {
           "arrowcolor": "#2a3f5f",
           "arrowhead": 0,
           "arrowwidth": 1
          },
          "coloraxis": {
           "colorbar": {
            "outlinewidth": 0,
            "ticks": ""
           }
          },
          "colorscale": {
           "diverging": [
            [
             0,
             "#8e0152"
            ],
            [
             0.1,
             "#c51b7d"
            ],
            [
             0.2,
             "#de77ae"
            ],
            [
             0.3,
             "#f1b6da"
            ],
            [
             0.4,
             "#fde0ef"
            ],
            [
             0.5,
             "#f7f7f7"
            ],
            [
             0.6,
             "#e6f5d0"
            ],
            [
             0.7,
             "#b8e186"
            ],
            [
             0.8,
             "#7fbc41"
            ],
            [
             0.9,
             "#4d9221"
            ],
            [
             1,
             "#276419"
            ]
           ],
           "sequential": [
            [
             0,
             "#0d0887"
            ],
            [
             0.1111111111111111,
             "#46039f"
            ],
            [
             0.2222222222222222,
             "#7201a8"
            ],
            [
             0.3333333333333333,
             "#9c179e"
            ],
            [
             0.4444444444444444,
             "#bd3786"
            ],
            [
             0.5555555555555556,
             "#d8576b"
            ],
            [
             0.6666666666666666,
             "#ed7953"
            ],
            [
             0.7777777777777778,
             "#fb9f3a"
            ],
            [
             0.8888888888888888,
             "#fdca26"
            ],
            [
             1,
             "#f0f921"
            ]
           ],
           "sequentialminus": [
            [
             0,
             "#0d0887"
            ],
            [
             0.1111111111111111,
             "#46039f"
            ],
            [
             0.2222222222222222,
             "#7201a8"
            ],
            [
             0.3333333333333333,
             "#9c179e"
            ],
            [
             0.4444444444444444,
             "#bd3786"
            ],
            [
             0.5555555555555556,
             "#d8576b"
            ],
            [
             0.6666666666666666,
             "#ed7953"
            ],
            [
             0.7777777777777778,
             "#fb9f3a"
            ],
            [
             0.8888888888888888,
             "#fdca26"
            ],
            [
             1,
             "#f0f921"
            ]
           ]
          },
          "colorway": [
           "#636efa",
           "#EF553B",
           "#00cc96",
           "#ab63fa",
           "#FFA15A",
           "#19d3f3",
           "#FF6692",
           "#B6E880",
           "#FF97FF",
           "#FECB52"
          ],
          "font": {
           "color": "#2a3f5f"
          },
          "geo": {
           "bgcolor": "white",
           "lakecolor": "white",
           "landcolor": "#E5ECF6",
           "showlakes": true,
           "showland": true,
           "subunitcolor": "white"
          },
          "hoverlabel": {
           "align": "left"
          },
          "hovermode": "closest",
          "mapbox": {
           "style": "light"
          },
          "paper_bgcolor": "white",
          "plot_bgcolor": "#E5ECF6",
          "polar": {
           "angularaxis": {
            "gridcolor": "white",
            "linecolor": "white",
            "ticks": ""
           },
           "bgcolor": "#E5ECF6",
           "radialaxis": {
            "gridcolor": "white",
            "linecolor": "white",
            "ticks": ""
           }
          },
          "scene": {
           "xaxis": {
            "backgroundcolor": "#E5ECF6",
            "gridcolor": "white",
            "gridwidth": 2,
            "linecolor": "white",
            "showbackground": true,
            "ticks": "",
            "zerolinecolor": "white"
           },
           "yaxis": {
            "backgroundcolor": "#E5ECF6",
            "gridcolor": "white",
            "gridwidth": 2,
            "linecolor": "white",
            "showbackground": true,
            "ticks": "",
            "zerolinecolor": "white"
           },
           "zaxis": {
            "backgroundcolor": "#E5ECF6",
            "gridcolor": "white",
            "gridwidth": 2,
            "linecolor": "white",
            "showbackground": true,
            "ticks": "",
            "zerolinecolor": "white"
           }
          },
          "shapedefaults": {
           "line": {
            "color": "#2a3f5f"
           }
          },
          "ternary": {
           "aaxis": {
            "gridcolor": "white",
            "linecolor": "white",
            "ticks": ""
           },
           "baxis": {
            "gridcolor": "white",
            "linecolor": "white",
            "ticks": ""
           },
           "bgcolor": "#E5ECF6",
           "caxis": {
            "gridcolor": "white",
            "linecolor": "white",
            "ticks": ""
           }
          },
          "title": {
           "x": 0.05
          },
          "xaxis": {
           "automargin": true,
           "gridcolor": "white",
           "linecolor": "white",
           "ticks": "",
           "title": {
            "standoff": 15
           },
           "zerolinecolor": "white",
           "zerolinewidth": 2
          },
          "yaxis": {
           "automargin": true,
           "gridcolor": "white",
           "linecolor": "white",
           "ticks": "",
           "title": {
            "standoff": 15
           },
           "zerolinecolor": "white",
           "zerolinewidth": 2
          }
         }
        },
        "xaxis": {
         "anchor": "y",
         "domain": [
          0,
          1
         ]
        },
        "yaxis": {
         "anchor": "x",
         "domain": [
          0,
          1
         ],
         "title": {
          "text": "PayRate"
         }
        }
       }
      },
      "text/html": [
       "<div>\n",
       "        \n",
       "        \n",
       "            <div id=\"d9a8571c-9cb0-45c1-8500-cab578d1618c\" class=\"plotly-graph-div\" style=\"height:525px; width:100%;\"></div>\n",
       "            <script type=\"text/javascript\">\n",
       "                require([\"plotly\"], function(Plotly) {\n",
       "                    window.PLOTLYENV=window.PLOTLYENV || {};\n",
       "                    \n",
       "                if (document.getElementById(\"d9a8571c-9cb0-45c1-8500-cab578d1618c\")) {\n",
       "                    Plotly.newPlot(\n",
       "                        'd9a8571c-9cb0-45c1-8500-cab578d1618c',\n",
       "                        [{\"alignmentgroup\": \"True\", \"customdata\": [[\"Admin Offices\"], [\"Admin Offices\"], [\"Sales\"], [\"Sales\"], [\"Sales\"], [\"Sales\"], [\"Sales\"], [\"Sales\"], [\"Sales\"], [\"Sales\"], [\"IT/IS\"], [\"IT/IS\"], [\"IT/IS\"], [\"IT/IS\"], [\"IT/IS\"], [\"IT/IS\"], [\"Production\"], [\"IT/IS\"], [\"IT/IS\"], [\"Production\"], [\"Production\"], [\"Production\"], [\"Production\"], [\"Production\"], [\"Production\"], [\"Production\"], [\"Production\"], [\"Production\"], [\"Production\"], [\"Production\"], [\"Production\"], [\"Production\"], [\"Production\"], [\"Production\"], [\"Production\"], [\"Production\"], [\"Production\"], [\"Production\"], [\"Production\"], [\"Production\"], [\"Production\"], [\"Production\"], [\"Production\"], [\"Production\"], [\"Production\"], [\"Production\"], [\"Production\"], [\"Production\"], [\"Production\"], [\"Production\"], [\"Sales\"], [\"Admin Offices\"], [\"Software Engineering\"], [\"Software Engineering\"], [\"Software Engineering\"], [\"IT/IS\"], [\"IT/IS\"]], \"hovertemplate\": \"race=Black or African American<br>PayRate=%{y}<br>Department=%{customdata[0]}<extra></extra>\", \"legendgroup\": \"Black or African American\", \"marker\": {\"color\": \"#007929\"}, \"name\": \"Black or African American\", \"notched\": false, \"offsetgroup\": \"Black or African American\", \"orientation\": \"v\", \"showlegend\": true, \"type\": \"box\", \"x0\": \" \", \"xaxis\": \"x\", \"y\": [28.5, 23.0, 55.0, 55.0, 55.0, 54.0, 55.0, 56.0, 55.0, 55.0, 45.0, 45.0, 55.0, 40.1, 35.5, 45.0, 60.0, 65.0, 27.49, 55.0, 33.5, 24.0, 22.0, 24.0, 17.0, 20.0, 21.0, 20.0, 24.0, 14.0, 20.0, 22.0, 14.0, 20.0, 15.0, 24.0, 19.0, 22.0, 15.0, 18.0, 24.0, 25.0, 29.0, 27.0, 26.1, 29.0, 22.0, 25.0, 29.0, 24.0, 56.0, 55.0, 57.12, 48.5, 45.42, 61.3, 58.2], \"y0\": \" \", \"yaxis\": \"y\"}, {\"alignmentgroup\": \"True\", \"customdata\": [[\"Admin Offices\"], [\"Admin Offices\"], [\"Admin Offices\"], [\"Sales\"], [\"Sales\"], [\"Sales\"], [\"Sales\"], [\"Sales\"], [\"Sales\"], [\"Sales\"], [\"Sales\"], [\"Sales\"], [\"Sales\"], [\"Sales\"], [\"IT/IS\"], [\"IT/IS\"], [\"IT/IS\"], [\"IT/IS\"], [\"IT/IS\"], [\"IT/IS\"], [\"IT/IS\"], [\"IT/IS\"], [\"IT/IS\"], [\"IT/IS\"], [\"IT/IS\"], [\"IT/IS\"], [\"Sales\"], [\"IT/IS\"], [\"IT/IS\"], [\"IT/IS\"], [\"IT/IS\"], [\"IT/IS\"], [\"IT/IS\"], [\"IT/IS\"], [\"IT/IS\"], [\"IT/IS\"], [\"IT/IS\"], [\"IT/IS\"], [\"IT/IS\"], [\"IT/IS\"], [\"Executive Office\"], [\"Production\"], [\"Production\"], [\"Production\"], [\"Production\"], [\"Production\"], [\"Production\"], [\"Production\"], [\"Production\"], [\"Production\"], [\"Production\"], [\"Production\"], [\"Production\"], [\"Production\"], [\"Production\"], [\"Production\"], [\"Production\"], [\"Production\"], [\"Production\"], [\"Production\"], [\"Production\"], [\"Production\"], [\"Production\"], [\"Production\"], [\"Production\"], [\"Production\"], [\"Production\"], [\"Production\"], [\"Production\"], [\"Production\"], [\"Production\"], [\"Production\"], [\"Production\"], [\"Production\"], [\"Production\"], [\"Production\"], [\"Production\"], [\"Production\"], [\"Production\"], [\"Production\"], [\"Production\"], [\"Production\"], [\"Production\"], [\"Production\"], [\"Production\"], [\"Production\"], [\"Production\"], [\"Production\"], [\"Production\"], [\"Production\"], [\"Production\"], [\"Production\"], [\"Production\"], [\"Production\"], [\"Production\"], [\"Production\"], [\"Production\"], [\"Production\"], [\"Production\"], [\"Production\"], [\"Production\"], [\"Production\"], [\"Production\"], [\"Production\"], [\"Production\"], [\"Production\"], [\"Production\"], [\"Production\"], [\"Production\"], [\"Production\"], [\"Production\"], [\"Production\"], [\"Production\"], [\"Production\"], [\"Production\"], [\"Production\"], [\"Production\"], [\"Production\"], [\"Production\"], [\"Production\"], [\"Production\"], [\"Production\"], [\"Production\"], [\"Production\"], [\"Production\"], [\"Production\"], [\"Production\"], [\"Production\"], [\"Production\"], [\"Production\"], [\"Production\"], [\"Production\"], [\"Production\"], [\"Production\"], [\"Production\"], [\"Production\"], [\"Production\"], [\"Production\"], [\"Production\"], [\"Production\"], [\"Production\"], [\"Production\"], [\"Production\"], [\"Production\"], [\"Production\"], [\"Production\"], [\"Production\"], [\"Production\"], [\"Production\"], [\"Production\"], [\"Production\"], [\"Production\"], [\"Production\"], [\"Production\"], [\"Production\"], [\"Production\"], [\"Production\"], [\"Production\"], [\"Production\"], [\"Production\"], [\"Production\"], [\"Production\"], [\"Production\"], [\"Production\"], [\"Production\"], [\"Production\"], [\"Production\"], [\"Production\"], [\"Production\"], [\"Production\"], [\"Production\"], [\"Production\"], [\"Production\"], [\"Production\"], [\"Production\"], [\"Production\"], [\"Production\"], [\"Production\"], [\"Production\"], [\"Sales\"], [\"Sales\"], [\"Admin Offices\"], [\"Software Engineering\"], [\"Software Engineering\"], [\"Software Engineering\"], [\"Software Engineering\"], [\"Software Engineering\"], [\"Admin Offices\"], [\"IT/IS\"], [\"IT/IS\"], [\"IT/IS\"], [\"IT/IS\"], [\"IT/IS\"]], \"hovertemplate\": \"race=White<br>PayRate=%{y}<br>Department=%{customdata[0]}<extra></extra>\", \"legendgroup\": \"White\", \"marker\": {\"color\": \"#024E68\"}, \"name\": \"White\", \"notched\": false, \"offsetgroup\": \"White\", \"orientation\": \"v\", \"showlegend\": true, \"type\": \"box\", \"x0\": \" \", \"xaxis\": \"x\", \"y\": [29.0, 21.5, 16.56, 55.0, 55.0, 55.5, 55.0, 55.0, 55.0, 55.0, 56.0, 55.0, 57.0, 55.0, 46.0, 45.0, 63.5, 65.0, 43.0, 48.5, 34.0, 41.0, 39.55, 42.2, 30.2, 31.4, 60.0, 62.0, 64.0, 28.99, 31.4, 45.0, 42.0, 37.0, 39.0, 43.0, 27.0, 47.0, 28.0, 49.1, 80.0, 54.5, 55.0, 51.0, 54.0, 48.5, 55.0, 38.5, 52.0, 53.0, 23.0, 16.0, 21.0, 20.0, 18.0, 20.0, 24.0, 15.0, 22.0, 22.0, 15.0, 20.0, 21.0, 16.0, 24.75, 24.0, 16.0, 23.0, 18.0, 17.0, 16.0, 20.0, 15.0, 16.75, 19.0, 15.0, 20.0, 17.0, 20.0, 19.0, 17.0, 21.0, 22.0, 21.0, 22.0, 19.5, 15.0, 18.0, 22.0, 21.0, 15.0, 18.0, 20.0, 15.0, 15.75, 21.25, 21.0, 14.0, 19.0, 15.0, 16.0, 16.0, 21.0, 22.0, 21.0, 23.0, 17.0, 19.0, 17.0, 21.0, 17.0, 16.0, 24.5, 20.0, 17.0, 21.0, 16.0, 18.0, 19.0, 20.0, 18.0, 16.0, 19.75, 17.0, 24.0, 17.0, 19.0, 15.25, 20.0, 21.0, 21.0, 19.0, 20.0, 16.0, 22.0, 23.5, 20.0, 19.75, 22.0, 23.0, 29.0, 23.0, 22.0, 25.0, 25.0, 25.0, 29.0, 26.0, 24.25, 27.0, 26.0, 22.0, 26.0, 25.0, 26.39, 22.0, 28.75, 27.0, 24.0, 24.0, 22.0, 29.0, 26.0, 24.0, 26.0, 29.0, 29.0, 28.0, 22.0, 24.25, 27.0, 24.0, 28.0, 24.0, 23.0, 22.0, 28.0, 23.0, 23.0, 54.0, 60.25, 55.0, 47.6, 56.0, 49.25, 48.0, 27.0, 34.95, 62.0, 58.5, 54.1, 56.2, 53.0], \"y0\": \" \", \"yaxis\": \"y\"}, {\"alignmentgroup\": \"True\", \"customdata\": [[\"Admin Offices\"], [\"Sales\"], [\"IT/IS\"], [\"IT/IS\"], [\"Production\"], [\"Production\"], [\"Production\"], [\"Production\"], [\"Production\"], [\"Production\"], [\"Production\"], [\"Production\"], [\"Production\"], [\"Production\"], [\"Production\"], [\"Production\"], [\"Production\"], [\"Production\"], [\"Production\"], [\"Production\"], [\"Production\"], [\"Production\"], [\"Production\"], [\"Production\"], [\"Production\"], [\"Production\"], [\"IT/IS\"], [\"IT/IS\"], [\"IT/IS\"], [\"Software Engineering\"], [\"Software Engineering\"], [\"Admin Offices\"], [\"IT/IS\"], [\"IT/IS\"]], \"hovertemplate\": \"race=Asian<br>PayRate=%{y}<br>Department=%{customdata[0]}<extra></extra>\", \"legendgroup\": \"Asian\", \"marker\": {\"color\": \"#A65500\"}, \"name\": \"Asian\", \"notched\": false, \"offsetgroup\": \"Asian\", \"orientation\": \"v\", \"showlegend\": true, \"type\": \"box\", \"x0\": \" \", \"xaxis\": \"x\", \"y\": [20.5, 56.0, 40.0, 42.75, 50.5, 42.0, 21.0, 15.0, 22.0, 15.0, 21.0, 14.0, 22.0, 22.0, 22.0, 18.0, 24.0, 19.0, 19.0, 17.0, 22.0, 15.2, 28.0, 26.0, 22.0, 25.0, 50.25, 52.25, 51.0, 55.51, 52.25, 34.95, 53.8, 55.2], \"y0\": \" \", \"yaxis\": \"y\"}, {\"alignmentgroup\": \"True\", \"customdata\": [[\"Sales\"], [\"Sales\"], [\"Sales\"], [\"Sales\"], [\"Sales\"], [\"Sales\"], [\"Sales\"], [\"IT/IS\"], [\"IT/IS\"], [\"IT/IS\"], [\"Production\"], [\"Production\"], [\"Production\"], [\"Production\"], [\"Production\"], [\"Production\"], [\"Production\"], [\"Production\"], [\"Production\"], [\"Production\"], [\"Production\"], [\"Production\"], [\"Production\"], [\"Production\"], [\"Production\"], [\"Production\"]], \"hovertemplate\": \"race=other<br>PayRate=%{y}<br>Department=%{customdata[0]}<extra></extra>\", \"legendgroup\": \"other\", \"marker\": {\"color\": \"#A61A00\"}, \"name\": \"other\", \"notched\": false, \"offsetgroup\": \"other\", \"orientation\": \"v\", \"showlegend\": true, \"type\": \"box\", \"x0\": \" \", \"xaxis\": \"x\", \"y\": [56.0, 55.5, 55.0, 55.0, 55.0, 55.0, 55.0, 21.0, 63.0, 26.0, 53.0, 16.0, 22.0, 16.0, 17.0, 16.76, 16.0, 18.5, 14.0, 19.0, 15.0, 23.0, 26.0, 22.5, 25.0, 27.0], \"y0\": \" \", \"yaxis\": \"y\"}],\n",
       "                        {\"boxmode\": \"group\", \"legend\": {\"title\": {\"text\": \"race\"}, \"tracegroupgap\": 0}, \"margin\": {\"t\": 60}, \"template\": {\"data\": {\"bar\": [{\"error_x\": {\"color\": \"#2a3f5f\"}, \"error_y\": {\"color\": \"#2a3f5f\"}, \"marker\": {\"line\": {\"color\": \"#E5ECF6\", \"width\": 0.5}}, \"type\": \"bar\"}], \"barpolar\": [{\"marker\": {\"line\": {\"color\": \"#E5ECF6\", \"width\": 0.5}}, \"type\": \"barpolar\"}], \"carpet\": [{\"aaxis\": {\"endlinecolor\": \"#2a3f5f\", \"gridcolor\": \"white\", \"linecolor\": \"white\", \"minorgridcolor\": \"white\", \"startlinecolor\": \"#2a3f5f\"}, \"baxis\": {\"endlinecolor\": \"#2a3f5f\", \"gridcolor\": \"white\", \"linecolor\": \"white\", \"minorgridcolor\": \"white\", \"startlinecolor\": \"#2a3f5f\"}, \"type\": \"carpet\"}], \"choropleth\": [{\"colorbar\": {\"outlinewidth\": 0, \"ticks\": \"\"}, \"type\": \"choropleth\"}], \"contour\": [{\"colorbar\": {\"outlinewidth\": 0, \"ticks\": \"\"}, \"colorscale\": [[0.0, \"#0d0887\"], [0.1111111111111111, \"#46039f\"], [0.2222222222222222, \"#7201a8\"], [0.3333333333333333, \"#9c179e\"], [0.4444444444444444, \"#bd3786\"], [0.5555555555555556, \"#d8576b\"], [0.6666666666666666, \"#ed7953\"], [0.7777777777777778, \"#fb9f3a\"], [0.8888888888888888, \"#fdca26\"], [1.0, \"#f0f921\"]], \"type\": \"contour\"}], \"contourcarpet\": [{\"colorbar\": {\"outlinewidth\": 0, \"ticks\": \"\"}, \"type\": \"contourcarpet\"}], \"heatmap\": [{\"colorbar\": {\"outlinewidth\": 0, \"ticks\": \"\"}, \"colorscale\": [[0.0, \"#0d0887\"], [0.1111111111111111, \"#46039f\"], [0.2222222222222222, \"#7201a8\"], [0.3333333333333333, \"#9c179e\"], [0.4444444444444444, \"#bd3786\"], [0.5555555555555556, \"#d8576b\"], [0.6666666666666666, \"#ed7953\"], [0.7777777777777778, \"#fb9f3a\"], [0.8888888888888888, \"#fdca26\"], [1.0, \"#f0f921\"]], \"type\": \"heatmap\"}], \"heatmapgl\": [{\"colorbar\": {\"outlinewidth\": 0, \"ticks\": \"\"}, \"colorscale\": [[0.0, \"#0d0887\"], [0.1111111111111111, \"#46039f\"], [0.2222222222222222, \"#7201a8\"], [0.3333333333333333, \"#9c179e\"], [0.4444444444444444, \"#bd3786\"], [0.5555555555555556, \"#d8576b\"], [0.6666666666666666, \"#ed7953\"], [0.7777777777777778, \"#fb9f3a\"], [0.8888888888888888, \"#fdca26\"], [1.0, \"#f0f921\"]], \"type\": \"heatmapgl\"}], \"histogram\": [{\"marker\": {\"colorbar\": {\"outlinewidth\": 0, \"ticks\": \"\"}}, \"type\": \"histogram\"}], \"histogram2d\": [{\"colorbar\": {\"outlinewidth\": 0, \"ticks\": \"\"}, \"colorscale\": [[0.0, \"#0d0887\"], [0.1111111111111111, \"#46039f\"], [0.2222222222222222, \"#7201a8\"], [0.3333333333333333, \"#9c179e\"], [0.4444444444444444, \"#bd3786\"], [0.5555555555555556, \"#d8576b\"], [0.6666666666666666, \"#ed7953\"], [0.7777777777777778, \"#fb9f3a\"], [0.8888888888888888, \"#fdca26\"], [1.0, \"#f0f921\"]], \"type\": \"histogram2d\"}], \"histogram2dcontour\": [{\"colorbar\": {\"outlinewidth\": 0, \"ticks\": \"\"}, \"colorscale\": [[0.0, \"#0d0887\"], [0.1111111111111111, \"#46039f\"], [0.2222222222222222, \"#7201a8\"], [0.3333333333333333, \"#9c179e\"], [0.4444444444444444, \"#bd3786\"], [0.5555555555555556, \"#d8576b\"], [0.6666666666666666, \"#ed7953\"], [0.7777777777777778, \"#fb9f3a\"], [0.8888888888888888, \"#fdca26\"], [1.0, \"#f0f921\"]], \"type\": \"histogram2dcontour\"}], \"mesh3d\": [{\"colorbar\": {\"outlinewidth\": 0, \"ticks\": \"\"}, \"type\": \"mesh3d\"}], \"parcoords\": [{\"line\": {\"colorbar\": {\"outlinewidth\": 0, \"ticks\": \"\"}}, \"type\": \"parcoords\"}], \"pie\": [{\"automargin\": true, \"type\": \"pie\"}], \"scatter\": [{\"marker\": {\"colorbar\": {\"outlinewidth\": 0, \"ticks\": \"\"}}, \"type\": \"scatter\"}], \"scatter3d\": [{\"line\": {\"colorbar\": {\"outlinewidth\": 0, \"ticks\": \"\"}}, \"marker\": {\"colorbar\": {\"outlinewidth\": 0, \"ticks\": \"\"}}, \"type\": \"scatter3d\"}], \"scattercarpet\": [{\"marker\": {\"colorbar\": {\"outlinewidth\": 0, \"ticks\": \"\"}}, \"type\": \"scattercarpet\"}], \"scattergeo\": [{\"marker\": {\"colorbar\": {\"outlinewidth\": 0, \"ticks\": \"\"}}, \"type\": \"scattergeo\"}], \"scattergl\": [{\"marker\": {\"colorbar\": {\"outlinewidth\": 0, \"ticks\": \"\"}}, \"type\": \"scattergl\"}], \"scattermapbox\": [{\"marker\": {\"colorbar\": {\"outlinewidth\": 0, \"ticks\": \"\"}}, \"type\": \"scattermapbox\"}], \"scatterpolar\": [{\"marker\": {\"colorbar\": {\"outlinewidth\": 0, \"ticks\": \"\"}}, \"type\": \"scatterpolar\"}], \"scatterpolargl\": [{\"marker\": {\"colorbar\": {\"outlinewidth\": 0, \"ticks\": \"\"}}, \"type\": \"scatterpolargl\"}], \"scatterternary\": [{\"marker\": {\"colorbar\": {\"outlinewidth\": 0, \"ticks\": \"\"}}, \"type\": \"scatterternary\"}], \"surface\": [{\"colorbar\": {\"outlinewidth\": 0, \"ticks\": \"\"}, \"colorscale\": [[0.0, \"#0d0887\"], [0.1111111111111111, \"#46039f\"], [0.2222222222222222, \"#7201a8\"], [0.3333333333333333, \"#9c179e\"], [0.4444444444444444, \"#bd3786\"], [0.5555555555555556, \"#d8576b\"], [0.6666666666666666, \"#ed7953\"], [0.7777777777777778, \"#fb9f3a\"], [0.8888888888888888, \"#fdca26\"], [1.0, \"#f0f921\"]], \"type\": \"surface\"}], \"table\": [{\"cells\": {\"fill\": {\"color\": \"#EBF0F8\"}, \"line\": {\"color\": \"white\"}}, \"header\": {\"fill\": {\"color\": \"#C8D4E3\"}, \"line\": {\"color\": \"white\"}}, \"type\": \"table\"}]}, \"layout\": {\"annotationdefaults\": {\"arrowcolor\": \"#2a3f5f\", \"arrowhead\": 0, \"arrowwidth\": 1}, \"coloraxis\": {\"colorbar\": {\"outlinewidth\": 0, \"ticks\": \"\"}}, \"colorscale\": {\"diverging\": [[0, \"#8e0152\"], [0.1, \"#c51b7d\"], [0.2, \"#de77ae\"], [0.3, \"#f1b6da\"], [0.4, \"#fde0ef\"], [0.5, \"#f7f7f7\"], [0.6, \"#e6f5d0\"], [0.7, \"#b8e186\"], [0.8, \"#7fbc41\"], [0.9, \"#4d9221\"], [1, \"#276419\"]], \"sequential\": [[0.0, \"#0d0887\"], [0.1111111111111111, \"#46039f\"], [0.2222222222222222, \"#7201a8\"], [0.3333333333333333, \"#9c179e\"], [0.4444444444444444, \"#bd3786\"], [0.5555555555555556, \"#d8576b\"], [0.6666666666666666, \"#ed7953\"], [0.7777777777777778, \"#fb9f3a\"], [0.8888888888888888, \"#fdca26\"], [1.0, \"#f0f921\"]], \"sequentialminus\": [[0.0, \"#0d0887\"], [0.1111111111111111, \"#46039f\"], [0.2222222222222222, \"#7201a8\"], [0.3333333333333333, \"#9c179e\"], [0.4444444444444444, \"#bd3786\"], [0.5555555555555556, \"#d8576b\"], [0.6666666666666666, \"#ed7953\"], [0.7777777777777778, \"#fb9f3a\"], [0.8888888888888888, \"#fdca26\"], [1.0, \"#f0f921\"]]}, \"colorway\": [\"#636efa\", \"#EF553B\", \"#00cc96\", \"#ab63fa\", \"#FFA15A\", \"#19d3f3\", \"#FF6692\", \"#B6E880\", \"#FF97FF\", \"#FECB52\"], \"font\": {\"color\": \"#2a3f5f\"}, \"geo\": {\"bgcolor\": \"white\", \"lakecolor\": \"white\", \"landcolor\": \"#E5ECF6\", \"showlakes\": true, \"showland\": true, \"subunitcolor\": \"white\"}, \"hoverlabel\": {\"align\": \"left\"}, \"hovermode\": \"closest\", \"mapbox\": {\"style\": \"light\"}, \"paper_bgcolor\": \"white\", \"plot_bgcolor\": \"#E5ECF6\", \"polar\": {\"angularaxis\": {\"gridcolor\": \"white\", \"linecolor\": \"white\", \"ticks\": \"\"}, \"bgcolor\": \"#E5ECF6\", \"radialaxis\": {\"gridcolor\": \"white\", \"linecolor\": \"white\", \"ticks\": \"\"}}, \"scene\": {\"xaxis\": {\"backgroundcolor\": \"#E5ECF6\", \"gridcolor\": \"white\", \"gridwidth\": 2, \"linecolor\": \"white\", \"showbackground\": true, \"ticks\": \"\", \"zerolinecolor\": \"white\"}, \"yaxis\": {\"backgroundcolor\": \"#E5ECF6\", \"gridcolor\": \"white\", \"gridwidth\": 2, \"linecolor\": \"white\", \"showbackground\": true, \"ticks\": \"\", \"zerolinecolor\": \"white\"}, \"zaxis\": {\"backgroundcolor\": \"#E5ECF6\", \"gridcolor\": \"white\", \"gridwidth\": 2, \"linecolor\": \"white\", \"showbackground\": true, \"ticks\": \"\", \"zerolinecolor\": \"white\"}}, \"shapedefaults\": {\"line\": {\"color\": \"#2a3f5f\"}}, \"ternary\": {\"aaxis\": {\"gridcolor\": \"white\", \"linecolor\": \"white\", \"ticks\": \"\"}, \"baxis\": {\"gridcolor\": \"white\", \"linecolor\": \"white\", \"ticks\": \"\"}, \"bgcolor\": \"#E5ECF6\", \"caxis\": {\"gridcolor\": \"white\", \"linecolor\": \"white\", \"ticks\": \"\"}}, \"title\": {\"x\": 0.05}, \"xaxis\": {\"automargin\": true, \"gridcolor\": \"white\", \"linecolor\": \"white\", \"ticks\": \"\", \"title\": {\"standoff\": 15}, \"zerolinecolor\": \"white\", \"zerolinewidth\": 2}, \"yaxis\": {\"automargin\": true, \"gridcolor\": \"white\", \"linecolor\": \"white\", \"ticks\": \"\", \"title\": {\"standoff\": 15}, \"zerolinecolor\": \"white\", \"zerolinewidth\": 2}}}, \"xaxis\": {\"anchor\": \"y\", \"domain\": [0.0, 1.0]}, \"yaxis\": {\"anchor\": \"x\", \"domain\": [0.0, 1.0], \"title\": {\"text\": \"PayRate\"}}},\n",
       "                        {\"responsive\": true}\n",
       "                    ).then(function(){\n",
       "                            \n",
       "var gd = document.getElementById('d9a8571c-9cb0-45c1-8500-cab578d1618c');\n",
       "var x = new MutationObserver(function (mutations, observer) {{\n",
       "        var display = window.getComputedStyle(gd).display;\n",
       "        if (!display || display === 'none') {{\n",
       "            console.log([gd, 'removed!']);\n",
       "            Plotly.purge(gd);\n",
       "            observer.disconnect();\n",
       "        }}\n",
       "}});\n",
       "\n",
       "// Listen for the removal of the full notebook cells\n",
       "var notebookContainer = gd.closest('#notebook-container');\n",
       "if (notebookContainer) {{\n",
       "    x.observe(notebookContainer, {childList: true});\n",
       "}}\n",
       "\n",
       "// Listen for the clearing of the current output cell\n",
       "var outputEl = gd.closest('.output');\n",
       "if (outputEl) {{\n",
       "    x.observe(outputEl, {childList: true});\n",
       "}}\n",
       "\n",
       "                        })\n",
       "                };\n",
       "                });\n",
       "            </script>\n",
       "        </div>"
      ]
     },
     "metadata": {},
     "output_type": "display_data"
    }
   ],
   "source": [
    "fig = px.box(hr, y=\"PayRate\", color=\"race\", color_discrete_sequence=palette_4, hover_data=['Department'])\n",
    "fig.show()"
   ]
  },
  {
   "cell_type": "code",
   "execution_count": 44,
   "metadata": {
    "collapsed": true
   },
   "outputs": [
    {
     "data": {
      "application/vnd.plotly.v1+json": {
       "config": {
        "plotlyServerURL": "https://plot.ly"
       },
       "data": [
        {
         "alignmentgroup": "True",
         "box": {
          "visible": true
         },
         "customdata": [
          [
           "Admin Offices"
          ],
          [
           "Admin Offices"
          ],
          [
           "Sales"
          ],
          [
           "Sales"
          ],
          [
           "Sales"
          ],
          [
           "Sales"
          ],
          [
           "Sales"
          ],
          [
           "Sales"
          ],
          [
           "Sales"
          ],
          [
           "Sales"
          ],
          [
           "IT/IS"
          ],
          [
           "IT/IS"
          ],
          [
           "IT/IS"
          ],
          [
           "IT/IS"
          ],
          [
           "IT/IS"
          ],
          [
           "IT/IS"
          ],
          [
           "Production"
          ],
          [
           "IT/IS"
          ],
          [
           "IT/IS"
          ],
          [
           "Production"
          ],
          [
           "Production"
          ],
          [
           "Production"
          ],
          [
           "Production"
          ],
          [
           "Production"
          ],
          [
           "Production"
          ],
          [
           "Production"
          ],
          [
           "Production"
          ],
          [
           "Production"
          ],
          [
           "Production"
          ],
          [
           "Production"
          ],
          [
           "Production"
          ],
          [
           "Production"
          ],
          [
           "Production"
          ],
          [
           "Production"
          ],
          [
           "Production"
          ],
          [
           "Production"
          ],
          [
           "Production"
          ],
          [
           "Production"
          ],
          [
           "Production"
          ],
          [
           "Production"
          ],
          [
           "Production"
          ],
          [
           "Production"
          ],
          [
           "Production"
          ],
          [
           "Production"
          ],
          [
           "Production"
          ],
          [
           "Production"
          ],
          [
           "Production"
          ],
          [
           "Production"
          ],
          [
           "Production"
          ],
          [
           "Production"
          ],
          [
           "Sales"
          ],
          [
           "Admin Offices"
          ],
          [
           "Software Engineering"
          ],
          [
           "Software Engineering"
          ],
          [
           "Software Engineering"
          ],
          [
           "IT/IS"
          ],
          [
           "IT/IS"
          ]
         ],
         "hovertemplate": "race=Black or African American<br>PayRate=%{y}<br>Department=%{customdata[0]}<extra></extra>",
         "legendgroup": "Black or African American",
         "marker": {
          "color": "#007929"
         },
         "name": "Black or African American",
         "offsetgroup": "Black or African American",
         "orientation": "v",
         "scalegroup": "True",
         "showlegend": true,
         "type": "violin",
         "x0": " ",
         "xaxis": "x",
         "y": [
          28.5,
          23,
          55,
          55,
          55,
          54,
          55,
          56,
          55,
          55,
          45,
          45,
          55,
          40.1,
          35.5,
          45,
          60,
          65,
          27.49,
          55,
          33.5,
          24,
          22,
          24,
          17,
          20,
          21,
          20,
          24,
          14,
          20,
          22,
          14,
          20,
          15,
          24,
          19,
          22,
          15,
          18,
          24,
          25,
          29,
          27,
          26.1,
          29,
          22,
          25,
          29,
          24,
          56,
          55,
          57.12,
          48.5,
          45.42,
          61.3,
          58.2
         ],
         "y0": " ",
         "yaxis": "y"
        },
        {
         "alignmentgroup": "True",
         "box": {
          "visible": true
         },
         "customdata": [
          [
           "Admin Offices"
          ],
          [
           "Admin Offices"
          ],
          [
           "Admin Offices"
          ],
          [
           "Sales"
          ],
          [
           "Sales"
          ],
          [
           "Sales"
          ],
          [
           "Sales"
          ],
          [
           "Sales"
          ],
          [
           "Sales"
          ],
          [
           "Sales"
          ],
          [
           "Sales"
          ],
          [
           "Sales"
          ],
          [
           "Sales"
          ],
          [
           "Sales"
          ],
          [
           "IT/IS"
          ],
          [
           "IT/IS"
          ],
          [
           "IT/IS"
          ],
          [
           "IT/IS"
          ],
          [
           "IT/IS"
          ],
          [
           "IT/IS"
          ],
          [
           "IT/IS"
          ],
          [
           "IT/IS"
          ],
          [
           "IT/IS"
          ],
          [
           "IT/IS"
          ],
          [
           "IT/IS"
          ],
          [
           "IT/IS"
          ],
          [
           "Sales"
          ],
          [
           "IT/IS"
          ],
          [
           "IT/IS"
          ],
          [
           "IT/IS"
          ],
          [
           "IT/IS"
          ],
          [
           "IT/IS"
          ],
          [
           "IT/IS"
          ],
          [
           "IT/IS"
          ],
          [
           "IT/IS"
          ],
          [
           "IT/IS"
          ],
          [
           "IT/IS"
          ],
          [
           "IT/IS"
          ],
          [
           "IT/IS"
          ],
          [
           "IT/IS"
          ],
          [
           "Executive Office"
          ],
          [
           "Production"
          ],
          [
           "Production"
          ],
          [
           "Production"
          ],
          [
           "Production"
          ],
          [
           "Production"
          ],
          [
           "Production"
          ],
          [
           "Production"
          ],
          [
           "Production"
          ],
          [
           "Production"
          ],
          [
           "Production"
          ],
          [
           "Production"
          ],
          [
           "Production"
          ],
          [
           "Production"
          ],
          [
           "Production"
          ],
          [
           "Production"
          ],
          [
           "Production"
          ],
          [
           "Production"
          ],
          [
           "Production"
          ],
          [
           "Production"
          ],
          [
           "Production"
          ],
          [
           "Production"
          ],
          [
           "Production"
          ],
          [
           "Production"
          ],
          [
           "Production"
          ],
          [
           "Production"
          ],
          [
           "Production"
          ],
          [
           "Production"
          ],
          [
           "Production"
          ],
          [
           "Production"
          ],
          [
           "Production"
          ],
          [
           "Production"
          ],
          [
           "Production"
          ],
          [
           "Production"
          ],
          [
           "Production"
          ],
          [
           "Production"
          ],
          [
           "Production"
          ],
          [
           "Production"
          ],
          [
           "Production"
          ],
          [
           "Production"
          ],
          [
           "Production"
          ],
          [
           "Production"
          ],
          [
           "Production"
          ],
          [
           "Production"
          ],
          [
           "Production"
          ],
          [
           "Production"
          ],
          [
           "Production"
          ],
          [
           "Production"
          ],
          [
           "Production"
          ],
          [
           "Production"
          ],
          [
           "Production"
          ],
          [
           "Production"
          ],
          [
           "Production"
          ],
          [
           "Production"
          ],
          [
           "Production"
          ],
          [
           "Production"
          ],
          [
           "Production"
          ],
          [
           "Production"
          ],
          [
           "Production"
          ],
          [
           "Production"
          ],
          [
           "Production"
          ],
          [
           "Production"
          ],
          [
           "Production"
          ],
          [
           "Production"
          ],
          [
           "Production"
          ],
          [
           "Production"
          ],
          [
           "Production"
          ],
          [
           "Production"
          ],
          [
           "Production"
          ],
          [
           "Production"
          ],
          [
           "Production"
          ],
          [
           "Production"
          ],
          [
           "Production"
          ],
          [
           "Production"
          ],
          [
           "Production"
          ],
          [
           "Production"
          ],
          [
           "Production"
          ],
          [
           "Production"
          ],
          [
           "Production"
          ],
          [
           "Production"
          ],
          [
           "Production"
          ],
          [
           "Production"
          ],
          [
           "Production"
          ],
          [
           "Production"
          ],
          [
           "Production"
          ],
          [
           "Production"
          ],
          [
           "Production"
          ],
          [
           "Production"
          ],
          [
           "Production"
          ],
          [
           "Production"
          ],
          [
           "Production"
          ],
          [
           "Production"
          ],
          [
           "Production"
          ],
          [
           "Production"
          ],
          [
           "Production"
          ],
          [
           "Production"
          ],
          [
           "Production"
          ],
          [
           "Production"
          ],
          [
           "Production"
          ],
          [
           "Production"
          ],
          [
           "Production"
          ],
          [
           "Production"
          ],
          [
           "Production"
          ],
          [
           "Production"
          ],
          [
           "Production"
          ],
          [
           "Production"
          ],
          [
           "Production"
          ],
          [
           "Production"
          ],
          [
           "Production"
          ],
          [
           "Production"
          ],
          [
           "Production"
          ],
          [
           "Production"
          ],
          [
           "Production"
          ],
          [
           "Production"
          ],
          [
           "Production"
          ],
          [
           "Production"
          ],
          [
           "Production"
          ],
          [
           "Production"
          ],
          [
           "Production"
          ],
          [
           "Production"
          ],
          [
           "Production"
          ],
          [
           "Production"
          ],
          [
           "Production"
          ],
          [
           "Production"
          ],
          [
           "Production"
          ],
          [
           "Production"
          ],
          [
           "Production"
          ],
          [
           "Production"
          ],
          [
           "Production"
          ],
          [
           "Production"
          ],
          [
           "Production"
          ],
          [
           "Production"
          ],
          [
           "Production"
          ],
          [
           "Production"
          ],
          [
           "Production"
          ],
          [
           "Production"
          ],
          [
           "Production"
          ],
          [
           "Production"
          ],
          [
           "Production"
          ],
          [
           "Sales"
          ],
          [
           "Sales"
          ],
          [
           "Admin Offices"
          ],
          [
           "Software Engineering"
          ],
          [
           "Software Engineering"
          ],
          [
           "Software Engineering"
          ],
          [
           "Software Engineering"
          ],
          [
           "Software Engineering"
          ],
          [
           "Admin Offices"
          ],
          [
           "IT/IS"
          ],
          [
           "IT/IS"
          ],
          [
           "IT/IS"
          ],
          [
           "IT/IS"
          ],
          [
           "IT/IS"
          ]
         ],
         "hovertemplate": "race=White<br>PayRate=%{y}<br>Department=%{customdata[0]}<extra></extra>",
         "legendgroup": "White",
         "marker": {
          "color": "#024E68"
         },
         "name": "White",
         "offsetgroup": "White",
         "orientation": "v",
         "scalegroup": "True",
         "showlegend": true,
         "type": "violin",
         "x0": " ",
         "xaxis": "x",
         "y": [
          29,
          21.5,
          16.56,
          55,
          55,
          55.5,
          55,
          55,
          55,
          55,
          56,
          55,
          57,
          55,
          46,
          45,
          63.5,
          65,
          43,
          48.5,
          34,
          41,
          39.55,
          42.2,
          30.2,
          31.4,
          60,
          62,
          64,
          28.99,
          31.4,
          45,
          42,
          37,
          39,
          43,
          27,
          47,
          28,
          49.1,
          80,
          54.5,
          55,
          51,
          54,
          48.5,
          55,
          38.5,
          52,
          53,
          23,
          16,
          21,
          20,
          18,
          20,
          24,
          15,
          22,
          22,
          15,
          20,
          21,
          16,
          24.75,
          24,
          16,
          23,
          18,
          17,
          16,
          20,
          15,
          16.75,
          19,
          15,
          20,
          17,
          20,
          19,
          17,
          21,
          22,
          21,
          22,
          19.5,
          15,
          18,
          22,
          21,
          15,
          18,
          20,
          15,
          15.75,
          21.25,
          21,
          14,
          19,
          15,
          16,
          16,
          21,
          22,
          21,
          23,
          17,
          19,
          17,
          21,
          17,
          16,
          24.5,
          20,
          17,
          21,
          16,
          18,
          19,
          20,
          18,
          16,
          19.75,
          17,
          24,
          17,
          19,
          15.25,
          20,
          21,
          21,
          19,
          20,
          16,
          22,
          23.5,
          20,
          19.75,
          22,
          23,
          29,
          23,
          22,
          25,
          25,
          25,
          29,
          26,
          24.25,
          27,
          26,
          22,
          26,
          25,
          26.39,
          22,
          28.75,
          27,
          24,
          24,
          22,
          29,
          26,
          24,
          26,
          29,
          29,
          28,
          22,
          24.25,
          27,
          24,
          28,
          24,
          23,
          22,
          28,
          23,
          23,
          54,
          60.25,
          55,
          47.6,
          56,
          49.25,
          48,
          27,
          34.95,
          62,
          58.5,
          54.1,
          56.2,
          53
         ],
         "y0": " ",
         "yaxis": "y"
        },
        {
         "alignmentgroup": "True",
         "box": {
          "visible": true
         },
         "customdata": [
          [
           "Admin Offices"
          ],
          [
           "Sales"
          ],
          [
           "IT/IS"
          ],
          [
           "IT/IS"
          ],
          [
           "Production"
          ],
          [
           "Production"
          ],
          [
           "Production"
          ],
          [
           "Production"
          ],
          [
           "Production"
          ],
          [
           "Production"
          ],
          [
           "Production"
          ],
          [
           "Production"
          ],
          [
           "Production"
          ],
          [
           "Production"
          ],
          [
           "Production"
          ],
          [
           "Production"
          ],
          [
           "Production"
          ],
          [
           "Production"
          ],
          [
           "Production"
          ],
          [
           "Production"
          ],
          [
           "Production"
          ],
          [
           "Production"
          ],
          [
           "Production"
          ],
          [
           "Production"
          ],
          [
           "Production"
          ],
          [
           "Production"
          ],
          [
           "IT/IS"
          ],
          [
           "IT/IS"
          ],
          [
           "IT/IS"
          ],
          [
           "Software Engineering"
          ],
          [
           "Software Engineering"
          ],
          [
           "Admin Offices"
          ],
          [
           "IT/IS"
          ],
          [
           "IT/IS"
          ]
         ],
         "hovertemplate": "race=Asian<br>PayRate=%{y}<br>Department=%{customdata[0]}<extra></extra>",
         "legendgroup": "Asian",
         "marker": {
          "color": "#A65500"
         },
         "name": "Asian",
         "offsetgroup": "Asian",
         "orientation": "v",
         "scalegroup": "True",
         "showlegend": true,
         "type": "violin",
         "x0": " ",
         "xaxis": "x",
         "y": [
          20.5,
          56,
          40,
          42.75,
          50.5,
          42,
          21,
          15,
          22,
          15,
          21,
          14,
          22,
          22,
          22,
          18,
          24,
          19,
          19,
          17,
          22,
          15.2,
          28,
          26,
          22,
          25,
          50.25,
          52.25,
          51,
          55.51,
          52.25,
          34.95,
          53.8,
          55.2
         ],
         "y0": " ",
         "yaxis": "y"
        },
        {
         "alignmentgroup": "True",
         "box": {
          "visible": true
         },
         "customdata": [
          [
           "Sales"
          ],
          [
           "Sales"
          ],
          [
           "Sales"
          ],
          [
           "Sales"
          ],
          [
           "Sales"
          ],
          [
           "Sales"
          ],
          [
           "Sales"
          ],
          [
           "IT/IS"
          ],
          [
           "IT/IS"
          ],
          [
           "IT/IS"
          ],
          [
           "Production"
          ],
          [
           "Production"
          ],
          [
           "Production"
          ],
          [
           "Production"
          ],
          [
           "Production"
          ],
          [
           "Production"
          ],
          [
           "Production"
          ],
          [
           "Production"
          ],
          [
           "Production"
          ],
          [
           "Production"
          ],
          [
           "Production"
          ],
          [
           "Production"
          ],
          [
           "Production"
          ],
          [
           "Production"
          ],
          [
           "Production"
          ],
          [
           "Production"
          ]
         ],
         "hovertemplate": "race=other<br>PayRate=%{y}<br>Department=%{customdata[0]}<extra></extra>",
         "legendgroup": "other",
         "marker": {
          "color": "#A61A00"
         },
         "name": "other",
         "offsetgroup": "other",
         "orientation": "v",
         "scalegroup": "True",
         "showlegend": true,
         "type": "violin",
         "x0": " ",
         "xaxis": "x",
         "y": [
          56,
          55.5,
          55,
          55,
          55,
          55,
          55,
          21,
          63,
          26,
          53,
          16,
          22,
          16,
          17,
          16.76,
          16,
          18.5,
          14,
          19,
          15,
          23,
          26,
          22.5,
          25,
          27
         ],
         "y0": " ",
         "yaxis": "y"
        }
       ],
       "layout": {
        "legend": {
         "title": {
          "text": "race"
         },
         "tracegroupgap": 0
        },
        "margin": {
         "t": 60
        },
        "template": {
         "data": {
          "bar": [
           {
            "error_x": {
             "color": "#2a3f5f"
            },
            "error_y": {
             "color": "#2a3f5f"
            },
            "marker": {
             "line": {
              "color": "#E5ECF6",
              "width": 0.5
             }
            },
            "type": "bar"
           }
          ],
          "barpolar": [
           {
            "marker": {
             "line": {
              "color": "#E5ECF6",
              "width": 0.5
             }
            },
            "type": "barpolar"
           }
          ],
          "carpet": [
           {
            "aaxis": {
             "endlinecolor": "#2a3f5f",
             "gridcolor": "white",
             "linecolor": "white",
             "minorgridcolor": "white",
             "startlinecolor": "#2a3f5f"
            },
            "baxis": {
             "endlinecolor": "#2a3f5f",
             "gridcolor": "white",
             "linecolor": "white",
             "minorgridcolor": "white",
             "startlinecolor": "#2a3f5f"
            },
            "type": "carpet"
           }
          ],
          "choropleth": [
           {
            "colorbar": {
             "outlinewidth": 0,
             "ticks": ""
            },
            "type": "choropleth"
           }
          ],
          "contour": [
           {
            "colorbar": {
             "outlinewidth": 0,
             "ticks": ""
            },
            "colorscale": [
             [
              0,
              "#0d0887"
             ],
             [
              0.1111111111111111,
              "#46039f"
             ],
             [
              0.2222222222222222,
              "#7201a8"
             ],
             [
              0.3333333333333333,
              "#9c179e"
             ],
             [
              0.4444444444444444,
              "#bd3786"
             ],
             [
              0.5555555555555556,
              "#d8576b"
             ],
             [
              0.6666666666666666,
              "#ed7953"
             ],
             [
              0.7777777777777778,
              "#fb9f3a"
             ],
             [
              0.8888888888888888,
              "#fdca26"
             ],
             [
              1,
              "#f0f921"
             ]
            ],
            "type": "contour"
           }
          ],
          "contourcarpet": [
           {
            "colorbar": {
             "outlinewidth": 0,
             "ticks": ""
            },
            "type": "contourcarpet"
           }
          ],
          "heatmap": [
           {
            "colorbar": {
             "outlinewidth": 0,
             "ticks": ""
            },
            "colorscale": [
             [
              0,
              "#0d0887"
             ],
             [
              0.1111111111111111,
              "#46039f"
             ],
             [
              0.2222222222222222,
              "#7201a8"
             ],
             [
              0.3333333333333333,
              "#9c179e"
             ],
             [
              0.4444444444444444,
              "#bd3786"
             ],
             [
              0.5555555555555556,
              "#d8576b"
             ],
             [
              0.6666666666666666,
              "#ed7953"
             ],
             [
              0.7777777777777778,
              "#fb9f3a"
             ],
             [
              0.8888888888888888,
              "#fdca26"
             ],
             [
              1,
              "#f0f921"
             ]
            ],
            "type": "heatmap"
           }
          ],
          "heatmapgl": [
           {
            "colorbar": {
             "outlinewidth": 0,
             "ticks": ""
            },
            "colorscale": [
             [
              0,
              "#0d0887"
             ],
             [
              0.1111111111111111,
              "#46039f"
             ],
             [
              0.2222222222222222,
              "#7201a8"
             ],
             [
              0.3333333333333333,
              "#9c179e"
             ],
             [
              0.4444444444444444,
              "#bd3786"
             ],
             [
              0.5555555555555556,
              "#d8576b"
             ],
             [
              0.6666666666666666,
              "#ed7953"
             ],
             [
              0.7777777777777778,
              "#fb9f3a"
             ],
             [
              0.8888888888888888,
              "#fdca26"
             ],
             [
              1,
              "#f0f921"
             ]
            ],
            "type": "heatmapgl"
           }
          ],
          "histogram": [
           {
            "marker": {
             "colorbar": {
              "outlinewidth": 0,
              "ticks": ""
             }
            },
            "type": "histogram"
           }
          ],
          "histogram2d": [
           {
            "colorbar": {
             "outlinewidth": 0,
             "ticks": ""
            },
            "colorscale": [
             [
              0,
              "#0d0887"
             ],
             [
              0.1111111111111111,
              "#46039f"
             ],
             [
              0.2222222222222222,
              "#7201a8"
             ],
             [
              0.3333333333333333,
              "#9c179e"
             ],
             [
              0.4444444444444444,
              "#bd3786"
             ],
             [
              0.5555555555555556,
              "#d8576b"
             ],
             [
              0.6666666666666666,
              "#ed7953"
             ],
             [
              0.7777777777777778,
              "#fb9f3a"
             ],
             [
              0.8888888888888888,
              "#fdca26"
             ],
             [
              1,
              "#f0f921"
             ]
            ],
            "type": "histogram2d"
           }
          ],
          "histogram2dcontour": [
           {
            "colorbar": {
             "outlinewidth": 0,
             "ticks": ""
            },
            "colorscale": [
             [
              0,
              "#0d0887"
             ],
             [
              0.1111111111111111,
              "#46039f"
             ],
             [
              0.2222222222222222,
              "#7201a8"
             ],
             [
              0.3333333333333333,
              "#9c179e"
             ],
             [
              0.4444444444444444,
              "#bd3786"
             ],
             [
              0.5555555555555556,
              "#d8576b"
             ],
             [
              0.6666666666666666,
              "#ed7953"
             ],
             [
              0.7777777777777778,
              "#fb9f3a"
             ],
             [
              0.8888888888888888,
              "#fdca26"
             ],
             [
              1,
              "#f0f921"
             ]
            ],
            "type": "histogram2dcontour"
           }
          ],
          "mesh3d": [
           {
            "colorbar": {
             "outlinewidth": 0,
             "ticks": ""
            },
            "type": "mesh3d"
           }
          ],
          "parcoords": [
           {
            "line": {
             "colorbar": {
              "outlinewidth": 0,
              "ticks": ""
             }
            },
            "type": "parcoords"
           }
          ],
          "pie": [
           {
            "automargin": true,
            "type": "pie"
           }
          ],
          "scatter": [
           {
            "marker": {
             "colorbar": {
              "outlinewidth": 0,
              "ticks": ""
             }
            },
            "type": "scatter"
           }
          ],
          "scatter3d": [
           {
            "line": {
             "colorbar": {
              "outlinewidth": 0,
              "ticks": ""
             }
            },
            "marker": {
             "colorbar": {
              "outlinewidth": 0,
              "ticks": ""
             }
            },
            "type": "scatter3d"
           }
          ],
          "scattercarpet": [
           {
            "marker": {
             "colorbar": {
              "outlinewidth": 0,
              "ticks": ""
             }
            },
            "type": "scattercarpet"
           }
          ],
          "scattergeo": [
           {
            "marker": {
             "colorbar": {
              "outlinewidth": 0,
              "ticks": ""
             }
            },
            "type": "scattergeo"
           }
          ],
          "scattergl": [
           {
            "marker": {
             "colorbar": {
              "outlinewidth": 0,
              "ticks": ""
             }
            },
            "type": "scattergl"
           }
          ],
          "scattermapbox": [
           {
            "marker": {
             "colorbar": {
              "outlinewidth": 0,
              "ticks": ""
             }
            },
            "type": "scattermapbox"
           }
          ],
          "scatterpolar": [
           {
            "marker": {
             "colorbar": {
              "outlinewidth": 0,
              "ticks": ""
             }
            },
            "type": "scatterpolar"
           }
          ],
          "scatterpolargl": [
           {
            "marker": {
             "colorbar": {
              "outlinewidth": 0,
              "ticks": ""
             }
            },
            "type": "scatterpolargl"
           }
          ],
          "scatterternary": [
           {
            "marker": {
             "colorbar": {
              "outlinewidth": 0,
              "ticks": ""
             }
            },
            "type": "scatterternary"
           }
          ],
          "surface": [
           {
            "colorbar": {
             "outlinewidth": 0,
             "ticks": ""
            },
            "colorscale": [
             [
              0,
              "#0d0887"
             ],
             [
              0.1111111111111111,
              "#46039f"
             ],
             [
              0.2222222222222222,
              "#7201a8"
             ],
             [
              0.3333333333333333,
              "#9c179e"
             ],
             [
              0.4444444444444444,
              "#bd3786"
             ],
             [
              0.5555555555555556,
              "#d8576b"
             ],
             [
              0.6666666666666666,
              "#ed7953"
             ],
             [
              0.7777777777777778,
              "#fb9f3a"
             ],
             [
              0.8888888888888888,
              "#fdca26"
             ],
             [
              1,
              "#f0f921"
             ]
            ],
            "type": "surface"
           }
          ],
          "table": [
           {
            "cells": {
             "fill": {
              "color": "#EBF0F8"
             },
             "line": {
              "color": "white"
             }
            },
            "header": {
             "fill": {
              "color": "#C8D4E3"
             },
             "line": {
              "color": "white"
             }
            },
            "type": "table"
           }
          ]
         },
         "layout": {
          "annotationdefaults": {
           "arrowcolor": "#2a3f5f",
           "arrowhead": 0,
           "arrowwidth": 1
          },
          "coloraxis": {
           "colorbar": {
            "outlinewidth": 0,
            "ticks": ""
           }
          },
          "colorscale": {
           "diverging": [
            [
             0,
             "#8e0152"
            ],
            [
             0.1,
             "#c51b7d"
            ],
            [
             0.2,
             "#de77ae"
            ],
            [
             0.3,
             "#f1b6da"
            ],
            [
             0.4,
             "#fde0ef"
            ],
            [
             0.5,
             "#f7f7f7"
            ],
            [
             0.6,
             "#e6f5d0"
            ],
            [
             0.7,
             "#b8e186"
            ],
            [
             0.8,
             "#7fbc41"
            ],
            [
             0.9,
             "#4d9221"
            ],
            [
             1,
             "#276419"
            ]
           ],
           "sequential": [
            [
             0,
             "#0d0887"
            ],
            [
             0.1111111111111111,
             "#46039f"
            ],
            [
             0.2222222222222222,
             "#7201a8"
            ],
            [
             0.3333333333333333,
             "#9c179e"
            ],
            [
             0.4444444444444444,
             "#bd3786"
            ],
            [
             0.5555555555555556,
             "#d8576b"
            ],
            [
             0.6666666666666666,
             "#ed7953"
            ],
            [
             0.7777777777777778,
             "#fb9f3a"
            ],
            [
             0.8888888888888888,
             "#fdca26"
            ],
            [
             1,
             "#f0f921"
            ]
           ],
           "sequentialminus": [
            [
             0,
             "#0d0887"
            ],
            [
             0.1111111111111111,
             "#46039f"
            ],
            [
             0.2222222222222222,
             "#7201a8"
            ],
            [
             0.3333333333333333,
             "#9c179e"
            ],
            [
             0.4444444444444444,
             "#bd3786"
            ],
            [
             0.5555555555555556,
             "#d8576b"
            ],
            [
             0.6666666666666666,
             "#ed7953"
            ],
            [
             0.7777777777777778,
             "#fb9f3a"
            ],
            [
             0.8888888888888888,
             "#fdca26"
            ],
            [
             1,
             "#f0f921"
            ]
           ]
          },
          "colorway": [
           "#636efa",
           "#EF553B",
           "#00cc96",
           "#ab63fa",
           "#FFA15A",
           "#19d3f3",
           "#FF6692",
           "#B6E880",
           "#FF97FF",
           "#FECB52"
          ],
          "font": {
           "color": "#2a3f5f"
          },
          "geo": {
           "bgcolor": "white",
           "lakecolor": "white",
           "landcolor": "#E5ECF6",
           "showlakes": true,
           "showland": true,
           "subunitcolor": "white"
          },
          "hoverlabel": {
           "align": "left"
          },
          "hovermode": "closest",
          "mapbox": {
           "style": "light"
          },
          "paper_bgcolor": "white",
          "plot_bgcolor": "#E5ECF6",
          "polar": {
           "angularaxis": {
            "gridcolor": "white",
            "linecolor": "white",
            "ticks": ""
           },
           "bgcolor": "#E5ECF6",
           "radialaxis": {
            "gridcolor": "white",
            "linecolor": "white",
            "ticks": ""
           }
          },
          "scene": {
           "xaxis": {
            "backgroundcolor": "#E5ECF6",
            "gridcolor": "white",
            "gridwidth": 2,
            "linecolor": "white",
            "showbackground": true,
            "ticks": "",
            "zerolinecolor": "white"
           },
           "yaxis": {
            "backgroundcolor": "#E5ECF6",
            "gridcolor": "white",
            "gridwidth": 2,
            "linecolor": "white",
            "showbackground": true,
            "ticks": "",
            "zerolinecolor": "white"
           },
           "zaxis": {
            "backgroundcolor": "#E5ECF6",
            "gridcolor": "white",
            "gridwidth": 2,
            "linecolor": "white",
            "showbackground": true,
            "ticks": "",
            "zerolinecolor": "white"
           }
          },
          "shapedefaults": {
           "line": {
            "color": "#2a3f5f"
           }
          },
          "ternary": {
           "aaxis": {
            "gridcolor": "white",
            "linecolor": "white",
            "ticks": ""
           },
           "baxis": {
            "gridcolor": "white",
            "linecolor": "white",
            "ticks": ""
           },
           "bgcolor": "#E5ECF6",
           "caxis": {
            "gridcolor": "white",
            "linecolor": "white",
            "ticks": ""
           }
          },
          "title": {
           "x": 0.05
          },
          "xaxis": {
           "automargin": true,
           "gridcolor": "white",
           "linecolor": "white",
           "ticks": "",
           "title": {
            "standoff": 15
           },
           "zerolinecolor": "white",
           "zerolinewidth": 2
          },
          "yaxis": {
           "automargin": true,
           "gridcolor": "white",
           "linecolor": "white",
           "ticks": "",
           "title": {
            "standoff": 15
           },
           "zerolinecolor": "white",
           "zerolinewidth": 2
          }
         }
        },
        "violinmode": "group",
        "xaxis": {
         "anchor": "y",
         "domain": [
          0,
          1
         ]
        },
        "yaxis": {
         "anchor": "x",
         "domain": [
          0,
          1
         ],
         "title": {
          "text": "PayRate"
         }
        }
       }
      },
      "text/html": [
       "<div>\n",
       "        \n",
       "        \n",
       "            <div id=\"6f07bb2a-889b-4c40-b181-bb990517d718\" class=\"plotly-graph-div\" style=\"height:525px; width:100%;\"></div>\n",
       "            <script type=\"text/javascript\">\n",
       "                require([\"plotly\"], function(Plotly) {\n",
       "                    window.PLOTLYENV=window.PLOTLYENV || {};\n",
       "                    \n",
       "                if (document.getElementById(\"6f07bb2a-889b-4c40-b181-bb990517d718\")) {\n",
       "                    Plotly.newPlot(\n",
       "                        '6f07bb2a-889b-4c40-b181-bb990517d718',\n",
       "                        [{\"alignmentgroup\": \"True\", \"box\": {\"visible\": true}, \"customdata\": [[\"Admin Offices\"], [\"Admin Offices\"], [\"Sales\"], [\"Sales\"], [\"Sales\"], [\"Sales\"], [\"Sales\"], [\"Sales\"], [\"Sales\"], [\"Sales\"], [\"IT/IS\"], [\"IT/IS\"], [\"IT/IS\"], [\"IT/IS\"], [\"IT/IS\"], [\"IT/IS\"], [\"Production\"], [\"IT/IS\"], [\"IT/IS\"], [\"Production\"], [\"Production\"], [\"Production\"], [\"Production\"], [\"Production\"], [\"Production\"], [\"Production\"], [\"Production\"], [\"Production\"], [\"Production\"], [\"Production\"], [\"Production\"], [\"Production\"], [\"Production\"], [\"Production\"], [\"Production\"], [\"Production\"], [\"Production\"], [\"Production\"], [\"Production\"], [\"Production\"], [\"Production\"], [\"Production\"], [\"Production\"], [\"Production\"], [\"Production\"], [\"Production\"], [\"Production\"], [\"Production\"], [\"Production\"], [\"Production\"], [\"Sales\"], [\"Admin Offices\"], [\"Software Engineering\"], [\"Software Engineering\"], [\"Software Engineering\"], [\"IT/IS\"], [\"IT/IS\"]], \"hovertemplate\": \"race=Black or African American<br>PayRate=%{y}<br>Department=%{customdata[0]}<extra></extra>\", \"legendgroup\": \"Black or African American\", \"marker\": {\"color\": \"#007929\"}, \"name\": \"Black or African American\", \"offsetgroup\": \"Black or African American\", \"orientation\": \"v\", \"scalegroup\": \"True\", \"showlegend\": true, \"type\": \"violin\", \"x0\": \" \", \"xaxis\": \"x\", \"y\": [28.5, 23.0, 55.0, 55.0, 55.0, 54.0, 55.0, 56.0, 55.0, 55.0, 45.0, 45.0, 55.0, 40.1, 35.5, 45.0, 60.0, 65.0, 27.49, 55.0, 33.5, 24.0, 22.0, 24.0, 17.0, 20.0, 21.0, 20.0, 24.0, 14.0, 20.0, 22.0, 14.0, 20.0, 15.0, 24.0, 19.0, 22.0, 15.0, 18.0, 24.0, 25.0, 29.0, 27.0, 26.1, 29.0, 22.0, 25.0, 29.0, 24.0, 56.0, 55.0, 57.12, 48.5, 45.42, 61.3, 58.2], \"y0\": \" \", \"yaxis\": \"y\"}, {\"alignmentgroup\": \"True\", \"box\": {\"visible\": true}, \"customdata\": [[\"Admin Offices\"], [\"Admin Offices\"], [\"Admin Offices\"], [\"Sales\"], [\"Sales\"], [\"Sales\"], [\"Sales\"], [\"Sales\"], [\"Sales\"], [\"Sales\"], [\"Sales\"], [\"Sales\"], [\"Sales\"], [\"Sales\"], [\"IT/IS\"], [\"IT/IS\"], [\"IT/IS\"], [\"IT/IS\"], [\"IT/IS\"], [\"IT/IS\"], [\"IT/IS\"], [\"IT/IS\"], [\"IT/IS\"], [\"IT/IS\"], [\"IT/IS\"], [\"IT/IS\"], [\"Sales\"], [\"IT/IS\"], [\"IT/IS\"], [\"IT/IS\"], [\"IT/IS\"], [\"IT/IS\"], [\"IT/IS\"], [\"IT/IS\"], [\"IT/IS\"], [\"IT/IS\"], [\"IT/IS\"], [\"IT/IS\"], [\"IT/IS\"], [\"IT/IS\"], [\"Executive Office\"], [\"Production\"], [\"Production\"], [\"Production\"], [\"Production\"], [\"Production\"], [\"Production\"], [\"Production\"], [\"Production\"], [\"Production\"], [\"Production\"], [\"Production\"], [\"Production\"], [\"Production\"], [\"Production\"], [\"Production\"], [\"Production\"], [\"Production\"], [\"Production\"], [\"Production\"], [\"Production\"], [\"Production\"], [\"Production\"], [\"Production\"], [\"Production\"], [\"Production\"], [\"Production\"], [\"Production\"], [\"Production\"], [\"Production\"], [\"Production\"], [\"Production\"], [\"Production\"], [\"Production\"], [\"Production\"], [\"Production\"], [\"Production\"], [\"Production\"], [\"Production\"], [\"Production\"], [\"Production\"], [\"Production\"], [\"Production\"], [\"Production\"], [\"Production\"], [\"Production\"], [\"Production\"], [\"Production\"], [\"Production\"], [\"Production\"], [\"Production\"], [\"Production\"], [\"Production\"], [\"Production\"], [\"Production\"], [\"Production\"], [\"Production\"], [\"Production\"], [\"Production\"], [\"Production\"], [\"Production\"], [\"Production\"], [\"Production\"], [\"Production\"], [\"Production\"], [\"Production\"], [\"Production\"], [\"Production\"], [\"Production\"], [\"Production\"], [\"Production\"], [\"Production\"], [\"Production\"], [\"Production\"], [\"Production\"], [\"Production\"], [\"Production\"], [\"Production\"], [\"Production\"], [\"Production\"], [\"Production\"], [\"Production\"], [\"Production\"], [\"Production\"], [\"Production\"], [\"Production\"], [\"Production\"], [\"Production\"], [\"Production\"], [\"Production\"], [\"Production\"], [\"Production\"], [\"Production\"], [\"Production\"], [\"Production\"], [\"Production\"], [\"Production\"], [\"Production\"], [\"Production\"], [\"Production\"], [\"Production\"], [\"Production\"], [\"Production\"], [\"Production\"], [\"Production\"], [\"Production\"], [\"Production\"], [\"Production\"], [\"Production\"], [\"Production\"], [\"Production\"], [\"Production\"], [\"Production\"], [\"Production\"], [\"Production\"], [\"Production\"], [\"Production\"], [\"Production\"], [\"Production\"], [\"Production\"], [\"Production\"], [\"Production\"], [\"Production\"], [\"Production\"], [\"Production\"], [\"Production\"], [\"Production\"], [\"Production\"], [\"Production\"], [\"Production\"], [\"Production\"], [\"Production\"], [\"Production\"], [\"Production\"], [\"Production\"], [\"Production\"], [\"Production\"], [\"Production\"], [\"Production\"], [\"Sales\"], [\"Sales\"], [\"Admin Offices\"], [\"Software Engineering\"], [\"Software Engineering\"], [\"Software Engineering\"], [\"Software Engineering\"], [\"Software Engineering\"], [\"Admin Offices\"], [\"IT/IS\"], [\"IT/IS\"], [\"IT/IS\"], [\"IT/IS\"], [\"IT/IS\"]], \"hovertemplate\": \"race=White<br>PayRate=%{y}<br>Department=%{customdata[0]}<extra></extra>\", \"legendgroup\": \"White\", \"marker\": {\"color\": \"#024E68\"}, \"name\": \"White\", \"offsetgroup\": \"White\", \"orientation\": \"v\", \"scalegroup\": \"True\", \"showlegend\": true, \"type\": \"violin\", \"x0\": \" \", \"xaxis\": \"x\", \"y\": [29.0, 21.5, 16.56, 55.0, 55.0, 55.5, 55.0, 55.0, 55.0, 55.0, 56.0, 55.0, 57.0, 55.0, 46.0, 45.0, 63.5, 65.0, 43.0, 48.5, 34.0, 41.0, 39.55, 42.2, 30.2, 31.4, 60.0, 62.0, 64.0, 28.99, 31.4, 45.0, 42.0, 37.0, 39.0, 43.0, 27.0, 47.0, 28.0, 49.1, 80.0, 54.5, 55.0, 51.0, 54.0, 48.5, 55.0, 38.5, 52.0, 53.0, 23.0, 16.0, 21.0, 20.0, 18.0, 20.0, 24.0, 15.0, 22.0, 22.0, 15.0, 20.0, 21.0, 16.0, 24.75, 24.0, 16.0, 23.0, 18.0, 17.0, 16.0, 20.0, 15.0, 16.75, 19.0, 15.0, 20.0, 17.0, 20.0, 19.0, 17.0, 21.0, 22.0, 21.0, 22.0, 19.5, 15.0, 18.0, 22.0, 21.0, 15.0, 18.0, 20.0, 15.0, 15.75, 21.25, 21.0, 14.0, 19.0, 15.0, 16.0, 16.0, 21.0, 22.0, 21.0, 23.0, 17.0, 19.0, 17.0, 21.0, 17.0, 16.0, 24.5, 20.0, 17.0, 21.0, 16.0, 18.0, 19.0, 20.0, 18.0, 16.0, 19.75, 17.0, 24.0, 17.0, 19.0, 15.25, 20.0, 21.0, 21.0, 19.0, 20.0, 16.0, 22.0, 23.5, 20.0, 19.75, 22.0, 23.0, 29.0, 23.0, 22.0, 25.0, 25.0, 25.0, 29.0, 26.0, 24.25, 27.0, 26.0, 22.0, 26.0, 25.0, 26.39, 22.0, 28.75, 27.0, 24.0, 24.0, 22.0, 29.0, 26.0, 24.0, 26.0, 29.0, 29.0, 28.0, 22.0, 24.25, 27.0, 24.0, 28.0, 24.0, 23.0, 22.0, 28.0, 23.0, 23.0, 54.0, 60.25, 55.0, 47.6, 56.0, 49.25, 48.0, 27.0, 34.95, 62.0, 58.5, 54.1, 56.2, 53.0], \"y0\": \" \", \"yaxis\": \"y\"}, {\"alignmentgroup\": \"True\", \"box\": {\"visible\": true}, \"customdata\": [[\"Admin Offices\"], [\"Sales\"], [\"IT/IS\"], [\"IT/IS\"], [\"Production\"], [\"Production\"], [\"Production\"], [\"Production\"], [\"Production\"], [\"Production\"], [\"Production\"], [\"Production\"], [\"Production\"], [\"Production\"], [\"Production\"], [\"Production\"], [\"Production\"], [\"Production\"], [\"Production\"], [\"Production\"], [\"Production\"], [\"Production\"], [\"Production\"], [\"Production\"], [\"Production\"], [\"Production\"], [\"IT/IS\"], [\"IT/IS\"], [\"IT/IS\"], [\"Software Engineering\"], [\"Software Engineering\"], [\"Admin Offices\"], [\"IT/IS\"], [\"IT/IS\"]], \"hovertemplate\": \"race=Asian<br>PayRate=%{y}<br>Department=%{customdata[0]}<extra></extra>\", \"legendgroup\": \"Asian\", \"marker\": {\"color\": \"#A65500\"}, \"name\": \"Asian\", \"offsetgroup\": \"Asian\", \"orientation\": \"v\", \"scalegroup\": \"True\", \"showlegend\": true, \"type\": \"violin\", \"x0\": \" \", \"xaxis\": \"x\", \"y\": [20.5, 56.0, 40.0, 42.75, 50.5, 42.0, 21.0, 15.0, 22.0, 15.0, 21.0, 14.0, 22.0, 22.0, 22.0, 18.0, 24.0, 19.0, 19.0, 17.0, 22.0, 15.2, 28.0, 26.0, 22.0, 25.0, 50.25, 52.25, 51.0, 55.51, 52.25, 34.95, 53.8, 55.2], \"y0\": \" \", \"yaxis\": \"y\"}, {\"alignmentgroup\": \"True\", \"box\": {\"visible\": true}, \"customdata\": [[\"Sales\"], [\"Sales\"], [\"Sales\"], [\"Sales\"], [\"Sales\"], [\"Sales\"], [\"Sales\"], [\"IT/IS\"], [\"IT/IS\"], [\"IT/IS\"], [\"Production\"], [\"Production\"], [\"Production\"], [\"Production\"], [\"Production\"], [\"Production\"], [\"Production\"], [\"Production\"], [\"Production\"], [\"Production\"], [\"Production\"], [\"Production\"], [\"Production\"], [\"Production\"], [\"Production\"], [\"Production\"]], \"hovertemplate\": \"race=other<br>PayRate=%{y}<br>Department=%{customdata[0]}<extra></extra>\", \"legendgroup\": \"other\", \"marker\": {\"color\": \"#A61A00\"}, \"name\": \"other\", \"offsetgroup\": \"other\", \"orientation\": \"v\", \"scalegroup\": \"True\", \"showlegend\": true, \"type\": \"violin\", \"x0\": \" \", \"xaxis\": \"x\", \"y\": [56.0, 55.5, 55.0, 55.0, 55.0, 55.0, 55.0, 21.0, 63.0, 26.0, 53.0, 16.0, 22.0, 16.0, 17.0, 16.76, 16.0, 18.5, 14.0, 19.0, 15.0, 23.0, 26.0, 22.5, 25.0, 27.0], \"y0\": \" \", \"yaxis\": \"y\"}],\n",
       "                        {\"legend\": {\"title\": {\"text\": \"race\"}, \"tracegroupgap\": 0}, \"margin\": {\"t\": 60}, \"template\": {\"data\": {\"bar\": [{\"error_x\": {\"color\": \"#2a3f5f\"}, \"error_y\": {\"color\": \"#2a3f5f\"}, \"marker\": {\"line\": {\"color\": \"#E5ECF6\", \"width\": 0.5}}, \"type\": \"bar\"}], \"barpolar\": [{\"marker\": {\"line\": {\"color\": \"#E5ECF6\", \"width\": 0.5}}, \"type\": \"barpolar\"}], \"carpet\": [{\"aaxis\": {\"endlinecolor\": \"#2a3f5f\", \"gridcolor\": \"white\", \"linecolor\": \"white\", \"minorgridcolor\": \"white\", \"startlinecolor\": \"#2a3f5f\"}, \"baxis\": {\"endlinecolor\": \"#2a3f5f\", \"gridcolor\": \"white\", \"linecolor\": \"white\", \"minorgridcolor\": \"white\", \"startlinecolor\": \"#2a3f5f\"}, \"type\": \"carpet\"}], \"choropleth\": [{\"colorbar\": {\"outlinewidth\": 0, \"ticks\": \"\"}, \"type\": \"choropleth\"}], \"contour\": [{\"colorbar\": {\"outlinewidth\": 0, \"ticks\": \"\"}, \"colorscale\": [[0.0, \"#0d0887\"], [0.1111111111111111, \"#46039f\"], [0.2222222222222222, \"#7201a8\"], [0.3333333333333333, \"#9c179e\"], [0.4444444444444444, \"#bd3786\"], [0.5555555555555556, \"#d8576b\"], [0.6666666666666666, \"#ed7953\"], [0.7777777777777778, \"#fb9f3a\"], [0.8888888888888888, \"#fdca26\"], [1.0, \"#f0f921\"]], \"type\": \"contour\"}], \"contourcarpet\": [{\"colorbar\": {\"outlinewidth\": 0, \"ticks\": \"\"}, \"type\": \"contourcarpet\"}], \"heatmap\": [{\"colorbar\": {\"outlinewidth\": 0, \"ticks\": \"\"}, \"colorscale\": [[0.0, \"#0d0887\"], [0.1111111111111111, \"#46039f\"], [0.2222222222222222, \"#7201a8\"], [0.3333333333333333, \"#9c179e\"], [0.4444444444444444, \"#bd3786\"], [0.5555555555555556, \"#d8576b\"], [0.6666666666666666, \"#ed7953\"], [0.7777777777777778, \"#fb9f3a\"], [0.8888888888888888, \"#fdca26\"], [1.0, \"#f0f921\"]], \"type\": \"heatmap\"}], \"heatmapgl\": [{\"colorbar\": {\"outlinewidth\": 0, \"ticks\": \"\"}, \"colorscale\": [[0.0, \"#0d0887\"], [0.1111111111111111, \"#46039f\"], [0.2222222222222222, \"#7201a8\"], [0.3333333333333333, \"#9c179e\"], [0.4444444444444444, \"#bd3786\"], [0.5555555555555556, \"#d8576b\"], [0.6666666666666666, \"#ed7953\"], [0.7777777777777778, \"#fb9f3a\"], [0.8888888888888888, \"#fdca26\"], [1.0, \"#f0f921\"]], \"type\": \"heatmapgl\"}], \"histogram\": [{\"marker\": {\"colorbar\": {\"outlinewidth\": 0, \"ticks\": \"\"}}, \"type\": \"histogram\"}], \"histogram2d\": [{\"colorbar\": {\"outlinewidth\": 0, \"ticks\": \"\"}, \"colorscale\": [[0.0, \"#0d0887\"], [0.1111111111111111, \"#46039f\"], [0.2222222222222222, \"#7201a8\"], [0.3333333333333333, \"#9c179e\"], [0.4444444444444444, \"#bd3786\"], [0.5555555555555556, \"#d8576b\"], [0.6666666666666666, \"#ed7953\"], [0.7777777777777778, \"#fb9f3a\"], [0.8888888888888888, \"#fdca26\"], [1.0, \"#f0f921\"]], \"type\": \"histogram2d\"}], \"histogram2dcontour\": [{\"colorbar\": {\"outlinewidth\": 0, \"ticks\": \"\"}, \"colorscale\": [[0.0, \"#0d0887\"], [0.1111111111111111, \"#46039f\"], [0.2222222222222222, \"#7201a8\"], [0.3333333333333333, \"#9c179e\"], [0.4444444444444444, \"#bd3786\"], [0.5555555555555556, \"#d8576b\"], [0.6666666666666666, \"#ed7953\"], [0.7777777777777778, \"#fb9f3a\"], [0.8888888888888888, \"#fdca26\"], [1.0, \"#f0f921\"]], \"type\": \"histogram2dcontour\"}], \"mesh3d\": [{\"colorbar\": {\"outlinewidth\": 0, \"ticks\": \"\"}, \"type\": \"mesh3d\"}], \"parcoords\": [{\"line\": {\"colorbar\": {\"outlinewidth\": 0, \"ticks\": \"\"}}, \"type\": \"parcoords\"}], \"pie\": [{\"automargin\": true, \"type\": \"pie\"}], \"scatter\": [{\"marker\": {\"colorbar\": {\"outlinewidth\": 0, \"ticks\": \"\"}}, \"type\": \"scatter\"}], \"scatter3d\": [{\"line\": {\"colorbar\": {\"outlinewidth\": 0, \"ticks\": \"\"}}, \"marker\": {\"colorbar\": {\"outlinewidth\": 0, \"ticks\": \"\"}}, \"type\": \"scatter3d\"}], \"scattercarpet\": [{\"marker\": {\"colorbar\": {\"outlinewidth\": 0, \"ticks\": \"\"}}, \"type\": \"scattercarpet\"}], \"scattergeo\": [{\"marker\": {\"colorbar\": {\"outlinewidth\": 0, \"ticks\": \"\"}}, \"type\": \"scattergeo\"}], \"scattergl\": [{\"marker\": {\"colorbar\": {\"outlinewidth\": 0, \"ticks\": \"\"}}, \"type\": \"scattergl\"}], \"scattermapbox\": [{\"marker\": {\"colorbar\": {\"outlinewidth\": 0, \"ticks\": \"\"}}, \"type\": \"scattermapbox\"}], \"scatterpolar\": [{\"marker\": {\"colorbar\": {\"outlinewidth\": 0, \"ticks\": \"\"}}, \"type\": \"scatterpolar\"}], \"scatterpolargl\": [{\"marker\": {\"colorbar\": {\"outlinewidth\": 0, \"ticks\": \"\"}}, \"type\": \"scatterpolargl\"}], \"scatterternary\": [{\"marker\": {\"colorbar\": {\"outlinewidth\": 0, \"ticks\": \"\"}}, \"type\": \"scatterternary\"}], \"surface\": [{\"colorbar\": {\"outlinewidth\": 0, \"ticks\": \"\"}, \"colorscale\": [[0.0, \"#0d0887\"], [0.1111111111111111, \"#46039f\"], [0.2222222222222222, \"#7201a8\"], [0.3333333333333333, \"#9c179e\"], [0.4444444444444444, \"#bd3786\"], [0.5555555555555556, \"#d8576b\"], [0.6666666666666666, \"#ed7953\"], [0.7777777777777778, \"#fb9f3a\"], [0.8888888888888888, \"#fdca26\"], [1.0, \"#f0f921\"]], \"type\": \"surface\"}], \"table\": [{\"cells\": {\"fill\": {\"color\": \"#EBF0F8\"}, \"line\": {\"color\": \"white\"}}, \"header\": {\"fill\": {\"color\": \"#C8D4E3\"}, \"line\": {\"color\": \"white\"}}, \"type\": \"table\"}]}, \"layout\": {\"annotationdefaults\": {\"arrowcolor\": \"#2a3f5f\", \"arrowhead\": 0, \"arrowwidth\": 1}, \"coloraxis\": {\"colorbar\": {\"outlinewidth\": 0, \"ticks\": \"\"}}, \"colorscale\": {\"diverging\": [[0, \"#8e0152\"], [0.1, \"#c51b7d\"], [0.2, \"#de77ae\"], [0.3, \"#f1b6da\"], [0.4, \"#fde0ef\"], [0.5, \"#f7f7f7\"], [0.6, \"#e6f5d0\"], [0.7, \"#b8e186\"], [0.8, \"#7fbc41\"], [0.9, \"#4d9221\"], [1, \"#276419\"]], \"sequential\": [[0.0, \"#0d0887\"], [0.1111111111111111, \"#46039f\"], [0.2222222222222222, \"#7201a8\"], [0.3333333333333333, \"#9c179e\"], [0.4444444444444444, \"#bd3786\"], [0.5555555555555556, \"#d8576b\"], [0.6666666666666666, \"#ed7953\"], [0.7777777777777778, \"#fb9f3a\"], [0.8888888888888888, \"#fdca26\"], [1.0, \"#f0f921\"]], \"sequentialminus\": [[0.0, \"#0d0887\"], [0.1111111111111111, \"#46039f\"], [0.2222222222222222, \"#7201a8\"], [0.3333333333333333, \"#9c179e\"], [0.4444444444444444, \"#bd3786\"], [0.5555555555555556, \"#d8576b\"], [0.6666666666666666, \"#ed7953\"], [0.7777777777777778, \"#fb9f3a\"], [0.8888888888888888, \"#fdca26\"], [1.0, \"#f0f921\"]]}, \"colorway\": [\"#636efa\", \"#EF553B\", \"#00cc96\", \"#ab63fa\", \"#FFA15A\", \"#19d3f3\", \"#FF6692\", \"#B6E880\", \"#FF97FF\", \"#FECB52\"], \"font\": {\"color\": \"#2a3f5f\"}, \"geo\": {\"bgcolor\": \"white\", \"lakecolor\": \"white\", \"landcolor\": \"#E5ECF6\", \"showlakes\": true, \"showland\": true, \"subunitcolor\": \"white\"}, \"hoverlabel\": {\"align\": \"left\"}, \"hovermode\": \"closest\", \"mapbox\": {\"style\": \"light\"}, \"paper_bgcolor\": \"white\", \"plot_bgcolor\": \"#E5ECF6\", \"polar\": {\"angularaxis\": {\"gridcolor\": \"white\", \"linecolor\": \"white\", \"ticks\": \"\"}, \"bgcolor\": \"#E5ECF6\", \"radialaxis\": {\"gridcolor\": \"white\", \"linecolor\": \"white\", \"ticks\": \"\"}}, \"scene\": {\"xaxis\": {\"backgroundcolor\": \"#E5ECF6\", \"gridcolor\": \"white\", \"gridwidth\": 2, \"linecolor\": \"white\", \"showbackground\": true, \"ticks\": \"\", \"zerolinecolor\": \"white\"}, \"yaxis\": {\"backgroundcolor\": \"#E5ECF6\", \"gridcolor\": \"white\", \"gridwidth\": 2, \"linecolor\": \"white\", \"showbackground\": true, \"ticks\": \"\", \"zerolinecolor\": \"white\"}, \"zaxis\": {\"backgroundcolor\": \"#E5ECF6\", \"gridcolor\": \"white\", \"gridwidth\": 2, \"linecolor\": \"white\", \"showbackground\": true, \"ticks\": \"\", \"zerolinecolor\": \"white\"}}, \"shapedefaults\": {\"line\": {\"color\": \"#2a3f5f\"}}, \"ternary\": {\"aaxis\": {\"gridcolor\": \"white\", \"linecolor\": \"white\", \"ticks\": \"\"}, \"baxis\": {\"gridcolor\": \"white\", \"linecolor\": \"white\", \"ticks\": \"\"}, \"bgcolor\": \"#E5ECF6\", \"caxis\": {\"gridcolor\": \"white\", \"linecolor\": \"white\", \"ticks\": \"\"}}, \"title\": {\"x\": 0.05}, \"xaxis\": {\"automargin\": true, \"gridcolor\": \"white\", \"linecolor\": \"white\", \"ticks\": \"\", \"title\": {\"standoff\": 15}, \"zerolinecolor\": \"white\", \"zerolinewidth\": 2}, \"yaxis\": {\"automargin\": true, \"gridcolor\": \"white\", \"linecolor\": \"white\", \"ticks\": \"\", \"title\": {\"standoff\": 15}, \"zerolinecolor\": \"white\", \"zerolinewidth\": 2}}}, \"violinmode\": \"group\", \"xaxis\": {\"anchor\": \"y\", \"domain\": [0.0, 1.0]}, \"yaxis\": {\"anchor\": \"x\", \"domain\": [0.0, 1.0], \"title\": {\"text\": \"PayRate\"}}},\n",
       "                        {\"responsive\": true}\n",
       "                    ).then(function(){\n",
       "                            \n",
       "var gd = document.getElementById('6f07bb2a-889b-4c40-b181-bb990517d718');\n",
       "var x = new MutationObserver(function (mutations, observer) {{\n",
       "        var display = window.getComputedStyle(gd).display;\n",
       "        if (!display || display === 'none') {{\n",
       "            console.log([gd, 'removed!']);\n",
       "            Plotly.purge(gd);\n",
       "            observer.disconnect();\n",
       "        }}\n",
       "}});\n",
       "\n",
       "// Listen for the removal of the full notebook cells\n",
       "var notebookContainer = gd.closest('#notebook-container');\n",
       "if (notebookContainer) {{\n",
       "    x.observe(notebookContainer, {childList: true});\n",
       "}}\n",
       "\n",
       "// Listen for the clearing of the current output cell\n",
       "var outputEl = gd.closest('.output');\n",
       "if (outputEl) {{\n",
       "    x.observe(outputEl, {childList: true});\n",
       "}}\n",
       "\n",
       "                        })\n",
       "                };\n",
       "                });\n",
       "            </script>\n",
       "        </div>"
      ]
     },
     "metadata": {},
     "output_type": "display_data"
    }
   ],
   "source": [
    "fig = px.violin(hr, y=\"PayRate\", color=\"race\", box=True, \n",
    "                color_discrete_sequence=palette_4, hover_data=['Department'])\n",
    "fig.show()"
   ]
  },
  {
   "cell_type": "markdown",
   "metadata": {},
   "source": [
    "# Violin and box plots specifically"
   ]
  },
  {
   "cell_type": "markdown",
   "metadata": {},
   "source": [
    "It is essential to remove too small traces, such as Executive Office - it consists of only 1 measurement, therefore plotting would be impossible."
   ]
  },
  {
   "cell_type": "code",
   "execution_count": 45,
   "metadata": {},
   "outputs": [],
   "source": [
    "hr_i = hr[~hr[\"Department\"].isin(['Executive Office'])]"
   ]
  },
  {
   "cell_type": "markdown",
   "metadata": {},
   "source": [
    "## for Department PayRate"
   ]
  },
  {
   "cell_type": "code",
   "execution_count": 46,
   "metadata": {
    "collapsed": true
   },
   "outputs": [
    {
     "data": {
      "application/vnd.plotly.v1+json": {
       "config": {
        "plotlyServerURL": "https://plot.ly"
       },
       "data": [
        {
         "alignmentgroup": "True",
         "hovertemplate": "Department=%{x}<br>PayRate=%{y}<extra></extra>",
         "legendgroup": "Admin Offices",
         "marker": {
          "color": "#636efa"
         },
         "name": "Admin Offices",
         "notched": false,
         "offsetgroup": "Admin Offices",
         "orientation": "v",
         "showlegend": true,
         "type": "box",
         "x": [
          "Admin Offices",
          "Admin Offices",
          "Admin Offices",
          "Admin Offices",
          "Admin Offices",
          "Admin Offices",
          "Admin Offices",
          "Admin Offices",
          "Admin Offices",
          "Admin Offices"
         ],
         "x0": " ",
         "xaxis": "x",
         "y": [
          28.5,
          23,
          29,
          21.5,
          16.56,
          20.5,
          55,
          55,
          34.95,
          34.95
         ],
         "y0": " ",
         "yaxis": "y"
        },
        {
         "alignmentgroup": "True",
         "hovertemplate": "Department=%{x}<br>PayRate=%{y}<extra></extra>",
         "legendgroup": "Sales",
         "marker": {
          "color": "#EF553B"
         },
         "name": "Sales",
         "notched": false,
         "offsetgroup": "Sales",
         "orientation": "v",
         "showlegend": true,
         "type": "box",
         "x": [
          "Sales",
          "Sales",
          "Sales",
          "Sales",
          "Sales",
          "Sales",
          "Sales",
          "Sales",
          "Sales",
          "Sales",
          "Sales",
          "Sales",
          "Sales",
          "Sales",
          "Sales",
          "Sales",
          "Sales",
          "Sales",
          "Sales",
          "Sales",
          "Sales",
          "Sales",
          "Sales",
          "Sales",
          "Sales",
          "Sales",
          "Sales",
          "Sales",
          "Sales",
          "Sales",
          "Sales"
         ],
         "x0": " ",
         "xaxis": "x",
         "y": [
          55,
          55,
          55,
          56,
          55.5,
          55,
          55.5,
          55,
          55,
          55,
          55,
          54,
          55,
          56,
          55,
          55,
          55,
          55,
          56,
          55,
          56,
          55,
          55,
          57,
          55,
          55,
          55,
          60,
          54,
          60.25,
          56
         ],
         "y0": " ",
         "yaxis": "y"
        },
        {
         "alignmentgroup": "True",
         "hovertemplate": "Department=%{x}<br>PayRate=%{y}<extra></extra>",
         "legendgroup": "IT/IS",
         "marker": {
          "color": "#00cc96"
         },
         "name": "IT/IS",
         "notched": false,
         "offsetgroup": "IT/IS",
         "orientation": "v",
         "showlegend": true,
         "type": "box",
         "x": [
          "IT/IS",
          "IT/IS",
          "IT/IS",
          "IT/IS",
          "IT/IS",
          "IT/IS",
          "IT/IS",
          "IT/IS",
          "IT/IS",
          "IT/IS",
          "IT/IS",
          "IT/IS",
          "IT/IS",
          "IT/IS",
          "IT/IS",
          "IT/IS",
          "IT/IS",
          "IT/IS",
          "IT/IS",
          "IT/IS",
          "IT/IS",
          "IT/IS",
          "IT/IS",
          "IT/IS",
          "IT/IS",
          "IT/IS",
          "IT/IS",
          "IT/IS",
          "IT/IS",
          "IT/IS",
          "IT/IS",
          "IT/IS",
          "IT/IS",
          "IT/IS",
          "IT/IS",
          "IT/IS",
          "IT/IS",
          "IT/IS",
          "IT/IS",
          "IT/IS",
          "IT/IS",
          "IT/IS",
          "IT/IS",
          "IT/IS",
          "IT/IS",
          "IT/IS",
          "IT/IS",
          "IT/IS",
          "IT/IS",
          "IT/IS"
         ],
         "x0": " ",
         "xaxis": "x",
         "y": [
          45,
          46,
          45,
          45,
          63.5,
          65,
          55,
          43,
          48.5,
          40.1,
          34,
          40,
          35.5,
          41,
          42.75,
          39.55,
          42.2,
          45,
          30.2,
          31.4,
          65,
          62,
          21,
          63,
          64,
          28.99,
          31.4,
          26,
          27.49,
          45,
          42,
          37,
          39,
          43,
          27,
          47,
          28,
          49.1,
          50.25,
          52.25,
          51,
          62,
          61.3,
          58.2,
          58.5,
          54.1,
          56.2,
          53.8,
          53,
          55.2
         ],
         "y0": " ",
         "yaxis": "y"
        },
        {
         "alignmentgroup": "True",
         "hovertemplate": "Department=%{x}<br>PayRate=%{y}<extra></extra>",
         "legendgroup": "Production",
         "marker": {
          "color": "#ab63fa"
         },
         "name": "Production",
         "notched": false,
         "offsetgroup": "Production",
         "orientation": "v",
         "showlegend": true,
         "type": "box",
         "x": [
          "Production",
          "Production",
          "Production",
          "Production",
          "Production",
          "Production",
          "Production",
          "Production",
          "Production",
          "Production",
          "Production",
          "Production",
          "Production",
          "Production",
          "Production",
          "Production",
          "Production",
          "Production",
          "Production",
          "Production",
          "Production",
          "Production",
          "Production",
          "Production",
          "Production",
          "Production",
          "Production",
          "Production",
          "Production",
          "Production",
          "Production",
          "Production",
          "Production",
          "Production",
          "Production",
          "Production",
          "Production",
          "Production",
          "Production",
          "Production",
          "Production",
          "Production",
          "Production",
          "Production",
          "Production",
          "Production",
          "Production",
          "Production",
          "Production",
          "Production",
          "Production",
          "Production",
          "Production",
          "Production",
          "Production",
          "Production",
          "Production",
          "Production",
          "Production",
          "Production",
          "Production",
          "Production",
          "Production",
          "Production",
          "Production",
          "Production",
          "Production",
          "Production",
          "Production",
          "Production",
          "Production",
          "Production",
          "Production",
          "Production",
          "Production",
          "Production",
          "Production",
          "Production",
          "Production",
          "Production",
          "Production",
          "Production",
          "Production",
          "Production",
          "Production",
          "Production",
          "Production",
          "Production",
          "Production",
          "Production",
          "Production",
          "Production",
          "Production",
          "Production",
          "Production",
          "Production",
          "Production",
          "Production",
          "Production",
          "Production",
          "Production",
          "Production",
          "Production",
          "Production",
          "Production",
          "Production",
          "Production",
          "Production",
          "Production",
          "Production",
          "Production",
          "Production",
          "Production",
          "Production",
          "Production",
          "Production",
          "Production",
          "Production",
          "Production",
          "Production",
          "Production",
          "Production",
          "Production",
          "Production",
          "Production",
          "Production",
          "Production",
          "Production",
          "Production",
          "Production",
          "Production",
          "Production",
          "Production",
          "Production",
          "Production",
          "Production",
          "Production",
          "Production",
          "Production",
          "Production",
          "Production",
          "Production",
          "Production",
          "Production",
          "Production",
          "Production",
          "Production",
          "Production",
          "Production",
          "Production",
          "Production",
          "Production",
          "Production",
          "Production",
          "Production",
          "Production",
          "Production",
          "Production",
          "Production",
          "Production",
          "Production",
          "Production",
          "Production",
          "Production",
          "Production",
          "Production",
          "Production",
          "Production",
          "Production",
          "Production",
          "Production",
          "Production",
          "Production",
          "Production",
          "Production",
          "Production",
          "Production",
          "Production",
          "Production",
          "Production",
          "Production",
          "Production",
          "Production",
          "Production",
          "Production",
          "Production",
          "Production",
          "Production",
          "Production",
          "Production",
          "Production",
          "Production",
          "Production",
          "Production",
          "Production",
          "Production",
          "Production",
          "Production",
          "Production",
          "Production",
          "Production",
          "Production",
          "Production",
          "Production",
          "Production",
          "Production",
          "Production",
          "Production"
         ],
         "x0": " ",
         "xaxis": "x",
         "y": [
          60,
          54.5,
          50.5,
          55,
          51,
          54,
          48.5,
          42,
          55,
          53,
          38.5,
          52,
          53,
          55,
          33.5,
          23,
          16,
          21,
          20,
          18,
          16,
          20,
          24,
          15,
          22,
          22,
          24,
          15,
          20,
          21,
          22,
          16,
          24.75,
          22,
          24,
          16,
          16,
          21,
          23,
          15,
          18,
          17,
          16,
          24,
          22,
          17,
          20,
          15,
          16.75,
          19,
          15,
          20,
          17,
          20,
          19,
          17,
          17,
          21,
          22,
          15,
          21,
          22,
          19.5,
          15,
          18,
          22,
          21,
          21,
          20,
          15,
          18,
          20,
          21,
          14,
          15,
          16.76,
          20,
          15.75,
          21.25,
          21,
          24,
          14,
          19,
          15,
          14,
          16,
          16,
          20,
          22,
          21,
          22,
          22,
          22,
          21,
          23,
          17,
          19,
          14,
          17,
          21,
          17,
          16,
          24.5,
          20,
          16,
          22,
          20,
          15,
          17,
          18,
          24,
          21,
          19,
          24,
          18.5,
          19,
          16,
          18,
          14,
          19,
          20,
          18,
          16,
          19.75,
          17,
          19,
          24,
          17,
          19,
          15.25,
          20,
          22,
          21,
          21,
          19,
          20,
          16,
          17,
          22,
          23.5,
          20,
          15,
          19.75,
          22,
          19,
          18,
          24,
          22,
          15.2,
          15,
          23,
          25,
          29,
          23,
          23,
          28,
          22,
          25,
          29,
          25,
          25,
          26,
          29,
          26,
          24.25,
          22,
          27,
          26,
          22,
          26,
          27,
          25,
          26.1,
          26.39,
          22,
          28.75,
          27,
          29,
          24,
          24,
          22,
          26,
          29,
          26,
          24,
          22.5,
          26,
          29,
          22,
          29,
          25,
          27,
          28,
          25,
          22,
          24.25,
          27,
          24,
          28,
          24,
          29,
          23,
          22,
          24,
          28,
          23,
          25,
          23
         ],
         "y0": " ",
         "yaxis": "y"
        },
        {
         "alignmentgroup": "True",
         "hovertemplate": "Department=%{x}<br>PayRate=%{y}<extra></extra>",
         "legendgroup": "Software Engineering",
         "marker": {
          "color": "#FFA15A"
         },
         "name": "Software Engineering",
         "notched": false,
         "offsetgroup": "Software Engineering",
         "orientation": "v",
         "showlegend": true,
         "type": "box",
         "x": [
          "Software Engineering",
          "Software Engineering",
          "Software Engineering",
          "Software Engineering",
          "Software Engineering",
          "Software Engineering",
          "Software Engineering",
          "Software Engineering",
          "Software Engineering",
          "Software Engineering"
         ],
         "x0": " ",
         "xaxis": "x",
         "y": [
          47.6,
          56,
          57.12,
          48.5,
          55.51,
          52.25,
          49.25,
          48,
          45.42,
          27
         ],
         "y0": " ",
         "yaxis": "y"
        }
       ],
       "layout": {
        "boxmode": "overlay",
        "legend": {
         "title": {
          "text": "Department"
         },
         "tracegroupgap": 0
        },
        "margin": {
         "t": 60
        },
        "template": {
         "data": {
          "bar": [
           {
            "error_x": {
             "color": "#2a3f5f"
            },
            "error_y": {
             "color": "#2a3f5f"
            },
            "marker": {
             "line": {
              "color": "#E5ECF6",
              "width": 0.5
             }
            },
            "type": "bar"
           }
          ],
          "barpolar": [
           {
            "marker": {
             "line": {
              "color": "#E5ECF6",
              "width": 0.5
             }
            },
            "type": "barpolar"
           }
          ],
          "carpet": [
           {
            "aaxis": {
             "endlinecolor": "#2a3f5f",
             "gridcolor": "white",
             "linecolor": "white",
             "minorgridcolor": "white",
             "startlinecolor": "#2a3f5f"
            },
            "baxis": {
             "endlinecolor": "#2a3f5f",
             "gridcolor": "white",
             "linecolor": "white",
             "minorgridcolor": "white",
             "startlinecolor": "#2a3f5f"
            },
            "type": "carpet"
           }
          ],
          "choropleth": [
           {
            "colorbar": {
             "outlinewidth": 0,
             "ticks": ""
            },
            "type": "choropleth"
           }
          ],
          "contour": [
           {
            "colorbar": {
             "outlinewidth": 0,
             "ticks": ""
            },
            "colorscale": [
             [
              0,
              "#0d0887"
             ],
             [
              0.1111111111111111,
              "#46039f"
             ],
             [
              0.2222222222222222,
              "#7201a8"
             ],
             [
              0.3333333333333333,
              "#9c179e"
             ],
             [
              0.4444444444444444,
              "#bd3786"
             ],
             [
              0.5555555555555556,
              "#d8576b"
             ],
             [
              0.6666666666666666,
              "#ed7953"
             ],
             [
              0.7777777777777778,
              "#fb9f3a"
             ],
             [
              0.8888888888888888,
              "#fdca26"
             ],
             [
              1,
              "#f0f921"
             ]
            ],
            "type": "contour"
           }
          ],
          "contourcarpet": [
           {
            "colorbar": {
             "outlinewidth": 0,
             "ticks": ""
            },
            "type": "contourcarpet"
           }
          ],
          "heatmap": [
           {
            "colorbar": {
             "outlinewidth": 0,
             "ticks": ""
            },
            "colorscale": [
             [
              0,
              "#0d0887"
             ],
             [
              0.1111111111111111,
              "#46039f"
             ],
             [
              0.2222222222222222,
              "#7201a8"
             ],
             [
              0.3333333333333333,
              "#9c179e"
             ],
             [
              0.4444444444444444,
              "#bd3786"
             ],
             [
              0.5555555555555556,
              "#d8576b"
             ],
             [
              0.6666666666666666,
              "#ed7953"
             ],
             [
              0.7777777777777778,
              "#fb9f3a"
             ],
             [
              0.8888888888888888,
              "#fdca26"
             ],
             [
              1,
              "#f0f921"
             ]
            ],
            "type": "heatmap"
           }
          ],
          "heatmapgl": [
           {
            "colorbar": {
             "outlinewidth": 0,
             "ticks": ""
            },
            "colorscale": [
             [
              0,
              "#0d0887"
             ],
             [
              0.1111111111111111,
              "#46039f"
             ],
             [
              0.2222222222222222,
              "#7201a8"
             ],
             [
              0.3333333333333333,
              "#9c179e"
             ],
             [
              0.4444444444444444,
              "#bd3786"
             ],
             [
              0.5555555555555556,
              "#d8576b"
             ],
             [
              0.6666666666666666,
              "#ed7953"
             ],
             [
              0.7777777777777778,
              "#fb9f3a"
             ],
             [
              0.8888888888888888,
              "#fdca26"
             ],
             [
              1,
              "#f0f921"
             ]
            ],
            "type": "heatmapgl"
           }
          ],
          "histogram": [
           {
            "marker": {
             "colorbar": {
              "outlinewidth": 0,
              "ticks": ""
             }
            },
            "type": "histogram"
           }
          ],
          "histogram2d": [
           {
            "colorbar": {
             "outlinewidth": 0,
             "ticks": ""
            },
            "colorscale": [
             [
              0,
              "#0d0887"
             ],
             [
              0.1111111111111111,
              "#46039f"
             ],
             [
              0.2222222222222222,
              "#7201a8"
             ],
             [
              0.3333333333333333,
              "#9c179e"
             ],
             [
              0.4444444444444444,
              "#bd3786"
             ],
             [
              0.5555555555555556,
              "#d8576b"
             ],
             [
              0.6666666666666666,
              "#ed7953"
             ],
             [
              0.7777777777777778,
              "#fb9f3a"
             ],
             [
              0.8888888888888888,
              "#fdca26"
             ],
             [
              1,
              "#f0f921"
             ]
            ],
            "type": "histogram2d"
           }
          ],
          "histogram2dcontour": [
           {
            "colorbar": {
             "outlinewidth": 0,
             "ticks": ""
            },
            "colorscale": [
             [
              0,
              "#0d0887"
             ],
             [
              0.1111111111111111,
              "#46039f"
             ],
             [
              0.2222222222222222,
              "#7201a8"
             ],
             [
              0.3333333333333333,
              "#9c179e"
             ],
             [
              0.4444444444444444,
              "#bd3786"
             ],
             [
              0.5555555555555556,
              "#d8576b"
             ],
             [
              0.6666666666666666,
              "#ed7953"
             ],
             [
              0.7777777777777778,
              "#fb9f3a"
             ],
             [
              0.8888888888888888,
              "#fdca26"
             ],
             [
              1,
              "#f0f921"
             ]
            ],
            "type": "histogram2dcontour"
           }
          ],
          "mesh3d": [
           {
            "colorbar": {
             "outlinewidth": 0,
             "ticks": ""
            },
            "type": "mesh3d"
           }
          ],
          "parcoords": [
           {
            "line": {
             "colorbar": {
              "outlinewidth": 0,
              "ticks": ""
             }
            },
            "type": "parcoords"
           }
          ],
          "pie": [
           {
            "automargin": true,
            "type": "pie"
           }
          ],
          "scatter": [
           {
            "marker": {
             "colorbar": {
              "outlinewidth": 0,
              "ticks": ""
             }
            },
            "type": "scatter"
           }
          ],
          "scatter3d": [
           {
            "line": {
             "colorbar": {
              "outlinewidth": 0,
              "ticks": ""
             }
            },
            "marker": {
             "colorbar": {
              "outlinewidth": 0,
              "ticks": ""
             }
            },
            "type": "scatter3d"
           }
          ],
          "scattercarpet": [
           {
            "marker": {
             "colorbar": {
              "outlinewidth": 0,
              "ticks": ""
             }
            },
            "type": "scattercarpet"
           }
          ],
          "scattergeo": [
           {
            "marker": {
             "colorbar": {
              "outlinewidth": 0,
              "ticks": ""
             }
            },
            "type": "scattergeo"
           }
          ],
          "scattergl": [
           {
            "marker": {
             "colorbar": {
              "outlinewidth": 0,
              "ticks": ""
             }
            },
            "type": "scattergl"
           }
          ],
          "scattermapbox": [
           {
            "marker": {
             "colorbar": {
              "outlinewidth": 0,
              "ticks": ""
             }
            },
            "type": "scattermapbox"
           }
          ],
          "scatterpolar": [
           {
            "marker": {
             "colorbar": {
              "outlinewidth": 0,
              "ticks": ""
             }
            },
            "type": "scatterpolar"
           }
          ],
          "scatterpolargl": [
           {
            "marker": {
             "colorbar": {
              "outlinewidth": 0,
              "ticks": ""
             }
            },
            "type": "scatterpolargl"
           }
          ],
          "scatterternary": [
           {
            "marker": {
             "colorbar": {
              "outlinewidth": 0,
              "ticks": ""
             }
            },
            "type": "scatterternary"
           }
          ],
          "surface": [
           {
            "colorbar": {
             "outlinewidth": 0,
             "ticks": ""
            },
            "colorscale": [
             [
              0,
              "#0d0887"
             ],
             [
              0.1111111111111111,
              "#46039f"
             ],
             [
              0.2222222222222222,
              "#7201a8"
             ],
             [
              0.3333333333333333,
              "#9c179e"
             ],
             [
              0.4444444444444444,
              "#bd3786"
             ],
             [
              0.5555555555555556,
              "#d8576b"
             ],
             [
              0.6666666666666666,
              "#ed7953"
             ],
             [
              0.7777777777777778,
              "#fb9f3a"
             ],
             [
              0.8888888888888888,
              "#fdca26"
             ],
             [
              1,
              "#f0f921"
             ]
            ],
            "type": "surface"
           }
          ],
          "table": [
           {
            "cells": {
             "fill": {
              "color": "#EBF0F8"
             },
             "line": {
              "color": "white"
             }
            },
            "header": {
             "fill": {
              "color": "#C8D4E3"
             },
             "line": {
              "color": "white"
             }
            },
            "type": "table"
           }
          ]
         },
         "layout": {
          "annotationdefaults": {
           "arrowcolor": "#2a3f5f",
           "arrowhead": 0,
           "arrowwidth": 1
          },
          "coloraxis": {
           "colorbar": {
            "outlinewidth": 0,
            "ticks": ""
           }
          },
          "colorscale": {
           "diverging": [
            [
             0,
             "#8e0152"
            ],
            [
             0.1,
             "#c51b7d"
            ],
            [
             0.2,
             "#de77ae"
            ],
            [
             0.3,
             "#f1b6da"
            ],
            [
             0.4,
             "#fde0ef"
            ],
            [
             0.5,
             "#f7f7f7"
            ],
            [
             0.6,
             "#e6f5d0"
            ],
            [
             0.7,
             "#b8e186"
            ],
            [
             0.8,
             "#7fbc41"
            ],
            [
             0.9,
             "#4d9221"
            ],
            [
             1,
             "#276419"
            ]
           ],
           "sequential": [
            [
             0,
             "#0d0887"
            ],
            [
             0.1111111111111111,
             "#46039f"
            ],
            [
             0.2222222222222222,
             "#7201a8"
            ],
            [
             0.3333333333333333,
             "#9c179e"
            ],
            [
             0.4444444444444444,
             "#bd3786"
            ],
            [
             0.5555555555555556,
             "#d8576b"
            ],
            [
             0.6666666666666666,
             "#ed7953"
            ],
            [
             0.7777777777777778,
             "#fb9f3a"
            ],
            [
             0.8888888888888888,
             "#fdca26"
            ],
            [
             1,
             "#f0f921"
            ]
           ],
           "sequentialminus": [
            [
             0,
             "#0d0887"
            ],
            [
             0.1111111111111111,
             "#46039f"
            ],
            [
             0.2222222222222222,
             "#7201a8"
            ],
            [
             0.3333333333333333,
             "#9c179e"
            ],
            [
             0.4444444444444444,
             "#bd3786"
            ],
            [
             0.5555555555555556,
             "#d8576b"
            ],
            [
             0.6666666666666666,
             "#ed7953"
            ],
            [
             0.7777777777777778,
             "#fb9f3a"
            ],
            [
             0.8888888888888888,
             "#fdca26"
            ],
            [
             1,
             "#f0f921"
            ]
           ]
          },
          "colorway": [
           "#636efa",
           "#EF553B",
           "#00cc96",
           "#ab63fa",
           "#FFA15A",
           "#19d3f3",
           "#FF6692",
           "#B6E880",
           "#FF97FF",
           "#FECB52"
          ],
          "font": {
           "color": "#2a3f5f"
          },
          "geo": {
           "bgcolor": "white",
           "lakecolor": "white",
           "landcolor": "#E5ECF6",
           "showlakes": true,
           "showland": true,
           "subunitcolor": "white"
          },
          "hoverlabel": {
           "align": "left"
          },
          "hovermode": "closest",
          "mapbox": {
           "style": "light"
          },
          "paper_bgcolor": "white",
          "plot_bgcolor": "#E5ECF6",
          "polar": {
           "angularaxis": {
            "gridcolor": "white",
            "linecolor": "white",
            "ticks": ""
           },
           "bgcolor": "#E5ECF6",
           "radialaxis": {
            "gridcolor": "white",
            "linecolor": "white",
            "ticks": ""
           }
          },
          "scene": {
           "xaxis": {
            "backgroundcolor": "#E5ECF6",
            "gridcolor": "white",
            "gridwidth": 2,
            "linecolor": "white",
            "showbackground": true,
            "ticks": "",
            "zerolinecolor": "white"
           },
           "yaxis": {
            "backgroundcolor": "#E5ECF6",
            "gridcolor": "white",
            "gridwidth": 2,
            "linecolor": "white",
            "showbackground": true,
            "ticks": "",
            "zerolinecolor": "white"
           },
           "zaxis": {
            "backgroundcolor": "#E5ECF6",
            "gridcolor": "white",
            "gridwidth": 2,
            "linecolor": "white",
            "showbackground": true,
            "ticks": "",
            "zerolinecolor": "white"
           }
          },
          "shapedefaults": {
           "line": {
            "color": "#2a3f5f"
           }
          },
          "ternary": {
           "aaxis": {
            "gridcolor": "white",
            "linecolor": "white",
            "ticks": ""
           },
           "baxis": {
            "gridcolor": "white",
            "linecolor": "white",
            "ticks": ""
           },
           "bgcolor": "#E5ECF6",
           "caxis": {
            "gridcolor": "white",
            "linecolor": "white",
            "ticks": ""
           }
          },
          "title": {
           "x": 0.05
          },
          "xaxis": {
           "automargin": true,
           "gridcolor": "white",
           "linecolor": "white",
           "ticks": "",
           "title": {
            "standoff": 15
           },
           "zerolinecolor": "white",
           "zerolinewidth": 2
          },
          "yaxis": {
           "automargin": true,
           "gridcolor": "white",
           "linecolor": "white",
           "ticks": "",
           "title": {
            "standoff": 15
           },
           "zerolinecolor": "white",
           "zerolinewidth": 2
          }
         }
        },
        "xaxis": {
         "anchor": "y",
         "categoryarray": [
          "Admin Offices",
          "Sales",
          "IT/IS",
          "Production",
          "Software Engineering"
         ],
         "categoryorder": "array",
         "domain": [
          0,
          1
         ],
         "ticktext": [
          "Admin Offices: 10",
          "Sales: 31",
          "IT/IS: 50",
          "Production: 208",
          "Software Engineering: 10"
         ],
         "tickvals": [
          "Admin Offices",
          "Sales",
          "IT/IS",
          "Production",
          "Software Engineering"
         ],
         "title": {
          "text": "Department"
         }
        },
        "yaxis": {
         "anchor": "x",
         "domain": [
          0,
          1
         ],
         "title": {
          "text": "PayRate"
         }
        }
       }
      },
      "text/html": [
       "<div>\n",
       "        \n",
       "        \n",
       "            <div id=\"9d99e228-e426-4c95-9c50-1f06f96b76c0\" class=\"plotly-graph-div\" style=\"height:525px; width:100%;\"></div>\n",
       "            <script type=\"text/javascript\">\n",
       "                require([\"plotly\"], function(Plotly) {\n",
       "                    window.PLOTLYENV=window.PLOTLYENV || {};\n",
       "                    \n",
       "                if (document.getElementById(\"9d99e228-e426-4c95-9c50-1f06f96b76c0\")) {\n",
       "                    Plotly.newPlot(\n",
       "                        '9d99e228-e426-4c95-9c50-1f06f96b76c0',\n",
       "                        [{\"alignmentgroup\": \"True\", \"hovertemplate\": \"Department=%{x}<br>PayRate=%{y}<extra></extra>\", \"legendgroup\": \"Admin Offices\", \"marker\": {\"color\": \"#636efa\"}, \"name\": \"Admin Offices\", \"notched\": false, \"offsetgroup\": \"Admin Offices\", \"orientation\": \"v\", \"showlegend\": true, \"type\": \"box\", \"x\": [\"Admin Offices\", \"Admin Offices\", \"Admin Offices\", \"Admin Offices\", \"Admin Offices\", \"Admin Offices\", \"Admin Offices\", \"Admin Offices\", \"Admin Offices\", \"Admin Offices\"], \"x0\": \" \", \"xaxis\": \"x\", \"y\": [28.5, 23.0, 29.0, 21.5, 16.56, 20.5, 55.0, 55.0, 34.95, 34.95], \"y0\": \" \", \"yaxis\": \"y\"}, {\"alignmentgroup\": \"True\", \"hovertemplate\": \"Department=%{x}<br>PayRate=%{y}<extra></extra>\", \"legendgroup\": \"Sales\", \"marker\": {\"color\": \"#EF553B\"}, \"name\": \"Sales\", \"notched\": false, \"offsetgroup\": \"Sales\", \"orientation\": \"v\", \"showlegend\": true, \"type\": \"box\", \"x\": [\"Sales\", \"Sales\", \"Sales\", \"Sales\", \"Sales\", \"Sales\", \"Sales\", \"Sales\", \"Sales\", \"Sales\", \"Sales\", \"Sales\", \"Sales\", \"Sales\", \"Sales\", \"Sales\", \"Sales\", \"Sales\", \"Sales\", \"Sales\", \"Sales\", \"Sales\", \"Sales\", \"Sales\", \"Sales\", \"Sales\", \"Sales\", \"Sales\", \"Sales\", \"Sales\", \"Sales\"], \"x0\": \" \", \"xaxis\": \"x\", \"y\": [55.0, 55.0, 55.0, 56.0, 55.5, 55.0, 55.5, 55.0, 55.0, 55.0, 55.0, 54.0, 55.0, 56.0, 55.0, 55.0, 55.0, 55.0, 56.0, 55.0, 56.0, 55.0, 55.0, 57.0, 55.0, 55.0, 55.0, 60.0, 54.0, 60.25, 56.0], \"y0\": \" \", \"yaxis\": \"y\"}, {\"alignmentgroup\": \"True\", \"hovertemplate\": \"Department=%{x}<br>PayRate=%{y}<extra></extra>\", \"legendgroup\": \"IT/IS\", \"marker\": {\"color\": \"#00cc96\"}, \"name\": \"IT/IS\", \"notched\": false, \"offsetgroup\": \"IT/IS\", \"orientation\": \"v\", \"showlegend\": true, \"type\": \"box\", \"x\": [\"IT/IS\", \"IT/IS\", \"IT/IS\", \"IT/IS\", \"IT/IS\", \"IT/IS\", \"IT/IS\", \"IT/IS\", \"IT/IS\", \"IT/IS\", \"IT/IS\", \"IT/IS\", \"IT/IS\", \"IT/IS\", \"IT/IS\", \"IT/IS\", \"IT/IS\", \"IT/IS\", \"IT/IS\", \"IT/IS\", \"IT/IS\", \"IT/IS\", \"IT/IS\", \"IT/IS\", \"IT/IS\", \"IT/IS\", \"IT/IS\", \"IT/IS\", \"IT/IS\", \"IT/IS\", \"IT/IS\", \"IT/IS\", \"IT/IS\", \"IT/IS\", \"IT/IS\", \"IT/IS\", \"IT/IS\", \"IT/IS\", \"IT/IS\", \"IT/IS\", \"IT/IS\", \"IT/IS\", \"IT/IS\", \"IT/IS\", \"IT/IS\", \"IT/IS\", \"IT/IS\", \"IT/IS\", \"IT/IS\", \"IT/IS\"], \"x0\": \" \", \"xaxis\": \"x\", \"y\": [45.0, 46.0, 45.0, 45.0, 63.5, 65.0, 55.0, 43.0, 48.5, 40.1, 34.0, 40.0, 35.5, 41.0, 42.75, 39.55, 42.2, 45.0, 30.2, 31.4, 65.0, 62.0, 21.0, 63.0, 64.0, 28.99, 31.4, 26.0, 27.49, 45.0, 42.0, 37.0, 39.0, 43.0, 27.0, 47.0, 28.0, 49.1, 50.25, 52.25, 51.0, 62.0, 61.3, 58.2, 58.5, 54.1, 56.2, 53.8, 53.0, 55.2], \"y0\": \" \", \"yaxis\": \"y\"}, {\"alignmentgroup\": \"True\", \"hovertemplate\": \"Department=%{x}<br>PayRate=%{y}<extra></extra>\", \"legendgroup\": \"Production\", \"marker\": {\"color\": \"#ab63fa\"}, \"name\": \"Production\", \"notched\": false, \"offsetgroup\": \"Production\", \"orientation\": \"v\", \"showlegend\": true, \"type\": \"box\", \"x\": [\"Production\", \"Production\", \"Production\", \"Production\", \"Production\", \"Production\", \"Production\", \"Production\", \"Production\", \"Production\", \"Production\", \"Production\", \"Production\", \"Production\", \"Production\", \"Production\", \"Production\", \"Production\", \"Production\", \"Production\", \"Production\", \"Production\", \"Production\", \"Production\", \"Production\", \"Production\", \"Production\", \"Production\", \"Production\", \"Production\", \"Production\", \"Production\", \"Production\", \"Production\", \"Production\", \"Production\", \"Production\", \"Production\", \"Production\", \"Production\", \"Production\", \"Production\", \"Production\", \"Production\", \"Production\", \"Production\", \"Production\", \"Production\", \"Production\", \"Production\", \"Production\", \"Production\", \"Production\", \"Production\", \"Production\", \"Production\", \"Production\", \"Production\", \"Production\", \"Production\", \"Production\", \"Production\", \"Production\", \"Production\", \"Production\", \"Production\", \"Production\", \"Production\", \"Production\", \"Production\", \"Production\", \"Production\", \"Production\", \"Production\", \"Production\", \"Production\", \"Production\", \"Production\", \"Production\", \"Production\", \"Production\", \"Production\", \"Production\", \"Production\", \"Production\", \"Production\", \"Production\", \"Production\", \"Production\", \"Production\", \"Production\", \"Production\", \"Production\", \"Production\", \"Production\", \"Production\", \"Production\", \"Production\", \"Production\", \"Production\", \"Production\", \"Production\", \"Production\", \"Production\", \"Production\", \"Production\", \"Production\", \"Production\", \"Production\", \"Production\", \"Production\", \"Production\", \"Production\", \"Production\", \"Production\", \"Production\", \"Production\", \"Production\", \"Production\", \"Production\", \"Production\", \"Production\", \"Production\", \"Production\", \"Production\", \"Production\", \"Production\", \"Production\", \"Production\", \"Production\", \"Production\", \"Production\", \"Production\", \"Production\", \"Production\", \"Production\", \"Production\", \"Production\", \"Production\", \"Production\", \"Production\", \"Production\", \"Production\", \"Production\", \"Production\", \"Production\", \"Production\", \"Production\", \"Production\", \"Production\", \"Production\", \"Production\", \"Production\", \"Production\", \"Production\", \"Production\", \"Production\", \"Production\", \"Production\", \"Production\", \"Production\", \"Production\", \"Production\", \"Production\", \"Production\", \"Production\", \"Production\", \"Production\", \"Production\", \"Production\", \"Production\", \"Production\", \"Production\", \"Production\", \"Production\", \"Production\", \"Production\", \"Production\", \"Production\", \"Production\", \"Production\", \"Production\", \"Production\", \"Production\", \"Production\", \"Production\", \"Production\", \"Production\", \"Production\", \"Production\", \"Production\", \"Production\", \"Production\", \"Production\", \"Production\", \"Production\", \"Production\", \"Production\", \"Production\", \"Production\", \"Production\", \"Production\", \"Production\", \"Production\", \"Production\", \"Production\", \"Production\", \"Production\"], \"x0\": \" \", \"xaxis\": \"x\", \"y\": [60.0, 54.5, 50.5, 55.0, 51.0, 54.0, 48.5, 42.0, 55.0, 53.0, 38.5, 52.0, 53.0, 55.0, 33.5, 23.0, 16.0, 21.0, 20.0, 18.0, 16.0, 20.0, 24.0, 15.0, 22.0, 22.0, 24.0, 15.0, 20.0, 21.0, 22.0, 16.0, 24.75, 22.0, 24.0, 16.0, 16.0, 21.0, 23.0, 15.0, 18.0, 17.0, 16.0, 24.0, 22.0, 17.0, 20.0, 15.0, 16.75, 19.0, 15.0, 20.0, 17.0, 20.0, 19.0, 17.0, 17.0, 21.0, 22.0, 15.0, 21.0, 22.0, 19.5, 15.0, 18.0, 22.0, 21.0, 21.0, 20.0, 15.0, 18.0, 20.0, 21.0, 14.0, 15.0, 16.76, 20.0, 15.75, 21.25, 21.0, 24.0, 14.0, 19.0, 15.0, 14.0, 16.0, 16.0, 20.0, 22.0, 21.0, 22.0, 22.0, 22.0, 21.0, 23.0, 17.0, 19.0, 14.0, 17.0, 21.0, 17.0, 16.0, 24.5, 20.0, 16.0, 22.0, 20.0, 15.0, 17.0, 18.0, 24.0, 21.0, 19.0, 24.0, 18.5, 19.0, 16.0, 18.0, 14.0, 19.0, 20.0, 18.0, 16.0, 19.75, 17.0, 19.0, 24.0, 17.0, 19.0, 15.25, 20.0, 22.0, 21.0, 21.0, 19.0, 20.0, 16.0, 17.0, 22.0, 23.5, 20.0, 15.0, 19.75, 22.0, 19.0, 18.0, 24.0, 22.0, 15.2, 15.0, 23.0, 25.0, 29.0, 23.0, 23.0, 28.0, 22.0, 25.0, 29.0, 25.0, 25.0, 26.0, 29.0, 26.0, 24.25, 22.0, 27.0, 26.0, 22.0, 26.0, 27.0, 25.0, 26.1, 26.39, 22.0, 28.75, 27.0, 29.0, 24.0, 24.0, 22.0, 26.0, 29.0, 26.0, 24.0, 22.5, 26.0, 29.0, 22.0, 29.0, 25.0, 27.0, 28.0, 25.0, 22.0, 24.25, 27.0, 24.0, 28.0, 24.0, 29.0, 23.0, 22.0, 24.0, 28.0, 23.0, 25.0, 23.0], \"y0\": \" \", \"yaxis\": \"y\"}, {\"alignmentgroup\": \"True\", \"hovertemplate\": \"Department=%{x}<br>PayRate=%{y}<extra></extra>\", \"legendgroup\": \"Software Engineering\", \"marker\": {\"color\": \"#FFA15A\"}, \"name\": \"Software Engineering\", \"notched\": false, \"offsetgroup\": \"Software Engineering\", \"orientation\": \"v\", \"showlegend\": true, \"type\": \"box\", \"x\": [\"Software Engineering\", \"Software Engineering\", \"Software Engineering\", \"Software Engineering\", \"Software Engineering\", \"Software Engineering\", \"Software Engineering\", \"Software Engineering\", \"Software Engineering\", \"Software Engineering\"], \"x0\": \" \", \"xaxis\": \"x\", \"y\": [47.6, 56.0, 57.12, 48.5, 55.51, 52.25, 49.25, 48.0, 45.42, 27.0], \"y0\": \" \", \"yaxis\": \"y\"}],\n",
       "                        {\"boxmode\": \"overlay\", \"legend\": {\"title\": {\"text\": \"Department\"}, \"tracegroupgap\": 0}, \"margin\": {\"t\": 60}, \"template\": {\"data\": {\"bar\": [{\"error_x\": {\"color\": \"#2a3f5f\"}, \"error_y\": {\"color\": \"#2a3f5f\"}, \"marker\": {\"line\": {\"color\": \"#E5ECF6\", \"width\": 0.5}}, \"type\": \"bar\"}], \"barpolar\": [{\"marker\": {\"line\": {\"color\": \"#E5ECF6\", \"width\": 0.5}}, \"type\": \"barpolar\"}], \"carpet\": [{\"aaxis\": {\"endlinecolor\": \"#2a3f5f\", \"gridcolor\": \"white\", \"linecolor\": \"white\", \"minorgridcolor\": \"white\", \"startlinecolor\": \"#2a3f5f\"}, \"baxis\": {\"endlinecolor\": \"#2a3f5f\", \"gridcolor\": \"white\", \"linecolor\": \"white\", \"minorgridcolor\": \"white\", \"startlinecolor\": \"#2a3f5f\"}, \"type\": \"carpet\"}], \"choropleth\": [{\"colorbar\": {\"outlinewidth\": 0, \"ticks\": \"\"}, \"type\": \"choropleth\"}], \"contour\": [{\"colorbar\": {\"outlinewidth\": 0, \"ticks\": \"\"}, \"colorscale\": [[0.0, \"#0d0887\"], [0.1111111111111111, \"#46039f\"], [0.2222222222222222, \"#7201a8\"], [0.3333333333333333, \"#9c179e\"], [0.4444444444444444, \"#bd3786\"], [0.5555555555555556, \"#d8576b\"], [0.6666666666666666, \"#ed7953\"], [0.7777777777777778, \"#fb9f3a\"], [0.8888888888888888, \"#fdca26\"], [1.0, \"#f0f921\"]], \"type\": \"contour\"}], \"contourcarpet\": [{\"colorbar\": {\"outlinewidth\": 0, \"ticks\": \"\"}, \"type\": \"contourcarpet\"}], \"heatmap\": [{\"colorbar\": {\"outlinewidth\": 0, \"ticks\": \"\"}, \"colorscale\": [[0.0, \"#0d0887\"], [0.1111111111111111, \"#46039f\"], [0.2222222222222222, \"#7201a8\"], [0.3333333333333333, \"#9c179e\"], [0.4444444444444444, \"#bd3786\"], [0.5555555555555556, \"#d8576b\"], [0.6666666666666666, \"#ed7953\"], [0.7777777777777778, \"#fb9f3a\"], [0.8888888888888888, \"#fdca26\"], [1.0, \"#f0f921\"]], \"type\": \"heatmap\"}], \"heatmapgl\": [{\"colorbar\": {\"outlinewidth\": 0, \"ticks\": \"\"}, \"colorscale\": [[0.0, \"#0d0887\"], [0.1111111111111111, \"#46039f\"], [0.2222222222222222, \"#7201a8\"], [0.3333333333333333, \"#9c179e\"], [0.4444444444444444, \"#bd3786\"], [0.5555555555555556, \"#d8576b\"], [0.6666666666666666, \"#ed7953\"], [0.7777777777777778, \"#fb9f3a\"], [0.8888888888888888, \"#fdca26\"], [1.0, \"#f0f921\"]], \"type\": \"heatmapgl\"}], \"histogram\": [{\"marker\": {\"colorbar\": {\"outlinewidth\": 0, \"ticks\": \"\"}}, \"type\": \"histogram\"}], \"histogram2d\": [{\"colorbar\": {\"outlinewidth\": 0, \"ticks\": \"\"}, \"colorscale\": [[0.0, \"#0d0887\"], [0.1111111111111111, \"#46039f\"], [0.2222222222222222, \"#7201a8\"], [0.3333333333333333, \"#9c179e\"], [0.4444444444444444, \"#bd3786\"], [0.5555555555555556, \"#d8576b\"], [0.6666666666666666, \"#ed7953\"], [0.7777777777777778, \"#fb9f3a\"], [0.8888888888888888, \"#fdca26\"], [1.0, \"#f0f921\"]], \"type\": \"histogram2d\"}], \"histogram2dcontour\": [{\"colorbar\": {\"outlinewidth\": 0, \"ticks\": \"\"}, \"colorscale\": [[0.0, \"#0d0887\"], [0.1111111111111111, \"#46039f\"], [0.2222222222222222, \"#7201a8\"], [0.3333333333333333, \"#9c179e\"], [0.4444444444444444, \"#bd3786\"], [0.5555555555555556, \"#d8576b\"], [0.6666666666666666, \"#ed7953\"], [0.7777777777777778, \"#fb9f3a\"], [0.8888888888888888, \"#fdca26\"], [1.0, \"#f0f921\"]], \"type\": \"histogram2dcontour\"}], \"mesh3d\": [{\"colorbar\": {\"outlinewidth\": 0, \"ticks\": \"\"}, \"type\": \"mesh3d\"}], \"parcoords\": [{\"line\": {\"colorbar\": {\"outlinewidth\": 0, \"ticks\": \"\"}}, \"type\": \"parcoords\"}], \"pie\": [{\"automargin\": true, \"type\": \"pie\"}], \"scatter\": [{\"marker\": {\"colorbar\": {\"outlinewidth\": 0, \"ticks\": \"\"}}, \"type\": \"scatter\"}], \"scatter3d\": [{\"line\": {\"colorbar\": {\"outlinewidth\": 0, \"ticks\": \"\"}}, \"marker\": {\"colorbar\": {\"outlinewidth\": 0, \"ticks\": \"\"}}, \"type\": \"scatter3d\"}], \"scattercarpet\": [{\"marker\": {\"colorbar\": {\"outlinewidth\": 0, \"ticks\": \"\"}}, \"type\": \"scattercarpet\"}], \"scattergeo\": [{\"marker\": {\"colorbar\": {\"outlinewidth\": 0, \"ticks\": \"\"}}, \"type\": \"scattergeo\"}], \"scattergl\": [{\"marker\": {\"colorbar\": {\"outlinewidth\": 0, \"ticks\": \"\"}}, \"type\": \"scattergl\"}], \"scattermapbox\": [{\"marker\": {\"colorbar\": {\"outlinewidth\": 0, \"ticks\": \"\"}}, \"type\": \"scattermapbox\"}], \"scatterpolar\": [{\"marker\": {\"colorbar\": {\"outlinewidth\": 0, \"ticks\": \"\"}}, \"type\": \"scatterpolar\"}], \"scatterpolargl\": [{\"marker\": {\"colorbar\": {\"outlinewidth\": 0, \"ticks\": \"\"}}, \"type\": \"scatterpolargl\"}], \"scatterternary\": [{\"marker\": {\"colorbar\": {\"outlinewidth\": 0, \"ticks\": \"\"}}, \"type\": \"scatterternary\"}], \"surface\": [{\"colorbar\": {\"outlinewidth\": 0, \"ticks\": \"\"}, \"colorscale\": [[0.0, \"#0d0887\"], [0.1111111111111111, \"#46039f\"], [0.2222222222222222, \"#7201a8\"], [0.3333333333333333, \"#9c179e\"], [0.4444444444444444, \"#bd3786\"], [0.5555555555555556, \"#d8576b\"], [0.6666666666666666, \"#ed7953\"], [0.7777777777777778, \"#fb9f3a\"], [0.8888888888888888, \"#fdca26\"], [1.0, \"#f0f921\"]], \"type\": \"surface\"}], \"table\": [{\"cells\": {\"fill\": {\"color\": \"#EBF0F8\"}, \"line\": {\"color\": \"white\"}}, \"header\": {\"fill\": {\"color\": \"#C8D4E3\"}, \"line\": {\"color\": \"white\"}}, \"type\": \"table\"}]}, \"layout\": {\"annotationdefaults\": {\"arrowcolor\": \"#2a3f5f\", \"arrowhead\": 0, \"arrowwidth\": 1}, \"coloraxis\": {\"colorbar\": {\"outlinewidth\": 0, \"ticks\": \"\"}}, \"colorscale\": {\"diverging\": [[0, \"#8e0152\"], [0.1, \"#c51b7d\"], [0.2, \"#de77ae\"], [0.3, \"#f1b6da\"], [0.4, \"#fde0ef\"], [0.5, \"#f7f7f7\"], [0.6, \"#e6f5d0\"], [0.7, \"#b8e186\"], [0.8, \"#7fbc41\"], [0.9, \"#4d9221\"], [1, \"#276419\"]], \"sequential\": [[0.0, \"#0d0887\"], [0.1111111111111111, \"#46039f\"], [0.2222222222222222, \"#7201a8\"], [0.3333333333333333, \"#9c179e\"], [0.4444444444444444, \"#bd3786\"], [0.5555555555555556, \"#d8576b\"], [0.6666666666666666, \"#ed7953\"], [0.7777777777777778, \"#fb9f3a\"], [0.8888888888888888, \"#fdca26\"], [1.0, \"#f0f921\"]], \"sequentialminus\": [[0.0, \"#0d0887\"], [0.1111111111111111, \"#46039f\"], [0.2222222222222222, \"#7201a8\"], [0.3333333333333333, \"#9c179e\"], [0.4444444444444444, \"#bd3786\"], [0.5555555555555556, \"#d8576b\"], [0.6666666666666666, \"#ed7953\"], [0.7777777777777778, \"#fb9f3a\"], [0.8888888888888888, \"#fdca26\"], [1.0, \"#f0f921\"]]}, \"colorway\": [\"#636efa\", \"#EF553B\", \"#00cc96\", \"#ab63fa\", \"#FFA15A\", \"#19d3f3\", \"#FF6692\", \"#B6E880\", \"#FF97FF\", \"#FECB52\"], \"font\": {\"color\": \"#2a3f5f\"}, \"geo\": {\"bgcolor\": \"white\", \"lakecolor\": \"white\", \"landcolor\": \"#E5ECF6\", \"showlakes\": true, \"showland\": true, \"subunitcolor\": \"white\"}, \"hoverlabel\": {\"align\": \"left\"}, \"hovermode\": \"closest\", \"mapbox\": {\"style\": \"light\"}, \"paper_bgcolor\": \"white\", \"plot_bgcolor\": \"#E5ECF6\", \"polar\": {\"angularaxis\": {\"gridcolor\": \"white\", \"linecolor\": \"white\", \"ticks\": \"\"}, \"bgcolor\": \"#E5ECF6\", \"radialaxis\": {\"gridcolor\": \"white\", \"linecolor\": \"white\", \"ticks\": \"\"}}, \"scene\": {\"xaxis\": {\"backgroundcolor\": \"#E5ECF6\", \"gridcolor\": \"white\", \"gridwidth\": 2, \"linecolor\": \"white\", \"showbackground\": true, \"ticks\": \"\", \"zerolinecolor\": \"white\"}, \"yaxis\": {\"backgroundcolor\": \"#E5ECF6\", \"gridcolor\": \"white\", \"gridwidth\": 2, \"linecolor\": \"white\", \"showbackground\": true, \"ticks\": \"\", \"zerolinecolor\": \"white\"}, \"zaxis\": {\"backgroundcolor\": \"#E5ECF6\", \"gridcolor\": \"white\", \"gridwidth\": 2, \"linecolor\": \"white\", \"showbackground\": true, \"ticks\": \"\", \"zerolinecolor\": \"white\"}}, \"shapedefaults\": {\"line\": {\"color\": \"#2a3f5f\"}}, \"ternary\": {\"aaxis\": {\"gridcolor\": \"white\", \"linecolor\": \"white\", \"ticks\": \"\"}, \"baxis\": {\"gridcolor\": \"white\", \"linecolor\": \"white\", \"ticks\": \"\"}, \"bgcolor\": \"#E5ECF6\", \"caxis\": {\"gridcolor\": \"white\", \"linecolor\": \"white\", \"ticks\": \"\"}}, \"title\": {\"x\": 0.05}, \"xaxis\": {\"automargin\": true, \"gridcolor\": \"white\", \"linecolor\": \"white\", \"ticks\": \"\", \"title\": {\"standoff\": 15}, \"zerolinecolor\": \"white\", \"zerolinewidth\": 2}, \"yaxis\": {\"automargin\": true, \"gridcolor\": \"white\", \"linecolor\": \"white\", \"ticks\": \"\", \"title\": {\"standoff\": 15}, \"zerolinecolor\": \"white\", \"zerolinewidth\": 2}}}, \"xaxis\": {\"anchor\": \"y\", \"categoryarray\": [\"Admin Offices\", \"Sales\", \"IT/IS\", \"Production\", \"Software Engineering\"], \"categoryorder\": \"array\", \"domain\": [0.0, 1.0], \"ticktext\": [\"Admin Offices: 10\", \"Sales: 31\", \"IT/IS: 50\", \"Production: 208\", \"Software Engineering: 10\"], \"tickvals\": [\"Admin Offices\", \"Sales\", \"IT/IS\", \"Production\", \"Software Engineering\"], \"title\": {\"text\": \"Department\"}}, \"yaxis\": {\"anchor\": \"x\", \"domain\": [0.0, 1.0], \"title\": {\"text\": \"PayRate\"}}},\n",
       "                        {\"responsive\": true}\n",
       "                    ).then(function(){\n",
       "                            \n",
       "var gd = document.getElementById('9d99e228-e426-4c95-9c50-1f06f96b76c0');\n",
       "var x = new MutationObserver(function (mutations, observer) {{\n",
       "        var display = window.getComputedStyle(gd).display;\n",
       "        if (!display || display === 'none') {{\n",
       "            console.log([gd, 'removed!']);\n",
       "            Plotly.purge(gd);\n",
       "            observer.disconnect();\n",
       "        }}\n",
       "}});\n",
       "\n",
       "// Listen for the removal of the full notebook cells\n",
       "var notebookContainer = gd.closest('#notebook-container');\n",
       "if (notebookContainer) {{\n",
       "    x.observe(notebookContainer, {childList: true});\n",
       "}}\n",
       "\n",
       "// Listen for the clearing of the current output cell\n",
       "var outputEl = gd.closest('.output');\n",
       "if (outputEl) {{\n",
       "    x.observe(outputEl, {childList: true});\n",
       "}}\n",
       "\n",
       "                        })\n",
       "                };\n",
       "                });\n",
       "            </script>\n",
       "        </div>"
      ]
     },
     "metadata": {},
     "output_type": "display_data"
    }
   ],
   "source": [
    "dpts = list(hr_i.Department.unique())\n",
    "dept = []\n",
    "for dpt in dpts:\n",
    "    x = hr_i['Department'][hr_i[\"Department\"] == dpt]\n",
    "    dept.append(\": \" + str(len(x)))\n",
    "g = [dpts[i]+dept[i] for i in range(len(dept))]\n",
    "fig = px.box(hr_i, y=\"PayRate\", color=\"Department\", x=\"Department\")\n",
    "fig.update_xaxes(\n",
    "    ticktext=(g),\n",
    "    tickvals=dpts)\n",
    "fig.show()"
   ]
  },
  {
   "cell_type": "code",
   "execution_count": 47,
   "metadata": {
    "code_folding": [
     2
    ],
    "collapsed": true
   },
   "outputs": [
    {
     "data": {
      "application/vnd.plotly.v1+json": {
       "config": {
        "plotlyServerURL": "https://plot.ly"
       },
       "data": [
        {
         "box": {
          "visible": true
         },
         "meanline": {
          "visible": true
         },
         "name": "Admin Offices",
         "type": "violin",
         "x": [
          "Admin Offices",
          "Admin Offices",
          "Admin Offices",
          "Admin Offices",
          "Admin Offices",
          "Admin Offices",
          "Admin Offices",
          "Admin Offices",
          "Admin Offices",
          "Admin Offices"
         ],
         "y": [
          28.5,
          23,
          29,
          21.5,
          16.56,
          20.5,
          55,
          55,
          34.95,
          34.95
         ]
        },
        {
         "box": {
          "visible": true
         },
         "meanline": {
          "visible": true
         },
         "name": "Sales",
         "type": "violin",
         "x": [
          "Sales",
          "Sales",
          "Sales",
          "Sales",
          "Sales",
          "Sales",
          "Sales",
          "Sales",
          "Sales",
          "Sales",
          "Sales",
          "Sales",
          "Sales",
          "Sales",
          "Sales",
          "Sales",
          "Sales",
          "Sales",
          "Sales",
          "Sales",
          "Sales",
          "Sales",
          "Sales",
          "Sales",
          "Sales",
          "Sales",
          "Sales",
          "Sales",
          "Sales",
          "Sales",
          "Sales"
         ],
         "y": [
          55,
          55,
          55,
          56,
          55.5,
          55,
          55.5,
          55,
          55,
          55,
          55,
          54,
          55,
          56,
          55,
          55,
          55,
          55,
          56,
          55,
          56,
          55,
          55,
          57,
          55,
          55,
          55,
          60,
          54,
          60.25,
          56
         ]
        },
        {
         "box": {
          "visible": true
         },
         "meanline": {
          "visible": true
         },
         "name": "IT/IS",
         "type": "violin",
         "x": [
          "IT/IS",
          "IT/IS",
          "IT/IS",
          "IT/IS",
          "IT/IS",
          "IT/IS",
          "IT/IS",
          "IT/IS",
          "IT/IS",
          "IT/IS",
          "IT/IS",
          "IT/IS",
          "IT/IS",
          "IT/IS",
          "IT/IS",
          "IT/IS",
          "IT/IS",
          "IT/IS",
          "IT/IS",
          "IT/IS",
          "IT/IS",
          "IT/IS",
          "IT/IS",
          "IT/IS",
          "IT/IS",
          "IT/IS",
          "IT/IS",
          "IT/IS",
          "IT/IS",
          "IT/IS",
          "IT/IS",
          "IT/IS",
          "IT/IS",
          "IT/IS",
          "IT/IS",
          "IT/IS",
          "IT/IS",
          "IT/IS",
          "IT/IS",
          "IT/IS",
          "IT/IS",
          "IT/IS",
          "IT/IS",
          "IT/IS",
          "IT/IS",
          "IT/IS",
          "IT/IS",
          "IT/IS",
          "IT/IS",
          "IT/IS"
         ],
         "y": [
          45,
          46,
          45,
          45,
          63.5,
          65,
          55,
          43,
          48.5,
          40.1,
          34,
          40,
          35.5,
          41,
          42.75,
          39.55,
          42.2,
          45,
          30.2,
          31.4,
          65,
          62,
          21,
          63,
          64,
          28.99,
          31.4,
          26,
          27.49,
          45,
          42,
          37,
          39,
          43,
          27,
          47,
          28,
          49.1,
          50.25,
          52.25,
          51,
          62,
          61.3,
          58.2,
          58.5,
          54.1,
          56.2,
          53.8,
          53,
          55.2
         ]
        },
        {
         "box": {
          "visible": true
         },
         "meanline": {
          "visible": true
         },
         "name": "Production",
         "type": "violin",
         "x": [
          "Production",
          "Production",
          "Production",
          "Production",
          "Production",
          "Production",
          "Production",
          "Production",
          "Production",
          "Production",
          "Production",
          "Production",
          "Production",
          "Production",
          "Production",
          "Production",
          "Production",
          "Production",
          "Production",
          "Production",
          "Production",
          "Production",
          "Production",
          "Production",
          "Production",
          "Production",
          "Production",
          "Production",
          "Production",
          "Production",
          "Production",
          "Production",
          "Production",
          "Production",
          "Production",
          "Production",
          "Production",
          "Production",
          "Production",
          "Production",
          "Production",
          "Production",
          "Production",
          "Production",
          "Production",
          "Production",
          "Production",
          "Production",
          "Production",
          "Production",
          "Production",
          "Production",
          "Production",
          "Production",
          "Production",
          "Production",
          "Production",
          "Production",
          "Production",
          "Production",
          "Production",
          "Production",
          "Production",
          "Production",
          "Production",
          "Production",
          "Production",
          "Production",
          "Production",
          "Production",
          "Production",
          "Production",
          "Production",
          "Production",
          "Production",
          "Production",
          "Production",
          "Production",
          "Production",
          "Production",
          "Production",
          "Production",
          "Production",
          "Production",
          "Production",
          "Production",
          "Production",
          "Production",
          "Production",
          "Production",
          "Production",
          "Production",
          "Production",
          "Production",
          "Production",
          "Production",
          "Production",
          "Production",
          "Production",
          "Production",
          "Production",
          "Production",
          "Production",
          "Production",
          "Production",
          "Production",
          "Production",
          "Production",
          "Production",
          "Production",
          "Production",
          "Production",
          "Production",
          "Production",
          "Production",
          "Production",
          "Production",
          "Production",
          "Production",
          "Production",
          "Production",
          "Production",
          "Production",
          "Production",
          "Production",
          "Production",
          "Production",
          "Production",
          "Production",
          "Production",
          "Production",
          "Production",
          "Production",
          "Production",
          "Production",
          "Production",
          "Production",
          "Production",
          "Production",
          "Production",
          "Production",
          "Production",
          "Production",
          "Production",
          "Production",
          "Production",
          "Production",
          "Production",
          "Production",
          "Production",
          "Production",
          "Production",
          "Production",
          "Production",
          "Production",
          "Production",
          "Production",
          "Production",
          "Production",
          "Production",
          "Production",
          "Production",
          "Production",
          "Production",
          "Production",
          "Production",
          "Production",
          "Production",
          "Production",
          "Production",
          "Production",
          "Production",
          "Production",
          "Production",
          "Production",
          "Production",
          "Production",
          "Production",
          "Production",
          "Production",
          "Production",
          "Production",
          "Production",
          "Production",
          "Production",
          "Production",
          "Production",
          "Production",
          "Production",
          "Production",
          "Production",
          "Production",
          "Production",
          "Production",
          "Production",
          "Production",
          "Production",
          "Production",
          "Production",
          "Production",
          "Production",
          "Production",
          "Production",
          "Production",
          "Production",
          "Production",
          "Production",
          "Production"
         ],
         "y": [
          60,
          54.5,
          50.5,
          55,
          51,
          54,
          48.5,
          42,
          55,
          53,
          38.5,
          52,
          53,
          55,
          33.5,
          23,
          16,
          21,
          20,
          18,
          16,
          20,
          24,
          15,
          22,
          22,
          24,
          15,
          20,
          21,
          22,
          16,
          24.75,
          22,
          24,
          16,
          16,
          21,
          23,
          15,
          18,
          17,
          16,
          24,
          22,
          17,
          20,
          15,
          16.75,
          19,
          15,
          20,
          17,
          20,
          19,
          17,
          17,
          21,
          22,
          15,
          21,
          22,
          19.5,
          15,
          18,
          22,
          21,
          21,
          20,
          15,
          18,
          20,
          21,
          14,
          15,
          16.76,
          20,
          15.75,
          21.25,
          21,
          24,
          14,
          19,
          15,
          14,
          16,
          16,
          20,
          22,
          21,
          22,
          22,
          22,
          21,
          23,
          17,
          19,
          14,
          17,
          21,
          17,
          16,
          24.5,
          20,
          16,
          22,
          20,
          15,
          17,
          18,
          24,
          21,
          19,
          24,
          18.5,
          19,
          16,
          18,
          14,
          19,
          20,
          18,
          16,
          19.75,
          17,
          19,
          24,
          17,
          19,
          15.25,
          20,
          22,
          21,
          21,
          19,
          20,
          16,
          17,
          22,
          23.5,
          20,
          15,
          19.75,
          22,
          19,
          18,
          24,
          22,
          15.2,
          15,
          23,
          25,
          29,
          23,
          23,
          28,
          22,
          25,
          29,
          25,
          25,
          26,
          29,
          26,
          24.25,
          22,
          27,
          26,
          22,
          26,
          27,
          25,
          26.1,
          26.39,
          22,
          28.75,
          27,
          29,
          24,
          24,
          22,
          26,
          29,
          26,
          24,
          22.5,
          26,
          29,
          22,
          29,
          25,
          27,
          28,
          25,
          22,
          24.25,
          27,
          24,
          28,
          24,
          29,
          23,
          22,
          24,
          28,
          23,
          25,
          23
         ]
        },
        {
         "box": {
          "visible": true
         },
         "meanline": {
          "visible": true
         },
         "name": "Software Engineering",
         "type": "violin",
         "x": [
          "Software Engineering",
          "Software Engineering",
          "Software Engineering",
          "Software Engineering",
          "Software Engineering",
          "Software Engineering",
          "Software Engineering",
          "Software Engineering",
          "Software Engineering",
          "Software Engineering"
         ],
         "y": [
          47.6,
          56,
          57.12,
          48.5,
          55.51,
          52.25,
          49.25,
          48,
          45.42,
          27
         ]
        }
       ],
       "layout": {
        "template": {
         "data": {
          "bar": [
           {
            "error_x": {
             "color": "#2a3f5f"
            },
            "error_y": {
             "color": "#2a3f5f"
            },
            "marker": {
             "line": {
              "color": "#E5ECF6",
              "width": 0.5
             }
            },
            "type": "bar"
           }
          ],
          "barpolar": [
           {
            "marker": {
             "line": {
              "color": "#E5ECF6",
              "width": 0.5
             }
            },
            "type": "barpolar"
           }
          ],
          "carpet": [
           {
            "aaxis": {
             "endlinecolor": "#2a3f5f",
             "gridcolor": "white",
             "linecolor": "white",
             "minorgridcolor": "white",
             "startlinecolor": "#2a3f5f"
            },
            "baxis": {
             "endlinecolor": "#2a3f5f",
             "gridcolor": "white",
             "linecolor": "white",
             "minorgridcolor": "white",
             "startlinecolor": "#2a3f5f"
            },
            "type": "carpet"
           }
          ],
          "choropleth": [
           {
            "colorbar": {
             "outlinewidth": 0,
             "ticks": ""
            },
            "type": "choropleth"
           }
          ],
          "contour": [
           {
            "colorbar": {
             "outlinewidth": 0,
             "ticks": ""
            },
            "colorscale": [
             [
              0,
              "#0d0887"
             ],
             [
              0.1111111111111111,
              "#46039f"
             ],
             [
              0.2222222222222222,
              "#7201a8"
             ],
             [
              0.3333333333333333,
              "#9c179e"
             ],
             [
              0.4444444444444444,
              "#bd3786"
             ],
             [
              0.5555555555555556,
              "#d8576b"
             ],
             [
              0.6666666666666666,
              "#ed7953"
             ],
             [
              0.7777777777777778,
              "#fb9f3a"
             ],
             [
              0.8888888888888888,
              "#fdca26"
             ],
             [
              1,
              "#f0f921"
             ]
            ],
            "type": "contour"
           }
          ],
          "contourcarpet": [
           {
            "colorbar": {
             "outlinewidth": 0,
             "ticks": ""
            },
            "type": "contourcarpet"
           }
          ],
          "heatmap": [
           {
            "colorbar": {
             "outlinewidth": 0,
             "ticks": ""
            },
            "colorscale": [
             [
              0,
              "#0d0887"
             ],
             [
              0.1111111111111111,
              "#46039f"
             ],
             [
              0.2222222222222222,
              "#7201a8"
             ],
             [
              0.3333333333333333,
              "#9c179e"
             ],
             [
              0.4444444444444444,
              "#bd3786"
             ],
             [
              0.5555555555555556,
              "#d8576b"
             ],
             [
              0.6666666666666666,
              "#ed7953"
             ],
             [
              0.7777777777777778,
              "#fb9f3a"
             ],
             [
              0.8888888888888888,
              "#fdca26"
             ],
             [
              1,
              "#f0f921"
             ]
            ],
            "type": "heatmap"
           }
          ],
          "heatmapgl": [
           {
            "colorbar": {
             "outlinewidth": 0,
             "ticks": ""
            },
            "colorscale": [
             [
              0,
              "#0d0887"
             ],
             [
              0.1111111111111111,
              "#46039f"
             ],
             [
              0.2222222222222222,
              "#7201a8"
             ],
             [
              0.3333333333333333,
              "#9c179e"
             ],
             [
              0.4444444444444444,
              "#bd3786"
             ],
             [
              0.5555555555555556,
              "#d8576b"
             ],
             [
              0.6666666666666666,
              "#ed7953"
             ],
             [
              0.7777777777777778,
              "#fb9f3a"
             ],
             [
              0.8888888888888888,
              "#fdca26"
             ],
             [
              1,
              "#f0f921"
             ]
            ],
            "type": "heatmapgl"
           }
          ],
          "histogram": [
           {
            "marker": {
             "colorbar": {
              "outlinewidth": 0,
              "ticks": ""
             }
            },
            "type": "histogram"
           }
          ],
          "histogram2d": [
           {
            "colorbar": {
             "outlinewidth": 0,
             "ticks": ""
            },
            "colorscale": [
             [
              0,
              "#0d0887"
             ],
             [
              0.1111111111111111,
              "#46039f"
             ],
             [
              0.2222222222222222,
              "#7201a8"
             ],
             [
              0.3333333333333333,
              "#9c179e"
             ],
             [
              0.4444444444444444,
              "#bd3786"
             ],
             [
              0.5555555555555556,
              "#d8576b"
             ],
             [
              0.6666666666666666,
              "#ed7953"
             ],
             [
              0.7777777777777778,
              "#fb9f3a"
             ],
             [
              0.8888888888888888,
              "#fdca26"
             ],
             [
              1,
              "#f0f921"
             ]
            ],
            "type": "histogram2d"
           }
          ],
          "histogram2dcontour": [
           {
            "colorbar": {
             "outlinewidth": 0,
             "ticks": ""
            },
            "colorscale": [
             [
              0,
              "#0d0887"
             ],
             [
              0.1111111111111111,
              "#46039f"
             ],
             [
              0.2222222222222222,
              "#7201a8"
             ],
             [
              0.3333333333333333,
              "#9c179e"
             ],
             [
              0.4444444444444444,
              "#bd3786"
             ],
             [
              0.5555555555555556,
              "#d8576b"
             ],
             [
              0.6666666666666666,
              "#ed7953"
             ],
             [
              0.7777777777777778,
              "#fb9f3a"
             ],
             [
              0.8888888888888888,
              "#fdca26"
             ],
             [
              1,
              "#f0f921"
             ]
            ],
            "type": "histogram2dcontour"
           }
          ],
          "mesh3d": [
           {
            "colorbar": {
             "outlinewidth": 0,
             "ticks": ""
            },
            "type": "mesh3d"
           }
          ],
          "parcoords": [
           {
            "line": {
             "colorbar": {
              "outlinewidth": 0,
              "ticks": ""
             }
            },
            "type": "parcoords"
           }
          ],
          "pie": [
           {
            "automargin": true,
            "type": "pie"
           }
          ],
          "scatter": [
           {
            "marker": {
             "colorbar": {
              "outlinewidth": 0,
              "ticks": ""
             }
            },
            "type": "scatter"
           }
          ],
          "scatter3d": [
           {
            "line": {
             "colorbar": {
              "outlinewidth": 0,
              "ticks": ""
             }
            },
            "marker": {
             "colorbar": {
              "outlinewidth": 0,
              "ticks": ""
             }
            },
            "type": "scatter3d"
           }
          ],
          "scattercarpet": [
           {
            "marker": {
             "colorbar": {
              "outlinewidth": 0,
              "ticks": ""
             }
            },
            "type": "scattercarpet"
           }
          ],
          "scattergeo": [
           {
            "marker": {
             "colorbar": {
              "outlinewidth": 0,
              "ticks": ""
             }
            },
            "type": "scattergeo"
           }
          ],
          "scattergl": [
           {
            "marker": {
             "colorbar": {
              "outlinewidth": 0,
              "ticks": ""
             }
            },
            "type": "scattergl"
           }
          ],
          "scattermapbox": [
           {
            "marker": {
             "colorbar": {
              "outlinewidth": 0,
              "ticks": ""
             }
            },
            "type": "scattermapbox"
           }
          ],
          "scatterpolar": [
           {
            "marker": {
             "colorbar": {
              "outlinewidth": 0,
              "ticks": ""
             }
            },
            "type": "scatterpolar"
           }
          ],
          "scatterpolargl": [
           {
            "marker": {
             "colorbar": {
              "outlinewidth": 0,
              "ticks": ""
             }
            },
            "type": "scatterpolargl"
           }
          ],
          "scatterternary": [
           {
            "marker": {
             "colorbar": {
              "outlinewidth": 0,
              "ticks": ""
             }
            },
            "type": "scatterternary"
           }
          ],
          "surface": [
           {
            "colorbar": {
             "outlinewidth": 0,
             "ticks": ""
            },
            "colorscale": [
             [
              0,
              "#0d0887"
             ],
             [
              0.1111111111111111,
              "#46039f"
             ],
             [
              0.2222222222222222,
              "#7201a8"
             ],
             [
              0.3333333333333333,
              "#9c179e"
             ],
             [
              0.4444444444444444,
              "#bd3786"
             ],
             [
              0.5555555555555556,
              "#d8576b"
             ],
             [
              0.6666666666666666,
              "#ed7953"
             ],
             [
              0.7777777777777778,
              "#fb9f3a"
             ],
             [
              0.8888888888888888,
              "#fdca26"
             ],
             [
              1,
              "#f0f921"
             ]
            ],
            "type": "surface"
           }
          ],
          "table": [
           {
            "cells": {
             "fill": {
              "color": "#EBF0F8"
             },
             "line": {
              "color": "white"
             }
            },
            "header": {
             "fill": {
              "color": "#C8D4E3"
             },
             "line": {
              "color": "white"
             }
            },
            "type": "table"
           }
          ]
         },
         "layout": {
          "annotationdefaults": {
           "arrowcolor": "#2a3f5f",
           "arrowhead": 0,
           "arrowwidth": 1
          },
          "coloraxis": {
           "colorbar": {
            "outlinewidth": 0,
            "ticks": ""
           }
          },
          "colorscale": {
           "diverging": [
            [
             0,
             "#8e0152"
            ],
            [
             0.1,
             "#c51b7d"
            ],
            [
             0.2,
             "#de77ae"
            ],
            [
             0.3,
             "#f1b6da"
            ],
            [
             0.4,
             "#fde0ef"
            ],
            [
             0.5,
             "#f7f7f7"
            ],
            [
             0.6,
             "#e6f5d0"
            ],
            [
             0.7,
             "#b8e186"
            ],
            [
             0.8,
             "#7fbc41"
            ],
            [
             0.9,
             "#4d9221"
            ],
            [
             1,
             "#276419"
            ]
           ],
           "sequential": [
            [
             0,
             "#0d0887"
            ],
            [
             0.1111111111111111,
             "#46039f"
            ],
            [
             0.2222222222222222,
             "#7201a8"
            ],
            [
             0.3333333333333333,
             "#9c179e"
            ],
            [
             0.4444444444444444,
             "#bd3786"
            ],
            [
             0.5555555555555556,
             "#d8576b"
            ],
            [
             0.6666666666666666,
             "#ed7953"
            ],
            [
             0.7777777777777778,
             "#fb9f3a"
            ],
            [
             0.8888888888888888,
             "#fdca26"
            ],
            [
             1,
             "#f0f921"
            ]
           ],
           "sequentialminus": [
            [
             0,
             "#0d0887"
            ],
            [
             0.1111111111111111,
             "#46039f"
            ],
            [
             0.2222222222222222,
             "#7201a8"
            ],
            [
             0.3333333333333333,
             "#9c179e"
            ],
            [
             0.4444444444444444,
             "#bd3786"
            ],
            [
             0.5555555555555556,
             "#d8576b"
            ],
            [
             0.6666666666666666,
             "#ed7953"
            ],
            [
             0.7777777777777778,
             "#fb9f3a"
            ],
            [
             0.8888888888888888,
             "#fdca26"
            ],
            [
             1,
             "#f0f921"
            ]
           ]
          },
          "colorway": [
           "#636efa",
           "#EF553B",
           "#00cc96",
           "#ab63fa",
           "#FFA15A",
           "#19d3f3",
           "#FF6692",
           "#B6E880",
           "#FF97FF",
           "#FECB52"
          ],
          "font": {
           "color": "#2a3f5f"
          },
          "geo": {
           "bgcolor": "white",
           "lakecolor": "white",
           "landcolor": "#E5ECF6",
           "showlakes": true,
           "showland": true,
           "subunitcolor": "white"
          },
          "hoverlabel": {
           "align": "left"
          },
          "hovermode": "closest",
          "mapbox": {
           "style": "light"
          },
          "paper_bgcolor": "white",
          "plot_bgcolor": "#E5ECF6",
          "polar": {
           "angularaxis": {
            "gridcolor": "white",
            "linecolor": "white",
            "ticks": ""
           },
           "bgcolor": "#E5ECF6",
           "radialaxis": {
            "gridcolor": "white",
            "linecolor": "white",
            "ticks": ""
           }
          },
          "scene": {
           "xaxis": {
            "backgroundcolor": "#E5ECF6",
            "gridcolor": "white",
            "gridwidth": 2,
            "linecolor": "white",
            "showbackground": true,
            "ticks": "",
            "zerolinecolor": "white"
           },
           "yaxis": {
            "backgroundcolor": "#E5ECF6",
            "gridcolor": "white",
            "gridwidth": 2,
            "linecolor": "white",
            "showbackground": true,
            "ticks": "",
            "zerolinecolor": "white"
           },
           "zaxis": {
            "backgroundcolor": "#E5ECF6",
            "gridcolor": "white",
            "gridwidth": 2,
            "linecolor": "white",
            "showbackground": true,
            "ticks": "",
            "zerolinecolor": "white"
           }
          },
          "shapedefaults": {
           "line": {
            "color": "#2a3f5f"
           }
          },
          "ternary": {
           "aaxis": {
            "gridcolor": "white",
            "linecolor": "white",
            "ticks": ""
           },
           "baxis": {
            "gridcolor": "white",
            "linecolor": "white",
            "ticks": ""
           },
           "bgcolor": "#E5ECF6",
           "caxis": {
            "gridcolor": "white",
            "linecolor": "white",
            "ticks": ""
           }
          },
          "title": {
           "x": 0.05
          },
          "xaxis": {
           "automargin": true,
           "gridcolor": "white",
           "linecolor": "white",
           "ticks": "",
           "title": {
            "standoff": 15
           },
           "zerolinecolor": "white",
           "zerolinewidth": 2
          },
          "yaxis": {
           "automargin": true,
           "gridcolor": "white",
           "linecolor": "white",
           "ticks": "",
           "title": {
            "standoff": 15
           },
           "zerolinecolor": "white",
           "zerolinewidth": 2
          }
         }
        },
        "xaxis": {
         "ticktext": [
          "Admin Offices: 10",
          "Sales: 31",
          "IT/IS: 50",
          "Production: 208",
          "Software Engineering: 10"
         ],
         "tickvals": [
          "Admin Offices",
          "Sales",
          "IT/IS",
          "Production",
          "Software Engineering"
         ]
        }
       }
      },
      "text/html": [
       "<div>\n",
       "        \n",
       "        \n",
       "            <div id=\"6f663525-40db-4711-816c-65d8dcda4b9a\" class=\"plotly-graph-div\" style=\"height:525px; width:100%;\"></div>\n",
       "            <script type=\"text/javascript\">\n",
       "                require([\"plotly\"], function(Plotly) {\n",
       "                    window.PLOTLYENV=window.PLOTLYENV || {};\n",
       "                    \n",
       "                if (document.getElementById(\"6f663525-40db-4711-816c-65d8dcda4b9a\")) {\n",
       "                    Plotly.newPlot(\n",
       "                        '6f663525-40db-4711-816c-65d8dcda4b9a',\n",
       "                        [{\"box\": {\"visible\": true}, \"meanline\": {\"visible\": true}, \"name\": \"Admin Offices\", \"type\": \"violin\", \"x\": [\"Admin Offices\", \"Admin Offices\", \"Admin Offices\", \"Admin Offices\", \"Admin Offices\", \"Admin Offices\", \"Admin Offices\", \"Admin Offices\", \"Admin Offices\", \"Admin Offices\"], \"y\": [28.5, 23.0, 29.0, 21.5, 16.56, 20.5, 55.0, 55.0, 34.95, 34.95]}, {\"box\": {\"visible\": true}, \"meanline\": {\"visible\": true}, \"name\": \"Sales\", \"type\": \"violin\", \"x\": [\"Sales\", \"Sales\", \"Sales\", \"Sales\", \"Sales\", \"Sales\", \"Sales\", \"Sales\", \"Sales\", \"Sales\", \"Sales\", \"Sales\", \"Sales\", \"Sales\", \"Sales\", \"Sales\", \"Sales\", \"Sales\", \"Sales\", \"Sales\", \"Sales\", \"Sales\", \"Sales\", \"Sales\", \"Sales\", \"Sales\", \"Sales\", \"Sales\", \"Sales\", \"Sales\", \"Sales\"], \"y\": [55.0, 55.0, 55.0, 56.0, 55.5, 55.0, 55.5, 55.0, 55.0, 55.0, 55.0, 54.0, 55.0, 56.0, 55.0, 55.0, 55.0, 55.0, 56.0, 55.0, 56.0, 55.0, 55.0, 57.0, 55.0, 55.0, 55.0, 60.0, 54.0, 60.25, 56.0]}, {\"box\": {\"visible\": true}, \"meanline\": {\"visible\": true}, \"name\": \"IT/IS\", \"type\": \"violin\", \"x\": [\"IT/IS\", \"IT/IS\", \"IT/IS\", \"IT/IS\", \"IT/IS\", \"IT/IS\", \"IT/IS\", \"IT/IS\", \"IT/IS\", \"IT/IS\", \"IT/IS\", \"IT/IS\", \"IT/IS\", \"IT/IS\", \"IT/IS\", \"IT/IS\", \"IT/IS\", \"IT/IS\", \"IT/IS\", \"IT/IS\", \"IT/IS\", \"IT/IS\", \"IT/IS\", \"IT/IS\", \"IT/IS\", \"IT/IS\", \"IT/IS\", \"IT/IS\", \"IT/IS\", \"IT/IS\", \"IT/IS\", \"IT/IS\", \"IT/IS\", \"IT/IS\", \"IT/IS\", \"IT/IS\", \"IT/IS\", \"IT/IS\", \"IT/IS\", \"IT/IS\", \"IT/IS\", \"IT/IS\", \"IT/IS\", \"IT/IS\", \"IT/IS\", \"IT/IS\", \"IT/IS\", \"IT/IS\", \"IT/IS\", \"IT/IS\"], \"y\": [45.0, 46.0, 45.0, 45.0, 63.5, 65.0, 55.0, 43.0, 48.5, 40.1, 34.0, 40.0, 35.5, 41.0, 42.75, 39.55, 42.2, 45.0, 30.2, 31.4, 65.0, 62.0, 21.0, 63.0, 64.0, 28.99, 31.4, 26.0, 27.49, 45.0, 42.0, 37.0, 39.0, 43.0, 27.0, 47.0, 28.0, 49.1, 50.25, 52.25, 51.0, 62.0, 61.3, 58.2, 58.5, 54.1, 56.2, 53.8, 53.0, 55.2]}, {\"box\": {\"visible\": true}, \"meanline\": {\"visible\": true}, \"name\": \"Production\", \"type\": \"violin\", \"x\": [\"Production\", \"Production\", \"Production\", \"Production\", \"Production\", \"Production\", \"Production\", \"Production\", \"Production\", \"Production\", \"Production\", \"Production\", \"Production\", \"Production\", \"Production\", \"Production\", \"Production\", \"Production\", \"Production\", \"Production\", \"Production\", \"Production\", \"Production\", \"Production\", \"Production\", \"Production\", \"Production\", \"Production\", \"Production\", \"Production\", \"Production\", \"Production\", \"Production\", \"Production\", \"Production\", \"Production\", \"Production\", \"Production\", \"Production\", \"Production\", \"Production\", \"Production\", \"Production\", \"Production\", \"Production\", \"Production\", \"Production\", \"Production\", \"Production\", \"Production\", \"Production\", \"Production\", \"Production\", \"Production\", \"Production\", \"Production\", \"Production\", \"Production\", \"Production\", \"Production\", \"Production\", \"Production\", \"Production\", \"Production\", \"Production\", \"Production\", \"Production\", \"Production\", \"Production\", \"Production\", \"Production\", \"Production\", \"Production\", \"Production\", \"Production\", \"Production\", \"Production\", \"Production\", \"Production\", \"Production\", \"Production\", \"Production\", \"Production\", \"Production\", \"Production\", \"Production\", \"Production\", \"Production\", \"Production\", \"Production\", \"Production\", \"Production\", \"Production\", \"Production\", \"Production\", \"Production\", \"Production\", \"Production\", \"Production\", \"Production\", \"Production\", \"Production\", \"Production\", \"Production\", \"Production\", \"Production\", \"Production\", \"Production\", \"Production\", \"Production\", \"Production\", \"Production\", \"Production\", \"Production\", \"Production\", \"Production\", \"Production\", \"Production\", \"Production\", \"Production\", \"Production\", \"Production\", \"Production\", \"Production\", \"Production\", \"Production\", \"Production\", \"Production\", \"Production\", \"Production\", \"Production\", \"Production\", \"Production\", \"Production\", \"Production\", \"Production\", \"Production\", \"Production\", \"Production\", \"Production\", \"Production\", \"Production\", \"Production\", \"Production\", \"Production\", \"Production\", \"Production\", \"Production\", \"Production\", \"Production\", \"Production\", \"Production\", \"Production\", \"Production\", \"Production\", \"Production\", \"Production\", \"Production\", \"Production\", \"Production\", \"Production\", \"Production\", \"Production\", \"Production\", \"Production\", \"Production\", \"Production\", \"Production\", \"Production\", \"Production\", \"Production\", \"Production\", \"Production\", \"Production\", \"Production\", \"Production\", \"Production\", \"Production\", \"Production\", \"Production\", \"Production\", \"Production\", \"Production\", \"Production\", \"Production\", \"Production\", \"Production\", \"Production\", \"Production\", \"Production\", \"Production\", \"Production\", \"Production\", \"Production\", \"Production\", \"Production\", \"Production\", \"Production\", \"Production\", \"Production\", \"Production\", \"Production\", \"Production\", \"Production\", \"Production\", \"Production\", \"Production\", \"Production\"], \"y\": [60.0, 54.5, 50.5, 55.0, 51.0, 54.0, 48.5, 42.0, 55.0, 53.0, 38.5, 52.0, 53.0, 55.0, 33.5, 23.0, 16.0, 21.0, 20.0, 18.0, 16.0, 20.0, 24.0, 15.0, 22.0, 22.0, 24.0, 15.0, 20.0, 21.0, 22.0, 16.0, 24.75, 22.0, 24.0, 16.0, 16.0, 21.0, 23.0, 15.0, 18.0, 17.0, 16.0, 24.0, 22.0, 17.0, 20.0, 15.0, 16.75, 19.0, 15.0, 20.0, 17.0, 20.0, 19.0, 17.0, 17.0, 21.0, 22.0, 15.0, 21.0, 22.0, 19.5, 15.0, 18.0, 22.0, 21.0, 21.0, 20.0, 15.0, 18.0, 20.0, 21.0, 14.0, 15.0, 16.76, 20.0, 15.75, 21.25, 21.0, 24.0, 14.0, 19.0, 15.0, 14.0, 16.0, 16.0, 20.0, 22.0, 21.0, 22.0, 22.0, 22.0, 21.0, 23.0, 17.0, 19.0, 14.0, 17.0, 21.0, 17.0, 16.0, 24.5, 20.0, 16.0, 22.0, 20.0, 15.0, 17.0, 18.0, 24.0, 21.0, 19.0, 24.0, 18.5, 19.0, 16.0, 18.0, 14.0, 19.0, 20.0, 18.0, 16.0, 19.75, 17.0, 19.0, 24.0, 17.0, 19.0, 15.25, 20.0, 22.0, 21.0, 21.0, 19.0, 20.0, 16.0, 17.0, 22.0, 23.5, 20.0, 15.0, 19.75, 22.0, 19.0, 18.0, 24.0, 22.0, 15.2, 15.0, 23.0, 25.0, 29.0, 23.0, 23.0, 28.0, 22.0, 25.0, 29.0, 25.0, 25.0, 26.0, 29.0, 26.0, 24.25, 22.0, 27.0, 26.0, 22.0, 26.0, 27.0, 25.0, 26.1, 26.39, 22.0, 28.75, 27.0, 29.0, 24.0, 24.0, 22.0, 26.0, 29.0, 26.0, 24.0, 22.5, 26.0, 29.0, 22.0, 29.0, 25.0, 27.0, 28.0, 25.0, 22.0, 24.25, 27.0, 24.0, 28.0, 24.0, 29.0, 23.0, 22.0, 24.0, 28.0, 23.0, 25.0, 23.0]}, {\"box\": {\"visible\": true}, \"meanline\": {\"visible\": true}, \"name\": \"Software Engineering\", \"type\": \"violin\", \"x\": [\"Software Engineering\", \"Software Engineering\", \"Software Engineering\", \"Software Engineering\", \"Software Engineering\", \"Software Engineering\", \"Software Engineering\", \"Software Engineering\", \"Software Engineering\", \"Software Engineering\"], \"y\": [47.6, 56.0, 57.12, 48.5, 55.51, 52.25, 49.25, 48.0, 45.42, 27.0]}],\n",
       "                        {\"template\": {\"data\": {\"bar\": [{\"error_x\": {\"color\": \"#2a3f5f\"}, \"error_y\": {\"color\": \"#2a3f5f\"}, \"marker\": {\"line\": {\"color\": \"#E5ECF6\", \"width\": 0.5}}, \"type\": \"bar\"}], \"barpolar\": [{\"marker\": {\"line\": {\"color\": \"#E5ECF6\", \"width\": 0.5}}, \"type\": \"barpolar\"}], \"carpet\": [{\"aaxis\": {\"endlinecolor\": \"#2a3f5f\", \"gridcolor\": \"white\", \"linecolor\": \"white\", \"minorgridcolor\": \"white\", \"startlinecolor\": \"#2a3f5f\"}, \"baxis\": {\"endlinecolor\": \"#2a3f5f\", \"gridcolor\": \"white\", \"linecolor\": \"white\", \"minorgridcolor\": \"white\", \"startlinecolor\": \"#2a3f5f\"}, \"type\": \"carpet\"}], \"choropleth\": [{\"colorbar\": {\"outlinewidth\": 0, \"ticks\": \"\"}, \"type\": \"choropleth\"}], \"contour\": [{\"colorbar\": {\"outlinewidth\": 0, \"ticks\": \"\"}, \"colorscale\": [[0.0, \"#0d0887\"], [0.1111111111111111, \"#46039f\"], [0.2222222222222222, \"#7201a8\"], [0.3333333333333333, \"#9c179e\"], [0.4444444444444444, \"#bd3786\"], [0.5555555555555556, \"#d8576b\"], [0.6666666666666666, \"#ed7953\"], [0.7777777777777778, \"#fb9f3a\"], [0.8888888888888888, \"#fdca26\"], [1.0, \"#f0f921\"]], \"type\": \"contour\"}], \"contourcarpet\": [{\"colorbar\": {\"outlinewidth\": 0, \"ticks\": \"\"}, \"type\": \"contourcarpet\"}], \"heatmap\": [{\"colorbar\": {\"outlinewidth\": 0, \"ticks\": \"\"}, \"colorscale\": [[0.0, \"#0d0887\"], [0.1111111111111111, \"#46039f\"], [0.2222222222222222, \"#7201a8\"], [0.3333333333333333, \"#9c179e\"], [0.4444444444444444, \"#bd3786\"], [0.5555555555555556, \"#d8576b\"], [0.6666666666666666, \"#ed7953\"], [0.7777777777777778, \"#fb9f3a\"], [0.8888888888888888, \"#fdca26\"], [1.0, \"#f0f921\"]], \"type\": \"heatmap\"}], \"heatmapgl\": [{\"colorbar\": {\"outlinewidth\": 0, \"ticks\": \"\"}, \"colorscale\": [[0.0, \"#0d0887\"], [0.1111111111111111, \"#46039f\"], [0.2222222222222222, \"#7201a8\"], [0.3333333333333333, \"#9c179e\"], [0.4444444444444444, \"#bd3786\"], [0.5555555555555556, \"#d8576b\"], [0.6666666666666666, \"#ed7953\"], [0.7777777777777778, \"#fb9f3a\"], [0.8888888888888888, \"#fdca26\"], [1.0, \"#f0f921\"]], \"type\": \"heatmapgl\"}], \"histogram\": [{\"marker\": {\"colorbar\": {\"outlinewidth\": 0, \"ticks\": \"\"}}, \"type\": \"histogram\"}], \"histogram2d\": [{\"colorbar\": {\"outlinewidth\": 0, \"ticks\": \"\"}, \"colorscale\": [[0.0, \"#0d0887\"], [0.1111111111111111, \"#46039f\"], [0.2222222222222222, \"#7201a8\"], [0.3333333333333333, \"#9c179e\"], [0.4444444444444444, \"#bd3786\"], [0.5555555555555556, \"#d8576b\"], [0.6666666666666666, \"#ed7953\"], [0.7777777777777778, \"#fb9f3a\"], [0.8888888888888888, \"#fdca26\"], [1.0, \"#f0f921\"]], \"type\": \"histogram2d\"}], \"histogram2dcontour\": [{\"colorbar\": {\"outlinewidth\": 0, \"ticks\": \"\"}, \"colorscale\": [[0.0, \"#0d0887\"], [0.1111111111111111, \"#46039f\"], [0.2222222222222222, \"#7201a8\"], [0.3333333333333333, \"#9c179e\"], [0.4444444444444444, \"#bd3786\"], [0.5555555555555556, \"#d8576b\"], [0.6666666666666666, \"#ed7953\"], [0.7777777777777778, \"#fb9f3a\"], [0.8888888888888888, \"#fdca26\"], [1.0, \"#f0f921\"]], \"type\": \"histogram2dcontour\"}], \"mesh3d\": [{\"colorbar\": {\"outlinewidth\": 0, \"ticks\": \"\"}, \"type\": \"mesh3d\"}], \"parcoords\": [{\"line\": {\"colorbar\": {\"outlinewidth\": 0, \"ticks\": \"\"}}, \"type\": \"parcoords\"}], \"pie\": [{\"automargin\": true, \"type\": \"pie\"}], \"scatter\": [{\"marker\": {\"colorbar\": {\"outlinewidth\": 0, \"ticks\": \"\"}}, \"type\": \"scatter\"}], \"scatter3d\": [{\"line\": {\"colorbar\": {\"outlinewidth\": 0, \"ticks\": \"\"}}, \"marker\": {\"colorbar\": {\"outlinewidth\": 0, \"ticks\": \"\"}}, \"type\": \"scatter3d\"}], \"scattercarpet\": [{\"marker\": {\"colorbar\": {\"outlinewidth\": 0, \"ticks\": \"\"}}, \"type\": \"scattercarpet\"}], \"scattergeo\": [{\"marker\": {\"colorbar\": {\"outlinewidth\": 0, \"ticks\": \"\"}}, \"type\": \"scattergeo\"}], \"scattergl\": [{\"marker\": {\"colorbar\": {\"outlinewidth\": 0, \"ticks\": \"\"}}, \"type\": \"scattergl\"}], \"scattermapbox\": [{\"marker\": {\"colorbar\": {\"outlinewidth\": 0, \"ticks\": \"\"}}, \"type\": \"scattermapbox\"}], \"scatterpolar\": [{\"marker\": {\"colorbar\": {\"outlinewidth\": 0, \"ticks\": \"\"}}, \"type\": \"scatterpolar\"}], \"scatterpolargl\": [{\"marker\": {\"colorbar\": {\"outlinewidth\": 0, \"ticks\": \"\"}}, \"type\": \"scatterpolargl\"}], \"scatterternary\": [{\"marker\": {\"colorbar\": {\"outlinewidth\": 0, \"ticks\": \"\"}}, \"type\": \"scatterternary\"}], \"surface\": [{\"colorbar\": {\"outlinewidth\": 0, \"ticks\": \"\"}, \"colorscale\": [[0.0, \"#0d0887\"], [0.1111111111111111, \"#46039f\"], [0.2222222222222222, \"#7201a8\"], [0.3333333333333333, \"#9c179e\"], [0.4444444444444444, \"#bd3786\"], [0.5555555555555556, \"#d8576b\"], [0.6666666666666666, \"#ed7953\"], [0.7777777777777778, \"#fb9f3a\"], [0.8888888888888888, \"#fdca26\"], [1.0, \"#f0f921\"]], \"type\": \"surface\"}], \"table\": [{\"cells\": {\"fill\": {\"color\": \"#EBF0F8\"}, \"line\": {\"color\": \"white\"}}, \"header\": {\"fill\": {\"color\": \"#C8D4E3\"}, \"line\": {\"color\": \"white\"}}, \"type\": \"table\"}]}, \"layout\": {\"annotationdefaults\": {\"arrowcolor\": \"#2a3f5f\", \"arrowhead\": 0, \"arrowwidth\": 1}, \"coloraxis\": {\"colorbar\": {\"outlinewidth\": 0, \"ticks\": \"\"}}, \"colorscale\": {\"diverging\": [[0, \"#8e0152\"], [0.1, \"#c51b7d\"], [0.2, \"#de77ae\"], [0.3, \"#f1b6da\"], [0.4, \"#fde0ef\"], [0.5, \"#f7f7f7\"], [0.6, \"#e6f5d0\"], [0.7, \"#b8e186\"], [0.8, \"#7fbc41\"], [0.9, \"#4d9221\"], [1, \"#276419\"]], \"sequential\": [[0.0, \"#0d0887\"], [0.1111111111111111, \"#46039f\"], [0.2222222222222222, \"#7201a8\"], [0.3333333333333333, \"#9c179e\"], [0.4444444444444444, \"#bd3786\"], [0.5555555555555556, \"#d8576b\"], [0.6666666666666666, \"#ed7953\"], [0.7777777777777778, \"#fb9f3a\"], [0.8888888888888888, \"#fdca26\"], [1.0, \"#f0f921\"]], \"sequentialminus\": [[0.0, \"#0d0887\"], [0.1111111111111111, \"#46039f\"], [0.2222222222222222, \"#7201a8\"], [0.3333333333333333, \"#9c179e\"], [0.4444444444444444, \"#bd3786\"], [0.5555555555555556, \"#d8576b\"], [0.6666666666666666, \"#ed7953\"], [0.7777777777777778, \"#fb9f3a\"], [0.8888888888888888, \"#fdca26\"], [1.0, \"#f0f921\"]]}, \"colorway\": [\"#636efa\", \"#EF553B\", \"#00cc96\", \"#ab63fa\", \"#FFA15A\", \"#19d3f3\", \"#FF6692\", \"#B6E880\", \"#FF97FF\", \"#FECB52\"], \"font\": {\"color\": \"#2a3f5f\"}, \"geo\": {\"bgcolor\": \"white\", \"lakecolor\": \"white\", \"landcolor\": \"#E5ECF6\", \"showlakes\": true, \"showland\": true, \"subunitcolor\": \"white\"}, \"hoverlabel\": {\"align\": \"left\"}, \"hovermode\": \"closest\", \"mapbox\": {\"style\": \"light\"}, \"paper_bgcolor\": \"white\", \"plot_bgcolor\": \"#E5ECF6\", \"polar\": {\"angularaxis\": {\"gridcolor\": \"white\", \"linecolor\": \"white\", \"ticks\": \"\"}, \"bgcolor\": \"#E5ECF6\", \"radialaxis\": {\"gridcolor\": \"white\", \"linecolor\": \"white\", \"ticks\": \"\"}}, \"scene\": {\"xaxis\": {\"backgroundcolor\": \"#E5ECF6\", \"gridcolor\": \"white\", \"gridwidth\": 2, \"linecolor\": \"white\", \"showbackground\": true, \"ticks\": \"\", \"zerolinecolor\": \"white\"}, \"yaxis\": {\"backgroundcolor\": \"#E5ECF6\", \"gridcolor\": \"white\", \"gridwidth\": 2, \"linecolor\": \"white\", \"showbackground\": true, \"ticks\": \"\", \"zerolinecolor\": \"white\"}, \"zaxis\": {\"backgroundcolor\": \"#E5ECF6\", \"gridcolor\": \"white\", \"gridwidth\": 2, \"linecolor\": \"white\", \"showbackground\": true, \"ticks\": \"\", \"zerolinecolor\": \"white\"}}, \"shapedefaults\": {\"line\": {\"color\": \"#2a3f5f\"}}, \"ternary\": {\"aaxis\": {\"gridcolor\": \"white\", \"linecolor\": \"white\", \"ticks\": \"\"}, \"baxis\": {\"gridcolor\": \"white\", \"linecolor\": \"white\", \"ticks\": \"\"}, \"bgcolor\": \"#E5ECF6\", \"caxis\": {\"gridcolor\": \"white\", \"linecolor\": \"white\", \"ticks\": \"\"}}, \"title\": {\"x\": 0.05}, \"xaxis\": {\"automargin\": true, \"gridcolor\": \"white\", \"linecolor\": \"white\", \"ticks\": \"\", \"title\": {\"standoff\": 15}, \"zerolinecolor\": \"white\", \"zerolinewidth\": 2}, \"yaxis\": {\"automargin\": true, \"gridcolor\": \"white\", \"linecolor\": \"white\", \"ticks\": \"\", \"title\": {\"standoff\": 15}, \"zerolinecolor\": \"white\", \"zerolinewidth\": 2}}}, \"xaxis\": {\"ticktext\": [\"Admin Offices: 10\", \"Sales: 31\", \"IT/IS: 50\", \"Production: 208\", \"Software Engineering: 10\"], \"tickvals\": [\"Admin Offices\", \"Sales\", \"IT/IS\", \"Production\", \"Software Engineering\"]}},\n",
       "                        {\"responsive\": true}\n",
       "                    ).then(function(){\n",
       "                            \n",
       "var gd = document.getElementById('6f663525-40db-4711-816c-65d8dcda4b9a');\n",
       "var x = new MutationObserver(function (mutations, observer) {{\n",
       "        var display = window.getComputedStyle(gd).display;\n",
       "        if (!display || display === 'none') {{\n",
       "            console.log([gd, 'removed!']);\n",
       "            Plotly.purge(gd);\n",
       "            observer.disconnect();\n",
       "        }}\n",
       "}});\n",
       "\n",
       "// Listen for the removal of the full notebook cells\n",
       "var notebookContainer = gd.closest('#notebook-container');\n",
       "if (notebookContainer) {{\n",
       "    x.observe(notebookContainer, {childList: true});\n",
       "}}\n",
       "\n",
       "// Listen for the clearing of the current output cell\n",
       "var outputEl = gd.closest('.output');\n",
       "if (outputEl) {{\n",
       "    x.observe(outputEl, {childList: true});\n",
       "}}\n",
       "\n",
       "                        })\n",
       "                };\n",
       "                });\n",
       "            </script>\n",
       "        </div>"
      ]
     },
     "metadata": {},
     "output_type": "display_data"
    }
   ],
   "source": [
    "fig = go.Figure()\n",
    "dept = []\n",
    "for dpt in dpts:\n",
    "    x = hr_i['Department'][hr_i[\"Department\"] == dpt]\n",
    "    dept.append(\": \" + str(len(x)))\n",
    "    fig.add_trace(go.Violin(x=x,\n",
    "                            y=hr_i['PayRate'][hr_i[\"Department\"] == dpt],\n",
    "                            name=dpt,\n",
    "                            box_visible=True,\n",
    "                            meanline_visible=True))\n",
    "g = [dpts[i]+dept[i] for i in range(len(dept))]\n",
    "fig.update_xaxes(\n",
    "    ticktext=(g),\n",
    "    tickvals=dpts)\n",
    "fig.show()"
   ]
  },
  {
   "cell_type": "markdown",
   "metadata": {},
   "source": [
    "## Gender and pay rate in specific department"
   ]
  },
  {
   "cell_type": "markdown",
   "metadata": {},
   "source": [
    "To check whether the drastic differences for pay rate in both gender groups occur because of the mean pay rates of specific departments, I created box and violin plots for these two variables combined. This will also give us some insight into the internal structures of the sections. I added the number of emplyees in the consecutive groups as they may vary a lot - some of the departments are rather small, after all, which may strongly influence the shape of the plots. "
   ]
  },
  {
   "cell_type": "code",
   "execution_count": 48,
   "metadata": {
    "code_folding": [
     4,
     14
    ],
    "collapsed": true
   },
   "outputs": [
    {
     "data": {
      "application/vnd.plotly.v1+json": {
       "config": {
        "plotlyServerURL": "https://plot.ly"
       },
       "data": [
        {
         "alignmentgroup": "True",
         "hovertemplate": "Sex=F<br>Department=%{x}<br>PayRate=%{y}<extra></extra>",
         "legendgroup": "F",
         "marker": {
          "color": "#1A82FF"
         },
         "name": "F",
         "notched": false,
         "offsetgroup": "F",
         "orientation": "v",
         "showlegend": true,
         "type": "box",
         "x": [
          "Admin Offices",
          "Admin Offices",
          "Admin Offices",
          "Admin Offices",
          "Sales",
          "Sales",
          "Sales",
          "Sales",
          "Sales",
          "Sales",
          "Sales",
          "Sales",
          "Sales",
          "Sales",
          "Sales",
          "Sales",
          "IT/IS",
          "IT/IS",
          "IT/IS",
          "IT/IS",
          "IT/IS",
          "IT/IS",
          "IT/IS",
          "IT/IS",
          "IT/IS",
          "IT/IS",
          "Production",
          "Sales",
          "IT/IS",
          "IT/IS",
          "IT/IS",
          "IT/IS",
          "IT/IS",
          "IT/IS",
          "IT/IS",
          "Production",
          "Production",
          "Production",
          "Production",
          "Production",
          "Production",
          "Production",
          "Production",
          "Production",
          "Production",
          "Production",
          "Production",
          "Production",
          "Production",
          "Production",
          "Production",
          "Production",
          "Production",
          "Production",
          "Production",
          "Production",
          "Production",
          "Production",
          "Production",
          "Production",
          "Production",
          "Production",
          "Production",
          "Production",
          "Production",
          "Production",
          "Production",
          "Production",
          "Production",
          "Production",
          "Production",
          "Production",
          "Production",
          "Production",
          "Production",
          "Production",
          "Production",
          "Production",
          "Production",
          "Production",
          "Production",
          "Production",
          "Production",
          "Production",
          "Production",
          "Production",
          "Production",
          "Production",
          "Production",
          "Production",
          "Production",
          "Production",
          "Production",
          "Production",
          "Production",
          "Production",
          "Production",
          "Production",
          "Production",
          "Production",
          "Production",
          "Production",
          "Production",
          "Production",
          "Production",
          "Production",
          "Production",
          "Production",
          "Production",
          "Production",
          "Production",
          "Production",
          "Production",
          "Production",
          "Production",
          "Production",
          "Production",
          "Production",
          "Production",
          "Production",
          "Production",
          "Production",
          "Production",
          "Production",
          "Production",
          "Production",
          "Production",
          "Production",
          "Production",
          "Production",
          "Production",
          "Production",
          "Production",
          "Production",
          "Production",
          "Production",
          "Production",
          "Production",
          "Production",
          "Production",
          "Production",
          "Production",
          "Production",
          "Production",
          "Production",
          "Production",
          "Production",
          "Production",
          "Production",
          "Production",
          "Production",
          "Production",
          "Production",
          "Production",
          "Production",
          "Production",
          "Production",
          "Production",
          "Production",
          "Production",
          "Production",
          "Sales",
          "Sales",
          "IT/IS",
          "Software Engineering",
          "Software Engineering",
          "Software Engineering",
          "Software Engineering",
          "Software Engineering",
          "Software Engineering",
          "Admin Offices",
          "Admin Offices",
          "IT/IS",
          "IT/IS",
          "IT/IS",
          "IT/IS"
         ],
         "x0": " ",
         "xaxis": "x",
         "y": [
          28.5,
          21.5,
          16.56,
          20.5,
          55,
          55,
          55,
          55,
          54,
          55,
          55,
          55,
          55,
          57,
          55,
          55,
          45,
          65,
          55,
          43,
          48.5,
          34,
          40,
          42.75,
          39.55,
          31.4,
          60,
          60,
          31.4,
          26,
          27.49,
          37,
          39,
          27,
          47,
          51,
          55,
          38.5,
          52,
          55,
          33.5,
          23,
          21,
          16,
          20,
          24,
          22,
          15,
          20,
          22,
          16,
          22,
          24,
          16,
          23,
          15,
          16,
          24,
          22,
          17,
          20,
          16.75,
          20,
          20,
          19,
          17,
          21,
          22,
          15,
          21,
          22,
          19.5,
          15,
          18,
          22,
          21,
          20,
          15,
          18,
          21,
          14,
          15,
          15.75,
          24,
          14,
          19,
          14,
          20,
          21,
          22,
          22,
          23,
          17,
          17,
          17,
          16,
          24.5,
          20,
          16,
          20,
          17,
          24,
          21,
          19,
          24,
          18.5,
          19,
          16,
          14,
          16,
          19.75,
          19,
          24,
          15.25,
          20,
          20,
          16,
          20,
          19.75,
          22,
          19,
          22,
          15.2,
          15,
          25,
          23,
          23,
          28,
          22,
          25,
          25,
          26,
          24.25,
          22,
          26,
          22,
          26,
          27,
          25,
          26.1,
          26.39,
          28.75,
          27,
          29,
          24,
          24,
          22.5,
          26,
          29,
          29,
          27,
          25,
          27,
          24,
          28,
          24,
          23,
          24,
          28,
          23,
          25,
          54,
          60.25,
          50.25,
          47.6,
          56,
          57.12,
          48.5,
          55.51,
          49.25,
          34.95,
          34.95,
          61.3,
          58.5,
          54.1,
          55.2
         ],
         "y0": " ",
         "yaxis": "y"
        },
        {
         "alignmentgroup": "True",
         "hovertemplate": "Sex=M <br>Department=%{x}<br>PayRate=%{y}<extra></extra>",
         "legendgroup": "M ",
         "marker": {
          "color": "#FF9E06"
         },
         "name": "M ",
         "notched": false,
         "offsetgroup": "M ",
         "orientation": "v",
         "showlegend": true,
         "type": "box",
         "x": [
          "Admin Offices",
          "Admin Offices",
          "Sales",
          "Sales",
          "Sales",
          "Sales",
          "Sales",
          "Sales",
          "Sales",
          "Sales",
          "Sales",
          "Sales",
          "Sales",
          "Sales",
          "Sales",
          "Sales",
          "Sales",
          "IT/IS",
          "IT/IS",
          "IT/IS",
          "IT/IS",
          "IT/IS",
          "IT/IS",
          "IT/IS",
          "IT/IS",
          "IT/IS",
          "IT/IS",
          "IT/IS",
          "IT/IS",
          "IT/IS",
          "IT/IS",
          "IT/IS",
          "IT/IS",
          "IT/IS",
          "IT/IS",
          "IT/IS",
          "IT/IS",
          "IT/IS",
          "Production",
          "Production",
          "Production",
          "Production",
          "Production",
          "Production",
          "Production",
          "Production",
          "Production",
          "Production",
          "Production",
          "Production",
          "Production",
          "Production",
          "Production",
          "Production",
          "Production",
          "Production",
          "Production",
          "Production",
          "Production",
          "Production",
          "Production",
          "Production",
          "Production",
          "Production",
          "Production",
          "Production",
          "Production",
          "Production",
          "Production",
          "Production",
          "Production",
          "Production",
          "Production",
          "Production",
          "Production",
          "Production",
          "Production",
          "Production",
          "Production",
          "Production",
          "Production",
          "Production",
          "Production",
          "Production",
          "Production",
          "Production",
          "Production",
          "Production",
          "Production",
          "Production",
          "Production",
          "Production",
          "Production",
          "Production",
          "Production",
          "Production",
          "Production",
          "Production",
          "Production",
          "Production",
          "Production",
          "Production",
          "Production",
          "Production",
          "Production",
          "Production",
          "Production",
          "Production",
          "Production",
          "Production",
          "Production",
          "Production",
          "Production",
          "Production",
          "Production",
          "Production",
          "Production",
          "Production",
          "Production",
          "Sales",
          "IT/IS",
          "IT/IS",
          "Admin Offices",
          "Admin Offices",
          "Software Engineering",
          "Software Engineering",
          "Software Engineering",
          "Software Engineering",
          "IT/IS",
          "IT/IS",
          "IT/IS",
          "IT/IS",
          "IT/IS"
         ],
         "x0": " ",
         "xaxis": "x",
         "y": [
          23,
          29,
          56,
          55.5,
          55.5,
          55,
          55,
          55,
          55,
          56,
          55,
          55,
          56,
          55,
          56,
          55,
          55,
          46,
          45,
          45,
          63.5,
          40.1,
          35.5,
          41,
          42.2,
          45,
          30.2,
          65,
          62,
          21,
          63,
          64,
          28.99,
          45,
          42,
          43,
          28,
          49.1,
          54.5,
          50.5,
          55,
          54,
          48.5,
          42,
          53,
          53,
          16,
          20,
          18,
          15,
          22,
          24,
          21,
          24.75,
          16,
          21,
          18,
          17,
          15,
          19,
          15,
          17,
          17,
          21,
          20,
          16.76,
          20,
          21.25,
          21,
          15,
          16,
          16,
          22,
          22,
          21,
          19,
          14,
          21,
          22,
          15,
          18,
          18,
          19,
          20,
          18,
          17,
          17,
          19,
          22,
          21,
          21,
          19,
          17,
          22,
          23.5,
          15,
          18,
          24,
          23,
          29,
          29,
          25,
          29,
          26,
          27,
          22,
          24,
          22,
          26,
          29,
          26,
          22,
          25,
          28,
          22,
          24.25,
          29,
          22,
          23,
          56,
          52.25,
          51,
          55,
          55,
          52.25,
          48,
          45.42,
          27,
          62,
          58.2,
          56.2,
          53.8,
          53
         ],
         "y0": " ",
         "yaxis": "y"
        }
       ],
       "layout": {
        "boxmode": "group",
        "legend": {
         "title": {
          "text": "Sex"
         },
         "tracegroupgap": 0
        },
        "margin": {
         "t": 60
        },
        "template": {
         "data": {
          "bar": [
           {
            "error_x": {
             "color": "#2a3f5f"
            },
            "error_y": {
             "color": "#2a3f5f"
            },
            "marker": {
             "line": {
              "color": "#E5ECF6",
              "width": 0.5
             }
            },
            "type": "bar"
           }
          ],
          "barpolar": [
           {
            "marker": {
             "line": {
              "color": "#E5ECF6",
              "width": 0.5
             }
            },
            "type": "barpolar"
           }
          ],
          "carpet": [
           {
            "aaxis": {
             "endlinecolor": "#2a3f5f",
             "gridcolor": "white",
             "linecolor": "white",
             "minorgridcolor": "white",
             "startlinecolor": "#2a3f5f"
            },
            "baxis": {
             "endlinecolor": "#2a3f5f",
             "gridcolor": "white",
             "linecolor": "white",
             "minorgridcolor": "white",
             "startlinecolor": "#2a3f5f"
            },
            "type": "carpet"
           }
          ],
          "choropleth": [
           {
            "colorbar": {
             "outlinewidth": 0,
             "ticks": ""
            },
            "type": "choropleth"
           }
          ],
          "contour": [
           {
            "colorbar": {
             "outlinewidth": 0,
             "ticks": ""
            },
            "colorscale": [
             [
              0,
              "#0d0887"
             ],
             [
              0.1111111111111111,
              "#46039f"
             ],
             [
              0.2222222222222222,
              "#7201a8"
             ],
             [
              0.3333333333333333,
              "#9c179e"
             ],
             [
              0.4444444444444444,
              "#bd3786"
             ],
             [
              0.5555555555555556,
              "#d8576b"
             ],
             [
              0.6666666666666666,
              "#ed7953"
             ],
             [
              0.7777777777777778,
              "#fb9f3a"
             ],
             [
              0.8888888888888888,
              "#fdca26"
             ],
             [
              1,
              "#f0f921"
             ]
            ],
            "type": "contour"
           }
          ],
          "contourcarpet": [
           {
            "colorbar": {
             "outlinewidth": 0,
             "ticks": ""
            },
            "type": "contourcarpet"
           }
          ],
          "heatmap": [
           {
            "colorbar": {
             "outlinewidth": 0,
             "ticks": ""
            },
            "colorscale": [
             [
              0,
              "#0d0887"
             ],
             [
              0.1111111111111111,
              "#46039f"
             ],
             [
              0.2222222222222222,
              "#7201a8"
             ],
             [
              0.3333333333333333,
              "#9c179e"
             ],
             [
              0.4444444444444444,
              "#bd3786"
             ],
             [
              0.5555555555555556,
              "#d8576b"
             ],
             [
              0.6666666666666666,
              "#ed7953"
             ],
             [
              0.7777777777777778,
              "#fb9f3a"
             ],
             [
              0.8888888888888888,
              "#fdca26"
             ],
             [
              1,
              "#f0f921"
             ]
            ],
            "type": "heatmap"
           }
          ],
          "heatmapgl": [
           {
            "colorbar": {
             "outlinewidth": 0,
             "ticks": ""
            },
            "colorscale": [
             [
              0,
              "#0d0887"
             ],
             [
              0.1111111111111111,
              "#46039f"
             ],
             [
              0.2222222222222222,
              "#7201a8"
             ],
             [
              0.3333333333333333,
              "#9c179e"
             ],
             [
              0.4444444444444444,
              "#bd3786"
             ],
             [
              0.5555555555555556,
              "#d8576b"
             ],
             [
              0.6666666666666666,
              "#ed7953"
             ],
             [
              0.7777777777777778,
              "#fb9f3a"
             ],
             [
              0.8888888888888888,
              "#fdca26"
             ],
             [
              1,
              "#f0f921"
             ]
            ],
            "type": "heatmapgl"
           }
          ],
          "histogram": [
           {
            "marker": {
             "colorbar": {
              "outlinewidth": 0,
              "ticks": ""
             }
            },
            "type": "histogram"
           }
          ],
          "histogram2d": [
           {
            "colorbar": {
             "outlinewidth": 0,
             "ticks": ""
            },
            "colorscale": [
             [
              0,
              "#0d0887"
             ],
             [
              0.1111111111111111,
              "#46039f"
             ],
             [
              0.2222222222222222,
              "#7201a8"
             ],
             [
              0.3333333333333333,
              "#9c179e"
             ],
             [
              0.4444444444444444,
              "#bd3786"
             ],
             [
              0.5555555555555556,
              "#d8576b"
             ],
             [
              0.6666666666666666,
              "#ed7953"
             ],
             [
              0.7777777777777778,
              "#fb9f3a"
             ],
             [
              0.8888888888888888,
              "#fdca26"
             ],
             [
              1,
              "#f0f921"
             ]
            ],
            "type": "histogram2d"
           }
          ],
          "histogram2dcontour": [
           {
            "colorbar": {
             "outlinewidth": 0,
             "ticks": ""
            },
            "colorscale": [
             [
              0,
              "#0d0887"
             ],
             [
              0.1111111111111111,
              "#46039f"
             ],
             [
              0.2222222222222222,
              "#7201a8"
             ],
             [
              0.3333333333333333,
              "#9c179e"
             ],
             [
              0.4444444444444444,
              "#bd3786"
             ],
             [
              0.5555555555555556,
              "#d8576b"
             ],
             [
              0.6666666666666666,
              "#ed7953"
             ],
             [
              0.7777777777777778,
              "#fb9f3a"
             ],
             [
              0.8888888888888888,
              "#fdca26"
             ],
             [
              1,
              "#f0f921"
             ]
            ],
            "type": "histogram2dcontour"
           }
          ],
          "mesh3d": [
           {
            "colorbar": {
             "outlinewidth": 0,
             "ticks": ""
            },
            "type": "mesh3d"
           }
          ],
          "parcoords": [
           {
            "line": {
             "colorbar": {
              "outlinewidth": 0,
              "ticks": ""
             }
            },
            "type": "parcoords"
           }
          ],
          "pie": [
           {
            "automargin": true,
            "type": "pie"
           }
          ],
          "scatter": [
           {
            "marker": {
             "colorbar": {
              "outlinewidth": 0,
              "ticks": ""
             }
            },
            "type": "scatter"
           }
          ],
          "scatter3d": [
           {
            "line": {
             "colorbar": {
              "outlinewidth": 0,
              "ticks": ""
             }
            },
            "marker": {
             "colorbar": {
              "outlinewidth": 0,
              "ticks": ""
             }
            },
            "type": "scatter3d"
           }
          ],
          "scattercarpet": [
           {
            "marker": {
             "colorbar": {
              "outlinewidth": 0,
              "ticks": ""
             }
            },
            "type": "scattercarpet"
           }
          ],
          "scattergeo": [
           {
            "marker": {
             "colorbar": {
              "outlinewidth": 0,
              "ticks": ""
             }
            },
            "type": "scattergeo"
           }
          ],
          "scattergl": [
           {
            "marker": {
             "colorbar": {
              "outlinewidth": 0,
              "ticks": ""
             }
            },
            "type": "scattergl"
           }
          ],
          "scattermapbox": [
           {
            "marker": {
             "colorbar": {
              "outlinewidth": 0,
              "ticks": ""
             }
            },
            "type": "scattermapbox"
           }
          ],
          "scatterpolar": [
           {
            "marker": {
             "colorbar": {
              "outlinewidth": 0,
              "ticks": ""
             }
            },
            "type": "scatterpolar"
           }
          ],
          "scatterpolargl": [
           {
            "marker": {
             "colorbar": {
              "outlinewidth": 0,
              "ticks": ""
             }
            },
            "type": "scatterpolargl"
           }
          ],
          "scatterternary": [
           {
            "marker": {
             "colorbar": {
              "outlinewidth": 0,
              "ticks": ""
             }
            },
            "type": "scatterternary"
           }
          ],
          "surface": [
           {
            "colorbar": {
             "outlinewidth": 0,
             "ticks": ""
            },
            "colorscale": [
             [
              0,
              "#0d0887"
             ],
             [
              0.1111111111111111,
              "#46039f"
             ],
             [
              0.2222222222222222,
              "#7201a8"
             ],
             [
              0.3333333333333333,
              "#9c179e"
             ],
             [
              0.4444444444444444,
              "#bd3786"
             ],
             [
              0.5555555555555556,
              "#d8576b"
             ],
             [
              0.6666666666666666,
              "#ed7953"
             ],
             [
              0.7777777777777778,
              "#fb9f3a"
             ],
             [
              0.8888888888888888,
              "#fdca26"
             ],
             [
              1,
              "#f0f921"
             ]
            ],
            "type": "surface"
           }
          ],
          "table": [
           {
            "cells": {
             "fill": {
              "color": "#EBF0F8"
             },
             "line": {
              "color": "white"
             }
            },
            "header": {
             "fill": {
              "color": "#C8D4E3"
             },
             "line": {
              "color": "white"
             }
            },
            "type": "table"
           }
          ]
         },
         "layout": {
          "annotationdefaults": {
           "arrowcolor": "#2a3f5f",
           "arrowhead": 0,
           "arrowwidth": 1
          },
          "coloraxis": {
           "colorbar": {
            "outlinewidth": 0,
            "ticks": ""
           }
          },
          "colorscale": {
           "diverging": [
            [
             0,
             "#8e0152"
            ],
            [
             0.1,
             "#c51b7d"
            ],
            [
             0.2,
             "#de77ae"
            ],
            [
             0.3,
             "#f1b6da"
            ],
            [
             0.4,
             "#fde0ef"
            ],
            [
             0.5,
             "#f7f7f7"
            ],
            [
             0.6,
             "#e6f5d0"
            ],
            [
             0.7,
             "#b8e186"
            ],
            [
             0.8,
             "#7fbc41"
            ],
            [
             0.9,
             "#4d9221"
            ],
            [
             1,
             "#276419"
            ]
           ],
           "sequential": [
            [
             0,
             "#0d0887"
            ],
            [
             0.1111111111111111,
             "#46039f"
            ],
            [
             0.2222222222222222,
             "#7201a8"
            ],
            [
             0.3333333333333333,
             "#9c179e"
            ],
            [
             0.4444444444444444,
             "#bd3786"
            ],
            [
             0.5555555555555556,
             "#d8576b"
            ],
            [
             0.6666666666666666,
             "#ed7953"
            ],
            [
             0.7777777777777778,
             "#fb9f3a"
            ],
            [
             0.8888888888888888,
             "#fdca26"
            ],
            [
             1,
             "#f0f921"
            ]
           ],
           "sequentialminus": [
            [
             0,
             "#0d0887"
            ],
            [
             0.1111111111111111,
             "#46039f"
            ],
            [
             0.2222222222222222,
             "#7201a8"
            ],
            [
             0.3333333333333333,
             "#9c179e"
            ],
            [
             0.4444444444444444,
             "#bd3786"
            ],
            [
             0.5555555555555556,
             "#d8576b"
            ],
            [
             0.6666666666666666,
             "#ed7953"
            ],
            [
             0.7777777777777778,
             "#fb9f3a"
            ],
            [
             0.8888888888888888,
             "#fdca26"
            ],
            [
             1,
             "#f0f921"
            ]
           ]
          },
          "colorway": [
           "#636efa",
           "#EF553B",
           "#00cc96",
           "#ab63fa",
           "#FFA15A",
           "#19d3f3",
           "#FF6692",
           "#B6E880",
           "#FF97FF",
           "#FECB52"
          ],
          "font": {
           "color": "#2a3f5f"
          },
          "geo": {
           "bgcolor": "white",
           "lakecolor": "white",
           "landcolor": "#E5ECF6",
           "showlakes": true,
           "showland": true,
           "subunitcolor": "white"
          },
          "hoverlabel": {
           "align": "left"
          },
          "hovermode": "closest",
          "mapbox": {
           "style": "light"
          },
          "paper_bgcolor": "white",
          "plot_bgcolor": "#E5ECF6",
          "polar": {
           "angularaxis": {
            "gridcolor": "white",
            "linecolor": "white",
            "ticks": ""
           },
           "bgcolor": "#E5ECF6",
           "radialaxis": {
            "gridcolor": "white",
            "linecolor": "white",
            "ticks": ""
           }
          },
          "scene": {
           "xaxis": {
            "backgroundcolor": "#E5ECF6",
            "gridcolor": "white",
            "gridwidth": 2,
            "linecolor": "white",
            "showbackground": true,
            "ticks": "",
            "zerolinecolor": "white"
           },
           "yaxis": {
            "backgroundcolor": "#E5ECF6",
            "gridcolor": "white",
            "gridwidth": 2,
            "linecolor": "white",
            "showbackground": true,
            "ticks": "",
            "zerolinecolor": "white"
           },
           "zaxis": {
            "backgroundcolor": "#E5ECF6",
            "gridcolor": "white",
            "gridwidth": 2,
            "linecolor": "white",
            "showbackground": true,
            "ticks": "",
            "zerolinecolor": "white"
           }
          },
          "shapedefaults": {
           "line": {
            "color": "#2a3f5f"
           }
          },
          "ternary": {
           "aaxis": {
            "gridcolor": "white",
            "linecolor": "white",
            "ticks": ""
           },
           "baxis": {
            "gridcolor": "white",
            "linecolor": "white",
            "ticks": ""
           },
           "bgcolor": "#E5ECF6",
           "caxis": {
            "gridcolor": "white",
            "linecolor": "white",
            "ticks": ""
           }
          },
          "title": {
           "x": 0.05
          },
          "xaxis": {
           "automargin": true,
           "gridcolor": "white",
           "linecolor": "white",
           "ticks": "",
           "title": {
            "standoff": 15
           },
           "zerolinecolor": "white",
           "zerolinewidth": 2
          },
          "yaxis": {
           "automargin": true,
           "gridcolor": "white",
           "linecolor": "white",
           "ticks": "",
           "title": {
            "standoff": 15
           },
           "zerolinecolor": "white",
           "zerolinewidth": 2
          }
         }
        },
        "xaxis": {
         "anchor": "y",
         "domain": [
          0,
          1
         ],
         "ticktext": [
          "Admin Offices<br>F: 6<br>M: 4",
          "Sales<br>F: 15<br>M: 16",
          "IT/IS<br>F: 22<br>M: 28",
          "Production<br>F: 127<br>M: 81",
          "Software Engineering<br>F: 6<br>M: 4"
         ],
         "tickvals": [
          "Admin Offices",
          "Sales",
          "IT/IS",
          "Production",
          "Software Engineering"
         ],
         "title": {
          "text": "Department"
         }
        },
        "yaxis": {
         "anchor": "x",
         "domain": [
          0,
          1
         ],
         "title": {
          "text": "PayRate"
         }
        }
       }
      },
      "text/html": [
       "<div>\n",
       "        \n",
       "        \n",
       "            <div id=\"f56fa685-b485-4a8b-a958-da95d4456733\" class=\"plotly-graph-div\" style=\"height:525px; width:100%;\"></div>\n",
       "            <script type=\"text/javascript\">\n",
       "                require([\"plotly\"], function(Plotly) {\n",
       "                    window.PLOTLYENV=window.PLOTLYENV || {};\n",
       "                    \n",
       "                if (document.getElementById(\"f56fa685-b485-4a8b-a958-da95d4456733\")) {\n",
       "                    Plotly.newPlot(\n",
       "                        'f56fa685-b485-4a8b-a958-da95d4456733',\n",
       "                        [{\"alignmentgroup\": \"True\", \"hovertemplate\": \"Sex=F<br>Department=%{x}<br>PayRate=%{y}<extra></extra>\", \"legendgroup\": \"F\", \"marker\": {\"color\": \"#1A82FF\"}, \"name\": \"F\", \"notched\": false, \"offsetgroup\": \"F\", \"orientation\": \"v\", \"showlegend\": true, \"type\": \"box\", \"x\": [\"Admin Offices\", \"Admin Offices\", \"Admin Offices\", \"Admin Offices\", \"Sales\", \"Sales\", \"Sales\", \"Sales\", \"Sales\", \"Sales\", \"Sales\", \"Sales\", \"Sales\", \"Sales\", \"Sales\", \"Sales\", \"IT/IS\", \"IT/IS\", \"IT/IS\", \"IT/IS\", \"IT/IS\", \"IT/IS\", \"IT/IS\", \"IT/IS\", \"IT/IS\", \"IT/IS\", \"Production\", \"Sales\", \"IT/IS\", \"IT/IS\", \"IT/IS\", \"IT/IS\", \"IT/IS\", \"IT/IS\", \"IT/IS\", \"Production\", \"Production\", \"Production\", \"Production\", \"Production\", \"Production\", \"Production\", \"Production\", \"Production\", \"Production\", \"Production\", \"Production\", \"Production\", \"Production\", \"Production\", \"Production\", \"Production\", \"Production\", \"Production\", \"Production\", \"Production\", \"Production\", \"Production\", \"Production\", \"Production\", \"Production\", \"Production\", \"Production\", \"Production\", \"Production\", \"Production\", \"Production\", \"Production\", \"Production\", \"Production\", \"Production\", \"Production\", \"Production\", \"Production\", \"Production\", \"Production\", \"Production\", \"Production\", \"Production\", \"Production\", \"Production\", \"Production\", \"Production\", \"Production\", \"Production\", \"Production\", \"Production\", \"Production\", \"Production\", \"Production\", \"Production\", \"Production\", \"Production\", \"Production\", \"Production\", \"Production\", \"Production\", \"Production\", \"Production\", \"Production\", \"Production\", \"Production\", \"Production\", \"Production\", \"Production\", \"Production\", \"Production\", \"Production\", \"Production\", \"Production\", \"Production\", \"Production\", \"Production\", \"Production\", \"Production\", \"Production\", \"Production\", \"Production\", \"Production\", \"Production\", \"Production\", \"Production\", \"Production\", \"Production\", \"Production\", \"Production\", \"Production\", \"Production\", \"Production\", \"Production\", \"Production\", \"Production\", \"Production\", \"Production\", \"Production\", \"Production\", \"Production\", \"Production\", \"Production\", \"Production\", \"Production\", \"Production\", \"Production\", \"Production\", \"Production\", \"Production\", \"Production\", \"Production\", \"Production\", \"Production\", \"Production\", \"Production\", \"Production\", \"Production\", \"Production\", \"Production\", \"Production\", \"Production\", \"Production\", \"Production\", \"Production\", \"Sales\", \"Sales\", \"IT/IS\", \"Software Engineering\", \"Software Engineering\", \"Software Engineering\", \"Software Engineering\", \"Software Engineering\", \"Software Engineering\", \"Admin Offices\", \"Admin Offices\", \"IT/IS\", \"IT/IS\", \"IT/IS\", \"IT/IS\"], \"x0\": \" \", \"xaxis\": \"x\", \"y\": [28.5, 21.5, 16.56, 20.5, 55.0, 55.0, 55.0, 55.0, 54.0, 55.0, 55.0, 55.0, 55.0, 57.0, 55.0, 55.0, 45.0, 65.0, 55.0, 43.0, 48.5, 34.0, 40.0, 42.75, 39.55, 31.4, 60.0, 60.0, 31.4, 26.0, 27.49, 37.0, 39.0, 27.0, 47.0, 51.0, 55.0, 38.5, 52.0, 55.0, 33.5, 23.0, 21.0, 16.0, 20.0, 24.0, 22.0, 15.0, 20.0, 22.0, 16.0, 22.0, 24.0, 16.0, 23.0, 15.0, 16.0, 24.0, 22.0, 17.0, 20.0, 16.75, 20.0, 20.0, 19.0, 17.0, 21.0, 22.0, 15.0, 21.0, 22.0, 19.5, 15.0, 18.0, 22.0, 21.0, 20.0, 15.0, 18.0, 21.0, 14.0, 15.0, 15.75, 24.0, 14.0, 19.0, 14.0, 20.0, 21.0, 22.0, 22.0, 23.0, 17.0, 17.0, 17.0, 16.0, 24.5, 20.0, 16.0, 20.0, 17.0, 24.0, 21.0, 19.0, 24.0, 18.5, 19.0, 16.0, 14.0, 16.0, 19.75, 19.0, 24.0, 15.25, 20.0, 20.0, 16.0, 20.0, 19.75, 22.0, 19.0, 22.0, 15.2, 15.0, 25.0, 23.0, 23.0, 28.0, 22.0, 25.0, 25.0, 26.0, 24.25, 22.0, 26.0, 22.0, 26.0, 27.0, 25.0, 26.1, 26.39, 28.75, 27.0, 29.0, 24.0, 24.0, 22.5, 26.0, 29.0, 29.0, 27.0, 25.0, 27.0, 24.0, 28.0, 24.0, 23.0, 24.0, 28.0, 23.0, 25.0, 54.0, 60.25, 50.25, 47.6, 56.0, 57.12, 48.5, 55.51, 49.25, 34.95, 34.95, 61.3, 58.5, 54.1, 55.2], \"y0\": \" \", \"yaxis\": \"y\"}, {\"alignmentgroup\": \"True\", \"hovertemplate\": \"Sex=M <br>Department=%{x}<br>PayRate=%{y}<extra></extra>\", \"legendgroup\": \"M \", \"marker\": {\"color\": \"#FF9E06\"}, \"name\": \"M \", \"notched\": false, \"offsetgroup\": \"M \", \"orientation\": \"v\", \"showlegend\": true, \"type\": \"box\", \"x\": [\"Admin Offices\", \"Admin Offices\", \"Sales\", \"Sales\", \"Sales\", \"Sales\", \"Sales\", \"Sales\", \"Sales\", \"Sales\", \"Sales\", \"Sales\", \"Sales\", \"Sales\", \"Sales\", \"Sales\", \"Sales\", \"IT/IS\", \"IT/IS\", \"IT/IS\", \"IT/IS\", \"IT/IS\", \"IT/IS\", \"IT/IS\", \"IT/IS\", \"IT/IS\", \"IT/IS\", \"IT/IS\", \"IT/IS\", \"IT/IS\", \"IT/IS\", \"IT/IS\", \"IT/IS\", \"IT/IS\", \"IT/IS\", \"IT/IS\", \"IT/IS\", \"IT/IS\", \"Production\", \"Production\", \"Production\", \"Production\", \"Production\", \"Production\", \"Production\", \"Production\", \"Production\", \"Production\", \"Production\", \"Production\", \"Production\", \"Production\", \"Production\", \"Production\", \"Production\", \"Production\", \"Production\", \"Production\", \"Production\", \"Production\", \"Production\", \"Production\", \"Production\", \"Production\", \"Production\", \"Production\", \"Production\", \"Production\", \"Production\", \"Production\", \"Production\", \"Production\", \"Production\", \"Production\", \"Production\", \"Production\", \"Production\", \"Production\", \"Production\", \"Production\", \"Production\", \"Production\", \"Production\", \"Production\", \"Production\", \"Production\", \"Production\", \"Production\", \"Production\", \"Production\", \"Production\", \"Production\", \"Production\", \"Production\", \"Production\", \"Production\", \"Production\", \"Production\", \"Production\", \"Production\", \"Production\", \"Production\", \"Production\", \"Production\", \"Production\", \"Production\", \"Production\", \"Production\", \"Production\", \"Production\", \"Production\", \"Production\", \"Production\", \"Production\", \"Production\", \"Production\", \"Production\", \"Production\", \"Production\", \"Sales\", \"IT/IS\", \"IT/IS\", \"Admin Offices\", \"Admin Offices\", \"Software Engineering\", \"Software Engineering\", \"Software Engineering\", \"Software Engineering\", \"IT/IS\", \"IT/IS\", \"IT/IS\", \"IT/IS\", \"IT/IS\"], \"x0\": \" \", \"xaxis\": \"x\", \"y\": [23.0, 29.0, 56.0, 55.5, 55.5, 55.0, 55.0, 55.0, 55.0, 56.0, 55.0, 55.0, 56.0, 55.0, 56.0, 55.0, 55.0, 46.0, 45.0, 45.0, 63.5, 40.1, 35.5, 41.0, 42.2, 45.0, 30.2, 65.0, 62.0, 21.0, 63.0, 64.0, 28.99, 45.0, 42.0, 43.0, 28.0, 49.1, 54.5, 50.5, 55.0, 54.0, 48.5, 42.0, 53.0, 53.0, 16.0, 20.0, 18.0, 15.0, 22.0, 24.0, 21.0, 24.75, 16.0, 21.0, 18.0, 17.0, 15.0, 19.0, 15.0, 17.0, 17.0, 21.0, 20.0, 16.76, 20.0, 21.25, 21.0, 15.0, 16.0, 16.0, 22.0, 22.0, 21.0, 19.0, 14.0, 21.0, 22.0, 15.0, 18.0, 18.0, 19.0, 20.0, 18.0, 17.0, 17.0, 19.0, 22.0, 21.0, 21.0, 19.0, 17.0, 22.0, 23.5, 15.0, 18.0, 24.0, 23.0, 29.0, 29.0, 25.0, 29.0, 26.0, 27.0, 22.0, 24.0, 22.0, 26.0, 29.0, 26.0, 22.0, 25.0, 28.0, 22.0, 24.25, 29.0, 22.0, 23.0, 56.0, 52.25, 51.0, 55.0, 55.0, 52.25, 48.0, 45.42, 27.0, 62.0, 58.2, 56.2, 53.8, 53.0], \"y0\": \" \", \"yaxis\": \"y\"}],\n",
       "                        {\"boxmode\": \"group\", \"legend\": {\"title\": {\"text\": \"Sex\"}, \"tracegroupgap\": 0}, \"margin\": {\"t\": 60}, \"template\": {\"data\": {\"bar\": [{\"error_x\": {\"color\": \"#2a3f5f\"}, \"error_y\": {\"color\": \"#2a3f5f\"}, \"marker\": {\"line\": {\"color\": \"#E5ECF6\", \"width\": 0.5}}, \"type\": \"bar\"}], \"barpolar\": [{\"marker\": {\"line\": {\"color\": \"#E5ECF6\", \"width\": 0.5}}, \"type\": \"barpolar\"}], \"carpet\": [{\"aaxis\": {\"endlinecolor\": \"#2a3f5f\", \"gridcolor\": \"white\", \"linecolor\": \"white\", \"minorgridcolor\": \"white\", \"startlinecolor\": \"#2a3f5f\"}, \"baxis\": {\"endlinecolor\": \"#2a3f5f\", \"gridcolor\": \"white\", \"linecolor\": \"white\", \"minorgridcolor\": \"white\", \"startlinecolor\": \"#2a3f5f\"}, \"type\": \"carpet\"}], \"choropleth\": [{\"colorbar\": {\"outlinewidth\": 0, \"ticks\": \"\"}, \"type\": \"choropleth\"}], \"contour\": [{\"colorbar\": {\"outlinewidth\": 0, \"ticks\": \"\"}, \"colorscale\": [[0.0, \"#0d0887\"], [0.1111111111111111, \"#46039f\"], [0.2222222222222222, \"#7201a8\"], [0.3333333333333333, \"#9c179e\"], [0.4444444444444444, \"#bd3786\"], [0.5555555555555556, \"#d8576b\"], [0.6666666666666666, \"#ed7953\"], [0.7777777777777778, \"#fb9f3a\"], [0.8888888888888888, \"#fdca26\"], [1.0, \"#f0f921\"]], \"type\": \"contour\"}], \"contourcarpet\": [{\"colorbar\": {\"outlinewidth\": 0, \"ticks\": \"\"}, \"type\": \"contourcarpet\"}], \"heatmap\": [{\"colorbar\": {\"outlinewidth\": 0, \"ticks\": \"\"}, \"colorscale\": [[0.0, \"#0d0887\"], [0.1111111111111111, \"#46039f\"], [0.2222222222222222, \"#7201a8\"], [0.3333333333333333, \"#9c179e\"], [0.4444444444444444, \"#bd3786\"], [0.5555555555555556, \"#d8576b\"], [0.6666666666666666, \"#ed7953\"], [0.7777777777777778, \"#fb9f3a\"], [0.8888888888888888, \"#fdca26\"], [1.0, \"#f0f921\"]], \"type\": \"heatmap\"}], \"heatmapgl\": [{\"colorbar\": {\"outlinewidth\": 0, \"ticks\": \"\"}, \"colorscale\": [[0.0, \"#0d0887\"], [0.1111111111111111, \"#46039f\"], [0.2222222222222222, \"#7201a8\"], [0.3333333333333333, \"#9c179e\"], [0.4444444444444444, \"#bd3786\"], [0.5555555555555556, \"#d8576b\"], [0.6666666666666666, \"#ed7953\"], [0.7777777777777778, \"#fb9f3a\"], [0.8888888888888888, \"#fdca26\"], [1.0, \"#f0f921\"]], \"type\": \"heatmapgl\"}], \"histogram\": [{\"marker\": {\"colorbar\": {\"outlinewidth\": 0, \"ticks\": \"\"}}, \"type\": \"histogram\"}], \"histogram2d\": [{\"colorbar\": {\"outlinewidth\": 0, \"ticks\": \"\"}, \"colorscale\": [[0.0, \"#0d0887\"], [0.1111111111111111, \"#46039f\"], [0.2222222222222222, \"#7201a8\"], [0.3333333333333333, \"#9c179e\"], [0.4444444444444444, \"#bd3786\"], [0.5555555555555556, \"#d8576b\"], [0.6666666666666666, \"#ed7953\"], [0.7777777777777778, \"#fb9f3a\"], [0.8888888888888888, \"#fdca26\"], [1.0, \"#f0f921\"]], \"type\": \"histogram2d\"}], \"histogram2dcontour\": [{\"colorbar\": {\"outlinewidth\": 0, \"ticks\": \"\"}, \"colorscale\": [[0.0, \"#0d0887\"], [0.1111111111111111, \"#46039f\"], [0.2222222222222222, \"#7201a8\"], [0.3333333333333333, \"#9c179e\"], [0.4444444444444444, \"#bd3786\"], [0.5555555555555556, \"#d8576b\"], [0.6666666666666666, \"#ed7953\"], [0.7777777777777778, \"#fb9f3a\"], [0.8888888888888888, \"#fdca26\"], [1.0, \"#f0f921\"]], \"type\": \"histogram2dcontour\"}], \"mesh3d\": [{\"colorbar\": {\"outlinewidth\": 0, \"ticks\": \"\"}, \"type\": \"mesh3d\"}], \"parcoords\": [{\"line\": {\"colorbar\": {\"outlinewidth\": 0, \"ticks\": \"\"}}, \"type\": \"parcoords\"}], \"pie\": [{\"automargin\": true, \"type\": \"pie\"}], \"scatter\": [{\"marker\": {\"colorbar\": {\"outlinewidth\": 0, \"ticks\": \"\"}}, \"type\": \"scatter\"}], \"scatter3d\": [{\"line\": {\"colorbar\": {\"outlinewidth\": 0, \"ticks\": \"\"}}, \"marker\": {\"colorbar\": {\"outlinewidth\": 0, \"ticks\": \"\"}}, \"type\": \"scatter3d\"}], \"scattercarpet\": [{\"marker\": {\"colorbar\": {\"outlinewidth\": 0, \"ticks\": \"\"}}, \"type\": \"scattercarpet\"}], \"scattergeo\": [{\"marker\": {\"colorbar\": {\"outlinewidth\": 0, \"ticks\": \"\"}}, \"type\": \"scattergeo\"}], \"scattergl\": [{\"marker\": {\"colorbar\": {\"outlinewidth\": 0, \"ticks\": \"\"}}, \"type\": \"scattergl\"}], \"scattermapbox\": [{\"marker\": {\"colorbar\": {\"outlinewidth\": 0, \"ticks\": \"\"}}, \"type\": \"scattermapbox\"}], \"scatterpolar\": [{\"marker\": {\"colorbar\": {\"outlinewidth\": 0, \"ticks\": \"\"}}, \"type\": \"scatterpolar\"}], \"scatterpolargl\": [{\"marker\": {\"colorbar\": {\"outlinewidth\": 0, \"ticks\": \"\"}}, \"type\": \"scatterpolargl\"}], \"scatterternary\": [{\"marker\": {\"colorbar\": {\"outlinewidth\": 0, \"ticks\": \"\"}}, \"type\": \"scatterternary\"}], \"surface\": [{\"colorbar\": {\"outlinewidth\": 0, \"ticks\": \"\"}, \"colorscale\": [[0.0, \"#0d0887\"], [0.1111111111111111, \"#46039f\"], [0.2222222222222222, \"#7201a8\"], [0.3333333333333333, \"#9c179e\"], [0.4444444444444444, \"#bd3786\"], [0.5555555555555556, \"#d8576b\"], [0.6666666666666666, \"#ed7953\"], [0.7777777777777778, \"#fb9f3a\"], [0.8888888888888888, \"#fdca26\"], [1.0, \"#f0f921\"]], \"type\": \"surface\"}], \"table\": [{\"cells\": {\"fill\": {\"color\": \"#EBF0F8\"}, \"line\": {\"color\": \"white\"}}, \"header\": {\"fill\": {\"color\": \"#C8D4E3\"}, \"line\": {\"color\": \"white\"}}, \"type\": \"table\"}]}, \"layout\": {\"annotationdefaults\": {\"arrowcolor\": \"#2a3f5f\", \"arrowhead\": 0, \"arrowwidth\": 1}, \"coloraxis\": {\"colorbar\": {\"outlinewidth\": 0, \"ticks\": \"\"}}, \"colorscale\": {\"diverging\": [[0, \"#8e0152\"], [0.1, \"#c51b7d\"], [0.2, \"#de77ae\"], [0.3, \"#f1b6da\"], [0.4, \"#fde0ef\"], [0.5, \"#f7f7f7\"], [0.6, \"#e6f5d0\"], [0.7, \"#b8e186\"], [0.8, \"#7fbc41\"], [0.9, \"#4d9221\"], [1, \"#276419\"]], \"sequential\": [[0.0, \"#0d0887\"], [0.1111111111111111, \"#46039f\"], [0.2222222222222222, \"#7201a8\"], [0.3333333333333333, \"#9c179e\"], [0.4444444444444444, \"#bd3786\"], [0.5555555555555556, \"#d8576b\"], [0.6666666666666666, \"#ed7953\"], [0.7777777777777778, \"#fb9f3a\"], [0.8888888888888888, \"#fdca26\"], [1.0, \"#f0f921\"]], \"sequentialminus\": [[0.0, \"#0d0887\"], [0.1111111111111111, \"#46039f\"], [0.2222222222222222, \"#7201a8\"], [0.3333333333333333, \"#9c179e\"], [0.4444444444444444, \"#bd3786\"], [0.5555555555555556, \"#d8576b\"], [0.6666666666666666, \"#ed7953\"], [0.7777777777777778, \"#fb9f3a\"], [0.8888888888888888, \"#fdca26\"], [1.0, \"#f0f921\"]]}, \"colorway\": [\"#636efa\", \"#EF553B\", \"#00cc96\", \"#ab63fa\", \"#FFA15A\", \"#19d3f3\", \"#FF6692\", \"#B6E880\", \"#FF97FF\", \"#FECB52\"], \"font\": {\"color\": \"#2a3f5f\"}, \"geo\": {\"bgcolor\": \"white\", \"lakecolor\": \"white\", \"landcolor\": \"#E5ECF6\", \"showlakes\": true, \"showland\": true, \"subunitcolor\": \"white\"}, \"hoverlabel\": {\"align\": \"left\"}, \"hovermode\": \"closest\", \"mapbox\": {\"style\": \"light\"}, \"paper_bgcolor\": \"white\", \"plot_bgcolor\": \"#E5ECF6\", \"polar\": {\"angularaxis\": {\"gridcolor\": \"white\", \"linecolor\": \"white\", \"ticks\": \"\"}, \"bgcolor\": \"#E5ECF6\", \"radialaxis\": {\"gridcolor\": \"white\", \"linecolor\": \"white\", \"ticks\": \"\"}}, \"scene\": {\"xaxis\": {\"backgroundcolor\": \"#E5ECF6\", \"gridcolor\": \"white\", \"gridwidth\": 2, \"linecolor\": \"white\", \"showbackground\": true, \"ticks\": \"\", \"zerolinecolor\": \"white\"}, \"yaxis\": {\"backgroundcolor\": \"#E5ECF6\", \"gridcolor\": \"white\", \"gridwidth\": 2, \"linecolor\": \"white\", \"showbackground\": true, \"ticks\": \"\", \"zerolinecolor\": \"white\"}, \"zaxis\": {\"backgroundcolor\": \"#E5ECF6\", \"gridcolor\": \"white\", \"gridwidth\": 2, \"linecolor\": \"white\", \"showbackground\": true, \"ticks\": \"\", \"zerolinecolor\": \"white\"}}, \"shapedefaults\": {\"line\": {\"color\": \"#2a3f5f\"}}, \"ternary\": {\"aaxis\": {\"gridcolor\": \"white\", \"linecolor\": \"white\", \"ticks\": \"\"}, \"baxis\": {\"gridcolor\": \"white\", \"linecolor\": \"white\", \"ticks\": \"\"}, \"bgcolor\": \"#E5ECF6\", \"caxis\": {\"gridcolor\": \"white\", \"linecolor\": \"white\", \"ticks\": \"\"}}, \"title\": {\"x\": 0.05}, \"xaxis\": {\"automargin\": true, \"gridcolor\": \"white\", \"linecolor\": \"white\", \"ticks\": \"\", \"title\": {\"standoff\": 15}, \"zerolinecolor\": \"white\", \"zerolinewidth\": 2}, \"yaxis\": {\"automargin\": true, \"gridcolor\": \"white\", \"linecolor\": \"white\", \"ticks\": \"\", \"title\": {\"standoff\": 15}, \"zerolinecolor\": \"white\", \"zerolinewidth\": 2}}}, \"xaxis\": {\"anchor\": \"y\", \"domain\": [0.0, 1.0], \"ticktext\": [\"Admin Offices<br>F: 6<br>M: 4\", \"Sales<br>F: 15<br>M: 16\", \"IT/IS<br>F: 22<br>M: 28\", \"Production<br>F: 127<br>M: 81\", \"Software Engineering<br>F: 6<br>M: 4\"], \"tickvals\": [\"Admin Offices\", \"Sales\", \"IT/IS\", \"Production\", \"Software Engineering\"], \"title\": {\"text\": \"Department\"}}, \"yaxis\": {\"anchor\": \"x\", \"domain\": [0.0, 1.0], \"title\": {\"text\": \"PayRate\"}}},\n",
       "                        {\"responsive\": true}\n",
       "                    ).then(function(){\n",
       "                            \n",
       "var gd = document.getElementById('f56fa685-b485-4a8b-a958-da95d4456733');\n",
       "var x = new MutationObserver(function (mutations, observer) {{\n",
       "        var display = window.getComputedStyle(gd).display;\n",
       "        if (!display || display === 'none') {{\n",
       "            console.log([gd, 'removed!']);\n",
       "            Plotly.purge(gd);\n",
       "            observer.disconnect();\n",
       "        }}\n",
       "}});\n",
       "\n",
       "// Listen for the removal of the full notebook cells\n",
       "var notebookContainer = gd.closest('#notebook-container');\n",
       "if (notebookContainer) {{\n",
       "    x.observe(notebookContainer, {childList: true});\n",
       "}}\n",
       "\n",
       "// Listen for the clearing of the current output cell\n",
       "var outputEl = gd.closest('.output');\n",
       "if (outputEl) {{\n",
       "    x.observe(outputEl, {childList: true});\n",
       "}}\n",
       "\n",
       "                        })\n",
       "                };\n",
       "                });\n",
       "            </script>\n",
       "        </div>"
      ]
     },
     "metadata": {},
     "output_type": "display_data"
    }
   ],
   "source": [
    "genders = list(hr_i.Sex.unique())\n",
    "dpts = list(hr_i.Department.unique())\n",
    "f = [] \n",
    "m = []\n",
    "for gender in genders:\n",
    "    for dpt in dpts:\n",
    "        if gender == \"F\":\n",
    "            f.append(\"<br>F: \" + str(len(hr_i['Department'][(hr_i[\"Sex\"] == gender) & (hr_i[\"Department\"] == dpt)])))\n",
    "        else:\n",
    "            m.append(\"<br>M: \" + str(len(hr_i['Department'][(hr_i[\"Sex\"] == gender) & (hr_i[\"Department\"] == dpt)])))\n",
    "\n",
    "g = [dpts[i]+f[i]+m[i] for i in range(len(f))]\n",
    "\n",
    "fig = px.box(hr_i, x=\"Department\", y=\"PayRate\", color=\"Sex\", color_discrete_sequence=palette_2)\n",
    "fig.update_xaxes(\n",
    "    ticktext=(g),\n",
    "    tickvals=dpts)\n",
    "fig.show()"
   ]
  },
  {
   "cell_type": "markdown",
   "metadata": {},
   "source": [
    "We can see rather empty space in the middle ground of the plots, which explains the structure. The box plots in this situation are much more informative than the density ones, therefore I chose to use only boxes."
   ]
  },
  {
   "cell_type": "markdown",
   "metadata": {},
   "source": [
    "## Special project count and pay rate"
   ]
  },
  {
   "cell_type": "markdown",
   "metadata": {},
   "source": [
    "As there is too little people with 8 projects, which makes plotting for this group impossible, I merge them with people having 7 projects completed."
   ]
  },
  {
   "cell_type": "code",
   "execution_count": 50,
   "metadata": {
    "code_folding": [
     0
    ]
   },
   "outputs": [],
   "source": [
    "def proj(i):\n",
    "    if i >= 7.0:\n",
    "        return \"7 or more\" + \" projects\"\n",
    "    elif i == 2 or i == 3:\n",
    "        return \"2 or 3\" + \" projects\"\n",
    "    else:\n",
    "        return str(int(i)) + \" projects\""
   ]
  },
  {
   "cell_type": "code",
   "execution_count": 51,
   "metadata": {},
   "outputs": [],
   "source": [
    "hr[\"project\"] = [proj(i) for i in hr.SpecialProjectsCount]"
   ]
  },
  {
   "cell_type": "markdown",
   "metadata": {},
   "source": [
    "I also noticed that there are no employees with only one project. Moreover, there is only one worker with 2 projects. Therefore, I merged the latter one with 3 projects' group."
   ]
  },
  {
   "cell_type": "code",
   "execution_count": 53,
   "metadata": {
    "code_folding": [
     3,
     6,
     13
    ],
    "collapsed": true
   },
   "outputs": [
    {
     "data": {
      "application/vnd.plotly.v1+json": {
       "config": {
        "plotlyServerURL": "https://plot.ly"
       },
       "data": [
        {
         "box": {
          "visible": true
         },
         "meanline": {
          "visible": true
         },
         "name": "0 projects",
         "text": [
          "Sales",
          "Sales",
          "Sales",
          "Sales",
          "Sales",
          "Sales",
          "Sales",
          "Sales",
          "Sales",
          "Sales",
          "Sales",
          "Sales",
          "Sales",
          "Sales",
          "Sales",
          "Sales",
          "Sales",
          "Sales",
          "Sales",
          "Sales",
          "Sales",
          "Sales",
          "Sales",
          "Sales",
          "Sales",
          "Sales",
          "Sales",
          "Production",
          "Sales",
          "Executive Office",
          "Production",
          "Production",
          "Production",
          "Production",
          "Production",
          "Production",
          "Production",
          "Production",
          "Production",
          "Production",
          "Production",
          "Production",
          "Production",
          "Production",
          "Production",
          "Production",
          "Production",
          "Production",
          "Production",
          "Production",
          "Production",
          "Production",
          "Production",
          "Production",
          "Production",
          "Production",
          "Production",
          "Production",
          "Production",
          "Production",
          "Production",
          "Production",
          "Production",
          "Production",
          "Production",
          "Production",
          "Production",
          "Production",
          "Production",
          "Production",
          "Production",
          "Production",
          "Production",
          "Production",
          "Production",
          "Production",
          "Production",
          "Production",
          "Production",
          "Production",
          "Production",
          "Production",
          "Production",
          "Production",
          "Production",
          "Production",
          "Production",
          "Production",
          "Production",
          "Production",
          "Production",
          "Production",
          "Production",
          "Production",
          "Production",
          "Production",
          "Production",
          "Production",
          "Production",
          "Production",
          "Production",
          "Production",
          "Production",
          "Production",
          "Production",
          "Production",
          "Production",
          "Production",
          "Production",
          "Production",
          "Production",
          "Production",
          "Production",
          "Production",
          "Production",
          "Production",
          "Production",
          "Production",
          "Production",
          "Production",
          "Production",
          "Production",
          "Production",
          "Production",
          "Production",
          "Production",
          "Production",
          "Production",
          "Production",
          "Production",
          "Production",
          "Production",
          "Production",
          "Production",
          "Production",
          "Production",
          "Production",
          "Production",
          "Production",
          "Production",
          "Production",
          "Production",
          "Production",
          "Production",
          "Production",
          "Production",
          "Production",
          "Production",
          "Production",
          "Production",
          "Production",
          "Production",
          "Production",
          "Production",
          "Production",
          "Production",
          "Production",
          "Production",
          "Production",
          "Production",
          "Production",
          "Production",
          "Production",
          "Production",
          "Production",
          "Production",
          "Production",
          "Production",
          "Production",
          "Production",
          "Production",
          "Production",
          "Production",
          "Production",
          "Production",
          "Production",
          "Production",
          "Production",
          "Production",
          "Production",
          "Production",
          "Production",
          "Production",
          "Production",
          "Production",
          "Production",
          "Production",
          "Production",
          "Production",
          "Production",
          "Production",
          "Production",
          "Production",
          "Production",
          "Production",
          "Production",
          "Production",
          "Production",
          "Production",
          "Production",
          "Production",
          "Production",
          "Production",
          "Production",
          "Production",
          "Production",
          "Production",
          "Production",
          "Production",
          "Production",
          "Production",
          "Production",
          "Production",
          "Production",
          "Production",
          "Production",
          "Production",
          "Production",
          "Production",
          "Production",
          "Production",
          "Production",
          "Production",
          "Production",
          "Production",
          "Production",
          "Production",
          "Production",
          "Production",
          "Production",
          "Production",
          "Production",
          "Production",
          "Production",
          "Production",
          "Production",
          "Production",
          "Sales",
          "Sales",
          "Sales",
          "Admin Offices",
          "Admin Offices"
         ],
         "type": "violin",
         "x": [
          "0 projects",
          "0 projects",
          "0 projects",
          "0 projects",
          "0 projects",
          "0 projects",
          "0 projects",
          "0 projects",
          "0 projects",
          "0 projects",
          "0 projects",
          "0 projects",
          "0 projects",
          "0 projects",
          "0 projects",
          "0 projects",
          "0 projects",
          "0 projects",
          "0 projects",
          "0 projects",
          "0 projects",
          "0 projects",
          "0 projects",
          "0 projects",
          "0 projects",
          "0 projects",
          "0 projects",
          "0 projects",
          "0 projects",
          "0 projects",
          "0 projects",
          "0 projects",
          "0 projects",
          "0 projects",
          "0 projects",
          "0 projects",
          "0 projects",
          "0 projects",
          "0 projects",
          "0 projects",
          "0 projects",
          "0 projects",
          "0 projects",
          "0 projects",
          "0 projects",
          "0 projects",
          "0 projects",
          "0 projects",
          "0 projects",
          "0 projects",
          "0 projects",
          "0 projects",
          "0 projects",
          "0 projects",
          "0 projects",
          "0 projects",
          "0 projects",
          "0 projects",
          "0 projects",
          "0 projects",
          "0 projects",
          "0 projects",
          "0 projects",
          "0 projects",
          "0 projects",
          "0 projects",
          "0 projects",
          "0 projects",
          "0 projects",
          "0 projects",
          "0 projects",
          "0 projects",
          "0 projects",
          "0 projects",
          "0 projects",
          "0 projects",
          "0 projects",
          "0 projects",
          "0 projects",
          "0 projects",
          "0 projects",
          "0 projects",
          "0 projects",
          "0 projects",
          "0 projects",
          "0 projects",
          "0 projects",
          "0 projects",
          "0 projects",
          "0 projects",
          "0 projects",
          "0 projects",
          "0 projects",
          "0 projects",
          "0 projects",
          "0 projects",
          "0 projects",
          "0 projects",
          "0 projects",
          "0 projects",
          "0 projects",
          "0 projects",
          "0 projects",
          "0 projects",
          "0 projects",
          "0 projects",
          "0 projects",
          "0 projects",
          "0 projects",
          "0 projects",
          "0 projects",
          "0 projects",
          "0 projects",
          "0 projects",
          "0 projects",
          "0 projects",
          "0 projects",
          "0 projects",
          "0 projects",
          "0 projects",
          "0 projects",
          "0 projects",
          "0 projects",
          "0 projects",
          "0 projects",
          "0 projects",
          "0 projects",
          "0 projects",
          "0 projects",
          "0 projects",
          "0 projects",
          "0 projects",
          "0 projects",
          "0 projects",
          "0 projects",
          "0 projects",
          "0 projects",
          "0 projects",
          "0 projects",
          "0 projects",
          "0 projects",
          "0 projects",
          "0 projects",
          "0 projects",
          "0 projects",
          "0 projects",
          "0 projects",
          "0 projects",
          "0 projects",
          "0 projects",
          "0 projects",
          "0 projects",
          "0 projects",
          "0 projects",
          "0 projects",
          "0 projects",
          "0 projects",
          "0 projects",
          "0 projects",
          "0 projects",
          "0 projects",
          "0 projects",
          "0 projects",
          "0 projects",
          "0 projects",
          "0 projects",
          "0 projects",
          "0 projects",
          "0 projects",
          "0 projects",
          "0 projects",
          "0 projects",
          "0 projects",
          "0 projects",
          "0 projects",
          "0 projects",
          "0 projects",
          "0 projects",
          "0 projects",
          "0 projects",
          "0 projects",
          "0 projects",
          "0 projects",
          "0 projects",
          "0 projects",
          "0 projects",
          "0 projects",
          "0 projects",
          "0 projects",
          "0 projects",
          "0 projects",
          "0 projects",
          "0 projects",
          "0 projects",
          "0 projects",
          "0 projects",
          "0 projects",
          "0 projects",
          "0 projects",
          "0 projects",
          "0 projects",
          "0 projects",
          "0 projects",
          "0 projects",
          "0 projects",
          "0 projects",
          "0 projects",
          "0 projects",
          "0 projects",
          "0 projects",
          "0 projects",
          "0 projects",
          "0 projects",
          "0 projects",
          "0 projects",
          "0 projects",
          "0 projects",
          "0 projects",
          "0 projects",
          "0 projects",
          "0 projects",
          "0 projects",
          "0 projects",
          "0 projects",
          "0 projects",
          "0 projects",
          "0 projects",
          "0 projects",
          "0 projects",
          "0 projects",
          "0 projects",
          "0 projects",
          "0 projects",
          "0 projects",
          "0 projects",
          "0 projects",
          "0 projects",
          "0 projects",
          "0 projects",
          "0 projects",
          "0 projects",
          "0 projects"
         ],
         "y": [
          55,
          55,
          55,
          56,
          55.5,
          55,
          55.5,
          55,
          55,
          55,
          55,
          54,
          55,
          56,
          55,
          55,
          55,
          55,
          56,
          55,
          56,
          55,
          55,
          57,
          55,
          55,
          55,
          60,
          60,
          80,
          54.5,
          50.5,
          55,
          51,
          54,
          48.5,
          42,
          55,
          53,
          38.5,
          52,
          53,
          55,
          33.5,
          23,
          16,
          21,
          20,
          18,
          16,
          20,
          24,
          15,
          22,
          22,
          24,
          15,
          20,
          21,
          22,
          16,
          24.75,
          22,
          24,
          16,
          16,
          21,
          23,
          15,
          18,
          17,
          16,
          24,
          22,
          17,
          20,
          15,
          16.75,
          19,
          15,
          20,
          17,
          20,
          19,
          17,
          17,
          21,
          22,
          15,
          21,
          22,
          19.5,
          15,
          18,
          22,
          21,
          21,
          20,
          15,
          18,
          20,
          21,
          14,
          15,
          16.76,
          20,
          15.75,
          21.25,
          21,
          24,
          14,
          19,
          15,
          14,
          16,
          16,
          20,
          22,
          21,
          22,
          22,
          22,
          21,
          23,
          17,
          19,
          14,
          17,
          21,
          17,
          16,
          24.5,
          20,
          16,
          22,
          20,
          15,
          17,
          18,
          24,
          21,
          19,
          24,
          18.5,
          19,
          16,
          18,
          14,
          19,
          20,
          18,
          16,
          19.75,
          17,
          19,
          24,
          17,
          19,
          15.25,
          20,
          22,
          21,
          21,
          19,
          20,
          16,
          17,
          22,
          23.5,
          20,
          15,
          19.75,
          22,
          19,
          18,
          24,
          22,
          15.2,
          15,
          23,
          25,
          29,
          23,
          23,
          28,
          22,
          25,
          29,
          25,
          25,
          26,
          29,
          26,
          24.25,
          22,
          27,
          26,
          22,
          26,
          27,
          25,
          26.1,
          26.39,
          22,
          28.75,
          27,
          29,
          24,
          24,
          22,
          26,
          29,
          26,
          24,
          22.5,
          26,
          29,
          22,
          29,
          25,
          27,
          28,
          25,
          22,
          24.25,
          27,
          24,
          28,
          24,
          29,
          23,
          22,
          24,
          28,
          23,
          25,
          23,
          54,
          60.25,
          56,
          55,
          55
         ]
        },
        {
         "box": {
          "visible": true
         },
         "meanline": {
          "visible": true
         },
         "name": "2 or 3 projects",
         "text": [
          "Software Engineering",
          "Admin Offices",
          "Admin Offices"
         ],
         "type": "violin",
         "x": [
          "2 or 3 projects",
          "2 or 3 projects",
          "2 or 3 projects"
         ],
         "y": [
          52.25,
          34.95,
          34.95
         ]
        },
        {
         "box": {
          "visible": true
         },
         "meanline": {
          "visible": true
         },
         "name": "4 projects",
         "text": [
          "Admin Offices",
          "Admin Offices",
          "Admin Offices",
          "IT/IS",
          "Software Engineering",
          "Software Engineering",
          "Software Engineering",
          "Software Engineering",
          "IT/IS"
         ],
         "type": "violin",
         "x": [
          "4 projects",
          "4 projects",
          "4 projects",
          "4 projects",
          "4 projects",
          "4 projects",
          "4 projects",
          "4 projects",
          "4 projects"
         ],
         "y": [
          23,
          21.5,
          20.5,
          48.5,
          47.6,
          48.5,
          55.51,
          45.42,
          53
         ]
        },
        {
         "box": {
          "visible": true
         },
         "meanline": {
          "visible": true
         },
         "name": "5 projects",
         "text": [
          "Admin Offices",
          "Admin Offices",
          "IT/IS",
          "IT/IS",
          "IT/IS",
          "IT/IS",
          "IT/IS",
          "IT/IS",
          "IT/IS",
          "IT/IS",
          "IT/IS",
          "IT/IS",
          "IT/IS",
          "IT/IS",
          "IT/IS",
          "IT/IS",
          "IT/IS",
          "Software Engineering",
          "Software Engineering",
          "Software Engineering",
          "IT/IS"
         ],
         "type": "violin",
         "x": [
          "5 projects",
          "5 projects",
          "5 projects",
          "5 projects",
          "5 projects",
          "5 projects",
          "5 projects",
          "5 projects",
          "5 projects",
          "5 projects",
          "5 projects",
          "5 projects",
          "5 projects",
          "5 projects",
          "5 projects",
          "5 projects",
          "5 projects",
          "5 projects",
          "5 projects",
          "5 projects",
          "5 projects"
         ],
         "y": [
          29,
          16.56,
          45,
          55,
          43,
          40,
          35.5,
          41,
          45,
          31.4,
          65,
          64,
          31.4,
          26,
          27.49,
          39,
          28,
          57.12,
          48,
          27,
          53.8
         ]
        },
        {
         "box": {
          "visible": true
         },
         "meanline": {
          "visible": true
         },
         "name": "6 projects",
         "text": [
          "Admin Offices",
          "IT/IS",
          "IT/IS",
          "IT/IS",
          "IT/IS",
          "IT/IS",
          "IT/IS",
          "IT/IS",
          "IT/IS",
          "IT/IS",
          "IT/IS",
          "IT/IS",
          "IT/IS",
          "IT/IS",
          "IT/IS",
          "IT/IS",
          "Software Engineering",
          "Software Engineering",
          "IT/IS",
          "IT/IS",
          "IT/IS"
         ],
         "type": "violin",
         "x": [
          "6 projects",
          "6 projects",
          "6 projects",
          "6 projects",
          "6 projects",
          "6 projects",
          "6 projects",
          "6 projects",
          "6 projects",
          "6 projects",
          "6 projects",
          "6 projects",
          "6 projects",
          "6 projects",
          "6 projects",
          "6 projects",
          "6 projects",
          "6 projects",
          "6 projects",
          "6 projects",
          "6 projects"
         ],
         "y": [
          28.5,
          45,
          45,
          65,
          34,
          39.55,
          42.2,
          21,
          63,
          28.99,
          45,
          37,
          43,
          27,
          47,
          52.25,
          56,
          49.25,
          62,
          61.3,
          56.2
         ]
        },
        {
         "box": {
          "visible": true
         },
         "meanline": {
          "visible": true
         },
         "name": "7 or more projects",
         "text": [
          "IT/IS",
          "IT/IS",
          "IT/IS",
          "IT/IS",
          "IT/IS",
          "IT/IS",
          "IT/IS",
          "IT/IS",
          "IT/IS",
          "IT/IS",
          "IT/IS",
          "IT/IS",
          "IT/IS",
          "IT/IS"
         ],
         "type": "violin",
         "x": [
          "7 or more projects",
          "7 or more projects",
          "7 or more projects",
          "7 or more projects",
          "7 or more projects",
          "7 or more projects",
          "7 or more projects",
          "7 or more projects",
          "7 or more projects",
          "7 or more projects",
          "7 or more projects",
          "7 or more projects",
          "7 or more projects",
          "7 or more projects"
         ],
         "y": [
          46,
          63.5,
          40.1,
          42.75,
          30.2,
          62,
          42,
          49.1,
          50.25,
          51,
          58.2,
          58.5,
          54.1,
          55.2
         ]
        }
       ],
       "layout": {
        "template": {
         "data": {
          "bar": [
           {
            "error_x": {
             "color": "#2a3f5f"
            },
            "error_y": {
             "color": "#2a3f5f"
            },
            "marker": {
             "line": {
              "color": "#E5ECF6",
              "width": 0.5
             }
            },
            "type": "bar"
           }
          ],
          "barpolar": [
           {
            "marker": {
             "line": {
              "color": "#E5ECF6",
              "width": 0.5
             }
            },
            "type": "barpolar"
           }
          ],
          "carpet": [
           {
            "aaxis": {
             "endlinecolor": "#2a3f5f",
             "gridcolor": "white",
             "linecolor": "white",
             "minorgridcolor": "white",
             "startlinecolor": "#2a3f5f"
            },
            "baxis": {
             "endlinecolor": "#2a3f5f",
             "gridcolor": "white",
             "linecolor": "white",
             "minorgridcolor": "white",
             "startlinecolor": "#2a3f5f"
            },
            "type": "carpet"
           }
          ],
          "choropleth": [
           {
            "colorbar": {
             "outlinewidth": 0,
             "ticks": ""
            },
            "type": "choropleth"
           }
          ],
          "contour": [
           {
            "colorbar": {
             "outlinewidth": 0,
             "ticks": ""
            },
            "colorscale": [
             [
              0,
              "#0d0887"
             ],
             [
              0.1111111111111111,
              "#46039f"
             ],
             [
              0.2222222222222222,
              "#7201a8"
             ],
             [
              0.3333333333333333,
              "#9c179e"
             ],
             [
              0.4444444444444444,
              "#bd3786"
             ],
             [
              0.5555555555555556,
              "#d8576b"
             ],
             [
              0.6666666666666666,
              "#ed7953"
             ],
             [
              0.7777777777777778,
              "#fb9f3a"
             ],
             [
              0.8888888888888888,
              "#fdca26"
             ],
             [
              1,
              "#f0f921"
             ]
            ],
            "type": "contour"
           }
          ],
          "contourcarpet": [
           {
            "colorbar": {
             "outlinewidth": 0,
             "ticks": ""
            },
            "type": "contourcarpet"
           }
          ],
          "heatmap": [
           {
            "colorbar": {
             "outlinewidth": 0,
             "ticks": ""
            },
            "colorscale": [
             [
              0,
              "#0d0887"
             ],
             [
              0.1111111111111111,
              "#46039f"
             ],
             [
              0.2222222222222222,
              "#7201a8"
             ],
             [
              0.3333333333333333,
              "#9c179e"
             ],
             [
              0.4444444444444444,
              "#bd3786"
             ],
             [
              0.5555555555555556,
              "#d8576b"
             ],
             [
              0.6666666666666666,
              "#ed7953"
             ],
             [
              0.7777777777777778,
              "#fb9f3a"
             ],
             [
              0.8888888888888888,
              "#fdca26"
             ],
             [
              1,
              "#f0f921"
             ]
            ],
            "type": "heatmap"
           }
          ],
          "heatmapgl": [
           {
            "colorbar": {
             "outlinewidth": 0,
             "ticks": ""
            },
            "colorscale": [
             [
              0,
              "#0d0887"
             ],
             [
              0.1111111111111111,
              "#46039f"
             ],
             [
              0.2222222222222222,
              "#7201a8"
             ],
             [
              0.3333333333333333,
              "#9c179e"
             ],
             [
              0.4444444444444444,
              "#bd3786"
             ],
             [
              0.5555555555555556,
              "#d8576b"
             ],
             [
              0.6666666666666666,
              "#ed7953"
             ],
             [
              0.7777777777777778,
              "#fb9f3a"
             ],
             [
              0.8888888888888888,
              "#fdca26"
             ],
             [
              1,
              "#f0f921"
             ]
            ],
            "type": "heatmapgl"
           }
          ],
          "histogram": [
           {
            "marker": {
             "colorbar": {
              "outlinewidth": 0,
              "ticks": ""
             }
            },
            "type": "histogram"
           }
          ],
          "histogram2d": [
           {
            "colorbar": {
             "outlinewidth": 0,
             "ticks": ""
            },
            "colorscale": [
             [
              0,
              "#0d0887"
             ],
             [
              0.1111111111111111,
              "#46039f"
             ],
             [
              0.2222222222222222,
              "#7201a8"
             ],
             [
              0.3333333333333333,
              "#9c179e"
             ],
             [
              0.4444444444444444,
              "#bd3786"
             ],
             [
              0.5555555555555556,
              "#d8576b"
             ],
             [
              0.6666666666666666,
              "#ed7953"
             ],
             [
              0.7777777777777778,
              "#fb9f3a"
             ],
             [
              0.8888888888888888,
              "#fdca26"
             ],
             [
              1,
              "#f0f921"
             ]
            ],
            "type": "histogram2d"
           }
          ],
          "histogram2dcontour": [
           {
            "colorbar": {
             "outlinewidth": 0,
             "ticks": ""
            },
            "colorscale": [
             [
              0,
              "#0d0887"
             ],
             [
              0.1111111111111111,
              "#46039f"
             ],
             [
              0.2222222222222222,
              "#7201a8"
             ],
             [
              0.3333333333333333,
              "#9c179e"
             ],
             [
              0.4444444444444444,
              "#bd3786"
             ],
             [
              0.5555555555555556,
              "#d8576b"
             ],
             [
              0.6666666666666666,
              "#ed7953"
             ],
             [
              0.7777777777777778,
              "#fb9f3a"
             ],
             [
              0.8888888888888888,
              "#fdca26"
             ],
             [
              1,
              "#f0f921"
             ]
            ],
            "type": "histogram2dcontour"
           }
          ],
          "mesh3d": [
           {
            "colorbar": {
             "outlinewidth": 0,
             "ticks": ""
            },
            "type": "mesh3d"
           }
          ],
          "parcoords": [
           {
            "line": {
             "colorbar": {
              "outlinewidth": 0,
              "ticks": ""
             }
            },
            "type": "parcoords"
           }
          ],
          "pie": [
           {
            "automargin": true,
            "type": "pie"
           }
          ],
          "scatter": [
           {
            "marker": {
             "colorbar": {
              "outlinewidth": 0,
              "ticks": ""
             }
            },
            "type": "scatter"
           }
          ],
          "scatter3d": [
           {
            "line": {
             "colorbar": {
              "outlinewidth": 0,
              "ticks": ""
             }
            },
            "marker": {
             "colorbar": {
              "outlinewidth": 0,
              "ticks": ""
             }
            },
            "type": "scatter3d"
           }
          ],
          "scattercarpet": [
           {
            "marker": {
             "colorbar": {
              "outlinewidth": 0,
              "ticks": ""
             }
            },
            "type": "scattercarpet"
           }
          ],
          "scattergeo": [
           {
            "marker": {
             "colorbar": {
              "outlinewidth": 0,
              "ticks": ""
             }
            },
            "type": "scattergeo"
           }
          ],
          "scattergl": [
           {
            "marker": {
             "colorbar": {
              "outlinewidth": 0,
              "ticks": ""
             }
            },
            "type": "scattergl"
           }
          ],
          "scattermapbox": [
           {
            "marker": {
             "colorbar": {
              "outlinewidth": 0,
              "ticks": ""
             }
            },
            "type": "scattermapbox"
           }
          ],
          "scatterpolar": [
           {
            "marker": {
             "colorbar": {
              "outlinewidth": 0,
              "ticks": ""
             }
            },
            "type": "scatterpolar"
           }
          ],
          "scatterpolargl": [
           {
            "marker": {
             "colorbar": {
              "outlinewidth": 0,
              "ticks": ""
             }
            },
            "type": "scatterpolargl"
           }
          ],
          "scatterternary": [
           {
            "marker": {
             "colorbar": {
              "outlinewidth": 0,
              "ticks": ""
             }
            },
            "type": "scatterternary"
           }
          ],
          "surface": [
           {
            "colorbar": {
             "outlinewidth": 0,
             "ticks": ""
            },
            "colorscale": [
             [
              0,
              "#0d0887"
             ],
             [
              0.1111111111111111,
              "#46039f"
             ],
             [
              0.2222222222222222,
              "#7201a8"
             ],
             [
              0.3333333333333333,
              "#9c179e"
             ],
             [
              0.4444444444444444,
              "#bd3786"
             ],
             [
              0.5555555555555556,
              "#d8576b"
             ],
             [
              0.6666666666666666,
              "#ed7953"
             ],
             [
              0.7777777777777778,
              "#fb9f3a"
             ],
             [
              0.8888888888888888,
              "#fdca26"
             ],
             [
              1,
              "#f0f921"
             ]
            ],
            "type": "surface"
           }
          ],
          "table": [
           {
            "cells": {
             "fill": {
              "color": "#EBF0F8"
             },
             "line": {
              "color": "white"
             }
            },
            "header": {
             "fill": {
              "color": "#C8D4E3"
             },
             "line": {
              "color": "white"
             }
            },
            "type": "table"
           }
          ]
         },
         "layout": {
          "annotationdefaults": {
           "arrowcolor": "#2a3f5f",
           "arrowhead": 0,
           "arrowwidth": 1
          },
          "coloraxis": {
           "colorbar": {
            "outlinewidth": 0,
            "ticks": ""
           }
          },
          "colorscale": {
           "diverging": [
            [
             0,
             "#8e0152"
            ],
            [
             0.1,
             "#c51b7d"
            ],
            [
             0.2,
             "#de77ae"
            ],
            [
             0.3,
             "#f1b6da"
            ],
            [
             0.4,
             "#fde0ef"
            ],
            [
             0.5,
             "#f7f7f7"
            ],
            [
             0.6,
             "#e6f5d0"
            ],
            [
             0.7,
             "#b8e186"
            ],
            [
             0.8,
             "#7fbc41"
            ],
            [
             0.9,
             "#4d9221"
            ],
            [
             1,
             "#276419"
            ]
           ],
           "sequential": [
            [
             0,
             "#0d0887"
            ],
            [
             0.1111111111111111,
             "#46039f"
            ],
            [
             0.2222222222222222,
             "#7201a8"
            ],
            [
             0.3333333333333333,
             "#9c179e"
            ],
            [
             0.4444444444444444,
             "#bd3786"
            ],
            [
             0.5555555555555556,
             "#d8576b"
            ],
            [
             0.6666666666666666,
             "#ed7953"
            ],
            [
             0.7777777777777778,
             "#fb9f3a"
            ],
            [
             0.8888888888888888,
             "#fdca26"
            ],
            [
             1,
             "#f0f921"
            ]
           ],
           "sequentialminus": [
            [
             0,
             "#0d0887"
            ],
            [
             0.1111111111111111,
             "#46039f"
            ],
            [
             0.2222222222222222,
             "#7201a8"
            ],
            [
             0.3333333333333333,
             "#9c179e"
            ],
            [
             0.4444444444444444,
             "#bd3786"
            ],
            [
             0.5555555555555556,
             "#d8576b"
            ],
            [
             0.6666666666666666,
             "#ed7953"
            ],
            [
             0.7777777777777778,
             "#fb9f3a"
            ],
            [
             0.8888888888888888,
             "#fdca26"
            ],
            [
             1,
             "#f0f921"
            ]
           ]
          },
          "colorway": [
           "#636efa",
           "#EF553B",
           "#00cc96",
           "#ab63fa",
           "#FFA15A",
           "#19d3f3",
           "#FF6692",
           "#B6E880",
           "#FF97FF",
           "#FECB52"
          ],
          "font": {
           "color": "#2a3f5f"
          },
          "geo": {
           "bgcolor": "white",
           "lakecolor": "white",
           "landcolor": "#E5ECF6",
           "showlakes": true,
           "showland": true,
           "subunitcolor": "white"
          },
          "hoverlabel": {
           "align": "left"
          },
          "hovermode": "closest",
          "mapbox": {
           "style": "light"
          },
          "paper_bgcolor": "white",
          "plot_bgcolor": "#E5ECF6",
          "polar": {
           "angularaxis": {
            "gridcolor": "white",
            "linecolor": "white",
            "ticks": ""
           },
           "bgcolor": "#E5ECF6",
           "radialaxis": {
            "gridcolor": "white",
            "linecolor": "white",
            "ticks": ""
           }
          },
          "scene": {
           "xaxis": {
            "backgroundcolor": "#E5ECF6",
            "gridcolor": "white",
            "gridwidth": 2,
            "linecolor": "white",
            "showbackground": true,
            "ticks": "",
            "zerolinecolor": "white"
           },
           "yaxis": {
            "backgroundcolor": "#E5ECF6",
            "gridcolor": "white",
            "gridwidth": 2,
            "linecolor": "white",
            "showbackground": true,
            "ticks": "",
            "zerolinecolor": "white"
           },
           "zaxis": {
            "backgroundcolor": "#E5ECF6",
            "gridcolor": "white",
            "gridwidth": 2,
            "linecolor": "white",
            "showbackground": true,
            "ticks": "",
            "zerolinecolor": "white"
           }
          },
          "shapedefaults": {
           "line": {
            "color": "#2a3f5f"
           }
          },
          "ternary": {
           "aaxis": {
            "gridcolor": "white",
            "linecolor": "white",
            "ticks": ""
           },
           "baxis": {
            "gridcolor": "white",
            "linecolor": "white",
            "ticks": ""
           },
           "bgcolor": "#E5ECF6",
           "caxis": {
            "gridcolor": "white",
            "linecolor": "white",
            "ticks": ""
           }
          },
          "title": {
           "x": 0.05
          },
          "xaxis": {
           "automargin": true,
           "gridcolor": "white",
           "linecolor": "white",
           "ticks": "",
           "title": {
            "standoff": 15
           },
           "zerolinecolor": "white",
           "zerolinewidth": 2
          },
          "yaxis": {
           "automargin": true,
           "gridcolor": "white",
           "linecolor": "white",
           "ticks": "",
           "title": {
            "standoff": 15
           },
           "zerolinecolor": "white",
           "zerolinewidth": 2
          }
         }
        },
        "xaxis": {
         "ticktext": [
          "0 projects: 242",
          "2 or 3 projects: 3",
          "4 projects: 9",
          "5 projects: 21",
          "6 projects: 21",
          "7 or more projects: 14"
         ],
         "tickvals": [
          "0 projects",
          "2 or 3 projects",
          "4 projects",
          "5 projects",
          "6 projects",
          "7 or more projects"
         ]
        }
       }
      },
      "text/html": [
       "<div>\n",
       "        \n",
       "        \n",
       "            <div id=\"520b64e5-72ee-4fd7-b39b-a9b7483187cb\" class=\"plotly-graph-div\" style=\"height:525px; width:100%;\"></div>\n",
       "            <script type=\"text/javascript\">\n",
       "                require([\"plotly\"], function(Plotly) {\n",
       "                    window.PLOTLYENV=window.PLOTLYENV || {};\n",
       "                    \n",
       "                if (document.getElementById(\"520b64e5-72ee-4fd7-b39b-a9b7483187cb\")) {\n",
       "                    Plotly.newPlot(\n",
       "                        '520b64e5-72ee-4fd7-b39b-a9b7483187cb',\n",
       "                        [{\"box\": {\"visible\": true}, \"meanline\": {\"visible\": true}, \"name\": \"0 projects\", \"text\": [\"Sales\", \"Sales\", \"Sales\", \"Sales\", \"Sales\", \"Sales\", \"Sales\", \"Sales\", \"Sales\", \"Sales\", \"Sales\", \"Sales\", \"Sales\", \"Sales\", \"Sales\", \"Sales\", \"Sales\", \"Sales\", \"Sales\", \"Sales\", \"Sales\", \"Sales\", \"Sales\", \"Sales\", \"Sales\", \"Sales\", \"Sales\", \"Production\", \"Sales\", \"Executive Office\", \"Production\", \"Production\", \"Production\", \"Production\", \"Production\", \"Production\", \"Production\", \"Production\", \"Production\", \"Production\", \"Production\", \"Production\", \"Production\", \"Production\", \"Production\", \"Production\", \"Production\", \"Production\", \"Production\", \"Production\", \"Production\", \"Production\", \"Production\", \"Production\", \"Production\", \"Production\", \"Production\", \"Production\", \"Production\", \"Production\", \"Production\", \"Production\", \"Production\", \"Production\", \"Production\", \"Production\", \"Production\", \"Production\", \"Production\", \"Production\", \"Production\", \"Production\", \"Production\", \"Production\", \"Production\", \"Production\", \"Production\", \"Production\", \"Production\", \"Production\", \"Production\", \"Production\", \"Production\", \"Production\", \"Production\", \"Production\", \"Production\", \"Production\", \"Production\", \"Production\", \"Production\", \"Production\", \"Production\", \"Production\", \"Production\", \"Production\", \"Production\", \"Production\", \"Production\", \"Production\", \"Production\", \"Production\", \"Production\", \"Production\", \"Production\", \"Production\", \"Production\", \"Production\", \"Production\", \"Production\", \"Production\", \"Production\", \"Production\", \"Production\", \"Production\", \"Production\", \"Production\", \"Production\", \"Production\", \"Production\", \"Production\", \"Production\", \"Production\", \"Production\", \"Production\", \"Production\", \"Production\", \"Production\", \"Production\", \"Production\", \"Production\", \"Production\", \"Production\", \"Production\", \"Production\", \"Production\", \"Production\", \"Production\", \"Production\", \"Production\", \"Production\", \"Production\", \"Production\", \"Production\", \"Production\", \"Production\", \"Production\", \"Production\", \"Production\", \"Production\", \"Production\", \"Production\", \"Production\", \"Production\", \"Production\", \"Production\", \"Production\", \"Production\", \"Production\", \"Production\", \"Production\", \"Production\", \"Production\", \"Production\", \"Production\", \"Production\", \"Production\", \"Production\", \"Production\", \"Production\", \"Production\", \"Production\", \"Production\", \"Production\", \"Production\", \"Production\", \"Production\", \"Production\", \"Production\", \"Production\", \"Production\", \"Production\", \"Production\", \"Production\", \"Production\", \"Production\", \"Production\", \"Production\", \"Production\", \"Production\", \"Production\", \"Production\", \"Production\", \"Production\", \"Production\", \"Production\", \"Production\", \"Production\", \"Production\", \"Production\", \"Production\", \"Production\", \"Production\", \"Production\", \"Production\", \"Production\", \"Production\", \"Production\", \"Production\", \"Production\", \"Production\", \"Production\", \"Production\", \"Production\", \"Production\", \"Production\", \"Production\", \"Production\", \"Production\", \"Production\", \"Production\", \"Production\", \"Production\", \"Production\", \"Production\", \"Production\", \"Production\", \"Production\", \"Production\", \"Production\", \"Production\", \"Production\", \"Production\", \"Production\", \"Production\", \"Production\", \"Production\", \"Sales\", \"Sales\", \"Sales\", \"Admin Offices\", \"Admin Offices\"], \"type\": \"violin\", \"x\": [\"0 projects\", \"0 projects\", \"0 projects\", \"0 projects\", \"0 projects\", \"0 projects\", \"0 projects\", \"0 projects\", \"0 projects\", \"0 projects\", \"0 projects\", \"0 projects\", \"0 projects\", \"0 projects\", \"0 projects\", \"0 projects\", \"0 projects\", \"0 projects\", \"0 projects\", \"0 projects\", \"0 projects\", \"0 projects\", \"0 projects\", \"0 projects\", \"0 projects\", \"0 projects\", \"0 projects\", \"0 projects\", \"0 projects\", \"0 projects\", \"0 projects\", \"0 projects\", \"0 projects\", \"0 projects\", \"0 projects\", \"0 projects\", \"0 projects\", \"0 projects\", \"0 projects\", \"0 projects\", \"0 projects\", \"0 projects\", \"0 projects\", \"0 projects\", \"0 projects\", \"0 projects\", \"0 projects\", \"0 projects\", \"0 projects\", \"0 projects\", \"0 projects\", \"0 projects\", \"0 projects\", \"0 projects\", \"0 projects\", \"0 projects\", \"0 projects\", \"0 projects\", \"0 projects\", \"0 projects\", \"0 projects\", \"0 projects\", \"0 projects\", \"0 projects\", \"0 projects\", \"0 projects\", \"0 projects\", \"0 projects\", \"0 projects\", \"0 projects\", \"0 projects\", \"0 projects\", \"0 projects\", \"0 projects\", \"0 projects\", \"0 projects\", \"0 projects\", \"0 projects\", \"0 projects\", \"0 projects\", \"0 projects\", \"0 projects\", \"0 projects\", \"0 projects\", \"0 projects\", \"0 projects\", \"0 projects\", \"0 projects\", \"0 projects\", \"0 projects\", \"0 projects\", \"0 projects\", \"0 projects\", \"0 projects\", \"0 projects\", \"0 projects\", \"0 projects\", \"0 projects\", \"0 projects\", \"0 projects\", \"0 projects\", \"0 projects\", \"0 projects\", \"0 projects\", \"0 projects\", \"0 projects\", \"0 projects\", \"0 projects\", \"0 projects\", \"0 projects\", \"0 projects\", \"0 projects\", \"0 projects\", \"0 projects\", \"0 projects\", \"0 projects\", \"0 projects\", \"0 projects\", \"0 projects\", \"0 projects\", \"0 projects\", \"0 projects\", \"0 projects\", \"0 projects\", \"0 projects\", \"0 projects\", \"0 projects\", \"0 projects\", \"0 projects\", \"0 projects\", \"0 projects\", \"0 projects\", \"0 projects\", \"0 projects\", \"0 projects\", \"0 projects\", \"0 projects\", \"0 projects\", \"0 projects\", \"0 projects\", \"0 projects\", \"0 projects\", \"0 projects\", \"0 projects\", \"0 projects\", \"0 projects\", \"0 projects\", \"0 projects\", \"0 projects\", \"0 projects\", \"0 projects\", \"0 projects\", \"0 projects\", \"0 projects\", \"0 projects\", \"0 projects\", \"0 projects\", \"0 projects\", \"0 projects\", \"0 projects\", \"0 projects\", \"0 projects\", \"0 projects\", \"0 projects\", \"0 projects\", \"0 projects\", \"0 projects\", \"0 projects\", \"0 projects\", \"0 projects\", \"0 projects\", \"0 projects\", \"0 projects\", \"0 projects\", \"0 projects\", \"0 projects\", \"0 projects\", \"0 projects\", \"0 projects\", \"0 projects\", \"0 projects\", \"0 projects\", \"0 projects\", \"0 projects\", \"0 projects\", \"0 projects\", \"0 projects\", \"0 projects\", \"0 projects\", \"0 projects\", \"0 projects\", \"0 projects\", \"0 projects\", \"0 projects\", \"0 projects\", \"0 projects\", \"0 projects\", \"0 projects\", \"0 projects\", \"0 projects\", \"0 projects\", \"0 projects\", \"0 projects\", \"0 projects\", \"0 projects\", \"0 projects\", \"0 projects\", \"0 projects\", \"0 projects\", \"0 projects\", \"0 projects\", \"0 projects\", \"0 projects\", \"0 projects\", \"0 projects\", \"0 projects\", \"0 projects\", \"0 projects\", \"0 projects\", \"0 projects\", \"0 projects\", \"0 projects\", \"0 projects\", \"0 projects\", \"0 projects\", \"0 projects\", \"0 projects\", \"0 projects\", \"0 projects\", \"0 projects\", \"0 projects\", \"0 projects\", \"0 projects\", \"0 projects\", \"0 projects\", \"0 projects\", \"0 projects\", \"0 projects\", \"0 projects\", \"0 projects\", \"0 projects\", \"0 projects\"], \"y\": [55.0, 55.0, 55.0, 56.0, 55.5, 55.0, 55.5, 55.0, 55.0, 55.0, 55.0, 54.0, 55.0, 56.0, 55.0, 55.0, 55.0, 55.0, 56.0, 55.0, 56.0, 55.0, 55.0, 57.0, 55.0, 55.0, 55.0, 60.0, 60.0, 80.0, 54.5, 50.5, 55.0, 51.0, 54.0, 48.5, 42.0, 55.0, 53.0, 38.5, 52.0, 53.0, 55.0, 33.5, 23.0, 16.0, 21.0, 20.0, 18.0, 16.0, 20.0, 24.0, 15.0, 22.0, 22.0, 24.0, 15.0, 20.0, 21.0, 22.0, 16.0, 24.75, 22.0, 24.0, 16.0, 16.0, 21.0, 23.0, 15.0, 18.0, 17.0, 16.0, 24.0, 22.0, 17.0, 20.0, 15.0, 16.75, 19.0, 15.0, 20.0, 17.0, 20.0, 19.0, 17.0, 17.0, 21.0, 22.0, 15.0, 21.0, 22.0, 19.5, 15.0, 18.0, 22.0, 21.0, 21.0, 20.0, 15.0, 18.0, 20.0, 21.0, 14.0, 15.0, 16.76, 20.0, 15.75, 21.25, 21.0, 24.0, 14.0, 19.0, 15.0, 14.0, 16.0, 16.0, 20.0, 22.0, 21.0, 22.0, 22.0, 22.0, 21.0, 23.0, 17.0, 19.0, 14.0, 17.0, 21.0, 17.0, 16.0, 24.5, 20.0, 16.0, 22.0, 20.0, 15.0, 17.0, 18.0, 24.0, 21.0, 19.0, 24.0, 18.5, 19.0, 16.0, 18.0, 14.0, 19.0, 20.0, 18.0, 16.0, 19.75, 17.0, 19.0, 24.0, 17.0, 19.0, 15.25, 20.0, 22.0, 21.0, 21.0, 19.0, 20.0, 16.0, 17.0, 22.0, 23.5, 20.0, 15.0, 19.75, 22.0, 19.0, 18.0, 24.0, 22.0, 15.2, 15.0, 23.0, 25.0, 29.0, 23.0, 23.0, 28.0, 22.0, 25.0, 29.0, 25.0, 25.0, 26.0, 29.0, 26.0, 24.25, 22.0, 27.0, 26.0, 22.0, 26.0, 27.0, 25.0, 26.1, 26.39, 22.0, 28.75, 27.0, 29.0, 24.0, 24.0, 22.0, 26.0, 29.0, 26.0, 24.0, 22.5, 26.0, 29.0, 22.0, 29.0, 25.0, 27.0, 28.0, 25.0, 22.0, 24.25, 27.0, 24.0, 28.0, 24.0, 29.0, 23.0, 22.0, 24.0, 28.0, 23.0, 25.0, 23.0, 54.0, 60.25, 56.0, 55.0, 55.0]}, {\"box\": {\"visible\": true}, \"meanline\": {\"visible\": true}, \"name\": \"2 or 3 projects\", \"text\": [\"Software Engineering\", \"Admin Offices\", \"Admin Offices\"], \"type\": \"violin\", \"x\": [\"2 or 3 projects\", \"2 or 3 projects\", \"2 or 3 projects\"], \"y\": [52.25, 34.95, 34.95]}, {\"box\": {\"visible\": true}, \"meanline\": {\"visible\": true}, \"name\": \"4 projects\", \"text\": [\"Admin Offices\", \"Admin Offices\", \"Admin Offices\", \"IT/IS\", \"Software Engineering\", \"Software Engineering\", \"Software Engineering\", \"Software Engineering\", \"IT/IS\"], \"type\": \"violin\", \"x\": [\"4 projects\", \"4 projects\", \"4 projects\", \"4 projects\", \"4 projects\", \"4 projects\", \"4 projects\", \"4 projects\", \"4 projects\"], \"y\": [23.0, 21.5, 20.5, 48.5, 47.6, 48.5, 55.51, 45.42, 53.0]}, {\"box\": {\"visible\": true}, \"meanline\": {\"visible\": true}, \"name\": \"5 projects\", \"text\": [\"Admin Offices\", \"Admin Offices\", \"IT/IS\", \"IT/IS\", \"IT/IS\", \"IT/IS\", \"IT/IS\", \"IT/IS\", \"IT/IS\", \"IT/IS\", \"IT/IS\", \"IT/IS\", \"IT/IS\", \"IT/IS\", \"IT/IS\", \"IT/IS\", \"IT/IS\", \"Software Engineering\", \"Software Engineering\", \"Software Engineering\", \"IT/IS\"], \"type\": \"violin\", \"x\": [\"5 projects\", \"5 projects\", \"5 projects\", \"5 projects\", \"5 projects\", \"5 projects\", \"5 projects\", \"5 projects\", \"5 projects\", \"5 projects\", \"5 projects\", \"5 projects\", \"5 projects\", \"5 projects\", \"5 projects\", \"5 projects\", \"5 projects\", \"5 projects\", \"5 projects\", \"5 projects\", \"5 projects\"], \"y\": [29.0, 16.56, 45.0, 55.0, 43.0, 40.0, 35.5, 41.0, 45.0, 31.4, 65.0, 64.0, 31.4, 26.0, 27.49, 39.0, 28.0, 57.12, 48.0, 27.0, 53.8]}, {\"box\": {\"visible\": true}, \"meanline\": {\"visible\": true}, \"name\": \"6 projects\", \"text\": [\"Admin Offices\", \"IT/IS\", \"IT/IS\", \"IT/IS\", \"IT/IS\", \"IT/IS\", \"IT/IS\", \"IT/IS\", \"IT/IS\", \"IT/IS\", \"IT/IS\", \"IT/IS\", \"IT/IS\", \"IT/IS\", \"IT/IS\", \"IT/IS\", \"Software Engineering\", \"Software Engineering\", \"IT/IS\", \"IT/IS\", \"IT/IS\"], \"type\": \"violin\", \"x\": [\"6 projects\", \"6 projects\", \"6 projects\", \"6 projects\", \"6 projects\", \"6 projects\", \"6 projects\", \"6 projects\", \"6 projects\", \"6 projects\", \"6 projects\", \"6 projects\", \"6 projects\", \"6 projects\", \"6 projects\", \"6 projects\", \"6 projects\", \"6 projects\", \"6 projects\", \"6 projects\", \"6 projects\"], \"y\": [28.5, 45.0, 45.0, 65.0, 34.0, 39.55, 42.2, 21.0, 63.0, 28.99, 45.0, 37.0, 43.0, 27.0, 47.0, 52.25, 56.0, 49.25, 62.0, 61.3, 56.2]}, {\"box\": {\"visible\": true}, \"meanline\": {\"visible\": true}, \"name\": \"7 or more projects\", \"text\": [\"IT/IS\", \"IT/IS\", \"IT/IS\", \"IT/IS\", \"IT/IS\", \"IT/IS\", \"IT/IS\", \"IT/IS\", \"IT/IS\", \"IT/IS\", \"IT/IS\", \"IT/IS\", \"IT/IS\", \"IT/IS\"], \"type\": \"violin\", \"x\": [\"7 or more projects\", \"7 or more projects\", \"7 or more projects\", \"7 or more projects\", \"7 or more projects\", \"7 or more projects\", \"7 or more projects\", \"7 or more projects\", \"7 or more projects\", \"7 or more projects\", \"7 or more projects\", \"7 or more projects\", \"7 or more projects\", \"7 or more projects\"], \"y\": [46.0, 63.5, 40.1, 42.75, 30.2, 62.0, 42.0, 49.1, 50.25, 51.0, 58.2, 58.5, 54.1, 55.2]}],\n",
       "                        {\"template\": {\"data\": {\"bar\": [{\"error_x\": {\"color\": \"#2a3f5f\"}, \"error_y\": {\"color\": \"#2a3f5f\"}, \"marker\": {\"line\": {\"color\": \"#E5ECF6\", \"width\": 0.5}}, \"type\": \"bar\"}], \"barpolar\": [{\"marker\": {\"line\": {\"color\": \"#E5ECF6\", \"width\": 0.5}}, \"type\": \"barpolar\"}], \"carpet\": [{\"aaxis\": {\"endlinecolor\": \"#2a3f5f\", \"gridcolor\": \"white\", \"linecolor\": \"white\", \"minorgridcolor\": \"white\", \"startlinecolor\": \"#2a3f5f\"}, \"baxis\": {\"endlinecolor\": \"#2a3f5f\", \"gridcolor\": \"white\", \"linecolor\": \"white\", \"minorgridcolor\": \"white\", \"startlinecolor\": \"#2a3f5f\"}, \"type\": \"carpet\"}], \"choropleth\": [{\"colorbar\": {\"outlinewidth\": 0, \"ticks\": \"\"}, \"type\": \"choropleth\"}], \"contour\": [{\"colorbar\": {\"outlinewidth\": 0, \"ticks\": \"\"}, \"colorscale\": [[0.0, \"#0d0887\"], [0.1111111111111111, \"#46039f\"], [0.2222222222222222, \"#7201a8\"], [0.3333333333333333, \"#9c179e\"], [0.4444444444444444, \"#bd3786\"], [0.5555555555555556, \"#d8576b\"], [0.6666666666666666, \"#ed7953\"], [0.7777777777777778, \"#fb9f3a\"], [0.8888888888888888, \"#fdca26\"], [1.0, \"#f0f921\"]], \"type\": \"contour\"}], \"contourcarpet\": [{\"colorbar\": {\"outlinewidth\": 0, \"ticks\": \"\"}, \"type\": \"contourcarpet\"}], \"heatmap\": [{\"colorbar\": {\"outlinewidth\": 0, \"ticks\": \"\"}, \"colorscale\": [[0.0, \"#0d0887\"], [0.1111111111111111, \"#46039f\"], [0.2222222222222222, \"#7201a8\"], [0.3333333333333333, \"#9c179e\"], [0.4444444444444444, \"#bd3786\"], [0.5555555555555556, \"#d8576b\"], [0.6666666666666666, \"#ed7953\"], [0.7777777777777778, \"#fb9f3a\"], [0.8888888888888888, \"#fdca26\"], [1.0, \"#f0f921\"]], \"type\": \"heatmap\"}], \"heatmapgl\": [{\"colorbar\": {\"outlinewidth\": 0, \"ticks\": \"\"}, \"colorscale\": [[0.0, \"#0d0887\"], [0.1111111111111111, \"#46039f\"], [0.2222222222222222, \"#7201a8\"], [0.3333333333333333, \"#9c179e\"], [0.4444444444444444, \"#bd3786\"], [0.5555555555555556, \"#d8576b\"], [0.6666666666666666, \"#ed7953\"], [0.7777777777777778, \"#fb9f3a\"], [0.8888888888888888, \"#fdca26\"], [1.0, \"#f0f921\"]], \"type\": \"heatmapgl\"}], \"histogram\": [{\"marker\": {\"colorbar\": {\"outlinewidth\": 0, \"ticks\": \"\"}}, \"type\": \"histogram\"}], \"histogram2d\": [{\"colorbar\": {\"outlinewidth\": 0, \"ticks\": \"\"}, \"colorscale\": [[0.0, \"#0d0887\"], [0.1111111111111111, \"#46039f\"], [0.2222222222222222, \"#7201a8\"], [0.3333333333333333, \"#9c179e\"], [0.4444444444444444, \"#bd3786\"], [0.5555555555555556, \"#d8576b\"], [0.6666666666666666, \"#ed7953\"], [0.7777777777777778, \"#fb9f3a\"], [0.8888888888888888, \"#fdca26\"], [1.0, \"#f0f921\"]], \"type\": \"histogram2d\"}], \"histogram2dcontour\": [{\"colorbar\": {\"outlinewidth\": 0, \"ticks\": \"\"}, \"colorscale\": [[0.0, \"#0d0887\"], [0.1111111111111111, \"#46039f\"], [0.2222222222222222, \"#7201a8\"], [0.3333333333333333, \"#9c179e\"], [0.4444444444444444, \"#bd3786\"], [0.5555555555555556, \"#d8576b\"], [0.6666666666666666, \"#ed7953\"], [0.7777777777777778, \"#fb9f3a\"], [0.8888888888888888, \"#fdca26\"], [1.0, \"#f0f921\"]], \"type\": \"histogram2dcontour\"}], \"mesh3d\": [{\"colorbar\": {\"outlinewidth\": 0, \"ticks\": \"\"}, \"type\": \"mesh3d\"}], \"parcoords\": [{\"line\": {\"colorbar\": {\"outlinewidth\": 0, \"ticks\": \"\"}}, \"type\": \"parcoords\"}], \"pie\": [{\"automargin\": true, \"type\": \"pie\"}], \"scatter\": [{\"marker\": {\"colorbar\": {\"outlinewidth\": 0, \"ticks\": \"\"}}, \"type\": \"scatter\"}], \"scatter3d\": [{\"line\": {\"colorbar\": {\"outlinewidth\": 0, \"ticks\": \"\"}}, \"marker\": {\"colorbar\": {\"outlinewidth\": 0, \"ticks\": \"\"}}, \"type\": \"scatter3d\"}], \"scattercarpet\": [{\"marker\": {\"colorbar\": {\"outlinewidth\": 0, \"ticks\": \"\"}}, \"type\": \"scattercarpet\"}], \"scattergeo\": [{\"marker\": {\"colorbar\": {\"outlinewidth\": 0, \"ticks\": \"\"}}, \"type\": \"scattergeo\"}], \"scattergl\": [{\"marker\": {\"colorbar\": {\"outlinewidth\": 0, \"ticks\": \"\"}}, \"type\": \"scattergl\"}], \"scattermapbox\": [{\"marker\": {\"colorbar\": {\"outlinewidth\": 0, \"ticks\": \"\"}}, \"type\": \"scattermapbox\"}], \"scatterpolar\": [{\"marker\": {\"colorbar\": {\"outlinewidth\": 0, \"ticks\": \"\"}}, \"type\": \"scatterpolar\"}], \"scatterpolargl\": [{\"marker\": {\"colorbar\": {\"outlinewidth\": 0, \"ticks\": \"\"}}, \"type\": \"scatterpolargl\"}], \"scatterternary\": [{\"marker\": {\"colorbar\": {\"outlinewidth\": 0, \"ticks\": \"\"}}, \"type\": \"scatterternary\"}], \"surface\": [{\"colorbar\": {\"outlinewidth\": 0, \"ticks\": \"\"}, \"colorscale\": [[0.0, \"#0d0887\"], [0.1111111111111111, \"#46039f\"], [0.2222222222222222, \"#7201a8\"], [0.3333333333333333, \"#9c179e\"], [0.4444444444444444, \"#bd3786\"], [0.5555555555555556, \"#d8576b\"], [0.6666666666666666, \"#ed7953\"], [0.7777777777777778, \"#fb9f3a\"], [0.8888888888888888, \"#fdca26\"], [1.0, \"#f0f921\"]], \"type\": \"surface\"}], \"table\": [{\"cells\": {\"fill\": {\"color\": \"#EBF0F8\"}, \"line\": {\"color\": \"white\"}}, \"header\": {\"fill\": {\"color\": \"#C8D4E3\"}, \"line\": {\"color\": \"white\"}}, \"type\": \"table\"}]}, \"layout\": {\"annotationdefaults\": {\"arrowcolor\": \"#2a3f5f\", \"arrowhead\": 0, \"arrowwidth\": 1}, \"coloraxis\": {\"colorbar\": {\"outlinewidth\": 0, \"ticks\": \"\"}}, \"colorscale\": {\"diverging\": [[0, \"#8e0152\"], [0.1, \"#c51b7d\"], [0.2, \"#de77ae\"], [0.3, \"#f1b6da\"], [0.4, \"#fde0ef\"], [0.5, \"#f7f7f7\"], [0.6, \"#e6f5d0\"], [0.7, \"#b8e186\"], [0.8, \"#7fbc41\"], [0.9, \"#4d9221\"], [1, \"#276419\"]], \"sequential\": [[0.0, \"#0d0887\"], [0.1111111111111111, \"#46039f\"], [0.2222222222222222, \"#7201a8\"], [0.3333333333333333, \"#9c179e\"], [0.4444444444444444, \"#bd3786\"], [0.5555555555555556, \"#d8576b\"], [0.6666666666666666, \"#ed7953\"], [0.7777777777777778, \"#fb9f3a\"], [0.8888888888888888, \"#fdca26\"], [1.0, \"#f0f921\"]], \"sequentialminus\": [[0.0, \"#0d0887\"], [0.1111111111111111, \"#46039f\"], [0.2222222222222222, \"#7201a8\"], [0.3333333333333333, \"#9c179e\"], [0.4444444444444444, \"#bd3786\"], [0.5555555555555556, \"#d8576b\"], [0.6666666666666666, \"#ed7953\"], [0.7777777777777778, \"#fb9f3a\"], [0.8888888888888888, \"#fdca26\"], [1.0, \"#f0f921\"]]}, \"colorway\": [\"#636efa\", \"#EF553B\", \"#00cc96\", \"#ab63fa\", \"#FFA15A\", \"#19d3f3\", \"#FF6692\", \"#B6E880\", \"#FF97FF\", \"#FECB52\"], \"font\": {\"color\": \"#2a3f5f\"}, \"geo\": {\"bgcolor\": \"white\", \"lakecolor\": \"white\", \"landcolor\": \"#E5ECF6\", \"showlakes\": true, \"showland\": true, \"subunitcolor\": \"white\"}, \"hoverlabel\": {\"align\": \"left\"}, \"hovermode\": \"closest\", \"mapbox\": {\"style\": \"light\"}, \"paper_bgcolor\": \"white\", \"plot_bgcolor\": \"#E5ECF6\", \"polar\": {\"angularaxis\": {\"gridcolor\": \"white\", \"linecolor\": \"white\", \"ticks\": \"\"}, \"bgcolor\": \"#E5ECF6\", \"radialaxis\": {\"gridcolor\": \"white\", \"linecolor\": \"white\", \"ticks\": \"\"}}, \"scene\": {\"xaxis\": {\"backgroundcolor\": \"#E5ECF6\", \"gridcolor\": \"white\", \"gridwidth\": 2, \"linecolor\": \"white\", \"showbackground\": true, \"ticks\": \"\", \"zerolinecolor\": \"white\"}, \"yaxis\": {\"backgroundcolor\": \"#E5ECF6\", \"gridcolor\": \"white\", \"gridwidth\": 2, \"linecolor\": \"white\", \"showbackground\": true, \"ticks\": \"\", \"zerolinecolor\": \"white\"}, \"zaxis\": {\"backgroundcolor\": \"#E5ECF6\", \"gridcolor\": \"white\", \"gridwidth\": 2, \"linecolor\": \"white\", \"showbackground\": true, \"ticks\": \"\", \"zerolinecolor\": \"white\"}}, \"shapedefaults\": {\"line\": {\"color\": \"#2a3f5f\"}}, \"ternary\": {\"aaxis\": {\"gridcolor\": \"white\", \"linecolor\": \"white\", \"ticks\": \"\"}, \"baxis\": {\"gridcolor\": \"white\", \"linecolor\": \"white\", \"ticks\": \"\"}, \"bgcolor\": \"#E5ECF6\", \"caxis\": {\"gridcolor\": \"white\", \"linecolor\": \"white\", \"ticks\": \"\"}}, \"title\": {\"x\": 0.05}, \"xaxis\": {\"automargin\": true, \"gridcolor\": \"white\", \"linecolor\": \"white\", \"ticks\": \"\", \"title\": {\"standoff\": 15}, \"zerolinecolor\": \"white\", \"zerolinewidth\": 2}, \"yaxis\": {\"automargin\": true, \"gridcolor\": \"white\", \"linecolor\": \"white\", \"ticks\": \"\", \"title\": {\"standoff\": 15}, \"zerolinecolor\": \"white\", \"zerolinewidth\": 2}}}, \"xaxis\": {\"ticktext\": [\"0 projects: 242\", \"2 or 3 projects: 3\", \"4 projects: 9\", \"5 projects: 21\", \"6 projects: 21\", \"7 or more projects: 14\"], \"tickvals\": [\"0 projects\", \"2 or 3 projects\", \"4 projects\", \"5 projects\", \"6 projects\", \"7 or more projects\"]}},\n",
       "                        {\"responsive\": true}\n",
       "                    ).then(function(){\n",
       "                            \n",
       "var gd = document.getElementById('520b64e5-72ee-4fd7-b39b-a9b7483187cb');\n",
       "var x = new MutationObserver(function (mutations, observer) {{\n",
       "        var display = window.getComputedStyle(gd).display;\n",
       "        if (!display || display === 'none') {{\n",
       "            console.log([gd, 'removed!']);\n",
       "            Plotly.purge(gd);\n",
       "            observer.disconnect();\n",
       "        }}\n",
       "}});\n",
       "\n",
       "// Listen for the removal of the full notebook cells\n",
       "var notebookContainer = gd.closest('#notebook-container');\n",
       "if (notebookContainer) {{\n",
       "    x.observe(notebookContainer, {childList: true});\n",
       "}}\n",
       "\n",
       "// Listen for the clearing of the current output cell\n",
       "var outputEl = gd.closest('.output');\n",
       "if (outputEl) {{\n",
       "    x.observe(outputEl, {childList: true});\n",
       "}}\n",
       "\n",
       "                        })\n",
       "                };\n",
       "                });\n",
       "            </script>\n",
       "        </div>"
      ]
     },
     "metadata": {},
     "output_type": "display_data"
    }
   ],
   "source": [
    "dpts = sorted(hr.project.unique())\n",
    "fig = go.Figure()\n",
    "dept = []\n",
    "for dpt in dpts:\n",
    "    x = hr['project'][hr[\"project\"] == dpt]\n",
    "    dept.append(\": \" + str(len(x)))\n",
    "    fig.add_trace(go.Violin(x=x,\n",
    "                            y=hr['PayRate'][hr[\"project\"] == dpt],\n",
    "                            text=hr['Department'][hr[\"project\"] == dpt],\n",
    "                            name=dpt,\n",
    "                            box_visible=True,\n",
    "                            meanline_visible=True))\n",
    "g = [dpts[i]+dept[i] for i in range(len(dept))]\n",
    "fig.update_xaxes(\n",
    "    ticktext=(g),\n",
    "    tickvals=dpts)\n",
    "fig.show()"
   ]
  },
  {
   "cell_type": "markdown",
   "metadata": {},
   "source": [
    "The project count influences the pay rate to some extent. However, once again, there are two groups for some categories - especially for no special projects. I will not create the violin subplots for departments this time as there are too many categories. Instead I provide the scatter plot focusing on this correlation."
   ]
  },
  {
   "cell_type": "markdown",
   "metadata": {},
   "source": [
    "# Ridgeline plots"
   ]
  },
  {
   "cell_type": "markdown",
   "metadata": {},
   "source": [
    "I planned on introducing the changing color dependent on the pay rate. However, after reading documentations for not only plotly, but also matplotlib and seaborn, I could not find the applicable solution. Therefore, I created the plots as shown below."
   ]
  },
  {
   "cell_type": "code",
   "execution_count": 56,
   "metadata": {},
   "outputs": [],
   "source": [
    "from plotly.colors import n_colors\n",
    "colors = n_colors('rgb(5, 200, 200)', 'rgb(200, 10, 10)', 4, colortype='rgb')"
   ]
  },
  {
   "cell_type": "markdown",
   "metadata": {},
   "source": [
    "## Pay rate based on performance score"
   ]
  },
  {
   "cell_type": "code",
   "execution_count": 65,
   "metadata": {},
   "outputs": [],
   "source": [
    "dpts = hr.PerformanceScore.unique()\n",
    "data = ([hr[\"PayRate\"][hr.PerfScoreID==i].values for i in hr.PerfScoreID.unique()])"
   ]
  },
  {
   "cell_type": "code",
   "execution_count": 67,
   "metadata": {
    "code_folding": [
     1,
     5,
     8
    ],
    "collapsed": true
   },
   "outputs": [
    {
     "data": {
      "application/vnd.plotly.v1+json": {
       "config": {
        "plotlyServerURL": "https://plot.ly"
       },
       "data": [
        {
         "alignmentgroup": "True",
         "box": {
          "visible": false
         },
         "hovertemplate": "PerformanceScore=%{y}<br>PayRate=%{x}<extra></extra>",
         "legendgroup": "Fully Meets",
         "marker": {
          "color": "rgb(5.0, 200.0, 200.0)"
         },
         "name": "Fully Meets",
         "offsetgroup": "Fully Meets",
         "orientation": "h",
         "scalegroup": "True",
         "showlegend": true,
         "side": "positive",
         "type": "violin",
         "width": 2,
         "x": [
          28.5,
          23,
          29,
          21.5,
          16.56,
          20.5,
          55,
          55,
          56,
          55.5,
          55,
          55.5,
          55,
          55,
          55,
          54,
          55,
          56,
          55,
          55,
          55,
          55,
          56,
          55,
          55,
          57,
          55,
          55,
          45,
          46,
          45,
          45,
          63.5,
          55,
          43,
          48.5,
          40.1,
          34,
          40,
          41,
          39.55,
          42.2,
          45,
          30.2,
          31.4,
          60,
          62,
          21,
          28.99,
          31.4,
          27.49,
          45,
          42,
          37,
          39,
          27,
          47,
          28,
          49.1,
          80,
          54.5,
          50.5,
          51,
          54,
          48.5,
          53,
          38.5,
          52,
          55,
          33.5,
          16,
          21,
          24,
          15,
          22,
          22,
          24,
          15,
          20,
          21,
          22,
          24,
          16,
          21,
          23,
          18,
          24,
          17,
          20,
          15,
          16.75,
          19,
          15,
          20,
          17,
          20,
          19,
          17,
          17,
          15,
          21,
          22,
          19.5,
          15,
          22,
          21,
          21,
          20,
          15,
          18,
          20,
          21,
          14,
          16.76,
          20,
          15.75,
          21.25,
          21,
          24,
          14,
          19,
          15,
          14,
          16,
          22,
          22,
          22,
          22,
          21,
          23,
          17,
          19,
          14,
          17,
          21,
          17,
          24.5,
          20,
          16,
          22,
          20,
          17,
          18,
          24,
          21,
          19,
          24,
          19,
          16,
          18,
          14,
          18,
          16,
          19.75,
          19,
          24,
          19,
          15.25,
          20,
          21,
          21,
          19,
          20,
          16,
          17,
          22,
          23.5,
          20,
          19.75,
          22,
          18,
          15.2,
          15,
          23,
          25,
          29,
          23,
          23,
          22,
          25,
          26,
          26,
          24.25,
          22,
          27,
          26,
          22,
          26,
          27,
          25,
          26.39,
          28.75,
          29,
          24,
          24,
          22,
          26,
          29,
          26,
          24,
          26,
          22,
          29,
          25,
          27,
          28,
          22,
          24.25,
          28,
          24,
          29,
          23,
          22,
          24,
          28,
          23,
          25,
          23,
          54,
          60.25,
          50.25,
          52.25,
          51,
          55,
          55,
          47.6,
          56,
          57.12,
          55.51,
          49.25,
          45.42,
          27,
          34.95,
          34.95,
          62,
          61.3,
          58.2,
          58.5,
          54.1,
          56.2,
          53.8,
          53,
          55.2
         ],
         "x0": " ",
         "xaxis": "x",
         "y": [
          "Fully Meets",
          "Fully Meets",
          "Fully Meets",
          "Fully Meets",
          "Fully Meets",
          "Fully Meets",
          "Fully Meets",
          "Fully Meets",
          "Fully Meets",
          "Fully Meets",
          "Fully Meets",
          "Fully Meets",
          "Fully Meets",
          "Fully Meets",
          "Fully Meets",
          "Fully Meets",
          "Fully Meets",
          "Fully Meets",
          "Fully Meets",
          "Fully Meets",
          "Fully Meets",
          "Fully Meets",
          "Fully Meets",
          "Fully Meets",
          "Fully Meets",
          "Fully Meets",
          "Fully Meets",
          "Fully Meets",
          "Fully Meets",
          "Fully Meets",
          "Fully Meets",
          "Fully Meets",
          "Fully Meets",
          "Fully Meets",
          "Fully Meets",
          "Fully Meets",
          "Fully Meets",
          "Fully Meets",
          "Fully Meets",
          "Fully Meets",
          "Fully Meets",
          "Fully Meets",
          "Fully Meets",
          "Fully Meets",
          "Fully Meets",
          "Fully Meets",
          "Fully Meets",
          "Fully Meets",
          "Fully Meets",
          "Fully Meets",
          "Fully Meets",
          "Fully Meets",
          "Fully Meets",
          "Fully Meets",
          "Fully Meets",
          "Fully Meets",
          "Fully Meets",
          "Fully Meets",
          "Fully Meets",
          "Fully Meets",
          "Fully Meets",
          "Fully Meets",
          "Fully Meets",
          "Fully Meets",
          "Fully Meets",
          "Fully Meets",
          "Fully Meets",
          "Fully Meets",
          "Fully Meets",
          "Fully Meets",
          "Fully Meets",
          "Fully Meets",
          "Fully Meets",
          "Fully Meets",
          "Fully Meets",
          "Fully Meets",
          "Fully Meets",
          "Fully Meets",
          "Fully Meets",
          "Fully Meets",
          "Fully Meets",
          "Fully Meets",
          "Fully Meets",
          "Fully Meets",
          "Fully Meets",
          "Fully Meets",
          "Fully Meets",
          "Fully Meets",
          "Fully Meets",
          "Fully Meets",
          "Fully Meets",
          "Fully Meets",
          "Fully Meets",
          "Fully Meets",
          "Fully Meets",
          "Fully Meets",
          "Fully Meets",
          "Fully Meets",
          "Fully Meets",
          "Fully Meets",
          "Fully Meets",
          "Fully Meets",
          "Fully Meets",
          "Fully Meets",
          "Fully Meets",
          "Fully Meets",
          "Fully Meets",
          "Fully Meets",
          "Fully Meets",
          "Fully Meets",
          "Fully Meets",
          "Fully Meets",
          "Fully Meets",
          "Fully Meets",
          "Fully Meets",
          "Fully Meets",
          "Fully Meets",
          "Fully Meets",
          "Fully Meets",
          "Fully Meets",
          "Fully Meets",
          "Fully Meets",
          "Fully Meets",
          "Fully Meets",
          "Fully Meets",
          "Fully Meets",
          "Fully Meets",
          "Fully Meets",
          "Fully Meets",
          "Fully Meets",
          "Fully Meets",
          "Fully Meets",
          "Fully Meets",
          "Fully Meets",
          "Fully Meets",
          "Fully Meets",
          "Fully Meets",
          "Fully Meets",
          "Fully Meets",
          "Fully Meets",
          "Fully Meets",
          "Fully Meets",
          "Fully Meets",
          "Fully Meets",
          "Fully Meets",
          "Fully Meets",
          "Fully Meets",
          "Fully Meets",
          "Fully Meets",
          "Fully Meets",
          "Fully Meets",
          "Fully Meets",
          "Fully Meets",
          "Fully Meets",
          "Fully Meets",
          "Fully Meets",
          "Fully Meets",
          "Fully Meets",
          "Fully Meets",
          "Fully Meets",
          "Fully Meets",
          "Fully Meets",
          "Fully Meets",
          "Fully Meets",
          "Fully Meets",
          "Fully Meets",
          "Fully Meets",
          "Fully Meets",
          "Fully Meets",
          "Fully Meets",
          "Fully Meets",
          "Fully Meets",
          "Fully Meets",
          "Fully Meets",
          "Fully Meets",
          "Fully Meets",
          "Fully Meets",
          "Fully Meets",
          "Fully Meets",
          "Fully Meets",
          "Fully Meets",
          "Fully Meets",
          "Fully Meets",
          "Fully Meets",
          "Fully Meets",
          "Fully Meets",
          "Fully Meets",
          "Fully Meets",
          "Fully Meets",
          "Fully Meets",
          "Fully Meets",
          "Fully Meets",
          "Fully Meets",
          "Fully Meets",
          "Fully Meets",
          "Fully Meets",
          "Fully Meets",
          "Fully Meets",
          "Fully Meets",
          "Fully Meets",
          "Fully Meets",
          "Fully Meets",
          "Fully Meets",
          "Fully Meets",
          "Fully Meets",
          "Fully Meets",
          "Fully Meets",
          "Fully Meets",
          "Fully Meets",
          "Fully Meets",
          "Fully Meets",
          "Fully Meets",
          "Fully Meets",
          "Fully Meets",
          "Fully Meets",
          "Fully Meets",
          "Fully Meets",
          "Fully Meets",
          "Fully Meets",
          "Fully Meets",
          "Fully Meets",
          "Fully Meets",
          "Fully Meets",
          "Fully Meets",
          "Fully Meets",
          "Fully Meets",
          "Fully Meets",
          "Fully Meets",
          "Fully Meets",
          "Fully Meets",
          "Fully Meets",
          "Fully Meets",
          "Fully Meets",
          "Fully Meets",
          "Fully Meets",
          "Fully Meets",
          "Fully Meets",
          "Fully Meets",
          "Fully Meets",
          "Fully Meets",
          "Fully Meets",
          "Fully Meets",
          "Fully Meets"
         ],
         "y0": " ",
         "yaxis": "y"
        },
        {
         "alignmentgroup": "True",
         "box": {
          "visible": false
         },
         "hovertemplate": "PerformanceScore=%{y}<br>PayRate=%{x}<extra></extra>",
         "legendgroup": "PIP",
         "marker": {
          "color": "rgb(70.0, 136.66666666666666, 136.66666666666666)"
         },
         "name": "PIP",
         "offsetgroup": "PIP",
         "orientation": "h",
         "scalegroup": "True",
         "showlegend": true,
         "side": "positive",
         "type": "violin",
         "width": 2,
         "x": [
          55,
          55,
          56,
          43,
          20,
          18,
          16,
          22,
          18.5,
          29,
          25,
          24
         ],
         "x0": " ",
         "xaxis": "x",
         "y": [
          "PIP",
          "PIP",
          "PIP",
          "PIP",
          "PIP",
          "PIP",
          "PIP",
          "PIP",
          "PIP",
          "PIP",
          "PIP",
          "PIP"
         ],
         "y0": " ",
         "yaxis": "y"
        },
        {
         "alignmentgroup": "True",
         "box": {
          "visible": false
         },
         "hovertemplate": "PerformanceScore=%{y}<br>PayRate=%{x}<extra></extra>",
         "legendgroup": "Exceeds",
         "marker": {
          "color": "rgb(135.0, 73.33333333333333, 73.33333333333333)"
         },
         "name": "Exceeds",
         "offsetgroup": "Exceeds",
         "orientation": "h",
         "scalegroup": "True",
         "showlegend": true,
         "side": "positive",
         "type": "violin",
         "width": 2,
         "x": [
          55,
          55,
          65,
          35.5,
          42.75,
          60,
          65,
          64,
          26,
          55,
          55,
          23,
          16,
          20,
          16,
          24.75,
          16,
          15,
          17,
          21,
          16,
          21,
          19,
          20,
          17,
          19,
          22,
          25,
          29,
          26.1,
          22,
          27,
          22.5,
          29,
          25,
          52.25,
          48
         ],
         "x0": " ",
         "xaxis": "x",
         "y": [
          "Exceeds",
          "Exceeds",
          "Exceeds",
          "Exceeds",
          "Exceeds",
          "Exceeds",
          "Exceeds",
          "Exceeds",
          "Exceeds",
          "Exceeds",
          "Exceeds",
          "Exceeds",
          "Exceeds",
          "Exceeds",
          "Exceeds",
          "Exceeds",
          "Exceeds",
          "Exceeds",
          "Exceeds",
          "Exceeds",
          "Exceeds",
          "Exceeds",
          "Exceeds",
          "Exceeds",
          "Exceeds",
          "Exceeds",
          "Exceeds",
          "Exceeds",
          "Exceeds",
          "Exceeds",
          "Exceeds",
          "Exceeds",
          "Exceeds",
          "Exceeds",
          "Exceeds",
          "Exceeds",
          "Exceeds"
         ],
         "y0": " ",
         "yaxis": "y"
        },
        {
         "alignmentgroup": "True",
         "box": {
          "visible": false
         },
         "hovertemplate": "PerformanceScore=%{y}<br>PayRate=%{x}<extra></extra>",
         "legendgroup": "Needs Improvement",
         "marker": {
          "color": "rgb(200.0, 10.0, 10.0)"
         },
         "name": "Needs Improvement",
         "offsetgroup": "Needs Improvement",
         "orientation": "h",
         "scalegroup": "True",
         "showlegend": true,
         "side": "positive",
         "type": "violin",
         "width": 2,
         "x": [
          63,
          42,
          53,
          22,
          22,
          18,
          15,
          20,
          16,
          15,
          17,
          22,
          15,
          24,
          28,
          27,
          56,
          48.5
         ],
         "x0": " ",
         "xaxis": "x",
         "y": [
          "Needs Improvement",
          "Needs Improvement",
          "Needs Improvement",
          "Needs Improvement",
          "Needs Improvement",
          "Needs Improvement",
          "Needs Improvement",
          "Needs Improvement",
          "Needs Improvement",
          "Needs Improvement",
          "Needs Improvement",
          "Needs Improvement",
          "Needs Improvement",
          "Needs Improvement",
          "Needs Improvement",
          "Needs Improvement",
          "Needs Improvement",
          "Needs Improvement"
         ],
         "y0": " ",
         "yaxis": "y"
        }
       ],
       "layout": {
        "legend": {
         "title": {
          "text": "PerformanceScore"
         },
         "tracegroupgap": 0
        },
        "margin": {
         "t": 60
        },
        "template": {
         "data": {
          "bar": [
           {
            "error_x": {
             "color": "#2a3f5f"
            },
            "error_y": {
             "color": "#2a3f5f"
            },
            "marker": {
             "line": {
              "color": "#E5ECF6",
              "width": 0.5
             }
            },
            "type": "bar"
           }
          ],
          "barpolar": [
           {
            "marker": {
             "line": {
              "color": "#E5ECF6",
              "width": 0.5
             }
            },
            "type": "barpolar"
           }
          ],
          "carpet": [
           {
            "aaxis": {
             "endlinecolor": "#2a3f5f",
             "gridcolor": "white",
             "linecolor": "white",
             "minorgridcolor": "white",
             "startlinecolor": "#2a3f5f"
            },
            "baxis": {
             "endlinecolor": "#2a3f5f",
             "gridcolor": "white",
             "linecolor": "white",
             "minorgridcolor": "white",
             "startlinecolor": "#2a3f5f"
            },
            "type": "carpet"
           }
          ],
          "choropleth": [
           {
            "colorbar": {
             "outlinewidth": 0,
             "ticks": ""
            },
            "type": "choropleth"
           }
          ],
          "contour": [
           {
            "colorbar": {
             "outlinewidth": 0,
             "ticks": ""
            },
            "colorscale": [
             [
              0,
              "#0d0887"
             ],
             [
              0.1111111111111111,
              "#46039f"
             ],
             [
              0.2222222222222222,
              "#7201a8"
             ],
             [
              0.3333333333333333,
              "#9c179e"
             ],
             [
              0.4444444444444444,
              "#bd3786"
             ],
             [
              0.5555555555555556,
              "#d8576b"
             ],
             [
              0.6666666666666666,
              "#ed7953"
             ],
             [
              0.7777777777777778,
              "#fb9f3a"
             ],
             [
              0.8888888888888888,
              "#fdca26"
             ],
             [
              1,
              "#f0f921"
             ]
            ],
            "type": "contour"
           }
          ],
          "contourcarpet": [
           {
            "colorbar": {
             "outlinewidth": 0,
             "ticks": ""
            },
            "type": "contourcarpet"
           }
          ],
          "heatmap": [
           {
            "colorbar": {
             "outlinewidth": 0,
             "ticks": ""
            },
            "colorscale": [
             [
              0,
              "#0d0887"
             ],
             [
              0.1111111111111111,
              "#46039f"
             ],
             [
              0.2222222222222222,
              "#7201a8"
             ],
             [
              0.3333333333333333,
              "#9c179e"
             ],
             [
              0.4444444444444444,
              "#bd3786"
             ],
             [
              0.5555555555555556,
              "#d8576b"
             ],
             [
              0.6666666666666666,
              "#ed7953"
             ],
             [
              0.7777777777777778,
              "#fb9f3a"
             ],
             [
              0.8888888888888888,
              "#fdca26"
             ],
             [
              1,
              "#f0f921"
             ]
            ],
            "type": "heatmap"
           }
          ],
          "heatmapgl": [
           {
            "colorbar": {
             "outlinewidth": 0,
             "ticks": ""
            },
            "colorscale": [
             [
              0,
              "#0d0887"
             ],
             [
              0.1111111111111111,
              "#46039f"
             ],
             [
              0.2222222222222222,
              "#7201a8"
             ],
             [
              0.3333333333333333,
              "#9c179e"
             ],
             [
              0.4444444444444444,
              "#bd3786"
             ],
             [
              0.5555555555555556,
              "#d8576b"
             ],
             [
              0.6666666666666666,
              "#ed7953"
             ],
             [
              0.7777777777777778,
              "#fb9f3a"
             ],
             [
              0.8888888888888888,
              "#fdca26"
             ],
             [
              1,
              "#f0f921"
             ]
            ],
            "type": "heatmapgl"
           }
          ],
          "histogram": [
           {
            "marker": {
             "colorbar": {
              "outlinewidth": 0,
              "ticks": ""
             }
            },
            "type": "histogram"
           }
          ],
          "histogram2d": [
           {
            "colorbar": {
             "outlinewidth": 0,
             "ticks": ""
            },
            "colorscale": [
             [
              0,
              "#0d0887"
             ],
             [
              0.1111111111111111,
              "#46039f"
             ],
             [
              0.2222222222222222,
              "#7201a8"
             ],
             [
              0.3333333333333333,
              "#9c179e"
             ],
             [
              0.4444444444444444,
              "#bd3786"
             ],
             [
              0.5555555555555556,
              "#d8576b"
             ],
             [
              0.6666666666666666,
              "#ed7953"
             ],
             [
              0.7777777777777778,
              "#fb9f3a"
             ],
             [
              0.8888888888888888,
              "#fdca26"
             ],
             [
              1,
              "#f0f921"
             ]
            ],
            "type": "histogram2d"
           }
          ],
          "histogram2dcontour": [
           {
            "colorbar": {
             "outlinewidth": 0,
             "ticks": ""
            },
            "colorscale": [
             [
              0,
              "#0d0887"
             ],
             [
              0.1111111111111111,
              "#46039f"
             ],
             [
              0.2222222222222222,
              "#7201a8"
             ],
             [
              0.3333333333333333,
              "#9c179e"
             ],
             [
              0.4444444444444444,
              "#bd3786"
             ],
             [
              0.5555555555555556,
              "#d8576b"
             ],
             [
              0.6666666666666666,
              "#ed7953"
             ],
             [
              0.7777777777777778,
              "#fb9f3a"
             ],
             [
              0.8888888888888888,
              "#fdca26"
             ],
             [
              1,
              "#f0f921"
             ]
            ],
            "type": "histogram2dcontour"
           }
          ],
          "mesh3d": [
           {
            "colorbar": {
             "outlinewidth": 0,
             "ticks": ""
            },
            "type": "mesh3d"
           }
          ],
          "parcoords": [
           {
            "line": {
             "colorbar": {
              "outlinewidth": 0,
              "ticks": ""
             }
            },
            "type": "parcoords"
           }
          ],
          "pie": [
           {
            "automargin": true,
            "type": "pie"
           }
          ],
          "scatter": [
           {
            "marker": {
             "colorbar": {
              "outlinewidth": 0,
              "ticks": ""
             }
            },
            "type": "scatter"
           }
          ],
          "scatter3d": [
           {
            "line": {
             "colorbar": {
              "outlinewidth": 0,
              "ticks": ""
             }
            },
            "marker": {
             "colorbar": {
              "outlinewidth": 0,
              "ticks": ""
             }
            },
            "type": "scatter3d"
           }
          ],
          "scattercarpet": [
           {
            "marker": {
             "colorbar": {
              "outlinewidth": 0,
              "ticks": ""
             }
            },
            "type": "scattercarpet"
           }
          ],
          "scattergeo": [
           {
            "marker": {
             "colorbar": {
              "outlinewidth": 0,
              "ticks": ""
             }
            },
            "type": "scattergeo"
           }
          ],
          "scattergl": [
           {
            "marker": {
             "colorbar": {
              "outlinewidth": 0,
              "ticks": ""
             }
            },
            "type": "scattergl"
           }
          ],
          "scattermapbox": [
           {
            "marker": {
             "colorbar": {
              "outlinewidth": 0,
              "ticks": ""
             }
            },
            "type": "scattermapbox"
           }
          ],
          "scatterpolar": [
           {
            "marker": {
             "colorbar": {
              "outlinewidth": 0,
              "ticks": ""
             }
            },
            "type": "scatterpolar"
           }
          ],
          "scatterpolargl": [
           {
            "marker": {
             "colorbar": {
              "outlinewidth": 0,
              "ticks": ""
             }
            },
            "type": "scatterpolargl"
           }
          ],
          "scatterternary": [
           {
            "marker": {
             "colorbar": {
              "outlinewidth": 0,
              "ticks": ""
             }
            },
            "type": "scatterternary"
           }
          ],
          "surface": [
           {
            "colorbar": {
             "outlinewidth": 0,
             "ticks": ""
            },
            "colorscale": [
             [
              0,
              "#0d0887"
             ],
             [
              0.1111111111111111,
              "#46039f"
             ],
             [
              0.2222222222222222,
              "#7201a8"
             ],
             [
              0.3333333333333333,
              "#9c179e"
             ],
             [
              0.4444444444444444,
              "#bd3786"
             ],
             [
              0.5555555555555556,
              "#d8576b"
             ],
             [
              0.6666666666666666,
              "#ed7953"
             ],
             [
              0.7777777777777778,
              "#fb9f3a"
             ],
             [
              0.8888888888888888,
              "#fdca26"
             ],
             [
              1,
              "#f0f921"
             ]
            ],
            "type": "surface"
           }
          ],
          "table": [
           {
            "cells": {
             "fill": {
              "color": "#EBF0F8"
             },
             "line": {
              "color": "white"
             }
            },
            "header": {
             "fill": {
              "color": "#C8D4E3"
             },
             "line": {
              "color": "white"
             }
            },
            "type": "table"
           }
          ]
         },
         "layout": {
          "annotationdefaults": {
           "arrowcolor": "#2a3f5f",
           "arrowhead": 0,
           "arrowwidth": 1
          },
          "coloraxis": {
           "colorbar": {
            "outlinewidth": 0,
            "ticks": ""
           }
          },
          "colorscale": {
           "diverging": [
            [
             0,
             "#8e0152"
            ],
            [
             0.1,
             "#c51b7d"
            ],
            [
             0.2,
             "#de77ae"
            ],
            [
             0.3,
             "#f1b6da"
            ],
            [
             0.4,
             "#fde0ef"
            ],
            [
             0.5,
             "#f7f7f7"
            ],
            [
             0.6,
             "#e6f5d0"
            ],
            [
             0.7,
             "#b8e186"
            ],
            [
             0.8,
             "#7fbc41"
            ],
            [
             0.9,
             "#4d9221"
            ],
            [
             1,
             "#276419"
            ]
           ],
           "sequential": [
            [
             0,
             "#0d0887"
            ],
            [
             0.1111111111111111,
             "#46039f"
            ],
            [
             0.2222222222222222,
             "#7201a8"
            ],
            [
             0.3333333333333333,
             "#9c179e"
            ],
            [
             0.4444444444444444,
             "#bd3786"
            ],
            [
             0.5555555555555556,
             "#d8576b"
            ],
            [
             0.6666666666666666,
             "#ed7953"
            ],
            [
             0.7777777777777778,
             "#fb9f3a"
            ],
            [
             0.8888888888888888,
             "#fdca26"
            ],
            [
             1,
             "#f0f921"
            ]
           ],
           "sequentialminus": [
            [
             0,
             "#0d0887"
            ],
            [
             0.1111111111111111,
             "#46039f"
            ],
            [
             0.2222222222222222,
             "#7201a8"
            ],
            [
             0.3333333333333333,
             "#9c179e"
            ],
            [
             0.4444444444444444,
             "#bd3786"
            ],
            [
             0.5555555555555556,
             "#d8576b"
            ],
            [
             0.6666666666666666,
             "#ed7953"
            ],
            [
             0.7777777777777778,
             "#fb9f3a"
            ],
            [
             0.8888888888888888,
             "#fdca26"
            ],
            [
             1,
             "#f0f921"
            ]
           ]
          },
          "colorway": [
           "#636efa",
           "#EF553B",
           "#00cc96",
           "#ab63fa",
           "#FFA15A",
           "#19d3f3",
           "#FF6692",
           "#B6E880",
           "#FF97FF",
           "#FECB52"
          ],
          "font": {
           "color": "#2a3f5f"
          },
          "geo": {
           "bgcolor": "white",
           "lakecolor": "white",
           "landcolor": "#E5ECF6",
           "showlakes": true,
           "showland": true,
           "subunitcolor": "white"
          },
          "hoverlabel": {
           "align": "left"
          },
          "hovermode": "closest",
          "mapbox": {
           "style": "light"
          },
          "paper_bgcolor": "white",
          "plot_bgcolor": "#E5ECF6",
          "polar": {
           "angularaxis": {
            "gridcolor": "white",
            "linecolor": "white",
            "ticks": ""
           },
           "bgcolor": "#E5ECF6",
           "radialaxis": {
            "gridcolor": "white",
            "linecolor": "white",
            "ticks": ""
           }
          },
          "scene": {
           "xaxis": {
            "backgroundcolor": "#E5ECF6",
            "gridcolor": "white",
            "gridwidth": 2,
            "linecolor": "white",
            "showbackground": true,
            "ticks": "",
            "zerolinecolor": "white"
           },
           "yaxis": {
            "backgroundcolor": "#E5ECF6",
            "gridcolor": "white",
            "gridwidth": 2,
            "linecolor": "white",
            "showbackground": true,
            "ticks": "",
            "zerolinecolor": "white"
           },
           "zaxis": {
            "backgroundcolor": "#E5ECF6",
            "gridcolor": "white",
            "gridwidth": 2,
            "linecolor": "white",
            "showbackground": true,
            "ticks": "",
            "zerolinecolor": "white"
           }
          },
          "shapedefaults": {
           "line": {
            "color": "#2a3f5f"
           }
          },
          "ternary": {
           "aaxis": {
            "gridcolor": "white",
            "linecolor": "white",
            "ticks": ""
           },
           "baxis": {
            "gridcolor": "white",
            "linecolor": "white",
            "ticks": ""
           },
           "bgcolor": "#E5ECF6",
           "caxis": {
            "gridcolor": "white",
            "linecolor": "white",
            "ticks": ""
           }
          },
          "title": {
           "x": 0.05
          },
          "xaxis": {
           "automargin": true,
           "gridcolor": "white",
           "linecolor": "white",
           "ticks": "",
           "title": {
            "standoff": 15
           },
           "zerolinecolor": "white",
           "zerolinewidth": 2
          },
          "yaxis": {
           "automargin": true,
           "gridcolor": "white",
           "linecolor": "white",
           "ticks": "",
           "title": {
            "standoff": 15
           },
           "zerolinecolor": "white",
           "zerolinewidth": 2
          }
         }
        },
        "violinmode": "overlay",
        "xaxis": {
         "anchor": "y",
         "domain": [
          0,
          1
         ],
         "title": {
          "text": "PayRate"
         }
        },
        "yaxis": {
         "anchor": "x",
         "categoryarray": [
          "Needs Improvement",
          "Exceeds",
          "PIP",
          "Fully Meets"
         ],
         "categoryorder": "array",
         "domain": [
          0,
          1
         ],
         "ticktext": [
          "Fully Meets: 243",
          "PIP: 12",
          "Exceeds: 37",
          "Needs Improvement: 18"
         ],
         "tickvals": [
          "Fully Meets",
          "PIP",
          "Exceeds",
          "Needs Improvement"
         ],
         "title": {
          "text": "PerformanceScore"
         }
        }
       }
      },
      "text/html": [
       "<div>\n",
       "        \n",
       "        \n",
       "            <div id=\"7303637b-b7da-4c0f-bf13-a2af1f36a0ff\" class=\"plotly-graph-div\" style=\"height:525px; width:100%;\"></div>\n",
       "            <script type=\"text/javascript\">\n",
       "                require([\"plotly\"], function(Plotly) {\n",
       "                    window.PLOTLYENV=window.PLOTLYENV || {};\n",
       "                    \n",
       "                if (document.getElementById(\"7303637b-b7da-4c0f-bf13-a2af1f36a0ff\")) {\n",
       "                    Plotly.newPlot(\n",
       "                        '7303637b-b7da-4c0f-bf13-a2af1f36a0ff',\n",
       "                        [{\"alignmentgroup\": \"True\", \"box\": {\"visible\": false}, \"hovertemplate\": \"PerformanceScore=%{y}<br>PayRate=%{x}<extra></extra>\", \"legendgroup\": \"Fully Meets\", \"marker\": {\"color\": \"rgb(5.0, 200.0, 200.0)\"}, \"name\": \"Fully Meets\", \"offsetgroup\": \"Fully Meets\", \"orientation\": \"h\", \"scalegroup\": \"True\", \"showlegend\": true, \"side\": \"positive\", \"type\": \"violin\", \"width\": 2, \"x\": [28.5, 23.0, 29.0, 21.5, 16.56, 20.5, 55.0, 55.0, 56.0, 55.5, 55.0, 55.5, 55.0, 55.0, 55.0, 54.0, 55.0, 56.0, 55.0, 55.0, 55.0, 55.0, 56.0, 55.0, 55.0, 57.0, 55.0, 55.0, 45.0, 46.0, 45.0, 45.0, 63.5, 55.0, 43.0, 48.5, 40.1, 34.0, 40.0, 41.0, 39.55, 42.2, 45.0, 30.2, 31.4, 60.0, 62.0, 21.0, 28.99, 31.4, 27.49, 45.0, 42.0, 37.0, 39.0, 27.0, 47.0, 28.0, 49.1, 80.0, 54.5, 50.5, 51.0, 54.0, 48.5, 53.0, 38.5, 52.0, 55.0, 33.5, 16.0, 21.0, 24.0, 15.0, 22.0, 22.0, 24.0, 15.0, 20.0, 21.0, 22.0, 24.0, 16.0, 21.0, 23.0, 18.0, 24.0, 17.0, 20.0, 15.0, 16.75, 19.0, 15.0, 20.0, 17.0, 20.0, 19.0, 17.0, 17.0, 15.0, 21.0, 22.0, 19.5, 15.0, 22.0, 21.0, 21.0, 20.0, 15.0, 18.0, 20.0, 21.0, 14.0, 16.76, 20.0, 15.75, 21.25, 21.0, 24.0, 14.0, 19.0, 15.0, 14.0, 16.0, 22.0, 22.0, 22.0, 22.0, 21.0, 23.0, 17.0, 19.0, 14.0, 17.0, 21.0, 17.0, 24.5, 20.0, 16.0, 22.0, 20.0, 17.0, 18.0, 24.0, 21.0, 19.0, 24.0, 19.0, 16.0, 18.0, 14.0, 18.0, 16.0, 19.75, 19.0, 24.0, 19.0, 15.25, 20.0, 21.0, 21.0, 19.0, 20.0, 16.0, 17.0, 22.0, 23.5, 20.0, 19.75, 22.0, 18.0, 15.2, 15.0, 23.0, 25.0, 29.0, 23.0, 23.0, 22.0, 25.0, 26.0, 26.0, 24.25, 22.0, 27.0, 26.0, 22.0, 26.0, 27.0, 25.0, 26.39, 28.75, 29.0, 24.0, 24.0, 22.0, 26.0, 29.0, 26.0, 24.0, 26.0, 22.0, 29.0, 25.0, 27.0, 28.0, 22.0, 24.25, 28.0, 24.0, 29.0, 23.0, 22.0, 24.0, 28.0, 23.0, 25.0, 23.0, 54.0, 60.25, 50.25, 52.25, 51.0, 55.0, 55.0, 47.6, 56.0, 57.12, 55.51, 49.25, 45.42, 27.0, 34.95, 34.95, 62.0, 61.3, 58.2, 58.5, 54.1, 56.2, 53.8, 53.0, 55.2], \"x0\": \" \", \"xaxis\": \"x\", \"y\": [\"Fully Meets\", \"Fully Meets\", \"Fully Meets\", \"Fully Meets\", \"Fully Meets\", \"Fully Meets\", \"Fully Meets\", \"Fully Meets\", \"Fully Meets\", \"Fully Meets\", \"Fully Meets\", \"Fully Meets\", \"Fully Meets\", \"Fully Meets\", \"Fully Meets\", \"Fully Meets\", \"Fully Meets\", \"Fully Meets\", \"Fully Meets\", \"Fully Meets\", \"Fully Meets\", \"Fully Meets\", \"Fully Meets\", \"Fully Meets\", \"Fully Meets\", \"Fully Meets\", \"Fully Meets\", \"Fully Meets\", \"Fully Meets\", \"Fully Meets\", \"Fully Meets\", \"Fully Meets\", \"Fully Meets\", \"Fully Meets\", \"Fully Meets\", \"Fully Meets\", \"Fully Meets\", \"Fully Meets\", \"Fully Meets\", \"Fully Meets\", \"Fully Meets\", \"Fully Meets\", \"Fully Meets\", \"Fully Meets\", \"Fully Meets\", \"Fully Meets\", \"Fully Meets\", \"Fully Meets\", \"Fully Meets\", \"Fully Meets\", \"Fully Meets\", \"Fully Meets\", \"Fully Meets\", \"Fully Meets\", \"Fully Meets\", \"Fully Meets\", \"Fully Meets\", \"Fully Meets\", \"Fully Meets\", \"Fully Meets\", \"Fully Meets\", \"Fully Meets\", \"Fully Meets\", \"Fully Meets\", \"Fully Meets\", \"Fully Meets\", \"Fully Meets\", \"Fully Meets\", \"Fully Meets\", \"Fully Meets\", \"Fully Meets\", \"Fully Meets\", \"Fully Meets\", \"Fully Meets\", \"Fully Meets\", \"Fully Meets\", \"Fully Meets\", \"Fully Meets\", \"Fully Meets\", \"Fully Meets\", \"Fully Meets\", \"Fully Meets\", \"Fully Meets\", \"Fully Meets\", \"Fully Meets\", \"Fully Meets\", \"Fully Meets\", \"Fully Meets\", \"Fully Meets\", \"Fully Meets\", \"Fully Meets\", \"Fully Meets\", \"Fully Meets\", \"Fully Meets\", \"Fully Meets\", \"Fully Meets\", \"Fully Meets\", \"Fully Meets\", \"Fully Meets\", \"Fully Meets\", \"Fully Meets\", \"Fully Meets\", \"Fully Meets\", \"Fully Meets\", \"Fully Meets\", \"Fully Meets\", \"Fully Meets\", \"Fully Meets\", \"Fully Meets\", \"Fully Meets\", \"Fully Meets\", \"Fully Meets\", \"Fully Meets\", \"Fully Meets\", \"Fully Meets\", \"Fully Meets\", \"Fully Meets\", \"Fully Meets\", \"Fully Meets\", \"Fully Meets\", \"Fully Meets\", \"Fully Meets\", \"Fully Meets\", \"Fully Meets\", \"Fully Meets\", \"Fully Meets\", \"Fully Meets\", \"Fully Meets\", \"Fully Meets\", \"Fully Meets\", \"Fully Meets\", \"Fully Meets\", \"Fully Meets\", \"Fully Meets\", \"Fully Meets\", \"Fully Meets\", \"Fully Meets\", \"Fully Meets\", \"Fully Meets\", \"Fully Meets\", \"Fully Meets\", \"Fully Meets\", \"Fully Meets\", \"Fully Meets\", \"Fully Meets\", \"Fully Meets\", \"Fully Meets\", \"Fully Meets\", \"Fully Meets\", \"Fully Meets\", \"Fully Meets\", \"Fully Meets\", \"Fully Meets\", \"Fully Meets\", \"Fully Meets\", \"Fully Meets\", \"Fully Meets\", \"Fully Meets\", \"Fully Meets\", \"Fully Meets\", \"Fully Meets\", \"Fully Meets\", \"Fully Meets\", \"Fully Meets\", \"Fully Meets\", \"Fully Meets\", \"Fully Meets\", \"Fully Meets\", \"Fully Meets\", \"Fully Meets\", \"Fully Meets\", \"Fully Meets\", \"Fully Meets\", \"Fully Meets\", \"Fully Meets\", \"Fully Meets\", \"Fully Meets\", \"Fully Meets\", \"Fully Meets\", \"Fully Meets\", \"Fully Meets\", \"Fully Meets\", \"Fully Meets\", \"Fully Meets\", \"Fully Meets\", \"Fully Meets\", \"Fully Meets\", \"Fully Meets\", \"Fully Meets\", \"Fully Meets\", \"Fully Meets\", \"Fully Meets\", \"Fully Meets\", \"Fully Meets\", \"Fully Meets\", \"Fully Meets\", \"Fully Meets\", \"Fully Meets\", \"Fully Meets\", \"Fully Meets\", \"Fully Meets\", \"Fully Meets\", \"Fully Meets\", \"Fully Meets\", \"Fully Meets\", \"Fully Meets\", \"Fully Meets\", \"Fully Meets\", \"Fully Meets\", \"Fully Meets\", \"Fully Meets\", \"Fully Meets\", \"Fully Meets\", \"Fully Meets\", \"Fully Meets\", \"Fully Meets\", \"Fully Meets\", \"Fully Meets\", \"Fully Meets\", \"Fully Meets\", \"Fully Meets\", \"Fully Meets\", \"Fully Meets\", \"Fully Meets\", \"Fully Meets\", \"Fully Meets\", \"Fully Meets\", \"Fully Meets\", \"Fully Meets\", \"Fully Meets\", \"Fully Meets\", \"Fully Meets\", \"Fully Meets\", \"Fully Meets\", \"Fully Meets\", \"Fully Meets\", \"Fully Meets\", \"Fully Meets\", \"Fully Meets\", \"Fully Meets\", \"Fully Meets\", \"Fully Meets\", \"Fully Meets\"], \"y0\": \" \", \"yaxis\": \"y\"}, {\"alignmentgroup\": \"True\", \"box\": {\"visible\": false}, \"hovertemplate\": \"PerformanceScore=%{y}<br>PayRate=%{x}<extra></extra>\", \"legendgroup\": \"PIP\", \"marker\": {\"color\": \"rgb(70.0, 136.66666666666666, 136.66666666666666)\"}, \"name\": \"PIP\", \"offsetgroup\": \"PIP\", \"orientation\": \"h\", \"scalegroup\": \"True\", \"showlegend\": true, \"side\": \"positive\", \"type\": \"violin\", \"width\": 2, \"x\": [55.0, 55.0, 56.0, 43.0, 20.0, 18.0, 16.0, 22.0, 18.5, 29.0, 25.0, 24.0], \"x0\": \" \", \"xaxis\": \"x\", \"y\": [\"PIP\", \"PIP\", \"PIP\", \"PIP\", \"PIP\", \"PIP\", \"PIP\", \"PIP\", \"PIP\", \"PIP\", \"PIP\", \"PIP\"], \"y0\": \" \", \"yaxis\": \"y\"}, {\"alignmentgroup\": \"True\", \"box\": {\"visible\": false}, \"hovertemplate\": \"PerformanceScore=%{y}<br>PayRate=%{x}<extra></extra>\", \"legendgroup\": \"Exceeds\", \"marker\": {\"color\": \"rgb(135.0, 73.33333333333333, 73.33333333333333)\"}, \"name\": \"Exceeds\", \"offsetgroup\": \"Exceeds\", \"orientation\": \"h\", \"scalegroup\": \"True\", \"showlegend\": true, \"side\": \"positive\", \"type\": \"violin\", \"width\": 2, \"x\": [55.0, 55.0, 65.0, 35.5, 42.75, 60.0, 65.0, 64.0, 26.0, 55.0, 55.0, 23.0, 16.0, 20.0, 16.0, 24.75, 16.0, 15.0, 17.0, 21.0, 16.0, 21.0, 19.0, 20.0, 17.0, 19.0, 22.0, 25.0, 29.0, 26.1, 22.0, 27.0, 22.5, 29.0, 25.0, 52.25, 48.0], \"x0\": \" \", \"xaxis\": \"x\", \"y\": [\"Exceeds\", \"Exceeds\", \"Exceeds\", \"Exceeds\", \"Exceeds\", \"Exceeds\", \"Exceeds\", \"Exceeds\", \"Exceeds\", \"Exceeds\", \"Exceeds\", \"Exceeds\", \"Exceeds\", \"Exceeds\", \"Exceeds\", \"Exceeds\", \"Exceeds\", \"Exceeds\", \"Exceeds\", \"Exceeds\", \"Exceeds\", \"Exceeds\", \"Exceeds\", \"Exceeds\", \"Exceeds\", \"Exceeds\", \"Exceeds\", \"Exceeds\", \"Exceeds\", \"Exceeds\", \"Exceeds\", \"Exceeds\", \"Exceeds\", \"Exceeds\", \"Exceeds\", \"Exceeds\", \"Exceeds\"], \"y0\": \" \", \"yaxis\": \"y\"}, {\"alignmentgroup\": \"True\", \"box\": {\"visible\": false}, \"hovertemplate\": \"PerformanceScore=%{y}<br>PayRate=%{x}<extra></extra>\", \"legendgroup\": \"Needs Improvement\", \"marker\": {\"color\": \"rgb(200.0, 10.0, 10.0)\"}, \"name\": \"Needs Improvement\", \"offsetgroup\": \"Needs Improvement\", \"orientation\": \"h\", \"scalegroup\": \"True\", \"showlegend\": true, \"side\": \"positive\", \"type\": \"violin\", \"width\": 2, \"x\": [63.0, 42.0, 53.0, 22.0, 22.0, 18.0, 15.0, 20.0, 16.0, 15.0, 17.0, 22.0, 15.0, 24.0, 28.0, 27.0, 56.0, 48.5], \"x0\": \" \", \"xaxis\": \"x\", \"y\": [\"Needs Improvement\", \"Needs Improvement\", \"Needs Improvement\", \"Needs Improvement\", \"Needs Improvement\", \"Needs Improvement\", \"Needs Improvement\", \"Needs Improvement\", \"Needs Improvement\", \"Needs Improvement\", \"Needs Improvement\", \"Needs Improvement\", \"Needs Improvement\", \"Needs Improvement\", \"Needs Improvement\", \"Needs Improvement\", \"Needs Improvement\", \"Needs Improvement\"], \"y0\": \" \", \"yaxis\": \"y\"}],\n",
       "                        {\"legend\": {\"title\": {\"text\": \"PerformanceScore\"}, \"tracegroupgap\": 0}, \"margin\": {\"t\": 60}, \"template\": {\"data\": {\"bar\": [{\"error_x\": {\"color\": \"#2a3f5f\"}, \"error_y\": {\"color\": \"#2a3f5f\"}, \"marker\": {\"line\": {\"color\": \"#E5ECF6\", \"width\": 0.5}}, \"type\": \"bar\"}], \"barpolar\": [{\"marker\": {\"line\": {\"color\": \"#E5ECF6\", \"width\": 0.5}}, \"type\": \"barpolar\"}], \"carpet\": [{\"aaxis\": {\"endlinecolor\": \"#2a3f5f\", \"gridcolor\": \"white\", \"linecolor\": \"white\", \"minorgridcolor\": \"white\", \"startlinecolor\": \"#2a3f5f\"}, \"baxis\": {\"endlinecolor\": \"#2a3f5f\", \"gridcolor\": \"white\", \"linecolor\": \"white\", \"minorgridcolor\": \"white\", \"startlinecolor\": \"#2a3f5f\"}, \"type\": \"carpet\"}], \"choropleth\": [{\"colorbar\": {\"outlinewidth\": 0, \"ticks\": \"\"}, \"type\": \"choropleth\"}], \"contour\": [{\"colorbar\": {\"outlinewidth\": 0, \"ticks\": \"\"}, \"colorscale\": [[0.0, \"#0d0887\"], [0.1111111111111111, \"#46039f\"], [0.2222222222222222, \"#7201a8\"], [0.3333333333333333, \"#9c179e\"], [0.4444444444444444, \"#bd3786\"], [0.5555555555555556, \"#d8576b\"], [0.6666666666666666, \"#ed7953\"], [0.7777777777777778, \"#fb9f3a\"], [0.8888888888888888, \"#fdca26\"], [1.0, \"#f0f921\"]], \"type\": \"contour\"}], \"contourcarpet\": [{\"colorbar\": {\"outlinewidth\": 0, \"ticks\": \"\"}, \"type\": \"contourcarpet\"}], \"heatmap\": [{\"colorbar\": {\"outlinewidth\": 0, \"ticks\": \"\"}, \"colorscale\": [[0.0, \"#0d0887\"], [0.1111111111111111, \"#46039f\"], [0.2222222222222222, \"#7201a8\"], [0.3333333333333333, \"#9c179e\"], [0.4444444444444444, \"#bd3786\"], [0.5555555555555556, \"#d8576b\"], [0.6666666666666666, \"#ed7953\"], [0.7777777777777778, \"#fb9f3a\"], [0.8888888888888888, \"#fdca26\"], [1.0, \"#f0f921\"]], \"type\": \"heatmap\"}], \"heatmapgl\": [{\"colorbar\": {\"outlinewidth\": 0, \"ticks\": \"\"}, \"colorscale\": [[0.0, \"#0d0887\"], [0.1111111111111111, \"#46039f\"], [0.2222222222222222, \"#7201a8\"], [0.3333333333333333, \"#9c179e\"], [0.4444444444444444, \"#bd3786\"], [0.5555555555555556, \"#d8576b\"], [0.6666666666666666, \"#ed7953\"], [0.7777777777777778, \"#fb9f3a\"], [0.8888888888888888, \"#fdca26\"], [1.0, \"#f0f921\"]], \"type\": \"heatmapgl\"}], \"histogram\": [{\"marker\": {\"colorbar\": {\"outlinewidth\": 0, \"ticks\": \"\"}}, \"type\": \"histogram\"}], \"histogram2d\": [{\"colorbar\": {\"outlinewidth\": 0, \"ticks\": \"\"}, \"colorscale\": [[0.0, \"#0d0887\"], [0.1111111111111111, \"#46039f\"], [0.2222222222222222, \"#7201a8\"], [0.3333333333333333, \"#9c179e\"], [0.4444444444444444, \"#bd3786\"], [0.5555555555555556, \"#d8576b\"], [0.6666666666666666, \"#ed7953\"], [0.7777777777777778, \"#fb9f3a\"], [0.8888888888888888, \"#fdca26\"], [1.0, \"#f0f921\"]], \"type\": \"histogram2d\"}], \"histogram2dcontour\": [{\"colorbar\": {\"outlinewidth\": 0, \"ticks\": \"\"}, \"colorscale\": [[0.0, \"#0d0887\"], [0.1111111111111111, \"#46039f\"], [0.2222222222222222, \"#7201a8\"], [0.3333333333333333, \"#9c179e\"], [0.4444444444444444, \"#bd3786\"], [0.5555555555555556, \"#d8576b\"], [0.6666666666666666, \"#ed7953\"], [0.7777777777777778, \"#fb9f3a\"], [0.8888888888888888, \"#fdca26\"], [1.0, \"#f0f921\"]], \"type\": \"histogram2dcontour\"}], \"mesh3d\": [{\"colorbar\": {\"outlinewidth\": 0, \"ticks\": \"\"}, \"type\": \"mesh3d\"}], \"parcoords\": [{\"line\": {\"colorbar\": {\"outlinewidth\": 0, \"ticks\": \"\"}}, \"type\": \"parcoords\"}], \"pie\": [{\"automargin\": true, \"type\": \"pie\"}], \"scatter\": [{\"marker\": {\"colorbar\": {\"outlinewidth\": 0, \"ticks\": \"\"}}, \"type\": \"scatter\"}], \"scatter3d\": [{\"line\": {\"colorbar\": {\"outlinewidth\": 0, \"ticks\": \"\"}}, \"marker\": {\"colorbar\": {\"outlinewidth\": 0, \"ticks\": \"\"}}, \"type\": \"scatter3d\"}], \"scattercarpet\": [{\"marker\": {\"colorbar\": {\"outlinewidth\": 0, \"ticks\": \"\"}}, \"type\": \"scattercarpet\"}], \"scattergeo\": [{\"marker\": {\"colorbar\": {\"outlinewidth\": 0, \"ticks\": \"\"}}, \"type\": \"scattergeo\"}], \"scattergl\": [{\"marker\": {\"colorbar\": {\"outlinewidth\": 0, \"ticks\": \"\"}}, \"type\": \"scattergl\"}], \"scattermapbox\": [{\"marker\": {\"colorbar\": {\"outlinewidth\": 0, \"ticks\": \"\"}}, \"type\": \"scattermapbox\"}], \"scatterpolar\": [{\"marker\": {\"colorbar\": {\"outlinewidth\": 0, \"ticks\": \"\"}}, \"type\": \"scatterpolar\"}], \"scatterpolargl\": [{\"marker\": {\"colorbar\": {\"outlinewidth\": 0, \"ticks\": \"\"}}, \"type\": \"scatterpolargl\"}], \"scatterternary\": [{\"marker\": {\"colorbar\": {\"outlinewidth\": 0, \"ticks\": \"\"}}, \"type\": \"scatterternary\"}], \"surface\": [{\"colorbar\": {\"outlinewidth\": 0, \"ticks\": \"\"}, \"colorscale\": [[0.0, \"#0d0887\"], [0.1111111111111111, \"#46039f\"], [0.2222222222222222, \"#7201a8\"], [0.3333333333333333, \"#9c179e\"], [0.4444444444444444, \"#bd3786\"], [0.5555555555555556, \"#d8576b\"], [0.6666666666666666, \"#ed7953\"], [0.7777777777777778, \"#fb9f3a\"], [0.8888888888888888, \"#fdca26\"], [1.0, \"#f0f921\"]], \"type\": \"surface\"}], \"table\": [{\"cells\": {\"fill\": {\"color\": \"#EBF0F8\"}, \"line\": {\"color\": \"white\"}}, \"header\": {\"fill\": {\"color\": \"#C8D4E3\"}, \"line\": {\"color\": \"white\"}}, \"type\": \"table\"}]}, \"layout\": {\"annotationdefaults\": {\"arrowcolor\": \"#2a3f5f\", \"arrowhead\": 0, \"arrowwidth\": 1}, \"coloraxis\": {\"colorbar\": {\"outlinewidth\": 0, \"ticks\": \"\"}}, \"colorscale\": {\"diverging\": [[0, \"#8e0152\"], [0.1, \"#c51b7d\"], [0.2, \"#de77ae\"], [0.3, \"#f1b6da\"], [0.4, \"#fde0ef\"], [0.5, \"#f7f7f7\"], [0.6, \"#e6f5d0\"], [0.7, \"#b8e186\"], [0.8, \"#7fbc41\"], [0.9, \"#4d9221\"], [1, \"#276419\"]], \"sequential\": [[0.0, \"#0d0887\"], [0.1111111111111111, \"#46039f\"], [0.2222222222222222, \"#7201a8\"], [0.3333333333333333, \"#9c179e\"], [0.4444444444444444, \"#bd3786\"], [0.5555555555555556, \"#d8576b\"], [0.6666666666666666, \"#ed7953\"], [0.7777777777777778, \"#fb9f3a\"], [0.8888888888888888, \"#fdca26\"], [1.0, \"#f0f921\"]], \"sequentialminus\": [[0.0, \"#0d0887\"], [0.1111111111111111, \"#46039f\"], [0.2222222222222222, \"#7201a8\"], [0.3333333333333333, \"#9c179e\"], [0.4444444444444444, \"#bd3786\"], [0.5555555555555556, \"#d8576b\"], [0.6666666666666666, \"#ed7953\"], [0.7777777777777778, \"#fb9f3a\"], [0.8888888888888888, \"#fdca26\"], [1.0, \"#f0f921\"]]}, \"colorway\": [\"#636efa\", \"#EF553B\", \"#00cc96\", \"#ab63fa\", \"#FFA15A\", \"#19d3f3\", \"#FF6692\", \"#B6E880\", \"#FF97FF\", \"#FECB52\"], \"font\": {\"color\": \"#2a3f5f\"}, \"geo\": {\"bgcolor\": \"white\", \"lakecolor\": \"white\", \"landcolor\": \"#E5ECF6\", \"showlakes\": true, \"showland\": true, \"subunitcolor\": \"white\"}, \"hoverlabel\": {\"align\": \"left\"}, \"hovermode\": \"closest\", \"mapbox\": {\"style\": \"light\"}, \"paper_bgcolor\": \"white\", \"plot_bgcolor\": \"#E5ECF6\", \"polar\": {\"angularaxis\": {\"gridcolor\": \"white\", \"linecolor\": \"white\", \"ticks\": \"\"}, \"bgcolor\": \"#E5ECF6\", \"radialaxis\": {\"gridcolor\": \"white\", \"linecolor\": \"white\", \"ticks\": \"\"}}, \"scene\": {\"xaxis\": {\"backgroundcolor\": \"#E5ECF6\", \"gridcolor\": \"white\", \"gridwidth\": 2, \"linecolor\": \"white\", \"showbackground\": true, \"ticks\": \"\", \"zerolinecolor\": \"white\"}, \"yaxis\": {\"backgroundcolor\": \"#E5ECF6\", \"gridcolor\": \"white\", \"gridwidth\": 2, \"linecolor\": \"white\", \"showbackground\": true, \"ticks\": \"\", \"zerolinecolor\": \"white\"}, \"zaxis\": {\"backgroundcolor\": \"#E5ECF6\", \"gridcolor\": \"white\", \"gridwidth\": 2, \"linecolor\": \"white\", \"showbackground\": true, \"ticks\": \"\", \"zerolinecolor\": \"white\"}}, \"shapedefaults\": {\"line\": {\"color\": \"#2a3f5f\"}}, \"ternary\": {\"aaxis\": {\"gridcolor\": \"white\", \"linecolor\": \"white\", \"ticks\": \"\"}, \"baxis\": {\"gridcolor\": \"white\", \"linecolor\": \"white\", \"ticks\": \"\"}, \"bgcolor\": \"#E5ECF6\", \"caxis\": {\"gridcolor\": \"white\", \"linecolor\": \"white\", \"ticks\": \"\"}}, \"title\": {\"x\": 0.05}, \"xaxis\": {\"automargin\": true, \"gridcolor\": \"white\", \"linecolor\": \"white\", \"ticks\": \"\", \"title\": {\"standoff\": 15}, \"zerolinecolor\": \"white\", \"zerolinewidth\": 2}, \"yaxis\": {\"automargin\": true, \"gridcolor\": \"white\", \"linecolor\": \"white\", \"ticks\": \"\", \"title\": {\"standoff\": 15}, \"zerolinecolor\": \"white\", \"zerolinewidth\": 2}}}, \"violinmode\": \"overlay\", \"xaxis\": {\"anchor\": \"y\", \"domain\": [0.0, 1.0], \"title\": {\"text\": \"PayRate\"}}, \"yaxis\": {\"anchor\": \"x\", \"categoryarray\": [\"Needs Improvement\", \"Exceeds\", \"PIP\", \"Fully Meets\"], \"categoryorder\": \"array\", \"domain\": [0.0, 1.0], \"ticktext\": [\"Fully Meets: 243\", \"PIP: 12\", \"Exceeds: 37\", \"Needs Improvement: 18\"], \"tickvals\": [\"Fully Meets\", \"PIP\", \"Exceeds\", \"Needs Improvement\"], \"title\": {\"text\": \"PerformanceScore\"}}},\n",
       "                        {\"responsive\": true}\n",
       "                    ).then(function(){\n",
       "                            \n",
       "var gd = document.getElementById('7303637b-b7da-4c0f-bf13-a2af1f36a0ff');\n",
       "var x = new MutationObserver(function (mutations, observer) {{\n",
       "        var display = window.getComputedStyle(gd).display;\n",
       "        if (!display || display === 'none') {{\n",
       "            console.log([gd, 'removed!']);\n",
       "            Plotly.purge(gd);\n",
       "            observer.disconnect();\n",
       "        }}\n",
       "}});\n",
       "\n",
       "// Listen for the removal of the full notebook cells\n",
       "var notebookContainer = gd.closest('#notebook-container');\n",
       "if (notebookContainer) {{\n",
       "    x.observe(notebookContainer, {childList: true});\n",
       "}}\n",
       "\n",
       "// Listen for the clearing of the current output cell\n",
       "var outputEl = gd.closest('.output');\n",
       "if (outputEl) {{\n",
       "    x.observe(outputEl, {childList: true});\n",
       "}}\n",
       "\n",
       "                        })\n",
       "                };\n",
       "                });\n",
       "            </script>\n",
       "        </div>"
      ]
     },
     "metadata": {},
     "output_type": "display_data"
    }
   ],
   "source": [
    "dept = []\n",
    "for dpt in dpts:\n",
    "    x = hr['PerformanceScore'][hr[\"PerformanceScore\"] == dpt]\n",
    "    dept.append(\": \" + str(len(x)))\n",
    "\n",
    "fig = px.violin(hr,y='PerformanceScore',x='PayRate', color='PerformanceScore',\n",
    "          orientation='h', color_discrete_sequence=colors).update_traces(side='positive',width=2)\n",
    "g = [dpts[i]+dept[i] for i in range(len(dept))]\n",
    "fig.update_yaxes(\n",
    "    ticktext=(g),\n",
    "    tickvals=dpts)\n",
    "fig.show()"
   ]
  },
  {
   "cell_type": "markdown",
   "metadata": {},
   "source": [
    "Basically, pay rate does not really depend on the performance score. This may suggest the influence of the department again. I will test it through scatter plot."
   ]
  },
  {
   "cell_type": "markdown",
   "metadata": {},
   "source": [
    "## Pay rate based on special projects"
   ]
  },
  {
   "cell_type": "markdown",
   "metadata": {},
   "source": [
    "The same assumption as for the box plot holds."
   ]
  },
  {
   "cell_type": "code",
   "execution_count": 69,
   "metadata": {},
   "outputs": [],
   "source": [
    "dpts = sorted(hr.project.unique())\n",
    "data = ([hr[\"PayRate\"][hr.project==i].values for i in name])"
   ]
  },
  {
   "cell_type": "code",
   "execution_count": 70,
   "metadata": {
    "code_folding": [
     2,
     10,
     16
    ],
    "collapsed": true
   },
   "outputs": [
    {
     "data": {
      "application/vnd.plotly.v1+json": {
       "config": {
        "plotlyServerURL": "https://plot.ly"
       },
       "data": [
        {
         "line": {
          "color": "rgb(5.0, 200.0, 200.0)"
         },
         "name": "0 projects",
         "orientation": "h",
         "points": false,
         "side": "positive",
         "type": "violin",
         "width": 2.5,
         "x": [
          55,
          55,
          55,
          56,
          55.5,
          55,
          55.5,
          55,
          55,
          55,
          55,
          54,
          55,
          56,
          55,
          55,
          55,
          55,
          56,
          55,
          56,
          55,
          55,
          57,
          55,
          55,
          55,
          60,
          60,
          80,
          54.5,
          50.5,
          55,
          51,
          54,
          48.5,
          42,
          55,
          53,
          38.5,
          52,
          53,
          55,
          33.5,
          23,
          16,
          21,
          20,
          18,
          16,
          20,
          24,
          15,
          22,
          22,
          24,
          15,
          20,
          21,
          22,
          16,
          24.75,
          22,
          24,
          16,
          16,
          21,
          23,
          15,
          18,
          17,
          16,
          24,
          22,
          17,
          20,
          15,
          16.75,
          19,
          15,
          20,
          17,
          20,
          19,
          17,
          17,
          21,
          22,
          15,
          21,
          22,
          19.5,
          15,
          18,
          22,
          21,
          21,
          20,
          15,
          18,
          20,
          21,
          14,
          15,
          16.76,
          20,
          15.75,
          21.25,
          21,
          24,
          14,
          19,
          15,
          14,
          16,
          16,
          20,
          22,
          21,
          22,
          22,
          22,
          21,
          23,
          17,
          19,
          14,
          17,
          21,
          17,
          16,
          24.5,
          20,
          16,
          22,
          20,
          15,
          17,
          18,
          24,
          21,
          19,
          24,
          18.5,
          19,
          16,
          18,
          14,
          19,
          20,
          18,
          16,
          19.75,
          17,
          19,
          24,
          17,
          19,
          15.25,
          20,
          22,
          21,
          21,
          19,
          20,
          16,
          17,
          22,
          23.5,
          20,
          15,
          19.75,
          22,
          19,
          18,
          24,
          22,
          15.2,
          15,
          23,
          25,
          29,
          23,
          23,
          28,
          22,
          25,
          29,
          25,
          25,
          26,
          29,
          26,
          24.25,
          22,
          27,
          26,
          22,
          26,
          27,
          25,
          26.1,
          26.39,
          22,
          28.75,
          27,
          29,
          24,
          24,
          22,
          26,
          29,
          26,
          24,
          22.5,
          26,
          29,
          22,
          29,
          25,
          27,
          28,
          25,
          22,
          24.25,
          27,
          24,
          28,
          24,
          29,
          23,
          22,
          24,
          28,
          23,
          25,
          23,
          54,
          60.25,
          56,
          55,
          55
         ]
        },
        {
         "line": {
          "color": "rgb(44.0, 162.0, 162.0)"
         },
         "name": "2 or 3 projects",
         "orientation": "h",
         "points": false,
         "side": "positive",
         "type": "violin",
         "width": 2.5,
         "x": [
          52.25,
          34.95,
          34.95
         ]
        },
        {
         "line": {
          "color": "rgb(83.0, 124.0, 124.0)"
         },
         "name": "4 projects",
         "orientation": "h",
         "points": false,
         "side": "positive",
         "type": "violin",
         "width": 2.5,
         "x": [
          23,
          21.5,
          20.5,
          48.5,
          47.6,
          48.5,
          55.51,
          45.42,
          53
         ]
        },
        {
         "line": {
          "color": "rgb(122.0, 86.0, 86.0)"
         },
         "name": "5 projects",
         "orientation": "h",
         "points": false,
         "side": "positive",
         "type": "violin",
         "width": 2.5,
         "x": [
          29,
          16.56,
          45,
          55,
          43,
          40,
          35.5,
          41,
          45,
          31.4,
          65,
          64,
          31.4,
          26,
          27.49,
          39,
          28,
          57.12,
          48,
          27,
          53.8
         ]
        },
        {
         "line": {
          "color": "rgb(161.0, 48.0, 48.0)"
         },
         "name": "6 projects",
         "orientation": "h",
         "points": false,
         "side": "positive",
         "type": "violin",
         "width": 2.5,
         "x": [
          28.5,
          45,
          45,
          65,
          34,
          39.55,
          42.2,
          21,
          63,
          28.99,
          45,
          37,
          43,
          27,
          47,
          52.25,
          56,
          49.25,
          62,
          61.3,
          56.2
         ]
        },
        {
         "line": {
          "color": "rgb(200.0, 10.0, 10.0)"
         },
         "name": "7 or more projects",
         "orientation": "h",
         "points": false,
         "side": "positive",
         "type": "violin",
         "width": 2.5,
         "x": [
          46,
          63.5,
          40.1,
          42.75,
          30.2,
          62,
          42,
          49.1,
          50.25,
          51,
          58.2,
          58.5,
          54.1,
          55.2
         ]
        }
       ],
       "layout": {
        "template": {
         "data": {
          "bar": [
           {
            "error_x": {
             "color": "#2a3f5f"
            },
            "error_y": {
             "color": "#2a3f5f"
            },
            "marker": {
             "line": {
              "color": "#E5ECF6",
              "width": 0.5
             }
            },
            "type": "bar"
           }
          ],
          "barpolar": [
           {
            "marker": {
             "line": {
              "color": "#E5ECF6",
              "width": 0.5
             }
            },
            "type": "barpolar"
           }
          ],
          "carpet": [
           {
            "aaxis": {
             "endlinecolor": "#2a3f5f",
             "gridcolor": "white",
             "linecolor": "white",
             "minorgridcolor": "white",
             "startlinecolor": "#2a3f5f"
            },
            "baxis": {
             "endlinecolor": "#2a3f5f",
             "gridcolor": "white",
             "linecolor": "white",
             "minorgridcolor": "white",
             "startlinecolor": "#2a3f5f"
            },
            "type": "carpet"
           }
          ],
          "choropleth": [
           {
            "colorbar": {
             "outlinewidth": 0,
             "ticks": ""
            },
            "type": "choropleth"
           }
          ],
          "contour": [
           {
            "colorbar": {
             "outlinewidth": 0,
             "ticks": ""
            },
            "colorscale": [
             [
              0,
              "#0d0887"
             ],
             [
              0.1111111111111111,
              "#46039f"
             ],
             [
              0.2222222222222222,
              "#7201a8"
             ],
             [
              0.3333333333333333,
              "#9c179e"
             ],
             [
              0.4444444444444444,
              "#bd3786"
             ],
             [
              0.5555555555555556,
              "#d8576b"
             ],
             [
              0.6666666666666666,
              "#ed7953"
             ],
             [
              0.7777777777777778,
              "#fb9f3a"
             ],
             [
              0.8888888888888888,
              "#fdca26"
             ],
             [
              1,
              "#f0f921"
             ]
            ],
            "type": "contour"
           }
          ],
          "contourcarpet": [
           {
            "colorbar": {
             "outlinewidth": 0,
             "ticks": ""
            },
            "type": "contourcarpet"
           }
          ],
          "heatmap": [
           {
            "colorbar": {
             "outlinewidth": 0,
             "ticks": ""
            },
            "colorscale": [
             [
              0,
              "#0d0887"
             ],
             [
              0.1111111111111111,
              "#46039f"
             ],
             [
              0.2222222222222222,
              "#7201a8"
             ],
             [
              0.3333333333333333,
              "#9c179e"
             ],
             [
              0.4444444444444444,
              "#bd3786"
             ],
             [
              0.5555555555555556,
              "#d8576b"
             ],
             [
              0.6666666666666666,
              "#ed7953"
             ],
             [
              0.7777777777777778,
              "#fb9f3a"
             ],
             [
              0.8888888888888888,
              "#fdca26"
             ],
             [
              1,
              "#f0f921"
             ]
            ],
            "type": "heatmap"
           }
          ],
          "heatmapgl": [
           {
            "colorbar": {
             "outlinewidth": 0,
             "ticks": ""
            },
            "colorscale": [
             [
              0,
              "#0d0887"
             ],
             [
              0.1111111111111111,
              "#46039f"
             ],
             [
              0.2222222222222222,
              "#7201a8"
             ],
             [
              0.3333333333333333,
              "#9c179e"
             ],
             [
              0.4444444444444444,
              "#bd3786"
             ],
             [
              0.5555555555555556,
              "#d8576b"
             ],
             [
              0.6666666666666666,
              "#ed7953"
             ],
             [
              0.7777777777777778,
              "#fb9f3a"
             ],
             [
              0.8888888888888888,
              "#fdca26"
             ],
             [
              1,
              "#f0f921"
             ]
            ],
            "type": "heatmapgl"
           }
          ],
          "histogram": [
           {
            "marker": {
             "colorbar": {
              "outlinewidth": 0,
              "ticks": ""
             }
            },
            "type": "histogram"
           }
          ],
          "histogram2d": [
           {
            "colorbar": {
             "outlinewidth": 0,
             "ticks": ""
            },
            "colorscale": [
             [
              0,
              "#0d0887"
             ],
             [
              0.1111111111111111,
              "#46039f"
             ],
             [
              0.2222222222222222,
              "#7201a8"
             ],
             [
              0.3333333333333333,
              "#9c179e"
             ],
             [
              0.4444444444444444,
              "#bd3786"
             ],
             [
              0.5555555555555556,
              "#d8576b"
             ],
             [
              0.6666666666666666,
              "#ed7953"
             ],
             [
              0.7777777777777778,
              "#fb9f3a"
             ],
             [
              0.8888888888888888,
              "#fdca26"
             ],
             [
              1,
              "#f0f921"
             ]
            ],
            "type": "histogram2d"
           }
          ],
          "histogram2dcontour": [
           {
            "colorbar": {
             "outlinewidth": 0,
             "ticks": ""
            },
            "colorscale": [
             [
              0,
              "#0d0887"
             ],
             [
              0.1111111111111111,
              "#46039f"
             ],
             [
              0.2222222222222222,
              "#7201a8"
             ],
             [
              0.3333333333333333,
              "#9c179e"
             ],
             [
              0.4444444444444444,
              "#bd3786"
             ],
             [
              0.5555555555555556,
              "#d8576b"
             ],
             [
              0.6666666666666666,
              "#ed7953"
             ],
             [
              0.7777777777777778,
              "#fb9f3a"
             ],
             [
              0.8888888888888888,
              "#fdca26"
             ],
             [
              1,
              "#f0f921"
             ]
            ],
            "type": "histogram2dcontour"
           }
          ],
          "mesh3d": [
           {
            "colorbar": {
             "outlinewidth": 0,
             "ticks": ""
            },
            "type": "mesh3d"
           }
          ],
          "parcoords": [
           {
            "line": {
             "colorbar": {
              "outlinewidth": 0,
              "ticks": ""
             }
            },
            "type": "parcoords"
           }
          ],
          "pie": [
           {
            "automargin": true,
            "type": "pie"
           }
          ],
          "scatter": [
           {
            "marker": {
             "colorbar": {
              "outlinewidth": 0,
              "ticks": ""
             }
            },
            "type": "scatter"
           }
          ],
          "scatter3d": [
           {
            "line": {
             "colorbar": {
              "outlinewidth": 0,
              "ticks": ""
             }
            },
            "marker": {
             "colorbar": {
              "outlinewidth": 0,
              "ticks": ""
             }
            },
            "type": "scatter3d"
           }
          ],
          "scattercarpet": [
           {
            "marker": {
             "colorbar": {
              "outlinewidth": 0,
              "ticks": ""
             }
            },
            "type": "scattercarpet"
           }
          ],
          "scattergeo": [
           {
            "marker": {
             "colorbar": {
              "outlinewidth": 0,
              "ticks": ""
             }
            },
            "type": "scattergeo"
           }
          ],
          "scattergl": [
           {
            "marker": {
             "colorbar": {
              "outlinewidth": 0,
              "ticks": ""
             }
            },
            "type": "scattergl"
           }
          ],
          "scattermapbox": [
           {
            "marker": {
             "colorbar": {
              "outlinewidth": 0,
              "ticks": ""
             }
            },
            "type": "scattermapbox"
           }
          ],
          "scatterpolar": [
           {
            "marker": {
             "colorbar": {
              "outlinewidth": 0,
              "ticks": ""
             }
            },
            "type": "scatterpolar"
           }
          ],
          "scatterpolargl": [
           {
            "marker": {
             "colorbar": {
              "outlinewidth": 0,
              "ticks": ""
             }
            },
            "type": "scatterpolargl"
           }
          ],
          "scatterternary": [
           {
            "marker": {
             "colorbar": {
              "outlinewidth": 0,
              "ticks": ""
             }
            },
            "type": "scatterternary"
           }
          ],
          "surface": [
           {
            "colorbar": {
             "outlinewidth": 0,
             "ticks": ""
            },
            "colorscale": [
             [
              0,
              "#0d0887"
             ],
             [
              0.1111111111111111,
              "#46039f"
             ],
             [
              0.2222222222222222,
              "#7201a8"
             ],
             [
              0.3333333333333333,
              "#9c179e"
             ],
             [
              0.4444444444444444,
              "#bd3786"
             ],
             [
              0.5555555555555556,
              "#d8576b"
             ],
             [
              0.6666666666666666,
              "#ed7953"
             ],
             [
              0.7777777777777778,
              "#fb9f3a"
             ],
             [
              0.8888888888888888,
              "#fdca26"
             ],
             [
              1,
              "#f0f921"
             ]
            ],
            "type": "surface"
           }
          ],
          "table": [
           {
            "cells": {
             "fill": {
              "color": "#EBF0F8"
             },
             "line": {
              "color": "white"
             }
            },
            "header": {
             "fill": {
              "color": "#C8D4E3"
             },
             "line": {
              "color": "white"
             }
            },
            "type": "table"
           }
          ]
         },
         "layout": {
          "annotationdefaults": {
           "arrowcolor": "#2a3f5f",
           "arrowhead": 0,
           "arrowwidth": 1
          },
          "coloraxis": {
           "colorbar": {
            "outlinewidth": 0,
            "ticks": ""
           }
          },
          "colorscale": {
           "diverging": [
            [
             0,
             "#8e0152"
            ],
            [
             0.1,
             "#c51b7d"
            ],
            [
             0.2,
             "#de77ae"
            ],
            [
             0.3,
             "#f1b6da"
            ],
            [
             0.4,
             "#fde0ef"
            ],
            [
             0.5,
             "#f7f7f7"
            ],
            [
             0.6,
             "#e6f5d0"
            ],
            [
             0.7,
             "#b8e186"
            ],
            [
             0.8,
             "#7fbc41"
            ],
            [
             0.9,
             "#4d9221"
            ],
            [
             1,
             "#276419"
            ]
           ],
           "sequential": [
            [
             0,
             "#0d0887"
            ],
            [
             0.1111111111111111,
             "#46039f"
            ],
            [
             0.2222222222222222,
             "#7201a8"
            ],
            [
             0.3333333333333333,
             "#9c179e"
            ],
            [
             0.4444444444444444,
             "#bd3786"
            ],
            [
             0.5555555555555556,
             "#d8576b"
            ],
            [
             0.6666666666666666,
             "#ed7953"
            ],
            [
             0.7777777777777778,
             "#fb9f3a"
            ],
            [
             0.8888888888888888,
             "#fdca26"
            ],
            [
             1,
             "#f0f921"
            ]
           ],
           "sequentialminus": [
            [
             0,
             "#0d0887"
            ],
            [
             0.1111111111111111,
             "#46039f"
            ],
            [
             0.2222222222222222,
             "#7201a8"
            ],
            [
             0.3333333333333333,
             "#9c179e"
            ],
            [
             0.4444444444444444,
             "#bd3786"
            ],
            [
             0.5555555555555556,
             "#d8576b"
            ],
            [
             0.6666666666666666,
             "#ed7953"
            ],
            [
             0.7777777777777778,
             "#fb9f3a"
            ],
            [
             0.8888888888888888,
             "#fdca26"
            ],
            [
             1,
             "#f0f921"
            ]
           ]
          },
          "colorway": [
           "#636efa",
           "#EF553B",
           "#00cc96",
           "#ab63fa",
           "#FFA15A",
           "#19d3f3",
           "#FF6692",
           "#B6E880",
           "#FF97FF",
           "#FECB52"
          ],
          "font": {
           "color": "#2a3f5f"
          },
          "geo": {
           "bgcolor": "white",
           "lakecolor": "white",
           "landcolor": "#E5ECF6",
           "showlakes": true,
           "showland": true,
           "subunitcolor": "white"
          },
          "hoverlabel": {
           "align": "left"
          },
          "hovermode": "closest",
          "mapbox": {
           "style": "light"
          },
          "paper_bgcolor": "white",
          "plot_bgcolor": "#E5ECF6",
          "polar": {
           "angularaxis": {
            "gridcolor": "white",
            "linecolor": "white",
            "ticks": ""
           },
           "bgcolor": "#E5ECF6",
           "radialaxis": {
            "gridcolor": "white",
            "linecolor": "white",
            "ticks": ""
           }
          },
          "scene": {
           "xaxis": {
            "backgroundcolor": "#E5ECF6",
            "gridcolor": "white",
            "gridwidth": 2,
            "linecolor": "white",
            "showbackground": true,
            "ticks": "",
            "zerolinecolor": "white"
           },
           "yaxis": {
            "backgroundcolor": "#E5ECF6",
            "gridcolor": "white",
            "gridwidth": 2,
            "linecolor": "white",
            "showbackground": true,
            "ticks": "",
            "zerolinecolor": "white"
           },
           "zaxis": {
            "backgroundcolor": "#E5ECF6",
            "gridcolor": "white",
            "gridwidth": 2,
            "linecolor": "white",
            "showbackground": true,
            "ticks": "",
            "zerolinecolor": "white"
           }
          },
          "shapedefaults": {
           "line": {
            "color": "#2a3f5f"
           }
          },
          "ternary": {
           "aaxis": {
            "gridcolor": "white",
            "linecolor": "white",
            "ticks": ""
           },
           "baxis": {
            "gridcolor": "white",
            "linecolor": "white",
            "ticks": ""
           },
           "bgcolor": "#E5ECF6",
           "caxis": {
            "gridcolor": "white",
            "linecolor": "white",
            "ticks": ""
           }
          },
          "title": {
           "x": 0.05
          },
          "xaxis": {
           "automargin": true,
           "gridcolor": "white",
           "linecolor": "white",
           "ticks": "",
           "title": {
            "standoff": 15
           },
           "zerolinecolor": "white",
           "zerolinewidth": 2
          },
          "yaxis": {
           "automargin": true,
           "gridcolor": "white",
           "linecolor": "white",
           "ticks": "",
           "title": {
            "standoff": 15
           },
           "zerolinecolor": "white",
           "zerolinewidth": 2
          }
         }
        },
        "xaxis": {
         "title": {
          "text": "Pay Rate"
         }
        },
        "yaxis": {
         "ticktext": [
          "0 projects: 242",
          "2 or 3 projects: 3",
          "4 projects: 9",
          "5 projects: 21",
          "6 projects: 21",
          "7 or more projects: 14"
         ],
         "tickvals": [
          "0 projects",
          "2 or 3 projects",
          "4 projects",
          "5 projects",
          "6 projects",
          "7 or more projects"
         ],
         "zeroline": false
        }
       }
      },
      "text/html": [
       "<div>\n",
       "        \n",
       "        \n",
       "            <div id=\"0f3cb231-247e-4f76-87e2-fb33f59751e3\" class=\"plotly-graph-div\" style=\"height:525px; width:100%;\"></div>\n",
       "            <script type=\"text/javascript\">\n",
       "                require([\"plotly\"], function(Plotly) {\n",
       "                    window.PLOTLYENV=window.PLOTLYENV || {};\n",
       "                    \n",
       "                if (document.getElementById(\"0f3cb231-247e-4f76-87e2-fb33f59751e3\")) {\n",
       "                    Plotly.newPlot(\n",
       "                        '0f3cb231-247e-4f76-87e2-fb33f59751e3',\n",
       "                        [{\"line\": {\"color\": \"rgb(5.0, 200.0, 200.0)\"}, \"name\": \"0 projects\", \"orientation\": \"h\", \"points\": false, \"side\": \"positive\", \"type\": \"violin\", \"width\": 2.5, \"x\": [55.0, 55.0, 55.0, 56.0, 55.5, 55.0, 55.5, 55.0, 55.0, 55.0, 55.0, 54.0, 55.0, 56.0, 55.0, 55.0, 55.0, 55.0, 56.0, 55.0, 56.0, 55.0, 55.0, 57.0, 55.0, 55.0, 55.0, 60.0, 60.0, 80.0, 54.5, 50.5, 55.0, 51.0, 54.0, 48.5, 42.0, 55.0, 53.0, 38.5, 52.0, 53.0, 55.0, 33.5, 23.0, 16.0, 21.0, 20.0, 18.0, 16.0, 20.0, 24.0, 15.0, 22.0, 22.0, 24.0, 15.0, 20.0, 21.0, 22.0, 16.0, 24.75, 22.0, 24.0, 16.0, 16.0, 21.0, 23.0, 15.0, 18.0, 17.0, 16.0, 24.0, 22.0, 17.0, 20.0, 15.0, 16.75, 19.0, 15.0, 20.0, 17.0, 20.0, 19.0, 17.0, 17.0, 21.0, 22.0, 15.0, 21.0, 22.0, 19.5, 15.0, 18.0, 22.0, 21.0, 21.0, 20.0, 15.0, 18.0, 20.0, 21.0, 14.0, 15.0, 16.76, 20.0, 15.75, 21.25, 21.0, 24.0, 14.0, 19.0, 15.0, 14.0, 16.0, 16.0, 20.0, 22.0, 21.0, 22.0, 22.0, 22.0, 21.0, 23.0, 17.0, 19.0, 14.0, 17.0, 21.0, 17.0, 16.0, 24.5, 20.0, 16.0, 22.0, 20.0, 15.0, 17.0, 18.0, 24.0, 21.0, 19.0, 24.0, 18.5, 19.0, 16.0, 18.0, 14.0, 19.0, 20.0, 18.0, 16.0, 19.75, 17.0, 19.0, 24.0, 17.0, 19.0, 15.25, 20.0, 22.0, 21.0, 21.0, 19.0, 20.0, 16.0, 17.0, 22.0, 23.5, 20.0, 15.0, 19.75, 22.0, 19.0, 18.0, 24.0, 22.0, 15.2, 15.0, 23.0, 25.0, 29.0, 23.0, 23.0, 28.0, 22.0, 25.0, 29.0, 25.0, 25.0, 26.0, 29.0, 26.0, 24.25, 22.0, 27.0, 26.0, 22.0, 26.0, 27.0, 25.0, 26.1, 26.39, 22.0, 28.75, 27.0, 29.0, 24.0, 24.0, 22.0, 26.0, 29.0, 26.0, 24.0, 22.5, 26.0, 29.0, 22.0, 29.0, 25.0, 27.0, 28.0, 25.0, 22.0, 24.25, 27.0, 24.0, 28.0, 24.0, 29.0, 23.0, 22.0, 24.0, 28.0, 23.0, 25.0, 23.0, 54.0, 60.25, 56.0, 55.0, 55.0]}, {\"line\": {\"color\": \"rgb(44.0, 162.0, 162.0)\"}, \"name\": \"2 or 3 projects\", \"orientation\": \"h\", \"points\": false, \"side\": \"positive\", \"type\": \"violin\", \"width\": 2.5, \"x\": [52.25, 34.95, 34.95]}, {\"line\": {\"color\": \"rgb(83.0, 124.0, 124.0)\"}, \"name\": \"4 projects\", \"orientation\": \"h\", \"points\": false, \"side\": \"positive\", \"type\": \"violin\", \"width\": 2.5, \"x\": [23.0, 21.5, 20.5, 48.5, 47.6, 48.5, 55.51, 45.42, 53.0]}, {\"line\": {\"color\": \"rgb(122.0, 86.0, 86.0)\"}, \"name\": \"5 projects\", \"orientation\": \"h\", \"points\": false, \"side\": \"positive\", \"type\": \"violin\", \"width\": 2.5, \"x\": [29.0, 16.56, 45.0, 55.0, 43.0, 40.0, 35.5, 41.0, 45.0, 31.4, 65.0, 64.0, 31.4, 26.0, 27.49, 39.0, 28.0, 57.12, 48.0, 27.0, 53.8]}, {\"line\": {\"color\": \"rgb(161.0, 48.0, 48.0)\"}, \"name\": \"6 projects\", \"orientation\": \"h\", \"points\": false, \"side\": \"positive\", \"type\": \"violin\", \"width\": 2.5, \"x\": [28.5, 45.0, 45.0, 65.0, 34.0, 39.55, 42.2, 21.0, 63.0, 28.99, 45.0, 37.0, 43.0, 27.0, 47.0, 52.25, 56.0, 49.25, 62.0, 61.3, 56.2]}, {\"line\": {\"color\": \"rgb(200.0, 10.0, 10.0)\"}, \"name\": \"7 or more projects\", \"orientation\": \"h\", \"points\": false, \"side\": \"positive\", \"type\": \"violin\", \"width\": 2.5, \"x\": [46.0, 63.5, 40.1, 42.75, 30.2, 62.0, 42.0, 49.1, 50.25, 51.0, 58.2, 58.5, 54.1, 55.2]}],\n",
       "                        {\"template\": {\"data\": {\"bar\": [{\"error_x\": {\"color\": \"#2a3f5f\"}, \"error_y\": {\"color\": \"#2a3f5f\"}, \"marker\": {\"line\": {\"color\": \"#E5ECF6\", \"width\": 0.5}}, \"type\": \"bar\"}], \"barpolar\": [{\"marker\": {\"line\": {\"color\": \"#E5ECF6\", \"width\": 0.5}}, \"type\": \"barpolar\"}], \"carpet\": [{\"aaxis\": {\"endlinecolor\": \"#2a3f5f\", \"gridcolor\": \"white\", \"linecolor\": \"white\", \"minorgridcolor\": \"white\", \"startlinecolor\": \"#2a3f5f\"}, \"baxis\": {\"endlinecolor\": \"#2a3f5f\", \"gridcolor\": \"white\", \"linecolor\": \"white\", \"minorgridcolor\": \"white\", \"startlinecolor\": \"#2a3f5f\"}, \"type\": \"carpet\"}], \"choropleth\": [{\"colorbar\": {\"outlinewidth\": 0, \"ticks\": \"\"}, \"type\": \"choropleth\"}], \"contour\": [{\"colorbar\": {\"outlinewidth\": 0, \"ticks\": \"\"}, \"colorscale\": [[0.0, \"#0d0887\"], [0.1111111111111111, \"#46039f\"], [0.2222222222222222, \"#7201a8\"], [0.3333333333333333, \"#9c179e\"], [0.4444444444444444, \"#bd3786\"], [0.5555555555555556, \"#d8576b\"], [0.6666666666666666, \"#ed7953\"], [0.7777777777777778, \"#fb9f3a\"], [0.8888888888888888, \"#fdca26\"], [1.0, \"#f0f921\"]], \"type\": \"contour\"}], \"contourcarpet\": [{\"colorbar\": {\"outlinewidth\": 0, \"ticks\": \"\"}, \"type\": \"contourcarpet\"}], \"heatmap\": [{\"colorbar\": {\"outlinewidth\": 0, \"ticks\": \"\"}, \"colorscale\": [[0.0, \"#0d0887\"], [0.1111111111111111, \"#46039f\"], [0.2222222222222222, \"#7201a8\"], [0.3333333333333333, \"#9c179e\"], [0.4444444444444444, \"#bd3786\"], [0.5555555555555556, \"#d8576b\"], [0.6666666666666666, \"#ed7953\"], [0.7777777777777778, \"#fb9f3a\"], [0.8888888888888888, \"#fdca26\"], [1.0, \"#f0f921\"]], \"type\": \"heatmap\"}], \"heatmapgl\": [{\"colorbar\": {\"outlinewidth\": 0, \"ticks\": \"\"}, \"colorscale\": [[0.0, \"#0d0887\"], [0.1111111111111111, \"#46039f\"], [0.2222222222222222, \"#7201a8\"], [0.3333333333333333, \"#9c179e\"], [0.4444444444444444, \"#bd3786\"], [0.5555555555555556, \"#d8576b\"], [0.6666666666666666, \"#ed7953\"], [0.7777777777777778, \"#fb9f3a\"], [0.8888888888888888, \"#fdca26\"], [1.0, \"#f0f921\"]], \"type\": \"heatmapgl\"}], \"histogram\": [{\"marker\": {\"colorbar\": {\"outlinewidth\": 0, \"ticks\": \"\"}}, \"type\": \"histogram\"}], \"histogram2d\": [{\"colorbar\": {\"outlinewidth\": 0, \"ticks\": \"\"}, \"colorscale\": [[0.0, \"#0d0887\"], [0.1111111111111111, \"#46039f\"], [0.2222222222222222, \"#7201a8\"], [0.3333333333333333, \"#9c179e\"], [0.4444444444444444, \"#bd3786\"], [0.5555555555555556, \"#d8576b\"], [0.6666666666666666, \"#ed7953\"], [0.7777777777777778, \"#fb9f3a\"], [0.8888888888888888, \"#fdca26\"], [1.0, \"#f0f921\"]], \"type\": \"histogram2d\"}], \"histogram2dcontour\": [{\"colorbar\": {\"outlinewidth\": 0, \"ticks\": \"\"}, \"colorscale\": [[0.0, \"#0d0887\"], [0.1111111111111111, \"#46039f\"], [0.2222222222222222, \"#7201a8\"], [0.3333333333333333, \"#9c179e\"], [0.4444444444444444, \"#bd3786\"], [0.5555555555555556, \"#d8576b\"], [0.6666666666666666, \"#ed7953\"], [0.7777777777777778, \"#fb9f3a\"], [0.8888888888888888, \"#fdca26\"], [1.0, \"#f0f921\"]], \"type\": \"histogram2dcontour\"}], \"mesh3d\": [{\"colorbar\": {\"outlinewidth\": 0, \"ticks\": \"\"}, \"type\": \"mesh3d\"}], \"parcoords\": [{\"line\": {\"colorbar\": {\"outlinewidth\": 0, \"ticks\": \"\"}}, \"type\": \"parcoords\"}], \"pie\": [{\"automargin\": true, \"type\": \"pie\"}], \"scatter\": [{\"marker\": {\"colorbar\": {\"outlinewidth\": 0, \"ticks\": \"\"}}, \"type\": \"scatter\"}], \"scatter3d\": [{\"line\": {\"colorbar\": {\"outlinewidth\": 0, \"ticks\": \"\"}}, \"marker\": {\"colorbar\": {\"outlinewidth\": 0, \"ticks\": \"\"}}, \"type\": \"scatter3d\"}], \"scattercarpet\": [{\"marker\": {\"colorbar\": {\"outlinewidth\": 0, \"ticks\": \"\"}}, \"type\": \"scattercarpet\"}], \"scattergeo\": [{\"marker\": {\"colorbar\": {\"outlinewidth\": 0, \"ticks\": \"\"}}, \"type\": \"scattergeo\"}], \"scattergl\": [{\"marker\": {\"colorbar\": {\"outlinewidth\": 0, \"ticks\": \"\"}}, \"type\": \"scattergl\"}], \"scattermapbox\": [{\"marker\": {\"colorbar\": {\"outlinewidth\": 0, \"ticks\": \"\"}}, \"type\": \"scattermapbox\"}], \"scatterpolar\": [{\"marker\": {\"colorbar\": {\"outlinewidth\": 0, \"ticks\": \"\"}}, \"type\": \"scatterpolar\"}], \"scatterpolargl\": [{\"marker\": {\"colorbar\": {\"outlinewidth\": 0, \"ticks\": \"\"}}, \"type\": \"scatterpolargl\"}], \"scatterternary\": [{\"marker\": {\"colorbar\": {\"outlinewidth\": 0, \"ticks\": \"\"}}, \"type\": \"scatterternary\"}], \"surface\": [{\"colorbar\": {\"outlinewidth\": 0, \"ticks\": \"\"}, \"colorscale\": [[0.0, \"#0d0887\"], [0.1111111111111111, \"#46039f\"], [0.2222222222222222, \"#7201a8\"], [0.3333333333333333, \"#9c179e\"], [0.4444444444444444, \"#bd3786\"], [0.5555555555555556, \"#d8576b\"], [0.6666666666666666, \"#ed7953\"], [0.7777777777777778, \"#fb9f3a\"], [0.8888888888888888, \"#fdca26\"], [1.0, \"#f0f921\"]], \"type\": \"surface\"}], \"table\": [{\"cells\": {\"fill\": {\"color\": \"#EBF0F8\"}, \"line\": {\"color\": \"white\"}}, \"header\": {\"fill\": {\"color\": \"#C8D4E3\"}, \"line\": {\"color\": \"white\"}}, \"type\": \"table\"}]}, \"layout\": {\"annotationdefaults\": {\"arrowcolor\": \"#2a3f5f\", \"arrowhead\": 0, \"arrowwidth\": 1}, \"coloraxis\": {\"colorbar\": {\"outlinewidth\": 0, \"ticks\": \"\"}}, \"colorscale\": {\"diverging\": [[0, \"#8e0152\"], [0.1, \"#c51b7d\"], [0.2, \"#de77ae\"], [0.3, \"#f1b6da\"], [0.4, \"#fde0ef\"], [0.5, \"#f7f7f7\"], [0.6, \"#e6f5d0\"], [0.7, \"#b8e186\"], [0.8, \"#7fbc41\"], [0.9, \"#4d9221\"], [1, \"#276419\"]], \"sequential\": [[0.0, \"#0d0887\"], [0.1111111111111111, \"#46039f\"], [0.2222222222222222, \"#7201a8\"], [0.3333333333333333, \"#9c179e\"], [0.4444444444444444, \"#bd3786\"], [0.5555555555555556, \"#d8576b\"], [0.6666666666666666, \"#ed7953\"], [0.7777777777777778, \"#fb9f3a\"], [0.8888888888888888, \"#fdca26\"], [1.0, \"#f0f921\"]], \"sequentialminus\": [[0.0, \"#0d0887\"], [0.1111111111111111, \"#46039f\"], [0.2222222222222222, \"#7201a8\"], [0.3333333333333333, \"#9c179e\"], [0.4444444444444444, \"#bd3786\"], [0.5555555555555556, \"#d8576b\"], [0.6666666666666666, \"#ed7953\"], [0.7777777777777778, \"#fb9f3a\"], [0.8888888888888888, \"#fdca26\"], [1.0, \"#f0f921\"]]}, \"colorway\": [\"#636efa\", \"#EF553B\", \"#00cc96\", \"#ab63fa\", \"#FFA15A\", \"#19d3f3\", \"#FF6692\", \"#B6E880\", \"#FF97FF\", \"#FECB52\"], \"font\": {\"color\": \"#2a3f5f\"}, \"geo\": {\"bgcolor\": \"white\", \"lakecolor\": \"white\", \"landcolor\": \"#E5ECF6\", \"showlakes\": true, \"showland\": true, \"subunitcolor\": \"white\"}, \"hoverlabel\": {\"align\": \"left\"}, \"hovermode\": \"closest\", \"mapbox\": {\"style\": \"light\"}, \"paper_bgcolor\": \"white\", \"plot_bgcolor\": \"#E5ECF6\", \"polar\": {\"angularaxis\": {\"gridcolor\": \"white\", \"linecolor\": \"white\", \"ticks\": \"\"}, \"bgcolor\": \"#E5ECF6\", \"radialaxis\": {\"gridcolor\": \"white\", \"linecolor\": \"white\", \"ticks\": \"\"}}, \"scene\": {\"xaxis\": {\"backgroundcolor\": \"#E5ECF6\", \"gridcolor\": \"white\", \"gridwidth\": 2, \"linecolor\": \"white\", \"showbackground\": true, \"ticks\": \"\", \"zerolinecolor\": \"white\"}, \"yaxis\": {\"backgroundcolor\": \"#E5ECF6\", \"gridcolor\": \"white\", \"gridwidth\": 2, \"linecolor\": \"white\", \"showbackground\": true, \"ticks\": \"\", \"zerolinecolor\": \"white\"}, \"zaxis\": {\"backgroundcolor\": \"#E5ECF6\", \"gridcolor\": \"white\", \"gridwidth\": 2, \"linecolor\": \"white\", \"showbackground\": true, \"ticks\": \"\", \"zerolinecolor\": \"white\"}}, \"shapedefaults\": {\"line\": {\"color\": \"#2a3f5f\"}}, \"ternary\": {\"aaxis\": {\"gridcolor\": \"white\", \"linecolor\": \"white\", \"ticks\": \"\"}, \"baxis\": {\"gridcolor\": \"white\", \"linecolor\": \"white\", \"ticks\": \"\"}, \"bgcolor\": \"#E5ECF6\", \"caxis\": {\"gridcolor\": \"white\", \"linecolor\": \"white\", \"ticks\": \"\"}}, \"title\": {\"x\": 0.05}, \"xaxis\": {\"automargin\": true, \"gridcolor\": \"white\", \"linecolor\": \"white\", \"ticks\": \"\", \"title\": {\"standoff\": 15}, \"zerolinecolor\": \"white\", \"zerolinewidth\": 2}, \"yaxis\": {\"automargin\": true, \"gridcolor\": \"white\", \"linecolor\": \"white\", \"ticks\": \"\", \"title\": {\"standoff\": 15}, \"zerolinecolor\": \"white\", \"zerolinewidth\": 2}}}, \"xaxis\": {\"title\": {\"text\": \"Pay Rate\"}}, \"yaxis\": {\"ticktext\": [\"0 projects: 242\", \"2 or 3 projects: 3\", \"4 projects: 9\", \"5 projects: 21\", \"6 projects: 21\", \"7 or more projects: 14\"], \"tickvals\": [\"0 projects\", \"2 or 3 projects\", \"4 projects\", \"5 projects\", \"6 projects\", \"7 or more projects\"], \"zeroline\": false}},\n",
       "                        {\"responsive\": true}\n",
       "                    ).then(function(){\n",
       "                            \n",
       "var gd = document.getElementById('0f3cb231-247e-4f76-87e2-fb33f59751e3');\n",
       "var x = new MutationObserver(function (mutations, observer) {{\n",
       "        var display = window.getComputedStyle(gd).display;\n",
       "        if (!display || display === 'none') {{\n",
       "            console.log([gd, 'removed!']);\n",
       "            Plotly.purge(gd);\n",
       "            observer.disconnect();\n",
       "        }}\n",
       "}});\n",
       "\n",
       "// Listen for the removal of the full notebook cells\n",
       "var notebookContainer = gd.closest('#notebook-container');\n",
       "if (notebookContainer) {{\n",
       "    x.observe(notebookContainer, {childList: true});\n",
       "}}\n",
       "\n",
       "// Listen for the clearing of the current output cell\n",
       "var outputEl = gd.closest('.output');\n",
       "if (outputEl) {{\n",
       "    x.observe(outputEl, {childList: true});\n",
       "}}\n",
       "\n",
       "                        })\n",
       "                };\n",
       "                });\n",
       "            </script>\n",
       "        </div>"
      ]
     },
     "metadata": {},
     "output_type": "display_data"
    }
   ],
   "source": [
    "dpts = name\n",
    "dept = []\n",
    "for dpt in dpts:\n",
    "    x = hr['project'][hr['project'] == dpt]\n",
    "    dept.append(\": \" + str(len(x)))\n",
    "from plotly.colors import n_colors\n",
    "colors = n_colors('rgb(5, 200, 200)', 'rgb(200, 10, 10)', 6, colortype='rgb')\n",
    "\n",
    "fig = go.Figure()\n",
    "i = 0\n",
    "for data_line, color in zip(data, colors):\n",
    "    fig.add_trace(go.Violin(x=data_line, name=name[i], line_color=color))\n",
    "    i += 1\n",
    "fig.update_traces(orientation='h', side='positive', width=2.5, points=False)\n",
    "fig.update_layout(yaxis_zeroline=False, xaxis=dict(title='Pay Rate'))\n",
    "g = [dpts[i]+dept[i] for i in range(len(dept))]\n",
    "fig.update_yaxes(\n",
    "    ticktext=(g),\n",
    "    tickvals=dpts)\n",
    "fig.show()"
   ]
  },
  {
   "cell_type": "markdown",
   "metadata": {},
   "source": [
    "The ridgeline plot provides the same information as the violin plot does."
   ]
  },
  {
   "cell_type": "code",
   "execution_count": null,
   "metadata": {},
   "outputs": [],
   "source": []
  }
 ],
 "metadata": {
  "kernelspec": {
   "display_name": "Python 3",
   "language": "python",
   "name": "python3"
  },
  "language_info": {
   "codemirror_mode": {
    "name": "ipython",
    "version": 3
   },
   "file_extension": ".py",
   "mimetype": "text/x-python",
   "name": "python",
   "nbconvert_exporter": "python",
   "pygments_lexer": "ipython3",
   "version": "3.7.7"
  },
  "toc": {
   "base_numbering": 1,
   "nav_menu": {},
   "number_sections": false,
   "sideBar": true,
   "skip_h1_title": false,
   "title_cell": "Table of Contents",
   "title_sidebar": "Contents",
   "toc_cell": false,
   "toc_position": {
    "height": "calc(100% - 180px)",
    "left": "10px",
    "top": "150px",
    "width": "384px"
   },
   "toc_section_display": true,
   "toc_window_display": true
  },
  "widgets": {
   "application/vnd.jupyter.widget-state+json": {
    "state": {},
    "version_major": 2,
    "version_minor": 0
   }
  }
 },
 "nbformat": 4,
 "nbformat_minor": 4
}
